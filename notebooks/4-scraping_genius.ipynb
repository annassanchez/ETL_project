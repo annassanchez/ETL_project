{
 "cells": [
  {
   "cell_type": "code",
   "execution_count": 2,
   "metadata": {},
   "outputs": [],
   "source": [
    "import requests\n",
    "import pandas as pd\n",
    "from time import sleep\n",
    "import numpy as np\n",
    "from tqdm import tqdm\n",
    "import os\n",
    "import pickle\n",
    "import re\n",
    "from bs4 import BeautifulSoup\n",
    "\n",
    "from selenium import webdriver\n",
    "from webdriver_manager.chrome import ChromeDriverManager\n",
    "from selenium.webdriver.common.keys import Keys\n",
    "from selenium.webdriver.chrome.options import Options\n",
    "import numpy as np\n",
    "from IPython.display import clear_output\n",
    "\n",
    "import warnings\n",
    "warnings.filterwarnings('ignore')"
   ]
  },
  {
   "attachments": {},
   "cell_type": "markdown",
   "metadata": {},
   "source": [
    "# Importing pickle file"
   ]
  },
  {
   "cell_type": "code",
   "execution_count": 3,
   "metadata": {},
   "outputs": [],
   "source": [
    "##cambiar a artist\n",
    "with open('../data/pickle/artist.pickle', 'rb') as tracks:\n",
    "    tracks = pickle.load(tracks)"
   ]
  },
  {
   "cell_type": "code",
   "execution_count": 4,
   "metadata": {},
   "outputs": [
    {
     "data": {
      "text/html": [
       "<div>\n",
       "<style scoped>\n",
       "    .dataframe tbody tr th:only-of-type {\n",
       "        vertical-align: middle;\n",
       "    }\n",
       "\n",
       "    .dataframe tbody tr th {\n",
       "        vertical-align: top;\n",
       "    }\n",
       "\n",
       "    .dataframe thead th {\n",
       "        text-align: right;\n",
       "    }\n",
       "</style>\n",
       "<table border=\"1\" class=\"dataframe\">\n",
       "  <thead>\n",
       "    <tr style=\"text-align: right;\">\n",
       "      <th></th>\n",
       "      <th>url</th>\n",
       "      <th>artist_clean</th>\n",
       "      <th>track_clean</th>\n",
       "    </tr>\n",
       "  </thead>\n",
       "  <tbody>\n",
       "    <tr>\n",
       "      <th>0</th>\n",
       "      <td>https://open.spotify.com/track/4Km5HrUvYTaSUfi...</td>\n",
       "      <td>migos</td>\n",
       "      <td>bad and boujee (feat. lil uzi vert)</td>\n",
       "    </tr>\n",
       "    <tr>\n",
       "      <th>1</th>\n",
       "      <td>https://open.spotify.com/track/343YBumqHu19cGo...</td>\n",
       "      <td>drake</td>\n",
       "      <td>fake love</td>\n",
       "    </tr>\n",
       "    <tr>\n",
       "      <th>2</th>\n",
       "      <td>https://open.spotify.com/track/5aAx2yezTd8zXrk...</td>\n",
       "      <td>the weeknd, daft punk</td>\n",
       "      <td>starboy</td>\n",
       "    </tr>\n",
       "    <tr>\n",
       "      <th>3</th>\n",
       "      <td>https://open.spotify.com/track/7BKLCZ1jbUBVqRi...</td>\n",
       "      <td>the chainsmokers, halsey</td>\n",
       "      <td>closer</td>\n",
       "    </tr>\n",
       "    <tr>\n",
       "      <th>4</th>\n",
       "      <td>https://open.spotify.com/track/6fujklziTHa8uoM...</td>\n",
       "      <td>rae sremmurd, gucci mane</td>\n",
       "      <td>black beatles</td>\n",
       "    </tr>\n",
       "  </tbody>\n",
       "</table>\n",
       "</div>"
      ],
      "text/plain": [
       "                                                 url  \\\n",
       "0  https://open.spotify.com/track/4Km5HrUvYTaSUfi...   \n",
       "1  https://open.spotify.com/track/343YBumqHu19cGo...   \n",
       "2  https://open.spotify.com/track/5aAx2yezTd8zXrk...   \n",
       "3  https://open.spotify.com/track/7BKLCZ1jbUBVqRi...   \n",
       "4  https://open.spotify.com/track/6fujklziTHa8uoM...   \n",
       "\n",
       "               artist_clean                          track_clean  \n",
       "0                     migos  bad and boujee (feat. lil uzi vert)  \n",
       "1                     drake                            fake love  \n",
       "2     the weeknd, daft punk                              starboy  \n",
       "3  the chainsmokers, halsey                               closer  \n",
       "4  rae sremmurd, gucci mane                        black beatles  "
      ]
     },
     "execution_count": 4,
     "metadata": {},
     "output_type": "execute_result"
    }
   ],
   "source": [
    "tracks.head()"
   ]
  },
  {
   "cell_type": "code",
   "execution_count": 5,
   "metadata": {},
   "outputs": [
    {
     "data": {
      "text/html": [
       "<div>\n",
       "<style scoped>\n",
       "    .dataframe tbody tr th:only-of-type {\n",
       "        vertical-align: middle;\n",
       "    }\n",
       "\n",
       "    .dataframe tbody tr th {\n",
       "        vertical-align: top;\n",
       "    }\n",
       "\n",
       "    .dataframe thead th {\n",
       "        text-align: right;\n",
       "    }\n",
       "</style>\n",
       "<table border=\"1\" class=\"dataframe\">\n",
       "  <thead>\n",
       "    <tr style=\"text-align: right;\">\n",
       "      <th></th>\n",
       "      <th>index</th>\n",
       "      <th>url</th>\n",
       "      <th>artist</th>\n",
       "      <th>track</th>\n",
       "    </tr>\n",
       "  </thead>\n",
       "  <tbody>\n",
       "    <tr>\n",
       "      <th>0</th>\n",
       "      <td>0</td>\n",
       "      <td>https://open.spotify.com/track/4Km5HrUvYTaSUfi...</td>\n",
       "      <td>migos</td>\n",
       "      <td>bad and boujee (feat. lil uzi vert)</td>\n",
       "    </tr>\n",
       "    <tr>\n",
       "      <th>1</th>\n",
       "      <td>1</td>\n",
       "      <td>https://open.spotify.com/track/343YBumqHu19cGo...</td>\n",
       "      <td>drake</td>\n",
       "      <td>fake love</td>\n",
       "    </tr>\n",
       "    <tr>\n",
       "      <th>2</th>\n",
       "      <td>2</td>\n",
       "      <td>https://open.spotify.com/track/5aAx2yezTd8zXrk...</td>\n",
       "      <td>the weeknd, daft punk</td>\n",
       "      <td>starboy</td>\n",
       "    </tr>\n",
       "    <tr>\n",
       "      <th>3</th>\n",
       "      <td>3</td>\n",
       "      <td>https://open.spotify.com/track/7BKLCZ1jbUBVqRi...</td>\n",
       "      <td>the chainsmokers, halsey</td>\n",
       "      <td>closer</td>\n",
       "    </tr>\n",
       "    <tr>\n",
       "      <th>4</th>\n",
       "      <td>4</td>\n",
       "      <td>https://open.spotify.com/track/6fujklziTHa8uoM...</td>\n",
       "      <td>rae sremmurd, gucci mane</td>\n",
       "      <td>black beatles</td>\n",
       "    </tr>\n",
       "  </tbody>\n",
       "</table>\n",
       "</div>"
      ],
      "text/plain": [
       "   index                                                url  \\\n",
       "0      0  https://open.spotify.com/track/4Km5HrUvYTaSUfi...   \n",
       "1      1  https://open.spotify.com/track/343YBumqHu19cGo...   \n",
       "2      2  https://open.spotify.com/track/5aAx2yezTd8zXrk...   \n",
       "3      3  https://open.spotify.com/track/7BKLCZ1jbUBVqRi...   \n",
       "4      4  https://open.spotify.com/track/6fujklziTHa8uoM...   \n",
       "\n",
       "                     artist                                track  \n",
       "0                     migos  bad and boujee (feat. lil uzi vert)  \n",
       "1                     drake                            fake love  \n",
       "2     the weeknd, daft punk                              starboy  \n",
       "3  the chainsmokers, halsey                               closer  \n",
       "4  rae sremmurd, gucci mane                        black beatles  "
      ]
     },
     "execution_count": 5,
     "metadata": {},
     "output_type": "execute_result"
    }
   ],
   "source": [
    "tracks.rename(columns={'track_clean':'track','artist_clean':'artist'}, inplace=True)\n",
    "tracks.reset_index(inplace=True)\n",
    "tracks.head()"
   ]
  },
  {
   "attachments": {},
   "cell_type": "markdown",
   "metadata": {},
   "source": [
    "# Beautiful soup + selenium"
   ]
  },
  {
   "attachments": {},
   "cell_type": "markdown",
   "metadata": {},
   "source": [
    "To get the info, this script combines selenium to access and search for the different songs and beautifulSoup to get the text info from the tracks."
   ]
  },
  {
   "cell_type": "code",
   "execution_count": null,
   "metadata": {},
   "outputs": [],
   "source": [
    "almacen_paginas = {\n",
    "    'pagina' : [], \n",
    "    'lyrics':[],\n",
    "    'featuring' : [],\n",
    "    'produced_by': [],\n",
    "    'label': [],\n",
    "    'written by': [],\n",
    "    'drums': [],\n",
    "    'guitar': [],\n",
    "    'recorded_at' : [],\n",
    "    'release_date':[],\n",
    "    'url':[]\n",
    "}"
   ]
  },
  {
   "cell_type": "code",
   "execution_count": 6,
   "metadata": {},
   "outputs": [],
   "source": [
    "with open('../data/pickle/genius_lyrics.pickle', 'rb') as almacen_paginas:\n",
    "    almacen_paginas = pickle.load(almacen_paginas)"
   ]
  },
  {
   "cell_type": "code",
   "execution_count": 7,
   "metadata": {},
   "outputs": [
    {
     "data": {
      "text/html": [
       "<div>\n",
       "<style scoped>\n",
       "    .dataframe tbody tr th:only-of-type {\n",
       "        vertical-align: middle;\n",
       "    }\n",
       "\n",
       "    .dataframe tbody tr th {\n",
       "        vertical-align: top;\n",
       "    }\n",
       "\n",
       "    .dataframe thead th {\n",
       "        text-align: right;\n",
       "    }\n",
       "</style>\n",
       "<table border=\"1\" class=\"dataframe\">\n",
       "  <thead>\n",
       "    <tr style=\"text-align: right;\">\n",
       "      <th></th>\n",
       "      <th>index</th>\n",
       "      <th>url</th>\n",
       "      <th>artist</th>\n",
       "      <th>track</th>\n",
       "    </tr>\n",
       "  </thead>\n",
       "  <tbody>\n",
       "    <tr>\n",
       "      <th>0</th>\n",
       "      <td>240831</td>\n",
       "      <td>https://open.spotify.com/track/3ax8cEat0njZGZH...</td>\n",
       "      <td>high n wild</td>\n",
       "      <td>this time</td>\n",
       "    </tr>\n",
       "    <tr>\n",
       "      <th>1</th>\n",
       "      <td>240832</td>\n",
       "      <td>https://open.spotify.com/track/1gng5xQBiYCVDkH...</td>\n",
       "      <td>street rappers</td>\n",
       "      <td>estamos bien</td>\n",
       "    </tr>\n",
       "    <tr>\n",
       "      <th>2</th>\n",
       "      <td>240889</td>\n",
       "      <td>https://open.spotify.com/track/6E1uX1WP8VtxXfH...</td>\n",
       "      <td>natalie</td>\n",
       "      <td>blue jungle</td>\n",
       "    </tr>\n",
       "    <tr>\n",
       "      <th>3</th>\n",
       "      <td>240903</td>\n",
       "      <td>https://open.spotify.com/track/6Yp1rojKvcWzLKV...</td>\n",
       "      <td>cigarettes after sex</td>\n",
       "      <td>crush</td>\n",
       "    </tr>\n",
       "    <tr>\n",
       "      <th>4</th>\n",
       "      <td>241090</td>\n",
       "      <td>https://open.spotify.com/track/6pwWIKw85UcUz83...</td>\n",
       "      <td>dr stiig</td>\n",
       "      <td>spooky scary skeletons (remix)</td>\n",
       "    </tr>\n",
       "  </tbody>\n",
       "</table>\n",
       "</div>"
      ],
      "text/plain": [
       "    index                                                url  \\\n",
       "0  240831  https://open.spotify.com/track/3ax8cEat0njZGZH...   \n",
       "1  240832  https://open.spotify.com/track/1gng5xQBiYCVDkH...   \n",
       "2  240889  https://open.spotify.com/track/6E1uX1WP8VtxXfH...   \n",
       "3  240903  https://open.spotify.com/track/6Yp1rojKvcWzLKV...   \n",
       "4  241090  https://open.spotify.com/track/6pwWIKw85UcUz83...   \n",
       "\n",
       "                 artist                           track  \n",
       "0           high n wild                       this time  \n",
       "1        street rappers                    estamos bien  \n",
       "2               natalie                     blue jungle  \n",
       "3  cigarettes after sex                           crush  \n",
       "4              dr stiig  spooky scary skeletons (remix)  "
      ]
     },
     "execution_count": 7,
     "metadata": {},
     "output_type": "execute_result"
    }
   ],
   "source": [
    "#test = tracks.iloc[(864):,:].reset_index(drop=True)\n",
    "test = tracks.iloc[(len(almacen_paginas['url'])):,:].reset_index(drop=True)\n",
    "filename = 'genius_lyrics'\n",
    "test.head()"
   ]
  },
  {
   "cell_type": "code",
   "execution_count": 8,
   "metadata": {},
   "outputs": [
    {
     "name": "stdout",
     "output_type": "stream",
     "text": [
      "7928 7928 7928\n"
     ]
    }
   ],
   "source": [
    "#almacen_paginas['pagina'].append(np.nan)\n",
    "#almacen_paginas['lyrics'].append(np.nan)\n",
    "#almacen_paginas['url'].pop()\n",
    "print(len(almacen_paginas['lyrics']), len(almacen_paginas['pagina']), len(almacen_paginas['url']))"
   ]
  },
  {
   "cell_type": "code",
   "execution_count": 49,
   "metadata": {},
   "outputs": [
    {
     "name": "stdout",
     "output_type": "stream",
     "text": [
      "1 natalie --- blue jungle\n"
     ]
    },
    {
     "ename": "NoSuchElementException",
     "evalue": "Message: no such element: Unable to locate element: {\"method\":\"css selector\",\"selector\":\"#sticky-nav > div.StickyNavdesktop__Right-sc-60o25r-2.kMDkxm > form > input\"}\n  (Session info: chrome=109.0.5414.75)\nStacktrace:\nBacktrace:\n\t(No symbol) [0x00CA6643]\n\t(No symbol) [0x00C3BE21]\n\t(No symbol) [0x00B3DA9D]\n\t(No symbol) [0x00B71342]\n\t(No symbol) [0x00B7147B]\n\t(No symbol) [0x00BA8DC2]\n\t(No symbol) [0x00B8FDC4]\n\t(No symbol) [0x00BA6B09]\n\t(No symbol) [0x00B8FB76]\n\t(No symbol) [0x00B649C1]\n\t(No symbol) [0x00B65E5D]\n\tGetHandleVerifier [0x00F1A142+2497106]\n\tGetHandleVerifier [0x00F485D3+2686691]\n\tGetHandleVerifier [0x00F4BB9C+2700460]\n\tGetHandleVerifier [0x00D53B10+635936]\n\t(No symbol) [0x00C44A1F]\n\t(No symbol) [0x00C4A418]\n\t(No symbol) [0x00C4A505]\n\t(No symbol) [0x00C5508B]\n\tBaseThreadInitThunk [0x75947D69+25]\n\tRtlInitializeExceptionChain [0x779FBB9B+107]\n\tRtlClearBits [0x779FBB1F+191]\n",
     "output_type": "error",
     "traceback": [
      "\u001b[1;31m---------------------------------------------------------------------------\u001b[0m",
      "\u001b[1;31mNoSuchElementException\u001b[0m                    Traceback (most recent call last)",
      "Cell \u001b[1;32mIn [49], line 22\u001b[0m\n\u001b[0;32m     18\u001b[0m     driver\u001b[39m.\u001b[39mfind_element(\u001b[39m'\u001b[39m\u001b[39mcss selector\u001b[39m\u001b[39m'\u001b[39m, \u001b[39m'\u001b[39m\u001b[39m#application > div > div.PageHeaderdesktop__Container-bhx5ui-0.dmNhEr > div.PageHeaderdesktop__Left-bhx5ui-2.ctcvqz > form > input\u001b[39m\u001b[39m'\u001b[39m)\u001b[39m.\u001b[39msend_keys(row[\u001b[39m'\u001b[39m\u001b[39martist\u001b[39m\u001b[39m'\u001b[39m]\u001b[39m.\u001b[39msplit(\u001b[39m'\u001b[39m\u001b[39m,\u001b[39m\u001b[39m'\u001b[39m)[\u001b[39m0\u001b[39m] \u001b[39m+\u001b[39m \u001b[39m'\u001b[39m\u001b[39m \u001b[39m\u001b[39m'\u001b[39m \u001b[39m+\u001b[39m row[\u001b[39m'\u001b[39m\u001b[39mtrack\u001b[39m\u001b[39m'\u001b[39m]\u001b[39m.\u001b[39msplit(\u001b[39m'\u001b[39m\u001b[39m-\u001b[39m\u001b[39m'\u001b[39m)[\u001b[39m0\u001b[39m], Keys\u001b[39m.\u001b[39mENTER)\n\u001b[0;32m     19\u001b[0m     \u001b[39m#sleep(1)\u001b[39;00m\n\u001b[0;32m     20\u001b[0m \u001b[39melse\u001b[39;00m:\n\u001b[0;32m     21\u001b[0m     \u001b[39m## busco el nombre de canción que quiero buscar\u001b[39;00m\n\u001b[1;32m---> 22\u001b[0m     driver\u001b[39m.\u001b[39;49mfind_element(\u001b[39m'\u001b[39;49m\u001b[39mcss selector\u001b[39;49m\u001b[39m'\u001b[39;49m, \u001b[39m'\u001b[39;49m\u001b[39m#sticky-nav > div.StickyNavdesktop__Right-sc-60o25r-2.kMDkxm > form > input\u001b[39;49m\u001b[39m'\u001b[39;49m)\u001b[39m.\u001b[39msend_keys(row[\u001b[39m'\u001b[39m\u001b[39martist\u001b[39m\u001b[39m'\u001b[39m]\u001b[39m.\u001b[39msplit(\u001b[39m'\u001b[39m\u001b[39m,\u001b[39m\u001b[39m'\u001b[39m)[\u001b[39m0\u001b[39m] \u001b[39m+\u001b[39m \u001b[39m'\u001b[39m\u001b[39m \u001b[39m\u001b[39m'\u001b[39m \u001b[39m+\u001b[39m row[\u001b[39m'\u001b[39m\u001b[39mtrack\u001b[39m\u001b[39m'\u001b[39m]\u001b[39m.\u001b[39msplit(\u001b[39m'\u001b[39m\u001b[39m-\u001b[39m\u001b[39m'\u001b[39m)[\u001b[39m0\u001b[39m], Keys\u001b[39m.\u001b[39mENTER)\n\u001b[0;32m     23\u001b[0m    \u001b[39m# sleep(1)\u001b[39;00m\n\u001b[0;32m     24\u001b[0m \u001b[39m## selecciono el resultado de la búsqueda que quiero\u001b[39;00m\n\u001b[0;32m     25\u001b[0m \u001b[39mtry\u001b[39;00m:\n",
      "File \u001b[1;32mc:\\Users\\annas\\anaconda3\\envs\\iron\\lib\\site-packages\\selenium\\webdriver\\remote\\webdriver.py:861\u001b[0m, in \u001b[0;36mWebDriver.find_element\u001b[1;34m(self, by, value)\u001b[0m\n\u001b[0;32m    858\u001b[0m     by \u001b[39m=\u001b[39m By\u001b[39m.\u001b[39mCSS_SELECTOR\n\u001b[0;32m    859\u001b[0m     value \u001b[39m=\u001b[39m \u001b[39m'\u001b[39m\u001b[39m[name=\u001b[39m\u001b[39m\"\u001b[39m\u001b[39m%s\u001b[39;00m\u001b[39m\"\u001b[39m\u001b[39m]\u001b[39m\u001b[39m'\u001b[39m \u001b[39m%\u001b[39m value\n\u001b[1;32m--> 861\u001b[0m \u001b[39mreturn\u001b[39;00m \u001b[39mself\u001b[39;49m\u001b[39m.\u001b[39;49mexecute(Command\u001b[39m.\u001b[39;49mFIND_ELEMENT, {\u001b[39m\"\u001b[39;49m\u001b[39musing\u001b[39;49m\u001b[39m\"\u001b[39;49m: by, \u001b[39m\"\u001b[39;49m\u001b[39mvalue\u001b[39;49m\u001b[39m\"\u001b[39;49m: value})[\u001b[39m\"\u001b[39m\u001b[39mvalue\u001b[39m\u001b[39m\"\u001b[39m]\n",
      "File \u001b[1;32mc:\\Users\\annas\\anaconda3\\envs\\iron\\lib\\site-packages\\selenium\\webdriver\\remote\\webdriver.py:444\u001b[0m, in \u001b[0;36mWebDriver.execute\u001b[1;34m(self, driver_command, params)\u001b[0m\n\u001b[0;32m    442\u001b[0m response \u001b[39m=\u001b[39m \u001b[39mself\u001b[39m\u001b[39m.\u001b[39mcommand_executor\u001b[39m.\u001b[39mexecute(driver_command, params)\n\u001b[0;32m    443\u001b[0m \u001b[39mif\u001b[39;00m response:\n\u001b[1;32m--> 444\u001b[0m     \u001b[39mself\u001b[39;49m\u001b[39m.\u001b[39;49merror_handler\u001b[39m.\u001b[39;49mcheck_response(response)\n\u001b[0;32m    445\u001b[0m     response[\u001b[39m\"\u001b[39m\u001b[39mvalue\u001b[39m\u001b[39m\"\u001b[39m] \u001b[39m=\u001b[39m \u001b[39mself\u001b[39m\u001b[39m.\u001b[39m_unwrap_value(response\u001b[39m.\u001b[39mget(\u001b[39m\"\u001b[39m\u001b[39mvalue\u001b[39m\u001b[39m\"\u001b[39m, \u001b[39mNone\u001b[39;00m))\n\u001b[0;32m    446\u001b[0m     \u001b[39mreturn\u001b[39;00m response\n",
      "File \u001b[1;32mc:\\Users\\annas\\anaconda3\\envs\\iron\\lib\\site-packages\\selenium\\webdriver\\remote\\errorhandler.py:249\u001b[0m, in \u001b[0;36mErrorHandler.check_response\u001b[1;34m(self, response)\u001b[0m\n\u001b[0;32m    247\u001b[0m         alert_text \u001b[39m=\u001b[39m value[\u001b[39m\"\u001b[39m\u001b[39malert\u001b[39m\u001b[39m\"\u001b[39m]\u001b[39m.\u001b[39mget(\u001b[39m\"\u001b[39m\u001b[39mtext\u001b[39m\u001b[39m\"\u001b[39m)\n\u001b[0;32m    248\u001b[0m     \u001b[39mraise\u001b[39;00m exception_class(message, screen, stacktrace, alert_text)  \u001b[39m# type: ignore[call-arg]  # mypy is not smart enough here\u001b[39;00m\n\u001b[1;32m--> 249\u001b[0m \u001b[39mraise\u001b[39;00m exception_class(message, screen, stacktrace)\n",
      "\u001b[1;31mNoSuchElementException\u001b[0m: Message: no such element: Unable to locate element: {\"method\":\"css selector\",\"selector\":\"#sticky-nav > div.StickyNavdesktop__Right-sc-60o25r-2.kMDkxm > form > input\"}\n  (Session info: chrome=109.0.5414.75)\nStacktrace:\nBacktrace:\n\t(No symbol) [0x00CA6643]\n\t(No symbol) [0x00C3BE21]\n\t(No symbol) [0x00B3DA9D]\n\t(No symbol) [0x00B71342]\n\t(No symbol) [0x00B7147B]\n\t(No symbol) [0x00BA8DC2]\n\t(No symbol) [0x00B8FDC4]\n\t(No symbol) [0x00BA6B09]\n\t(No symbol) [0x00B8FB76]\n\t(No symbol) [0x00B649C1]\n\t(No symbol) [0x00B65E5D]\n\tGetHandleVerifier [0x00F1A142+2497106]\n\tGetHandleVerifier [0x00F485D3+2686691]\n\tGetHandleVerifier [0x00F4BB9C+2700460]\n\tGetHandleVerifier [0x00D53B10+635936]\n\t(No symbol) [0x00C44A1F]\n\t(No symbol) [0x00C4A418]\n\t(No symbol) [0x00C4A505]\n\t(No symbol) [0x00C5508B]\n\tBaseThreadInitThunk [0x75947D69+25]\n\tRtlInitializeExceptionChain [0x779FBB9B+107]\n\tRtlClearBits [0x779FBB1F+191]\n"
     ]
    }
   ],
   "source": [
    "## iniciamos el web driver\n",
    "opciones= Options()\n",
    "opciones.add_argument(\"--start-maximized\")\n",
    "driver = webdriver.Chrome(ChromeDriverManager().install())\n",
    "driver.get('https://genius.com/')\n",
    "driver.maximize_window()\n",
    "driver.set_window_size(1920, 1080)\n",
    "## te metes dentro de la página y con inspeccionar, seleccionas el elemento de las cookies --> copy / selector\n",
    "##por si tu ordenador es un poco lento, le puedes poner un tiempo para que intente hacerlo\n",
    "driver.implicitly_wait(30)\n",
    "for index, row in test.iterrows():\n",
    "    print(index, row['artist'].split(',')[0],'---', row['track'].split('-')[0])\n",
    "    almacen_paginas['url'].append(row['url'])\n",
    "    if index == 0: \n",
    "        driver.find_element('css selector', '#onetrust-accept-btn-handler').click()\n",
    "        #sleep(1)\n",
    "        ## busco el nombre de canción que quiero buscar\n",
    "        driver.find_element('css selector', '#application > div > div.PageHeaderdesktop__Container-bhx5ui-0.dmNhEr > div.PageHeaderdesktop__Left-bhx5ui-2.ctcvqz > form > input').send_keys(row['artist'].split(',')[0] + ' ' + row['track'].split('-')[0], Keys.ENTER)\n",
    "        #sleep(1)\n",
    "    else:\n",
    "        ## busco el nombre de canción que quiero buscar\n",
    "        driver.find_element('css selector', '#sticky-nav > div.StickyNavdesktop__Right-sc-60o25r-2.kMDkxm > form > input').send_keys(row['artist'].split(',')[0] + ' ' + row['track'].split('-')[0], Keys.ENTER)\n",
    "       # sleep(1)\n",
    "    ## selecciono el resultado de la búsqueda que quiero\n",
    "    try:\n",
    "        driver.find_element('xpath', '/html/body/routable-page/ng-outlet/search-results-page/div/div[2]/div[1]/div[2]/search-result-section/div/div[2]/search-result-items/div[1]/search-result-item/div/mini-song-card/a').click()\n",
    "        driver.implicitly_wait(30)\n",
    "        ## clico el all credits\n",
    "        try:\n",
    "            driver.find_element('xpath', '//*[@id=\"application\"]/main/div[1]/div[4]/div/div[1]/div[4]/div/a').click()\n",
    "        except:\n",
    "            try:\n",
    "                driver.find_element('xpath', '//*[@id=\"application\"]/main/div[1]/div[4]/div/div[1]/div[3]/div/a').click()\n",
    "            except:\n",
    "                try:\n",
    "                    driver.find_element('xpath', '//*[@id=\"application\"]/main/div[1]/div[4]/div/div[1]/div[2]/div/a').click()\n",
    "                except:\n",
    "                    try:\n",
    "                        driver.find_element('xpath', '//*[@id=\"application\"]/main/div[1]/div[4]/div/div[1]/div[1]/div/a').click()\n",
    "                    except:\n",
    "                        print('oye que no va')\n",
    "                        break\n",
    "        #'//*[@id=\"application\"]/main/div[1]/div[4]/div/div[1]/div/div/a'\n",
    "        #sleep(1)\n",
    "        page_source = driver.page_source\n",
    "        url = driver.current_url\n",
    "        res = requests.get(url + '#song-info')\n",
    "        soup = BeautifulSoup(res.content, 'html.parser')\n",
    "        pagina = soup.text\n",
    "        almacen_paginas['pagina'].append(pagina)\n",
    "        try:\n",
    "            almacen_paginas['lyrics'].append(re.findall(r'Lyrics(.*)EmbedCancel?', pagina)[0])\n",
    "        except:\n",
    "            almacen_paginas['lyrics'].append(np.nan)\n",
    "        with open(f'../data/pickle/{filename}.pickle', 'wb') as data_scrapeado:\n",
    "            pickle.dump(almacen_paginas, data_scrapeado)\n",
    "        clear_output(wait=True)\n",
    "    except:\n",
    "        almacen_paginas['pagina'].append(np.nan)\n",
    "        almacen_paginas['lyrics'].append(np.nan)\n",
    "        clear_output(wait=True)"
   ]
  },
  {
   "attachments": {},
   "cell_type": "markdown",
   "metadata": {},
   "source": [
    "# Export"
   ]
  },
  {
   "cell_type": "code",
   "execution_count": null,
   "metadata": {},
   "outputs": [],
   "source": [
    "with open('../data/pickle/genius_lyrics.pickle', 'wb') as data_genius:\n",
    "    pickle.dump(tracks, data_genius)"
   ]
  }
 ],
 "metadata": {
  "kernelspec": {
   "display_name": "iron",
   "language": "python",
   "name": "python3"
  },
  "language_info": {
   "codemirror_mode": {
    "name": "ipython",
    "version": 3
   },
   "file_extension": ".py",
   "mimetype": "text/x-python",
   "name": "python",
   "nbconvert_exporter": "python",
   "pygments_lexer": "ipython3",
   "version": "3.9.13 (main, Oct 13 2022, 21:23:06) [MSC v.1916 64 bit (AMD64)]"
  },
  "orig_nbformat": 4,
  "vscode": {
   "interpreter": {
    "hash": "e59d0b279e6461be5b4ea7b62838527cd8f41f3cbc9a1147b1a83b32d75ab689"
   }
  }
 },
 "nbformat": 4,
 "nbformat_minor": 2
}
