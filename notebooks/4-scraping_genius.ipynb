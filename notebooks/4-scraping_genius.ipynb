{
 "cells": [
  {
   "cell_type": "code",
   "execution_count": 5,
   "metadata": {},
   "outputs": [],
   "source": [
    "import requests\n",
    "import pandas as pd\n",
    "from time import sleep\n",
    "import numpy as np\n",
    "from tqdm import tqdm\n",
    "import os\n",
    "\n",
    "from selenium import webdriver\n",
    "from webdriver_manager.chrome import ChromeDriverManager\n",
    "from selenium.webdriver.common.keys import Keys\n",
    "from selenium.webdriver.chrome.options import Options\n",
    "import numpy as np\n",
    "\n",
    "import warnings\n",
    "warnings.filterwarnings('ignore')"
   ]
  },
  {
   "cell_type": "code",
   "execution_count": 6,
   "metadata": {},
   "outputs": [],
   "source": [
    "import pickle\n",
    "from lyricsgenius import Genius"
   ]
  },
  {
   "cell_type": "code",
   "execution_count": 7,
   "id": "7f9dfb16",
   "metadata": {},
   "outputs": [],
   "source": [
    "import re\n",
    "from bs4 import BeautifulSoup\n",
    "from dotenv import load_dotenv"
   ]
  },
  {
   "attachments": {},
   "cell_type": "markdown",
   "metadata": {},
   "source": [
    "# Genius config"
   ]
  },
  {
   "cell_type": "code",
   "execution_count": 8,
   "metadata": {},
   "outputs": [
    {
     "data": {
      "text/plain": [
       "True"
      ]
     },
     "execution_count": 8,
     "metadata": {},
     "output_type": "execute_result"
    }
   ],
   "source": [
    "load_dotenv()"
   ]
  },
  {
   "cell_type": "code",
   "execution_count": 9,
   "metadata": {},
   "outputs": [],
   "source": [
    "token = os.getenv(\"genius-token\")\n",
    "genius = Genius(token)"
   ]
  },
  {
   "attachments": {},
   "cell_type": "markdown",
   "metadata": {},
   "source": [
    "Check if genius is configured succesfully:"
   ]
  },
  {
   "cell_type": "code",
   "execution_count": 10,
   "metadata": {},
   "outputs": [
    {
     "name": "stdout",
     "output_type": "stream",
     "text": [
      "Searching for songs by Andy Shauf...\n",
      "\n",
      "Song 1: \"Alexander All Alone\"\n",
      "\"All Of My Love\" is not valid. Skipping.\n",
      "Song 2: \"All the Same\"\n",
      "Song 3: \"Angela\"\n",
      "\n",
      "Reached user-specified song limit (3).\n",
      "Done. Found 3 songs.\n",
      "[Song(id, artist, ...), Song(id, artist, ...), Song(id, artist, ...)]\n"
     ]
    }
   ],
   "source": [
    "artist = genius.search_artist(\"Andy Shauf\", max_songs=3, sort=\"title\")\n",
    "print(artist.songs)"
   ]
  },
  {
   "attachments": {},
   "cell_type": "markdown",
   "metadata": {},
   "source": [
    "# Importing pickle file"
   ]
  },
  {
   "cell_type": "code",
   "execution_count": 11,
   "metadata": {},
   "outputs": [],
   "source": [
    "with open('../data/pickle/dataset_viral150_unique.pickle', 'rb') as tracks:\n",
    "    tracks = pickle.load(tracks)"
   ]
  },
  {
   "cell_type": "code",
   "execution_count": 12,
   "metadata": {},
   "outputs": [
    {
     "data": {
      "text/html": [
       "<div>\n",
       "<style scoped>\n",
       "    .dataframe tbody tr th:only-of-type {\n",
       "        vertical-align: middle;\n",
       "    }\n",
       "\n",
       "    .dataframe tbody tr th {\n",
       "        vertical-align: top;\n",
       "    }\n",
       "\n",
       "    .dataframe thead th {\n",
       "        text-align: right;\n",
       "    }\n",
       "</style>\n",
       "<table border=\"1\" class=\"dataframe\">\n",
       "  <thead>\n",
       "    <tr style=\"text-align: right;\">\n",
       "      <th></th>\n",
       "      <th>url</th>\n",
       "      <th>artist_clean</th>\n",
       "      <th>track_clean</th>\n",
       "    </tr>\n",
       "  </thead>\n",
       "  <tbody>\n",
       "    <tr>\n",
       "      <th>8246</th>\n",
       "      <td>https://open.spotify.com/track/4Km5HrUvYTaSUfi...</td>\n",
       "      <td>migos</td>\n",
       "      <td>bad and boujee (feat. lil uzi vert)</td>\n",
       "    </tr>\n",
       "    <tr>\n",
       "      <th>8247</th>\n",
       "      <td>https://open.spotify.com/track/343YBumqHu19cGo...</td>\n",
       "      <td>drake</td>\n",
       "      <td>fake love</td>\n",
       "    </tr>\n",
       "    <tr>\n",
       "      <th>8248</th>\n",
       "      <td>https://open.spotify.com/track/5aAx2yezTd8zXrk...</td>\n",
       "      <td>the weeknd, daft punk</td>\n",
       "      <td>starboy</td>\n",
       "    </tr>\n",
       "    <tr>\n",
       "      <th>8249</th>\n",
       "      <td>https://open.spotify.com/track/7BKLCZ1jbUBVqRi...</td>\n",
       "      <td>the chainsmokers, halsey</td>\n",
       "      <td>closer</td>\n",
       "    </tr>\n",
       "    <tr>\n",
       "      <th>8250</th>\n",
       "      <td>https://open.spotify.com/track/6fujklziTHa8uoM...</td>\n",
       "      <td>rae sremmurd, gucci mane</td>\n",
       "      <td>black beatles</td>\n",
       "    </tr>\n",
       "  </tbody>\n",
       "</table>\n",
       "</div>"
      ],
      "text/plain": [
       "                                                    url  \\\n",
       "8246  https://open.spotify.com/track/4Km5HrUvYTaSUfi...   \n",
       "8247  https://open.spotify.com/track/343YBumqHu19cGo...   \n",
       "8248  https://open.spotify.com/track/5aAx2yezTd8zXrk...   \n",
       "8249  https://open.spotify.com/track/7BKLCZ1jbUBVqRi...   \n",
       "8250  https://open.spotify.com/track/6fujklziTHa8uoM...   \n",
       "\n",
       "                  artist_clean                          track_clean  \n",
       "8246                     migos  bad and boujee (feat. lil uzi vert)  \n",
       "8247                     drake                            fake love  \n",
       "8248     the weeknd, daft punk                              starboy  \n",
       "8249  the chainsmokers, halsey                               closer  \n",
       "8250  rae sremmurd, gucci mane                        black beatles  "
      ]
     },
     "execution_count": 12,
     "metadata": {},
     "output_type": "execute_result"
    }
   ],
   "source": [
    "tracks.head()"
   ]
  },
  {
   "cell_type": "code",
   "execution_count": 13,
   "metadata": {},
   "outputs": [
    {
     "data": {
      "text/html": [
       "<div>\n",
       "<style scoped>\n",
       "    .dataframe tbody tr th:only-of-type {\n",
       "        vertical-align: middle;\n",
       "    }\n",
       "\n",
       "    .dataframe tbody tr th {\n",
       "        vertical-align: top;\n",
       "    }\n",
       "\n",
       "    .dataframe thead th {\n",
       "        text-align: right;\n",
       "    }\n",
       "</style>\n",
       "<table border=\"1\" class=\"dataframe\">\n",
       "  <thead>\n",
       "    <tr style=\"text-align: right;\">\n",
       "      <th></th>\n",
       "      <th>url</th>\n",
       "      <th>artist</th>\n",
       "      <th>track</th>\n",
       "    </tr>\n",
       "  </thead>\n",
       "  <tbody>\n",
       "    <tr>\n",
       "      <th>8246</th>\n",
       "      <td>https://open.spotify.com/track/4Km5HrUvYTaSUfi...</td>\n",
       "      <td>migos</td>\n",
       "      <td>bad and boujee (feat. lil uzi vert)</td>\n",
       "    </tr>\n",
       "    <tr>\n",
       "      <th>8247</th>\n",
       "      <td>https://open.spotify.com/track/343YBumqHu19cGo...</td>\n",
       "      <td>drake</td>\n",
       "      <td>fake love</td>\n",
       "    </tr>\n",
       "    <tr>\n",
       "      <th>8248</th>\n",
       "      <td>https://open.spotify.com/track/5aAx2yezTd8zXrk...</td>\n",
       "      <td>the weeknd, daft punk</td>\n",
       "      <td>starboy</td>\n",
       "    </tr>\n",
       "    <tr>\n",
       "      <th>8249</th>\n",
       "      <td>https://open.spotify.com/track/7BKLCZ1jbUBVqRi...</td>\n",
       "      <td>the chainsmokers, halsey</td>\n",
       "      <td>closer</td>\n",
       "    </tr>\n",
       "    <tr>\n",
       "      <th>8250</th>\n",
       "      <td>https://open.spotify.com/track/6fujklziTHa8uoM...</td>\n",
       "      <td>rae sremmurd, gucci mane</td>\n",
       "      <td>black beatles</td>\n",
       "    </tr>\n",
       "  </tbody>\n",
       "</table>\n",
       "</div>"
      ],
      "text/plain": [
       "                                                    url  \\\n",
       "8246  https://open.spotify.com/track/4Km5HrUvYTaSUfi...   \n",
       "8247  https://open.spotify.com/track/343YBumqHu19cGo...   \n",
       "8248  https://open.spotify.com/track/5aAx2yezTd8zXrk...   \n",
       "8249  https://open.spotify.com/track/7BKLCZ1jbUBVqRi...   \n",
       "8250  https://open.spotify.com/track/6fujklziTHa8uoM...   \n",
       "\n",
       "                        artist                                track  \n",
       "8246                     migos  bad and boujee (feat. lil uzi vert)  \n",
       "8247                     drake                            fake love  \n",
       "8248     the weeknd, daft punk                              starboy  \n",
       "8249  the chainsmokers, halsey                               closer  \n",
       "8250  rae sremmurd, gucci mane                        black beatles  "
      ]
     },
     "execution_count": 13,
     "metadata": {},
     "output_type": "execute_result"
    }
   ],
   "source": [
    "tracks.rename(columns={'track_clean':'track','artist_clean':'artist'}, inplace=True)\n",
    "tracks.head()"
   ]
  },
  {
   "attachments": {},
   "cell_type": "markdown",
   "metadata": {},
   "source": [
    "# Selenium"
   ]
  },
  {
   "attachments": {},
   "cell_type": "markdown",
   "metadata": {},
   "source": [
    "Configuro mi pestaña de selenium"
   ]
  },
  {
   "cell_type": "code",
   "execution_count": 14,
   "metadata": {},
   "outputs": [
    {
     "name": "stderr",
     "output_type": "stream",
     "text": [
      "[WDM] - Downloading: 100%|██████████| 6.58M/6.58M [00:02<00:00, 2.91MB/s]\n"
     ]
    }
   ],
   "source": [
    "driver = webdriver.Chrome(ChromeDriverManager().install())\n",
    "driver.get('https://chromedriver.chromium.org/downloads')"
   ]
  },
  {
   "attachments": {},
   "cell_type": "markdown",
   "metadata": {},
   "source": [
    "Voy a probar que me funcione la búsqueda de un elemento"
   ]
  },
  {
   "cell_type": "code",
   "execution_count": 15,
   "metadata": {},
   "outputs": [
    {
     "name": "stderr",
     "output_type": "stream",
     "text": [
      "[WDM] - Downloading: 100%|██████████| 6.79M/6.79M [00:02<00:00, 2.89MB/s]\n"
     ]
    },
    {
     "ename": "NoSuchElementException",
     "evalue": "Message: no such element: Unable to locate element: {\"method\":\"css selector\",\"selector\":\"#application > main > div.SongPageGriddesktop-sc-1px5b71-0.jecoie.SongHeaderdesktop__Container-sc-1effuo1-0.fqavsD > div.SongHeaderdesktop__Column-sc-1effuo1-1.SongHeaderdesktop__Right-sc-1effuo1-4.ePANpp > div > div.HeaderMetadata__Grid-sc-1p42fnf-1.ePueMf > div:nth-child(2) > div\"}\n  (Session info: chrome=109.0.5414.74)\nStacktrace:\nBacktrace:\n\t(No symbol) [0x00736643]\n\t(No symbol) [0x006CBE21]\n\t(No symbol) [0x005CDA9D]\n\t(No symbol) [0x00601342]\n\t(No symbol) [0x0060147B]\n\t(No symbol) [0x00638DC2]\n\t(No symbol) [0x0061FDC4]\n\t(No symbol) [0x00636B09]\n\t(No symbol) [0x0061FB76]\n\t(No symbol) [0x005F49C1]\n\t(No symbol) [0x005F5E5D]\n\tGetHandleVerifier [0x009AA142+2497106]\n\tGetHandleVerifier [0x009D85D3+2686691]\n\tGetHandleVerifier [0x009DBB9C+2700460]\n\tGetHandleVerifier [0x007E3B10+635936]\n\t(No symbol) [0x006D4A1F]\n\t(No symbol) [0x006DA418]\n\t(No symbol) [0x006DA505]\n\t(No symbol) [0x006E508B]\n\tBaseThreadInitThunk [0x777B7D69+25]\n\tRtlInitializeExceptionChain [0x77DBBB9B+107]\n\tRtlClearBits [0x77DBBB1F+191]\n",
     "output_type": "error",
     "traceback": [
      "\u001b[1;31m---------------------------------------------------------------------------\u001b[0m",
      "\u001b[1;31mNoSuchElementException\u001b[0m                    Traceback (most recent call last)",
      "Cell \u001b[1;32mIn [15], line 25\u001b[0m\n\u001b[0;32m     23\u001b[0m lyrics2 \u001b[39m=\u001b[39m driver\u001b[39m.\u001b[39mfind_element(\u001b[39m'\u001b[39m\u001b[39mcss selector\u001b[39m\u001b[39m'\u001b[39m, \u001b[39m'\u001b[39m\u001b[39m#lyrics-root > div:nth-child(6)\u001b[39m\u001b[39m'\u001b[39m)\u001b[39m.\u001b[39mtext\n\u001b[0;32m     24\u001b[0m sleep(\u001b[39m1\u001b[39m)\n\u001b[1;32m---> 25\u001b[0m release_date \u001b[39m=\u001b[39m driver\u001b[39m.\u001b[39;49mfind_element(\u001b[39m'\u001b[39;49m\u001b[39mcss selector\u001b[39;49m\u001b[39m'\u001b[39;49m, \u001b[39m'\u001b[39;49m\u001b[39m#application > main > div.SongPageGriddesktop-sc-1px5b71-0.jecoie.SongHeaderdesktop__Container-sc-1effuo1-0.fqavsD > div.SongHeaderdesktop__Column-sc-1effuo1-1.SongHeaderdesktop__Right-sc-1effuo1-4.ePANpp > div > div.HeaderMetadata__Grid-sc-1p42fnf-1.ePueMf > div:nth-child(2) > div\u001b[39;49m\u001b[39m'\u001b[39;49m)\u001b[39m.\u001b[39mtext\n\u001b[0;32m     26\u001b[0m \u001b[39m#application > main > div.SongPageGriddesktop-sc-1px5b71-0.jecoie.SongHeaderdesktop__Container-sc-1effuo1-0.kEkpYM > div.SongHeaderdesktop__Column-sc-1effuo1-1.SongHeaderdesktop__Right-sc-1effuo1-4.ePANpp > div > div.HeaderMetadata__Grid-sc-1p42fnf-1.ePueMf > div:nth-child(3) > div\u001b[39;00m\n",
      "File \u001b[1;32mc:\\Users\\annas\\anaconda3\\envs\\iron\\lib\\site-packages\\selenium\\webdriver\\remote\\webdriver.py:861\u001b[0m, in \u001b[0;36mWebDriver.find_element\u001b[1;34m(self, by, value)\u001b[0m\n\u001b[0;32m    858\u001b[0m     by \u001b[39m=\u001b[39m By\u001b[39m.\u001b[39mCSS_SELECTOR\n\u001b[0;32m    859\u001b[0m     value \u001b[39m=\u001b[39m \u001b[39m'\u001b[39m\u001b[39m[name=\u001b[39m\u001b[39m\"\u001b[39m\u001b[39m%s\u001b[39;00m\u001b[39m\"\u001b[39m\u001b[39m]\u001b[39m\u001b[39m'\u001b[39m \u001b[39m%\u001b[39m value\n\u001b[1;32m--> 861\u001b[0m \u001b[39mreturn\u001b[39;00m \u001b[39mself\u001b[39;49m\u001b[39m.\u001b[39;49mexecute(Command\u001b[39m.\u001b[39;49mFIND_ELEMENT, {\u001b[39m\"\u001b[39;49m\u001b[39musing\u001b[39;49m\u001b[39m\"\u001b[39;49m: by, \u001b[39m\"\u001b[39;49m\u001b[39mvalue\u001b[39;49m\u001b[39m\"\u001b[39;49m: value})[\u001b[39m\"\u001b[39m\u001b[39mvalue\u001b[39m\u001b[39m\"\u001b[39m]\n",
      "File \u001b[1;32mc:\\Users\\annas\\anaconda3\\envs\\iron\\lib\\site-packages\\selenium\\webdriver\\remote\\webdriver.py:444\u001b[0m, in \u001b[0;36mWebDriver.execute\u001b[1;34m(self, driver_command, params)\u001b[0m\n\u001b[0;32m    442\u001b[0m response \u001b[39m=\u001b[39m \u001b[39mself\u001b[39m\u001b[39m.\u001b[39mcommand_executor\u001b[39m.\u001b[39mexecute(driver_command, params)\n\u001b[0;32m    443\u001b[0m \u001b[39mif\u001b[39;00m response:\n\u001b[1;32m--> 444\u001b[0m     \u001b[39mself\u001b[39;49m\u001b[39m.\u001b[39;49merror_handler\u001b[39m.\u001b[39;49mcheck_response(response)\n\u001b[0;32m    445\u001b[0m     response[\u001b[39m\"\u001b[39m\u001b[39mvalue\u001b[39m\u001b[39m\"\u001b[39m] \u001b[39m=\u001b[39m \u001b[39mself\u001b[39m\u001b[39m.\u001b[39m_unwrap_value(response\u001b[39m.\u001b[39mget(\u001b[39m\"\u001b[39m\u001b[39mvalue\u001b[39m\u001b[39m\"\u001b[39m, \u001b[39mNone\u001b[39;00m))\n\u001b[0;32m    446\u001b[0m     \u001b[39mreturn\u001b[39;00m response\n",
      "File \u001b[1;32mc:\\Users\\annas\\anaconda3\\envs\\iron\\lib\\site-packages\\selenium\\webdriver\\remote\\errorhandler.py:249\u001b[0m, in \u001b[0;36mErrorHandler.check_response\u001b[1;34m(self, response)\u001b[0m\n\u001b[0;32m    247\u001b[0m         alert_text \u001b[39m=\u001b[39m value[\u001b[39m\"\u001b[39m\u001b[39malert\u001b[39m\u001b[39m\"\u001b[39m]\u001b[39m.\u001b[39mget(\u001b[39m\"\u001b[39m\u001b[39mtext\u001b[39m\u001b[39m\"\u001b[39m)\n\u001b[0;32m    248\u001b[0m     \u001b[39mraise\u001b[39;00m exception_class(message, screen, stacktrace, alert_text)  \u001b[39m# type: ignore[call-arg]  # mypy is not smart enough here\u001b[39;00m\n\u001b[1;32m--> 249\u001b[0m \u001b[39mraise\u001b[39;00m exception_class(message, screen, stacktrace)\n",
      "\u001b[1;31mNoSuchElementException\u001b[0m: Message: no such element: Unable to locate element: {\"method\":\"css selector\",\"selector\":\"#application > main > div.SongPageGriddesktop-sc-1px5b71-0.jecoie.SongHeaderdesktop__Container-sc-1effuo1-0.fqavsD > div.SongHeaderdesktop__Column-sc-1effuo1-1.SongHeaderdesktop__Right-sc-1effuo1-4.ePANpp > div > div.HeaderMetadata__Grid-sc-1p42fnf-1.ePueMf > div:nth-child(2) > div\"}\n  (Session info: chrome=109.0.5414.74)\nStacktrace:\nBacktrace:\n\t(No symbol) [0x00736643]\n\t(No symbol) [0x006CBE21]\n\t(No symbol) [0x005CDA9D]\n\t(No symbol) [0x00601342]\n\t(No symbol) [0x0060147B]\n\t(No symbol) [0x00638DC2]\n\t(No symbol) [0x0061FDC4]\n\t(No symbol) [0x00636B09]\n\t(No symbol) [0x0061FB76]\n\t(No symbol) [0x005F49C1]\n\t(No symbol) [0x005F5E5D]\n\tGetHandleVerifier [0x009AA142+2497106]\n\tGetHandleVerifier [0x009D85D3+2686691]\n\tGetHandleVerifier [0x009DBB9C+2700460]\n\tGetHandleVerifier [0x007E3B10+635936]\n\t(No symbol) [0x006D4A1F]\n\t(No symbol) [0x006DA418]\n\t(No symbol) [0x006DA505]\n\t(No symbol) [0x006E508B]\n\tBaseThreadInitThunk [0x777B7D69+25]\n\tRtlInitializeExceptionChain [0x77DBBB9B+107]\n\tRtlClearBits [0x77DBBB1F+191]\n"
     ]
    }
   ],
   "source": [
    "## iniciamos el web driver\n",
    "opciones= Options()\n",
    "opciones.add_argument(\"--start-maximized\")\n",
    "driver = webdriver.Chrome(ChromeDriverManager().install())\n",
    "driver.get('https://genius.com/')\n",
    "driver.maximize_window()\n",
    "driver.set_window_size(1920, 1080)\n",
    "## te metes dentro de la página y con inspeccionar, seleccionas el elemento de las cookies --> copy / selector\n",
    "##por si tu ordenador es un poco lento, le puedes poner un tiempo para que intente hacerlo\n",
    "driver.implicitly_wait(30)\n",
    "## si quieres tardar más, le pones un sleep\n",
    "## sleep(20)\n",
    "## acepto los cookies\n",
    "driver.find_element('css selector', '#onetrust-accept-btn-handler').click()\n",
    "sleep(1)\n",
    "## busco el nombre del actor que quiero buscar\n",
    "driver.find_element('css selector', '#application > div > div.PageHeaderdesktop__Container-bhx5ui-0.dmNhEr > div.PageHeaderdesktop__Left-bhx5ui-2.ctcvqz > form > input').send_keys('drake fake love', Keys.ENTER)\n",
    "sleep(1)\n",
    "driver.find_element('xpath', '/html/body/routable-page/ng-outlet/search-results-page/div/div[2]/div[1]/div[1]/search-result-section/div/div[2]/search-result-items/div/search-result-item/div/mini-song-card/a').click()\n",
    "driver.implicitly_wait(30)\n",
    "## extraigo la información de la letra de cada canción\n",
    "lyrics = driver.find_element('css selector', '#lyrics-root > div:nth-child(3)').text\n",
    "lyrics2 = driver.find_element('css selector', '#lyrics-root > div:nth-child(6)').text\n",
    "sleep(1)\n",
    "release_date = driver.find_element('css selector', '#application > main > div.SongPageGriddesktop-sc-1px5b71-0.jecoie.SongHeaderdesktop__Container-sc-1effuo1-0.fqavsD > div.SongHeaderdesktop__Column-sc-1effuo1-1.SongHeaderdesktop__Right-sc-1effuo1-4.ePANpp > div > div.HeaderMetadata__Grid-sc-1p42fnf-1.ePueMf > div:nth-child(2) > div').text\n",
    "#application > main > div.SongPageGriddesktop-sc-1px5b71-0.jecoie.SongHeaderdesktop__Container-sc-1effuo1-0.kEkpYM > div.SongHeaderdesktop__Column-sc-1effuo1-1.SongHeaderdesktop__Right-sc-1effuo1-4.ePANpp > div > div.HeaderMetadata__Grid-sc-1p42fnf-1.ePueMf > div:nth-child(3) > div"
   ]
  },
  {
   "attachments": {},
   "cell_type": "markdown",
   "metadata": {},
   "source": [
    "ESTOY TRABAJANDO AQUÍ\n",
    "Clicando el read more"
   ]
  },
  {
   "cell_type": "code",
   "execution_count": 20,
   "metadata": {},
   "outputs": [],
   "source": [
    "## iniciamos el web driver\n",
    "opciones= Options()\n",
    "opciones.add_argument(\"--start-maximized\")\n",
    "driver = webdriver.Chrome(ChromeDriverManager().install())\n",
    "driver.get('https://genius.com/')\n",
    "driver.maximize_window()\n",
    "driver.set_window_size(1920, 1080)\n",
    "## te metes dentro de la página y con inspeccionar, seleccionas el elemento de las cookies --> copy / selector\n",
    "##por si tu ordenador es un poco lento, le puedes poner un tiempo para que intente hacerlo\n",
    "driver.implicitly_wait(30)\n",
    "## si quieres tardar más, le pones un sleep\n",
    "## sleep(20)\n",
    "## acepto los cookies\n",
    "driver.find_element('css selector', '#onetrust-accept-btn-handler').click()\n",
    "sleep(1)\n",
    "## busco el nombre del actor que quiero buscar\n",
    "driver.find_element('css selector', '#application > div > div.PageHeaderdesktop__Container-bhx5ui-0.dmNhEr > div.PageHeaderdesktop__Left-bhx5ui-2.ctcvqz > form > input').send_keys('drake fake love', Keys.ENTER)\n",
    "sleep(1)\n",
    "driver.find_element('xpath', '/html/body/routable-page/ng-outlet/search-results-page/div/div[2]/div[1]/div[1]/search-result-section/div/div[2]/search-result-items/div/search-result-item/div/mini-song-card/a').click()\n",
    "driver.implicitly_wait(30)\n",
    "## clico el all credits\n",
    "driver.find_element('css selector', '#application > main > div.SongPageGriddesktop-sc-1px5b71-0.jecoie.SongHeaderdesktop__Container-sc-1effuo1-0.fqavsD > div.SongHeaderdesktop__Column-sc-1effuo1-1.SongHeaderdesktop__Right-sc-1effuo1-4.ePANpp > div > div.HeaderMetadata__Grid-sc-1p42fnf-1.ePueMf > div.HeaderMetadata__Section-sc-1p42fnf-2.glevmK > div > a').click()\n",
    "sleep(1)"
   ]
  },
  {
   "attachments": {},
   "cell_type": "markdown",
   "metadata": {},
   "source": [
    "CONTINUO AQUÍ CON B4S"
   ]
  },
  {
   "cell_type": "code",
   "execution_count": 26,
   "metadata": {},
   "outputs": [],
   "source": [
    "## iniciamos el web driver\n",
    "opciones= Options()\n",
    "opciones.add_argument(\"--start-maximized\")\n",
    "driver = webdriver.Chrome(ChromeDriverManager().install())\n",
    "driver.get('https://genius.com/')\n",
    "driver.maximize_window()\n",
    "driver.set_window_size(1920, 1080)\n",
    "## te metes dentro de la página y con inspeccionar, seleccionas el elemento de las cookies --> copy / selector\n",
    "##por si tu ordenador es un poco lento, le puedes poner un tiempo para que intente hacerlo\n",
    "driver.implicitly_wait(30)\n",
    "## si quieres tardar más, le pones un sleep\n",
    "## sleep(20)\n",
    "## acepto los cookies\n",
    "driver.find_element('css selector', '#onetrust-accept-btn-handler').click()\n",
    "sleep(1)\n",
    "## busco el nombre del actor que quiero buscar\n",
    "driver.find_element('css selector', '#application > div > div.PageHeaderdesktop__Container-bhx5ui-0.dmNhEr > div.PageHeaderdesktop__Left-bhx5ui-2.ctcvqz > form > input').send_keys('drake fake love', Keys.ENTER)\n",
    "sleep(1)\n",
    "driver.find_element('xpath', '/html/body/routable-page/ng-outlet/search-results-page/div/div[2]/div[1]/div[1]/search-result-section/div/div[2]/search-result-items/div/search-result-item/div/mini-song-card/a').click()\n",
    "driver.implicitly_wait(30)\n",
    "## clico el all credits\n",
    "driver.find_element('css selector', '#application > main > div.SongPageGriddesktop-sc-1px5b71-0.jecoie.SongHeaderdesktop__Container-sc-1effuo1-0.fqavsD > div.SongHeaderdesktop__Column-sc-1effuo1-1.SongHeaderdesktop__Right-sc-1effuo1-4.ePANpp > div > div.HeaderMetadata__Grid-sc-1p42fnf-1.ePueMf > div.HeaderMetadata__Section-sc-1p42fnf-2.glevmK > div > a').click()\n",
    "sleep(1)\n",
    "page_source = driver.page_source\n",
    "url = driver.current_url\n",
    "res = requests.get(url + '#song-info')\n",
    "soup = BeautifulSoup(res.content, 'html.parser')\n",
    "pagina = soup.text\n"
   ]
  },
  {
   "cell_type": "code",
   "execution_count": 27,
   "metadata": {},
   "outputs": [
    {
     "data": {
      "text/plain": [
       "'\\n\\n\\nDrake – Fake Love Lyrics | Genius Lyrics\\n\\n\\n\\n\\n\\n\\n\\n\\n\\n\\n\\n\\n\\n\\n\\n\\n\\n\\n\\n\\n\\n\\n\\n\\n\\n\\n\\n\\n\\n\\n\\n\\n\\n\\n\\n\\n\\n\\n\\n\\n\\n\\n\\n\\n\\n\\n\\n\\n\\n\\n\\n\\n\\n\\n\\n\\n\\n\\n\\n\\n\\nFeaturedChartsVideosPromote Your MusicSign UpFake LoveDrakeTrack 20 on\\xa0More Life\\xa0“Fake Love” finds Drake criticizing friends and associates who only show him love because of his incredible success. He identifies their false emotions and explains how he… Read More\\xa0Produced byVinylz & GingRelease DateOctober 23, 2016View All Credits\\xa033.8M217193TranslationsEspañolFake Love Lyrics[Chorus]I\\'ve been down so long, it look like up to meThey look up to meI got fake people showin\\' fake love to meStraight up to my face, straight up to my faceI\\'ve been down so long, it look like up to meThey look up to meI got fake people showin\\' fake love to meStraight up to my face, straight up to my face[Verse 1]Somethin\\' ain\\'t right when we talkin\\'Somethin\\' ain\\'t right when we talkin\\'Look like you hidin\\' your problemsReally you never was solidNo, you can\\'t \"son\" meYou won\\'t never get to run meJust when shit look out of reachI reach back like one, threeLike one, three, yeah[Pre-Chorus]That\\'s when they smile in my faceWhole time they wanna take my placeWhole time they wanna take my placeWhole time they wanna take my placeYeah, I know they wanna take my placeI can tell that love is fakeI don\\'t trust a word you sayHow you wanna clique up after your mistakes?Look you in the face, and it\\'s just not the same[Chorus]I\\'ve been down so long, it look like up to meThey look up to meI got fake people showin\\' fake love to meStraight up to my face, straight up to my faceI\\'ve been down so long, it look like up to meThey look up to meI got fake people showin\\' fake love to meStraight up to my face, straight up to my face[Verse 2]Yeah, straight up to my face, tryna play it safeVibe switch like night and dayI can see it, like, right awayI came up, you changed upI caught that whole playSince, things never been the sameYou might also like[Pre-Chorus]That\\'s when they smile in my faceWhole time they wanna take my placeWhole time they wanna take my placeWhole time they wanna take my placeYeah, I know they wanna take my placeI can tell that love is fake (I can tell that love is fake)I don\\'t trust a word you say (I don\\'t trust a word)How you wanna clique up after your mistakes?(That\\'s just what I heard)Look you in the face, and it\\'s just not the same[Chorus]I\\'ve been down so long, it look like up to meThey look up to meI got fake people showin\\' fake love to meStraight up to my face, straight up to my faceI\\'ve been down so long, it look like up to meThey look up to meI got fake people showin\\' fake love to meStraight up to my face, straight up to my face[Outro]SkrrtAnd more chune for your headtopSo watch how you speak on my name, you know?193EmbedCancelHow to Format Lyrics:Type out all lyrics, even repeating song parts like the chorusLyrics should be broken down into individual linesUse section headers above different song parts like [Verse], [Chorus], etc.Use italics (<i>lyric</i>) and bold (<b>lyric</b>) to distinguish between different vocalists in the same song partIf you don’t understand a lyric, use [?]To learn more, check out our transcription guide or visit our transcribers forumAboutGenius Annotation6 contributors“Fake Love” finds Drake criticizing friends and associates who only show him love because of his incredible success. He identifies their false emotions and explains how he deals with them. The song was released during Drake’s birthday episode of OVO Sound Radio.Expand +45922ShareAsk us a question about this songAsk a question *\\u200cWho is pictured on the album art?Genius Answer3 contributorsDrake’s father, Dennis Graham.\\nWhere can I listen to \"Fake Love\"?Genius Answer4 contributorsThe song is available for purchase on iTunes, and can be streamed on Apple Music, Tidal, and Spotify.Does Drake often employ a dancehall sound in his music?Genius Answer2 contributorsOn Views, Drake proved he was inspired by the dancehall vibe—songs like “Controlla,” “One Dance,” “With You,” and “Too Good” drew inspiration from the island-themed sound.TranslationsMore Life (2017)Drake1. Free Smoke2. No Long Talk3. Passionfruit4. Jorja Interlude5. Get It Together6. Madiba Riddim7. Blem8. 44229. Gyalchester10. Skepta Interlude11. Portland12. Sacrifices13. Nothings Into Somethings14. Teenage Fever15. KMT16. Lose You17. Can’t Have Everything18. Glow19. Since Way Back20. Fake Love21. Ice Melts22. Do Not DisturbMore Life [Note]CreditsProduced ByVinylz & GingWritten ByJohn Whitehead, Gene McFadden, Leon Huff, Starrah, Ging, Vinylz & DrakeLicensing\\u200bpeermusic, LatinAutor, LatinAutorPerf, UMPG / We Publish Music, PEDL, UBEM, MINT_BMG, ARESA, Forward Music Publishing, LatinAutor - SonyATV, Sony Music Entertainment, CMRRA, BMI, LatinAutor - Warner Chappell, Global Music Rights, SOLAR Music Rights Management, Pulse Music Group, Warner/Chappell, ASCAP, Universal Recordings, Young Money, Cash Money Records & Universal Music GroupDistributorUniversal Music GroupCopyright ©Young Money & Cash Money RecordsPhonographic Copyright ℗Young Money & Cash Money RecordsPublisherSOLAR Music Rights Management, PEDL, UBEM, CMRRA, Universal Music Group, LatinAutor, Concord Music Group, Sony Music Entertainment, New World Music, Warner Music Group, Warner/Chappell, Sandra Gale, Casablanca Media Publishing, EMI April Music, Vinylz Music Group, Pulse Music Group, Sony/ATV Tunes, Shay Noelle Publishing, People Over Planes, Nyan King Music, EMI Music Publishing Group, Warner-Tamerlane Publishing Corp. & Mijac MusicPerformance RightsBMI, ASCAP & SOCANLabelRepublic Records, OVO Sound, Young Money & Cash Money RecordsPremiereBeats 1 & OVO Sound RadioRelease DateOctober 23, 2016Fake Love SamplesPony by\\xa0GinuwineSongs That Sample Fake LoveFak3 Lov3 by\\xa0Aw3som3\\xa0Alv1n, Fake Love (E-Mix) by\\xa0Eric\\xa0Bellinger, 21 Salute by\\xa0Hafto, Fake Love (Remix) by\\xa0JLatrel\\xa0 Yahmir & No Fake by\\xa0SkemeFake Love InterpolationsBack Stabbers by\\xa0The\\xa0O\\'JaysSongs That Interpolate Fake LoveFake Love by\\xa0Carstens, Say So (Payroll) by\\xa0Big\\xa0Ant Dog & Better Positions by\\xa0OctavianFake Love CoversFake Love by\\xa0KIDZ\\xa0BOP Kids, FAKE LUV REMIX by\\xa0Renzilla (Ft.\\xa0Malik\\xa0McPherson & Malik\\xa0McPherson), Paper Planes - triple j Like A Version by\\xa0SLUMBERJACK (Ft.\\xa0K.Flay), Fake Love by\\xa0Capsize, Fake Love x Sneakin\\' by\\xa0Normani, Fake Love (Drake Cover) by\\xa0Wonder\\xa0the Boy & Fake Love x Broccoli x Caroline Mashup by\\xa0William\\xa0Singe & Alex AionoFake Love RemixesFake Love by\\xa0Dre\\xa0Rich Kidd, Fake Love (Remix) by\\xa0DaBaby, FAKE LUV REMIX by\\xa0Renzilla (Ft.\\xa0Malik\\xa0McPherson & Malik\\xa0McPherson), A me mi by\\xa0Gemitaiz (Ft.\\xa0Achille\\xa0Lauro), Fake Love by\\xa0Dan\\xa0Lee, Patience (Freestyle) by\\xa0RAY\\xa0BLK, Fake Love (Acoustic) by\\xa0Shawn\\xa0Mendes, Fake Love (Remix) by\\xa0Avery\\xa0Wilson & Fake Love by\\xa0Mila\\xa0JFake Love TranslationsDrake - Fake Love (Traducción al Español) by\\xa0Genius\\xa0Traducciones al EspañolView Fake Love samplesTagsR&BRapAlternative R&BTrapCanadaExpand CommentsSign Up And Drop Knowledge 🤓Genius is the ultimate source of music knowledge, created by scholars like you who share facts and insight about the songs and artists they love.Sign UpGenius is the world’s biggest collection of song lyrics and musical knowledgeAbout GeniusContributor GuidelinesPressShopAdvertisePrivacy PolicyPrivacy PreferencesLicensingJobsDevelopersCopyright PolicyContact UsSign InDo Not Sell My Personal Information© 2023 ML Genius Holdings, LLCTerms of UseVerified ArtistsAll Artists:abcdefghijklmnopqrstuvwxyz#Hot Songs:CALL ME CRAZYA Letter to Everyone Who’s Hurt MeJohn Cena - Bing Chilling (Romanized)Shakira: Bzrp Music Sessions, Vol. 53Sie weißView All\\n\\n\\n\\n\\n\\n\\n\\n\\n\\n\\n\\n\\n\\n\\n\\n\\n\\n\\n\\n'"
      ]
     },
     "execution_count": 27,
     "metadata": {},
     "output_type": "execute_result"
    }
   ],
   "source": [
    "pagina"
   ]
  },
  {
   "cell_type": "code",
   "execution_count": null,
   "metadata": {},
   "outputs": [],
   "source": [
    "pagina"
   ]
  },
  {
   "cell_type": "code",
   "execution_count": 14,
   "metadata": {},
   "outputs": [
    {
     "data": {
      "text/plain": [
       "'October 23, 2016'"
      ]
     },
     "execution_count": 14,
     "metadata": {},
     "output_type": "execute_result"
    }
   ],
   "source": [
    "release_date"
   ]
  },
  {
   "cell_type": "code",
   "execution_count": null,
   "metadata": {},
   "outputs": [],
   "source": [
    "lyrics + lyrics2"
   ]
  },
  {
   "cell_type": "code",
   "execution_count": null,
   "metadata": {},
   "outputs": [],
   "source": [
    "canciones = {\n",
    "    'lyrics': [],\n",
    "    'release_date': []\n",
    "}"
   ]
  },
  {
   "cell_type": "code",
   "execution_count": null,
   "metadata": {},
   "outputs": [],
   "source": [
    "for index, row in tracks.iterrows():\n",
    "    print(row['artist'].split(',')[0],'---', row['track'])\n",
    "    ## iniciamos el web driver\n",
    "    opciones= Options()\n",
    "    opciones.add_argument(\"--start-maximized\")\n",
    "    driver = webdriver.Chrome(ChromeDriverManager().install())\n",
    "    driver.get('https://genius.com/')\n",
    "    driver.maximize_window()\n",
    "    driver.set_window_size(1920, 1080)\n",
    "    ## te metes dentro de la página y con inspeccionar, seleccionas el elemento de las cookies --> copy / selector\n",
    "    ##por si tu ordenador es un poco lento, le puedes poner un tiempo para que intente hacerlo\n",
    "    driver.implicitly_wait(30)\n",
    "    ## si quieres tardar más, le pones un sleep\n",
    "    ## sleep(20)\n",
    "    ## acepto los cookies\n",
    "    driver.find_element('css selector', '#onetrust-accept-btn-handler').click()\n",
    "    sleep(1)\n",
    "    ## busco el nombre del actor que quiero buscar\n",
    "    driver.find_element('css selector', '#application > div > div.PageHeaderdesktop__Container-bhx5ui-0.dmNhEr > div.PageHeaderdesktop__Left-bhx5ui-2.ctcvqz > form > input').send_keys(row['artist'].split(',')[0] + ' ' + row['track'], Keys.ENTER)\n",
    "    sleep(1)\n",
    "    driver.find_element('xpath', '/html/body/routable-page/ng-outlet/search-results-page/div/div[2]/div[1]/div[1]/search-result-section/div/div[2]/search-result-items/div/search-result-item/div/mini-song-card/a').click()\n",
    "    driver.implicitly_wait(30)\n",
    "    ## extraigo la información de la letra de cada canción\n",
    "    all_lyrics = ''\n",
    "    for item in range(1,15):\n",
    "        try:\n",
    "            lyrics = driver.find_element('css selector', f'#lyrics-root > div:nth-child({item})').text\n",
    "            if len(lyrics) > 12:\n",
    "                all_lyrics += lyrics\n",
    "            else:\n",
    "                continue\n",
    "        except:\n",
    "            continue\n",
    "    canciones['lyrics'].append(all_lyrics)\n",
    "    sleep(1)\n",
    "    try:\n",
    "        release_date = driver.find_element('xpath', '//*[@id=\"application\"]/main/div[1]/div[3]/div[1]/div[2]/div/div[1]/span[1]/span').text\n",
    "    except:\n",
    "        release_date = driver.find_element('xpath', '//*[@id=\"application\"]/main/div[1]/div[4]/div/div[1]/div[3]/div').text\n",
    "    canciones['release_date'].append(release_date)"
   ]
  },
  {
   "cell_type": "code",
   "execution_count": null,
   "metadata": {},
   "outputs": [],
   "source": [
    "canciones"
   ]
  },
  {
   "attachments": {},
   "cell_type": "markdown",
   "metadata": {},
   "source": [
    "# Beautiful Soup\n",
    "Prueba"
   ]
  },
  {
   "cell_type": "code",
   "execution_count": 18,
   "metadata": {},
   "outputs": [],
   "source": [
    "canciones = {\n",
    "    'lyrics': [],\n",
    "    'release_date': []\n",
    "}"
   ]
  },
  {
   "cell_type": "code",
   "execution_count": 49,
   "metadata": {},
   "outputs": [],
   "source": [
    "url = 'https://genius.com/Drake-one-dance-lyrics#song-info'"
   ]
  },
  {
   "cell_type": "code",
   "execution_count": 50,
   "metadata": {},
   "outputs": [
    {
     "data": {
      "text/plain": [
       "<Response [200]>"
      ]
     },
     "execution_count": 50,
     "metadata": {},
     "output_type": "execute_result"
    }
   ],
   "source": [
    "res = requests.get(url)\n",
    "res ## tiene que dar 200 "
   ]
  },
  {
   "cell_type": "code",
   "execution_count": 51,
   "metadata": {},
   "outputs": [
    {
     "data": {
      "text/plain": [
       "bytes"
      ]
     },
     "execution_count": 51,
     "metadata": {},
     "output_type": "execute_result"
    }
   ],
   "source": [
    "type(res.content) ## para consultarel html de la página"
   ]
  },
  {
   "cell_type": "code",
   "execution_count": 52,
   "metadata": {},
   "outputs": [
    {
     "data": {
      "text/plain": [
       "bs4.BeautifulSoup"
      ]
     },
     "execution_count": 52,
     "metadata": {},
     "output_type": "execute_result"
    }
   ],
   "source": [
    "sopa = BeautifulSoup(res.content, 'html.parser')\n",
    "type(sopa) ## es más amigable, pero sigue siendo html"
   ]
  },
  {
   "attachments": {},
   "cell_type": "markdown",
   "metadata": {},
   "source": [
    "Datos canciones"
   ]
  },
  {
   "cell_type": "code",
   "execution_count": 23,
   "metadata": {},
   "outputs": [
    {
     "data": {
      "text/plain": [
       "'April 5, 2016'"
      ]
     },
     "execution_count": 23,
     "metadata": {},
     "output_type": "execute_result"
    }
   ],
   "source": [
    "pagina = sopa.text\n",
    "re.findall(r'Date(\\w+ \\d+, \\d+)', pagina)[0]"
   ]
  },
  {
   "cell_type": "code",
   "execution_count": 53,
   "metadata": {},
   "outputs": [
    {
     "data": {
      "text/plain": [
       "'\\n\\n\\nDrake – One Dance Lyrics | Genius Lyrics\\n\\n\\n\\n\\n\\n\\n\\n\\n\\n\\n\\n\\n\\n\\n\\n\\n\\n\\n\\n\\n\\n\\n\\n\\n\\n\\n\\n\\n\\n\\n\\n\\n\\n\\n\\n\\n\\n\\n\\n\\n\\n\\n\\n\\n\\n\\n\\n\\n\\n\\n\\n\\n\\n\\n\\n\\n\\n\\n\\n\\n\\nFeaturedChartsVideosPromote Your MusicSign UpOne DanceDrakeTrack 12 on\\xa0Views\\xa0“One Dance” is an R&B song with dancehall and Afrobeats inflections, featuring a slowed down sample of the vocals and chord stabs from a 2008 UK Funky house anthem, Kyla’s… Read More\\xa0FeaturingKyla & WizkidProduced byDJ Maphorisa, 40 & 2 moreRelease DateApril 5, 2016View All Credits\\xa016.1M290233TranslationsTürkçeEspañolEnglishDeutschFrançaisOne Dance Lyrics[Refrain: Kyla]Baby, I like your style[Verse 1: Drake]Grips on your waist, front way, back wayYou know that I don\\'t playStreets not safe but I never run awayEven when I\\'m awayOti, otiThere\\'s never much love when we go OTI pray to make it back in one pieceI pray, I pray[Chorus: Drake]That\\'s why I need a one danceGot a Hennessy in my handOne more time \\'fore I goHigher powers taking a hold on meI need a one danceGot a Hennessy in my handOne more time \\'fore I goHigher powers taking a hold on me[Refrain: Kyla]Baby, I like your style[Verse 2: Drake]Strength and guidanceAll that I\\'m wishing for my friendsNobody makes it from my endsI had to bust up the silenceYou know you gotta stick by meSoon as you see the text, reply meI don\\'t wanna spend time fightingWe\\'ve got no time, and that\\'s why[Chorus: Drake]I need a one danceGot a Hennessy in my handOne more time \\'fore I goHigher powers taking a hold on meI need a one danceGot a Hennessy in my handOne more time \\'fore I goHigher powers taking a hold on meYou might also like[Post-Chorus: Wizkid]Got a pretty girl and she love me long timeWine it, wine it, she love me long timeOh, yeah, very long timeBack up, back up, back up, and wine amBack up, back up, and wine am, girl, justBack up, back up, back up, and wine amOh, yeah, very long timeBack, up, back up and wine am, girl[Bridge: Kyla]Oh, tell me, I need to knowWhere do you wanna go?\\'Cause if you\\'re down, I\\'ll take it slowMake you lose control[Breakdown: Kyla & Wizkid]Where, where, whereWhere, where, where, where (Oh, yeah, very long time)Where, where, where (Back up, back up, and wine am, girl)Where, where, where, where\\'Cause if you\\'re down (Back up, back up, and–)\\'Cause if you\\'re down (Back up, back up, and–)\\'Cause if you\\'re down (Back up, back up, and–)[Chorus: Drake & Kyla]I need a one dance (Where, where, where)Got a Hennessy in my hand (Where, where, where, where)One more time \\'fore I go (Where)Higher powers taking a hold on me (Where, where, where, where)I need a one danceGot a Hennessy in my handOne more time \\'fore I goHigher powers taking a hold on me[Outro]How do you spell \"Hennessy?\"I put two \"N\"s and two \"S\"es, is it like that? Hen... Henn... Henn...It\\'s definitely not showing upI know \"Hennessy\" has two \"S\"es for sure, so I\\'m gonna take out one of the \"N\"s233EmbedCancelHow to Format Lyrics:Type out all lyrics, even repeating song parts like the chorusLyrics should be broken down into individual linesUse section headers above different song parts like [Verse], [Chorus], etc.Use italics (<i>lyric</i>) and bold (<b>lyric</b>) to distinguish between different vocalists in the same song partIf you don’t understand a lyric, use [?]To learn more, check out our transcription guide or visit our transcribers forumAboutGenius Annotation12 contributors“One Dance” is an R&B song with dancehall and Afrobeats inflections, featuring a slowed down sample of the vocals and chord stabs from a 2008 UK Funky house anthem, Kyla’s “Do You Mind,” produced by Crazy Cousinz.\\n“One Dance” also features Nigerian singer Wizkid—he and Drake teamed up in 2015 to remix his track “Ojuelegba.”\\nSpotify released their list of most-streamed songs of summer 2016—“One Dance” took the number one spot on the US and Global charts. On October 17, 2016, “One Dance” became the number one streamed song in the streaming service’s history.Expand +50013ShareAsk us a question about this songAsk a question *\\u200cTranslationsGenius Answer4 contributors\\nFrench Translation\\nGerman Translation\\nPolish Translation\\nSpanish Translation\\nTurkish Translation\\nWhat have the artists said about this song?Verified CommentaryKylavia PitchforkGenius Answer1 contributorThey got my track, cut the bits out that they wanted, and just made a song out of it. They explained to me that two tunes [from Views] had been leaked, so they weren’t going to send the song over to me. They played a little snippet of it over the phone. They were very much like, “Let’s run with this version, there’s no time for recording it or anything like that. We’re getting hacked left, right, and center.”\\nI thought it was going to be a good few weeks before it dropped, but I saw it in the paper on Monday, and Tuesday it was out. It was really crazy, really quick.Was \"One Dance\" Drake\\'s first #1 song?Genius Answer4 contributorsYes, on May 21, 2016, “One Dance” became Drake’s first #1 single on the Billboard charts.\\nHe had been featured on two #1 singles prior to “One Dance,” but they were both under Rihanna’s name: “What’s My Name?” and “Work.”\\nHe had reached #2 twice as a solo artist prior “Once Dance,” with “Best I Ever Had” and “Hotline Bling.”What does \"oti\" mean?What are the inspirations for this song?Who is WizKid?What did Nineteen85 have to say about this song?What does \"Hennessy in my hand\" mean?What does OT mean?Are Wiz Kid and Drake friends?Has this track received any certifications?What higher powers are Drake referring to?Why isn\\'t one dance on YouTube?What else has Kyla said about the song ?Is there a live performance of this song?Views (2016)Drake1. Keep the Family Close2. 93. U With Me?4. Feel No Ways5. Hype6. Weston Road Flows7. Redemption8. With You9. Faithful10. Still Here11. Controlla12. One Dance13. Grammys14. Child’s Play15. Pop Style16. Too Good17. Summers Over Interlude18. Fire & Desire19. Views20. Hotline BlingExpand CreditsFeaturingKyla & WizkidProduced ByDJ Maphorisa, 40, Wizkid & Nineteen85Written ByDrake, 40, Wizkid, Kyla, Nineteen85, Logan Sama, China Black, DJ Maphorisa & Crazy CousinzLabelOVO Sound, Young Money, Cash Money Records & Republic RecordsLicensingUMPG / We Publish Music, Kobalt Music, ARESA, BMG, Forward Music Publishing, LatinAutorPerf, Sentric Music, LatinAutor - PeerMusic, Adorando Brazil, LatinAutor - UMPG, UBEM, Sony Music Entertainment, AMRA BR, CMRRA, Global Music Rights, MINT_BMG, ASCAP, SOLAR Music Rights Management, BMI, AMRA, LatinAutor - SonyATV, Ultra Music, Universal Recordings, Young Money, Cash Money Records & Universal Music GroupDistributorUniversal Music GroupCopyright ©Young Money & Cash Money RecordsPhonographic Copyright ℗Young Money & Cash Money RecordsCo-Producer40, DJ Maphorisa & WizkidPerformance RightsPRS & SOCANPublisherSandra Gale, Mavor and Moses Publishing, Forward Music Publishing, Global Music Rights, \\u200bpeermusic, LatinAutor, Ultra Music, Universal Music Group, Flukes Music, Digital Music & Media Publishing, Kobalt Music, BMG, EMI Pop Music Publishing, EMI April Music, Roncesvalles Music Publishing, Nyan King Music, EMI Music Publishing Group, Sentric Music, Sony Music Entertainment, EMI Blackwood Music, BMG Platinum Songs & Ultra EmpireAssistant Mixing Engineer40 & Ryan “Scotian Potion” DalyDAW Systems EngineerLes Bateman & Lindsay WarnnerAssistant Recording EngineerGregg Moffett & Harley ArsenaultAdditional InstrumentationNineteen85Assistant Mastering EngineerDave HuffmanMastering EngineerChris AthensMixing EngineerNoel “Gadget” CampbellRecording Engineer40PremiereOVO Sound Radio & Beats 1Recorded AtS.O.T.A. Studios, Toronto, ONRelease DateApril 5, 2016One Dance SamplesDo You Mind by\\xa0KylaSongs That Sample One DanceDon\\'t Compare by\\xa0NAV, Da Outside by\\xa0Big\\xa0Baller B, Currents by\\xa0Drake, Do You Mind* by\\xa0Bad\\xa0Gyal, 2000-2019 mashup | 200 songs from the last 20 years by\\xa0YamiNoBahamut, No Lies by\\xa0KihLah, Im Rhythmus gefangen by\\xa0CAPO, ¿Qué me hicistes? - One Dance Woodz Version by\\xa0Miky\\xa0Woodz, Baila Baila Baila by\\xa0Ozuna & One Dance (Remix) by\\xa0Devvon\\xa0TerrellSongs That Interpolate One DanceHello Mate by\\xa0ArrDee (Ft.\\xa0Kyla), One dance by\\xa0Joé\\xa0Dwèt Filé, \\u200bstay inside remix by\\xa0BETWEEN\\xa0FRIENDS, The Cold Room - S1-E12 by\\xa0Mixtape\\xa0Madness, Tweeko, Yanko & Joints, You Know That I Don\\'t Play by\\xa0Itssvd, GASHADOKURO by\\xa0CRONA\\xa0(DigitalHearts), One Dance Remix by\\xa0KLY\\xa0(SA), Sex with Me by\\xa0Bright\\xa0Campa, J-Pro vs. Bill Collector by\\xa0King\\xa0of the Dot (Ft.\\xa0Bill\\xa0Collector & J-Pro), Stephanie by\\xa0Nick\\xa0Carter Green, Summer 2016 by\\xa0L.E.J & Please Forgive Me by\\xa0DrakeOne Dance CoversOne Dance by\\xa0Shiloh\\xa0Dynasty, One Dance (Drake Cover) by\\xa0Emie, One Dance by\\xa0Vitamin\\xa0String Quartet, I Wanna (One Dance) With Somebody by\\xa0Chris\\xa0Mann, One Dance (Remake) by\\xa0Dontmesswithjuan (Ft.\\xa0Francya), 2016 Mashup by\\xa0Kurt\\xa0Hugo Schneider & Sam Tsui, One Dance by\\xa0Leahy\\xa0& Mac (Ft.\\xa0Chrissy\\xa0Spratt), One Dance by\\xa0Sara\\xa0Farell, One Dance by\\xa0Emma\\xa0Heesters, Closer by\\xa0Tiffany\\xa0Alvord, One Dance by\\xa0Conor\\xa0Maynard (Ft.\\xa0Harper), Bruno Mars - 24K Magic (SING OFF) by\\xa0Conor\\xa0Maynard & Alex Aiono, One Dance by\\xa0Bars\\xa0and Melody, One Dance by\\xa0Alyxx\\xa0Dione, One Dance by\\xa0Boyce\\xa0Avenue, One Dance by\\xa0KIDZ\\xa0BOP Kids, One Dance by\\xa0ROMES, One Dance (Drake Cover) by\\xa0Arianna\\xa0Afsar & One Dance / Hasta El Amanecer (Mashup) by\\xa0Alex\\xa0AionoOne Dance RemixesUnited State of Pop 2016 (Into Pieces) by\\xa0DJ\\xa0Earworm, Decade of Pop: The 2010s (100 Song Mashup) by\\xa0DJ\\xa0Earworm, Plan B by\\xa0Eladio\\xa0Carrión, One Dancehall by\\xa0LeMagic,\\xa0Keko Music & Ozuna (Ft.\\xa0Ñengo\\xa0Flow & Zion\\xa0& Lennox), SummerMash \\'16 by\\xa0DJ\\xa0Earworm, Bullet by\\xa0Gifta (Ft.\\xa0Kalash), Smile by\\xa0Laruzo (Ft.\\xa0Moe\\xa0Phoenix), One Dance (Remix) by\\xa0Lil\\xa0Nibba, Nightlife by\\xa0Sickick, One Dance (Remix) by\\xa0Trabass (Ft.\\xa0Khxos), One Dance (Minecraft Parody) by\\xa0Galaxy\\xa0Goats, Bust up the silence by\\xa0Yung\\xa0Soft, Never Had Crisp by\\xa0Bri\\xa0Crisp & The Sargent, One Dance (Aryay Remix) by\\xa0Aryay, One Dance (Dub) by\\xa0Drake (Ft.\\xa0Kyla & Wizkid), One Dance (Remix) by\\xa0Jadakiss\\xa0& Nino Man & One Dance (Remix) by\\xa0Justin\\xa0Bieber (Ft.\\xa0Kyla)One Dance TranslationsDrake - One Dance ft. Wizkid & Kyla (Türkçe Çeviri) by\\xa0Genius\\xa0Türkçe Çeviri, Drake - One Dance (Traducción al Español) by\\xa0Genius\\xa0Traducciones al Español, Drake - One Dance (Polskie Tłumaczenie) by\\xa0Polskie\\xa0tłumaczenia Genius, Drake - One Dance (feat. Kyla & Wizkid) (Deutsche Übersetzung) by\\xa0Genius\\xa0Deutsche Übersetzungen & Drake - One Dance (Traduction Française) by\\xa0Genius\\xa0Traductions FrançaisesView One Dance samplesTagsPopR&BContemporary R&BPop-R&BNigeriaAfrobeatsDancehallCanadaExpand CommentsSign Up And Drop Knowledge 🤓Genius is the ultimate source of music knowledge, created by scholars like you who share facts and insight about the songs and artists they love.Sign UpGenius is the world’s biggest collection of song lyrics and musical knowledgeAbout GeniusContributor GuidelinesPressShopAdvertisePrivacy PolicyPrivacy PreferencesLicensingJobsDevelopersCopyright PolicyContact UsSign InDo Not Sell My Personal Information© 2023 ML Genius Holdings, LLCTerms of UseVerified ArtistsAll Artists:abcdefghijklmnopqrstuvwxyz#Hot Songs:Kill Bill藤井風 (Fujii Kaze) - 死ぬのがいいわ (Shinunoga E-Wa) (Romanized)Viva la Vida米津玄師 (Kenshi Yonezu) - KICK BACK (Romanized)Shakira: Bzrp Music Sessions, Vol. 53View All\\n\\n\\n\\n\\n\\n\\n\\n\\n\\n\\n\\n\\n\\n\\n\\n\\n\\n\\n\\n'"
      ]
     },
     "execution_count": 53,
     "metadata": {},
     "output_type": "execute_result"
    }
   ],
   "source": [
    "pagina"
   ]
  },
  {
   "attachments": {},
   "cell_type": "markdown",
   "metadata": {},
   "source": [
    "# Beautiful soup + selenium"
   ]
  },
  {
   "cell_type": "code",
   "execution_count": null,
   "metadata": {},
   "outputs": [],
   "source": [
    "canciones = {\n",
    "    'lyrics': [],\n",
    "    'release_date': []\n",
    "}"
   ]
  },
  {
   "cell_type": "code",
   "execution_count": null,
   "metadata": {},
   "outputs": [],
   "source": [
    "for index, row in tracks.iterrows():\n",
    "    print(row['artist'].split(',')[0],'---', row['track'])\n",
    "    ## iniciamos el web driver\n",
    "    opciones= Options()\n",
    "    opciones.add_argument(\"--start-maximized\")\n",
    "    driver = webdriver.Chrome(ChromeDriverManager().install())\n",
    "    driver.get('https://genius.com/')\n",
    "    driver.maximize_window()\n",
    "    driver.set_window_size(1920, 1080)\n",
    "    ## te metes dentro de la página y con inspeccionar, seleccionas el elemento de las cookies --> copy / selector\n",
    "    ##por si tu ordenador es un poco lento, le puedes poner un tiempo para que intente hacerlo\n",
    "    driver.implicitly_wait(30)\n",
    "    ## si quieres tardar más, le pones un sleep\n",
    "    ## sleep(20)\n",
    "    ## acepto los cookies\n",
    "    driver.find_element('css selector', '#onetrust-accept-btn-handler').click()\n",
    "    sleep(1)\n",
    "    ## busco el nombre de canción que quiero buscar\n",
    "    driver.find_element('css selector', '#application > div > div.PageHeaderdesktop__Container-bhx5ui-0.dmNhEr > div.PageHeaderdesktop__Left-bhx5ui-2.ctcvqz > form > input').send_keys(row['artist'].split(',')[0] + ' ' + row['track'], Keys.ENTER)\n",
    "    sleep(1)\n",
    "    ## selecciono el resultado de la búsqueda que quiero\n",
    "    driver.find_element('xpath', '/html/body/routable-page/ng-outlet/search-results-page/div/div[2]/div[1]/div[2]/search-result-section/div/div[2]/search-result-items/div[1]/search-result-item/div/mini-song-card/a').click()\n",
    "    driver.implicitly_wait(30)\n",
    "    ## extraigo la información de la letra de cada canción\n",
    "    page_source = driver.page_source\n",
    "    res = requests.get(url)\n",
    "    soup = BeautifulSoup(res.content, 'html.parser')\n",
    "    pagina = sopa.text\n",
    "    canciones['release_date'].append(re.findall(r'Date(\\w+ \\d+, \\d+)', pagina)[0])\n",
    "    #break"
   ]
  },
  {
   "cell_type": "code",
   "execution_count": null,
   "metadata": {},
   "outputs": [],
   "source": [
    "canciones"
   ]
  },
  {
   "cell_type": "code",
   "execution_count": null,
   "metadata": {},
   "outputs": [],
   "source": [
    "tracks"
   ]
  },
  {
   "cell_type": "code",
   "execution_count": null,
   "metadata": {},
   "outputs": [],
   "source": [
    "urls = []\n",
    "for index, row in tracks.iterrows():\n",
    "    urls.append(f\"https://genius.com/{row['artist'].split(',')[0].replace(' ','-')}-{row['track'].replace(' ','-')}\")\n",
    "urls[10:15]"
   ]
  },
  {
   "attachments": {},
   "cell_type": "markdown",
   "metadata": {},
   "source": [
    "# test"
   ]
  },
  {
   "cell_type": "code",
   "execution_count": 47,
   "metadata": {},
   "outputs": [],
   "source": [
    "genius_search_url = f\"http://api.genius.com/search?q={'drake one love'}&access_token={token}\""
   ]
  },
  {
   "cell_type": "code",
   "execution_count": 44,
   "metadata": {},
   "outputs": [],
   "source": [
    "response = requests.get(genius_search_url)\n",
    "json_data = response.json()"
   ]
  },
  {
   "cell_type": "code",
   "execution_count": 45,
   "metadata": {},
   "outputs": [
    {
     "data": {
      "text/plain": [
       "{'meta': {'status': 200},\n",
       " 'response': {'hits': [{'highlights': [],\n",
       "    'index': 'song',\n",
       "    'type': 'song',\n",
       "    'result': {'annotation_count': 1,\n",
       "     'api_path': '/songs/4329719',\n",
       "     'artist_names': 'Union Jack',\n",
       "     'full_title': \"Don't Test Me by\\xa0Union\\xa0Jack\",\n",
       "     'header_image_thumbnail_url': 'https://images.genius.com/41006413d9d2672bdea99e9f05b2ca06.300x310x1.png',\n",
       "     'header_image_url': 'https://images.genius.com/41006413d9d2672bdea99e9f05b2ca06.496x512x1.png',\n",
       "     'id': 4329719,\n",
       "     'language': 'en',\n",
       "     'lyrics_owner_id': 7970562,\n",
       "     'lyrics_state': 'complete',\n",
       "     'path': '/Union-jack-dont-test-me-lyrics',\n",
       "     'pyongs_count': None,\n",
       "     'relationships_index_url': 'https://genius.com/Union-jack-dont-test-me-sample',\n",
       "     'release_date_components': {'year': 2018, 'month': 11, 'day': 1},\n",
       "     'release_date_for_display': 'November 1, 2018',\n",
       "     'release_date_with_abbreviated_month_for_display': 'Nov. 1, 2018',\n",
       "     'song_art_image_thumbnail_url': 'https://images.genius.com/41006413d9d2672bdea99e9f05b2ca06.300x310x1.png',\n",
       "     'song_art_image_url': 'https://images.genius.com/41006413d9d2672bdea99e9f05b2ca06.496x512x1.png',\n",
       "     'stats': {'unreviewed_annotations': 1, 'hot': False},\n",
       "     'title': 'Don’t Test Me',\n",
       "     'title_with_featured': \"Don't Test Me\",\n",
       "     'url': 'https://genius.com/Union-jack-dont-test-me-lyrics',\n",
       "     'featured_artists': [],\n",
       "     'primary_artist': {'api_path': '/artists/381227',\n",
       "      'header_image_url': 'https://assets.genius.com/images/default_avatar_300.png?1673384758',\n",
       "      'id': 381227,\n",
       "      'image_url': 'https://assets.genius.com/images/default_avatar_300.png?1673384758',\n",
       "      'is_meme_verified': False,\n",
       "      'is_verified': False,\n",
       "      'name': 'Union Jack',\n",
       "      'url': 'https://genius.com/artists/Union-jack'}}},\n",
       "   {'highlights': [],\n",
       "    'index': 'song',\n",
       "    'type': 'song',\n",
       "    'result': {'annotation_count': 0,\n",
       "     'api_path': '/songs/4135338',\n",
       "     'artist_names': 'Philthy Rich',\n",
       "     'full_title': 'Interlude M.A.C #3 by\\xa0Philthy\\xa0Rich',\n",
       "     'header_image_thumbnail_url': 'https://images.genius.com/4b47b68360dac3b50315c2d634ecaf4b.300x300x1.jpg',\n",
       "     'header_image_url': 'https://images.genius.com/4b47b68360dac3b50315c2d634ecaf4b.939x939x1.jpg',\n",
       "     'id': 4135338,\n",
       "     'language': 'en',\n",
       "     'lyrics_owner_id': 2976672,\n",
       "     'lyrics_state': 'complete',\n",
       "     'path': '/Philthy-rich-interlude-mac-3-lyrics',\n",
       "     'pyongs_count': None,\n",
       "     'relationships_index_url': 'https://genius.com/Philthy-rich-interlude-mac-3-sample',\n",
       "     'release_date_components': {'year': 2018, 'month': 12, 'day': 7},\n",
       "     'release_date_for_display': 'December 7, 2018',\n",
       "     'release_date_with_abbreviated_month_for_display': 'Dec. 7, 2018',\n",
       "     'song_art_image_thumbnail_url': 'https://images.genius.com/4b47b68360dac3b50315c2d634ecaf4b.300x300x1.jpg',\n",
       "     'song_art_image_url': 'https://images.genius.com/4b47b68360dac3b50315c2d634ecaf4b.939x939x1.jpg',\n",
       "     'stats': {'unreviewed_annotations': 0, 'hot': False},\n",
       "     'title': 'Interlude M.A.C #3',\n",
       "     'title_with_featured': 'Interlude M.A.C #3',\n",
       "     'url': 'https://genius.com/Philthy-rich-interlude-mac-3-lyrics',\n",
       "     'featured_artists': [],\n",
       "     'primary_artist': {'api_path': '/artists/29745',\n",
       "      'header_image_url': 'https://images.genius.com/c2cfa1349e2972ca1514b40ef2d09bed.1000x998x1.jpg',\n",
       "      'id': 29745,\n",
       "      'image_url': 'https://images.genius.com/afd833f9ae9bc564e41ff3a4f4898b8c.598x598x1.jpg',\n",
       "      'is_meme_verified': False,\n",
       "      'is_verified': False,\n",
       "      'name': 'Philthy Rich',\n",
       "      'url': 'https://genius.com/artists/Philthy-rich'}}},\n",
       "   {'highlights': [],\n",
       "    'index': 'song',\n",
       "    'type': 'song',\n",
       "    'result': {'annotation_count': 0,\n",
       "     'api_path': '/songs/6650090',\n",
       "     'artist_names': 'Genius Romanizations',\n",
       "     'full_title': 'TOMORROW X TOGETHER - Angel Or Devil (Japanese Version) [Romanized] by\\xa0Genius\\xa0Romanizations',\n",
       "     'header_image_thumbnail_url': 'https://images.genius.com/76434b5f3976e18d1139448c2735bd62.300x300x1.jpg',\n",
       "     'header_image_url': 'https://images.genius.com/76434b5f3976e18d1139448c2735bd62.1000x1000x1.jpg',\n",
       "     'id': 6650090,\n",
       "     'language': 'romanization',\n",
       "     'lyrics_owner_id': 13027162,\n",
       "     'lyrics_state': 'complete',\n",
       "     'path': '/Genius-romanizations-tomorrow-x-together-angel-or-devil-japanese-version-romanized-lyrics',\n",
       "     'pyongs_count': None,\n",
       "     'relationships_index_url': 'https://genius.com/Genius-romanizations-tomorrow-x-together-angel-or-devil-japanese-version-romanized-sample',\n",
       "     'release_date_components': {'year': 2020, 'month': 1, 'day': 14},\n",
       "     'release_date_for_display': 'January 14, 2020',\n",
       "     'release_date_with_abbreviated_month_for_display': 'Jan. 14, 2020',\n",
       "     'song_art_image_thumbnail_url': 'https://images.genius.com/76434b5f3976e18d1139448c2735bd62.300x300x1.jpg',\n",
       "     'song_art_image_url': 'https://images.genius.com/76434b5f3976e18d1139448c2735bd62.1000x1000x1.jpg',\n",
       "     'stats': {'unreviewed_annotations': 0, 'hot': False},\n",
       "     'title': 'TOMORROW X TOGETHER - Angel Or Devil (Japanese Version) [Romanized]',\n",
       "     'title_with_featured': 'TOMORROW X TOGETHER - Angel Or Devil (Japanese Version) [Romanized]',\n",
       "     'url': 'https://genius.com/Genius-romanizations-tomorrow-x-together-angel-or-devil-japanese-version-romanized-lyrics',\n",
       "     'featured_artists': [],\n",
       "     'primary_artist': {'api_path': '/artists/1507735',\n",
       "      'header_image_url': 'https://images.genius.com/d1bd81b4e1111bb99768ade045b4046a.1000x495x1.png',\n",
       "      'id': 1507735,\n",
       "      'image_url': 'https://images.genius.com/aa42718e332e97c60273b466ef6dc987.999x999x1.png',\n",
       "      'is_meme_verified': False,\n",
       "      'is_verified': False,\n",
       "      'name': 'Genius Romanizations',\n",
       "      'url': 'https://genius.com/artists/Genius-romanizations'}}},\n",
       "   {'highlights': [],\n",
       "    'index': 'song',\n",
       "    'type': 'song',\n",
       "    'result': {'annotation_count': 0,\n",
       "     'api_path': '/songs/7838272',\n",
       "     'artist_names': 'Drake White',\n",
       "     'full_title': 'The One That Loves You Girl by\\xa0Drake\\xa0White',\n",
       "     'header_image_thumbnail_url': 'https://images.genius.com/8b4a5f83704620390b66ecccfaaabb08.300x300x1.jpg',\n",
       "     'header_image_url': 'https://images.genius.com/8b4a5f83704620390b66ecccfaaabb08.667x667x1.jpg',\n",
       "     'id': 7838272,\n",
       "     'language': 'en',\n",
       "     'lyrics_owner_id': 12408240,\n",
       "     'lyrics_state': 'complete',\n",
       "     'path': '/Drake-white-the-one-that-loves-you-girl-lyrics',\n",
       "     'pyongs_count': None,\n",
       "     'relationships_index_url': 'https://genius.com/Drake-white-the-one-that-loves-you-girl-sample',\n",
       "     'release_date_components': None,\n",
       "     'release_date_for_display': None,\n",
       "     'release_date_with_abbreviated_month_for_display': None,\n",
       "     'song_art_image_thumbnail_url': 'https://images.genius.com/8b4a5f83704620390b66ecccfaaabb08.300x300x1.jpg',\n",
       "     'song_art_image_url': 'https://images.genius.com/8b4a5f83704620390b66ecccfaaabb08.667x667x1.jpg',\n",
       "     'stats': {'unreviewed_annotations': 0, 'hot': False},\n",
       "     'title': 'The One That Loves You Girl',\n",
       "     'title_with_featured': 'The One That Loves You Girl',\n",
       "     'url': 'https://genius.com/Drake-white-the-one-that-loves-you-girl-lyrics',\n",
       "     'featured_artists': [],\n",
       "     'primary_artist': {'api_path': '/artists/359289',\n",
       "      'header_image_url': 'https://images.genius.com/a8dd4fcea563c105910545c8692ee450.1000x667x1.jpg',\n",
       "      'id': 359289,\n",
       "      'image_url': 'https://images.genius.com/8b4a5f83704620390b66ecccfaaabb08.667x667x1.jpg',\n",
       "      'is_meme_verified': False,\n",
       "      'is_verified': False,\n",
       "      'name': 'Drake White',\n",
       "      'url': 'https://genius.com/artists/Drake-white'}}},\n",
       "   {'highlights': [],\n",
       "    'index': 'song',\n",
       "    'type': 'song',\n",
       "    'result': {'annotation_count': 0,\n",
       "     'api_path': '/songs/4789356',\n",
       "     'artist_names': 'Jeff the Diss Rapper',\n",
       "     'full_title': 'No one loves you (Drake Diss) by\\xa0Jeff\\xa0the Diss Rapper',\n",
       "     'header_image_thumbnail_url': 'https://assets.genius.com/images/default_cover_image.png?1673384758',\n",
       "     'header_image_url': 'https://assets.genius.com/images/default_cover_image.png?1673384758',\n",
       "     'id': 4789356,\n",
       "     'language': 'en',\n",
       "     'lyrics_owner_id': 7030490,\n",
       "     'lyrics_state': 'complete',\n",
       "     'path': '/Jeff-the-diss-rapper-no-one-loves-you-drake-diss-lyrics',\n",
       "     'pyongs_count': None,\n",
       "     'relationships_index_url': 'https://genius.com/Jeff-the-diss-rapper-no-one-loves-you-drake-diss-sample',\n",
       "     'release_date_components': {'year': 2019, 'month': 8, 'day': 15},\n",
       "     'release_date_for_display': 'August 15, 2019',\n",
       "     'release_date_with_abbreviated_month_for_display': 'Aug. 15, 2019',\n",
       "     'song_art_image_thumbnail_url': 'https://assets.genius.com/images/default_cover_image.png?1673384758',\n",
       "     'song_art_image_url': 'https://assets.genius.com/images/default_cover_image.png?1673384758',\n",
       "     'stats': {'unreviewed_annotations': 0, 'hot': False},\n",
       "     'title': 'No one loves you (Drake Diss)',\n",
       "     'title_with_featured': 'No one loves you (Drake Diss)',\n",
       "     'url': 'https://genius.com/Jeff-the-diss-rapper-no-one-loves-you-drake-diss-lyrics',\n",
       "     'featured_artists': [],\n",
       "     'primary_artist': {'api_path': '/artists/1920300',\n",
       "      'header_image_url': 'https://assets.genius.com/images/default_avatar_300.png?1673384758',\n",
       "      'id': 1920300,\n",
       "      'image_url': 'https://assets.genius.com/images/default_avatar_300.png?1673384758',\n",
       "      'is_meme_verified': False,\n",
       "      'is_verified': False,\n",
       "      'name': 'Jeff the Diss Rapper',\n",
       "      'url': 'https://genius.com/artists/Jeff-the-diss-rapper'}}},\n",
       "   {'highlights': [],\n",
       "    'index': 'song',\n",
       "    'type': 'song',\n",
       "    'result': {'annotation_count': 5,\n",
       "     'api_path': '/songs/2954985',\n",
       "     'artist_names': 'Natalia moreno',\n",
       "     'full_title': 'Top 5 Jams In 2016 by\\xa0Natalia\\xa0moreno',\n",
       "     'header_image_thumbnail_url': 'https://images.rapgenius.com/3b4e501efa5af6642e9f15e1452b8026.300x300x1.jpg',\n",
       "     'header_image_url': 'https://images.rapgenius.com/3b4e501efa5af6642e9f15e1452b8026.600x600x1.jpg',\n",
       "     'id': 2954985,\n",
       "     'language': 'en',\n",
       "     'lyrics_owner_id': 3917514,\n",
       "     'lyrics_state': 'complete',\n",
       "     'path': '/Natalia-moreno-top-5-jams-in-2016-annotated',\n",
       "     'pyongs_count': None,\n",
       "     'relationships_index_url': 'https://genius.com/Natalia-moreno-top-5-jams-in-2016-sample',\n",
       "     'release_date_components': None,\n",
       "     'release_date_for_display': None,\n",
       "     'release_date_with_abbreviated_month_for_display': None,\n",
       "     'song_art_image_thumbnail_url': 'https://images.rapgenius.com/3b4e501efa5af6642e9f15e1452b8026.300x300x1.jpg',\n",
       "     'song_art_image_url': 'https://images.rapgenius.com/3b4e501efa5af6642e9f15e1452b8026.600x600x1.jpg',\n",
       "     'stats': {'unreviewed_annotations': 5, 'hot': False},\n",
       "     'title': 'Top 5 Jams In 2016',\n",
       "     'title_with_featured': 'Top 5 Jams In 2016',\n",
       "     'url': 'https://genius.com/Natalia-moreno-top-5-jams-in-2016-annotated',\n",
       "     'featured_artists': [],\n",
       "     'primary_artist': {'api_path': '/artists/216988',\n",
       "      'header_image_url': 'https://assets.genius.com/images/default_avatar_300.png?1673384758',\n",
       "      'id': 216988,\n",
       "      'image_url': 'https://assets.genius.com/images/default_avatar_300.png?1673384758',\n",
       "      'is_meme_verified': False,\n",
       "      'is_verified': False,\n",
       "      'name': 'Natalia moreno',\n",
       "      'url': 'https://genius.com/artists/Natalia-moreno'}}},\n",
       "   {'highlights': [],\n",
       "    'index': 'song',\n",
       "    'type': 'song',\n",
       "    'result': {'annotation_count': 0,\n",
       "     'api_path': '/songs/3590566',\n",
       "     'artist_names': 'Scuffed Lizard',\n",
       "     'full_title': 'HENTAI by\\xa0Scuffed\\xa0Lizard',\n",
       "     'header_image_thumbnail_url': 'https://assets.genius.com/images/default_cover_image.png?1673384758',\n",
       "     'header_image_url': 'https://assets.genius.com/images/default_cover_image.png?1673384758',\n",
       "     'id': 3590566,\n",
       "     'language': 'en',\n",
       "     'lyrics_owner_id': 5589854,\n",
       "     'lyrics_state': 'complete',\n",
       "     'path': '/Scuffed-lizard-hentai-lyrics',\n",
       "     'pyongs_count': None,\n",
       "     'relationships_index_url': 'https://genius.com/Scuffed-lizard-hentai-sample',\n",
       "     'release_date_components': None,\n",
       "     'release_date_for_display': None,\n",
       "     'release_date_with_abbreviated_month_for_display': None,\n",
       "     'song_art_image_thumbnail_url': 'https://assets.genius.com/images/default_cover_image.png?1673384758',\n",
       "     'song_art_image_url': 'https://assets.genius.com/images/default_cover_image.png?1673384758',\n",
       "     'stats': {'unreviewed_annotations': 0, 'hot': False},\n",
       "     'title': 'HENTAI',\n",
       "     'title_with_featured': 'HENTAI',\n",
       "     'url': 'https://genius.com/Scuffed-lizard-hentai-lyrics',\n",
       "     'featured_artists': [],\n",
       "     'primary_artist': {'api_path': '/artists/1423426',\n",
       "      'header_image_url': 'https://assets.genius.com/images/default_avatar_300.png?1673384758',\n",
       "      'id': 1423426,\n",
       "      'image_url': 'https://assets.genius.com/images/default_avatar_300.png?1673384758',\n",
       "      'is_meme_verified': False,\n",
       "      'is_verified': False,\n",
       "      'name': 'Scuffed Lizard',\n",
       "      'url': 'https://genius.com/artists/Scuffed-lizard'}}},\n",
       "   {'highlights': [],\n",
       "    'index': 'song',\n",
       "    'type': 'song',\n",
       "    'result': {'annotation_count': 12,\n",
       "     'api_path': '/songs/2314278',\n",
       "     'artist_names': 'Genius',\n",
       "     'full_title': 'Most Quotable Lyrics From What A Time To Be Alive by\\xa0Genius',\n",
       "     'header_image_thumbnail_url': 'https://images.rapgenius.com/fa6a57b190e80cbbe6fccf582594be36.300x299x1.png',\n",
       "     'header_image_url': 'https://images.rapgenius.com/fa6a57b190e80cbbe6fccf582594be36.657x655x1.png',\n",
       "     'id': 2314278,\n",
       "     'language': 'en',\n",
       "     'lyrics_owner_id': 127862,\n",
       "     'lyrics_state': 'complete',\n",
       "     'path': '/Genius-most-quotable-lyrics-from-what-a-time-to-be-alive-annotated',\n",
       "     'pyongs_count': 18,\n",
       "     'relationships_index_url': 'https://genius.com/Genius-most-quotable-lyrics-from-what-a-time-to-be-alive-sample',\n",
       "     'release_date_components': {'year': 2015, 'month': 9, 'day': 28},\n",
       "     'release_date_for_display': 'September 28, 2015',\n",
       "     'release_date_with_abbreviated_month_for_display': 'Sep. 28, 2015',\n",
       "     'song_art_image_thumbnail_url': 'https://images.rapgenius.com/fa6a57b190e80cbbe6fccf582594be36.300x299x1.png',\n",
       "     'song_art_image_url': 'https://images.rapgenius.com/fa6a57b190e80cbbe6fccf582594be36.657x655x1.png',\n",
       "     'stats': {'unreviewed_annotations': 0, 'hot': False, 'pageviews': 27990},\n",
       "     'title': 'Most Quotable Lyrics From What A Time To Be Alive',\n",
       "     'title_with_featured': 'Most Quotable Lyrics From What A Time To Be Alive',\n",
       "     'url': 'https://genius.com/Genius-most-quotable-lyrics-from-what-a-time-to-be-alive-annotated',\n",
       "     'featured_artists': [],\n",
       "     'primary_artist': {'api_path': '/artists/204611',\n",
       "      'header_image_url': 'https://images.genius.com/822a5f872a1fcfe377695dc0046c6bc6.900x176x1.jpg',\n",
       "      'id': 204611,\n",
       "      'image_url': 'https://images.genius.com/0ca83e3130e1303a7f78ba351e3091cd.1000x1000x1.png',\n",
       "      'is_meme_verified': True,\n",
       "      'is_verified': True,\n",
       "      'name': 'Genius',\n",
       "      'url': 'https://genius.com/artists/Genius',\n",
       "      'iq': 78043}}}]}}"
      ]
     },
     "execution_count": 45,
     "metadata": {},
     "output_type": "execute_result"
    }
   ],
   "source": [
    "json_data"
   ]
  },
  {
   "attachments": {},
   "cell_type": "markdown",
   "metadata": {},
   "source": [
    "# Export"
   ]
  },
  {
   "cell_type": "code",
   "execution_count": null,
   "metadata": {},
   "outputs": [],
   "source": [
    "with open('../data/pickle/genius_dataset.pickle', 'wb') as data_spotify:\n",
    "    pickle.dump(tracks, data_spotify)"
   ]
  }
 ],
 "metadata": {
  "kernelspec": {
   "display_name": "iron",
   "language": "python",
   "name": "python3"
  },
  "language_info": {
   "codemirror_mode": {
    "name": "ipython",
    "version": 3
   },
   "file_extension": ".py",
   "mimetype": "text/x-python",
   "name": "python",
   "nbconvert_exporter": "python",
   "pygments_lexer": "ipython3",
   "version": "3.9.13"
  },
  "orig_nbformat": 4,
  "vscode": {
   "interpreter": {
    "hash": "e59d0b279e6461be5b4ea7b62838527cd8f41f3cbc9a1147b1a83b32d75ab689"
   }
  }
 },
 "nbformat": 4,
 "nbformat_minor": 2
}
