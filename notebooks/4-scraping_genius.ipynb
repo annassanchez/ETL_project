{
 "cells": [
  {
   "cell_type": "code",
   "execution_count": 30,
   "metadata": {},
   "outputs": [],
   "source": [
    "import requests\n",
    "import pandas as pd\n",
    "from time import sleep\n",
    "import numpy as np\n",
    "from tqdm import tqdm\n",
    "\n",
    "from selenium import webdriver\n",
    "from webdriver_manager.chrome import ChromeDriverManager\n",
    "from selenium.webdriver.common.keys import Keys\n",
    "from selenium.webdriver.chrome.options import Options\n",
    "import numpy as np\n",
    "\n",
    "import warnings\n",
    "warnings.filterwarnings('ignore')"
   ]
  },
  {
   "cell_type": "code",
   "execution_count": 31,
   "metadata": {},
   "outputs": [],
   "source": [
    "import pickle"
   ]
  },
  {
   "cell_type": "code",
   "execution_count": 37,
   "id": "7f9dfb16",
   "metadata": {},
   "outputs": [],
   "source": [
    "# antes de empezar importamos las librerías que vamos a usar. \n",
    "\n",
    "import requests\n",
    "import re\n",
    "import pandas as pd\n",
    "import numpy as np\n",
    "from bs4 import BeautifulSoup"
   ]
  },
  {
   "attachments": {},
   "cell_type": "markdown",
   "metadata": {},
   "source": [
    "# Importing pickle file"
   ]
  },
  {
   "cell_type": "code",
   "execution_count": 32,
   "metadata": {},
   "outputs": [],
   "source": [
    "with open('../data/pickle/dataset_viral150_unique.pickle', 'rb') as tracks:\n",
    "    tracks = pickle.load(tracks)"
   ]
  },
  {
   "cell_type": "code",
   "execution_count": 33,
   "metadata": {},
   "outputs": [
    {
     "data": {
      "text/html": [
       "<div>\n",
       "<style scoped>\n",
       "    .dataframe tbody tr th:only-of-type {\n",
       "        vertical-align: middle;\n",
       "    }\n",
       "\n",
       "    .dataframe tbody tr th {\n",
       "        vertical-align: top;\n",
       "    }\n",
       "\n",
       "    .dataframe thead th {\n",
       "        text-align: right;\n",
       "    }\n",
       "</style>\n",
       "<table border=\"1\" class=\"dataframe\">\n",
       "  <thead>\n",
       "    <tr style=\"text-align: right;\">\n",
       "      <th></th>\n",
       "      <th>url</th>\n",
       "      <th>artist_clean</th>\n",
       "      <th>track_clean</th>\n",
       "    </tr>\n",
       "  </thead>\n",
       "  <tbody>\n",
       "    <tr>\n",
       "      <th>8246</th>\n",
       "      <td>https://open.spotify.com/track/4Km5HrUvYTaSUfi...</td>\n",
       "      <td>migos</td>\n",
       "      <td>bad and boujee (feat. lil uzi vert)</td>\n",
       "    </tr>\n",
       "    <tr>\n",
       "      <th>8247</th>\n",
       "      <td>https://open.spotify.com/track/343YBumqHu19cGo...</td>\n",
       "      <td>drake</td>\n",
       "      <td>fake love</td>\n",
       "    </tr>\n",
       "    <tr>\n",
       "      <th>8248</th>\n",
       "      <td>https://open.spotify.com/track/5aAx2yezTd8zXrk...</td>\n",
       "      <td>the weeknd, daft punk</td>\n",
       "      <td>starboy</td>\n",
       "    </tr>\n",
       "    <tr>\n",
       "      <th>8249</th>\n",
       "      <td>https://open.spotify.com/track/7BKLCZ1jbUBVqRi...</td>\n",
       "      <td>the chainsmokers, halsey</td>\n",
       "      <td>closer</td>\n",
       "    </tr>\n",
       "    <tr>\n",
       "      <th>8250</th>\n",
       "      <td>https://open.spotify.com/track/6fujklziTHa8uoM...</td>\n",
       "      <td>rae sremmurd, gucci mane</td>\n",
       "      <td>black beatles</td>\n",
       "    </tr>\n",
       "  </tbody>\n",
       "</table>\n",
       "</div>"
      ],
      "text/plain": [
       "                                                    url  \\\n",
       "8246  https://open.spotify.com/track/4Km5HrUvYTaSUfi...   \n",
       "8247  https://open.spotify.com/track/343YBumqHu19cGo...   \n",
       "8248  https://open.spotify.com/track/5aAx2yezTd8zXrk...   \n",
       "8249  https://open.spotify.com/track/7BKLCZ1jbUBVqRi...   \n",
       "8250  https://open.spotify.com/track/6fujklziTHa8uoM...   \n",
       "\n",
       "                  artist_clean                          track_clean  \n",
       "8246                     migos  bad and boujee (feat. lil uzi vert)  \n",
       "8247                     drake                            fake love  \n",
       "8248     the weeknd, daft punk                              starboy  \n",
       "8249  the chainsmokers, halsey                               closer  \n",
       "8250  rae sremmurd, gucci mane                        black beatles  "
      ]
     },
     "execution_count": 33,
     "metadata": {},
     "output_type": "execute_result"
    }
   ],
   "source": [
    "tracks.head()"
   ]
  },
  {
   "cell_type": "code",
   "execution_count": 34,
   "metadata": {},
   "outputs": [
    {
     "data": {
      "text/html": [
       "<div>\n",
       "<style scoped>\n",
       "    .dataframe tbody tr th:only-of-type {\n",
       "        vertical-align: middle;\n",
       "    }\n",
       "\n",
       "    .dataframe tbody tr th {\n",
       "        vertical-align: top;\n",
       "    }\n",
       "\n",
       "    .dataframe thead th {\n",
       "        text-align: right;\n",
       "    }\n",
       "</style>\n",
       "<table border=\"1\" class=\"dataframe\">\n",
       "  <thead>\n",
       "    <tr style=\"text-align: right;\">\n",
       "      <th></th>\n",
       "      <th>url</th>\n",
       "      <th>artist</th>\n",
       "      <th>track</th>\n",
       "    </tr>\n",
       "  </thead>\n",
       "  <tbody>\n",
       "    <tr>\n",
       "      <th>8246</th>\n",
       "      <td>https://open.spotify.com/track/4Km5HrUvYTaSUfi...</td>\n",
       "      <td>migos</td>\n",
       "      <td>bad and boujee (feat. lil uzi vert)</td>\n",
       "    </tr>\n",
       "    <tr>\n",
       "      <th>8247</th>\n",
       "      <td>https://open.spotify.com/track/343YBumqHu19cGo...</td>\n",
       "      <td>drake</td>\n",
       "      <td>fake love</td>\n",
       "    </tr>\n",
       "    <tr>\n",
       "      <th>8248</th>\n",
       "      <td>https://open.spotify.com/track/5aAx2yezTd8zXrk...</td>\n",
       "      <td>the weeknd, daft punk</td>\n",
       "      <td>starboy</td>\n",
       "    </tr>\n",
       "    <tr>\n",
       "      <th>8249</th>\n",
       "      <td>https://open.spotify.com/track/7BKLCZ1jbUBVqRi...</td>\n",
       "      <td>the chainsmokers, halsey</td>\n",
       "      <td>closer</td>\n",
       "    </tr>\n",
       "    <tr>\n",
       "      <th>8250</th>\n",
       "      <td>https://open.spotify.com/track/6fujklziTHa8uoM...</td>\n",
       "      <td>rae sremmurd, gucci mane</td>\n",
       "      <td>black beatles</td>\n",
       "    </tr>\n",
       "  </tbody>\n",
       "</table>\n",
       "</div>"
      ],
      "text/plain": [
       "                                                    url  \\\n",
       "8246  https://open.spotify.com/track/4Km5HrUvYTaSUfi...   \n",
       "8247  https://open.spotify.com/track/343YBumqHu19cGo...   \n",
       "8248  https://open.spotify.com/track/5aAx2yezTd8zXrk...   \n",
       "8249  https://open.spotify.com/track/7BKLCZ1jbUBVqRi...   \n",
       "8250  https://open.spotify.com/track/6fujklziTHa8uoM...   \n",
       "\n",
       "                        artist                                track  \n",
       "8246                     migos  bad and boujee (feat. lil uzi vert)  \n",
       "8247                     drake                            fake love  \n",
       "8248     the weeknd, daft punk                              starboy  \n",
       "8249  the chainsmokers, halsey                               closer  \n",
       "8250  rae sremmurd, gucci mane                        black beatles  "
      ]
     },
     "execution_count": 34,
     "metadata": {},
     "output_type": "execute_result"
    }
   ],
   "source": [
    "tracks.rename(columns={'track_clean':'track','artist_clean':'artist'}, inplace=True)\n",
    "tracks.head()"
   ]
  },
  {
   "attachments": {},
   "cell_type": "markdown",
   "metadata": {},
   "source": [
    "# Selenium"
   ]
  },
  {
   "attachments": {},
   "cell_type": "markdown",
   "metadata": {},
   "source": [
    "Configuro mi pestaña de selenium"
   ]
  },
  {
   "cell_type": "code",
   "execution_count": null,
   "metadata": {},
   "outputs": [],
   "source": [
    "driver = webdriver.Chrome(ChromeDriverManager().install())\n",
    "driver.get('https://chromedriver.chromium.org/downloads')"
   ]
  },
  {
   "attachments": {},
   "cell_type": "markdown",
   "metadata": {},
   "source": [
    "Voy a probar que me funcione la búsqueda de un elemento"
   ]
  },
  {
   "cell_type": "code",
   "execution_count": null,
   "metadata": {},
   "outputs": [],
   "source": [
    "## iniciamos el web driver\n",
    "opciones= Options()\n",
    "opciones.add_argument(\"--start-maximized\")\n",
    "driver = webdriver.Chrome(ChromeDriverManager().install())\n",
    "driver.get('https://genius.com/')\n",
    "driver.maximize_window()\n",
    "driver.set_window_size(1920, 1080)\n",
    "## te metes dentro de la página y con inspeccionar, seleccionas el elemento de las cookies --> copy / selector\n",
    "##por si tu ordenador es un poco lento, le puedes poner un tiempo para que intente hacerlo\n",
    "driver.implicitly_wait(30)\n",
    "## si quieres tardar más, le pones un sleep\n",
    "## sleep(20)\n",
    "## acepto los cookies\n",
    "driver.find_element('css selector', '#onetrust-accept-btn-handler').click()\n",
    "sleep(1)\n",
    "## busco el nombre del actor que quiero buscar\n",
    "driver.find_element('css selector', '#application > div > div.PageHeaderdesktop__Container-bhx5ui-0.dmNhEr > div.PageHeaderdesktop__Left-bhx5ui-2.ctcvqz > form > input').send_keys('drake fake love', Keys.ENTER)\n",
    "sleep(1)\n",
    "driver.find_element('xpath', '/html/body/routable-page/ng-outlet/search-results-page/div/div[2]/div[1]/div[1]/search-result-section/div/div[2]/search-result-items/div/search-result-item/div/mini-song-card/a').click()\n",
    "driver.implicitly_wait(30)\n",
    "## extraigo la información de la letra de cada canción\n",
    "lyrics = driver.find_element('css selector', '#lyrics-root > div:nth-child(3)').text\n",
    "lyrics2 = driver.find_element('css selector', '#lyrics-root > div:nth-child(6)').text\n",
    "sleep(1)\n",
    "release_date = driver.find_element('css selector', '#application > main > div.SongPageGriddesktop-sc-1px5b71-0.jecoie.SongHeaderdesktop__Container-sc-1effuo1-0.fqavsD > div.SongHeaderdesktop__Column-sc-1effuo1-1.SongHeaderdesktop__Right-sc-1effuo1-4.ePANpp > div > div.HeaderMetadata__Grid-sc-1p42fnf-1.ePueMf > div:nth-child(2) > div').text\n",
    "#application > main > div.SongPageGriddesktop-sc-1px5b71-0.jecoie.SongHeaderdesktop__Container-sc-1effuo1-0.kEkpYM > div.SongHeaderdesktop__Column-sc-1effuo1-1.SongHeaderdesktop__Right-sc-1effuo1-4.ePANpp > div > div.HeaderMetadata__Grid-sc-1p42fnf-1.ePueMf > div:nth-child(3) > div"
   ]
  },
  {
   "cell_type": "code",
   "execution_count": null,
   "metadata": {},
   "outputs": [],
   "source": [
    "release_date"
   ]
  },
  {
   "cell_type": "code",
   "execution_count": null,
   "metadata": {},
   "outputs": [],
   "source": [
    "lyrics + lyrics2"
   ]
  },
  {
   "cell_type": "code",
   "execution_count": 35,
   "metadata": {},
   "outputs": [],
   "source": [
    "canciones = {\n",
    "    'lyrics': [],\n",
    "    'release_date': []\n",
    "}"
   ]
  },
  {
   "cell_type": "code",
   "execution_count": 36,
   "metadata": {},
   "outputs": [
    {
     "name": "stdout",
     "output_type": "stream",
     "text": [
      "migos --- bad and boujee (feat. lil uzi vert)\n"
     ]
    },
    {
     "name": "stderr",
     "output_type": "stream",
     "text": [
      "[WDM] - Downloading: 100%|██████████| 6.58M/6.58M [00:00<00:00, 35.7MB/s]\n"
     ]
    },
    {
     "name": "stdout",
     "output_type": "stream",
     "text": [
      "drake --- fake love\n",
      "the weeknd --- starboy\n",
      "the chainsmokers --- closer\n",
      "rae sremmurd --- black beatles\n",
      "shelley fka dram --- broccoli (feat. lil yachty)\n",
      "drake --- one dance\n",
      "aminé --- caroline\n",
      "dj snake --- let me love you\n",
      "big sean --- bounce back\n",
      "the weeknd --- i feel it coming\n",
      "bruno mars --- 24k magic\n",
      "machine gun kelly --- bad things (with camila cabello)\n"
     ]
    },
    {
     "ename": "NoSuchElementException",
     "evalue": "Message: no such element: Unable to locate element: {\"method\":\"xpath\",\"selector\":\"//*[@id=\"application\"]/main/div[1]/div[4]/div/div[1]/div[3]/div\"}\n  (Session info: chrome=108.0.5359.125)\nStacktrace:\nBacktrace:\n\t(No symbol) [0x00C0F243]\n\t(No symbol) [0x00B97FD1]\n\t(No symbol) [0x00A8D04D]\n\t(No symbol) [0x00ABC0B0]\n\t(No symbol) [0x00ABC22B]\n\t(No symbol) [0x00AEE612]\n\t(No symbol) [0x00AD85D4]\n\t(No symbol) [0x00AEC9EB]\n\t(No symbol) [0x00AD8386]\n\t(No symbol) [0x00AB163C]\n\t(No symbol) [0x00AB269D]\n\tGetHandleVerifier [0x00EA9A22+2655074]\n\tGetHandleVerifier [0x00E9CA24+2601828]\n\tGetHandleVerifier [0x00CB8C0A+619850]\n\tGetHandleVerifier [0x00CB7830+614768]\n\t(No symbol) [0x00BA05FC]\n\t(No symbol) [0x00BA5968]\n\t(No symbol) [0x00BA5A55]\n\t(No symbol) [0x00BB051B]\n\tBaseThreadInitThunk [0x76F47D69+25]\n\tRtlInitializeExceptionChain [0x77C2BB9B+107]\n\tRtlClearBits [0x77C2BB1F+191]\n",
     "output_type": "error",
     "traceback": [
      "\u001b[1;31m---------------------------------------------------------------------------\u001b[0m",
      "\u001b[1;31mNoSuchElementException\u001b[0m                    Traceback (most recent call last)",
      "Cell \u001b[1;32mIn [36], line 37\u001b[0m\n\u001b[0;32m     36\u001b[0m \u001b[39mtry\u001b[39;00m:\n\u001b[1;32m---> 37\u001b[0m     release_date \u001b[39m=\u001b[39m driver\u001b[39m.\u001b[39;49mfind_element(\u001b[39m'\u001b[39;49m\u001b[39mxpath\u001b[39;49m\u001b[39m'\u001b[39;49m, \u001b[39m'\u001b[39;49m\u001b[39m//*[@id=\u001b[39;49m\u001b[39m\"\u001b[39;49m\u001b[39mapplication\u001b[39;49m\u001b[39m\"\u001b[39;49m\u001b[39m]/main/div[1]/div[3]/div[1]/div[2]/div/div[1]/span[1]/span\u001b[39;49m\u001b[39m'\u001b[39;49m)\u001b[39m.\u001b[39mtext\n\u001b[0;32m     38\u001b[0m \u001b[39mexcept\u001b[39;00m:\n",
      "File \u001b[1;32mc:\\Users\\annas\\anaconda3\\envs\\iron\\lib\\site-packages\\selenium\\webdriver\\remote\\webdriver.py:861\u001b[0m, in \u001b[0;36mWebDriver.find_element\u001b[1;34m(self, by, value)\u001b[0m\n\u001b[0;32m    859\u001b[0m     value \u001b[39m=\u001b[39m \u001b[39m'\u001b[39m\u001b[39m[name=\u001b[39m\u001b[39m\"\u001b[39m\u001b[39m%s\u001b[39;00m\u001b[39m\"\u001b[39m\u001b[39m]\u001b[39m\u001b[39m'\u001b[39m \u001b[39m%\u001b[39m value\n\u001b[1;32m--> 861\u001b[0m \u001b[39mreturn\u001b[39;00m \u001b[39mself\u001b[39;49m\u001b[39m.\u001b[39;49mexecute(Command\u001b[39m.\u001b[39;49mFIND_ELEMENT, {\u001b[39m\"\u001b[39;49m\u001b[39musing\u001b[39;49m\u001b[39m\"\u001b[39;49m: by, \u001b[39m\"\u001b[39;49m\u001b[39mvalue\u001b[39;49m\u001b[39m\"\u001b[39;49m: value})[\u001b[39m\"\u001b[39m\u001b[39mvalue\u001b[39m\u001b[39m\"\u001b[39m]\n",
      "File \u001b[1;32mc:\\Users\\annas\\anaconda3\\envs\\iron\\lib\\site-packages\\selenium\\webdriver\\remote\\webdriver.py:444\u001b[0m, in \u001b[0;36mWebDriver.execute\u001b[1;34m(self, driver_command, params)\u001b[0m\n\u001b[0;32m    443\u001b[0m \u001b[39mif\u001b[39;00m response:\n\u001b[1;32m--> 444\u001b[0m     \u001b[39mself\u001b[39;49m\u001b[39m.\u001b[39;49merror_handler\u001b[39m.\u001b[39;49mcheck_response(response)\n\u001b[0;32m    445\u001b[0m     response[\u001b[39m\"\u001b[39m\u001b[39mvalue\u001b[39m\u001b[39m\"\u001b[39m] \u001b[39m=\u001b[39m \u001b[39mself\u001b[39m\u001b[39m.\u001b[39m_unwrap_value(response\u001b[39m.\u001b[39mget(\u001b[39m\"\u001b[39m\u001b[39mvalue\u001b[39m\u001b[39m\"\u001b[39m, \u001b[39mNone\u001b[39;00m))\n",
      "File \u001b[1;32mc:\\Users\\annas\\anaconda3\\envs\\iron\\lib\\site-packages\\selenium\\webdriver\\remote\\errorhandler.py:249\u001b[0m, in \u001b[0;36mErrorHandler.check_response\u001b[1;34m(self, response)\u001b[0m\n\u001b[0;32m    248\u001b[0m     \u001b[39mraise\u001b[39;00m exception_class(message, screen, stacktrace, alert_text)  \u001b[39m# type: ignore[call-arg]  # mypy is not smart enough here\u001b[39;00m\n\u001b[1;32m--> 249\u001b[0m \u001b[39mraise\u001b[39;00m exception_class(message, screen, stacktrace)\n",
      "\u001b[1;31mNoSuchElementException\u001b[0m: Message: no such element: Unable to locate element: {\"method\":\"xpath\",\"selector\":\"//*[@id=\"application\"]/main/div[1]/div[3]/div[1]/div[2]/div/div[1]/span[1]/span\"}\n  (Session info: chrome=108.0.5359.125)\nStacktrace:\nBacktrace:\n\t(No symbol) [0x00C0F243]\n\t(No symbol) [0x00B97FD1]\n\t(No symbol) [0x00A8D04D]\n\t(No symbol) [0x00ABC0B0]\n\t(No symbol) [0x00ABC22B]\n\t(No symbol) [0x00AEE612]\n\t(No symbol) [0x00AD85D4]\n\t(No symbol) [0x00AEC9EB]\n\t(No symbol) [0x00AD8386]\n\t(No symbol) [0x00AB163C]\n\t(No symbol) [0x00AB269D]\n\tGetHandleVerifier [0x00EA9A22+2655074]\n\tGetHandleVerifier [0x00E9CA24+2601828]\n\tGetHandleVerifier [0x00CB8C0A+619850]\n\tGetHandleVerifier [0x00CB7830+614768]\n\t(No symbol) [0x00BA05FC]\n\t(No symbol) [0x00BA5968]\n\t(No symbol) [0x00BA5A55]\n\t(No symbol) [0x00BB051B]\n\tBaseThreadInitThunk [0x76F47D69+25]\n\tRtlInitializeExceptionChain [0x77C2BB9B+107]\n\tRtlClearBits [0x77C2BB1F+191]\n",
      "\nDuring handling of the above exception, another exception occurred:\n",
      "\u001b[1;31mNoSuchElementException\u001b[0m                    Traceback (most recent call last)",
      "Cell \u001b[1;32mIn [36], line 39\u001b[0m\n\u001b[0;32m     37\u001b[0m     release_date \u001b[39m=\u001b[39m driver\u001b[39m.\u001b[39mfind_element(\u001b[39m'\u001b[39m\u001b[39mxpath\u001b[39m\u001b[39m'\u001b[39m, \u001b[39m'\u001b[39m\u001b[39m//*[@id=\u001b[39m\u001b[39m\"\u001b[39m\u001b[39mapplication\u001b[39m\u001b[39m\"\u001b[39m\u001b[39m]/main/div[1]/div[3]/div[1]/div[2]/div/div[1]/span[1]/span\u001b[39m\u001b[39m'\u001b[39m)\u001b[39m.\u001b[39mtext\n\u001b[0;32m     38\u001b[0m \u001b[39mexcept\u001b[39;00m:\n\u001b[1;32m---> 39\u001b[0m     release_date \u001b[39m=\u001b[39m driver\u001b[39m.\u001b[39;49mfind_element(\u001b[39m'\u001b[39;49m\u001b[39mxpath\u001b[39;49m\u001b[39m'\u001b[39;49m, \u001b[39m'\u001b[39;49m\u001b[39m//*[@id=\u001b[39;49m\u001b[39m\"\u001b[39;49m\u001b[39mapplication\u001b[39;49m\u001b[39m\"\u001b[39;49m\u001b[39m]/main/div[1]/div[4]/div/div[1]/div[3]/div\u001b[39;49m\u001b[39m'\u001b[39;49m)\u001b[39m.\u001b[39mtext\n\u001b[0;32m     40\u001b[0m canciones[\u001b[39m'\u001b[39m\u001b[39mrelease_date\u001b[39m\u001b[39m'\u001b[39m]\u001b[39m.\u001b[39mappend(release_date)\n",
      "File \u001b[1;32mc:\\Users\\annas\\anaconda3\\envs\\iron\\lib\\site-packages\\selenium\\webdriver\\remote\\webdriver.py:861\u001b[0m, in \u001b[0;36mWebDriver.find_element\u001b[1;34m(self, by, value)\u001b[0m\n\u001b[0;32m    858\u001b[0m     by \u001b[39m=\u001b[39m By\u001b[39m.\u001b[39mCSS_SELECTOR\n\u001b[0;32m    859\u001b[0m     value \u001b[39m=\u001b[39m \u001b[39m'\u001b[39m\u001b[39m[name=\u001b[39m\u001b[39m\"\u001b[39m\u001b[39m%s\u001b[39;00m\u001b[39m\"\u001b[39m\u001b[39m]\u001b[39m\u001b[39m'\u001b[39m \u001b[39m%\u001b[39m value\n\u001b[1;32m--> 861\u001b[0m \u001b[39mreturn\u001b[39;00m \u001b[39mself\u001b[39;49m\u001b[39m.\u001b[39;49mexecute(Command\u001b[39m.\u001b[39;49mFIND_ELEMENT, {\u001b[39m\"\u001b[39;49m\u001b[39musing\u001b[39;49m\u001b[39m\"\u001b[39;49m: by, \u001b[39m\"\u001b[39;49m\u001b[39mvalue\u001b[39;49m\u001b[39m\"\u001b[39;49m: value})[\u001b[39m\"\u001b[39m\u001b[39mvalue\u001b[39m\u001b[39m\"\u001b[39m]\n",
      "File \u001b[1;32mc:\\Users\\annas\\anaconda3\\envs\\iron\\lib\\site-packages\\selenium\\webdriver\\remote\\webdriver.py:444\u001b[0m, in \u001b[0;36mWebDriver.execute\u001b[1;34m(self, driver_command, params)\u001b[0m\n\u001b[0;32m    442\u001b[0m response \u001b[39m=\u001b[39m \u001b[39mself\u001b[39m\u001b[39m.\u001b[39mcommand_executor\u001b[39m.\u001b[39mexecute(driver_command, params)\n\u001b[0;32m    443\u001b[0m \u001b[39mif\u001b[39;00m response:\n\u001b[1;32m--> 444\u001b[0m     \u001b[39mself\u001b[39;49m\u001b[39m.\u001b[39;49merror_handler\u001b[39m.\u001b[39;49mcheck_response(response)\n\u001b[0;32m    445\u001b[0m     response[\u001b[39m\"\u001b[39m\u001b[39mvalue\u001b[39m\u001b[39m\"\u001b[39m] \u001b[39m=\u001b[39m \u001b[39mself\u001b[39m\u001b[39m.\u001b[39m_unwrap_value(response\u001b[39m.\u001b[39mget(\u001b[39m\"\u001b[39m\u001b[39mvalue\u001b[39m\u001b[39m\"\u001b[39m, \u001b[39mNone\u001b[39;00m))\n\u001b[0;32m    446\u001b[0m     \u001b[39mreturn\u001b[39;00m response\n",
      "File \u001b[1;32mc:\\Users\\annas\\anaconda3\\envs\\iron\\lib\\site-packages\\selenium\\webdriver\\remote\\errorhandler.py:249\u001b[0m, in \u001b[0;36mErrorHandler.check_response\u001b[1;34m(self, response)\u001b[0m\n\u001b[0;32m    247\u001b[0m         alert_text \u001b[39m=\u001b[39m value[\u001b[39m\"\u001b[39m\u001b[39malert\u001b[39m\u001b[39m\"\u001b[39m]\u001b[39m.\u001b[39mget(\u001b[39m\"\u001b[39m\u001b[39mtext\u001b[39m\u001b[39m\"\u001b[39m)\n\u001b[0;32m    248\u001b[0m     \u001b[39mraise\u001b[39;00m exception_class(message, screen, stacktrace, alert_text)  \u001b[39m# type: ignore[call-arg]  # mypy is not smart enough here\u001b[39;00m\n\u001b[1;32m--> 249\u001b[0m \u001b[39mraise\u001b[39;00m exception_class(message, screen, stacktrace)\n",
      "\u001b[1;31mNoSuchElementException\u001b[0m: Message: no such element: Unable to locate element: {\"method\":\"xpath\",\"selector\":\"//*[@id=\"application\"]/main/div[1]/div[4]/div/div[1]/div[3]/div\"}\n  (Session info: chrome=108.0.5359.125)\nStacktrace:\nBacktrace:\n\t(No symbol) [0x00C0F243]\n\t(No symbol) [0x00B97FD1]\n\t(No symbol) [0x00A8D04D]\n\t(No symbol) [0x00ABC0B0]\n\t(No symbol) [0x00ABC22B]\n\t(No symbol) [0x00AEE612]\n\t(No symbol) [0x00AD85D4]\n\t(No symbol) [0x00AEC9EB]\n\t(No symbol) [0x00AD8386]\n\t(No symbol) [0x00AB163C]\n\t(No symbol) [0x00AB269D]\n\tGetHandleVerifier [0x00EA9A22+2655074]\n\tGetHandleVerifier [0x00E9CA24+2601828]\n\tGetHandleVerifier [0x00CB8C0A+619850]\n\tGetHandleVerifier [0x00CB7830+614768]\n\t(No symbol) [0x00BA05FC]\n\t(No symbol) [0x00BA5968]\n\t(No symbol) [0x00BA5A55]\n\t(No symbol) [0x00BB051B]\n\tBaseThreadInitThunk [0x76F47D69+25]\n\tRtlInitializeExceptionChain [0x77C2BB9B+107]\n\tRtlClearBits [0x77C2BB1F+191]\n"
     ]
    }
   ],
   "source": [
    "for index, row in tracks.iterrows():\n",
    "    print(row['artist'].split(',')[0],'---', row['track'])\n",
    "    ## iniciamos el web driver\n",
    "    opciones= Options()\n",
    "    opciones.add_argument(\"--start-maximized\")\n",
    "    driver = webdriver.Chrome(ChromeDriverManager().install())\n",
    "    driver.get('https://genius.com/')\n",
    "    driver.maximize_window()\n",
    "    driver.set_window_size(1920, 1080)\n",
    "    ## te metes dentro de la página y con inspeccionar, seleccionas el elemento de las cookies --> copy / selector\n",
    "    ##por si tu ordenador es un poco lento, le puedes poner un tiempo para que intente hacerlo\n",
    "    driver.implicitly_wait(30)\n",
    "    ## si quieres tardar más, le pones un sleep\n",
    "    ## sleep(20)\n",
    "    ## acepto los cookies\n",
    "    driver.find_element('css selector', '#onetrust-accept-btn-handler').click()\n",
    "    sleep(1)\n",
    "    ## busco el nombre del actor que quiero buscar\n",
    "    driver.find_element('css selector', '#application > div > div.PageHeaderdesktop__Container-bhx5ui-0.dmNhEr > div.PageHeaderdesktop__Left-bhx5ui-2.ctcvqz > form > input').send_keys(row['artist'].split(',')[0] + ' ' + row['track'], Keys.ENTER)\n",
    "    sleep(1)\n",
    "    driver.find_element('xpath', '/html/body/routable-page/ng-outlet/search-results-page/div/div[2]/div[1]/div[1]/search-result-section/div/div[2]/search-result-items/div/search-result-item/div/mini-song-card/a').click()\n",
    "    driver.implicitly_wait(30)\n",
    "    ## extraigo la información de la letra de cada canción\n",
    "    all_lyrics = ''\n",
    "    for item in range(1,15):\n",
    "        try:\n",
    "            lyrics = driver.find_element('css selector', f'#lyrics-root > div:nth-child({item})').text\n",
    "            if len(lyrics) > 12:\n",
    "                all_lyrics += lyrics\n",
    "            else:\n",
    "                continue\n",
    "        except:\n",
    "            continue\n",
    "    canciones['lyrics'].append(all_lyrics)\n",
    "    sleep(1)\n",
    "    try:\n",
    "        release_date = driver.find_element('xpath', '//*[@id=\"application\"]/main/div[1]/div[3]/div[1]/div[2]/div/div[1]/span[1]/span').text\n",
    "    except:\n",
    "        release_date = driver.find_element('xpath', '//*[@id=\"application\"]/main/div[1]/div[4]/div/div[1]/div[3]/div').text\n",
    "    canciones['release_date'].append(release_date)"
   ]
  },
  {
   "cell_type": "code",
   "execution_count": null,
   "metadata": {},
   "outputs": [],
   "source": [
    "canciones"
   ]
  },
  {
   "attachments": {},
   "cell_type": "markdown",
   "metadata": {},
   "source": [
    "# Beautiful Soup\n",
    "Prueba"
   ]
  },
  {
   "cell_type": "code",
   "execution_count": 38,
   "metadata": {},
   "outputs": [],
   "source": [
    "canciones = {\n",
    "    'lyrics': [],\n",
    "    'release_date': []\n",
    "}"
   ]
  },
  {
   "cell_type": "code",
   "execution_count": 54,
   "metadata": {},
   "outputs": [],
   "source": [
    "url = 'https://genius.com/Drake-one-dance-lyrics'"
   ]
  },
  {
   "cell_type": "code",
   "execution_count": 55,
   "metadata": {},
   "outputs": [
    {
     "data": {
      "text/plain": [
       "<Response [200]>"
      ]
     },
     "execution_count": 55,
     "metadata": {},
     "output_type": "execute_result"
    }
   ],
   "source": [
    "res = requests.get(url)\n",
    "res ## tiene que dar 200 "
   ]
  },
  {
   "cell_type": "code",
   "execution_count": 56,
   "metadata": {},
   "outputs": [
    {
     "data": {
      "text/plain": [
       "bytes"
      ]
     },
     "execution_count": 56,
     "metadata": {},
     "output_type": "execute_result"
    }
   ],
   "source": [
    "type(res.content) ## para consultarel html de la página"
   ]
  },
  {
   "cell_type": "code",
   "execution_count": 57,
   "metadata": {},
   "outputs": [
    {
     "data": {
      "text/plain": [
       "bs4.BeautifulSoup"
      ]
     },
     "execution_count": 57,
     "metadata": {},
     "output_type": "execute_result"
    }
   ],
   "source": [
    "sopa = BeautifulSoup(res.content, 'html.parser')\n",
    "type(sopa) ## es más amigable, pero sigue siendo html"
   ]
  },
  {
   "attachments": {},
   "cell_type": "markdown",
   "metadata": {},
   "source": [
    "Datos canciones"
   ]
  },
  {
   "cell_type": "code",
   "execution_count": 59,
   "metadata": {},
   "outputs": [
    {
     "data": {
      "text/plain": [
       "'April 5, 2016'"
      ]
     },
     "execution_count": 59,
     "metadata": {},
     "output_type": "execute_result"
    }
   ],
   "source": [
    "pagina = sopa.text\n",
    "re.findall(r'Date(\\w+ \\d+, \\d+)', pagina)[0]"
   ]
  },
  {
   "attachments": {},
   "cell_type": "markdown",
   "metadata": {},
   "source": [
    "# Beautiful soup + selenium"
   ]
  },
  {
   "cell_type": "code",
   "execution_count": 73,
   "metadata": {},
   "outputs": [],
   "source": [
    "canciones = {\n",
    "    'lyrics': [],\n",
    "    'release_date': []\n",
    "}"
   ]
  },
  {
   "cell_type": "code",
   "execution_count": 76,
   "metadata": {},
   "outputs": [
    {
     "name": "stdout",
     "output_type": "stream",
     "text": [
      "migos --- bad and boujee (feat. lil uzi vert)\n",
      "drake --- fake love\n",
      "the weeknd --- starboy\n",
      "the chainsmokers --- closer\n",
      "rae sremmurd --- black beatles\n",
      "shelley fka dram --- broccoli (feat. lil yachty)\n",
      "drake --- one dance\n",
      "aminé --- caroline\n",
      "dj snake --- let me love you\n",
      "big sean --- bounce back\n",
      "the weeknd --- i feel it coming\n",
      "bruno mars --- 24k magic\n",
      "machine gun kelly --- bad things (with camila cabello)\n",
      "21 savage --- x (feat. future)\n",
      "zayn --- i don’t wanna live forever (fifty shades darker) - from \"fifty shades darker (original motion picture soundtrack)\"\n",
      "maroon 5 --- don't wanna know\n",
      "rob $tone --- chill bill (feat. j. davi$ & spooks)\n",
      "j. cole --- deja vu\n",
      "young m.a --- ooouuu\n",
      "the weeknd --- party monster\n",
      "chance the rapper --- no problem (feat. lil wayne & 2 chainz)\n",
      "21 savage --- no heart\n",
      "hailee steinfeld --- starving\n",
      "the chainsmokers --- don't let me down (feat. daya)\n",
      "ariana grande --- side to side\n",
      "shawn mendes --- treat you better\n",
      "martin garrix --- in the name of love\n",
      "drake --- sneakin’\n",
      "justin timberlake --- can't stop the feeling! (original song from dreamworks animation's \"trolls\")\n",
      "fifth harmony --- work from home (feat. ty dolla $ign)\n",
      "twenty one pilots --- heathens\n",
      "lil uzi vert --- you was right\n",
      "ariana grande --- into you\n",
      "drake --- too good\n",
      "drake --- controlla\n",
      "calvin harris --- this is what you came for (feat. rihanna)\n",
      "james arthur --- say you won't let go\n",
      "the chainsmokers --- all we know\n",
      "young thug --- pick up the phone\n",
      "kyle --- ispy (feat. lil yachty)\n",
      "sia --- cheap thrills\n",
      "rihanna --- needed me\n",
      "major lazer --- cold water (feat. justin bieber & mø)\n",
      "desiigner --- panda\n",
      "alessia cara --- scars to your beautiful\n"
     ]
    }
   ],
   "source": [
    "for index, row in tracks.iterrows():\n",
    "    print(row['artist'].split(',')[0],'---', row['track'])\n",
    "    ## iniciamos el web driver\n",
    "    opciones= Options()\n",
    "    opciones.add_argument(\"--start-maximized\")\n",
    "    driver = webdriver.Chrome(ChromeDriverManager().install())\n",
    "    driver.get('https://genius.com/')\n",
    "    driver.maximize_window()\n",
    "    driver.set_window_size(1920, 1080)\n",
    "    ## te metes dentro de la página y con inspeccionar, seleccionas el elemento de las cookies --> copy / selector\n",
    "    ##por si tu ordenador es un poco lento, le puedes poner un tiempo para que intente hacerlo\n",
    "    driver.implicitly_wait(30)\n",
    "    ## si quieres tardar más, le pones un sleep\n",
    "    ## sleep(20)\n",
    "    ## acepto los cookies\n",
    "    driver.find_element('css selector', '#onetrust-accept-btn-handler').click()\n",
    "    sleep(1)\n",
    "    ## busco el nombre de canción que quiero buscar\n",
    "    driver.find_element('css selector', '#application > div > div.PageHeaderdesktop__Container-bhx5ui-0.dmNhEr > div.PageHeaderdesktop__Left-bhx5ui-2.ctcvqz > form > input').send_keys(row['artist'].split(',')[0] + ' ' + row['track'], Keys.ENTER)\n",
    "    sleep(1)\n",
    "    ## selecciono el resultado de la búsqueda que quiero\n",
    "    driver.find_element('xpath', '/html/body/routable-page/ng-outlet/search-results-page/div/div[2]/div[1]/div[2]/search-result-section/div/div[2]/search-result-items/div[1]/search-result-item/div/mini-song-card/a').click()\n",
    "    driver.implicitly_wait(30)\n",
    "    ## extraigo la información de la letra de cada canción\n",
    "    page_source = driver.page_source\n",
    "    res = requests.get(url)\n",
    "    soup = BeautifulSoup(res.content, 'html.parser')\n",
    "    pagina = sopa.text\n",
    "    canciones['release_date'].append(re.findall(r'Date(\\w+ \\d+, \\d+)', pagina)[0])\n",
    "    #break"
   ]
  },
  {
   "cell_type": "code",
   "execution_count": null,
   "metadata": {},
   "outputs": [
    {
     "data": {
      "text/plain": [
       "{'lyrics': [], 'release_date': ['April 5, 2016']}"
      ]
     },
     "execution_count": 75,
     "metadata": {},
     "output_type": "execute_result"
    }
   ],
   "source": [
    "canciones"
   ]
  },
  {
   "cell_type": "code",
   "execution_count": 61,
   "metadata": {},
   "outputs": [
    {
     "data": {
      "text/html": [
       "<div>\n",
       "<style scoped>\n",
       "    .dataframe tbody tr th:only-of-type {\n",
       "        vertical-align: middle;\n",
       "    }\n",
       "\n",
       "    .dataframe tbody tr th {\n",
       "        vertical-align: top;\n",
       "    }\n",
       "\n",
       "    .dataframe thead th {\n",
       "        text-align: right;\n",
       "    }\n",
       "</style>\n",
       "<table border=\"1\" class=\"dataframe\">\n",
       "  <thead>\n",
       "    <tr style=\"text-align: right;\">\n",
       "      <th></th>\n",
       "      <th>url</th>\n",
       "      <th>artist</th>\n",
       "      <th>track</th>\n",
       "    </tr>\n",
       "  </thead>\n",
       "  <tbody>\n",
       "    <tr>\n",
       "      <th>8246</th>\n",
       "      <td>https://open.spotify.com/track/4Km5HrUvYTaSUfi...</td>\n",
       "      <td>migos</td>\n",
       "      <td>bad and boujee (feat. lil uzi vert)</td>\n",
       "    </tr>\n",
       "    <tr>\n",
       "      <th>8247</th>\n",
       "      <td>https://open.spotify.com/track/343YBumqHu19cGo...</td>\n",
       "      <td>drake</td>\n",
       "      <td>fake love</td>\n",
       "    </tr>\n",
       "    <tr>\n",
       "      <th>8248</th>\n",
       "      <td>https://open.spotify.com/track/5aAx2yezTd8zXrk...</td>\n",
       "      <td>the weeknd, daft punk</td>\n",
       "      <td>starboy</td>\n",
       "    </tr>\n",
       "    <tr>\n",
       "      <th>8249</th>\n",
       "      <td>https://open.spotify.com/track/7BKLCZ1jbUBVqRi...</td>\n",
       "      <td>the chainsmokers, halsey</td>\n",
       "      <td>closer</td>\n",
       "    </tr>\n",
       "    <tr>\n",
       "      <th>8250</th>\n",
       "      <td>https://open.spotify.com/track/6fujklziTHa8uoM...</td>\n",
       "      <td>rae sremmurd, gucci mane</td>\n",
       "      <td>black beatles</td>\n",
       "    </tr>\n",
       "    <tr>\n",
       "      <th>...</th>\n",
       "      <td>...</td>\n",
       "      <td>...</td>\n",
       "      <td>...</td>\n",
       "    </tr>\n",
       "    <tr>\n",
       "      <th>26131455</th>\n",
       "      <td>https://open.spotify.com/track/6jDOs0wGlRn4jCg...</td>\n",
       "      <td>fase yoda</td>\n",
       "      <td>butterflies</td>\n",
       "    </tr>\n",
       "    <tr>\n",
       "      <th>26131463</th>\n",
       "      <td>https://open.spotify.com/track/7eQHxigpuDJjCG5...</td>\n",
       "      <td>max, ali gatie</td>\n",
       "      <td>butterflies</td>\n",
       "    </tr>\n",
       "    <tr>\n",
       "      <th>26131464</th>\n",
       "      <td>https://open.spotify.com/track/0kgRRHa5CMeCciI...</td>\n",
       "      <td>cooper alan, rvshvd</td>\n",
       "      <td>colt 45 (country remix)</td>\n",
       "    </tr>\n",
       "    <tr>\n",
       "      <th>26131472</th>\n",
       "      <td>https://open.spotify.com/track/7GLqR9ToJLb0PV3...</td>\n",
       "      <td>kali</td>\n",
       "      <td>mmm mmm (feat. atl jacob)</td>\n",
       "    </tr>\n",
       "    <tr>\n",
       "      <th>26138466</th>\n",
       "      <td>https://open.spotify.com/track/76oB6OFO1i4UFHL...</td>\n",
       "      <td>biz markie</td>\n",
       "      <td>vapors</td>\n",
       "    </tr>\n",
       "  </tbody>\n",
       "</table>\n",
       "<p>14659 rows × 3 columns</p>\n",
       "</div>"
      ],
      "text/plain": [
       "                                                        url  \\\n",
       "8246      https://open.spotify.com/track/4Km5HrUvYTaSUfi...   \n",
       "8247      https://open.spotify.com/track/343YBumqHu19cGo...   \n",
       "8248      https://open.spotify.com/track/5aAx2yezTd8zXrk...   \n",
       "8249      https://open.spotify.com/track/7BKLCZ1jbUBVqRi...   \n",
       "8250      https://open.spotify.com/track/6fujklziTHa8uoM...   \n",
       "...                                                     ...   \n",
       "26131455  https://open.spotify.com/track/6jDOs0wGlRn4jCg...   \n",
       "26131463  https://open.spotify.com/track/7eQHxigpuDJjCG5...   \n",
       "26131464  https://open.spotify.com/track/0kgRRHa5CMeCciI...   \n",
       "26131472  https://open.spotify.com/track/7GLqR9ToJLb0PV3...   \n",
       "26138466  https://open.spotify.com/track/76oB6OFO1i4UFHL...   \n",
       "\n",
       "                            artist                                track  \n",
       "8246                         migos  bad and boujee (feat. lil uzi vert)  \n",
       "8247                         drake                            fake love  \n",
       "8248         the weeknd, daft punk                              starboy  \n",
       "8249      the chainsmokers, halsey                               closer  \n",
       "8250      rae sremmurd, gucci mane                        black beatles  \n",
       "...                            ...                                  ...  \n",
       "26131455                 fase yoda                          butterflies  \n",
       "26131463            max, ali gatie                          butterflies  \n",
       "26131464       cooper alan, rvshvd              colt 45 (country remix)  \n",
       "26131472                      kali            mmm mmm (feat. atl jacob)  \n",
       "26138466                biz markie                               vapors  \n",
       "\n",
       "[14659 rows x 3 columns]"
      ]
     },
     "execution_count": 61,
     "metadata": {},
     "output_type": "execute_result"
    }
   ],
   "source": [
    "tracks"
   ]
  },
  {
   "cell_type": "code",
   "execution_count": 67,
   "metadata": {},
   "outputs": [
    {
     "data": {
      "text/plain": [
       "['https://genius.com/the-weeknd-i-feel-it-coming',\n",
       " 'https://genius.com/bruno-mars-24k-magic',\n",
       " 'https://genius.com/machine-gun-kelly-bad-things-(with-camila-cabello)',\n",
       " 'https://genius.com/21-savage-x-(feat.-future)',\n",
       " 'https://genius.com/zayn-i-don’t-wanna-live-forever-(fifty-shades-darker)---from-\"fifty-shades-darker-(original-motion-picture-soundtrack)\"']"
      ]
     },
     "execution_count": 67,
     "metadata": {},
     "output_type": "execute_result"
    }
   ],
   "source": [
    "urls = []\n",
    "for index, row in tracks.iterrows():\n",
    "    urls.append(f\"https://genius.com/{row['artist'].split(',')[0].replace(' ','-')}-{row['track'].replace(' ','-')}\")\n",
    "urls[10:15]"
   ]
  },
  {
   "attachments": {},
   "cell_type": "markdown",
   "metadata": {},
   "source": [
    "# Export"
   ]
  },
  {
   "cell_type": "code",
   "execution_count": null,
   "metadata": {},
   "outputs": [],
   "source": [
    "with open('../data/pickle/genius_dataset.pickle', 'wb') as data_spotify:\n",
    "    pickle.dump(tracks, data_spotify)"
   ]
  }
 ],
 "metadata": {
  "kernelspec": {
   "display_name": "iron",
   "language": "python",
   "name": "python3"
  },
  "language_info": {
   "codemirror_mode": {
    "name": "ipython",
    "version": 3
   },
   "file_extension": ".py",
   "mimetype": "text/x-python",
   "name": "python",
   "nbconvert_exporter": "python",
   "pygments_lexer": "ipython3",
   "version": "3.9.13"
  },
  "orig_nbformat": 4,
  "vscode": {
   "interpreter": {
    "hash": "e59d0b279e6461be5b4ea7b62838527cd8f41f3cbc9a1147b1a83b32d75ab689"
   }
  }
 },
 "nbformat": 4,
 "nbformat_minor": 2
}
