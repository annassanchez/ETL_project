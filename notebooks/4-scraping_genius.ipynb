{
 "cells": [
  {
   "cell_type": "code",
   "execution_count": 1,
   "metadata": {},
   "outputs": [],
   "source": [
    "import pandas as pd\n",
    "import numpy as np\n",
    "import requests\n",
    "import os \n",
    "from dotenv import load_dotenv\n",
    "import requests\n",
    "from tqdm import tqdm\n",
    "import pickle\n",
    "import json\n",
    "pd.options.display.max_columns = None"
   ]
  },
  {
   "cell_type": "code",
   "execution_count": 2,
   "metadata": {},
   "outputs": [],
   "source": [
    "from lyricsgenius import Genius"
   ]
  },
  {
   "attachments": {},
   "cell_type": "markdown",
   "metadata": {},
   "source": [
    "# Importing pickle file"
   ]
  },
  {
   "cell_type": "code",
   "execution_count": 3,
   "metadata": {},
   "outputs": [],
   "source": [
    "with open('../data/pickle/dataset_viral150_unique.pickle', 'rb') as tracks:\n",
    "    tracks = pickle.load(tracks)"
   ]
  },
  {
   "cell_type": "code",
   "execution_count": 4,
   "metadata": {},
   "outputs": [
    {
     "data": {
      "text/html": [
       "<div>\n",
       "<style scoped>\n",
       "    .dataframe tbody tr th:only-of-type {\n",
       "        vertical-align: middle;\n",
       "    }\n",
       "\n",
       "    .dataframe tbody tr th {\n",
       "        vertical-align: top;\n",
       "    }\n",
       "\n",
       "    .dataframe thead th {\n",
       "        text-align: right;\n",
       "    }\n",
       "</style>\n",
       "<table border=\"1\" class=\"dataframe\">\n",
       "  <thead>\n",
       "    <tr style=\"text-align: right;\">\n",
       "      <th></th>\n",
       "      <th>url</th>\n",
       "      <th>artist_clean</th>\n",
       "      <th>track_clean</th>\n",
       "    </tr>\n",
       "  </thead>\n",
       "  <tbody>\n",
       "    <tr>\n",
       "      <th>8246</th>\n",
       "      <td>https://open.spotify.com/track/4Km5HrUvYTaSUfi...</td>\n",
       "      <td>migos</td>\n",
       "      <td>bad and boujee (feat. lil uzi vert)</td>\n",
       "    </tr>\n",
       "    <tr>\n",
       "      <th>8247</th>\n",
       "      <td>https://open.spotify.com/track/343YBumqHu19cGo...</td>\n",
       "      <td>drake</td>\n",
       "      <td>fake love</td>\n",
       "    </tr>\n",
       "    <tr>\n",
       "      <th>8248</th>\n",
       "      <td>https://open.spotify.com/track/5aAx2yezTd8zXrk...</td>\n",
       "      <td>the weeknd, daft punk</td>\n",
       "      <td>starboy</td>\n",
       "    </tr>\n",
       "    <tr>\n",
       "      <th>8249</th>\n",
       "      <td>https://open.spotify.com/track/7BKLCZ1jbUBVqRi...</td>\n",
       "      <td>the chainsmokers, halsey</td>\n",
       "      <td>closer</td>\n",
       "    </tr>\n",
       "    <tr>\n",
       "      <th>8250</th>\n",
       "      <td>https://open.spotify.com/track/6fujklziTHa8uoM...</td>\n",
       "      <td>rae sremmurd, gucci mane</td>\n",
       "      <td>black beatles</td>\n",
       "    </tr>\n",
       "  </tbody>\n",
       "</table>\n",
       "</div>"
      ],
      "text/plain": [
       "                                                    url  \\\n",
       "8246  https://open.spotify.com/track/4Km5HrUvYTaSUfi...   \n",
       "8247  https://open.spotify.com/track/343YBumqHu19cGo...   \n",
       "8248  https://open.spotify.com/track/5aAx2yezTd8zXrk...   \n",
       "8249  https://open.spotify.com/track/7BKLCZ1jbUBVqRi...   \n",
       "8250  https://open.spotify.com/track/6fujklziTHa8uoM...   \n",
       "\n",
       "                  artist_clean                          track_clean  \n",
       "8246                     migos  bad and boujee (feat. lil uzi vert)  \n",
       "8247                     drake                            fake love  \n",
       "8248     the weeknd, daft punk                              starboy  \n",
       "8249  the chainsmokers, halsey                               closer  \n",
       "8250  rae sremmurd, gucci mane                        black beatles  "
      ]
     },
     "execution_count": 4,
     "metadata": {},
     "output_type": "execute_result"
    }
   ],
   "source": [
    "tracks.head()"
   ]
  },
  {
   "cell_type": "code",
   "execution_count": 5,
   "metadata": {},
   "outputs": [
    {
     "data": {
      "text/html": [
       "<div>\n",
       "<style scoped>\n",
       "    .dataframe tbody tr th:only-of-type {\n",
       "        vertical-align: middle;\n",
       "    }\n",
       "\n",
       "    .dataframe tbody tr th {\n",
       "        vertical-align: top;\n",
       "    }\n",
       "\n",
       "    .dataframe thead th {\n",
       "        text-align: right;\n",
       "    }\n",
       "</style>\n",
       "<table border=\"1\" class=\"dataframe\">\n",
       "  <thead>\n",
       "    <tr style=\"text-align: right;\">\n",
       "      <th></th>\n",
       "      <th>url</th>\n",
       "      <th>artist</th>\n",
       "      <th>track</th>\n",
       "    </tr>\n",
       "  </thead>\n",
       "  <tbody>\n",
       "    <tr>\n",
       "      <th>8246</th>\n",
       "      <td>https://open.spotify.com/track/4Km5HrUvYTaSUfi...</td>\n",
       "      <td>migos</td>\n",
       "      <td>bad and boujee (feat. lil uzi vert)</td>\n",
       "    </tr>\n",
       "    <tr>\n",
       "      <th>8247</th>\n",
       "      <td>https://open.spotify.com/track/343YBumqHu19cGo...</td>\n",
       "      <td>drake</td>\n",
       "      <td>fake love</td>\n",
       "    </tr>\n",
       "    <tr>\n",
       "      <th>8248</th>\n",
       "      <td>https://open.spotify.com/track/5aAx2yezTd8zXrk...</td>\n",
       "      <td>the weeknd, daft punk</td>\n",
       "      <td>starboy</td>\n",
       "    </tr>\n",
       "    <tr>\n",
       "      <th>8249</th>\n",
       "      <td>https://open.spotify.com/track/7BKLCZ1jbUBVqRi...</td>\n",
       "      <td>the chainsmokers, halsey</td>\n",
       "      <td>closer</td>\n",
       "    </tr>\n",
       "    <tr>\n",
       "      <th>8250</th>\n",
       "      <td>https://open.spotify.com/track/6fujklziTHa8uoM...</td>\n",
       "      <td>rae sremmurd, gucci mane</td>\n",
       "      <td>black beatles</td>\n",
       "    </tr>\n",
       "  </tbody>\n",
       "</table>\n",
       "</div>"
      ],
      "text/plain": [
       "                                                    url  \\\n",
       "8246  https://open.spotify.com/track/4Km5HrUvYTaSUfi...   \n",
       "8247  https://open.spotify.com/track/343YBumqHu19cGo...   \n",
       "8248  https://open.spotify.com/track/5aAx2yezTd8zXrk...   \n",
       "8249  https://open.spotify.com/track/7BKLCZ1jbUBVqRi...   \n",
       "8250  https://open.spotify.com/track/6fujklziTHa8uoM...   \n",
       "\n",
       "                        artist                                track  \n",
       "8246                     migos  bad and boujee (feat. lil uzi vert)  \n",
       "8247                     drake                            fake love  \n",
       "8248     the weeknd, daft punk                              starboy  \n",
       "8249  the chainsmokers, halsey                               closer  \n",
       "8250  rae sremmurd, gucci mane                        black beatles  "
      ]
     },
     "execution_count": 5,
     "metadata": {},
     "output_type": "execute_result"
    }
   ],
   "source": [
    "tracks.rename(columns={'track_clean':'track','artist_clean':'artist'}, inplace=True)\n",
    "tracks.head()"
   ]
  },
  {
   "attachments": {},
   "cell_type": "markdown",
   "metadata": {},
   "source": [
    "# genius"
   ]
  },
  {
   "cell_type": "code",
   "execution_count": 8,
   "metadata": {},
   "outputs": [
    {
     "data": {
      "text/plain": [
       "True"
      ]
     },
     "execution_count": 8,
     "metadata": {},
     "output_type": "execute_result"
    }
   ],
   "source": [
    "load_dotenv()"
   ]
  },
  {
   "cell_type": "code",
   "execution_count": 11,
   "metadata": {},
   "outputs": [],
   "source": [
    "token = os.getenv(\"genius-token\")\n",
    "genius = Genius(token)"
   ]
  },
  {
   "attachments": {},
   "cell_type": "markdown",
   "metadata": {},
   "source": [
    "Consulta para datos de un artista"
   ]
  },
  {
   "cell_type": "code",
   "execution_count": 10,
   "metadata": {},
   "outputs": [
    {
     "name": "stdout",
     "output_type": "stream",
     "text": [
      "Searching for songs by Andy Shauf...\n",
      "\n",
      "Song 1: \"Alexander All Alone\"\n",
      "\"All Of My Love\" is not valid. Skipping.\n",
      "Song 2: \"All the Same\"\n",
      "Song 3: \"Angela\"\n",
      "\n",
      "Reached user-specified song limit (3).\n",
      "Done. Found 3 songs.\n",
      "[Song(id, artist, ...), Song(id, artist, ...), Song(id, artist, ...)]\n"
     ]
    }
   ],
   "source": [
    "artist = genius.search_artist(\"Andy Shauf\", max_songs=3, sort=\"title\")\n",
    "print(artist.songs)"
   ]
  },
  {
   "attachments": {},
   "cell_type": "markdown",
   "metadata": {},
   "source": [
    "Single song by the same artist:"
   ]
  },
  {
   "cell_type": "code",
   "execution_count": 12,
   "metadata": {},
   "outputs": [
    {
     "name": "stdout",
     "output_type": "stream",
     "text": [
      "Searching for \"To You\" by Andy Shauf...\n",
      "Done.\n",
      "Searching for \"To You\" by Andy Shauf...\n",
      "Done.\n",
      "To You LyricsJeremy, can we talk a minute?\n",
      "I've got some things that I need to\n",
      "Get off of my chest\n",
      "\n",
      "I know that we've had a few\n",
      "And it's far too late\n",
      "But if I wait, I might never tell you\n",
      "Can we find somewhere quiet?\n",
      "Let's go outside\n",
      "I've got some smokes if you've got a light\n",
      "It's just that sometimes when I'm by your side\n",
      "It feels so right\n",
      "It feels like nothing could go wrong\n",
      "Does it ever\n",
      "Feel like that to you?\n",
      "Does it ever\n",
      "Feel like that to you?\n",
      "Oh, I don't know what I mean\n",
      "It sounded wrong and I'm just tired\n",
      "Not being weird\n",
      "I just mean that you're a good friend\n",
      "It's hard to explain\n",
      "Just forget I said anything\n",
      "Get over yourself\n",
      "I'm not in love with you\n",
      "It just came out all wrong\n",
      "Yeah\n",
      "Tell the guys and laugh it up\n",
      "Why am I even surprised?\n",
      "That it never\n",
      "Feels like that to you\n",
      "That it never\n",
      "Feels like that to you\n",
      "I guess it never\n",
      "Feels like that to you\n",
      "I guess it never\n",
      "Feels like that to youYou might also likeEmbed\n"
     ]
    }
   ],
   "source": [
    "# Way 1\n",
    "song = genius.search_song(\"To You\", artist.name)\n",
    "\n",
    "print(song.lyrics)"
   ]
  },
  {
   "cell_type": "code",
   "execution_count": 13,
   "metadata": {},
   "outputs": [
    {
     "name": "stdout",
     "output_type": "stream",
     "text": [
      "Searching for \"To You\" by Andy Shauf...\n",
      "Done.\n",
      "To You LyricsJeremy, can we talk a minute?\n",
      "I've got some things that I need to\n",
      "Get off of my chest\n",
      "\n",
      "I know that we've had a few\n",
      "And it's far too late\n",
      "But if I wait, I might never tell you\n",
      "Can we find somewhere quiet?\n",
      "Let's go outside\n",
      "I've got some smokes if you've got a light\n",
      "It's just that sometimes when I'm by your side\n",
      "It feels so right\n",
      "It feels like nothing could go wrong\n",
      "Does it ever\n",
      "Feel like that to you?\n",
      "Does it ever\n",
      "Feel like that to you?\n",
      "Oh, I don't know what I mean\n",
      "It sounded wrong and I'm just tired\n",
      "Not being weird\n",
      "I just mean that you're a good friend\n",
      "It's hard to explain\n",
      "Just forget I said anything\n",
      "Get over yourself\n",
      "I'm not in love with you\n",
      "It just came out all wrong\n",
      "Yeah\n",
      "Tell the guys and laugh it up\n",
      "Why am I even surprised?\n",
      "That it never\n",
      "Feels like that to you\n",
      "That it never\n",
      "Feels like that to you\n",
      "I guess it never\n",
      "Feels like that to you\n",
      "I guess it never\n",
      "Feels like that to youYou might also likeEmbed\n"
     ]
    }
   ],
   "source": [
    "# Way 2\n",
    "# this will search artist.songs first\n",
    "# and if not found, uses search_song\n",
    "song = artist.song(\"To You\")\n",
    "\n",
    "print(song.lyrics)"
   ]
  },
  {
   "attachments": {},
   "cell_type": "markdown",
   "metadata": {},
   "source": [
    "Voy a probar ahora a buscar las lyrics de mi dataframe."
   ]
  },
  {
   "cell_type": "code",
   "execution_count": 19,
   "metadata": {},
   "outputs": [
    {
     "data": {
      "text/plain": [
       "'bad and boujee (feat. lil uzi vert)'"
      ]
     },
     "execution_count": 19,
     "metadata": {},
     "output_type": "execute_result"
    }
   ],
   "source": [
    "tracks.iloc[0,2]"
   ]
  },
  {
   "cell_type": "code",
   "execution_count": 20,
   "metadata": {},
   "outputs": [
    {
     "ename": "AttributeError",
     "evalue": "'str' object has no attribute 'song'",
     "output_type": "error",
     "traceback": [
      "\u001b[1;31m---------------------------------------------------------------------------\u001b[0m",
      "\u001b[1;31mAttributeError\u001b[0m                            Traceback (most recent call last)",
      "Cell \u001b[1;32mIn [20], line 1\u001b[0m\n\u001b[1;32m----> 1\u001b[0m tracks\u001b[39m.\u001b[39;49miloc[\u001b[39m0\u001b[39;49m,\u001b[39m1\u001b[39;49m]\u001b[39m.\u001b[39;49msong(tracks\u001b[39m.\u001b[39miloc[\u001b[39m0\u001b[39m,\u001b[39m2\u001b[39m])\n",
      "\u001b[1;31mAttributeError\u001b[0m: 'str' object has no attribute 'song'"
     ]
    }
   ],
   "source": [
    "tracks.iloc[0,1].song(tracks.iloc[0,2])"
   ]
  },
  {
   "cell_type": "code",
   "execution_count": 25,
   "metadata": {},
   "outputs": [
    {
     "name": "stdout",
     "output_type": "stream",
     "text": [
      "Searching for \"fake love\" by drake...\n",
      "Done.\n",
      "TranslationsEspañolFake Love Lyrics[Chorus]\n",
      "I've been down so long, it look like up to me\n",
      "They look up to me\n",
      "I got fake people showin' fake love to me\n",
      "Straight up to my face, straight up to my face\n",
      "I've been down so long, it look like up to me\n",
      "They look up to me\n",
      "I got fake people showin' fake love to me\n",
      "Straight up to my face, straight up to my face\n",
      "\n",
      "[Verse 1]\n",
      "Somethin' ain't right when we talkin'\n",
      "Somethin' ain't right when we talkin'\n",
      "Look like you hidin' your problems\n",
      "Really you never was solid\n",
      "No, you can't \"son\" me\n",
      "You won't never get to run me\n",
      "Just when shit look out of reach\n",
      "I reach back like one, three\n",
      "Like one, three, yeah\n",
      "[Pre-Chorus]\n",
      "That's when they smile in my face\n",
      "Whole time they wanna take my place\n",
      "Whole time they wanna take my place\n",
      "Whole time they wanna take my place\n",
      "Yeah, I know they wanna take my place\n",
      "I can tell that love is fake\n",
      "I don't trust a word you say\n",
      "How you wanna clique up after your mistakes?\n",
      "Look you in the face, and it's just not the same\n",
      "\n",
      "[Chorus]\n",
      "I've been down so long, it look like up to me\n",
      "They look up to me\n",
      "I got fake people showin' fake love to me\n",
      "Straight up to my face, straight up to my face\n",
      "I've been down so long, it look like up to me\n",
      "They look up to me\n",
      "I got fake people showin' fake love to me\n",
      "Straight up to my face, straight up to my face\n",
      "\n",
      "[Verse 2]\n",
      "Yeah, straight up to my face, tryna play it safe\n",
      "Vibe switch like night and day\n",
      "I can see it, like, right away\n",
      "I came up, you changed up\n",
      "I caught that whole play\n",
      "Since, things never been the same\n",
      "You might also like[Pre-Chorus]\n",
      "That's when they smile in my face\n",
      "Whole time they wanna take my place\n",
      "Whole time they wanna take my place\n",
      "Whole time they wanna take my place\n",
      "Yeah, I know they wanna take my place\n",
      "I can tell that love is fake (I can tell that love is fake)\n",
      "I don't trust a word you say (I don't trust a word)\n",
      "How you wanna clique up after your mistakes?\n",
      "(That's just what I heard)\n",
      "Look you in the face, and it's just not the same\n",
      "\n",
      "[Chorus]\n",
      "I've been down so long, it look like up to me\n",
      "They look up to me\n",
      "I got fake people showin' fake love to me\n",
      "Straight up to my face, straight up to my face\n",
      "I've been down so long, it look like up to me\n",
      "They look up to me\n",
      "I got fake people showin' fake love to me\n",
      "Straight up to my face, straight up to my face\n",
      "\n",
      "[Outro]\n",
      "Skrrt\n",
      "And more chune for your headtop\n",
      "So watch how you speak on my name, you know?193Embed\n"
     ]
    }
   ],
   "source": [
    "song = genius.search_song(tracks.iloc[1,2], tracks.iloc[1,1])\n",
    "print(song.lyrics)"
   ]
  },
  {
   "cell_type": "code",
   "execution_count": 22,
   "metadata": {},
   "outputs": [
    {
     "name": "stdout",
     "output_type": "stream",
     "text": [
      "migos --- bad and boujee (feat. lil uzi vert)\n",
      "Searching for \"bad and boujee (feat. lil uzi vert)\" by migos...\n",
      "Done.\n",
      "This Is Migos Lyrics1. Migos- Need It (feat. YoungBoy Never Broke Again)\n",
      "2. Migos- Racks 2 Skinny\n",
      "3. Migos- Taco Tuesday\n",
      "4. Migos- Give No Fxk (feat. Travis Scott & Young Thug)\n",
      "5. Migos- Walk It Talk It (feat. Drake)\n",
      "6. Gucci Mane- I Get The Bag (feat. Gucci Mane)\n",
      "7. Cardi B- Drip (feat. Migos)\n",
      "8. Migos- Slippery (feat. Gucci Mane)\n",
      "9. Migos- Stir Fry\n",
      "10. Calvin Harris- Slide (feat. Frank Ocean & Migos)\n",
      "11. Migos- Fight Night\n",
      "12. Migos- Bad And Boujee (feat. Lil Uzi Vert)\n",
      "13. Migos, Nicki Minaj & Cardi B- MotorSport\n",
      "14. Migos & Marshmello- Danger\n",
      "15. Migos- Versace (feat. Drake)\n",
      "16. Migos- T-Shirt\n",
      "17. Migos- Narcos\n",
      "18. Gucci Mane- Solitaire (feat. Migos & Lil Yachty)\n",
      "19. Mike WiLL Made-It- Gucci On My (feat. 21 Savage, YG & Migos)\n",
      "20. Migos- Get Right Witcha\n",
      "21. Migos- Notice Me (feat. Post Malone)\n",
      "22. Quality Control & Migos- Too Hotty (feat. Eurielle)\n",
      "23. Katy Perry- Bon Appétit (feat. Migos)\n",
      "24. Migos- Kelly Price (feat. Travis Scott)\n",
      "25. Migos- BBO (feat. 21 Savage)\n",
      "26. Niykee Heaton & OG Parker- Bad Intentions (feat. Migos)\n",
      "27. Quality Control & Migos- Bosses Don't Speak\n",
      "28. Migos- Cocoon\n",
      "29. Migos- Deadz (feat. 2 Chainz)\n",
      "30. Big Sean- Sacrifices (feat. Migos)\n",
      "31. Migos- Handsome And Wealthy\n",
      "32. Lil Yachty- Peek A Boo (feat. Migos)\n",
      "33. 2 Chainz- Blue Cheese (feat. Migos)\n",
      "34. A$AP Ferg- Nasty (feat. Migos)\n",
      "35. YFN Lucci- Key To The Streets (feat. Migos & Trouble)\n",
      "36. Migos- Pipe It Up\n",
      "37. Carnage- Brinks (feat. Migos)\n",
      "38. Steve Aoki- Night Call (feat. Lil Yachty & Migos)\n",
      "39. Migos- Commando\n",
      "40. Migos- Freak No More\n",
      "41. Quality Control & Migos- Thick & Pretty\n",
      "42. Young Thug, Migos & Peewee Longway- Quarterback\n",
      "43. Migos- Hannah Montana\n",
      "44. Quality Control & Migos- Pop ShitYou might also likeEmbed\n"
     ]
    }
   ],
   "source": [
    "for index, row in tracks.iterrows():\n",
    "    print(row['artist'],'---', row['track'])\n",
    "    song = genius.search_song(row['track'], row['artist'])\n",
    "    print(song.lyrics)\n",
    "    break"
   ]
  },
  {
   "attachments": {},
   "cell_type": "markdown",
   "metadata": {},
   "source": [
    "# Export"
   ]
  },
  {
   "cell_type": "code",
   "execution_count": null,
   "metadata": {},
   "outputs": [],
   "source": [
    "with open('../data/spotify_dataset_spotify.pickle', 'wb') as data_spotify:\n",
    "    pickle.dump(tracks, data_spotify)"
   ]
  }
 ],
 "metadata": {
  "kernelspec": {
   "display_name": "iron",
   "language": "python",
   "name": "python3"
  },
  "language_info": {
   "codemirror_mode": {
    "name": "ipython",
    "version": 3
   },
   "file_extension": ".py",
   "mimetype": "text/x-python",
   "name": "python",
   "nbconvert_exporter": "python",
   "pygments_lexer": "ipython3",
   "version": "3.9.13"
  },
  "orig_nbformat": 4,
  "vscode": {
   "interpreter": {
    "hash": "e59d0b279e6461be5b4ea7b62838527cd8f41f3cbc9a1147b1a83b32d75ab689"
   }
  }
 },
 "nbformat": 4,
 "nbformat_minor": 2
}
