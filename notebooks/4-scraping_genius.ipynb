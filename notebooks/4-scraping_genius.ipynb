{
 "cells": [
  {
   "cell_type": "code",
   "execution_count": 1,
   "metadata": {},
   "outputs": [],
   "source": [
    "import requests\n",
    "import pandas as pd\n",
    "from time import sleep\n",
    "import numpy as np\n",
    "from tqdm import tqdm\n",
    "import os\n",
    "\n",
    "from selenium import webdriver\n",
    "from webdriver_manager.chrome import ChromeDriverManager\n",
    "from selenium.webdriver.common.keys import Keys\n",
    "from selenium.webdriver.chrome.options import Options\n",
    "import numpy as np\n",
    "from IPython.display import clear_output\n",
    "\n",
    "import warnings\n",
    "warnings.filterwarnings('ignore')"
   ]
  },
  {
   "cell_type": "code",
   "execution_count": 2,
   "metadata": {},
   "outputs": [],
   "source": [
    "import pickle\n",
    "from lyricsgenius import Genius"
   ]
  },
  {
   "cell_type": "code",
   "execution_count": 3,
   "id": "7f9dfb16",
   "metadata": {},
   "outputs": [],
   "source": [
    "import re\n",
    "from bs4 import BeautifulSoup\n",
    "from dotenv import load_dotenv"
   ]
  },
  {
   "attachments": {},
   "cell_type": "markdown",
   "metadata": {},
   "source": [
    "# Genius config"
   ]
  },
  {
   "cell_type": "code",
   "execution_count": 4,
   "metadata": {},
   "outputs": [
    {
     "data": {
      "text/plain": [
       "True"
      ]
     },
     "execution_count": 4,
     "metadata": {},
     "output_type": "execute_result"
    }
   ],
   "source": [
    "load_dotenv()"
   ]
  },
  {
   "cell_type": "code",
   "execution_count": 5,
   "metadata": {},
   "outputs": [],
   "source": [
    "token = os.getenv(\"genius-token\")\n",
    "genius = Genius(token)"
   ]
  },
  {
   "attachments": {},
   "cell_type": "markdown",
   "metadata": {},
   "source": [
    "# Importing pickle file"
   ]
  },
  {
   "cell_type": "code",
   "execution_count": 6,
   "metadata": {},
   "outputs": [],
   "source": [
    "with open('../data/pickle/dataset_viral150_unique.pickle', 'rb') as tracks:\n",
    "    tracks = pickle.load(tracks)"
   ]
  },
  {
   "cell_type": "code",
   "execution_count": 7,
   "metadata": {},
   "outputs": [
    {
     "data": {
      "text/html": [
       "<div>\n",
       "<style scoped>\n",
       "    .dataframe tbody tr th:only-of-type {\n",
       "        vertical-align: middle;\n",
       "    }\n",
       "\n",
       "    .dataframe tbody tr th {\n",
       "        vertical-align: top;\n",
       "    }\n",
       "\n",
       "    .dataframe thead th {\n",
       "        text-align: right;\n",
       "    }\n",
       "</style>\n",
       "<table border=\"1\" class=\"dataframe\">\n",
       "  <thead>\n",
       "    <tr style=\"text-align: right;\">\n",
       "      <th></th>\n",
       "      <th>url</th>\n",
       "      <th>artist_clean</th>\n",
       "      <th>track_clean</th>\n",
       "    </tr>\n",
       "  </thead>\n",
       "  <tbody>\n",
       "    <tr>\n",
       "      <th>8246</th>\n",
       "      <td>https://open.spotify.com/track/4Km5HrUvYTaSUfi...</td>\n",
       "      <td>migos</td>\n",
       "      <td>bad and boujee (feat. lil uzi vert)</td>\n",
       "    </tr>\n",
       "    <tr>\n",
       "      <th>8247</th>\n",
       "      <td>https://open.spotify.com/track/343YBumqHu19cGo...</td>\n",
       "      <td>drake</td>\n",
       "      <td>fake love</td>\n",
       "    </tr>\n",
       "    <tr>\n",
       "      <th>8248</th>\n",
       "      <td>https://open.spotify.com/track/5aAx2yezTd8zXrk...</td>\n",
       "      <td>the weeknd, daft punk</td>\n",
       "      <td>starboy</td>\n",
       "    </tr>\n",
       "    <tr>\n",
       "      <th>8249</th>\n",
       "      <td>https://open.spotify.com/track/7BKLCZ1jbUBVqRi...</td>\n",
       "      <td>the chainsmokers, halsey</td>\n",
       "      <td>closer</td>\n",
       "    </tr>\n",
       "    <tr>\n",
       "      <th>8250</th>\n",
       "      <td>https://open.spotify.com/track/6fujklziTHa8uoM...</td>\n",
       "      <td>rae sremmurd, gucci mane</td>\n",
       "      <td>black beatles</td>\n",
       "    </tr>\n",
       "  </tbody>\n",
       "</table>\n",
       "</div>"
      ],
      "text/plain": [
       "                                                    url  \\\n",
       "8246  https://open.spotify.com/track/4Km5HrUvYTaSUfi...   \n",
       "8247  https://open.spotify.com/track/343YBumqHu19cGo...   \n",
       "8248  https://open.spotify.com/track/5aAx2yezTd8zXrk...   \n",
       "8249  https://open.spotify.com/track/7BKLCZ1jbUBVqRi...   \n",
       "8250  https://open.spotify.com/track/6fujklziTHa8uoM...   \n",
       "\n",
       "                  artist_clean                          track_clean  \n",
       "8246                     migos  bad and boujee (feat. lil uzi vert)  \n",
       "8247                     drake                            fake love  \n",
       "8248     the weeknd, daft punk                              starboy  \n",
       "8249  the chainsmokers, halsey                               closer  \n",
       "8250  rae sremmurd, gucci mane                        black beatles  "
      ]
     },
     "execution_count": 7,
     "metadata": {},
     "output_type": "execute_result"
    }
   ],
   "source": [
    "tracks.head()"
   ]
  },
  {
   "cell_type": "code",
   "execution_count": 8,
   "metadata": {},
   "outputs": [
    {
     "data": {
      "text/html": [
       "<div>\n",
       "<style scoped>\n",
       "    .dataframe tbody tr th:only-of-type {\n",
       "        vertical-align: middle;\n",
       "    }\n",
       "\n",
       "    .dataframe tbody tr th {\n",
       "        vertical-align: top;\n",
       "    }\n",
       "\n",
       "    .dataframe thead th {\n",
       "        text-align: right;\n",
       "    }\n",
       "</style>\n",
       "<table border=\"1\" class=\"dataframe\">\n",
       "  <thead>\n",
       "    <tr style=\"text-align: right;\">\n",
       "      <th></th>\n",
       "      <th>index</th>\n",
       "      <th>url</th>\n",
       "      <th>artist</th>\n",
       "      <th>track</th>\n",
       "    </tr>\n",
       "  </thead>\n",
       "  <tbody>\n",
       "    <tr>\n",
       "      <th>0</th>\n",
       "      <td>8246</td>\n",
       "      <td>https://open.spotify.com/track/4Km5HrUvYTaSUfi...</td>\n",
       "      <td>migos</td>\n",
       "      <td>bad and boujee (feat. lil uzi vert)</td>\n",
       "    </tr>\n",
       "    <tr>\n",
       "      <th>1</th>\n",
       "      <td>8247</td>\n",
       "      <td>https://open.spotify.com/track/343YBumqHu19cGo...</td>\n",
       "      <td>drake</td>\n",
       "      <td>fake love</td>\n",
       "    </tr>\n",
       "    <tr>\n",
       "      <th>2</th>\n",
       "      <td>8248</td>\n",
       "      <td>https://open.spotify.com/track/5aAx2yezTd8zXrk...</td>\n",
       "      <td>the weeknd, daft punk</td>\n",
       "      <td>starboy</td>\n",
       "    </tr>\n",
       "    <tr>\n",
       "      <th>3</th>\n",
       "      <td>8249</td>\n",
       "      <td>https://open.spotify.com/track/7BKLCZ1jbUBVqRi...</td>\n",
       "      <td>the chainsmokers, halsey</td>\n",
       "      <td>closer</td>\n",
       "    </tr>\n",
       "    <tr>\n",
       "      <th>4</th>\n",
       "      <td>8250</td>\n",
       "      <td>https://open.spotify.com/track/6fujklziTHa8uoM...</td>\n",
       "      <td>rae sremmurd, gucci mane</td>\n",
       "      <td>black beatles</td>\n",
       "    </tr>\n",
       "  </tbody>\n",
       "</table>\n",
       "</div>"
      ],
      "text/plain": [
       "   index                                                url  \\\n",
       "0   8246  https://open.spotify.com/track/4Km5HrUvYTaSUfi...   \n",
       "1   8247  https://open.spotify.com/track/343YBumqHu19cGo...   \n",
       "2   8248  https://open.spotify.com/track/5aAx2yezTd8zXrk...   \n",
       "3   8249  https://open.spotify.com/track/7BKLCZ1jbUBVqRi...   \n",
       "4   8250  https://open.spotify.com/track/6fujklziTHa8uoM...   \n",
       "\n",
       "                     artist                                track  \n",
       "0                     migos  bad and boujee (feat. lil uzi vert)  \n",
       "1                     drake                            fake love  \n",
       "2     the weeknd, daft punk                              starboy  \n",
       "3  the chainsmokers, halsey                               closer  \n",
       "4  rae sremmurd, gucci mane                        black beatles  "
      ]
     },
     "execution_count": 8,
     "metadata": {},
     "output_type": "execute_result"
    }
   ],
   "source": [
    "tracks.rename(columns={'track_clean':'track','artist_clean':'artist'}, inplace=True)\n",
    "tracks.reset_index(inplace=True)\n",
    "tracks.head()"
   ]
  },
  {
   "attachments": {},
   "cell_type": "markdown",
   "metadata": {},
   "source": [
    "# Selenium"
   ]
  },
  {
   "attachments": {},
   "cell_type": "markdown",
   "metadata": {},
   "source": [
    "Configuro mi pestaña de selenium"
   ]
  },
  {
   "cell_type": "code",
   "execution_count": null,
   "metadata": {},
   "outputs": [],
   "source": [
    "driver = webdriver.Chrome(ChromeDriverManager().install())\n",
    "driver.get('https://chromedriver.chromium.org/downloads')"
   ]
  },
  {
   "attachments": {},
   "cell_type": "markdown",
   "metadata": {},
   "source": [
    "Voy a probar que me funcione la búsqueda de un elemento"
   ]
  },
  {
   "cell_type": "code",
   "execution_count": null,
   "metadata": {},
   "outputs": [],
   "source": [
    "## iniciamos el web driver\n",
    "opciones= Options()\n",
    "opciones.add_argument(\"--start-maximized\")\n",
    "driver = webdriver.Chrome(ChromeDriverManager().install())\n",
    "driver.get('https://genius.com/')\n",
    "driver.maximize_window()\n",
    "driver.set_window_size(1920, 1080)\n",
    "## te metes dentro de la página y con inspeccionar, seleccionas el elemento de las cookies --> copy / selector\n",
    "##por si tu ordenador es un poco lento, le puedes poner un tiempo para que intente hacerlo\n",
    "driver.implicitly_wait(30)\n",
    "## si quieres tardar más, le pones un sleep\n",
    "## sleep(20)\n",
    "## acepto los cookies\n",
    "driver.find_element('css selector', '#onetrust-accept-btn-handler').click()\n",
    "sleep(1)\n",
    "## busco el nombre del actor que quiero buscar\n",
    "driver.find_element('css selector', '#application > div > div.PageHeaderdesktop__Container-bhx5ui-0.dmNhEr > div.PageHeaderdesktop__Left-bhx5ui-2.ctcvqz > form > input').send_keys('drake fake love', Keys.ENTER)\n",
    "sleep(1)\n",
    "driver.find_element('xpath', '/html/body/routable-page/ng-outlet/search-results-page/div/div[2]/div[1]/div[1]/search-result-section/div/div[2]/search-result-items/div/search-result-item/div/mini-song-card/a').click()\n",
    "driver.implicitly_wait(30)\n",
    "## extraigo la información de la letra de cada canción\n",
    "lyrics = driver.find_element('css selector', '#lyrics-root > div:nth-child(3)').text\n",
    "lyrics2 = driver.find_element('css selector', '#lyrics-root > div:nth-child(6)').text\n",
    "sleep(1)\n",
    "release_date = driver.find_element('css selector', '#application > main > div.SongPageGriddesktop-sc-1px5b71-0.jecoie.SongHeaderdesktop__Container-sc-1effuo1-0.fqavsD > div.SongHeaderdesktop__Column-sc-1effuo1-1.SongHeaderdesktop__Right-sc-1effuo1-4.ePANpp > div > div.HeaderMetadata__Grid-sc-1p42fnf-1.ePueMf > div:nth-child(2) > div').text\n",
    "#application > main > div.SongPageGriddesktop-sc-1px5b71-0.jecoie.SongHeaderdesktop__Container-sc-1effuo1-0.kEkpYM > div.SongHeaderdesktop__Column-sc-1effuo1-1.SongHeaderdesktop__Right-sc-1effuo1-4.ePANpp > div > div.HeaderMetadata__Grid-sc-1p42fnf-1.ePueMf > div:nth-child(3) > div"
   ]
  },
  {
   "attachments": {},
   "cell_type": "markdown",
   "metadata": {},
   "source": [
    "ESTOY TRABAJANDO AQUÍ\n",
    "Clicando el read more"
   ]
  },
  {
   "cell_type": "code",
   "execution_count": null,
   "metadata": {},
   "outputs": [],
   "source": [
    "## iniciamos el web driver\n",
    "opciones= Options()\n",
    "opciones.add_argument(\"--start-maximized\")\n",
    "driver = webdriver.Chrome(ChromeDriverManager().install())\n",
    "driver.get('https://genius.com/')\n",
    "driver.maximize_window()\n",
    "driver.set_window_size(1920, 1080)\n",
    "## te metes dentro de la página y con inspeccionar, seleccionas el elemento de las cookies --> copy / selector\n",
    "##por si tu ordenador es un poco lento, le puedes poner un tiempo para que intente hacerlo\n",
    "driver.implicitly_wait(30)\n",
    "## si quieres tardar más, le pones un sleep\n",
    "## sleep(20)\n",
    "## acepto los cookies\n",
    "driver.find_element('css selector', '#onetrust-accept-btn-handler').click()\n",
    "sleep(1)\n",
    "## busco el nombre del actor que quiero buscar\n",
    "driver.find_element('css selector', '#application > div > div.PageHeaderdesktop__Container-bhx5ui-0.dmNhEr > div.PageHeaderdesktop__Left-bhx5ui-2.ctcvqz > form > input').send_keys('drake fake love', Keys.ENTER)\n",
    "sleep(1)\n",
    "driver.find_element('xpath', '/html/body/routable-page/ng-outlet/search-results-page/div/div[2]/div[1]/div[1]/search-result-section/div/div[2]/search-result-items/div/search-result-item/div/mini-song-card/a').click()\n",
    "driver.implicitly_wait(30)\n",
    "## clico el all credits\n",
    "driver.find_element('css selector', '#application > main > div.SongPageGriddesktop-sc-1px5b71-0.jecoie.SongHeaderdesktop__Container-sc-1effuo1-0.fqavsD > div.SongHeaderdesktop__Column-sc-1effuo1-1.SongHeaderdesktop__Right-sc-1effuo1-4.ePANpp > div > div.HeaderMetadata__Grid-sc-1p42fnf-1.ePueMf > div.HeaderMetadata__Section-sc-1p42fnf-2.glevmK > div > a').click()\n",
    "sleep(1)"
   ]
  },
  {
   "attachments": {},
   "cell_type": "markdown",
   "metadata": {},
   "source": [
    "CONTINUO AQUÍ CON B4S"
   ]
  },
  {
   "cell_type": "code",
   "execution_count": null,
   "metadata": {},
   "outputs": [],
   "source": [
    "## iniciamos el web driver\n",
    "opciones= Options()\n",
    "opciones.add_argument(\"--start-maximized\")\n",
    "driver = webdriver.Chrome(ChromeDriverManager().install())\n",
    "driver.get('https://genius.com/')\n",
    "driver.maximize_window()\n",
    "driver.set_window_size(1920, 1080)\n",
    "## te metes dentro de la página y con inspeccionar, seleccionas el elemento de las cookies --> copy / selector\n",
    "##por si tu ordenador es un poco lento, le puedes poner un tiempo para que intente hacerlo\n",
    "driver.implicitly_wait(30)\n",
    "## si quieres tardar más, le pones un sleep\n",
    "## sleep(20)\n",
    "## acepto los cookies\n",
    "driver.find_element('css selector', '#onetrust-accept-btn-handler').click()\n",
    "sleep(1)\n",
    "## busco el nombre del actor que quiero buscar\n",
    "driver.find_element('css selector', '#application > div > div.PageHeaderdesktop__Container-bhx5ui-0.dmNhEr > div.PageHeaderdesktop__Left-bhx5ui-2.ctcvqz > form > input').send_keys('drake fake love', Keys.ENTER)\n",
    "sleep(1)\n",
    "driver.find_element('xpath', '/html/body/routable-page/ng-outlet/search-results-page/div/div[2]/div[1]/div[1]/search-result-section/div/div[2]/search-result-items/div/search-result-item/div/mini-song-card/a').click()\n",
    "driver.implicitly_wait(30)\n",
    "## clico el all credits\n",
    "driver.find_element('css selector', '#application > main > div.SongPageGriddesktop-sc-1px5b71-0.jecoie.SongHeaderdesktop__Container-sc-1effuo1-0.fqavsD > div.SongHeaderdesktop__Column-sc-1effuo1-1.SongHeaderdesktop__Right-sc-1effuo1-4.ePANpp > div > div.HeaderMetadata__Grid-sc-1p42fnf-1.ePueMf > div.HeaderMetadata__Section-sc-1p42fnf-2.glevmK > div > a').click()\n",
    "sleep(1)\n",
    "page_source = driver.page_source\n",
    "url = driver.current_url\n",
    "res = requests.get(url + '#song-info')\n",
    "soup = BeautifulSoup(res.content, 'html.parser')\n",
    "pagina = soup.text"
   ]
  },
  {
   "cell_type": "code",
   "execution_count": null,
   "metadata": {},
   "outputs": [],
   "source": [
    "pagina"
   ]
  },
  {
   "cell_type": "code",
   "execution_count": null,
   "metadata": {},
   "outputs": [],
   "source": [
    "release_date"
   ]
  },
  {
   "cell_type": "code",
   "execution_count": null,
   "metadata": {},
   "outputs": [],
   "source": [
    "canciones = {\n",
    "    'lyrics': [],\n",
    "    'release_date': []\n",
    "}"
   ]
  },
  {
   "cell_type": "code",
   "execution_count": null,
   "metadata": {},
   "outputs": [],
   "source": [
    "for index, row in tracks.iterrows():\n",
    "    print(row['artist'].split(',')[0],'---', row['track'])\n",
    "    ## iniciamos el web driver\n",
    "    opciones= Options()\n",
    "    opciones.add_argument(\"--start-maximized\")\n",
    "    driver = webdriver.Chrome(ChromeDriverManager().install())\n",
    "    driver.get('https://genius.com/')\n",
    "    driver.maximize_window()\n",
    "    driver.set_window_size(1920, 1080)\n",
    "    ## te metes dentro de la página y con inspeccionar, seleccionas el elemento de las cookies --> copy / selector\n",
    "    ##por si tu ordenador es un poco lento, le puedes poner un tiempo para que intente hacerlo\n",
    "    driver.implicitly_wait(30)\n",
    "    ## si quieres tardar más, le pones un sleep\n",
    "    ## sleep(20)\n",
    "    ## acepto los cookies\n",
    "    driver.find_element('css selector', '#onetrust-accept-btn-handler').click()\n",
    "    sleep(1)\n",
    "    ## busco el nombre del actor que quiero buscar\n",
    "    driver.find_element('css selector', '#application > div > div.PageHeaderdesktop__Container-bhx5ui-0.dmNhEr > div.PageHeaderdesktop__Left-bhx5ui-2.ctcvqz > form > input').send_keys(row['artist'].split(',')[0] + ' ' + row['track'], Keys.ENTER)\n",
    "    sleep(1)\n",
    "    driver.find_element('xpath', '/html/body/routable-page/ng-outlet/search-results-page/div/div[2]/div[1]/div[1]/search-result-section/div/div[2]/search-result-items/div/search-result-item/div/mini-song-card/a').click()\n",
    "    driver.implicitly_wait(30)\n",
    "    ## extraigo la información de la letra de cada canción\n",
    "    all_lyrics = ''\n",
    "    for item in range(1,15):\n",
    "        try:\n",
    "            lyrics = driver.find_element('css selector', f'#lyrics-root > div:nth-child({item})').text\n",
    "            if len(lyrics) > 12:\n",
    "                all_lyrics += lyrics\n",
    "            else:\n",
    "                continue\n",
    "        except:\n",
    "            continue\n",
    "    canciones['lyrics'].append(all_lyrics)\n",
    "    sleep(1)\n",
    "    try:\n",
    "        release_date = driver.find_element('xpath', '//*[@id=\"application\"]/main/div[1]/div[3]/div[1]/div[2]/div/div[1]/span[1]/span').text\n",
    "    except:\n",
    "        release_date = driver.find_element('xpath', '//*[@id=\"application\"]/main/div[1]/div[4]/div/div[1]/div[3]/div').text\n",
    "    canciones['release_date'].append(release_date)"
   ]
  },
  {
   "cell_type": "code",
   "execution_count": null,
   "metadata": {},
   "outputs": [],
   "source": [
    "canciones"
   ]
  },
  {
   "attachments": {},
   "cell_type": "markdown",
   "metadata": {},
   "source": [
    "# Beautiful Soup\n",
    "Prueba"
   ]
  },
  {
   "cell_type": "code",
   "execution_count": null,
   "metadata": {},
   "outputs": [],
   "source": [
    "canciones = {\n",
    "    'lyrics': [],\n",
    "    'release_date': []\n",
    "}"
   ]
  },
  {
   "cell_type": "code",
   "execution_count": null,
   "metadata": {},
   "outputs": [],
   "source": [
    "url = 'https://genius.com/Drake-one-dance-lyrics#song-info'"
   ]
  },
  {
   "cell_type": "code",
   "execution_count": null,
   "metadata": {},
   "outputs": [],
   "source": [
    "res = requests.get(url)\n",
    "res ## tiene que dar 200 "
   ]
  },
  {
   "cell_type": "code",
   "execution_count": null,
   "metadata": {},
   "outputs": [],
   "source": [
    "type(res.content) ## para consultarel html de la página"
   ]
  },
  {
   "cell_type": "code",
   "execution_count": null,
   "metadata": {},
   "outputs": [],
   "source": [
    "sopa = BeautifulSoup(res.content, 'html.parser')\n",
    "type(sopa) ## es más amigable, pero sigue siendo html"
   ]
  },
  {
   "attachments": {},
   "cell_type": "markdown",
   "metadata": {},
   "source": [
    "Datos canciones"
   ]
  },
  {
   "cell_type": "code",
   "execution_count": null,
   "metadata": {},
   "outputs": [],
   "source": [
    "pagina = sopa.text\n",
    "re.findall(r'Date(\\w+ \\d+, \\d+)', pagina)[0]"
   ]
  },
  {
   "cell_type": "code",
   "execution_count": null,
   "metadata": {},
   "outputs": [],
   "source": [
    "pagina"
   ]
  },
  {
   "attachments": {},
   "cell_type": "markdown",
   "metadata": {},
   "source": [
    "# Beautiful soup + selenium"
   ]
  },
  {
   "cell_type": "code",
   "execution_count": null,
   "metadata": {},
   "outputs": [],
   "source": [
    "canciones = {\n",
    "    'lyrics': [],\n",
    "    'release_date': []\n",
    "}"
   ]
  },
  {
   "cell_type": "code",
   "execution_count": null,
   "metadata": {},
   "outputs": [],
   "source": [
    "for index, row in tracks.iterrows():\n",
    "    print(row['artist'].split(',')[0],'---', row['track'])\n",
    "    ## iniciamos el web driver\n",
    "    opciones= Options()\n",
    "    opciones.add_argument(\"--start-maximized\")\n",
    "    driver = webdriver.Chrome(ChromeDriverManager().install())\n",
    "    driver.get('https://genius.com/')\n",
    "    driver.maximize_window()\n",
    "    driver.set_window_size(1920, 1080)\n",
    "    ## te metes dentro de la página y con inspeccionar, seleccionas el elemento de las cookies --> copy / selector\n",
    "    ##por si tu ordenador es un poco lento, le puedes poner un tiempo para que intente hacerlo\n",
    "    driver.implicitly_wait(30)\n",
    "    ## si quieres tardar más, le pones un sleep\n",
    "    ## sleep(20)\n",
    "    ## acepto los cookies\n",
    "    driver.find_element('css selector', '#onetrust-accept-btn-handler').click()\n",
    "    sleep(1)\n",
    "    ## busco el nombre de canción que quiero buscar\n",
    "    driver.find_element('css selector', '#application > div > div.PageHeaderdesktop__Container-bhx5ui-0.dmNhEr > div.PageHeaderdesktop__Left-bhx5ui-2.ctcvqz > form > input').send_keys(row['artist'].split(',')[0] + ' ' + row['track'], Keys.ENTER)\n",
    "    sleep(1)\n",
    "    ## selecciono el resultado de la búsqueda que quiero\n",
    "    driver.find_element('xpath', '/html/body/routable-page/ng-outlet/search-results-page/div/div[2]/div[1]/div[2]/search-result-section/div/div[2]/search-result-items/div[1]/search-result-item/div/mini-song-card/a').click()\n",
    "    driver.implicitly_wait(30)\n",
    "    ## extraigo la información de la letra de cada canción\n",
    "    page_source = driver.page_source\n",
    "    res = requests.get(url)\n",
    "    soup = BeautifulSoup(res.content, 'html.parser')\n",
    "    pagina = sopa.text\n",
    "    canciones['release_date'].append(re.findall(r'Date(\\w+ \\d+, \\d+)', pagina)[0])\n",
    "    #break"
   ]
  },
  {
   "cell_type": "code",
   "execution_count": null,
   "metadata": {},
   "outputs": [],
   "source": [
    "tracks.iloc[51,:]"
   ]
  },
  {
   "attachments": {},
   "cell_type": "markdown",
   "metadata": {},
   "source": [
    "Aquí con selenium"
   ]
  },
  {
   "cell_type": "code",
   "execution_count": 12,
   "metadata": {},
   "outputs": [],
   "source": [
    "almacen_paginas = {\n",
    "    'pagina' : [], \n",
    "    'lyrics':[],\n",
    "    'featuring' : [],\n",
    "    'produced_by': [],\n",
    "    'label': [],\n",
    "    'written by': [],\n",
    "    'drums': [],\n",
    "    'guitar': [],\n",
    "    'recorded_at' : [],\n",
    "    'release_date':[],\n",
    "    'url':[]\n",
    "}"
   ]
  },
  {
   "cell_type": "code",
   "execution_count": 68,
   "metadata": {},
   "outputs": [
    {
     "data": {
      "text/html": [
       "<div>\n",
       "<style scoped>\n",
       "    .dataframe tbody tr th:only-of-type {\n",
       "        vertical-align: middle;\n",
       "    }\n",
       "\n",
       "    .dataframe tbody tr th {\n",
       "        vertical-align: top;\n",
       "    }\n",
       "\n",
       "    .dataframe thead th {\n",
       "        text-align: right;\n",
       "    }\n",
       "</style>\n",
       "<table border=\"1\" class=\"dataframe\">\n",
       "  <thead>\n",
       "    <tr style=\"text-align: right;\">\n",
       "      <th></th>\n",
       "      <th>index</th>\n",
       "      <th>url</th>\n",
       "      <th>artist</th>\n",
       "      <th>track</th>\n",
       "    </tr>\n",
       "  </thead>\n",
       "  <tbody>\n",
       "    <tr>\n",
       "      <th>0</th>\n",
       "      <td>271152</td>\n",
       "      <td>https://open.spotify.com/track/5HJ2psjlq5wyxtU...</td>\n",
       "      <td>kesha</td>\n",
       "      <td>hunt you down</td>\n",
       "    </tr>\n",
       "    <tr>\n",
       "      <th>1</th>\n",
       "      <td>274993</td>\n",
       "      <td>https://open.spotify.com/track/3AF78jtVCEVhMqc...</td>\n",
       "      <td>jarreau vandal, zak abel</td>\n",
       "      <td>make you love me</td>\n",
       "    </tr>\n",
       "    <tr>\n",
       "      <th>2</th>\n",
       "      <td>274994</td>\n",
       "      <td>https://open.spotify.com/track/40X3ZzE8I5HEBLp...</td>\n",
       "      <td>bantu</td>\n",
       "      <td>complicated (feat. shungudzo)</td>\n",
       "    </tr>\n",
       "    <tr>\n",
       "      <th>3</th>\n",
       "      <td>274995</td>\n",
       "      <td>https://open.spotify.com/track/31KeRKzibkoQoGC...</td>\n",
       "      <td>moneybagg yo</td>\n",
       "      <td>insecure</td>\n",
       "    </tr>\n",
       "    <tr>\n",
       "      <th>4</th>\n",
       "      <td>279250</td>\n",
       "      <td>https://open.spotify.com/track/3CrGhzG1oFEpgyK...</td>\n",
       "      <td>a$ap ferg</td>\n",
       "      <td>plain jane</td>\n",
       "    </tr>\n",
       "  </tbody>\n",
       "</table>\n",
       "</div>"
      ],
      "text/plain": [
       "    index                                                url  \\\n",
       "0  271152  https://open.spotify.com/track/5HJ2psjlq5wyxtU...   \n",
       "1  274993  https://open.spotify.com/track/3AF78jtVCEVhMqc...   \n",
       "2  274994  https://open.spotify.com/track/40X3ZzE8I5HEBLp...   \n",
       "3  274995  https://open.spotify.com/track/31KeRKzibkoQoGC...   \n",
       "4  279250  https://open.spotify.com/track/3CrGhzG1oFEpgyK...   \n",
       "\n",
       "                     artist                          track  \n",
       "0                     kesha                  hunt you down  \n",
       "1  jarreau vandal, zak abel               make you love me  \n",
       "2                     bantu  complicated (feat. shungudzo)  \n",
       "3              moneybagg yo                       insecure  \n",
       "4                 a$ap ferg                     plain jane  "
      ]
     },
     "execution_count": 68,
     "metadata": {},
     "output_type": "execute_result"
    }
   ],
   "source": [
    "#test = tracks.iloc[(513 + 192):,:].reset_index(drop=True)\n",
    "test = tracks.iloc[(len(almacen_paginas['url'])):,:].reset_index(drop=True)\n",
    "filename = 'genius_dataset_scraped6'\n",
    "test.head()"
   ]
  },
  {
   "cell_type": "code",
   "execution_count": 76,
   "metadata": {},
   "outputs": [
    {
     "data": {
      "text/html": [
       "<div>\n",
       "<style scoped>\n",
       "    .dataframe tbody tr th:only-of-type {\n",
       "        vertical-align: middle;\n",
       "    }\n",
       "\n",
       "    .dataframe tbody tr th {\n",
       "        vertical-align: top;\n",
       "    }\n",
       "\n",
       "    .dataframe thead th {\n",
       "        text-align: right;\n",
       "    }\n",
       "</style>\n",
       "<table border=\"1\" class=\"dataframe\">\n",
       "  <thead>\n",
       "    <tr style=\"text-align: right;\">\n",
       "      <th></th>\n",
       "      <th>index</th>\n",
       "      <th>url</th>\n",
       "      <th>artist</th>\n",
       "      <th>track</th>\n",
       "    </tr>\n",
       "  </thead>\n",
       "  <tbody>\n",
       "    <tr>\n",
       "      <th>0</th>\n",
       "      <td>284043</td>\n",
       "      <td>https://open.spotify.com/track/76T8y91xMLWJgfs...</td>\n",
       "      <td>a$ap ferg</td>\n",
       "      <td>nasty (who dat) (feat. migos)</td>\n",
       "    </tr>\n",
       "    <tr>\n",
       "      <th>1</th>\n",
       "      <td>284062</td>\n",
       "      <td>https://open.spotify.com/track/5fjILDUf9zesISa...</td>\n",
       "      <td>sprngbrk, chris brown, ty dolla $ign</td>\n",
       "      <td>always</td>\n",
       "    </tr>\n",
       "    <tr>\n",
       "      <th>2</th>\n",
       "      <td>284066</td>\n",
       "      <td>https://open.spotify.com/track/2naJy8SKJ27gj6Z...</td>\n",
       "      <td>rvssian, bad bunny, farruko, nicky jam, kosa</td>\n",
       "      <td>si tu lo dejas</td>\n",
       "    </tr>\n",
       "    <tr>\n",
       "      <th>3</th>\n",
       "      <td>302112</td>\n",
       "      <td>https://open.spotify.com/track/6gTJaPuj8DT8Rju...</td>\n",
       "      <td>ed sheeran</td>\n",
       "      <td>don't</td>\n",
       "    </tr>\n",
       "    <tr>\n",
       "      <th>4</th>\n",
       "      <td>302116</td>\n",
       "      <td>https://open.spotify.com/track/6j0teRL3WdExzqm...</td>\n",
       "      <td>lil uzi vert</td>\n",
       "      <td>seven million (feat. future)</td>\n",
       "    </tr>\n",
       "  </tbody>\n",
       "</table>\n",
       "</div>"
      ],
      "text/plain": [
       "    index                                                url  \\\n",
       "0  284043  https://open.spotify.com/track/76T8y91xMLWJgfs...   \n",
       "1  284062  https://open.spotify.com/track/5fjILDUf9zesISa...   \n",
       "2  284066  https://open.spotify.com/track/2naJy8SKJ27gj6Z...   \n",
       "3  302112  https://open.spotify.com/track/6gTJaPuj8DT8Rju...   \n",
       "4  302116  https://open.spotify.com/track/6j0teRL3WdExzqm...   \n",
       "\n",
       "                                         artist                          track  \n",
       "0                                     a$ap ferg  nasty (who dat) (feat. migos)  \n",
       "1          sprngbrk, chris brown, ty dolla $ign                         always  \n",
       "2  rvssian, bad bunny, farruko, nicky jam, kosa                 si tu lo dejas  \n",
       "3                                    ed sheeran                          don't  \n",
       "4                                  lil uzi vert   seven million (feat. future)  "
      ]
     },
     "execution_count": 76,
     "metadata": {},
     "output_type": "execute_result"
    }
   ],
   "source": [
    "#test = tracks.iloc[(513 + 192):,:].reset_index(drop=True)\n",
    "test = tracks.iloc[(len(almacen_paginas['url'])):,:].reset_index(drop=True)\n",
    "filename = 'genius_dataset_scraped6'\n",
    "test.head()"
   ]
  },
  {
   "cell_type": "code",
   "execution_count": 77,
   "metadata": {},
   "outputs": [],
   "source": [
    "#almacen_paginas['pagina'].append(np.nan)\n",
    "#almacen_paginas['lyrics'].append(np.nan)\n",
    "#print(len(almacen_paginas['lyrics']), len(almacen_paginas['pagina']), len(almacen_paginas['url']))"
   ]
  },
  {
   "cell_type": "code",
   "execution_count": 69,
   "metadata": {},
   "outputs": [
    {
     "name": "stdout",
     "output_type": "stream",
     "text": [
      "6 miquela --- not mine\n"
     ]
    },
    {
     "ename": "NoSuchElementException",
     "evalue": "Message: no such element: Unable to locate element: {\"method\":\"css selector\",\"selector\":\"#sticky-nav > div.StickyNavdesktop__Right-sc-60o25r-2.kMDkxm > form > input\"}\n  (Session info: chrome=109.0.5414.74)\nStacktrace:\nBacktrace:\n\t(No symbol) [0x00686643]\n\t(No symbol) [0x0061BE21]\n\t(No symbol) [0x0051DA9D]\n\t(No symbol) [0x00551342]\n\t(No symbol) [0x0055147B]\n\t(No symbol) [0x00588DC2]\n\t(No symbol) [0x0056FDC4]\n\t(No symbol) [0x00586B09]\n\t(No symbol) [0x0056FB76]\n\t(No symbol) [0x005449C1]\n\t(No symbol) [0x00545E5D]\n\tGetHandleVerifier [0x008FA142+2497106]\n\tGetHandleVerifier [0x009285D3+2686691]\n\tGetHandleVerifier [0x0092BB9C+2700460]\n\tGetHandleVerifier [0x00733B10+635936]\n\t(No symbol) [0x00624A1F]\n\t(No symbol) [0x0062A418]\n\t(No symbol) [0x0062A505]\n\t(No symbol) [0x0063508B]\n\tBaseThreadInitThunk [0x762A7D69+25]\n\tRtlInitializeExceptionChain [0x76FFBB9B+107]\n\tRtlClearBits [0x76FFBB1F+191]\n",
     "output_type": "error",
     "traceback": [
      "\u001b[1;31m---------------------------------------------------------------------------\u001b[0m",
      "\u001b[1;31mNoSuchElementException\u001b[0m                    Traceback (most recent call last)",
      "Cell \u001b[1;32mIn [69], line 22\u001b[0m\n\u001b[0;32m     19\u001b[0m     sleep(\u001b[39m1\u001b[39m)\n\u001b[0;32m     20\u001b[0m \u001b[39melse\u001b[39;00m:\n\u001b[0;32m     21\u001b[0m     \u001b[39m## busco el nombre de canción que quiero buscar\u001b[39;00m\n\u001b[1;32m---> 22\u001b[0m     driver\u001b[39m.\u001b[39;49mfind_element(\u001b[39m'\u001b[39;49m\u001b[39mcss selector\u001b[39;49m\u001b[39m'\u001b[39;49m, \u001b[39m'\u001b[39;49m\u001b[39m#sticky-nav > div.StickyNavdesktop__Right-sc-60o25r-2.kMDkxm > form > input\u001b[39;49m\u001b[39m'\u001b[39;49m)\u001b[39m.\u001b[39msend_keys(row[\u001b[39m'\u001b[39m\u001b[39martist\u001b[39m\u001b[39m'\u001b[39m]\u001b[39m.\u001b[39msplit(\u001b[39m'\u001b[39m\u001b[39m,\u001b[39m\u001b[39m'\u001b[39m)[\u001b[39m0\u001b[39m] \u001b[39m+\u001b[39m \u001b[39m'\u001b[39m\u001b[39m \u001b[39m\u001b[39m'\u001b[39m \u001b[39m+\u001b[39m row[\u001b[39m'\u001b[39m\u001b[39mtrack\u001b[39m\u001b[39m'\u001b[39m]\u001b[39m.\u001b[39msplit(\u001b[39m'\u001b[39m\u001b[39m-\u001b[39m\u001b[39m'\u001b[39m)[\u001b[39m0\u001b[39m], Keys\u001b[39m.\u001b[39mENTER)\n\u001b[0;32m     23\u001b[0m     sleep(\u001b[39m1\u001b[39m)\n\u001b[0;32m     24\u001b[0m \u001b[39m## selecciono el resultado de la búsqueda que quiero\u001b[39;00m\n",
      "File \u001b[1;32mc:\\Users\\annas\\anaconda3\\envs\\iron\\lib\\site-packages\\selenium\\webdriver\\remote\\webdriver.py:861\u001b[0m, in \u001b[0;36mWebDriver.find_element\u001b[1;34m(self, by, value)\u001b[0m\n\u001b[0;32m    858\u001b[0m     by \u001b[39m=\u001b[39m By\u001b[39m.\u001b[39mCSS_SELECTOR\n\u001b[0;32m    859\u001b[0m     value \u001b[39m=\u001b[39m \u001b[39m'\u001b[39m\u001b[39m[name=\u001b[39m\u001b[39m\"\u001b[39m\u001b[39m%s\u001b[39;00m\u001b[39m\"\u001b[39m\u001b[39m]\u001b[39m\u001b[39m'\u001b[39m \u001b[39m%\u001b[39m value\n\u001b[1;32m--> 861\u001b[0m \u001b[39mreturn\u001b[39;00m \u001b[39mself\u001b[39;49m\u001b[39m.\u001b[39;49mexecute(Command\u001b[39m.\u001b[39;49mFIND_ELEMENT, {\u001b[39m\"\u001b[39;49m\u001b[39musing\u001b[39;49m\u001b[39m\"\u001b[39;49m: by, \u001b[39m\"\u001b[39;49m\u001b[39mvalue\u001b[39;49m\u001b[39m\"\u001b[39;49m: value})[\u001b[39m\"\u001b[39m\u001b[39mvalue\u001b[39m\u001b[39m\"\u001b[39m]\n",
      "File \u001b[1;32mc:\\Users\\annas\\anaconda3\\envs\\iron\\lib\\site-packages\\selenium\\webdriver\\remote\\webdriver.py:444\u001b[0m, in \u001b[0;36mWebDriver.execute\u001b[1;34m(self, driver_command, params)\u001b[0m\n\u001b[0;32m    442\u001b[0m response \u001b[39m=\u001b[39m \u001b[39mself\u001b[39m\u001b[39m.\u001b[39mcommand_executor\u001b[39m.\u001b[39mexecute(driver_command, params)\n\u001b[0;32m    443\u001b[0m \u001b[39mif\u001b[39;00m response:\n\u001b[1;32m--> 444\u001b[0m     \u001b[39mself\u001b[39;49m\u001b[39m.\u001b[39;49merror_handler\u001b[39m.\u001b[39;49mcheck_response(response)\n\u001b[0;32m    445\u001b[0m     response[\u001b[39m\"\u001b[39m\u001b[39mvalue\u001b[39m\u001b[39m\"\u001b[39m] \u001b[39m=\u001b[39m \u001b[39mself\u001b[39m\u001b[39m.\u001b[39m_unwrap_value(response\u001b[39m.\u001b[39mget(\u001b[39m\"\u001b[39m\u001b[39mvalue\u001b[39m\u001b[39m\"\u001b[39m, \u001b[39mNone\u001b[39;00m))\n\u001b[0;32m    446\u001b[0m     \u001b[39mreturn\u001b[39;00m response\n",
      "File \u001b[1;32mc:\\Users\\annas\\anaconda3\\envs\\iron\\lib\\site-packages\\selenium\\webdriver\\remote\\errorhandler.py:249\u001b[0m, in \u001b[0;36mErrorHandler.check_response\u001b[1;34m(self, response)\u001b[0m\n\u001b[0;32m    247\u001b[0m         alert_text \u001b[39m=\u001b[39m value[\u001b[39m\"\u001b[39m\u001b[39malert\u001b[39m\u001b[39m\"\u001b[39m]\u001b[39m.\u001b[39mget(\u001b[39m\"\u001b[39m\u001b[39mtext\u001b[39m\u001b[39m\"\u001b[39m)\n\u001b[0;32m    248\u001b[0m     \u001b[39mraise\u001b[39;00m exception_class(message, screen, stacktrace, alert_text)  \u001b[39m# type: ignore[call-arg]  # mypy is not smart enough here\u001b[39;00m\n\u001b[1;32m--> 249\u001b[0m \u001b[39mraise\u001b[39;00m exception_class(message, screen, stacktrace)\n",
      "\u001b[1;31mNoSuchElementException\u001b[0m: Message: no such element: Unable to locate element: {\"method\":\"css selector\",\"selector\":\"#sticky-nav > div.StickyNavdesktop__Right-sc-60o25r-2.kMDkxm > form > input\"}\n  (Session info: chrome=109.0.5414.74)\nStacktrace:\nBacktrace:\n\t(No symbol) [0x00686643]\n\t(No symbol) [0x0061BE21]\n\t(No symbol) [0x0051DA9D]\n\t(No symbol) [0x00551342]\n\t(No symbol) [0x0055147B]\n\t(No symbol) [0x00588DC2]\n\t(No symbol) [0x0056FDC4]\n\t(No symbol) [0x00586B09]\n\t(No symbol) [0x0056FB76]\n\t(No symbol) [0x005449C1]\n\t(No symbol) [0x00545E5D]\n\tGetHandleVerifier [0x008FA142+2497106]\n\tGetHandleVerifier [0x009285D3+2686691]\n\tGetHandleVerifier [0x0092BB9C+2700460]\n\tGetHandleVerifier [0x00733B10+635936]\n\t(No symbol) [0x00624A1F]\n\t(No symbol) [0x0062A418]\n\t(No symbol) [0x0062A505]\n\t(No symbol) [0x0063508B]\n\tBaseThreadInitThunk [0x762A7D69+25]\n\tRtlInitializeExceptionChain [0x76FFBB9B+107]\n\tRtlClearBits [0x76FFBB1F+191]\n"
     ]
    }
   ],
   "source": [
    "## iniciamos el web driver\n",
    "opciones= Options()\n",
    "opciones.add_argument(\"--start-maximized\")\n",
    "driver = webdriver.Chrome(ChromeDriverManager().install())\n",
    "driver.get('https://genius.com/')\n",
    "driver.maximize_window()\n",
    "driver.set_window_size(1920, 1080)\n",
    "## te metes dentro de la página y con inspeccionar, seleccionas el elemento de las cookies --> copy / selector\n",
    "##por si tu ordenador es un poco lento, le puedes poner un tiempo para que intente hacerlo\n",
    "driver.implicitly_wait(30)\n",
    "for index, row in test.iterrows():\n",
    "    print(index, row['artist'].split(',')[0],'---', row['track'].split('-')[0])\n",
    "    almacen_paginas['url'].append(row['url'])\n",
    "    if index == 0: \n",
    "        driver.find_element('css selector', '#onetrust-accept-btn-handler').click()\n",
    "        sleep(1)\n",
    "        ## busco el nombre de canción que quiero buscar\n",
    "        driver.find_element('css selector', '#application > div > div.PageHeaderdesktop__Container-bhx5ui-0.dmNhEr > div.PageHeaderdesktop__Left-bhx5ui-2.ctcvqz > form > input').send_keys(row['artist'].split(',')[0] + ' ' + row['track'].split('-')[0], Keys.ENTER)\n",
    "        sleep(1)\n",
    "    else:\n",
    "        ## busco el nombre de canción que quiero buscar\n",
    "        driver.find_element('css selector', '#sticky-nav > div.StickyNavdesktop__Right-sc-60o25r-2.kMDkxm > form > input').send_keys(row['artist'].split(',')[0] + ' ' + row['track'].split('-')[0], Keys.ENTER)\n",
    "        sleep(1)\n",
    "    ## selecciono el resultado de la búsqueda que quiero\n",
    "    try:\n",
    "        driver.find_element('xpath', '/html/body/routable-page/ng-outlet/search-results-page/div/div[2]/div[1]/div[2]/search-result-section/div/div[2]/search-result-items/div[1]/search-result-item/div/mini-song-card/a').click()\n",
    "        driver.implicitly_wait(30)\n",
    "        ## clico el all credits\n",
    "        try:\n",
    "            driver.find_element('xpath', '//*[@id=\"application\"]/main/div[1]/div[4]/div/div[1]/div[4]/div/a').click()\n",
    "        except:\n",
    "            try:\n",
    "                driver.find_element('xpath', '//*[@id=\"application\"]/main/div[1]/div[4]/div/div[1]/div[3]/div/a').click()\n",
    "            except:\n",
    "                try:\n",
    "                    driver.find_element('xpath', '//*[@id=\"application\"]/main/div[1]/div[4]/div/div[1]/div[2]/div/a').click()\n",
    "                except:\n",
    "                    try:\n",
    "                        driver.find_element('xpath', '//*[@id=\"application\"]/main/div[1]/div[4]/div/div[1]/div[1]/div/a').click()\n",
    "                    except:\n",
    "                        print('oye que no va')\n",
    "                        break\n",
    "        #'//*[@id=\"application\"]/main/div[1]/div[4]/div/div[1]/div/div/a'\n",
    "        sleep(1)\n",
    "        page_source = driver.page_source\n",
    "        url = driver.current_url\n",
    "        res = requests.get(url + '#song-info')\n",
    "        soup = BeautifulSoup(res.content, 'html.parser')\n",
    "        pagina = soup.text\n",
    "        almacen_paginas['pagina'].append(pagina)\n",
    "        try:\n",
    "            almacen_paginas['lyrics'].append(re.findall(r'Lyrics(.*)EmbedCancel?', pagina)[0])\n",
    "        except:\n",
    "            almacen_paginas['lyrics'].append(np.nan)\n",
    "        with open(f'../data/pickle/{filename}.pickle', 'wb') as data_scrapeado:\n",
    "            pickle.dump(almacen_paginas, data_scrapeado)\n",
    "        clear_output(wait=True)\n",
    "    except:\n",
    "        almacen_paginas['pagina'].append(np.nan)\n",
    "        almacen_paginas['lyrics'].append(np.nan)\n",
    "        clear_output(wait=True)"
   ]
  },
  {
   "cell_type": "code",
   "execution_count": null,
   "metadata": {},
   "outputs": [],
   "source": [
    "almacen_paginas['lyrics'][122]"
   ]
  },
  {
   "cell_type": "code",
   "execution_count": null,
   "metadata": {},
   "outputs": [],
   "source": [
    "almacen_paginas['pagina'][0]"
   ]
  },
  {
   "cell_type": "code",
   "execution_count": null,
   "metadata": {},
   "outputs": [],
   "source": [
    "#almacen_paginas['pagina'][0]\n",
    "print(re.findall(r'Lyrics(.*)EmbedCancel?', pagina)[0])"
   ]
  },
  {
   "cell_type": "code",
   "execution_count": null,
   "metadata": {},
   "outputs": [],
   "source": [
    "#almacen_paginas['pagina'][1]\n",
    "print('label', re.findall(r'(.*)', almacen_paginas['pagina'][1]))"
   ]
  },
  {
   "cell_type": "code",
   "execution_count": null,
   "metadata": {},
   "outputs": [],
   "source": [
    "for pagina in almacen_paginas['pagina']:\n",
    "    #print(pagina)\n",
    "    try:\n",
    "        print('producción', re.findall(r'Produced By(.*)Written By?', pagina), 'chachi')\n",
    "        #print(re.findall(r'Licensing(.*)[Distributor|Guest Appearances|Licensing]?', pagina))\n",
    "        print('label', re.findall(r'Label(.*)Publisher|Licensing|Premiere', pagina))\n",
    "        print('date', re.findall(r'Release Date(\\w+ \\d+, \\d+)', pagina), 'chachi')\n",
    "    except:\n",
    "        try:\n",
    "            print(re.findall(r'Produced By?(.*)?Written By?(.*)?Primary Artist?(.*)?Publisher?(.*)Mixing Engineer?(.*)?Release Date(.*)', pagina))\n",
    "        except:\n",
    "            pass\n",
    "    #print(re.findall(r'Produced By?(.*)?Written By?(.*)?Keyboards?(.*)?Video Director?(.*)?Label?(.*)?Vocals?(.*)?Bass Guitar?(.*)?Drums?(.*)?Guitar?(.*)?Recorded At?(.*)?Release Date?(.*)?Songs That?', pagina))"
   ]
  },
  {
   "cell_type": "code",
   "execution_count": null,
   "metadata": {},
   "outputs": [],
   "source": [
    "re.findall(r'Produced By?(.*)?Written By?(.*)?Primary Artist?(.*)?Publisher?(.*)Mixing Engineer?(.*)?Release Date(.*)', almacen_paginas['pagina'][-2])"
   ]
  },
  {
   "cell_type": "code",
   "execution_count": null,
   "metadata": {},
   "outputs": [],
   "source": [
    "almacen_paginas['pagina'][-2]"
   ]
  },
  {
   "cell_type": "code",
   "execution_count": null,
   "metadata": {},
   "outputs": [],
   "source": [
    "re.findall(r'Produced By(.*)Written By(.*)Keyboards(.*)Video Director(.*)Label(.*)Vocals(.*)Bass Guitar(.*)Drums(.*)Guitar(.*)Recorded At(.*)Release Date(.*)Songs That', pagina)\n",
    "#Lyrics(.*)Produced By(.*)Written By(.*)Keyboards(.*)Video Director(.*)Label(.*)Vocals(.*)Bass Guitar(.*)Drums(.*)Guitar(.*)Recorded At(.*)Release Date(.*)Songs', almacen_paginas['pagina'][-1])"
   ]
  },
  {
   "cell_type": "code",
   "execution_count": null,
   "metadata": {},
   "outputs": [],
   "source": []
  },
  {
   "cell_type": "code",
   "execution_count": null,
   "metadata": {},
   "outputs": [],
   "source": [
    "re.findall(r'Lyrics(.*)', pagina)[1]\n",
    "#Lyrics(.*)Produced By(.*)Written By(.*)Keyboards(.*)Video Director(.*)Label(.*)Vocals(.*)Bass Guitar(.*)Drums(.*)Guitar(.*)Recorded At(.*)Release Date(.*)Songs', almacen_paginas['pagina'][-1])"
   ]
  },
  {
   "cell_type": "code",
   "execution_count": null,
   "metadata": {},
   "outputs": [],
   "source": [
    "re.findall(r'Featuring(\\w+\\s+?\\w+?)Produced', almacen_paginas['pagina'][-1])"
   ]
  },
  {
   "cell_type": "code",
   "execution_count": null,
   "metadata": {},
   "outputs": [],
   "source": [
    "re.findall(r'Produced By(.*)Written By', almacen_paginas['pagina'][-1])"
   ]
  },
  {
   "cell_type": "code",
   "execution_count": null,
   "metadata": {},
   "outputs": [],
   "source": [
    "re.findall(r'Written By(.*)Keyboards', almacen_paginas['pagina'][-1])"
   ]
  },
  {
   "cell_type": "code",
   "execution_count": null,
   "metadata": {},
   "outputs": [],
   "source": [
    "re.findall(r'Featuring(.*)', almacen_paginas['pagina'][-1])[1]"
   ]
  },
  {
   "cell_type": "code",
   "execution_count": null,
   "metadata": {},
   "outputs": [],
   "source": [
    "tracks"
   ]
  },
  {
   "cell_type": "code",
   "execution_count": null,
   "metadata": {},
   "outputs": [],
   "source": [
    "urls = []\n",
    "for index, row in tracks.iterrows():\n",
    "    urls.append(f\"https://genius.com/{row['artist'].split(',')[0].replace(' ','-')}-{row['track'].replace(' ','-')}\")\n",
    "urls[10:15]"
   ]
  },
  {
   "attachments": {},
   "cell_type": "markdown",
   "metadata": {},
   "source": [
    "# test"
   ]
  },
  {
   "cell_type": "code",
   "execution_count": null,
   "metadata": {},
   "outputs": [],
   "source": [
    "genius_search_url = f\"http://api.genius.com/search?q={'drake one love'}&access_token={token}\""
   ]
  },
  {
   "cell_type": "code",
   "execution_count": null,
   "metadata": {},
   "outputs": [],
   "source": [
    "response = requests.get(genius_search_url)\n",
    "json_data = response.json()"
   ]
  },
  {
   "cell_type": "code",
   "execution_count": null,
   "metadata": {},
   "outputs": [],
   "source": [
    "json_data"
   ]
  },
  {
   "attachments": {},
   "cell_type": "markdown",
   "metadata": {},
   "source": [
    "# Export"
   ]
  },
  {
   "cell_type": "code",
   "execution_count": null,
   "metadata": {},
   "outputs": [],
   "source": [
    "with open('../data/pickle/genius_dataset.pickle', 'wb') as data_spotify:\n",
    "    pickle.dump(tracks, data_spotify)"
   ]
  }
 ],
 "metadata": {
  "kernelspec": {
   "display_name": "iron",
   "language": "python",
   "name": "python3"
  },
  "language_info": {
   "codemirror_mode": {
    "name": "ipython",
    "version": 3
   },
   "file_extension": ".py",
   "mimetype": "text/x-python",
   "name": "python",
   "nbconvert_exporter": "python",
   "pygments_lexer": "ipython3",
   "version": "3.9.13"
  },
  "orig_nbformat": 4,
  "vscode": {
   "interpreter": {
    "hash": "e59d0b279e6461be5b4ea7b62838527cd8f41f3cbc9a1147b1a83b32d75ab689"
   }
  }
 },
 "nbformat": 4,
 "nbformat_minor": 2
}
