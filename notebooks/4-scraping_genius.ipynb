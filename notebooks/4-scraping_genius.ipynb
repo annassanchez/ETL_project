{
 "cells": [
  {
   "cell_type": "code",
   "execution_count": 2,
   "metadata": {},
   "outputs": [],
   "source": [
    "import requests\n",
    "import pandas as pd\n",
    "from time import sleep\n",
    "import numpy as np\n",
    "from tqdm import tqdm\n",
    "\n",
    "from selenium import webdriver\n",
    "from webdriver_manager.chrome import ChromeDriverManager\n",
    "from selenium.webdriver.common.keys import Keys\n",
    "from selenium.webdriver.chrome.options import Options\n",
    "import numpy as np\n",
    "\n",
    "import warnings\n",
    "warnings.filterwarnings('ignore')"
   ]
  },
  {
   "cell_type": "code",
   "execution_count": 3,
   "metadata": {},
   "outputs": [],
   "source": [
    "import pickle"
   ]
  },
  {
   "attachments": {},
   "cell_type": "markdown",
   "metadata": {},
   "source": [
    "# Importing pickle file"
   ]
  },
  {
   "cell_type": "code",
   "execution_count": 4,
   "metadata": {},
   "outputs": [],
   "source": [
    "with open('../data/pickle/dataset_viral150_unique.pickle', 'rb') as tracks:\n",
    "    tracks = pickle.load(tracks)"
   ]
  },
  {
   "cell_type": "code",
   "execution_count": 5,
   "metadata": {},
   "outputs": [
    {
     "data": {
      "text/html": [
       "<div>\n",
       "<style scoped>\n",
       "    .dataframe tbody tr th:only-of-type {\n",
       "        vertical-align: middle;\n",
       "    }\n",
       "\n",
       "    .dataframe tbody tr th {\n",
       "        vertical-align: top;\n",
       "    }\n",
       "\n",
       "    .dataframe thead th {\n",
       "        text-align: right;\n",
       "    }\n",
       "</style>\n",
       "<table border=\"1\" class=\"dataframe\">\n",
       "  <thead>\n",
       "    <tr style=\"text-align: right;\">\n",
       "      <th></th>\n",
       "      <th>url</th>\n",
       "      <th>artist_clean</th>\n",
       "      <th>track_clean</th>\n",
       "    </tr>\n",
       "  </thead>\n",
       "  <tbody>\n",
       "    <tr>\n",
       "      <th>8246</th>\n",
       "      <td>https://open.spotify.com/track/4Km5HrUvYTaSUfi...</td>\n",
       "      <td>migos</td>\n",
       "      <td>bad and boujee (feat. lil uzi vert)</td>\n",
       "    </tr>\n",
       "    <tr>\n",
       "      <th>8247</th>\n",
       "      <td>https://open.spotify.com/track/343YBumqHu19cGo...</td>\n",
       "      <td>drake</td>\n",
       "      <td>fake love</td>\n",
       "    </tr>\n",
       "    <tr>\n",
       "      <th>8248</th>\n",
       "      <td>https://open.spotify.com/track/5aAx2yezTd8zXrk...</td>\n",
       "      <td>the weeknd, daft punk</td>\n",
       "      <td>starboy</td>\n",
       "    </tr>\n",
       "    <tr>\n",
       "      <th>8249</th>\n",
       "      <td>https://open.spotify.com/track/7BKLCZ1jbUBVqRi...</td>\n",
       "      <td>the chainsmokers, halsey</td>\n",
       "      <td>closer</td>\n",
       "    </tr>\n",
       "    <tr>\n",
       "      <th>8250</th>\n",
       "      <td>https://open.spotify.com/track/6fujklziTHa8uoM...</td>\n",
       "      <td>rae sremmurd, gucci mane</td>\n",
       "      <td>black beatles</td>\n",
       "    </tr>\n",
       "  </tbody>\n",
       "</table>\n",
       "</div>"
      ],
      "text/plain": [
       "                                                    url  \\\n",
       "8246  https://open.spotify.com/track/4Km5HrUvYTaSUfi...   \n",
       "8247  https://open.spotify.com/track/343YBumqHu19cGo...   \n",
       "8248  https://open.spotify.com/track/5aAx2yezTd8zXrk...   \n",
       "8249  https://open.spotify.com/track/7BKLCZ1jbUBVqRi...   \n",
       "8250  https://open.spotify.com/track/6fujklziTHa8uoM...   \n",
       "\n",
       "                  artist_clean                          track_clean  \n",
       "8246                     migos  bad and boujee (feat. lil uzi vert)  \n",
       "8247                     drake                            fake love  \n",
       "8248     the weeknd, daft punk                              starboy  \n",
       "8249  the chainsmokers, halsey                               closer  \n",
       "8250  rae sremmurd, gucci mane                        black beatles  "
      ]
     },
     "execution_count": 5,
     "metadata": {},
     "output_type": "execute_result"
    }
   ],
   "source": [
    "tracks.head()"
   ]
  },
  {
   "cell_type": "code",
   "execution_count": 6,
   "metadata": {},
   "outputs": [
    {
     "data": {
      "text/html": [
       "<div>\n",
       "<style scoped>\n",
       "    .dataframe tbody tr th:only-of-type {\n",
       "        vertical-align: middle;\n",
       "    }\n",
       "\n",
       "    .dataframe tbody tr th {\n",
       "        vertical-align: top;\n",
       "    }\n",
       "\n",
       "    .dataframe thead th {\n",
       "        text-align: right;\n",
       "    }\n",
       "</style>\n",
       "<table border=\"1\" class=\"dataframe\">\n",
       "  <thead>\n",
       "    <tr style=\"text-align: right;\">\n",
       "      <th></th>\n",
       "      <th>url</th>\n",
       "      <th>artist</th>\n",
       "      <th>track</th>\n",
       "    </tr>\n",
       "  </thead>\n",
       "  <tbody>\n",
       "    <tr>\n",
       "      <th>8246</th>\n",
       "      <td>https://open.spotify.com/track/4Km5HrUvYTaSUfi...</td>\n",
       "      <td>migos</td>\n",
       "      <td>bad and boujee (feat. lil uzi vert)</td>\n",
       "    </tr>\n",
       "    <tr>\n",
       "      <th>8247</th>\n",
       "      <td>https://open.spotify.com/track/343YBumqHu19cGo...</td>\n",
       "      <td>drake</td>\n",
       "      <td>fake love</td>\n",
       "    </tr>\n",
       "    <tr>\n",
       "      <th>8248</th>\n",
       "      <td>https://open.spotify.com/track/5aAx2yezTd8zXrk...</td>\n",
       "      <td>the weeknd, daft punk</td>\n",
       "      <td>starboy</td>\n",
       "    </tr>\n",
       "    <tr>\n",
       "      <th>8249</th>\n",
       "      <td>https://open.spotify.com/track/7BKLCZ1jbUBVqRi...</td>\n",
       "      <td>the chainsmokers, halsey</td>\n",
       "      <td>closer</td>\n",
       "    </tr>\n",
       "    <tr>\n",
       "      <th>8250</th>\n",
       "      <td>https://open.spotify.com/track/6fujklziTHa8uoM...</td>\n",
       "      <td>rae sremmurd, gucci mane</td>\n",
       "      <td>black beatles</td>\n",
       "    </tr>\n",
       "  </tbody>\n",
       "</table>\n",
       "</div>"
      ],
      "text/plain": [
       "                                                    url  \\\n",
       "8246  https://open.spotify.com/track/4Km5HrUvYTaSUfi...   \n",
       "8247  https://open.spotify.com/track/343YBumqHu19cGo...   \n",
       "8248  https://open.spotify.com/track/5aAx2yezTd8zXrk...   \n",
       "8249  https://open.spotify.com/track/7BKLCZ1jbUBVqRi...   \n",
       "8250  https://open.spotify.com/track/6fujklziTHa8uoM...   \n",
       "\n",
       "                        artist                                track  \n",
       "8246                     migos  bad and boujee (feat. lil uzi vert)  \n",
       "8247                     drake                            fake love  \n",
       "8248     the weeknd, daft punk                              starboy  \n",
       "8249  the chainsmokers, halsey                               closer  \n",
       "8250  rae sremmurd, gucci mane                        black beatles  "
      ]
     },
     "execution_count": 6,
     "metadata": {},
     "output_type": "execute_result"
    }
   ],
   "source": [
    "tracks.rename(columns={'track_clean':'track','artist_clean':'artist'}, inplace=True)\n",
    "tracks.head()"
   ]
  },
  {
   "attachments": {},
   "cell_type": "markdown",
   "metadata": {},
   "source": [
    "Configuro mi pestaña de selenium"
   ]
  },
  {
   "cell_type": "code",
   "execution_count": 7,
   "metadata": {},
   "outputs": [],
   "source": [
    "driver = webdriver.Chrome(ChromeDriverManager().install())\n",
    "driver.get('https://chromedriver.chromium.org/downloads')"
   ]
  },
  {
   "attachments": {},
   "cell_type": "markdown",
   "metadata": {},
   "source": [
    "Voy a probar que me funcione la búsqueda de un elemento"
   ]
  },
  {
   "cell_type": "code",
   "execution_count": 8,
   "metadata": {},
   "outputs": [],
   "source": [
    "## iniciamos el web driver\n",
    "opciones= Options()\n",
    "opciones.add_argument(\"--start-maximized\")\n",
    "driver = webdriver.Chrome(ChromeDriverManager().install())\n",
    "driver.get('https://genius.com/')\n",
    "driver.maximize_window()\n",
    "driver.set_window_size(1920, 1080)\n",
    "## te metes dentro de la página y con inspeccionar, seleccionas el elemento de las cookies --> copy / selector\n",
    "##por si tu ordenador es un poco lento, le puedes poner un tiempo para que intente hacerlo\n",
    "driver.implicitly_wait(30)\n",
    "## si quieres tardar más, le pones un sleep\n",
    "## sleep(20)\n",
    "## acepto los cookies\n",
    "driver.find_element('css selector', '#onetrust-accept-btn-handler').click()\n",
    "sleep(1)\n",
    "## busco el nombre del actor que quiero buscar\n",
    "driver.find_element('css selector', '#application > div > div.PageHeaderdesktop__Container-bhx5ui-0.dmNhEr > div.PageHeaderdesktop__Left-bhx5ui-2.ctcvqz > form > input').send_keys('drake fake love', Keys.ENTER)\n",
    "sleep(1)\n",
    "driver.find_element('xpath', '/html/body/routable-page/ng-outlet/search-results-page/div/div[2]/div[1]/div[1]/search-result-section/div/div[2]/search-result-items/div/search-result-item/div/mini-song-card/a').click()\n",
    "driver.implicitly_wait(30)\n",
    "## extraigo la información de la letra de cada canción\n",
    "lyrics = driver.find_element('css selector', '#lyrics-root > div:nth-child(3)').text\n",
    "lyrics2 = driver.find_element('css selector', '#lyrics-root > div:nth-child(6)').text\n",
    "sleep(1)\n",
    "release_date = driver.find_element('css selector', '#application > main > div.SongPageGriddesktop-sc-1px5b71-0.jecoie.SongHeaderdesktop__Container-sc-1effuo1-0.fqavsD > div.SongHeaderdesktop__Column-sc-1effuo1-1.SongHeaderdesktop__Right-sc-1effuo1-4.ePANpp > div > div.HeaderMetadata__Grid-sc-1p42fnf-1.ePueMf > div:nth-child(2) > div').text\n",
    "#application > main > div.SongPageGriddesktop-sc-1px5b71-0.jecoie.SongHeaderdesktop__Container-sc-1effuo1-0.kEkpYM > div.SongHeaderdesktop__Column-sc-1effuo1-1.SongHeaderdesktop__Right-sc-1effuo1-4.ePANpp > div > div.HeaderMetadata__Grid-sc-1p42fnf-1.ePueMf > div:nth-child(3) > div"
   ]
  },
  {
   "cell_type": "code",
   "execution_count": 9,
   "metadata": {},
   "outputs": [
    {
     "data": {
      "text/plain": [
       "'October 23, 2016'"
      ]
     },
     "execution_count": 9,
     "metadata": {},
     "output_type": "execute_result"
    }
   ],
   "source": [
    "release_date"
   ]
  },
  {
   "cell_type": "code",
   "execution_count": 10,
   "metadata": {},
   "outputs": [
    {
     "data": {
      "text/plain": [
       "'[Chorus]\\nI\\'ve been down so long, it look like up to me\\nThey look up to me\\nI got fake people showin\\' fake love to me\\nStraight up to my face, straight up to my face\\nI\\'ve been down so long, it look like up to me\\nThey look up to me\\nI got fake people showin\\' fake love to me\\nStraight up to my face, straight up to my face\\n\\n\\n[Verse 1]\\nSomethin\\' ain\\'t right when we talkin\\'\\nSomethin\\' ain\\'t right when we talkin\\'\\nLook like you hidin\\' your problems\\nReally you never was solid\\nNo, you can\\'t \"son\" me\\nYou won\\'t never get to run me\\nJust when shit look out of reach\\nI reach back like one, three\\nLike one, three, yeah\\n\\n[Pre-Chorus]\\nThat\\'s when they smile in my face\\nWhole time they wanna take my place\\nWhole time they wanna take my place\\nWhole time they wanna take my place\\nYeah, I know they wanna take my place\\nI can tell that love is fake\\nI don\\'t trust a word you say\\nHow you wanna clique up after your mistakes?\\nLook you in the face, and it\\'s just not the same\\n\\n\\n[Chorus]\\nI\\'ve been down so long, it look like up to me\\nThey look up to me\\nI got fake people showin\\' fake love to me\\nStraight up to my face, straight up to my face\\nI\\'ve been down so long, it look like up to me\\nThey look up to me\\nI got fake people showin\\' fake love to me\\nStraight up to my face, straight up to my face\\n\\n\\n[Verse 2]\\nYeah, straight up to my face, tryna play it safe\\nVibe switch like night and day\\nI can see it, like, right away\\nI came up, you changed up\\nI caught that whole play\\nSince, things never been the same[Pre-Chorus]\\nThat\\'s when they smile in my face\\nWhole time they wanna take my place\\nWhole time they wanna take my place\\nWhole time they wanna take my place\\nYeah, I know they wanna take my place\\nI can tell that love is fake (I can tell that love is fake)\\nI don\\'t trust a word you say (I don\\'t trust a word)\\nHow you wanna clique up after your mistakes?\\n(That\\'s just what I heard)\\nLook you in the face, and it\\'s just not the same\\n\\n\\n[Chorus]\\nI\\'ve been down so long, it look like up to me\\nThey look up to me\\nI got fake people showin\\' fake love to me\\nStraight up to my face, straight up to my face\\nI\\'ve been down so long, it look like up to me\\nThey look up to me\\nI got fake people showin\\' fake love to me\\nStraight up to my face, straight up to my face\\n\\n\\n[Outro]\\nSkrrt\\nAnd more chune for your headtop\\nSo watch how you speak on my name, you know?'"
      ]
     },
     "execution_count": 10,
     "metadata": {},
     "output_type": "execute_result"
    }
   ],
   "source": [
    "lyrics + lyrics2"
   ]
  },
  {
   "cell_type": "code",
   "execution_count": 11,
   "metadata": {},
   "outputs": [],
   "source": [
    "canciones = {\n",
    "    'lyrics': [],\n",
    "    'release_date': []\n",
    "}"
   ]
  },
  {
   "cell_type": "code",
   "execution_count": 14,
   "metadata": {},
   "outputs": [
    {
     "name": "stdout",
     "output_type": "stream",
     "text": [
      "migos --- bad and boujee (feat. lil uzi vert)\n"
     ]
    }
   ],
   "source": [
    "for index, row in tracks.iterrows():\n",
    "    print(row['artist'],'---', row['track'])\n",
    "    ## iniciamos el web driver\n",
    "    opciones= Options()\n",
    "    opciones.add_argument(\"--start-maximized\")\n",
    "    driver = webdriver.Chrome(ChromeDriverManager().install())\n",
    "    driver.get('https://genius.com/')\n",
    "    driver.maximize_window()\n",
    "    driver.set_window_size(1920, 1080)\n",
    "    ## te metes dentro de la página y con inspeccionar, seleccionas el elemento de las cookies --> copy / selector\n",
    "    ##por si tu ordenador es un poco lento, le puedes poner un tiempo para que intente hacerlo\n",
    "    driver.implicitly_wait(30)\n",
    "    ## si quieres tardar más, le pones un sleep\n",
    "    ## sleep(20)\n",
    "    ## acepto los cookies\n",
    "    driver.find_element('css selector', '#onetrust-accept-btn-handler').click()\n",
    "    sleep(1)\n",
    "    ## busco el nombre del actor que quiero buscar\n",
    "    driver.find_element('css selector', '#application > div > div.PageHeaderdesktop__Container-bhx5ui-0.dmNhEr > div.PageHeaderdesktop__Left-bhx5ui-2.ctcvqz > form > input').send_keys(row['artist'] + row['track'], Keys.ENTER)\n",
    "    sleep(1)\n",
    "    driver.find_element('xpath', '/html/body/routable-page/ng-outlet/search-results-page/div/div[2]/div[1]/div[1]/search-result-section/div/div[2]/search-result-items/div/search-result-item/div/mini-song-card/a').click()\n",
    "    driver.implicitly_wait(30)\n",
    "    ## extraigo la información de la letra de cada canción\n",
    "    for item in range(1,15):\n",
    "        try:\n",
    "            lyrics = driver.find_element('css selector', f'#lyrics-root > div:nth-child({item})').text\n",
    "            canciones['lyrics'].append(lyrics)\n",
    "        except:\n",
    "            continue\n",
    "    #lyrics2 = driver.find_element('css selector', '#lyrics-root > div:nth-child(2)').text\n",
    "    #canciones['lyrics'].append(lyrics)\n",
    "    #canciones['lyrics'].append(lyrics2)\n",
    "    sleep(1)\n",
    "    release_date = driver.find_element('xpath', '//*[@id=\"application\"]/main/div[1]/div[3]/div[1]/div[2]/div/div[1]/span[1]/span').text\n",
    "    canciones['release_date'].append(release_date)\n",
    "    break"
   ]
  },
  {
   "cell_type": "code",
   "execution_count": 13,
   "metadata": {},
   "outputs": [
    {
     "data": {
      "text/plain": [
       "{'lyrics': ['Translations',\n",
       "  \"[Intro: Offset & Future]\\nYou know, young rich niggas\\nYou know somethin', we ain't really never had no old money\\nWe got a whole lotta new money though, hah\\n\\n(If Young Metro don't trust you, I'm gon' shoot you)\\n\\nHey\\n\\n[Chorus: Offset]\\nRaindrop (Drip), drop-top (Drop-top)\\nSmokin' on cookie in the hotbox (Cookie)\\n\\nFuckin' on your bitch, she a thot, thot (Thot)\\n\\nCookin' up dope in the crockpot (Pot)\\n\\nWe came from nothin' to somethin', nigga (Hey)\\n\\nI don't trust nobody, grip the trigger (Nobody)\\nCall up the gang and they come and get ya (Gang)\\nCry me a river, give you a tissue (Hey)\\n\\nMy bitch is bad and bougie (Bad)\\n\\nCookin' up dope with a Uzi (Blaow)\\nMy niggas is savage, ruthless (Savage)\\nWe got 30s and hundred-rounds too (Grrah)\\n\\nMy bitch is bad and bougie (Bad)\\n\\nCookin' up dope with a Uzi (Dope)\\n\\nMy niggas is savage, ruthless (Hey)\\nWe got 30s and hundred-rounds too (Glah)\\n\\n\\n[Verse 1: Offset]\\nOffset, woo, woo, woo, woo, woo\\n\\nRackaids on rackaids (Racks), got back-ends on back-ends\\n\\nI'm ridin' around in a coupe (Coupe)\\n\\nI take your bih' right from you (You)\\n\\nBitch, I'm a dog, roof (Grr)\\nBeat the ho walls loose (Hey)\\n\\nHop in the frog, whoo (Skrrt)\\n\\nI tell that bih' to come comfort me (Comfort me)\\nI swear these niggas is under me (Hey)\\nThey hate and the devil keep jumpin' me (Jumpin' me)\\nBankrolls on me keep me company (Cash)\\nAyy, we do the most (Most)\\nYeah, pull up in Ghosts (Woo)\\n\\nYeah, my diamond's a choker (Glah)\\n\\nHoldin' the fire with no holster (Blaow)\\n\\nRick the Ruler, diamonds cooler (Cooler)\\n\\nThis a Rollie, not a Muller (Hey)\\nDabbin' on 'em like the usual (Dab)\\n\\nMagic with the brick, do voodoo (Magic)\\n\\nCourtside with a bad bitch (Bitch)\\n\\nThen I send the bitch through Uber (Go)\\nI'm young and rich and plus I'm bougie (Hey)\\n\\nI'm not stupid so I keep the Uzi (Rrah)\\n\\nRackaids on rackaids, got back-ends on back-ends\\nSo my money makin' my back ache (Aagh)\\n\\nYou niggas got a low Act rate (Act)\\n\\nWe from the Nawf, yeah, Dat Way (Nawf)\\n\\nFat Cookie blunt in the ashtray (Cookie)\\n\\nTwo bitches, just national smash day (Smash)\\nHop in the Lamb', have a drag race (Skrrt)\\nI let them birds take a bath, bae (Brr)\",\n",
       "  'You might also like\\nLift Me Up\\nRihanna\\nYou’re On Your Own, Kid\\nTaylor Swift\\nBlind\\nSZA',\n",
       "  '',\n",
       "  \"[Chorus: Offset]\\nRaindrop (Drip), drop-top (Drop-top)\\nSmokin' on cookie in the hotbox (Cookie)\\n\\nFuckin' on your bitch, she a thot, thot (Thot)\\n\\nCookin' up dope in the crockpot (Pot)\\n\\nWe came from nothin' to somethin', nigga (Hey)\\n\\nI don't trust nobody, grip the trigger (Nobody)\\nCall up the gang and they come and get ya (Gang)\\nCry me a river, give you a tissue (Hey)\\n\\nMy bitch is bad and bougie (Bad)\\n\\nCookin' up dope with a Uzi (Blaow)\\nMy niggas is savage, ruthless (Savage)\\nWe got 30s and hundred-rounds too (Grrah)\\n\\nMy bitch is bad and bougie (Bad)\\n\\nCookin' up dope with a Uzi (Dope)\\nMy niggas is savage, ruthless (Hey)\\nWe got 30s and hundred-rounds too (Glah)\\n\\n\\n[Verse 2: Quavo]\\nPour a four, I'm droppin' muddy, outer space, Kid Cudi (Drank)\\n\\nIntroduce me to your bitch as wifey and we know she sluttin' (Bitch)\\nBroke a brick down, Nutty Buddy, now that nigga duckin' (Phew)\\n\\nDon't move too fast, I might shoot ya (Huh?)\\nDraco bad and bougie (Draco)\\n\\nI'm always hangin' with shooters (Brrah)\\n\\nMight be posted somewhere secluded (Private)\\nStill be playin' with pots and pans, call me Quavo Ratatouille (Cook it up)\\n\\nRun with that sack, call me Boobie (Run with it)\\nWhen I'm on stage, show me boobies (Ayy)\\n\\nIce on my neck, I'm the coolest (Ice)\\n\\nHop out the suicide with the Uzi (Pew-pew-pew)\\n\\nI pull up, I pull up, I pull up\\nI hop out with all of the drugs and the good luck (Skrrt)\\nI'm cookin', I'm cookin', I'm whippin'\\nI'm whippin' until it rock up, let it lock up (Lock up)\\n\\nI gave her ten racks\\nI told her go shoppin' and spend it all at the pop up (Ten)\\n\\nThese bitches, they fuck and suck dick\\nAnd they bustin' for Instagram, get your clout up\\n\\nUh, yeah, that way (Yeah)\\nFloat on the track like a Segway (Go)\\nYeah, that way (Dat way)\\nI used to trap by the Subway (Trappin', trappin')\\nYeah, that way (Go)\\nYoung nigga trap with the AK (Rrah, uh)\\nYeah, that way (Yeah)\\nBig dyke ho, get the door, Macy Gray (Hey)\",\n",
       "  '',\n",
       "  '',\n",
       "  \"[Chorus: Offset & Lil Uzi Vert]\\nRaindrop (Drip), drop-top (Drop-top)\\nSmokin' on cookie in the hotbox (Cookie)\\n\\nFuckin' on your bitch, she a thot, thot (Thot)\\n\\nCookin' up dope in the crockpot (Pot)\\n\\nWe came from nothin' to somethin', nigga (Hey)\\n\\nI don't trust nobody, grip the trigger (Nobody)\\nCall up the gang and they come and get ya (Gang)\\nCry me a river, give you a tissue (Hey)\\n\\nMy bitch is bad and bougie (Bad)\\n\\nCookin' up dope with a Uzi (Blaow)\\nMy niggas is savage, ruthless (Savage)\\nWe got 30s and hundred-rounds too (Grrah)\\n\\nMy bitch is bad and bougie (Bad)\\n\\nCookin' up dope with a Uzi (Dope, huh?)\\nMy niggas is savage, ruthless (Hey, what?)\\nWe got 30s and hundred-rounds too (Glah, Lil Uzi)\\n\\n\\n[Verse 3: Lil Uzi Vert]\\nYeah, yeah, yeah, yeah, yeah, yeah (Yeah)\\n\\nMy bitch, she bad to the bone (She what?)\\nAyy, wait, these niggas watchin'\\nI swear to God they be my clones (They watchin')\\nYeah, hey, huh\\n\\nSwitchin' my hoes like my flows (What?)\\n\\nSwitchin' my flows like my clothes (Like what?)\\n\\nKeep on shootin' that gun, don't reload (Damn)\\nOoh, ooh, now she want fuck with my crew (My crew)\\n'Cause the money come all out the roof (Damn, damn)\\nDrive the 'Rari, that bitch got no roof (Skrrt)\\nWait, what kind of 'Rari? (Wait) 458 (Damn)\\n\\nAll of these niggas, they hate (They hate)\\nTry to hide, shoot through the gate (Wow)\\nLook, go to strip club, make it rain, yeah\\n\\nSo much money they use rakes (They use rakes)\\nCount a hundred thousand in your face (In your face)\\nYeah, then put 300 right in the safe (Yeah)\\nMet her today, yeah (Ooh)\\nShe talk to me like she knew me, yeah (Ooh)\\nGo to sleep in a jacuzzi, yeah (Yeah)\\nWakin' up right to a two-piece, yeah\\n\\nCountin' that paper like loose-leaf, yeah\\n\\nGettin' that chicken with blue cheese, yeah\\n\\nBoy, you so fake, like my collar, you snakin'\\nI swear to God that be that Gucci (Ayy)\\n\\nAnd you know we winnin' (Winnin')\\nYeah, we is not losin'\\nTry to play your song, it ain't move me (What?)\\nSaw your girl once, now she choosin', yeah (Hey!)\",\n",
       "  '',\n",
       "  '',\n",
       "  \"[Chorus: Offset & Lil Uzi Vert]\\nRaindrop (Drip), drop-top (Drop-top)\\nSmokin' on cookie in the hotbox (Cookie)\\n\\nFuckin' on your bitch, she a thot, thot (Thot, yeah)\\n\\nCookin' up dope in the crockpot (Pot)\\n\\nWe came from nothin' to somethin', nigga (Hey)\\n\\nI don't trust nobody, grip the trigger (Nobody, yeah)\\nCall up the gang and they come and get ya (Gang)\\nCry me a river, give you a tissue (Hey, Lil Uzi)\\n\\nMy bitch is bad and bougie (Bad, she bad)\\n\\nCookin' up dope with a Uzi (Blaow, cookin' up, cookin' up)\\nMy niggas is savage, ruthless (Savage, they savage)\\nWe got 30s and hundred-rounds too (Grrah)\\n\\nMy bitch is bad and bougie (Bad)\\n\\nCookin' up dope with a Uzi (Dope, what?)\\nMy niggas is savage, ruthless (Hey, yeah)\\nWe got 30s and hundred-rounds too (Lil Uzi)\",\n",
       "  '',\n",
       "  '591\\nEmbed'],\n",
       " 'release_date': []}"
      ]
     },
     "execution_count": 13,
     "metadata": {},
     "output_type": "execute_result"
    }
   ],
   "source": [
    "canciones"
   ]
  },
  {
   "attachments": {},
   "cell_type": "markdown",
   "metadata": {},
   "source": [
    "# Export"
   ]
  },
  {
   "cell_type": "code",
   "execution_count": null,
   "metadata": {},
   "outputs": [],
   "source": [
    "with open('../data/pickle/genius_dataset.pickle', 'wb') as data_spotify:\n",
    "    pickle.dump(tracks, data_spotify)"
   ]
  }
 ],
 "metadata": {
  "kernelspec": {
   "display_name": "iron",
   "language": "python",
   "name": "python3"
  },
  "language_info": {
   "codemirror_mode": {
    "name": "ipython",
    "version": 3
   },
   "file_extension": ".py",
   "mimetype": "text/x-python",
   "name": "python",
   "nbconvert_exporter": "python",
   "pygments_lexer": "ipython3",
   "version": "3.9.13"
  },
  "orig_nbformat": 4,
  "vscode": {
   "interpreter": {
    "hash": "e59d0b279e6461be5b4ea7b62838527cd8f41f3cbc9a1147b1a83b32d75ab689"
   }
  }
 },
 "nbformat": 4,
 "nbformat_minor": 2
}
