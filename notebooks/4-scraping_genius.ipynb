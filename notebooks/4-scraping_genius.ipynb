{
 "cells": [
  {
   "cell_type": "code",
   "execution_count": 1,
   "metadata": {},
   "outputs": [],
   "source": [
    "import requests\n",
    "import pandas as pd\n",
    "from time import sleep\n",
    "import numpy as np\n",
    "from tqdm import tqdm\n",
    "import os\n",
    "\n",
    "from selenium import webdriver\n",
    "from webdriver_manager.chrome import ChromeDriverManager\n",
    "from selenium.webdriver.common.keys import Keys\n",
    "from selenium.webdriver.chrome.options import Options\n",
    "import numpy as np\n",
    "from IPython.display import clear_output\n",
    "\n",
    "import warnings\n",
    "warnings.filterwarnings('ignore')"
   ]
  },
  {
   "cell_type": "code",
   "execution_count": 2,
   "metadata": {},
   "outputs": [],
   "source": [
    "import pickle\n",
    "from lyricsgenius import Genius"
   ]
  },
  {
   "cell_type": "code",
   "execution_count": 3,
   "id": "7f9dfb16",
   "metadata": {},
   "outputs": [],
   "source": [
    "import re\n",
    "from bs4 import BeautifulSoup\n",
    "from dotenv import load_dotenv"
   ]
  },
  {
   "attachments": {},
   "cell_type": "markdown",
   "metadata": {},
   "source": [
    "# Genius config"
   ]
  },
  {
   "cell_type": "code",
   "execution_count": 4,
   "metadata": {},
   "outputs": [
    {
     "data": {
      "text/plain": [
       "True"
      ]
     },
     "execution_count": 4,
     "metadata": {},
     "output_type": "execute_result"
    }
   ],
   "source": [
    "load_dotenv()"
   ]
  },
  {
   "cell_type": "code",
   "execution_count": 5,
   "metadata": {},
   "outputs": [],
   "source": [
    "token = os.getenv(\"genius-token\")\n",
    "genius = Genius(token)"
   ]
  },
  {
   "attachments": {},
   "cell_type": "markdown",
   "metadata": {},
   "source": [
    "# Importing pickle file"
   ]
  },
  {
   "cell_type": "code",
   "execution_count": 6,
   "metadata": {},
   "outputs": [],
   "source": [
    "with open('../data/pickle/dataset_viral150_unique.pickle', 'rb') as tracks:\n",
    "    tracks = pickle.load(tracks)"
   ]
  },
  {
   "cell_type": "code",
   "execution_count": 7,
   "metadata": {},
   "outputs": [
    {
     "data": {
      "text/html": [
       "<div>\n",
       "<style scoped>\n",
       "    .dataframe tbody tr th:only-of-type {\n",
       "        vertical-align: middle;\n",
       "    }\n",
       "\n",
       "    .dataframe tbody tr th {\n",
       "        vertical-align: top;\n",
       "    }\n",
       "\n",
       "    .dataframe thead th {\n",
       "        text-align: right;\n",
       "    }\n",
       "</style>\n",
       "<table border=\"1\" class=\"dataframe\">\n",
       "  <thead>\n",
       "    <tr style=\"text-align: right;\">\n",
       "      <th></th>\n",
       "      <th>url</th>\n",
       "      <th>artist_clean</th>\n",
       "      <th>track_clean</th>\n",
       "    </tr>\n",
       "  </thead>\n",
       "  <tbody>\n",
       "    <tr>\n",
       "      <th>8246</th>\n",
       "      <td>https://open.spotify.com/track/4Km5HrUvYTaSUfi...</td>\n",
       "      <td>migos</td>\n",
       "      <td>bad and boujee (feat. lil uzi vert)</td>\n",
       "    </tr>\n",
       "    <tr>\n",
       "      <th>8247</th>\n",
       "      <td>https://open.spotify.com/track/343YBumqHu19cGo...</td>\n",
       "      <td>drake</td>\n",
       "      <td>fake love</td>\n",
       "    </tr>\n",
       "    <tr>\n",
       "      <th>8248</th>\n",
       "      <td>https://open.spotify.com/track/5aAx2yezTd8zXrk...</td>\n",
       "      <td>the weeknd, daft punk</td>\n",
       "      <td>starboy</td>\n",
       "    </tr>\n",
       "    <tr>\n",
       "      <th>8249</th>\n",
       "      <td>https://open.spotify.com/track/7BKLCZ1jbUBVqRi...</td>\n",
       "      <td>the chainsmokers, halsey</td>\n",
       "      <td>closer</td>\n",
       "    </tr>\n",
       "    <tr>\n",
       "      <th>8250</th>\n",
       "      <td>https://open.spotify.com/track/6fujklziTHa8uoM...</td>\n",
       "      <td>rae sremmurd, gucci mane</td>\n",
       "      <td>black beatles</td>\n",
       "    </tr>\n",
       "  </tbody>\n",
       "</table>\n",
       "</div>"
      ],
      "text/plain": [
       "                                                    url  \\\n",
       "8246  https://open.spotify.com/track/4Km5HrUvYTaSUfi...   \n",
       "8247  https://open.spotify.com/track/343YBumqHu19cGo...   \n",
       "8248  https://open.spotify.com/track/5aAx2yezTd8zXrk...   \n",
       "8249  https://open.spotify.com/track/7BKLCZ1jbUBVqRi...   \n",
       "8250  https://open.spotify.com/track/6fujklziTHa8uoM...   \n",
       "\n",
       "                  artist_clean                          track_clean  \n",
       "8246                     migos  bad and boujee (feat. lil uzi vert)  \n",
       "8247                     drake                            fake love  \n",
       "8248     the weeknd, daft punk                              starboy  \n",
       "8249  the chainsmokers, halsey                               closer  \n",
       "8250  rae sremmurd, gucci mane                        black beatles  "
      ]
     },
     "execution_count": 7,
     "metadata": {},
     "output_type": "execute_result"
    }
   ],
   "source": [
    "tracks.head()"
   ]
  },
  {
   "cell_type": "code",
   "execution_count": 8,
   "metadata": {},
   "outputs": [
    {
     "data": {
      "text/html": [
       "<div>\n",
       "<style scoped>\n",
       "    .dataframe tbody tr th:only-of-type {\n",
       "        vertical-align: middle;\n",
       "    }\n",
       "\n",
       "    .dataframe tbody tr th {\n",
       "        vertical-align: top;\n",
       "    }\n",
       "\n",
       "    .dataframe thead th {\n",
       "        text-align: right;\n",
       "    }\n",
       "</style>\n",
       "<table border=\"1\" class=\"dataframe\">\n",
       "  <thead>\n",
       "    <tr style=\"text-align: right;\">\n",
       "      <th></th>\n",
       "      <th>index</th>\n",
       "      <th>url</th>\n",
       "      <th>artist</th>\n",
       "      <th>track</th>\n",
       "    </tr>\n",
       "  </thead>\n",
       "  <tbody>\n",
       "    <tr>\n",
       "      <th>0</th>\n",
       "      <td>8246</td>\n",
       "      <td>https://open.spotify.com/track/4Km5HrUvYTaSUfi...</td>\n",
       "      <td>migos</td>\n",
       "      <td>bad and boujee (feat. lil uzi vert)</td>\n",
       "    </tr>\n",
       "    <tr>\n",
       "      <th>1</th>\n",
       "      <td>8247</td>\n",
       "      <td>https://open.spotify.com/track/343YBumqHu19cGo...</td>\n",
       "      <td>drake</td>\n",
       "      <td>fake love</td>\n",
       "    </tr>\n",
       "    <tr>\n",
       "      <th>2</th>\n",
       "      <td>8248</td>\n",
       "      <td>https://open.spotify.com/track/5aAx2yezTd8zXrk...</td>\n",
       "      <td>the weeknd, daft punk</td>\n",
       "      <td>starboy</td>\n",
       "    </tr>\n",
       "    <tr>\n",
       "      <th>3</th>\n",
       "      <td>8249</td>\n",
       "      <td>https://open.spotify.com/track/7BKLCZ1jbUBVqRi...</td>\n",
       "      <td>the chainsmokers, halsey</td>\n",
       "      <td>closer</td>\n",
       "    </tr>\n",
       "    <tr>\n",
       "      <th>4</th>\n",
       "      <td>8250</td>\n",
       "      <td>https://open.spotify.com/track/6fujklziTHa8uoM...</td>\n",
       "      <td>rae sremmurd, gucci mane</td>\n",
       "      <td>black beatles</td>\n",
       "    </tr>\n",
       "  </tbody>\n",
       "</table>\n",
       "</div>"
      ],
      "text/plain": [
       "   index                                                url  \\\n",
       "0   8246  https://open.spotify.com/track/4Km5HrUvYTaSUfi...   \n",
       "1   8247  https://open.spotify.com/track/343YBumqHu19cGo...   \n",
       "2   8248  https://open.spotify.com/track/5aAx2yezTd8zXrk...   \n",
       "3   8249  https://open.spotify.com/track/7BKLCZ1jbUBVqRi...   \n",
       "4   8250  https://open.spotify.com/track/6fujklziTHa8uoM...   \n",
       "\n",
       "                     artist                                track  \n",
       "0                     migos  bad and boujee (feat. lil uzi vert)  \n",
       "1                     drake                            fake love  \n",
       "2     the weeknd, daft punk                              starboy  \n",
       "3  the chainsmokers, halsey                               closer  \n",
       "4  rae sremmurd, gucci mane                        black beatles  "
      ]
     },
     "execution_count": 8,
     "metadata": {},
     "output_type": "execute_result"
    }
   ],
   "source": [
    "tracks.rename(columns={'track_clean':'track','artist_clean':'artist'}, inplace=True)\n",
    "tracks.reset_index(inplace=True)\n",
    "tracks.head()"
   ]
  },
  {
   "attachments": {},
   "cell_type": "markdown",
   "metadata": {},
   "source": [
    "# Selenium"
   ]
  },
  {
   "attachments": {},
   "cell_type": "markdown",
   "metadata": {},
   "source": [
    "Configuro mi pestaña de selenium"
   ]
  },
  {
   "cell_type": "code",
   "execution_count": 9,
   "metadata": {},
   "outputs": [
    {
     "name": "stderr",
     "output_type": "stream",
     "text": [
      "[WDM] - Downloading: 100%|██████████| 6.79M/6.79M [00:00<00:00, 20.3MB/s]\n"
     ]
    }
   ],
   "source": [
    "driver = webdriver.Chrome(ChromeDriverManager().install())\n",
    "driver.get('https://chromedriver.chromium.org/downloads')"
   ]
  },
  {
   "attachments": {},
   "cell_type": "markdown",
   "metadata": {},
   "source": [
    "Voy a probar que me funcione la búsqueda de un elemento"
   ]
  },
  {
   "cell_type": "code",
   "execution_count": 10,
   "metadata": {},
   "outputs": [],
   "source": [
    "## iniciamos el web driver\n",
    "opciones= Options()\n",
    "opciones.add_argument(\"--start-maximized\")\n",
    "driver = webdriver.Chrome(ChromeDriverManager().install())\n",
    "driver.get('https://genius.com/')\n",
    "driver.maximize_window()\n",
    "driver.set_window_size(1920, 1080)\n",
    "## te metes dentro de la página y con inspeccionar, seleccionas el elemento de las cookies --> copy / selector\n",
    "##por si tu ordenador es un poco lento, le puedes poner un tiempo para que intente hacerlo\n",
    "driver.implicitly_wait(30)\n",
    "## si quieres tardar más, le pones un sleep\n",
    "## sleep(20)\n",
    "## acepto los cookies\n",
    "driver.find_element('css selector', '#onetrust-accept-btn-handler').click()\n",
    "sleep(1)\n",
    "## busco el nombre del actor que quiero buscar\n",
    "driver.find_element('css selector', '#application > div > div.PageHeaderdesktop__Container-bhx5ui-0.dmNhEr > div.PageHeaderdesktop__Left-bhx5ui-2.ctcvqz > form > input').send_keys('drake fake love', Keys.ENTER)\n",
    "sleep(1)\n",
    "driver.find_element('xpath', '/html/body/routable-page/ng-outlet/search-results-page/div/div[2]/div[1]/div[1]/search-result-section/div/div[2]/search-result-items/div/search-result-item/div/mini-song-card/a').click()\n",
    "driver.implicitly_wait(30)\n",
    "## extraigo la información de la letra de cada canción\n",
    "lyrics = driver.find_element('css selector', '#lyrics-root > div:nth-child(3)').text\n",
    "lyrics2 = driver.find_element('css selector', '#lyrics-root > div:nth-child(6)').text\n",
    "sleep(1)\n",
    "release_date = driver.find_element('css selector', '#application > main > div.SongPageGriddesktop-sc-1px5b71-0.jecoie.SongHeaderdesktop__Container-sc-1effuo1-0.fqavsD > div.SongHeaderdesktop__Column-sc-1effuo1-1.SongHeaderdesktop__Right-sc-1effuo1-4.ePANpp > div > div.HeaderMetadata__Grid-sc-1p42fnf-1.ePueMf > div:nth-child(2) > div').text\n",
    "#application > main > div.SongPageGriddesktop-sc-1px5b71-0.jecoie.SongHeaderdesktop__Container-sc-1effuo1-0.kEkpYM > div.SongHeaderdesktop__Column-sc-1effuo1-1.SongHeaderdesktop__Right-sc-1effuo1-4.ePANpp > div > div.HeaderMetadata__Grid-sc-1p42fnf-1.ePueMf > div:nth-child(3) > div"
   ]
  },
  {
   "attachments": {},
   "cell_type": "markdown",
   "metadata": {},
   "source": [
    "ESTOY TRABAJANDO AQUÍ\n",
    "Clicando el read more"
   ]
  },
  {
   "cell_type": "code",
   "execution_count": 11,
   "metadata": {},
   "outputs": [],
   "source": [
    "## iniciamos el web driver\n",
    "opciones= Options()\n",
    "opciones.add_argument(\"--start-maximized\")\n",
    "driver = webdriver.Chrome(ChromeDriverManager().install())\n",
    "driver.get('https://genius.com/')\n",
    "driver.maximize_window()\n",
    "driver.set_window_size(1920, 1080)\n",
    "## te metes dentro de la página y con inspeccionar, seleccionas el elemento de las cookies --> copy / selector\n",
    "##por si tu ordenador es un poco lento, le puedes poner un tiempo para que intente hacerlo\n",
    "driver.implicitly_wait(30)\n",
    "## si quieres tardar más, le pones un sleep\n",
    "## sleep(20)\n",
    "## acepto los cookies\n",
    "driver.find_element('css selector', '#onetrust-accept-btn-handler').click()\n",
    "sleep(1)\n",
    "## busco el nombre del actor que quiero buscar\n",
    "driver.find_element('css selector', '#application > div > div.PageHeaderdesktop__Container-bhx5ui-0.dmNhEr > div.PageHeaderdesktop__Left-bhx5ui-2.ctcvqz > form > input').send_keys('drake fake love', Keys.ENTER)\n",
    "sleep(1)\n",
    "driver.find_element('xpath', '/html/body/routable-page/ng-outlet/search-results-page/div/div[2]/div[1]/div[1]/search-result-section/div/div[2]/search-result-items/div/search-result-item/div/mini-song-card/a').click()\n",
    "driver.implicitly_wait(30)\n",
    "## clico el all credits\n",
    "driver.find_element('css selector', '#application > main > div.SongPageGriddesktop-sc-1px5b71-0.jecoie.SongHeaderdesktop__Container-sc-1effuo1-0.fqavsD > div.SongHeaderdesktop__Column-sc-1effuo1-1.SongHeaderdesktop__Right-sc-1effuo1-4.ePANpp > div > div.HeaderMetadata__Grid-sc-1p42fnf-1.ePueMf > div.HeaderMetadata__Section-sc-1p42fnf-2.glevmK > div > a').click()\n",
    "sleep(1)"
   ]
  },
  {
   "attachments": {},
   "cell_type": "markdown",
   "metadata": {},
   "source": [
    "CONTINUO AQUÍ CON B4S"
   ]
  },
  {
   "cell_type": "code",
   "execution_count": 12,
   "metadata": {},
   "outputs": [],
   "source": [
    "## iniciamos el web driver\n",
    "opciones= Options()\n",
    "opciones.add_argument(\"--start-maximized\")\n",
    "driver = webdriver.Chrome(ChromeDriverManager().install())\n",
    "driver.get('https://genius.com/')\n",
    "driver.maximize_window()\n",
    "driver.set_window_size(1920, 1080)\n",
    "## te metes dentro de la página y con inspeccionar, seleccionas el elemento de las cookies --> copy / selector\n",
    "##por si tu ordenador es un poco lento, le puedes poner un tiempo para que intente hacerlo\n",
    "driver.implicitly_wait(30)\n",
    "## si quieres tardar más, le pones un sleep\n",
    "## sleep(20)\n",
    "## acepto los cookies\n",
    "driver.find_element('css selector', '#onetrust-accept-btn-handler').click()\n",
    "sleep(1)\n",
    "## busco el nombre del actor que quiero buscar\n",
    "driver.find_element('css selector', '#application > div > div.PageHeaderdesktop__Container-bhx5ui-0.dmNhEr > div.PageHeaderdesktop__Left-bhx5ui-2.ctcvqz > form > input').send_keys('drake fake love', Keys.ENTER)\n",
    "sleep(1)\n",
    "driver.find_element('xpath', '/html/body/routable-page/ng-outlet/search-results-page/div/div[2]/div[1]/div[1]/search-result-section/div/div[2]/search-result-items/div/search-result-item/div/mini-song-card/a').click()\n",
    "driver.implicitly_wait(30)\n",
    "## clico el all credits\n",
    "driver.find_element('css selector', '#application > main > div.SongPageGriddesktop-sc-1px5b71-0.jecoie.SongHeaderdesktop__Container-sc-1effuo1-0.fqavsD > div.SongHeaderdesktop__Column-sc-1effuo1-1.SongHeaderdesktop__Right-sc-1effuo1-4.ePANpp > div > div.HeaderMetadata__Grid-sc-1p42fnf-1.ePueMf > div.HeaderMetadata__Section-sc-1p42fnf-2.glevmK > div > a').click()\n",
    "sleep(1)\n",
    "page_source = driver.page_source\n",
    "url = driver.current_url\n",
    "res = requests.get(url + '#song-info')\n",
    "soup = BeautifulSoup(res.content, 'html.parser')\n",
    "pagina = soup.text"
   ]
  },
  {
   "cell_type": "code",
   "execution_count": 13,
   "metadata": {},
   "outputs": [
    {
     "data": {
      "text/plain": [
       "'\\n\\n\\nDrake – Fake Love Lyrics | Genius Lyrics\\n\\n\\n\\n\\n\\n\\n\\n\\n\\n\\n\\n\\n\\n\\n\\n\\n\\n\\n\\n\\n\\n\\n\\n\\n\\n\\n\\n\\n\\n\\n\\n\\n\\n\\n\\n\\n\\n\\n\\n\\n\\n\\n\\n\\n\\n\\n\\n\\n\\n\\n\\n\\n\\n\\n\\n\\n\\n\\n\\n\\n\\nFeaturedChartsVideosPromote Your MusicSign UpFake LoveDrakeTrack 20 on\\xa0More Life\\xa0“Fake Love” finds Drake criticizing friends and associates who only show him love because of his incredible success. He identifies their false emotions and explains how he… Read More\\xa0Produced byVinylz & GingRelease DateOctober 23, 2016View All Credits\\xa033.8M217193TranslationsEspañolFake Love Lyrics[Chorus]I\\'ve been down so long, it look like up to meThey look up to meI got fake people showin\\' fake love to meStraight up to my face, straight up to my faceI\\'ve been down so long, it look like up to meThey look up to meI got fake people showin\\' fake love to meStraight up to my face, straight up to my face[Verse 1]Somethin\\' ain\\'t right when we talkin\\'Somethin\\' ain\\'t right when we talkin\\'Look like you hidin\\' your problemsReally you never was solidNo, you can\\'t \"son\" meYou won\\'t never get to run meJust when shit look out of reachI reach back like one, threeLike one, three, yeah[Pre-Chorus]That\\'s when they smile in my faceWhole time they wanna take my placeWhole time they wanna take my placeWhole time they wanna take my placeYeah, I know they wanna take my placeI can tell that love is fakeI don\\'t trust a word you sayHow you wanna clique up after your mistakes?Look you in the face, and it\\'s just not the same[Chorus]I\\'ve been down so long, it look like up to meThey look up to meI got fake people showin\\' fake love to meStraight up to my face, straight up to my faceI\\'ve been down so long, it look like up to meThey look up to meI got fake people showin\\' fake love to meStraight up to my face, straight up to my face[Verse 2]Yeah, straight up to my face, tryna play it safeVibe switch like night and dayI can see it, like, right awayI came up, you changed upI caught that whole playSince, things never been the sameYou might also like[Pre-Chorus]That\\'s when they smile in my faceWhole time they wanna take my placeWhole time they wanna take my placeWhole time they wanna take my placeYeah, I know they wanna take my placeI can tell that love is fake (I can tell that love is fake)I don\\'t trust a word you say (I don\\'t trust a word)How you wanna clique up after your mistakes?(That\\'s just what I heard)Look you in the face, and it\\'s just not the same[Chorus]I\\'ve been down so long, it look like up to meThey look up to meI got fake people showin\\' fake love to meStraight up to my face, straight up to my faceI\\'ve been down so long, it look like up to meThey look up to meI got fake people showin\\' fake love to meStraight up to my face, straight up to my face[Outro]SkrrtAnd more chune for your headtopSo watch how you speak on my name, you know?193EmbedCancelHow to Format Lyrics:Type out all lyrics, even repeating song parts like the chorusLyrics should be broken down into individual linesUse section headers above different song parts like [Verse], [Chorus], etc.Use italics (<i>lyric</i>) and bold (<b>lyric</b>) to distinguish between different vocalists in the same song partIf you don’t understand a lyric, use [?]To learn more, check out our transcription guide or visit our transcribers forumAboutGenius Annotation6 contributors“Fake Love” finds Drake criticizing friends and associates who only show him love because of his incredible success. He identifies their false emotions and explains how he deals with them. The song was released during Drake’s birthday episode of OVO Sound Radio.Expand +45922ShareAsk us a question about this songAsk a question *\\u200cWho is pictured on the album art?Genius Answer3 contributorsDrake’s father, Dennis Graham.\\nWhere can I listen to \"Fake Love\"?Genius Answer4 contributorsThe song is available for purchase on iTunes, and can be streamed on Apple Music, Tidal, and Spotify.Does Drake often employ a dancehall sound in his music?Genius Answer2 contributorsOn Views, Drake proved he was inspired by the dancehall vibe—songs like “Controlla,” “One Dance,” “With You,” and “Too Good” drew inspiration from the island-themed sound.TranslationsMore Life (2017)Drake1. Free Smoke2. No Long Talk3. Passionfruit4. Jorja Interlude5. Get It Together6. Madiba Riddim7. Blem8. 44229. Gyalchester10. Skepta Interlude11. Portland12. Sacrifices13. Nothings Into Somethings14. Teenage Fever15. KMT16. Lose You17. Can’t Have Everything18. Glow19. Since Way Back20. Fake Love21. Ice Melts22. Do Not DisturbMore Life [Note]CreditsProduced ByVinylz & GingWritten ByJohn Whitehead, Gene McFadden, Leon Huff, Starrah, Ging, Vinylz & DrakeLicensing\\u200bpeermusic, LatinAutor, LatinAutorPerf, UMPG / We Publish Music, PEDL, UBEM, MINT_BMG, ARESA, Forward Music Publishing, LatinAutor - SonyATV, Sony Music Entertainment, CMRRA, BMI, LatinAutor - Warner Chappell, Global Music Rights, SOLAR Music Rights Management, Pulse Music Group, Warner/Chappell, ASCAP, Universal Recordings, Young Money, Cash Money Records & Universal Music GroupDistributorUniversal Music GroupCopyright ©Young Money & Cash Money RecordsPhonographic Copyright ℗Young Money & Cash Money RecordsPublisherSOLAR Music Rights Management, PEDL, UBEM, CMRRA, Universal Music Group, LatinAutor, Concord Music Group, Sony Music Entertainment, New World Music, Warner Music Group, Warner/Chappell, Sandra Gale, Casablanca Media Publishing, EMI April Music, Vinylz Music Group, Pulse Music Group, Sony/ATV Tunes, Shay Noelle Publishing, People Over Planes, Nyan King Music, EMI Music Publishing Group, Warner-Tamerlane Publishing Corp. & Mijac MusicPerformance RightsBMI, ASCAP & SOCANLabelRepublic Records, OVO Sound, Young Money & Cash Money RecordsPremiereBeats 1 & OVO Sound RadioRelease DateOctober 23, 2016Fake Love SamplesPony by\\xa0GinuwineSongs That Sample Fake LoveFak3 Lov3 by\\xa0Aw3som3\\xa0Alv1n, Fake Love (E-Mix) by\\xa0Eric\\xa0Bellinger, 21 Salute by\\xa0Hafto, Fake Love (Remix) by\\xa0JLatrel\\xa0 Yahmir & No Fake by\\xa0SkemeFake Love InterpolationsBack Stabbers by\\xa0The\\xa0O\\'JaysSongs That Interpolate Fake LoveFake Love by\\xa0Carstens, Say So (Payroll) by\\xa0Big\\xa0Ant Dog & Better Positions by\\xa0OctavianFake Love CoversFake Love by\\xa0KIDZ\\xa0BOP Kids, FAKE LUV REMIX by\\xa0Renzilla (Ft.\\xa0Malik\\xa0McPherson & Malik\\xa0McPherson), Paper Planes - triple j Like A Version by\\xa0SLUMBERJACK (Ft.\\xa0K.Flay), Fake Love by\\xa0Capsize, Fake Love x Sneakin\\' by\\xa0Normani, Fake Love (Drake Cover) by\\xa0Wonder\\xa0the Boy & Fake Love x Broccoli x Caroline Mashup by\\xa0William\\xa0Singe & Alex AionoFake Love RemixesFake Love by\\xa0Dre\\xa0Rich Kidd, Fake Love (Remix) by\\xa0DaBaby, FAKE LUV REMIX by\\xa0Renzilla (Ft.\\xa0Malik\\xa0McPherson & Malik\\xa0McPherson), A me mi by\\xa0Gemitaiz (Ft.\\xa0Achille\\xa0Lauro), Fake Love by\\xa0Dan\\xa0Lee, Patience (Freestyle) by\\xa0RAY\\xa0BLK, Fake Love (Acoustic) by\\xa0Shawn\\xa0Mendes, Fake Love (Remix) by\\xa0Avery\\xa0Wilson & Fake Love by\\xa0Mila\\xa0JFake Love TranslationsDrake - Fake Love (Traducción al Español) by\\xa0Genius\\xa0Traducciones al EspañolView Fake Love samplesTagsR&BRapAlternative R&BTrapCanadaExpand CommentsSign Up And Drop Knowledge 🤓Genius is the ultimate source of music knowledge, created by scholars like you who share facts and insight about the songs and artists they love.Sign UpGenius is the world’s biggest collection of song lyrics and musical knowledgeAbout GeniusContributor GuidelinesPressShopAdvertisePrivacy PolicyPrivacy PreferencesLicensingJobsDevelopersCopyright PolicyContact UsSign InDo Not Sell My Personal Information© 2023 ML Genius Holdings, LLCTerms of UseVerified ArtistsAll Artists:abcdefghijklmnopqrstuvwxyz#Hot Songs:CALL ME CRAZYA Letter to Everyone Who’s Hurt MeJohn Cena - Bing Chilling (Romanized)Shakira: Bzrp Music Sessions, Vol. 53Sie weißView All\\n\\n\\n\\n\\n\\n\\n\\n\\n\\n\\n\\n\\n\\n\\n\\n\\n\\n\\n\\n'"
      ]
     },
     "execution_count": 13,
     "metadata": {},
     "output_type": "execute_result"
    }
   ],
   "source": [
    "pagina"
   ]
  },
  {
   "cell_type": "code",
   "execution_count": 14,
   "metadata": {},
   "outputs": [
    {
     "data": {
      "text/plain": [
       "'October 23, 2016'"
      ]
     },
     "execution_count": 14,
     "metadata": {},
     "output_type": "execute_result"
    }
   ],
   "source": [
    "release_date"
   ]
  },
  {
   "cell_type": "code",
   "execution_count": null,
   "metadata": {},
   "outputs": [],
   "source": [
    "canciones = {\n",
    "    'lyrics': [],\n",
    "    'release_date': []\n",
    "}"
   ]
  },
  {
   "cell_type": "code",
   "execution_count": null,
   "metadata": {},
   "outputs": [],
   "source": [
    "for index, row in tracks.iterrows():\n",
    "    print(row['artist'].split(',')[0],'---', row['track'])\n",
    "    ## iniciamos el web driver\n",
    "    opciones= Options()\n",
    "    opciones.add_argument(\"--start-maximized\")\n",
    "    driver = webdriver.Chrome(ChromeDriverManager().install())\n",
    "    driver.get('https://genius.com/')\n",
    "    driver.maximize_window()\n",
    "    driver.set_window_size(1920, 1080)\n",
    "    ## te metes dentro de la página y con inspeccionar, seleccionas el elemento de las cookies --> copy / selector\n",
    "    ##por si tu ordenador es un poco lento, le puedes poner un tiempo para que intente hacerlo\n",
    "    driver.implicitly_wait(30)\n",
    "    ## si quieres tardar más, le pones un sleep\n",
    "    ## sleep(20)\n",
    "    ## acepto los cookies\n",
    "    driver.find_element('css selector', '#onetrust-accept-btn-handler').click()\n",
    "    sleep(1)\n",
    "    ## busco el nombre del actor que quiero buscar\n",
    "    driver.find_element('css selector', '#application > div > div.PageHeaderdesktop__Container-bhx5ui-0.dmNhEr > div.PageHeaderdesktop__Left-bhx5ui-2.ctcvqz > form > input').send_keys(row['artist'].split(',')[0] + ' ' + row['track'], Keys.ENTER)\n",
    "    sleep(1)\n",
    "    driver.find_element('xpath', '/html/body/routable-page/ng-outlet/search-results-page/div/div[2]/div[1]/div[1]/search-result-section/div/div[2]/search-result-items/div/search-result-item/div/mini-song-card/a').click()\n",
    "    driver.implicitly_wait(30)\n",
    "    ## extraigo la información de la letra de cada canción\n",
    "    all_lyrics = ''\n",
    "    for item in range(1,15):\n",
    "        try:\n",
    "            lyrics = driver.find_element('css selector', f'#lyrics-root > div:nth-child({item})').text\n",
    "            if len(lyrics) > 12:\n",
    "                all_lyrics += lyrics\n",
    "            else:\n",
    "                continue\n",
    "        except:\n",
    "            continue\n",
    "    canciones['lyrics'].append(all_lyrics)\n",
    "    sleep(1)\n",
    "    try:\n",
    "        release_date = driver.find_element('xpath', '//*[@id=\"application\"]/main/div[1]/div[3]/div[1]/div[2]/div/div[1]/span[1]/span').text\n",
    "    except:\n",
    "        release_date = driver.find_element('xpath', '//*[@id=\"application\"]/main/div[1]/div[4]/div/div[1]/div[3]/div').text\n",
    "    canciones['release_date'].append(release_date)"
   ]
  },
  {
   "cell_type": "code",
   "execution_count": null,
   "metadata": {},
   "outputs": [],
   "source": [
    "canciones"
   ]
  },
  {
   "attachments": {},
   "cell_type": "markdown",
   "metadata": {},
   "source": [
    "# Beautiful Soup\n",
    "Prueba"
   ]
  },
  {
   "cell_type": "code",
   "execution_count": 18,
   "metadata": {},
   "outputs": [],
   "source": [
    "canciones = {\n",
    "    'lyrics': [],\n",
    "    'release_date': []\n",
    "}"
   ]
  },
  {
   "cell_type": "code",
   "execution_count": 49,
   "metadata": {},
   "outputs": [],
   "source": [
    "url = 'https://genius.com/Drake-one-dance-lyrics#song-info'"
   ]
  },
  {
   "cell_type": "code",
   "execution_count": 50,
   "metadata": {},
   "outputs": [
    {
     "data": {
      "text/plain": [
       "<Response [200]>"
      ]
     },
     "execution_count": 50,
     "metadata": {},
     "output_type": "execute_result"
    }
   ],
   "source": [
    "res = requests.get(url)\n",
    "res ## tiene que dar 200 "
   ]
  },
  {
   "cell_type": "code",
   "execution_count": 51,
   "metadata": {},
   "outputs": [
    {
     "data": {
      "text/plain": [
       "bytes"
      ]
     },
     "execution_count": 51,
     "metadata": {},
     "output_type": "execute_result"
    }
   ],
   "source": [
    "type(res.content) ## para consultarel html de la página"
   ]
  },
  {
   "cell_type": "code",
   "execution_count": 52,
   "metadata": {},
   "outputs": [
    {
     "data": {
      "text/plain": [
       "bs4.BeautifulSoup"
      ]
     },
     "execution_count": 52,
     "metadata": {},
     "output_type": "execute_result"
    }
   ],
   "source": [
    "sopa = BeautifulSoup(res.content, 'html.parser')\n",
    "type(sopa) ## es más amigable, pero sigue siendo html"
   ]
  },
  {
   "attachments": {},
   "cell_type": "markdown",
   "metadata": {},
   "source": [
    "Datos canciones"
   ]
  },
  {
   "cell_type": "code",
   "execution_count": 23,
   "metadata": {},
   "outputs": [
    {
     "data": {
      "text/plain": [
       "'April 5, 2016'"
      ]
     },
     "execution_count": 23,
     "metadata": {},
     "output_type": "execute_result"
    }
   ],
   "source": [
    "pagina = sopa.text\n",
    "re.findall(r'Date(\\w+ \\d+, \\d+)', pagina)[0]"
   ]
  },
  {
   "cell_type": "code",
   "execution_count": 53,
   "metadata": {},
   "outputs": [
    {
     "data": {
      "text/plain": [
       "'\\n\\n\\nDrake – One Dance Lyrics | Genius Lyrics\\n\\n\\n\\n\\n\\n\\n\\n\\n\\n\\n\\n\\n\\n\\n\\n\\n\\n\\n\\n\\n\\n\\n\\n\\n\\n\\n\\n\\n\\n\\n\\n\\n\\n\\n\\n\\n\\n\\n\\n\\n\\n\\n\\n\\n\\n\\n\\n\\n\\n\\n\\n\\n\\n\\n\\n\\n\\n\\n\\n\\n\\nFeaturedChartsVideosPromote Your MusicSign UpOne DanceDrakeTrack 12 on\\xa0Views\\xa0“One Dance” is an R&B song with dancehall and Afrobeats inflections, featuring a slowed down sample of the vocals and chord stabs from a 2008 UK Funky house anthem, Kyla’s… Read More\\xa0FeaturingKyla & WizkidProduced byDJ Maphorisa, 40 & 2 moreRelease DateApril 5, 2016View All Credits\\xa016.1M290233TranslationsTürkçeEspañolEnglishDeutschFrançaisOne Dance Lyrics[Refrain: Kyla]Baby, I like your style[Verse 1: Drake]Grips on your waist, front way, back wayYou know that I don\\'t playStreets not safe but I never run awayEven when I\\'m awayOti, otiThere\\'s never much love when we go OTI pray to make it back in one pieceI pray, I pray[Chorus: Drake]That\\'s why I need a one danceGot a Hennessy in my handOne more time \\'fore I goHigher powers taking a hold on meI need a one danceGot a Hennessy in my handOne more time \\'fore I goHigher powers taking a hold on me[Refrain: Kyla]Baby, I like your style[Verse 2: Drake]Strength and guidanceAll that I\\'m wishing for my friendsNobody makes it from my endsI had to bust up the silenceYou know you gotta stick by meSoon as you see the text, reply meI don\\'t wanna spend time fightingWe\\'ve got no time, and that\\'s why[Chorus: Drake]I need a one danceGot a Hennessy in my handOne more time \\'fore I goHigher powers taking a hold on meI need a one danceGot a Hennessy in my handOne more time \\'fore I goHigher powers taking a hold on meYou might also like[Post-Chorus: Wizkid]Got a pretty girl and she love me long timeWine it, wine it, she love me long timeOh, yeah, very long timeBack up, back up, back up, and wine amBack up, back up, and wine am, girl, justBack up, back up, back up, and wine amOh, yeah, very long timeBack, up, back up and wine am, girl[Bridge: Kyla]Oh, tell me, I need to knowWhere do you wanna go?\\'Cause if you\\'re down, I\\'ll take it slowMake you lose control[Breakdown: Kyla & Wizkid]Where, where, whereWhere, where, where, where (Oh, yeah, very long time)Where, where, where (Back up, back up, and wine am, girl)Where, where, where, where\\'Cause if you\\'re down (Back up, back up, and–)\\'Cause if you\\'re down (Back up, back up, and–)\\'Cause if you\\'re down (Back up, back up, and–)[Chorus: Drake & Kyla]I need a one dance (Where, where, where)Got a Hennessy in my hand (Where, where, where, where)One more time \\'fore I go (Where)Higher powers taking a hold on me (Where, where, where, where)I need a one danceGot a Hennessy in my handOne more time \\'fore I goHigher powers taking a hold on me[Outro]How do you spell \"Hennessy?\"I put two \"N\"s and two \"S\"es, is it like that? Hen... Henn... Henn...It\\'s definitely not showing upI know \"Hennessy\" has two \"S\"es for sure, so I\\'m gonna take out one of the \"N\"s233EmbedCancelHow to Format Lyrics:Type out all lyrics, even repeating song parts like the chorusLyrics should be broken down into individual linesUse section headers above different song parts like [Verse], [Chorus], etc.Use italics (<i>lyric</i>) and bold (<b>lyric</b>) to distinguish between different vocalists in the same song partIf you don’t understand a lyric, use [?]To learn more, check out our transcription guide or visit our transcribers forumAboutGenius Annotation12 contributors“One Dance” is an R&B song with dancehall and Afrobeats inflections, featuring a slowed down sample of the vocals and chord stabs from a 2008 UK Funky house anthem, Kyla’s “Do You Mind,” produced by Crazy Cousinz.\\n“One Dance” also features Nigerian singer Wizkid—he and Drake teamed up in 2015 to remix his track “Ojuelegba.”\\nSpotify released their list of most-streamed songs of summer 2016—“One Dance” took the number one spot on the US and Global charts. On October 17, 2016, “One Dance” became the number one streamed song in the streaming service’s history.Expand +50013ShareAsk us a question about this songAsk a question *\\u200cTranslationsGenius Answer4 contributors\\nFrench Translation\\nGerman Translation\\nPolish Translation\\nSpanish Translation\\nTurkish Translation\\nWhat have the artists said about this song?Verified CommentaryKylavia PitchforkGenius Answer1 contributorThey got my track, cut the bits out that they wanted, and just made a song out of it. They explained to me that two tunes [from Views] had been leaked, so they weren’t going to send the song over to me. They played a little snippet of it over the phone. They were very much like, “Let’s run with this version, there’s no time for recording it or anything like that. We’re getting hacked left, right, and center.”\\nI thought it was going to be a good few weeks before it dropped, but I saw it in the paper on Monday, and Tuesday it was out. It was really crazy, really quick.Was \"One Dance\" Drake\\'s first #1 song?Genius Answer4 contributorsYes, on May 21, 2016, “One Dance” became Drake’s first #1 single on the Billboard charts.\\nHe had been featured on two #1 singles prior to “One Dance,” but they were both under Rihanna’s name: “What’s My Name?” and “Work.”\\nHe had reached #2 twice as a solo artist prior “Once Dance,” with “Best I Ever Had” and “Hotline Bling.”What does \"oti\" mean?What are the inspirations for this song?Who is WizKid?What did Nineteen85 have to say about this song?What does \"Hennessy in my hand\" mean?What does OT mean?Are Wiz Kid and Drake friends?Has this track received any certifications?What higher powers are Drake referring to?Why isn\\'t one dance on YouTube?What else has Kyla said about the song ?Is there a live performance of this song?Views (2016)Drake1. Keep the Family Close2. 93. U With Me?4. Feel No Ways5. Hype6. Weston Road Flows7. Redemption8. With You9. Faithful10. Still Here11. Controlla12. One Dance13. Grammys14. Child’s Play15. Pop Style16. Too Good17. Summers Over Interlude18. Fire & Desire19. Views20. Hotline BlingExpand CreditsFeaturingKyla & WizkidProduced ByDJ Maphorisa, 40, Wizkid & Nineteen85Written ByDrake, 40, Wizkid, Kyla, Nineteen85, Logan Sama, China Black, DJ Maphorisa & Crazy CousinzLabelOVO Sound, Young Money, Cash Money Records & Republic RecordsLicensingUMPG / We Publish Music, Kobalt Music, ARESA, BMG, Forward Music Publishing, LatinAutorPerf, Sentric Music, LatinAutor - PeerMusic, Adorando Brazil, LatinAutor - UMPG, UBEM, Sony Music Entertainment, AMRA BR, CMRRA, Global Music Rights, MINT_BMG, ASCAP, SOLAR Music Rights Management, BMI, AMRA, LatinAutor - SonyATV, Ultra Music, Universal Recordings, Young Money, Cash Money Records & Universal Music GroupDistributorUniversal Music GroupCopyright ©Young Money & Cash Money RecordsPhonographic Copyright ℗Young Money & Cash Money RecordsCo-Producer40, DJ Maphorisa & WizkidPerformance RightsPRS & SOCANPublisherSandra Gale, Mavor and Moses Publishing, Forward Music Publishing, Global Music Rights, \\u200bpeermusic, LatinAutor, Ultra Music, Universal Music Group, Flukes Music, Digital Music & Media Publishing, Kobalt Music, BMG, EMI Pop Music Publishing, EMI April Music, Roncesvalles Music Publishing, Nyan King Music, EMI Music Publishing Group, Sentric Music, Sony Music Entertainment, EMI Blackwood Music, BMG Platinum Songs & Ultra EmpireAssistant Mixing Engineer40 & Ryan “Scotian Potion” DalyDAW Systems EngineerLes Bateman & Lindsay WarnnerAssistant Recording EngineerGregg Moffett & Harley ArsenaultAdditional InstrumentationNineteen85Assistant Mastering EngineerDave HuffmanMastering EngineerChris AthensMixing EngineerNoel “Gadget” CampbellRecording Engineer40PremiereOVO Sound Radio & Beats 1Recorded AtS.O.T.A. Studios, Toronto, ONRelease DateApril 5, 2016One Dance SamplesDo You Mind by\\xa0KylaSongs That Sample One DanceDon\\'t Compare by\\xa0NAV, Da Outside by\\xa0Big\\xa0Baller B, Currents by\\xa0Drake, Do You Mind* by\\xa0Bad\\xa0Gyal, 2000-2019 mashup | 200 songs from the last 20 years by\\xa0YamiNoBahamut, No Lies by\\xa0KihLah, Im Rhythmus gefangen by\\xa0CAPO, ¿Qué me hicistes? - One Dance Woodz Version by\\xa0Miky\\xa0Woodz, Baila Baila Baila by\\xa0Ozuna & One Dance (Remix) by\\xa0Devvon\\xa0TerrellSongs That Interpolate One DanceHello Mate by\\xa0ArrDee (Ft.\\xa0Kyla), One dance by\\xa0Joé\\xa0Dwèt Filé, \\u200bstay inside remix by\\xa0BETWEEN\\xa0FRIENDS, The Cold Room - S1-E12 by\\xa0Mixtape\\xa0Madness, Tweeko, Yanko & Joints, You Know That I Don\\'t Play by\\xa0Itssvd, GASHADOKURO by\\xa0CRONA\\xa0(DigitalHearts), One Dance Remix by\\xa0KLY\\xa0(SA), Sex with Me by\\xa0Bright\\xa0Campa, J-Pro vs. Bill Collector by\\xa0King\\xa0of the Dot (Ft.\\xa0Bill\\xa0Collector & J-Pro), Stephanie by\\xa0Nick\\xa0Carter Green, Summer 2016 by\\xa0L.E.J & Please Forgive Me by\\xa0DrakeOne Dance CoversOne Dance by\\xa0Shiloh\\xa0Dynasty, One Dance (Drake Cover) by\\xa0Emie, One Dance by\\xa0Vitamin\\xa0String Quartet, I Wanna (One Dance) With Somebody by\\xa0Chris\\xa0Mann, One Dance (Remake) by\\xa0Dontmesswithjuan (Ft.\\xa0Francya), 2016 Mashup by\\xa0Kurt\\xa0Hugo Schneider & Sam Tsui, One Dance by\\xa0Leahy\\xa0& Mac (Ft.\\xa0Chrissy\\xa0Spratt), One Dance by\\xa0Sara\\xa0Farell, One Dance by\\xa0Emma\\xa0Heesters, Closer by\\xa0Tiffany\\xa0Alvord, One Dance by\\xa0Conor\\xa0Maynard (Ft.\\xa0Harper), Bruno Mars - 24K Magic (SING OFF) by\\xa0Conor\\xa0Maynard & Alex Aiono, One Dance by\\xa0Bars\\xa0and Melody, One Dance by\\xa0Alyxx\\xa0Dione, One Dance by\\xa0Boyce\\xa0Avenue, One Dance by\\xa0KIDZ\\xa0BOP Kids, One Dance by\\xa0ROMES, One Dance (Drake Cover) by\\xa0Arianna\\xa0Afsar & One Dance / Hasta El Amanecer (Mashup) by\\xa0Alex\\xa0AionoOne Dance RemixesUnited State of Pop 2016 (Into Pieces) by\\xa0DJ\\xa0Earworm, Decade of Pop: The 2010s (100 Song Mashup) by\\xa0DJ\\xa0Earworm, Plan B by\\xa0Eladio\\xa0Carrión, One Dancehall by\\xa0LeMagic,\\xa0Keko Music & Ozuna (Ft.\\xa0Ñengo\\xa0Flow & Zion\\xa0& Lennox), SummerMash \\'16 by\\xa0DJ\\xa0Earworm, Bullet by\\xa0Gifta (Ft.\\xa0Kalash), Smile by\\xa0Laruzo (Ft.\\xa0Moe\\xa0Phoenix), One Dance (Remix) by\\xa0Lil\\xa0Nibba, Nightlife by\\xa0Sickick, One Dance (Remix) by\\xa0Trabass (Ft.\\xa0Khxos), One Dance (Minecraft Parody) by\\xa0Galaxy\\xa0Goats, Bust up the silence by\\xa0Yung\\xa0Soft, Never Had Crisp by\\xa0Bri\\xa0Crisp & The Sargent, One Dance (Aryay Remix) by\\xa0Aryay, One Dance (Dub) by\\xa0Drake (Ft.\\xa0Kyla & Wizkid), One Dance (Remix) by\\xa0Jadakiss\\xa0& Nino Man & One Dance (Remix) by\\xa0Justin\\xa0Bieber (Ft.\\xa0Kyla)One Dance TranslationsDrake - One Dance ft. Wizkid & Kyla (Türkçe Çeviri) by\\xa0Genius\\xa0Türkçe Çeviri, Drake - One Dance (Traducción al Español) by\\xa0Genius\\xa0Traducciones al Español, Drake - One Dance (Polskie Tłumaczenie) by\\xa0Polskie\\xa0tłumaczenia Genius, Drake - One Dance (feat. Kyla & Wizkid) (Deutsche Übersetzung) by\\xa0Genius\\xa0Deutsche Übersetzungen & Drake - One Dance (Traduction Française) by\\xa0Genius\\xa0Traductions FrançaisesView One Dance samplesTagsPopR&BContemporary R&BPop-R&BNigeriaAfrobeatsDancehallCanadaExpand CommentsSign Up And Drop Knowledge 🤓Genius is the ultimate source of music knowledge, created by scholars like you who share facts and insight about the songs and artists they love.Sign UpGenius is the world’s biggest collection of song lyrics and musical knowledgeAbout GeniusContributor GuidelinesPressShopAdvertisePrivacy PolicyPrivacy PreferencesLicensingJobsDevelopersCopyright PolicyContact UsSign InDo Not Sell My Personal Information© 2023 ML Genius Holdings, LLCTerms of UseVerified ArtistsAll Artists:abcdefghijklmnopqrstuvwxyz#Hot Songs:Kill Bill藤井風 (Fujii Kaze) - 死ぬのがいいわ (Shinunoga E-Wa) (Romanized)Viva la Vida米津玄師 (Kenshi Yonezu) - KICK BACK (Romanized)Shakira: Bzrp Music Sessions, Vol. 53View All\\n\\n\\n\\n\\n\\n\\n\\n\\n\\n\\n\\n\\n\\n\\n\\n\\n\\n\\n\\n'"
      ]
     },
     "execution_count": 53,
     "metadata": {},
     "output_type": "execute_result"
    }
   ],
   "source": [
    "pagina"
   ]
  },
  {
   "attachments": {},
   "cell_type": "markdown",
   "metadata": {},
   "source": [
    "# Beautiful soup + selenium"
   ]
  },
  {
   "cell_type": "code",
   "execution_count": 11,
   "metadata": {},
   "outputs": [],
   "source": [
    "canciones = {\n",
    "    'lyrics': [],\n",
    "    'release_date': []\n",
    "}"
   ]
  },
  {
   "cell_type": "code",
   "execution_count": 12,
   "metadata": {},
   "outputs": [
    {
     "name": "stdout",
     "output_type": "stream",
     "text": [
      "migos --- bad and boujee (feat. lil uzi vert)\n"
     ]
    },
    {
     "ename": "NoSuchWindowException",
     "evalue": "Message: no such window: target window already closed\nfrom unknown error: web view not found\n  (Session info: chrome=109.0.5414.74)\nStacktrace:\nBacktrace:\n\t(No symbol) [0x00736643]\n\t(No symbol) [0x006CBE21]\n\t(No symbol) [0x005CDA9D]\n\t(No symbol) [0x005AEF6A]\n\t(No symbol) [0x00623AAB]\n\t(No symbol) [0x006361B6]\n\t(No symbol) [0x0061FB76]\n\t(No symbol) [0x005F49C1]\n\t(No symbol) [0x005F5E5D]\n\tGetHandleVerifier [0x009AA142+2497106]\n\tGetHandleVerifier [0x009D85D3+2686691]\n\tGetHandleVerifier [0x009DBB9C+2700460]\n\tGetHandleVerifier [0x007E3B10+635936]\n\t(No symbol) [0x006D4A1F]\n\t(No symbol) [0x006DA418]\n\t(No symbol) [0x006DA505]\n\t(No symbol) [0x006E508B]\n\tBaseThreadInitThunk [0x777B7D69+25]\n\tRtlInitializeExceptionChain [0x77DBBB9B+107]\n\tRtlClearBits [0x77DBBB1F+191]\n",
     "output_type": "error",
     "traceback": [
      "\u001b[1;31m---------------------------------------------------------------------------\u001b[0m",
      "\u001b[1;31mNoSuchWindowException\u001b[0m                     Traceback (most recent call last)",
      "Cell \u001b[1;32mIn [12], line 22\u001b[0m\n\u001b[0;32m     20\u001b[0m sleep(\u001b[39m1\u001b[39m)\n\u001b[0;32m     21\u001b[0m \u001b[39m## selecciono el resultado de la búsqueda que quiero\u001b[39;00m\n\u001b[1;32m---> 22\u001b[0m driver\u001b[39m.\u001b[39;49mfind_element(\u001b[39m'\u001b[39;49m\u001b[39mxpath\u001b[39;49m\u001b[39m'\u001b[39;49m, \u001b[39m'\u001b[39;49m\u001b[39m/html/body/routable-page/ng-outlet/search-results-page/div/div[2]/div[1]/div[2]/search-result-section/div/div[2]/search-result-items/div[1]/search-result-item/div/mini-song-card/a\u001b[39;49m\u001b[39m'\u001b[39;49m)\u001b[39m.\u001b[39mclick()\n\u001b[0;32m     23\u001b[0m driver\u001b[39m.\u001b[39mimplicitly_wait(\u001b[39m30\u001b[39m)\n\u001b[0;32m     24\u001b[0m \u001b[39m## extraigo la información de la letra de cada canción\u001b[39;00m\n",
      "File \u001b[1;32mc:\\Users\\annas\\anaconda3\\envs\\iron\\lib\\site-packages\\selenium\\webdriver\\remote\\webdriver.py:861\u001b[0m, in \u001b[0;36mWebDriver.find_element\u001b[1;34m(self, by, value)\u001b[0m\n\u001b[0;32m    858\u001b[0m     by \u001b[39m=\u001b[39m By\u001b[39m.\u001b[39mCSS_SELECTOR\n\u001b[0;32m    859\u001b[0m     value \u001b[39m=\u001b[39m \u001b[39m'\u001b[39m\u001b[39m[name=\u001b[39m\u001b[39m\"\u001b[39m\u001b[39m%s\u001b[39;00m\u001b[39m\"\u001b[39m\u001b[39m]\u001b[39m\u001b[39m'\u001b[39m \u001b[39m%\u001b[39m value\n\u001b[1;32m--> 861\u001b[0m \u001b[39mreturn\u001b[39;00m \u001b[39mself\u001b[39;49m\u001b[39m.\u001b[39;49mexecute(Command\u001b[39m.\u001b[39;49mFIND_ELEMENT, {\u001b[39m\"\u001b[39;49m\u001b[39musing\u001b[39;49m\u001b[39m\"\u001b[39;49m: by, \u001b[39m\"\u001b[39;49m\u001b[39mvalue\u001b[39;49m\u001b[39m\"\u001b[39;49m: value})[\u001b[39m\"\u001b[39m\u001b[39mvalue\u001b[39m\u001b[39m\"\u001b[39m]\n",
      "File \u001b[1;32mc:\\Users\\annas\\anaconda3\\envs\\iron\\lib\\site-packages\\selenium\\webdriver\\remote\\webdriver.py:444\u001b[0m, in \u001b[0;36mWebDriver.execute\u001b[1;34m(self, driver_command, params)\u001b[0m\n\u001b[0;32m    442\u001b[0m response \u001b[39m=\u001b[39m \u001b[39mself\u001b[39m\u001b[39m.\u001b[39mcommand_executor\u001b[39m.\u001b[39mexecute(driver_command, params)\n\u001b[0;32m    443\u001b[0m \u001b[39mif\u001b[39;00m response:\n\u001b[1;32m--> 444\u001b[0m     \u001b[39mself\u001b[39;49m\u001b[39m.\u001b[39;49merror_handler\u001b[39m.\u001b[39;49mcheck_response(response)\n\u001b[0;32m    445\u001b[0m     response[\u001b[39m\"\u001b[39m\u001b[39mvalue\u001b[39m\u001b[39m\"\u001b[39m] \u001b[39m=\u001b[39m \u001b[39mself\u001b[39m\u001b[39m.\u001b[39m_unwrap_value(response\u001b[39m.\u001b[39mget(\u001b[39m\"\u001b[39m\u001b[39mvalue\u001b[39m\u001b[39m\"\u001b[39m, \u001b[39mNone\u001b[39;00m))\n\u001b[0;32m    446\u001b[0m     \u001b[39mreturn\u001b[39;00m response\n",
      "File \u001b[1;32mc:\\Users\\annas\\anaconda3\\envs\\iron\\lib\\site-packages\\selenium\\webdriver\\remote\\errorhandler.py:249\u001b[0m, in \u001b[0;36mErrorHandler.check_response\u001b[1;34m(self, response)\u001b[0m\n\u001b[0;32m    247\u001b[0m         alert_text \u001b[39m=\u001b[39m value[\u001b[39m\"\u001b[39m\u001b[39malert\u001b[39m\u001b[39m\"\u001b[39m]\u001b[39m.\u001b[39mget(\u001b[39m\"\u001b[39m\u001b[39mtext\u001b[39m\u001b[39m\"\u001b[39m)\n\u001b[0;32m    248\u001b[0m     \u001b[39mraise\u001b[39;00m exception_class(message, screen, stacktrace, alert_text)  \u001b[39m# type: ignore[call-arg]  # mypy is not smart enough here\u001b[39;00m\n\u001b[1;32m--> 249\u001b[0m \u001b[39mraise\u001b[39;00m exception_class(message, screen, stacktrace)\n",
      "\u001b[1;31mNoSuchWindowException\u001b[0m: Message: no such window: target window already closed\nfrom unknown error: web view not found\n  (Session info: chrome=109.0.5414.74)\nStacktrace:\nBacktrace:\n\t(No symbol) [0x00736643]\n\t(No symbol) [0x006CBE21]\n\t(No symbol) [0x005CDA9D]\n\t(No symbol) [0x005AEF6A]\n\t(No symbol) [0x00623AAB]\n\t(No symbol) [0x006361B6]\n\t(No symbol) [0x0061FB76]\n\t(No symbol) [0x005F49C1]\n\t(No symbol) [0x005F5E5D]\n\tGetHandleVerifier [0x009AA142+2497106]\n\tGetHandleVerifier [0x009D85D3+2686691]\n\tGetHandleVerifier [0x009DBB9C+2700460]\n\tGetHandleVerifier [0x007E3B10+635936]\n\t(No symbol) [0x006D4A1F]\n\t(No symbol) [0x006DA418]\n\t(No symbol) [0x006DA505]\n\t(No symbol) [0x006E508B]\n\tBaseThreadInitThunk [0x777B7D69+25]\n\tRtlInitializeExceptionChain [0x77DBBB9B+107]\n\tRtlClearBits [0x77DBBB1F+191]\n"
     ]
    }
   ],
   "source": [
    "for index, row in tracks.iterrows():\n",
    "    print(row['artist'].split(',')[0],'---', row['track'])\n",
    "    ## iniciamos el web driver\n",
    "    opciones= Options()\n",
    "    opciones.add_argument(\"--start-maximized\")\n",
    "    driver = webdriver.Chrome(ChromeDriverManager().install())\n",
    "    driver.get('https://genius.com/')\n",
    "    driver.maximize_window()\n",
    "    driver.set_window_size(1920, 1080)\n",
    "    ## te metes dentro de la página y con inspeccionar, seleccionas el elemento de las cookies --> copy / selector\n",
    "    ##por si tu ordenador es un poco lento, le puedes poner un tiempo para que intente hacerlo\n",
    "    driver.implicitly_wait(30)\n",
    "    ## si quieres tardar más, le pones un sleep\n",
    "    ## sleep(20)\n",
    "    ## acepto los cookies\n",
    "    driver.find_element('css selector', '#onetrust-accept-btn-handler').click()\n",
    "    sleep(1)\n",
    "    ## busco el nombre de canción que quiero buscar\n",
    "    driver.find_element('css selector', '#application > div > div.PageHeaderdesktop__Container-bhx5ui-0.dmNhEr > div.PageHeaderdesktop__Left-bhx5ui-2.ctcvqz > form > input').send_keys(row['artist'].split(',')[0] + ' ' + row['track'], Keys.ENTER)\n",
    "    sleep(1)\n",
    "    ## selecciono el resultado de la búsqueda que quiero\n",
    "    driver.find_element('xpath', '/html/body/routable-page/ng-outlet/search-results-page/div/div[2]/div[1]/div[2]/search-result-section/div/div[2]/search-result-items/div[1]/search-result-item/div/mini-song-card/a').click()\n",
    "    driver.implicitly_wait(30)\n",
    "    ## extraigo la información de la letra de cada canción\n",
    "    page_source = driver.page_source\n",
    "    res = requests.get(url)\n",
    "    soup = BeautifulSoup(res.content, 'html.parser')\n",
    "    pagina = sopa.text\n",
    "    canciones['release_date'].append(re.findall(r'Date(\\w+ \\d+, \\d+)', pagina)[0])\n",
    "    #break"
   ]
  },
  {
   "cell_type": "code",
   "execution_count": 11,
   "metadata": {},
   "outputs": [
    {
     "data": {
      "text/plain": [
       "index                                                  8297\n",
       "url       https://open.spotify.com/track/5hYTyyh2odQKphU...\n",
       "artist                                         alessia cara\n",
       "track                        how far i'll go - from \"moana\"\n",
       "Name: 51, dtype: object"
      ]
     },
     "execution_count": 11,
     "metadata": {},
     "output_type": "execute_result"
    }
   ],
   "source": [
    "tracks.iloc[51,:]"
   ]
  },
  {
   "attachments": {},
   "cell_type": "markdown",
   "metadata": {},
   "source": [
    "Aquí con selenium"
   ]
  },
  {
   "cell_type": "code",
   "execution_count": 77,
   "metadata": {},
   "outputs": [],
   "source": [
    "almacen_paginas = {\n",
    "    'pagina' : [], \n",
    "    'lyrics':[],\n",
    "    'featuring' : [],\n",
    "    'produced_by': [],\n",
    "    'label': [],\n",
    "    'written by': [],\n",
    "    'drums': [],\n",
    "    'guitar': [],\n",
    "    'recorded_at' : [],\n",
    "    'release_date':[],\n",
    "}"
   ]
  },
  {
   "cell_type": "code",
   "execution_count": 92,
   "metadata": {},
   "outputs": [
    {
     "name": "stdout",
     "output_type": "stream",
     "text": [
      "12 machine gun kelly --- bad things (with camila cabello)\n"
     ]
    }
   ],
   "source": [
    "## iniciamos el web driver\n",
    "opciones= Options()\n",
    "opciones.add_argument(\"--start-maximized\")\n",
    "driver = webdriver.Chrome(ChromeDriverManager().install())\n",
    "driver.get('https://genius.com/')\n",
    "driver.maximize_window()\n",
    "driver.set_window_size(1920, 1080)\n",
    "## te metes dentro de la página y con inspeccionar, seleccionas el elemento de las cookies --> copy / selector\n",
    "##por si tu ordenador es un poco lento, le puedes poner un tiempo para que intente hacerlo\n",
    "driver.implicitly_wait(30)\n",
    "for index, row in tracks.iterrows():\n",
    "    print(index, row['artist'].split(',')[0],'---', row['track'].split('-')[0])\n",
    "    if index == 0: \n",
    "        driver.find_element('css selector', '#onetrust-accept-btn-handler').click()\n",
    "        sleep(1)\n",
    "        ## busco el nombre de canción que quiero buscar\n",
    "        driver.find_element('css selector', '#application > div > div.PageHeaderdesktop__Container-bhx5ui-0.dmNhEr > div.PageHeaderdesktop__Left-bhx5ui-2.ctcvqz > form > input').send_keys(row['artist'].split(',')[0] + ' ' + row['track'].split('-')[0], Keys.ENTER)\n",
    "        sleep(1)\n",
    "    else:\n",
    "        ## busco el nombre de canción que quiero buscar\n",
    "        driver.find_element('css selector', '#sticky-nav > div.StickyNavdesktop__Right-sc-60o25r-2.kMDkxm > form > input').send_keys(row['artist'].split(',')[0] + ' ' + row['track'].split('-')[0], Keys.ENTER)\n",
    "        sleep(1)\n",
    "    ## selecciono el resultado de la búsqueda que quiero\n",
    "    driver.find_element('xpath', '/html/body/routable-page/ng-outlet/search-results-page/div/div[2]/div[1]/div[2]/search-result-section/div/div[2]/search-result-items/div[1]/search-result-item/div/mini-song-card/a').click()\n",
    "    driver.implicitly_wait(30) \n",
    "    ## clico el all credits\n",
    "    try:\n",
    "        driver.find_element('xpath', '//*[@id=\"application\"]/main/div[1]/div[4]/div/div[1]/div[4]/div/a').click()\n",
    "    except:\n",
    "        try:\n",
    "            driver.find_element('xpath', '//*[@id=\"application\"]/main/div[1]/div[4]/div/div[1]/div[3]/div/a').click()\n",
    "        except:\n",
    "            try:\n",
    "                driver.find_element('xpath', '//*[@id=\"application\"]/main/div[1]/div[4]/div/div[1]/div[2]/div/a').click()\n",
    "            except:\n",
    "                print('oye que no va')\n",
    "    #'//*[@id=\"application\"]/main/div[1]/div[4]/div/div[1]/div[3]/div/a'\n",
    "    sleep(1)\n",
    "    page_source = driver.page_source\n",
    "    url = driver.current_url\n",
    "    res = requests.get(url + '#song-info')\n",
    "    soup = BeautifulSoup(res.content, 'html.parser')\n",
    "    pagina = soup.text\n",
    "    almacen_paginas['pagina'].append(pagina)\n",
    "    almacen_paginas['lyrics'].append(re.findall(r'Lyrics(.*)EmbedCancel?', pagina)[0])\n",
    "    #for key in almacen_paginas.keys():\n",
    "    #    if key in ['pagina', 'lyrics']:\n",
    "    #        continue\n",
    "    #    else:\n",
    "    #        almacen_paginas[key].append(re.findall(r'Produced By(.*)Written By(.*)Keyboards(.*)Video Director(.*)Label(.*)Vocals(.*)Bass Guitar(.*)Drums(.*)Guitar(.*)Recorded At(.*)Release Date(.*)Songs That', pagina)[0][list(almacen_paginas.keys()).index(key)-2])   \n",
    "    #canciones['release_date'].append(re.findall(r'Date(\\w+ \\d+, \\d+)', pagina)[0])\n",
    "    clear_output(wait=True)"
   ]
  },
  {
   "cell_type": "code",
   "execution_count": 86,
   "metadata": {},
   "outputs": [
    {
     "data": {
      "text/plain": [
       "'\\n\\n\\nMigos – Bad and Boujee Lyrics | Genius Lyrics\\n\\n\\n\\n\\n\\n\\n\\n\\n\\n\\n\\n\\n\\n\\n\\n\\n\\n\\n\\n\\n\\n\\n\\n\\n\\n\\n\\n\\n\\n\\n\\n\\n\\n\\n\\n\\n\\n\\n\\n\\n\\n\\n\\n\\n\\n\\n\\n\\n\\n\\n\\n\\n\\n\\n\\n\\n\\n\\n\\n\\n\\nFeaturedChartsVideosPromote Your MusicSign UpBad and BoujeeMigosTrack 4 on\\xa0Culture\\xa0“Bad and Boujee\" is a trap anthem about making money and spending time with women who have expensive taste. “Boujee” is an intentional misspelling of “bougie,” which is… Read More\\xa0FeaturingLil Uzi VertProduced byMetro Boomin & G KoopRelease DateAugust 27, 2016View All Credits\\xa039.4M603591TranslationsPortuguêsРусскийItalianoAzərbaycanca / آذربايجانPolskiTürkçeBad and Boujee Lyrics[Intro: Offset & Future]You know, young rich niggasYou know somethin\\', we ain\\'t really never had no old moneyWe got a whole lotta new money though, hah(If Young Metro don\\'t trust you, I\\'m gon\\' shoot you)Hey[Chorus: Offset]Raindrop (Drip), drop-top (Drop-top)Smokin\\' on cookie in the hotbox (Cookie)Fuckin\\' on your bitch, she a thot, thot (Thot)Cookin\\' up dope in the crockpot (Pot)We came from nothin\\' to somethin\\', nigga (Hey)I don\\'t trust nobody, grip the trigger (Nobody)Call up the gang and they come and get ya (Gang)Cry me a river, give you a tissue (Hey)My bitch is bad and bougie (Bad)Cookin\\' up dope with a Uzi (Blaow)My niggas is savage, ruthless (Savage)We got 30s and hundred-rounds too (Grrah)My bitch is bad and bougie (Bad)Cookin\\' up dope with a Uzi (Dope)My niggas is savage, ruthless (Hey)We got 30s and hundred-rounds too (Glah)[Verse 1: Offset]Offset, woo, woo, woo, woo, wooRackaids on rackaids (Racks), got back-ends on back-endsI\\'m ridin\\' around in a coupe (Coupe)I take your bih\\' right from you (You)Bitch, I\\'m a dog, roof (Grr)Beat the ho walls loose (Hey)Hop in the frog, whoo (Skrrt)I tell that bih\\' to come comfort me (Comfort me)I swear these niggas is under me (Hey)They hate and the devil keep jumpin\\' me (Jumpin\\' me)Bankrolls on me keep me company (Cash)Ayy, we do the most (Most)Yeah, pull up in Ghosts (Woo)Yeah, my diamond\\'s a choker (Glah)Holdin\\' the fire with no holster (Blaow)Rick the Ruler, diamonds cooler (Cooler)This a Rollie, not a Muller (Hey)Dabbin\\' on \\'em like the usual (Dab)Magic with the brick, do voodoo (Magic)Courtside with a bad bitch (Bitch)Then I send the bitch through Uber (Go)I\\'m young and rich and plus I\\'m bougie (Hey)I\\'m not stupid so I keep the Uzi (Rrah)Rackaids on rackaids, got back-ends on back-endsSo my money makin\\' my back ache (Aagh)You niggas got a low Act rate (Act)We from the Nawf, yeah, Dat Way (Nawf)Fat Cookie blunt in the ashtray (Cookie)Two bitches, just national smash day (Smash)Hop in the Lamb\\', have a drag race (Skrrt)I let them birds take a bath, bae (Brr)You might also like[Chorus: Offset]Raindrop (Drip), drop-top (Drop-top)Smokin\\' on cookie in the hotbox (Cookie)Fuckin\\' on your bitch, she a thot, thot (Thot)Cookin\\' up dope in the crockpot (Pot)We came from nothin\\' to somethin\\', nigga (Hey)I don\\'t trust nobody, grip the trigger (Nobody)Call up the gang and they come and get ya (Gang)Cry me a river, give you a tissue (Hey)My bitch is bad and bougie (Bad)Cookin\\' up dope with a Uzi (Blaow)My niggas is savage, ruthless (Savage)We got 30s and hundred-rounds too (Grrah)My bitch is bad and bougie (Bad)Cookin\\' up dope with a Uzi (Dope)My niggas is savage, ruthless (Hey)We got 30s and hundred-rounds too (Glah)[Verse 2: Quavo]Pour a four, I\\'m droppin\\' muddy, outer space, Kid Cudi (Drank)Introduce me to your bitch as wifey and we know she sluttin\\' (Bitch)Broke a brick down, Nutty Buddy, now that nigga duckin\\' (Phew)Don\\'t move too fast, I might shoot ya (Huh?)Draco bad and bougie (Draco)I\\'m always hangin\\' with shooters (Brrah)Might be posted somewhere secluded (Private)Still be playin\\' with pots and pans, call me Quavo Ratatouille (Cook it up)Run with that sack, call me Boobie (Run with it)When I\\'m on stage, show me boobies (Ayy)Ice on my neck, I\\'m the coolest (Ice)Hop out the suicide with the Uzi (Pew-pew-pew)I pull up, I pull up, I pull upI hop out with all of the drugs and the good luck (Skrrt)I\\'m cookin\\', I\\'m cookin\\', I\\'m whippin\\'I\\'m whippin\\' until it rock up, let it lock up (Lock up)I gave her ten racksI told her go shoppin\\' and spend it all at the pop up (Ten)These bitches, they fuck and suck dickAnd they bustin\\' for Instagram, get your clout upUh, yeah, that way (Yeah)Float on the track like a Segway (Go)Yeah, that way (Dat way)I used to trap by the Subway (Trappin\\', trappin\\')Yeah, that way (Go)Young nigga trap with the AK (Rrah, uh)Yeah, that way (Yeah)Big dyke ho, get the door, Macy Gray (Hey)[Chorus: Offset & Lil Uzi Vert]Raindrop (Drip), drop-top (Drop-top)Smokin\\' on cookie in the hotbox (Cookie)Fuckin\\' on your bitch, she a thot, thot (Thot)Cookin\\' up dope in the crockpot (Pot)We came from nothin\\' to somethin\\', nigga (Hey)I don\\'t trust nobody, grip the trigger (Nobody)Call up the gang and they come and get ya (Gang)Cry me a river, give you a tissue (Hey)My bitch is bad and bougie (Bad)Cookin\\' up dope with a Uzi (Blaow)My niggas is savage, ruthless (Savage)We got 30s and hundred-rounds too (Grrah)My bitch is bad and bougie (Bad)Cookin\\' up dope with a Uzi (Dope, huh?)My niggas is savage, ruthless (Hey, what?)We got 30s and hundred-rounds too (Glah, Lil Uzi)[Verse 3: Lil Uzi Vert]Yeah, yeah, yeah, yeah, yeah, yeah (Yeah)My bitch, she bad to the bone (She what?)Ayy, wait, these niggas watchin\\'I swear to God they be my clones (They watchin\\')Yeah, hey, huhSwitchin\\' my hoes like my flows (What?)Switchin\\' my flows like my clothes (Like what?)Keep on shootin\\' that gun, don\\'t reload (Damn)Ooh, ooh, now she want fuck with my crew (My crew)\\'Cause the money come all out the roof (Damn, damn)Drive the \\'Rari, that bitch got no roof (Skrrt)Wait, what kind of \\'Rari? (Wait) 458 (Damn)All of these niggas, they hate (They hate)Try to hide, shoot through the gate (Wow)Look, go to strip club, make it rain, yeahSo much money they use rakes (They use rakes)Count a hundred thousand in your face (In your face)Yeah, then put 300 right in the safe (Yeah)Met her today, yeah (Ooh)She talk to me like she knew me, yeah (Ooh)Go to sleep in a jacuzzi, yeah (Yeah)Wakin\\' up right to a two-piece, yeahCountin\\' that paper like loose-leaf, yeahGettin\\' that chicken with blue cheese, yeahBoy, you so fake, like my collar, you snakin\\'I swear to God that be that Gucci (Ayy)And you know we winnin\\' (Winnin\\')Yeah, we is not losin\\'Try to play your song, it ain\\'t move me (What?)Saw your girl once, now she choosin\\', yeah (Hey!)[Chorus: Offset & Lil Uzi Vert]Raindrop (Drip), drop-top (Drop-top)Smokin\\' on cookie in the hotbox (Cookie)Fuckin\\' on your bitch, she a thot, thot (Thot, yeah)Cookin\\' up dope in the crockpot (Pot)We came from nothin\\' to somethin\\', nigga (Hey)I don\\'t trust nobody, grip the trigger (Nobody, yeah)Call up the gang and they come and get ya (Gang)Cry me a river, give you a tissue (Hey, Lil Uzi)My bitch is bad and bougie (Bad, she bad)Cookin\\' up dope with a Uzi (Blaow, cookin\\' up, cookin\\' up)My niggas is savage, ruthless (Savage, they savage)We got 30s and hundred-rounds too (Grrah)My bitch is bad and bougie (Bad)Cookin\\' up dope with a Uzi (Dope, what?)My niggas is savage, ruthless (Hey, yeah)We got 30s and hundred-rounds too (Lil Uzi)591EmbedCancelHow to Format Lyrics:Type out all lyrics, even repeating song parts like the chorusLyrics should be broken down into individual linesUse section headers above different song parts like [Verse], [Chorus], etc.Use italics (<i>lyric</i>) and bold (<b>lyric</b>) to distinguish between different vocalists in the same song partIf you don’t understand a lyric, use [?]To learn more, check out our transcription guide or visit our transcribers forumAboutGenius Annotation10 contributors“Bad and Boujee\" is a trap anthem about making money and spending time with women who have expensive taste. “Boujee” is an intentional misspelling of “bougie,” which is slang for bourgeois, and refers to the materialism of society’s middle class.\\nThis Metro Boomin-produced track marks the first collaboration between Northside/North Atlanta’s Migos, minus Takeoff, and Philly’s Lil Uzi Vert.\\n“Bad and Boujee” is Migos\\' highest-charting track yet, as well as their first to top the Billboard Hot 100 chart.Expand +82310ShareAsk us a question about this songAsk a question *\\u200cTranslationsGenius Answer1 contributor\\nAzerbaijani Translation\\nItalian Translation\\nRussian Translation\\nPolish Translation\\nPortuguese Translation\\nTurkish Translation\\nWhat\\'s the meaning of the cover art? Is she eating instant noodles?Genius Answer3 contributorsThe photo is a variation of a meme of Tommie Lee in a dress eating Ramen noodles .\\nHow is this song charting compared to other Migos songs?Genius Answer4 contributors“Bad and Boujee” has charted for seven weeks in a row on the Billboard “Hot 100,” peaking at #1—Migos\\' highest charting song since “Fight Night” hit #69 in 2014. It’s the first top 40 placement for both Lil Uzi & Migos.Have Migos and Lil Uzi Vert collaborated before?What does \"boujee\" mean?Was Takeoff left off \"Bad and Boujee\"?How was this track received by fans, blogs & critics?What have the artists said about this song?Why was Takeoff left off of the song?Who are the beautiful girls in the video?Is there a Turkish translation of this song?What does Donald Glover have to do with this track?Is there a live performance of this song?Culture (2017)Migos1. Culture2. T-Shirt3. Call Casting4. Bad and Boujee5. Get Right Witcha6. Slippery7. Big on Big8. What the Price9. Brown Paper Bag10. Deadz11. All Ass12. Kelly Price13. Out Yo WayExpand CreditsFeaturingLil Uzi VertProduced ByMetro Boomin & G KoopWritten ByOffset, Quavo, Lil Uzi Vert, Metro Boomin & G KoopGuest AppearancesTravis Scott, Rubi Rose & OG MacoPerformance RightsSongView, BMI & ASCAPLabel300 Entertainment & Quality ControlPublisherPECF, Sony Music Entertainment, Because Music, New World Music, Concord Music Group, ROBA Music Publishing, Rondor Music, Warner Music Group, Casablanca Media Publishing, Irving Music, Pluto Mars Music, RM Moods & Colors, Pulse Music Group, Ascapuzi, Huncho YRN Music, Quality Control, Reservoir Media, Silent Assassin YRN, Universal Music Group, Warner/Chappell & YRN Piped Up Ent.ArtworkMoabMixing EngineerKesha LeeRecording EngineerKesha LeePhonographic Copyright ℗Quality ControlCopyright ©Quality ControlDistributor300 EntertainmentRelease DateAugust 27, 2016Songs That Sample Bad and BoujeeBad and boujee (LA LA LAND remix) by\\xa0\\u200btoasty\\xa0digital, Sorry Carly, I Just Really Like This Sax Line by\\xa0Patricia\\xa0Taxxon, Jo by\\xa0Kaz\\xa0Bałagane, Pop It Off by\\xa0DJ\\xa0Trademark, Sad And Boujee by\\xa0Ghostface\\xa0Playa, Darlin\\' by\\xa0\\u200btobi\\xa0lou, Eloi Eloi (Nameless Faceless) Compilation Medley by\\xa0Black\\xa0Panther Hotline, RIDE by\\xa0Nash\\xa0Naanai, War (Remix) by\\xa0Kyyngg, Feel Alive by\\xa03\\xa0Cards Marley, If Mozart produced for Migos by\\xa0Acrylo, NEW MEME TIME MEGAMIX V: EVERYONE\\'S FINAL SOUNDCLOWN MASHUP by\\xa0Maniac\\xa0Pop, 3 Anos by\\xa0Ferbinho, HERBATA by\\xa0Lil\\xa0Poj3b, Despacito 2 by\\xa0FlyingKitty, Scy by\\xa0Lil\\xa0M, Khalifa Part.2 by\\xa0ICO, Tearz 2.0 by\\xa0Sidxkick, J Room by\\xa0VII\\xa0$cott (Ft.\\xa0Dank\\xa0Dave, JKub & Ware), DOORZ by\\xa0Toxiglitch (Ft.\\xa0Alice\\xa0(DOORZ)), Bad and Boujee (Megamix) by\\xa0Witte\\xa0ZakDoe-Ken, Burnt Rice by\\xa0Adoboys, McKenna by\\xa0MC\\xa0Wojtu$, Bad And Boujee by\\xa0Swenz, BIG BANK BALLIN by\\xa0FIZ (Ft.\\xa0Jswizz\\xa0X Dfill), Alex wolf disstrack 😤😤😤(Aaron Cannon Beef) by\\xa03\\xa0Light $kinz (Ft.\\xa0@NukchungXD), Noooo by\\xa0Ofermod (Ft.\\xa0Granpa\\xa0rapps), Bad at Craftin\\' by\\xa0Bleach\\xa0Clorox, JAM FM 4 Minuten Freestyle by\\xa0DAT\\xa0ADAM (Ft.\\xa0Tobi\\xa0JAM FM), FIZ U by\\xa0Skeme (Ft.\\xa0Lil\\xa0Uzi Vert), One Breath One Take by\\xa0Chillinit, High Than Ever by\\xa0The\\xa0Faders (Ft.\\xa0Sed\\xa0Aeddre) & Wülf $$ by\\xa0SlowkiingBad and Boujee InterpolationsDat Way by\\xa0Migos\\xa0& Rich the KidSongs That Interpolate Bad and BoujeeBruce Wayne (Outro) by\\xa0Takeoff, Martian (Intro) by\\xa0Takeoff, HOTEL LOBBY (Unc & Phew) by\\xa0Quavo\\xa0& Takeoff, TISKA TUSKA TANGA by\\xa0Jr\\xa0Stit (Ft.\\xa0Mickey\\xa0Mouse), 2MS by\\xa0Nemzzz, Sinaia by\\xa0Călinacho (Ft.\\xa0Amuly), Rosh Hashana Ze Hashuva - ראש השנה זה חשובה by\\xa0Lukach\\xa0- לוקץ׳, YOU THOUGHT LMFAO by\\xa0Pvdilla, Million by\\xa0Big\\xa0Baby Tape & kizaru, You Hoed Me (Reminder Parody) by\\xa0Yung\\xa0Child Support, Reign drops by\\xa0LiL\\xa0CeeJus, Насквозь (Through) by\\xa0Jubilee, Sunlight Sonata Movement 421. In Ab#8 FreeStyle (prod. Beethoven & Thin finger) by\\xa0Scary\\xa0the Band, G.I. Joe (Remix) by\\xa0Maisnerd, Uzi by\\xa0OG\\xa0Buda, Testarossa by\\xa0A$AP\\xa0ANT (Ft.\\xa0Hoodrich\\xa0Pablo Juan & Offset), Testarossa (Original) by\\xa0A$AP\\xa0ANT (Ft.\\xa0Hoodrich\\xa0Pablo Juan, Offset & Playboi\\xa0Carti), Migos by\\xa0Praxi, Worryin\\' Bout Me by\\xa0BJ\\xa0the Chicago Kid (Ft.\\xa0Offset), Bad and Boujee (Parody) by\\xa0Cimorelli, RAIN WATER (DRIP DROP) by\\xa0King\\xa0DCN, Guns ’N Soda (Yeah) by\\xa0Paye\\xa0HIP-HOP (Ft.\\xa0Exhan), Hey, Listen! [2019 Version] by\\xa0Kaisson, Gangsta Music by\\xa0Yung\\xa0Bleu (Ft.\\xa0Juicy\\xa0J), Lollipop Chainsaw [2019 Version] by\\xa0Kaisson, Mickey Mouse Clubhouse by\\xa0Duwap\\xa0Kaine, Green and Purple by\\xa0A.J.\\xa0(Rap) (Ft.\\xa0Lil\\xa0Mosquito Disease), Pull Up/Jolly Rancher by\\xa0Lil\\xa0Dewan (Ft.\\xa0Mikey\\xa0Trap & Wet\\xa0Wipe), Sorta by\\xa0MLK+ (Ft.\\xa0O.T & Ploty), Not Alike by\\xa0Eminem (Ft.\\xa0Royce\\xa0da 5\\'9\"), Let Me In by\\xa0Dakoda\\xa0Rollins Backup, Wild Goat by\\xa0Lancey\\xa0Foux & Nyge (Ft.\\xa0AJ\\xa0Tracey, Jevon & Kojey\\xa0Radical), Set do Costa by\\xa0Costa\\xa0Gold (Ft.\\xa0MC\\xa0Davi, MC\\xa0Don Juan, MC\\xa0Hariel & MC\\xa0Ryan SP), Heaven\\'s Tea by\\xa0Heaven\\'s\\xa0Tea & One Breath One Take by\\xa0ChillinitBad and Boujee CoversBad and Boujee x Bounce Back Mashup by\\xa0William\\xa0SingeBad and Boujee RemixesBAD & ブジ (MIGOS REMIX) by\\xa0MIYACHI, Mala Y Xapiadora by\\xa0Astrxnaut (Ft.\\xa0BADBXY & Lil\\xa0Tussi), United State of Pop 2017 (How We Do It) by\\xa0DJ\\xa0Earworm, Call me back by\\xa0Skinny\\xa0Flex, Liquiid Vortex x Migos by\\xa0Tempest\\xa0of DD, Bad and Boujee (Spanish Version) by\\xa0Eladio\\xa0Carrión (Ft.\\xa0Ele\\xa0A El Dominio & Jon\\xa0Z), Wülf $$ by\\xa0Slowkiing, Bad And Boujee Flow by\\xa0Tobe\\xa0Nwigwe, Bad and Boujee Spoof Ass and Dookie by\\xa0KingTutweezy, Bad and Boujee (Herobust Skurt Edit) by\\xa0Migos, Bad and Boujee (Spanish Version) by\\xa0Neelo, Bad and Boujee by\\xa0DaBaby, Dfok Dab - דפוק דאב by\\xa0Teddy\\xa0Neguse - טדי נגוסה, 02- BMB - OllyPaga ft. Ikaro by\\xa0AXER\\xa0Crew (Ft.\\xa0Ikaro_ZMK), Bad And Boujee \"Remix\" by\\xa0Toretto\\xa0(Nunig), My President Bad and Boujee by\\xa0Dax, Ronald Reagan by\\xa0Young\\xa0Rich Republicans (Ft.\\xa0Matt\\xa0O\\'Brien (IL)), Bad and Boujee (Remix) by\\xa0Dosseh, Bad And Boujee (R3hab vs. No Riddim & it’s different Remix) by\\xa0R3HAB, Bess Nuh Stush by\\xa0Isaac\\xa0Rudder (Ft.\\xa0Inzey), Bad and Boujee by\\xa0Devvon\\xa0Terrell, Ringtone (Hotline Bling) by\\xa0\\u200bmirikazizi, Sad and Boujee by\\xa0Elijah\\xa0Who, Bad and Boujee (Remix) by\\xa0XolanI, Bad And Boujee (Halal Remix) by\\xa0Deen\\xa0Squad, Bad and Boujee (ZHU Remix) by\\xa0Migos, Bad and Boujee (Remix 2) by\\xa0Migos, Beats Keep Callin\\' (Freestyle) by\\xa0Royce\\xa0da 5\\'9\" & Bad & Boujee by\\xa0Fabolous\\xa0& Trey SongzBad and Boujee TranslationsMigos - Bad and Boujee ft. Lil Uzi Vert (Tradução em Português) by\\xa0Genius\\xa0Brasil Traduções, Migos - Bad and Boujee ft. Lil Uzi Vert (Русский перевод) by\\xa0Genius\\xa0Russian Translations (Русский перевод), Migos - Bad and Boujee ft. Lil Uzi Vert (Traduzione Italiana) by\\xa0Genius\\xa0Traduzioni Italiane, Migos - Bad and Boujee ft. Lil Uzi Vert (Azərbaycan Tərcümə) by\\xa0Genius\\xa0Azərbaycan Tərcümə, Migos - Bad and Boujee ft. Lil Uzi Vert (Polskie Tłumaczenie) by\\xa0Polskie\\xa0tłumaczenia Genius & Migos - Bad and Boujee ft. Lil Uzi Vert (Türkçe Çeviri) by\\xa0Genius\\xa0Türkçe ÇeviriView Bad and Boujee samplesTagsRapAtlanta RapMemesTrapExpand CommentsSign Up And Drop Knowledge 🤓Genius is the ultimate source of music knowledge, created by scholars like you who share facts and insight about the songs and artists they love.Sign UpGenius is the world’s biggest collection of song lyrics and musical knowledgeAbout GeniusContributor GuidelinesPressShopAdvertisePrivacy PolicyPrivacy PreferencesLicensingJobsDevelopersCopyright PolicyContact UsSign InDo Not Sell My Personal Information© 2023 ML Genius Holdings, LLCTerms of UseVerified ArtistsAll Artists:abcdefghijklmnopqrstuvwxyz#Hot Songs:FlowersWhere do we go now?Bizarrap & Shakira - Shakira: Bzrp Music Sessions, Vol. 53 (English Translation)Shakira: Bzrp Music Sessions, Vol. 53Even When I’m Not With YouView All\\n\\n\\n\\n\\n\\n\\n\\n\\n\\n\\n\\n\\n\\n\\n\\n\\n\\n\\n\\n'"
      ]
     },
     "execution_count": 86,
     "metadata": {},
     "output_type": "execute_result"
    }
   ],
   "source": [
    "almacen_paginas['pagina'][0]"
   ]
  },
  {
   "cell_type": "code",
   "execution_count": 91,
   "metadata": {},
   "outputs": [
    {
     "name": "stdout",
     "output_type": "stream",
     "text": [
      "[Intro: Offset & Future]You know, young rich niggasYou know somethin', we ain't really never had no old moneyWe got a whole lotta new money though, hah(If Young Metro don't trust you, I'm gon' shoot you)Hey[Chorus: Offset]Raindrop (Drip), drop-top (Drop-top)Smokin' on cookie in the hotbox (Cookie)Fuckin' on your bitch, she a thot, thot (Thot)Cookin' up dope in the crockpot (Pot)We came from nothin' to somethin', nigga (Hey)I don't trust nobody, grip the trigger (Nobody)Call up the gang and they come and get ya (Gang)Cry me a river, give you a tissue (Hey)My bitch is bad and bougie (Bad)Cookin' up dope with a Uzi (Blaow)My niggas is savage, ruthless (Savage)We got 30s and hundred-rounds too (Grrah)My bitch is bad and bougie (Bad)Cookin' up dope with a Uzi (Dope)My niggas is savage, ruthless (Hey)We got 30s and hundred-rounds too (Glah)[Verse 1: Offset]Offset, woo, woo, woo, woo, wooRackaids on rackaids (Racks), got back-ends on back-endsI'm ridin' around in a coupe (Coupe)I take your bih' right from you (You)Bitch, I'm a dog, roof (Grr)Beat the ho walls loose (Hey)Hop in the frog, whoo (Skrrt)I tell that bih' to come comfort me (Comfort me)I swear these niggas is under me (Hey)They hate and the devil keep jumpin' me (Jumpin' me)Bankrolls on me keep me company (Cash)Ayy, we do the most (Most)Yeah, pull up in Ghosts (Woo)Yeah, my diamond's a choker (Glah)Holdin' the fire with no holster (Blaow)Rick the Ruler, diamonds cooler (Cooler)This a Rollie, not a Muller (Hey)Dabbin' on 'em like the usual (Dab)Magic with the brick, do voodoo (Magic)Courtside with a bad bitch (Bitch)Then I send the bitch through Uber (Go)I'm young and rich and plus I'm bougie (Hey)I'm not stupid so I keep the Uzi (Rrah)Rackaids on rackaids, got back-ends on back-endsSo my money makin' my back ache (Aagh)You niggas got a low Act rate (Act)We from the Nawf, yeah, Dat Way (Nawf)Fat Cookie blunt in the ashtray (Cookie)Two bitches, just national smash day (Smash)Hop in the Lamb', have a drag race (Skrrt)I let them birds take a bath, bae (Brr)You might also like[Chorus: Offset]Raindrop (Drip), drop-top (Drop-top)Smokin' on cookie in the hotbox (Cookie)Fuckin' on your bitch, she a thot, thot (Thot)Cookin' up dope in the crockpot (Pot)We came from nothin' to somethin', nigga (Hey)I don't trust nobody, grip the trigger (Nobody)Call up the gang and they come and get ya (Gang)Cry me a river, give you a tissue (Hey)My bitch is bad and bougie (Bad)Cookin' up dope with a Uzi (Blaow)My niggas is savage, ruthless (Savage)We got 30s and hundred-rounds too (Grrah)My bitch is bad and bougie (Bad)Cookin' up dope with a Uzi (Dope)My niggas is savage, ruthless (Hey)We got 30s and hundred-rounds too (Glah)[Verse 2: Quavo]Pour a four, I'm droppin' muddy, outer space, Kid Cudi (Drank)Introduce me to your bitch as wifey and we know she sluttin' (Bitch)Broke a brick down, Nutty Buddy, now that nigga duckin' (Phew)Don't move too fast, I might shoot ya (Huh?)Draco bad and bougie (Draco)I'm always hangin' with shooters (Brrah)Might be posted somewhere secluded (Private)Still be playin' with pots and pans, call me Quavo Ratatouille (Cook it up)Run with that sack, call me Boobie (Run with it)When I'm on stage, show me boobies (Ayy)Ice on my neck, I'm the coolest (Ice)Hop out the suicide with the Uzi (Pew-pew-pew)I pull up, I pull up, I pull upI hop out with all of the drugs and the good luck (Skrrt)I'm cookin', I'm cookin', I'm whippin'I'm whippin' until it rock up, let it lock up (Lock up)I gave her ten racksI told her go shoppin' and spend it all at the pop up (Ten)These bitches, they fuck and suck dickAnd they bustin' for Instagram, get your clout upUh, yeah, that way (Yeah)Float on the track like a Segway (Go)Yeah, that way (Dat way)I used to trap by the Subway (Trappin', trappin')Yeah, that way (Go)Young nigga trap with the AK (Rrah, uh)Yeah, that way (Yeah)Big dyke ho, get the door, Macy Gray (Hey)[Chorus: Offset & Lil Uzi Vert]Raindrop (Drip), drop-top (Drop-top)Smokin' on cookie in the hotbox (Cookie)Fuckin' on your bitch, she a thot, thot (Thot)Cookin' up dope in the crockpot (Pot)We came from nothin' to somethin', nigga (Hey)I don't trust nobody, grip the trigger (Nobody)Call up the gang and they come and get ya (Gang)Cry me a river, give you a tissue (Hey)My bitch is bad and bougie (Bad)Cookin' up dope with a Uzi (Blaow)My niggas is savage, ruthless (Savage)We got 30s and hundred-rounds too (Grrah)My bitch is bad and bougie (Bad)Cookin' up dope with a Uzi (Dope, huh?)My niggas is savage, ruthless (Hey, what?)We got 30s and hundred-rounds too (Glah, Lil Uzi)[Verse 3: Lil Uzi Vert]Yeah, yeah, yeah, yeah, yeah, yeah (Yeah)My bitch, she bad to the bone (She what?)Ayy, wait, these niggas watchin'I swear to God they be my clones (They watchin')Yeah, hey, huhSwitchin' my hoes like my flows (What?)Switchin' my flows like my clothes (Like what?)Keep on shootin' that gun, don't reload (Damn)Ooh, ooh, now she want fuck with my crew (My crew)'Cause the money come all out the roof (Damn, damn)Drive the 'Rari, that bitch got no roof (Skrrt)Wait, what kind of 'Rari? (Wait) 458 (Damn)All of these niggas, they hate (They hate)Try to hide, shoot through the gate (Wow)Look, go to strip club, make it rain, yeahSo much money they use rakes (They use rakes)Count a hundred thousand in your face (In your face)Yeah, then put 300 right in the safe (Yeah)Met her today, yeah (Ooh)She talk to me like she knew me, yeah (Ooh)Go to sleep in a jacuzzi, yeah (Yeah)Wakin' up right to a two-piece, yeahCountin' that paper like loose-leaf, yeahGettin' that chicken with blue cheese, yeahBoy, you so fake, like my collar, you snakin'I swear to God that be that Gucci (Ayy)And you know we winnin' (Winnin')Yeah, we is not losin'Try to play your song, it ain't move me (What?)Saw your girl once, now she choosin', yeah (Hey!)[Chorus: Offset & Lil Uzi Vert]Raindrop (Drip), drop-top (Drop-top)Smokin' on cookie in the hotbox (Cookie)Fuckin' on your bitch, she a thot, thot (Thot, yeah)Cookin' up dope in the crockpot (Pot)We came from nothin' to somethin', nigga (Hey)I don't trust nobody, grip the trigger (Nobody, yeah)Call up the gang and they come and get ya (Gang)Cry me a river, give you a tissue (Hey, Lil Uzi)My bitch is bad and bougie (Bad, she bad)Cookin' up dope with a Uzi (Blaow, cookin' up, cookin' up)My niggas is savage, ruthless (Savage, they savage)We got 30s and hundred-rounds too (Grrah)My bitch is bad and bougie (Bad)Cookin' up dope with a Uzi (Dope, what?)My niggas is savage, ruthless (Hey, yeah)We got 30s and hundred-rounds too (Lil Uzi)591\n"
     ]
    }
   ],
   "source": [
    "#almacen_paginas['pagina'][0]\n",
    "print(re.findall(r'Lyrics(.*)EmbedCancel?', pagina)[0])"
   ]
  },
  {
   "cell_type": "code",
   "execution_count": 73,
   "metadata": {},
   "outputs": [
    {
     "name": "stdout",
     "output_type": "stream",
     "text": [
      "label ['', '', '', 'Drake – Fake Love Lyrics | Genius Lyrics', '', '', '', '', '', '', '', '', '', '', '', '', '', '', '', '', '', '', '', '', '', '', '', '', '', '', '', '', '', '', '', '', '', '', '', '', '', '', '', '', '', '', '', '', '', '', '', '', '', '', '', '', '', '', '', '', '', '', '', '', '', '', 'FeaturedChartsVideosPromote Your MusicSign UpFake LoveDrakeTrack 20 on\\xa0More Life\\xa0“Fake Love” finds Drake criticizing friends and associates who only show him love because of his incredible success. He identifies their false emotions and explains how he… Read More\\xa0Produced byVinylz & GingRelease DateOctober 23, 2016View All Credits\\xa013.8M217193TranslationsEspañolFake Love Lyrics[Chorus]I\\'ve been down so long, it look like up to meThey look up to meI got fake people showin\\' fake love to meStraight up to my face, straight up to my faceI\\'ve been down so long, it look like up to meThey look up to meI got fake people showin\\' fake love to meStraight up to my face, straight up to my face[Verse 1]Somethin\\' ain\\'t right when we talkin\\'Somethin\\' ain\\'t right when we talkin\\'Look like you hidin\\' your problemsReally you never was solidNo, you can\\'t \"son\" meYou won\\'t never get to run meJust when shit look out of reachI reach back like one, threeLike one, three, yeah[Pre-Chorus]That\\'s when they smile in my faceWhole time they wanna take my placeWhole time they wanna take my placeWhole time they wanna take my placeYeah, I know they wanna take my placeI can tell that love is fakeI don\\'t trust a word you sayHow you wanna clique up after your mistakes?Look you in the face, and it\\'s just not the same[Chorus]I\\'ve been down so long, it look like up to meThey look up to meI got fake people showin\\' fake love to meStraight up to my face, straight up to my faceI\\'ve been down so long, it look like up to meThey look up to meI got fake people showin\\' fake love to meStraight up to my face, straight up to my face[Verse 2]Yeah, straight up to my face, tryna play it safeVibe switch like night and dayI can see it, like, right awayI came up, you changed upI caught that whole playSince, things never been the sameYou might also like[Pre-Chorus]That\\'s when they smile in my faceWhole time they wanna take my placeWhole time they wanna take my placeWhole time they wanna take my placeYeah, I know they wanna take my placeI can tell that love is fake (I can tell that love is fake)I don\\'t trust a word you say (I don\\'t trust a word)How you wanna clique up after your mistakes?(That\\'s just what I heard)Look you in the face, and it\\'s just not the same[Chorus]I\\'ve been down so long, it look like up to meThey look up to meI got fake people showin\\' fake love to meStraight up to my face, straight up to my faceI\\'ve been down so long, it look like up to meThey look up to meI got fake people showin\\' fake love to meStraight up to my face, straight up to my face[Outro]SkrrtAnd more chune for your headtopSo watch how you speak on my name, you know?193EmbedCancelHow to Format Lyrics:Type out all lyrics, even repeating song parts like the chorusLyrics should be broken down into individual linesUse section headers above different song parts like [Verse], [Chorus], etc.Use italics (<i>lyric</i>) and bold (<b>lyric</b>) to distinguish between different vocalists in the same song partIf you don’t understand a lyric, use [?]To learn more, check out our transcription guide or visit our transcribers forumAboutGenius Annotation6 contributors“Fake Love” finds Drake criticizing friends and associates who only show him love because of his incredible success. He identifies their false emotions and explains how he deals with them. The song was released during Drake’s birthday episode of OVO Sound Radio.Expand +45922ShareAsk us a question about this songAsk a question *\\u200cWho is pictured on the album art?Genius Answer3 contributorsDrake’s father, Dennis Graham.', '', 'Where can I listen to \"Fake Love\"?Genius Answer4 contributorsThe song is available for purchase on iTunes, and can be streamed on Apple Music, Tidal, and Spotify.Does Drake often employ a dancehall sound in his music?Genius Answer2 contributorsOn Views, Drake proved he was inspired by the dancehall vibe—songs like “Controlla,” “One Dance,” “With You,” and “Too Good” drew inspiration from the island-themed sound.TranslationsMore Life (2017)Drake1. Free Smoke2. No Long Talk3. Passionfruit4. Jorja Interlude5. Get It Together6. Madiba Riddim7. Blem8. 44229. Gyalchester10. Skepta Interlude11. Portland12. Sacrifices13. Nothings Into Somethings14. Teenage Fever15. KMT16. Lose You17. Can’t Have Everything18. Glow19. Since Way Back20. Fake Love21. Ice Melts22. Do Not DisturbMore Life [Note]CreditsProduced ByVinylz & GingWritten ByJohn Whitehead, Gene McFadden, Leon Huff, Starrah, Ging, Vinylz & DrakeLicensing\\u200bpeermusic, LatinAutor, LatinAutorPerf, UMPG / We Publish Music, PEDL, UBEM, MINT_BMG, ARESA, Forward Music Publishing, LatinAutor - SonyATV, Sony Music Entertainment, CMRRA, BMI, LatinAutor - Warner Chappell, Global Music Rights, SOLAR Music Rights Management, Pulse Music Group, Warner/Chappell, ASCAP, Universal Recordings, Young Money, Cash Money Records & Universal Music GroupDistributorUniversal Music GroupCopyright ©Young Money & Cash Money RecordsPhonographic Copyright ℗Young Money & Cash Money RecordsPublisherSOLAR Music Rights Management, PEDL, UBEM, CMRRA, Universal Music Group, LatinAutor, Concord Music Group, Sony Music Entertainment, New World Music, Warner Music Group, Warner/Chappell, Sandra Gale, Casablanca Media Publishing, EMI April Music, Vinylz Music Group, Pulse Music Group, Sony/ATV Tunes, Shay Noelle Publishing, People Over Planes, Nyan King Music, EMI Music Publishing Group, Warner-Tamerlane Publishing Corp. & Mijac MusicPerformance RightsBMI, ASCAP & SOCANLabelRepublic Records, OVO Sound, Young Money & Cash Money RecordsPremiereBeats 1 & OVO Sound RadioRelease DateOctober 23, 2016Fake Love SamplesPony by\\xa0GinuwineSongs That Sample Fake LoveFak3 Lov3 by\\xa0Aw3som3\\xa0Alv1n, Fake Love (E-Mix) by\\xa0Eric\\xa0Bellinger, 21 Salute by\\xa0Hafto, Fake Love (Remix) by\\xa0JLatrel\\xa0 Yahmir & No Fake by\\xa0SkemeFake Love InterpolationsBack Stabbers by\\xa0The\\xa0O\\'JaysSongs That Interpolate Fake LoveFake Love by\\xa0Carstens, Say So (Payroll) by\\xa0Big\\xa0Ant Dog & Better Positions by\\xa0OctavianFake Love CoversFake Love by\\xa0KIDZ\\xa0BOP Kids, FAKE LUV REMIX by\\xa0Renzilla (Ft.\\xa0Malik\\xa0McPherson & Malik\\xa0McPherson), Paper Planes - triple j Like A Version by\\xa0SLUMBERJACK (Ft.\\xa0K.Flay), Fake Love by\\xa0Capsize, Fake Love x Sneakin\\' by\\xa0Normani, Fake Love (Drake Cover) by\\xa0Wonder\\xa0the Boy & Fake Love x Broccoli x Caroline Mashup by\\xa0William\\xa0Singe & Alex AionoFake Love RemixesFake Love by\\xa0Dre\\xa0Rich Kidd, Fake Love (Remix) by\\xa0DaBaby, FAKE LUV REMIX by\\xa0Renzilla (Ft.\\xa0Malik\\xa0McPherson & Malik\\xa0McPherson), A me mi by\\xa0Gemitaiz (Ft.\\xa0Achille\\xa0Lauro), Fake Love by\\xa0Dan\\xa0Lee, Patience (Freestyle) by\\xa0RAY\\xa0BLK, Fake Love (Acoustic) by\\xa0Shawn\\xa0Mendes, Fake Love (Remix) by\\xa0Avery\\xa0Wilson & Fake Love by\\xa0Mila\\xa0JFake Love TranslationsDrake - Fake Love (Traducción al Español) by\\xa0Genius\\xa0Traducciones al EspañolView Fake Love samplesTagsR&BRapAlternative R&BTrapCanadaExpand CommentsSign Up And Drop Knowledge 🤓Genius is the ultimate source of music knowledge, created by scholars like you who share facts and insight about the songs and artists they love.Sign UpGenius is the world’s biggest collection of song lyrics and musical knowledgeAbout GeniusContributor GuidelinesPressShopAdvertisePrivacy PolicyPrivacy PreferencesLicensingJobsDevelopersCopyright PolicyContact UsSign InDo Not Sell My Personal Information© 2023 ML Genius Holdings, LLCTerms of UseVerified ArtistsAll Artists:abcdefghijklmnopqrstuvwxyz#Hot Songs:CALL ME CRAZYA Letter to Everyone Who’s Hurt MeЙупи Йо (Yupi Yo)Sie weiß藤井風 (Fujii Kaze) - 死ぬのがいいわ (Shinunoga E-Wa) (Romanized)View All', '', '', '', '', '', '', '', '', '', '', '', '', '', '', '', '', '', '', '', '', '']\n"
     ]
    }
   ],
   "source": [
    "#almacen_paginas['pagina'][1]\n",
    "print('label', re.findall(r'(.*)', almacen_paginas['pagina'][1]))"
   ]
  },
  {
   "cell_type": "code",
   "execution_count": 72,
   "metadata": {},
   "outputs": [
    {
     "name": "stdout",
     "output_type": "stream",
     "text": [
      "producción ['Metro Boomin & G Koop'] chachi\n",
      "label ['300 Entertainment & Quality Control', '']\n",
      "date ['August 27, 2016', 'August 27, 2016'] chachi\n",
      "producción ['Vinylz & Ging'] chachi\n",
      "label ['', '', '']\n",
      "date ['October 23, 2016', 'October 23, 2016'] chachi\n",
      "producción ['Daft Punk, Cirkut, Doc McKinney & The Weeknd'] chachi\n",
      "label ['']\n",
      "date ['September 21, 2016', 'September 21, 2016'] chachi\n",
      "producción ['DJ Swivel & The Chainsmokers'] chachi\n",
      "label ['Disruptor Records & Columbia RecordsPerformance RightsASCAP, SOCAN & BMI', '']\n",
      "date ['July 29, 2016', 'July 29, 2016'] chachi\n",
      "producción ['Steve “The Sauce” Hybicki & Mike WiLL Made-It'] chachi\n",
      "label ['']\n",
      "date ['August 12, 2016', 'August 12, 2016'] chachi\n",
      "producción ['Karl Rubin, Rogét Chahayed & J Gramm'] chachi\n",
      "label ['']\n",
      "date ['April 6, 2016', 'April 6, 2016'] chachi\n",
      "producción ['DJ Maphorisa, 40, Wizkid & Nineteen85'] chachi\n",
      "label ['OVO Sound, Young Money, Cash Money Records & Republic RecordsLicensingUMPG / We Publish Music, Kobalt Music, ARESA, BMG, Forward Music Publishing, LatinAutorPerf, Sentric Music, LatinAutor - PeerMusic, Adorando Brazil, LatinAutor - UMPG, UBEM, Sony Music Entertainment, AMRA BR, CMRRA, Global Music Rights, MINT_BMG, ASCAP, SOLAR Music Rights Management, BMI, AMRA, LatinAutor - SonyATV, Ultra Music, Universal Recordings, Young Money, Cash Money Records & Universal Music GroupDistributorUniversal Music GroupCopyright ©Young Money & Cash Money RecordsPhonographic Copyright ℗Young Money & Cash Money RecordsCo-Producer40, DJ Maphorisa & WizkidPerformance RightsPRS & SOCAN', '', '']\n",
      "date ['April 5, 2016', 'April 5, 2016'] chachi\n",
      "producción ['Aminé & Pasqué'] chachi\n",
      "label ['']\n",
      "date ['March 9, 2016', 'March 9, 2016'] chachi\n",
      "producción ['\\u200bwatt, Louis Bell & DJ Snake'] chachi\n",
      "label ['']\n",
      "date ['August 4, 2016'] chachi\n",
      "producción ['Smash David, Amaire Johnson, Metro Boomin & Hitmaka'] chachi\n",
      "label ['']\n",
      "date ['October 31, 2016', 'October 31, 2016'] chachi\n",
      "producción ['Daft Punk, Cirkut, Doc McKinney & The Weeknd'] chachi\n",
      "label ['']\n",
      "date ['June 24, 2016', 'June 24, 2016'] chachi\n",
      "producción ['The Stereotypes & Shampoo Press & Curl'] chachi\n",
      "label ['']\n",
      "date ['October 7, 2016', 'October 7, 2016'] chachi\n",
      "producción ['The Futuristics'] chachi\n",
      "label ['']\n",
      "date ['October 14, 2016'] chachi\n",
      "producción ['21 Savage & Metro Boomin'] chachi\n",
      "label ['Slaughter GangPerformance RightsASCAP, BMI & SongView', '']\n",
      "date ['July 15, 2016', 'July 15, 2016'] chachi\n",
      "producción ['Jack Antonoff'] chachi\n",
      "label ['']\n",
      "date ['December 9, 2016'] chachi\n",
      "producción ['\\u200bbenny blanco, Alex Ben-Abdallah, Noah Passovoy & ARCADE'] chachi\n",
      "label ['']\n",
      "date ['October 12, 2016', 'October 12, 2016'] chachi\n",
      "producción ['Purp Dogg'] chachi\n",
      "label ['']\n",
      "date ['June 25, 2015'] chachi\n",
      "producción ['Ron Gilmore, J. Cole, Velous, Boi-1da & Vinylz'] chachi\n",
      "label ['']\n",
      "date ['December 9, 2016'] chachi\n",
      "producción ['NY Bangers'] chachi\n",
      "label ['', '']\n",
      "date ['May 12, 2016', 'May 12, 2016'] chachi\n",
      "producción ['Ben Billions, Doc McKinney & The Weeknd'] chachi\n",
      "label ['']\n",
      "date ['November 18, 2016', 'November 18, 2016'] chachi\n",
      "producción ['Brasstracks'] chachi\n",
      "label ['']\n",
      "date ['May 12, 2016', 'May 12, 2016'] chachi\n",
      "producción ['Southside, Metro Boomin & CuBeatz'] chachi\n",
      "label ['Slaughter GangPerformance RightsBMI & ASCAP', '']\n",
      "date ['July 15, 2016', 'July 15, 2016'] chachi\n",
      "producción ['Grey & Zedd'] chachi\n",
      "label ['']\n",
      "date ['July 22, 2016', 'July 22, 2016'] chachi\n",
      "producción ['Farrago & The Chainsmokers'] chachi\n",
      "label ['']\n",
      "date ['February 5, 2016', 'February 5, 2016'] chachi\n",
      "producción ['ILYA & Max Martin'] chachi\n",
      "label ['']\n",
      "date ['May 20, 2016', 'May 20, 2016'] chachi\n",
      "producción ['Dan Romer, DJ Kyriakides & Teddy Geiger'] chachi\n",
      "label ['']\n",
      "date ['June 3, 2016', 'June 3, 2016'] chachi\n",
      "producción ['Snavs'] chachi\n",
      "label ['']\n",
      "date ['November 10, 2017', 'November 10, 2017'] chachi\n",
      "producción ['London on da Track'] chachi\n",
      "label ['']\n",
      "date ['October 23, 2016', 'October 23, 2016'] chachi\n",
      "producción ['Justin Timberlake, Shellback & Max Martin'] chachi\n",
      "label ['']\n",
      "date ['May 6, 2016', 'May 6, 2016'] chachi\n",
      "producción ['DallasK & Ammo'] chachi\n",
      "label ['']\n",
      "date ['February 26, 2016', 'February 26, 2016'] chachi\n",
      "producción ['Mike Elizondo & Tyler Joseph'] chachi\n",
      "label ['']\n",
      "date ['June 16, 2016', 'June 16, 2016'] chachi\n",
      "producción ['Metro Boomin'] chachi\n",
      "label ['']\n",
      "date ['April 15, 2016', 'April 15, 2016'] chachi\n",
      "producción ['Max Martin & ILYA'] chachi\n",
      "label ['']\n",
      "date ['May 6, 2016', 'May 6, 2016'] chachi\n",
      "producción ['Nineteen85, Supa Dups, Maneesh & Adam Martin'] chachi\n",
      "label ['OVO Sound, Young Money, Cash Money Records & Republic RecordsLicensingLatinAutorPerf, CMRRA, LatinAutor, Global Music Rights, BMI, SOLAR Music Rights Management, Sony Music Entertainment, LatinAutor - Warner Chappell, ASCAP, UBEM, Warner/Chappell, LatinAutor - SonyATV, UMPG / We Publish Music, Universal Recordings, Young Money, Cash Money Records & Universal Music GroupDistributorUniversal Music GroupCopyright ©Young Money & Cash Money RecordsPhonographic Copyright ℗Young Money & Cash Money RecordsAdditional ProducerSupa DupsPerformance RightsASCAP, BMI & SOCAN', '', '']\n",
      "date ['April 29, 2016', 'April 29, 2016'] chachi\n",
      "producción ['Supa Dups, Di Genius, Allen Ritter & Boi-1da'] chachi\n",
      "label ['OVO Sound, Young Money, Cash Money Records & Republic RecordsLicensingSony Music Entertainment, LatinAutorPerf, Polaris Hub AB, SOLAR Music Rights Management, UBEM, ASCAP, LatinAutor - UMPG, UMPG / We Publish Music, LatinAutor - SonyATV, CMRRA, Global Music Rights, Hexacorp, Universal Recordings, Young Money, Cash Money Records & Universal Music GroupDistributorUniversal Music GroupCopyright ©Young Money & Cash Money RecordsPhonographic Copyright ℗Young Money & Cash Money RecordsCo-ProducerAllen Ritter & Supa DupsAdditional ProducerDi GeniusPerformance RightsASCAP, BMI, JACAP, PRS & SOCANPublisherSandra Gale, Ritter Boy, Chase Mountain Music, Hexacorp, Global Music Rights, UBEM, CMRRA, Colgems-EMI Music, Universal Music Group, EMI April Music, EMI Pop Music Publishing, Sony Music Entertainment, Sony/ATV Tunes, Shocking Vibes Music, EMI Music Publishing Group, Dubplate Music ', '', '']\n",
      "date ['April 29, 2016', 'April 29, 2016'] chachi\n",
      "producción ['Calvin Harris & Kuk Harrell'] chachi\n",
      "label ['', '']\n",
      "date ['April 29, 2016', 'April 29, 2016'] chachi\n",
      "producción ['Steve Solomon, Alex Beitzke & Bradley Spence'] chachi\n",
      "label ['']\n",
      "date ['September 9, 2016', 'September 9, 2016'] chachi\n",
      "producción ['DJ Swivel & The Chainsmokers'] chachi\n",
      "label ['']\n",
      "date ['September 30, 2016', 'September 30, 2016'] chachi\n",
      "producción ['Allen Ritter, MIKE DEAN, Ging & Vinylz'] chachi\n",
      "label ['', '']\n",
      "date ['June 3, 2016', 'June 3, 2016'] chachi\n",
      "producción ['BRICK!, Naz & Lege Kale'] chachi\n",
      "label ['Quality Control, Capitol Records, Motown Records, Warner Music Group, \\u200bindependently popular. & Atlantic RecordsPerformance RightsSongView, BMI & ASCAP', '']\n",
      "date ['December 2, 2016'] chachi\n",
      "producción ['Greg Kurstin'] chachi\n",
      "label ['']\n",
      "date ['February 11, 2016', 'February 11, 2016'] chachi\n",
      "producción ['Kuk Harrell, Ging, Twice as Nice & Mustard'] chachi\n",
      "label ['']\n",
      "date ['January 28, 2016', 'January 28, 2016'] chachi\n",
      "producción ['Diplo, \\u200bbenny blanco, King Henry & Jr. Blender'] chachi\n",
      "label ['']\n",
      "date ['July 22, 2016', 'July 22, 2016'] chachi\n",
      "producción ['Menace'] chachi\n",
      "label ['', '']\n",
      "date ['December 15, 2015'] chachi\n",
      "producción ['Pop & Oak & Sebastian Kole'] chachi\n",
      "label ['']\n",
      "date ['November 13, 2015', 'November 13, 2015'] chachi\n",
      "producción ['Jake Gosling & Teddy Geiger'] chachi\n",
      "label ['']\n",
      "date ['August 18, 2016', 'August 18, 2016'] chachi\n",
      "producción ['Elite & J. Cole'] chachi\n",
      "label ['']\n",
      "date ['December 9, 2016', 'December 9, 2016'] chachi\n",
      "producción ['Sevn Thomas, Allen Ritter, Kuk Harrell, 40 & Boi-1da'] chachi\n",
      "label ['', '']\n",
      "date ['January 27, 2016', 'January 27, 2016'] chachi\n",
      "producción ['P-Money (Producer)'] chachi\n",
      "label ['']\n",
      "date ['July 29, 2016', 'July 29, 2016'] chachi\n",
      "producción ['P-Nasty'] chachi\n",
      "label ['']\n",
      "date ['August 12, 2016'] chachi\n",
      "producción ['The Weeknd, Doc McKinney, Ben Billions, Metro Boomin & Cirkut'] chachi\n",
      "label ['']\n",
      "date ['November 25, 2016', 'November 25, 2016'] chachi\n",
      "producción ['Chris Montan, OAK & Trevorious'] chachi\n",
      "label ['']\n",
      "date ['October 28, 2016', 'October 28, 2016'] chachi\n",
      "producción ['Shellback & Max Martin'] chachi\n",
      "label ['']\n",
      "date ['November 20, 2015', 'November 20, 2015'] chachi\n",
      "producción ['John Ryan & Blake Mills'] chachi\n",
      "label ['']\n",
      "date ['October 7, 2016', 'October 7, 2016'] chachi\n",
      "producción ['\\u200bbenny blanco'] chachi\n",
      "label ['']\n",
      "date ['November 13, 2015', 'November 13, 2015'] chachi\n",
      "producción ['Lil Jay (Crime Mob) & Doc Jam'] chachi\n",
      "label ['Tha Lights Global & Atlantic RecordsPerformance RightsASCAP & BMI', '']\n",
      "date ['July 26, 2016', 'July 26, 2016'] chachi\n",
      "producción ['Metro Boomin'] chachi\n",
      "label ['']\n",
      "date ['September 20, 2015', 'September 20, 2015'] chachi\n",
      "producción ['Bobby Raps, Doc McKinney & Ali Shaheed Muhammad'] chachi\n",
      "label ['']\n",
      "date ['November 25, 2016', 'November 25, 2016'] chachi\n",
      "producción ['The Corporation'] chachi\n",
      "label ['']\n",
      "date ['October 7, 1969', 'October 7, 1969'] chachi\n",
      "producción ['Mattman & Robin'] chachi\n",
      "label ['']\n",
      "date ['September 18, 2015', 'September 18, 2015'] chachi\n",
      "producción ['DaHeala, The Weeknd, Metro Boomin & Ben Billions'] chachi\n",
      "label ['']\n",
      "date ['December 25, 2015', 'December 25, 2015'] chachi\n",
      "producción ['Yung Exclusive, CuBeatz & Cardo'] chachi\n",
      "label ['', '']\n",
      "date ['September 2, 2016', 'September 2, 2016'] chachi\n",
      "producción ['Childish Gambino & Ludwig Göransson'] chachi\n",
      "label ['']\n",
      "date ['November 17, 2016'] chachi\n",
      "producción ['Julian Bunetta, Jay Pryor, Sir Nolan & Steve Aoki'] chachi\n",
      "label ['']\n",
      "date ['December 10, 2016', 'December 10, 2016'] chachi\n",
      "producción ['Quincy Jones & Michael Jackson'] chachi\n",
      "label ['']\n",
      "date ['November 30, 1982', 'November 30, 1982'] chachi\n",
      "producción ['Jack Patterson, Mark Ralph & Steve Mac'] chachi\n",
      "label ['']\n",
      "date ['October 21, 2016', 'October 21, 2016'] chachi\n",
      "producción ['J. Cole, Ging & Cardiak'] chachi\n",
      "label ['']\n",
      "date ['December 9, 2016'] chachi\n",
      "producción ['Tyler Joseph & Ricky Reed'] chachi\n",
      "label ['']\n",
      "date ['May 11, 2015', 'May 11, 2015'] chachi\n",
      "producción ['Johnny Bristol & Harvey Fuqua'] chachi\n",
      "label ['']\n",
      "date [] chachi\n",
      "producción ['Maaly Raw & Don Cannon'] chachi\n",
      "label ['']\n",
      "date ['February 6, 2016', 'February 6, 2016'] chachi\n",
      "producción ['Alex da Kid'] chachi\n",
      "label ['']\n",
      "date ['June 23, 2016', 'June 23, 2016'] chachi\n",
      "producción ['Phonix Beats, J. Cole & DJ Dahi'] chachi\n",
      "label ['']\n",
      "date ['December 9, 2014', 'December 9, 2014'] chachi\n",
      "producción ['Zaytoven, StepBfly & Cassius Jay'] chachi\n",
      "label ['']\n",
      "date ['November 4, 2016'] chachi\n",
      "producción ['The Rudeboyz, Shakira & Maluma'] chachi\n",
      "label ['']\n",
      "date ['October 28, 2016', 'October 28, 2016'] chachi\n",
      "producción ['Mark Foster'] chachi\n",
      "label ['']\n",
      "date ['October 14, 2010', 'October 14, 2010'] chachi\n",
      "producción ['Christoph Andersson, G-Eazy & Rice N’ Peas'] chachi\n",
      "label ['']\n",
      "date ['December 4, 2015', 'December 4, 2015'] chachi\n",
      "producción ['DJ ESCO & Zaytoven'] chachi\n",
      "label ['']\n",
      "date ['June 24, 2016', 'June 24, 2016'] chachi\n",
      "producción ['Big Taste, Gladius, Axident, Ian Kirkpatrick & Joe London'] chachi\n",
      "label ['']\n",
      "date ['October 14, 2016', 'October 14, 2016'] chachi\n",
      "producción ['Martin Terefe & Mike Posner'] chachi\n",
      "label ['']\n",
      "date ['April 14, 2015', 'April 14, 2015'] chachi\n",
      "producción ['Pharrell Williams'] chachi\n",
      "label ['\\u200b iamOTHER, Columbia Records & Sony Music EntertainmentCopyright ©Columbia RecordsPhonographic Copyright ℗Columbia RecordsAssistant Recording EngineerMatthew DesrameauxMastering EngineerGavin LurssenArrangerPharrell Williams, Mike Larson & Andrew ColemanRecording EngineerMike LarsonEditorMike Larson & Andrew ColemanMixing EngineerLeslie Brathwaite', '']\n",
      "date ['November 21, 2013', 'November 21, 2013'] chachi\n",
      "producción ['Mano, Doc McKinney & Cirkut'] chachi\n",
      "label ['']\n",
      "date ['November 25, 2016'] chachi\n",
      "producción ['Ojivolta & Jon Bellion'] chachi\n",
      "label ['']\n",
      "date ['April 14, 2015', 'April 14, 2015'] chachi\n",
      "producción ['The Good Perry'] chachi\n",
      "label ['']\n",
      "date ['August 23, 2015', 'August 23, 2015'] chachi\n",
      "producción ['M.I.A., Switch & Diplo'] chachi\n",
      "label ['']\n",
      "date ['February 11, 2008', 'February 11, 2008'] chachi\n",
      "producción ['Mike Elizondo'] chachi\n",
      "label ['']\n",
      "date ['April 28, 2015'] chachi\n",
      "producción ['Afrojack, Giorgio Tuinfort & David Guetta'] chachi\n",
      "label ['']\n",
      "date ['August 26, 2011', 'August 26, 2011'] chachi\n",
      "producción ['Queen & Roy Thomas Baker'] chachi\n",
      "label ['s.  EMI (and Elektra?) didn’t approve of its release.  But that’s a different story, and Freddie’s sexual “label” was a private, family matter to him, released or hidden in a metaphorical artistic sense?How was the making of this track?Is \"Bohemian Rhapsody\" about a murder and an execution?Do you believe the characters like Galileo for instance were about Brian MayHow did they make the music video?Are the band members still active?What certifications did this track receive?Is there a live performance of this song?A Night at the Opera (1975)Queen1. Death on Two Legs (Dedicated to...)2. Lazing on a Sunday Afternoon3. I’m in Love with My Car4. You’re My Best Friend5. ’396. Sweet Lady7. Seaside Rendezvous8. The Prophet’s Song9. Love of My Life10. Good Company11. Bohemian Rhapsody12. God Save the QueenExpand CreditsProduced ByQueen & Roy Thomas BakerWritten ByFreddie MercuryBass GuitarJohn DeaconElectric GuitarBrian MayBackground VocalsFreddie MercuryEngineerJustin Shirley-Smith, Mike Stone & Gary LyonsMixing EngineerKris FredrikssonMastering EngineerBob LudwigComposerFreddie MercuryVideo CinematographyBruce WorrallVideo DirectorBruce GowersPerformance RightsPRS', '']\n",
      "date ['October 31, 1975', 'October 31, 1975'] chachi\n",
      "producción ['FKi 1st, Cashio, Rex Kudo & Post Malone'] chachi\n",
      "label ['']\n",
      "date ['February 4, 2015', 'February 4, 2015'] chachi\n",
      "producción [] chachi\n",
      "label ['']\n",
      "date ['December 4, 2016', 'December 4, 2016'] chachi\n",
      "producción ['\\u200bbenny blanco & Cashmere Cat'] chachi\n",
      "label ['']\n",
      "date ['September 30, 2016', 'September 30, 2016'] chachi\n",
      "producción [] chachi\n",
      "label ['']\n",
      "date ['October 14, 2015', 'October 14, 2015'] chachi\n",
      "producción ['\\u200bgnash'] chachi\n",
      "label ['Atlantic RecordsPerformance RightsASCAP', '']\n",
      "date ['February 17, 2016', 'February 17, 2016'] chachi\n",
      "producción ['J Gramm'] chachi\n",
      "label ['']\n",
      "date ['June 11, 2016', 'June 11, 2016'] chachi\n",
      "producción ['Fred Ball'] chachi\n",
      "label ['']\n",
      "date ['January 28, 2016', 'January 28, 2016'] chachi\n",
      "producción ['Ron Gilmore, Elite & J. Cole'] chachi\n",
      "label ['']\n",
      "date ['December 9, 2016', 'December 9, 2016'] chachi\n",
      "producción ['Epikh Pro & Dope Boi Beatz'] chachi\n",
      "label ['RCA RecordsPerformance RightsASCAP, BMI & SESAC', '']\n",
      "date ['October 9, 2014', 'October 9, 2014'] chachi\n",
      "producción ['Danny Wolf & Ugly God'] chachi\n",
      "label ['']\n",
      "date ['March 16, 2016', 'March 16, 2016'] chachi\n",
      "producción ['Christopher Bond'] chachi\n",
      "label ['']\n",
      "date ['January 22, 1977'] chachi\n",
      "producción ['Lyle Leduff & Don Cannon'] chachi\n",
      "label ['']\n",
      "date ['July 31, 2016', 'July 31, 2016'] chachi\n",
      "producción ['Geoffro Cause, Flume & De Gasperis Brigante'] chachi\n",
      "label ['']\n",
      "date ['January 16, 2016', 'January 16, 2016'] chachi\n",
      "producción ['Nevada'] chachi\n",
      "label ['']\n",
      "date ['September 23, 2016'] chachi\n",
      "producción ['David Vine & Felix Snow'] chachi\n",
      "label ['']\n",
      "date ['October 25, 2015', 'October 25, 2015'] chachi\n",
      "producción ['Foreign Teck & The MeKanics'] chachi\n",
      "label ['']\n",
      "date ['September 21, 2015', 'September 21, 2015'] chachi\n",
      "producción ['Ryan Lewis'] chachi\n",
      "label ['']\n",
      "date ['August 16, 2011', 'August 16, 2011'] chachi\n",
      "producción ['Daryl Hall & John Oates'] chachi\n",
      "label ['']\n",
      "date ['July 29, 1980'] chachi\n",
      "producción ['Cashmere Cat, Prince 85, Cirkut, The Weeknd & Doc McKinney'] chachi\n",
      "label ['']\n",
      "date ['November 25, 2016'] chachi\n",
      "producción ['Donut & Needlz'] chachi\n",
      "label ['']\n",
      "date ['June 24, 2016'] chachi\n"
     ]
    }
   ],
   "source": [
    "for pagina in almacen_paginas['pagina']:\n",
    "    #print(pagina)\n",
    "    try:\n",
    "        print('producción', re.findall(r'Produced By(.*)Written By?', pagina), 'chachi')\n",
    "        #print(re.findall(r'Licensing(.*)[Distributor|Guest Appearances|Licensing]?', pagina))\n",
    "        print('label', re.findall(r'Label(.*)Publisher|Licensing|Premiere', pagina))\n",
    "        print('date', re.findall(r'Release Date(\\w+ \\d+, \\d+)', pagina), 'chachi')\n",
    "    except:\n",
    "        try:\n",
    "            print(re.findall(r'Produced By?(.*)?Written By?(.*)?Primary Artist?(.*)?Publisher?(.*)Mixing Engineer?(.*)?Release Date(.*)', pagina))\n",
    "        except:\n",
    "            pass\n",
    "    #print(re.findall(r'Produced By?(.*)?Written By?(.*)?Keyboards?(.*)?Video Director?(.*)?Label?(.*)?Vocals?(.*)?Bass Guitar?(.*)?Drums?(.*)?Guitar?(.*)?Recorded At?(.*)?Release Date?(.*)?Songs That?', pagina))"
   ]
  },
  {
   "cell_type": "code",
   "execution_count": 120,
   "metadata": {},
   "outputs": [
    {
     "data": {
      "text/plain": [
       "[('Jack Antonoff',\n",
       "  'Sam Dew, Taylor Swift & Jack Antonoff',\n",
       "  'sTaylor Swift & ZAYNPerformance RightsBMI',\n",
       "  'Sony Music Entertainment, Greyscape Songs, Universal Music Group, Taylor Swift Music, Sony/ATV Tree Publishing, Sony/ATV Ballad & Ducky Donath Music',\n",
       "  'Șerban GheneaVocalsTaylor Swift & ZAYN',\n",
       "  \"December 9, 2016Songs That Sample I Don’t Wanna Live ForeverZAYN & Taylor Swift - I Don't Wanna Live Forever (SING OFF) by\\xa0William\\xa0Singe & Conor MaynardI Don’t Wanna Live Forever CoversI Don’t Wanna Live Forever (Fifty Shades Darker) [Acoustic] by\\xa0Jada\\xa0Facer & NERIAH, I Don't Wanna Live Forever (Cover) by\\xa0JEON\\xa0WOONG (전웅), I Don't Wanna Live Forever by\\xa0Sapphire\\xa0(UK), I Don't Wanna Live Forever by\\xa0RoadTrip, 2017 Mashup by\\xa0Kurt\\xa0Hugo Schneider & Sam Tsui, I Don't Wanna Live Forever by\\xa0Michael\\xa0Constantino (Ft.\\xa0Camila), I Don't Wanna Live Forever by\\xa0Madilyn, I Don’t Wanna Live Forever (CUPS VERSION) by\\xa0Kurt\\xa0Hugo Schneider (Ft.\\xa0Kina\\xa0Grannis, Madilyn & Sam\\xa0Tsui), I Don't Wanna Live Forever by\\xa0Cimorelli, I Don't Wanna Live Forever by\\xa0KIDZ\\xa0BOP Kids, I Don't Wanna Live Forever by\\xa0Boyce\\xa0Avenue, I Don’t Wanna Live Forever by\\xa0Ice\\xa0Nine Kills & I Don't Wanna Live Forever by\\xa0First\\xa0to ElevenI Don’t Wanna Live Forever TranslationsZAYN & Taylor Swift - I Don't Wanna Live Forever (Traducción al Español) by\\xa0Genius\\xa0Traducciones al Español & ZAYN & Taylor Swift - I Don’t Wanna Live Forever (Tradução em Português) by\\xa0Genius\\xa0Brasil TraduçõesView I Don’t Wanna Live Forever samplesTagsR&BPopAlternativeAlternative PopSynth-PopElectro-PopContemporary R&BDuetBalladElectroSoundtrackExpand CommentsSign Up And Drop Knowledge 🤓Genius is the ultimate source of music knowledge, created by scholars like you who share facts and insight about the songs and artists they love.Sign UpGenius is the world’s biggest collection of song lyrics and musical knowledgeAbout GeniusContributor GuidelinesPressShopAdvertisePrivacy PolicyPrivacy PreferencesLicensingJobsDevelopersCopyright PolicyContact UsSign InDo Not Sell My Personal Information© 2023 ML Genius Holdings, LLCTerms of UseVerified ArtistsAll Artists:abcdefghijklmnopqrstuvwxyz#Hot Songs:Shakira: Bzrp Music Sessions, Vol. 53Bizarrap & Shakira - Shakira: Bzrp Music Sessions, Vol. 53 (English Translation)藤井風 (Fujii Kaze) - 死ぬのがいいわ (Shinunoga E-Wa) (Romanized)Kill BillViva la VidaView All\")]"
      ]
     },
     "execution_count": 120,
     "metadata": {},
     "output_type": "execute_result"
    }
   ],
   "source": [
    "re.findall(r'Produced By?(.*)?Written By?(.*)?Primary Artist?(.*)?Publisher?(.*)Mixing Engineer?(.*)?Release Date(.*)', almacen_paginas['pagina'][-2])"
   ]
  },
  {
   "cell_type": "code",
   "execution_count": 115,
   "metadata": {},
   "outputs": [
    {
     "data": {
      "text/plain": [
       "\"\\n\\n\\nZAYN\\xa0& Taylor Swift – I Don't Wanna Live Forever Lyrics | Genius Lyrics\\n\\n\\n\\n\\n\\n\\n\\n\\n\\n\\n\\n\\n\\n\\n\\n\\n\\n\\n\\n\\n\\n\\n\\n\\n\\n\\n\\n\\n\\n\\n\\n\\n\\n\\n\\n\\n\\n\\n\\n\\n\\n\\n\\n\\n\\n\\n\\n\\n\\n\\n\\n\\n\\n\\n\\n\\n\\n\\n\\n\\n\\nFeaturedChartsVideosPromote Your MusicSign UpI Don’t Wanna Live ForeverZAYN & Taylor SwiftTrack 1 on\\xa0Fifty Shades Darker (Original Motion Picture Soundtrack)\\xa0“I Don’t Wanna Live Forever” is a sultry ode about feeling like life is hopeless without an ex-lover, written for the Fifty Shades of Grey sequel, Fifty Shades Darker. The… Read More\\xa0Produced byJack AntonoffRelease DateDecember 9, 2016View All Credits\\xa011M9375TranslationsEnglishPortuguêsI Don’t Wanna Live Forever Lyrics[Verse 1: ZAYN]Been sittin' eyes wide openBehind these four walls, hopin' you'd callIt's just a cruel existenceLike there's no point hopin' at all[Pre-Chorus: ZAYN]Baby, baby, I feel crazyUp all night, all night and every dayGive me somethin', oh, but you say nothin'What is happening to me?[Chorus: ZAYN]I don't wanna live forever'Cause I know I'll be living in vainAnd I don't wanna fit whereverI just wanna keep calling your nameUntil you come back homeI just wanna keep calling your nameUntil you come back homeI just wanna keep calling your nameUntil you come back home[Verse 2: Taylor Swift]I'm sittin' eyes wide openAnd I got one thing stuck in my mindWonderin' if I dodged a bulletOr just lost the love of my life, oh[Pre-Chorus: Taylor Swift]Baby, baby, I feel crazyUp all night, all night and every dayI gave you somethin', but you gave me nothin'What is happening to me?[Chorus: ZAYN, Taylor Swift]I don't wanna live forever'Cause I know I'll be living in vainAnd I don't wanna fit (Fit, babe) wherever (Wherever)I just wanna keep calling your nameUntil you come back homeI just wanna keep calling your nameUntil you come back homeI just wanna keep calling your nameUntil you come back homeYou might also like[Bridge: Taylor Swift, ZAYN, Both]I've been looking sad in all the nicest placesBaby, baby, I feel crazyI see you around in all these empty facesUp all night, all night and every dayI've been looking sad in all the nicest placesGive me somethin', oh, but you say nothin'Now I'm in a cab, I tell 'em where your place isWhat is happening to me?[Chorus: ZAYN]I don't wanna live forever'Cause I know I'll be living in vainAnd I don't wanna fit (Fit) whereverI just wanna keep calling your nameUntil you come back home (Home)I just wanna keep calling your nameUntil you come back home (Back)I just wanna keep calling your nameUntil you come back home[Post-Chorus: ZAYN]I just wanna keep calling your nameUntil you come back home (Back home, until you)I just wanna keep calling your nameUntil you come back home[Outro: Taylor Swift, ZAYN]I just wanna keep callin' your nameUntil you come back homeUntil you come back home75EmbedCancelHow to Format Lyrics:Type out all lyrics, even repeating song parts like the chorusLyrics should be broken down into individual linesUse section headers above different song parts like [Verse], [Chorus], etc.Use italics (<i>lyric</i>) and bold (<b>lyric</b>) to distinguish between different vocalists in the same song partIf you don’t understand a lyric, use [?]To learn more, check out our transcription guide or visit our transcribers forumAboutGenius Annotation7 contributors“I Don’t Wanna Live Forever” is a sultry ode about feeling like life is hopeless without an ex-lover, written for the Fifty Shades of Grey sequel, Fifty Shades Darker. The song is performed as a duet between music sensations ZAYN and Taylor Swift. Swift also co-wrote the song with producers Jack Antonoff and Sam Dew.\\nThe track is Taylor Swift’s first release in 2016 besides singles from her fifth album 1989. Meanwhile, it’s one of many for ZAYN, who dropped his debut album Mind of Mine in March of that year.\\nSwift first revealed the track on her social media accounts, debuting the single art and a clip from the song on Instagram. Zayn later posted a photo on Instagram with Swift under the caption “#IDontWannaLiveForever.”\\nExpand +2261ShareAsk us a question about this songAsk a question *\\u200cTranslationsGenius Answer1 contributor\\nPortuguese Translation\\nSpanish Translation\\nWhat have the artists said about the song?Genius Answer2 contributorsJack Antonoff, the producer and co-writer of this song, said this on Twitter:\\n\\n\\n\\n\\n\\n\\n\\n\\n\\n\\n\\nWhy did they want to sing together?Genius Answer2 contributorsZayn reached out to Swift, asking her to jump on the track. Jack Antonoff, a frequent producer and co-writer for Swift, played her the track, and she “really liked it and….went in the studio the next day,” providing her vocals for the song.Behind The ScenesWhat certifications has the single received?Fifty Shades Darker (Original Motion Picture Soundtrack) (2017)Various Artists1. I Don’t Wanna Live Forever2. Not Afraid Anymore3. Pray4. Lies in the Dark5. No Running from Me6. One Woman Man7. Code Blue8. Bom Bidi Bom9. Helium10. Cruise11. The Scientist12. They Can’t Take That Away from Me13. Birthday14. I Need a Good One15. Empty Pack of Cigarettes16. What Would It Take17. What Is Love?18. On His Knees19. Making It Real20. Kiss MeExpand CreditsProduced ByJack AntonoffWritten BySam Dew, Taylor Swift & Jack AntonoffPrimary ArtistsTaylor Swift & ZAYNPerformance RightsBMIPublisherSony Music Entertainment, Greyscape Songs, Universal Music Group, Taylor Swift Music, Sony/ATV Tree Publishing, Sony/ATV Ballad & Ducky Donath MusicMixing EngineerȘerban GheneaVocalsTaylor Swift & ZAYNRelease DateDecember 9, 2016Songs That Sample I Don’t Wanna Live ForeverZAYN & Taylor Swift - I Don't Wanna Live Forever (SING OFF) by\\xa0William\\xa0Singe & Conor MaynardI Don’t Wanna Live Forever CoversI Don’t Wanna Live Forever (Fifty Shades Darker) [Acoustic] by\\xa0Jada\\xa0Facer & NERIAH, I Don't Wanna Live Forever (Cover) by\\xa0JEON\\xa0WOONG (전웅), I Don't Wanna Live Forever by\\xa0Sapphire\\xa0(UK), I Don't Wanna Live Forever by\\xa0RoadTrip, 2017 Mashup by\\xa0Kurt\\xa0Hugo Schneider & Sam Tsui, I Don't Wanna Live Forever by\\xa0Michael\\xa0Constantino (Ft.\\xa0Camila), I Don't Wanna Live Forever by\\xa0Madilyn, I Don’t Wanna Live Forever (CUPS VERSION) by\\xa0Kurt\\xa0Hugo Schneider (Ft.\\xa0Kina\\xa0Grannis, Madilyn & Sam\\xa0Tsui), I Don't Wanna Live Forever by\\xa0Cimorelli, I Don't Wanna Live Forever by\\xa0KIDZ\\xa0BOP Kids, I Don't Wanna Live Forever by\\xa0Boyce\\xa0Avenue, I Don’t Wanna Live Forever by\\xa0Ice\\xa0Nine Kills & I Don't Wanna Live Forever by\\xa0First\\xa0to ElevenI Don’t Wanna Live Forever TranslationsZAYN & Taylor Swift - I Don't Wanna Live Forever (Traducción al Español) by\\xa0Genius\\xa0Traducciones al Español & ZAYN & Taylor Swift - I Don’t Wanna Live Forever (Tradução em Português) by\\xa0Genius\\xa0Brasil TraduçõesView I Don’t Wanna Live Forever samplesTagsR&BPopAlternativeAlternative PopSynth-PopElectro-PopContemporary R&BDuetBalladElectroSoundtrackExpand CommentsSign Up And Drop Knowledge 🤓Genius is the ultimate source of music knowledge, created by scholars like you who share facts and insight about the songs and artists they love.Sign UpGenius is the world’s biggest collection of song lyrics and musical knowledgeAbout GeniusContributor GuidelinesPressShopAdvertisePrivacy PolicyPrivacy PreferencesLicensingJobsDevelopersCopyright PolicyContact UsSign InDo Not Sell My Personal Information© 2023 ML Genius Holdings, LLCTerms of UseVerified ArtistsAll Artists:abcdefghijklmnopqrstuvwxyz#Hot Songs:Shakira: Bzrp Music Sessions, Vol. 53Bizarrap & Shakira - Shakira: Bzrp Music Sessions, Vol. 53 (English Translation)藤井風 (Fujii Kaze) - 死ぬのがいいわ (Shinunoga E-Wa) (Romanized)Kill BillViva la VidaView All\\n\\n\\n\\n\\n\\n\\n\\n\\n\\n\\n\\n\\n\\n\\n\\n\\n\\n\\n\\n\""
      ]
     },
     "execution_count": 115,
     "metadata": {},
     "output_type": "execute_result"
    }
   ],
   "source": [
    "almacen_paginas['pagina'][-2]"
   ]
  },
  {
   "cell_type": "code",
   "execution_count": 96,
   "metadata": {},
   "outputs": [
    {
     "data": {
      "text/plain": [
       "[]"
      ]
     },
     "execution_count": 96,
     "metadata": {},
     "output_type": "execute_result"
    }
   ],
   "source": [
    "re.findall(r'Produced By(.*)Written By(.*)Keyboards(.*)Video Director(.*)Label(.*)Vocals(.*)Bass Guitar(.*)Drums(.*)Guitar(.*)Recorded At(.*)Release Date(.*)Songs That', pagina)\n",
    "#Lyrics(.*)Produced By(.*)Written By(.*)Keyboards(.*)Video Director(.*)Label(.*)Vocals(.*)Bass Guitar(.*)Drums(.*)Guitar(.*)Recorded At(.*)Release Date(.*)Songs', almacen_paginas['pagina'][-1])"
   ]
  },
  {
   "cell_type": "code",
   "execution_count": null,
   "metadata": {},
   "outputs": [],
   "source": []
  },
  {
   "cell_type": "code",
   "execution_count": 61,
   "metadata": {},
   "outputs": [
    {
     "data": {
      "text/plain": [
       "'[Intro]Oh, heyOh, oh heyOh, oh, oh heyUh oh, uh oh[Chorus: Adam Levine]I don\\'t wanna know, know, know, knowWho\\'s taking you home, home, home, homeAnd loving you so, so, so, soThe way I used to love you, noI don\\'t wanna know, know, know, knowWho\\'s taking you home, home, home, homeAnd loving you so, so, so, soThe way I used to love you, ohI don\\'t wanna know[Verse 1: Adam Levine]Wasted (Wasted)And the more I drink, the more I think about youOh, no, no, I can\\'t take itBaby, every place I go reminds me of you[Pre-Chorus: Adam Levine]Do you think of me? Of what we used to be?Is it better now that I\\'m not around?My friends are actin\\' strange, they don\\'t bring up your nameAre you happy now?Are you happy now?[Chorus: Adam Levine]I don\\'t wanna know, know, know, knowWho\\'s taking you home, home, home, homeAnd loving you so, so, so, soThe way I used to love you, noI don\\'t wanna know, know, know, knowWho\\'s taking you home, home, home, homeAnd loving you so, so, so, soThe way I used to love you, ohI don\\'t wanna know[Verse 2: Adam Levine]And every time I go out, yeahI hear it from this one, hear it from that oneThat you got someone newYeah, I see, but don\\'t believe itEven in my head, you\\'re still in my bedMaybe I\\'m just a foolYou might also like[Pre-Chorus: Adam Levine]Do you think of me? Of what we used to be? (What we used to be)Is it better now that I\\'m not around? (That I\\'m not around)My friends are actin\\' strange (Yeah), they don\\'t bring up your name (Hmm)Are you happy now? (Hmm)Are you happy now?[Chorus: Adam Levine]I don\\'t wanna know, know, know, knowWho\\'s taking you home, home, home, homeAnd loving you so, so, so, soThe way I used to love you, noI don\\'t wanna know, know, know, knowWho\\'s taking you home, home, home, homeAnd loving you so, so, so, soThe way I used to love you, ohI don\\'t wanna know(Oh hey)[Verse 3: Kendrick Lamar]No more \"please, stop\"No more hashtag boo\\'d up screenshotsNo more tryin\\' to make me jealous on your birthdayYou know just how I made you better on your birthday, ohDo he do you like this? Do he woo you like this?Do he lay it down for you, touch your poona like this?Matter fact, never mind, we\\'ll let the past beMay be his right now, but your body\\'s still me, whoa[Chorus: Adam Levine]I don\\'t wanna know, know, know, knowWho\\'s taking you home, home, home, homeAnd loving you so, so, so, soThe way I used to love you, noI don\\'t wanna know, know, know, knowWho\\'s taking you home, home, home, homeAnd loving you so, so, so, soThe way I used to love you, ohI don\\'t wanna know, know, know, knowWho\\'s taking you home, home, home, homeAnd loving you so, so, so, soThe way I used to love you, oh (The way I used to love you)I don\\'t wanna know, know, know, know (You)Who\\'s taking you home, home, home, home (You)And loving you so, so, so, soThe way I used to love you, ohI don\\'t wanna know[Outro]Oh heyOh, oh heyOh, oh, oh heyUh oh, uh oh72EmbedCancelHow to Format Lyrics:Type out all lyrics, even repeating song parts like the chorusLyrics should be broken down into individual linesUse section headers above different song parts like [Verse], [Chorus], etc.Use italics (<i>lyric</i>) and bold (<b>lyric</b>) to distinguish between different vocalists in the same song partIf you don’t understand a lyric, use [?]To learn more, check out our transcription guide or visit our transcribers forumAboutGenius Annotation8 contributors“Don’t Wanna Know” is a song about past lovers. Adam focuses on not wanting to know what his ex-lover has been up to or who she’s been with since they broke up, while Kendrick shows his ex what she’s been missing.'"
      ]
     },
     "execution_count": 61,
     "metadata": {},
     "output_type": "execute_result"
    }
   ],
   "source": [
    "re.findall(r'Lyrics(.*)', pagina)[1]\n",
    "#Lyrics(.*)Produced By(.*)Written By(.*)Keyboards(.*)Video Director(.*)Label(.*)Vocals(.*)Bass Guitar(.*)Drums(.*)Guitar(.*)Recorded At(.*)Release Date(.*)Songs', almacen_paginas['pagina'][-1])"
   ]
  },
  {
   "cell_type": "code",
   "execution_count": 55,
   "metadata": {},
   "outputs": [
    {
     "data": {
      "text/plain": [
       "['Kendrick Lamar', 'Kendrick Lamar']"
      ]
     },
     "execution_count": 55,
     "metadata": {},
     "output_type": "execute_result"
    }
   ],
   "source": [
    "re.findall(r'Featuring(\\w+\\s+?\\w+?)Produced', almacen_paginas['pagina'][-1])"
   ]
  },
  {
   "cell_type": "code",
   "execution_count": 57,
   "metadata": {},
   "outputs": [
    {
     "data": {
      "text/plain": [
       "['\\u200bbenny blanco, Alex Ben-Abdallah, Noah Passovoy & ARCADE']"
      ]
     },
     "execution_count": 57,
     "metadata": {},
     "output_type": "execute_result"
    }
   ],
   "source": [
    "re.findall(r'Produced By(.*)Written By', almacen_paginas['pagina'][-1])"
   ]
  },
  {
   "cell_type": "code",
   "execution_count": 52,
   "metadata": {},
   "outputs": [
    {
     "data": {
      "text/plain": [
       "['John Ryan, Kurtis McKenzie, Adam Levine, Alex Ben-Abdallah, Ammar Malik, \\u200bbenny blanco, Jacob Kasher, J Mills & Kendrick Lamar']"
      ]
     },
     "execution_count": 52,
     "metadata": {},
     "output_type": "execute_result"
    }
   ],
   "source": [
    "re.findall(r'Written By(.*)Keyboards', almacen_paginas['pagina'][-1])"
   ]
  },
  {
   "cell_type": "code",
   "execution_count": 20,
   "metadata": {},
   "outputs": [
    {
     "data": {
      "text/plain": [
       "\"Kendrick LamarProduced By\\u200bbenny blanco, Alex Ben-Abdallah, Noah Passovoy & ARCADEWritten ByJohn Ryan, Kurtis McKenzie, Adam Levine, Alex Ben-Abdallah, Ammar Malik, \\u200bbenny blanco, Jacob Kasher, J Mills & Kendrick LamarKeyboardsPJ MortonVideo DirectorDavid DobkinLabelTop Dawg Entertainment, Aftermath, Friends Keep Secrets, Interscope Records & 222 RecordsVocalsKendrick Lamar & Adam LevineBass GuitarMickey MaddenDrumsMatt FlynnGuitarJames ValentineRecorded AtConway Recording Studios, Glenwood Recording Studios, Matzah Ball Studios, Innr Chld StudiosRelease DateOctober 12, 2016Songs That Sample Don’t Wanna KnowWho U Came With (Remix) by\\xa0Armaan\\xa0MashupsSongs That Interpolate Don’t Wanna KnowDon’t Wanna Know (Solo Version) by\\xa0Maroon\\xa05Don’t Wanna Know CoversDon't Wanna Know by\\xa0Sapphire\\xa0(UK), 2016 Mashup by\\xa0Kurt\\xa0Hugo Schneider & Sam Tsui, Don't Wanna Know by\\xa0Michael\\xa0Constantino, Don't Wanna Know by\\xa0Emma\\xa0Heesters, Don't Wanna Know by\\xa0Maddie\\xa0Wilson (Ft.\\xa0Madilyn\\xa0Paige), Maroon 5 VS Charlie Puth by\\xa0Kurt\\xa0Hugo Schneider (Ft.\\xa0Fly\\xa0By Midnight) & Don't Wanna Know by\\xa0Fly\\xa0By Midnight (Ft.\\xa0Brielle\\xa0Von Hugel)Don’t Wanna Know RemixesDon't Wanna Know (BRAVVO Remix) by\\xa0Maroon\\xa05 (Ft.\\xa0Kendrick\\xa0Lamar), Don't Wanna Know (Extended Version) by\\xa0Maroon\\xa05 (Ft.\\xa0Kendrick\\xa0Lamar), Don't Wanna Know (Total Ape Remix) by\\xa0Maroon\\xa05 (Ft.\\xa0Kendrick\\xa0Lamar), Don't Wanna Know (Fareoh Remix) by\\xa0Maroon\\xa05 (Ft.\\xa0Kendrick\\xa0Lamar) & Don't Wanna Know (Ryan Riback Remix) by\\xa0Maroon\\xa05 (Ft.\\xa0Kendrick\\xa0Lamar)Don’t Wanna Know TranslationsMaroon 5 - Don't Wanna Know ft. Kendrick Lamar (Tradução em Português) by\\xa0Genius\\xa0Brasil TraduçõesView Don’t Wanna Know samplesTagsRapPopTropical HouseExpand CommentsSign Up And Drop Knowledge 🤓Genius is the ultimate source of music knowledge, created by scholars like you who share facts and insight about the songs and artists they love.Sign UpGenius is the world’s biggest collection of song lyrics and musical knowledgeAbout GeniusContributor GuidelinesPressShopAdvertisePrivacy PolicyPrivacy PreferencesLicensingJobsDevelopersCopyright PolicyContact UsSign InDo Not Sell My Personal Information© 2023 ML Genius Holdings, LLCTerms of UseVerified ArtistsAll Artists:abcdefghijklmnopqrstuvwxyz#Hot Songs:ジェンガ (Jenga)アイタリナイ (aitarinai)テレパス (Telepath)いちごいちえ Celebration (Ichigo Ichi e Celebration)ばーか。(Baka) (Kokyuu Version)View All\""
      ]
     },
     "execution_count": 20,
     "metadata": {},
     "output_type": "execute_result"
    }
   ],
   "source": [
    "re.findall(r'Featuring(.*)', almacen_paginas['pagina'][-1])[1]"
   ]
  },
  {
   "cell_type": "code",
   "execution_count": null,
   "metadata": {},
   "outputs": [],
   "source": [
    "tracks"
   ]
  },
  {
   "cell_type": "code",
   "execution_count": null,
   "metadata": {},
   "outputs": [],
   "source": [
    "urls = []\n",
    "for index, row in tracks.iterrows():\n",
    "    urls.append(f\"https://genius.com/{row['artist'].split(',')[0].replace(' ','-')}-{row['track'].replace(' ','-')}\")\n",
    "urls[10:15]"
   ]
  },
  {
   "attachments": {},
   "cell_type": "markdown",
   "metadata": {},
   "source": [
    "# test"
   ]
  },
  {
   "cell_type": "code",
   "execution_count": 47,
   "metadata": {},
   "outputs": [],
   "source": [
    "genius_search_url = f\"http://api.genius.com/search?q={'drake one love'}&access_token={token}\""
   ]
  },
  {
   "cell_type": "code",
   "execution_count": 44,
   "metadata": {},
   "outputs": [],
   "source": [
    "response = requests.get(genius_search_url)\n",
    "json_data = response.json()"
   ]
  },
  {
   "cell_type": "code",
   "execution_count": 45,
   "metadata": {},
   "outputs": [
    {
     "data": {
      "text/plain": [
       "{'meta': {'status': 200},\n",
       " 'response': {'hits': [{'highlights': [],\n",
       "    'index': 'song',\n",
       "    'type': 'song',\n",
       "    'result': {'annotation_count': 1,\n",
       "     'api_path': '/songs/4329719',\n",
       "     'artist_names': 'Union Jack',\n",
       "     'full_title': \"Don't Test Me by\\xa0Union\\xa0Jack\",\n",
       "     'header_image_thumbnail_url': 'https://images.genius.com/41006413d9d2672bdea99e9f05b2ca06.300x310x1.png',\n",
       "     'header_image_url': 'https://images.genius.com/41006413d9d2672bdea99e9f05b2ca06.496x512x1.png',\n",
       "     'id': 4329719,\n",
       "     'language': 'en',\n",
       "     'lyrics_owner_id': 7970562,\n",
       "     'lyrics_state': 'complete',\n",
       "     'path': '/Union-jack-dont-test-me-lyrics',\n",
       "     'pyongs_count': None,\n",
       "     'relationships_index_url': 'https://genius.com/Union-jack-dont-test-me-sample',\n",
       "     'release_date_components': {'year': 2018, 'month': 11, 'day': 1},\n",
       "     'release_date_for_display': 'November 1, 2018',\n",
       "     'release_date_with_abbreviated_month_for_display': 'Nov. 1, 2018',\n",
       "     'song_art_image_thumbnail_url': 'https://images.genius.com/41006413d9d2672bdea99e9f05b2ca06.300x310x1.png',\n",
       "     'song_art_image_url': 'https://images.genius.com/41006413d9d2672bdea99e9f05b2ca06.496x512x1.png',\n",
       "     'stats': {'unreviewed_annotations': 1, 'hot': False},\n",
       "     'title': 'Don’t Test Me',\n",
       "     'title_with_featured': \"Don't Test Me\",\n",
       "     'url': 'https://genius.com/Union-jack-dont-test-me-lyrics',\n",
       "     'featured_artists': [],\n",
       "     'primary_artist': {'api_path': '/artists/381227',\n",
       "      'header_image_url': 'https://assets.genius.com/images/default_avatar_300.png?1673384758',\n",
       "      'id': 381227,\n",
       "      'image_url': 'https://assets.genius.com/images/default_avatar_300.png?1673384758',\n",
       "      'is_meme_verified': False,\n",
       "      'is_verified': False,\n",
       "      'name': 'Union Jack',\n",
       "      'url': 'https://genius.com/artists/Union-jack'}}},\n",
       "   {'highlights': [],\n",
       "    'index': 'song',\n",
       "    'type': 'song',\n",
       "    'result': {'annotation_count': 0,\n",
       "     'api_path': '/songs/4135338',\n",
       "     'artist_names': 'Philthy Rich',\n",
       "     'full_title': 'Interlude M.A.C #3 by\\xa0Philthy\\xa0Rich',\n",
       "     'header_image_thumbnail_url': 'https://images.genius.com/4b47b68360dac3b50315c2d634ecaf4b.300x300x1.jpg',\n",
       "     'header_image_url': 'https://images.genius.com/4b47b68360dac3b50315c2d634ecaf4b.939x939x1.jpg',\n",
       "     'id': 4135338,\n",
       "     'language': 'en',\n",
       "     'lyrics_owner_id': 2976672,\n",
       "     'lyrics_state': 'complete',\n",
       "     'path': '/Philthy-rich-interlude-mac-3-lyrics',\n",
       "     'pyongs_count': None,\n",
       "     'relationships_index_url': 'https://genius.com/Philthy-rich-interlude-mac-3-sample',\n",
       "     'release_date_components': {'year': 2018, 'month': 12, 'day': 7},\n",
       "     'release_date_for_display': 'December 7, 2018',\n",
       "     'release_date_with_abbreviated_month_for_display': 'Dec. 7, 2018',\n",
       "     'song_art_image_thumbnail_url': 'https://images.genius.com/4b47b68360dac3b50315c2d634ecaf4b.300x300x1.jpg',\n",
       "     'song_art_image_url': 'https://images.genius.com/4b47b68360dac3b50315c2d634ecaf4b.939x939x1.jpg',\n",
       "     'stats': {'unreviewed_annotations': 0, 'hot': False},\n",
       "     'title': 'Interlude M.A.C #3',\n",
       "     'title_with_featured': 'Interlude M.A.C #3',\n",
       "     'url': 'https://genius.com/Philthy-rich-interlude-mac-3-lyrics',\n",
       "     'featured_artists': [],\n",
       "     'primary_artist': {'api_path': '/artists/29745',\n",
       "      'header_image_url': 'https://images.genius.com/c2cfa1349e2972ca1514b40ef2d09bed.1000x998x1.jpg',\n",
       "      'id': 29745,\n",
       "      'image_url': 'https://images.genius.com/afd833f9ae9bc564e41ff3a4f4898b8c.598x598x1.jpg',\n",
       "      'is_meme_verified': False,\n",
       "      'is_verified': False,\n",
       "      'name': 'Philthy Rich',\n",
       "      'url': 'https://genius.com/artists/Philthy-rich'}}},\n",
       "   {'highlights': [],\n",
       "    'index': 'song',\n",
       "    'type': 'song',\n",
       "    'result': {'annotation_count': 0,\n",
       "     'api_path': '/songs/6650090',\n",
       "     'artist_names': 'Genius Romanizations',\n",
       "     'full_title': 'TOMORROW X TOGETHER - Angel Or Devil (Japanese Version) [Romanized] by\\xa0Genius\\xa0Romanizations',\n",
       "     'header_image_thumbnail_url': 'https://images.genius.com/76434b5f3976e18d1139448c2735bd62.300x300x1.jpg',\n",
       "     'header_image_url': 'https://images.genius.com/76434b5f3976e18d1139448c2735bd62.1000x1000x1.jpg',\n",
       "     'id': 6650090,\n",
       "     'language': 'romanization',\n",
       "     'lyrics_owner_id': 13027162,\n",
       "     'lyrics_state': 'complete',\n",
       "     'path': '/Genius-romanizations-tomorrow-x-together-angel-or-devil-japanese-version-romanized-lyrics',\n",
       "     'pyongs_count': None,\n",
       "     'relationships_index_url': 'https://genius.com/Genius-romanizations-tomorrow-x-together-angel-or-devil-japanese-version-romanized-sample',\n",
       "     'release_date_components': {'year': 2020, 'month': 1, 'day': 14},\n",
       "     'release_date_for_display': 'January 14, 2020',\n",
       "     'release_date_with_abbreviated_month_for_display': 'Jan. 14, 2020',\n",
       "     'song_art_image_thumbnail_url': 'https://images.genius.com/76434b5f3976e18d1139448c2735bd62.300x300x1.jpg',\n",
       "     'song_art_image_url': 'https://images.genius.com/76434b5f3976e18d1139448c2735bd62.1000x1000x1.jpg',\n",
       "     'stats': {'unreviewed_annotations': 0, 'hot': False},\n",
       "     'title': 'TOMORROW X TOGETHER - Angel Or Devil (Japanese Version) [Romanized]',\n",
       "     'title_with_featured': 'TOMORROW X TOGETHER - Angel Or Devil (Japanese Version) [Romanized]',\n",
       "     'url': 'https://genius.com/Genius-romanizations-tomorrow-x-together-angel-or-devil-japanese-version-romanized-lyrics',\n",
       "     'featured_artists': [],\n",
       "     'primary_artist': {'api_path': '/artists/1507735',\n",
       "      'header_image_url': 'https://images.genius.com/d1bd81b4e1111bb99768ade045b4046a.1000x495x1.png',\n",
       "      'id': 1507735,\n",
       "      'image_url': 'https://images.genius.com/aa42718e332e97c60273b466ef6dc987.999x999x1.png',\n",
       "      'is_meme_verified': False,\n",
       "      'is_verified': False,\n",
       "      'name': 'Genius Romanizations',\n",
       "      'url': 'https://genius.com/artists/Genius-romanizations'}}},\n",
       "   {'highlights': [],\n",
       "    'index': 'song',\n",
       "    'type': 'song',\n",
       "    'result': {'annotation_count': 0,\n",
       "     'api_path': '/songs/7838272',\n",
       "     'artist_names': 'Drake White',\n",
       "     'full_title': 'The One That Loves You Girl by\\xa0Drake\\xa0White',\n",
       "     'header_image_thumbnail_url': 'https://images.genius.com/8b4a5f83704620390b66ecccfaaabb08.300x300x1.jpg',\n",
       "     'header_image_url': 'https://images.genius.com/8b4a5f83704620390b66ecccfaaabb08.667x667x1.jpg',\n",
       "     'id': 7838272,\n",
       "     'language': 'en',\n",
       "     'lyrics_owner_id': 12408240,\n",
       "     'lyrics_state': 'complete',\n",
       "     'path': '/Drake-white-the-one-that-loves-you-girl-lyrics',\n",
       "     'pyongs_count': None,\n",
       "     'relationships_index_url': 'https://genius.com/Drake-white-the-one-that-loves-you-girl-sample',\n",
       "     'release_date_components': None,\n",
       "     'release_date_for_display': None,\n",
       "     'release_date_with_abbreviated_month_for_display': None,\n",
       "     'song_art_image_thumbnail_url': 'https://images.genius.com/8b4a5f83704620390b66ecccfaaabb08.300x300x1.jpg',\n",
       "     'song_art_image_url': 'https://images.genius.com/8b4a5f83704620390b66ecccfaaabb08.667x667x1.jpg',\n",
       "     'stats': {'unreviewed_annotations': 0, 'hot': False},\n",
       "     'title': 'The One That Loves You Girl',\n",
       "     'title_with_featured': 'The One That Loves You Girl',\n",
       "     'url': 'https://genius.com/Drake-white-the-one-that-loves-you-girl-lyrics',\n",
       "     'featured_artists': [],\n",
       "     'primary_artist': {'api_path': '/artists/359289',\n",
       "      'header_image_url': 'https://images.genius.com/a8dd4fcea563c105910545c8692ee450.1000x667x1.jpg',\n",
       "      'id': 359289,\n",
       "      'image_url': 'https://images.genius.com/8b4a5f83704620390b66ecccfaaabb08.667x667x1.jpg',\n",
       "      'is_meme_verified': False,\n",
       "      'is_verified': False,\n",
       "      'name': 'Drake White',\n",
       "      'url': 'https://genius.com/artists/Drake-white'}}},\n",
       "   {'highlights': [],\n",
       "    'index': 'song',\n",
       "    'type': 'song',\n",
       "    'result': {'annotation_count': 0,\n",
       "     'api_path': '/songs/4789356',\n",
       "     'artist_names': 'Jeff the Diss Rapper',\n",
       "     'full_title': 'No one loves you (Drake Diss) by\\xa0Jeff\\xa0the Diss Rapper',\n",
       "     'header_image_thumbnail_url': 'https://assets.genius.com/images/default_cover_image.png?1673384758',\n",
       "     'header_image_url': 'https://assets.genius.com/images/default_cover_image.png?1673384758',\n",
       "     'id': 4789356,\n",
       "     'language': 'en',\n",
       "     'lyrics_owner_id': 7030490,\n",
       "     'lyrics_state': 'complete',\n",
       "     'path': '/Jeff-the-diss-rapper-no-one-loves-you-drake-diss-lyrics',\n",
       "     'pyongs_count': None,\n",
       "     'relationships_index_url': 'https://genius.com/Jeff-the-diss-rapper-no-one-loves-you-drake-diss-sample',\n",
       "     'release_date_components': {'year': 2019, 'month': 8, 'day': 15},\n",
       "     'release_date_for_display': 'August 15, 2019',\n",
       "     'release_date_with_abbreviated_month_for_display': 'Aug. 15, 2019',\n",
       "     'song_art_image_thumbnail_url': 'https://assets.genius.com/images/default_cover_image.png?1673384758',\n",
       "     'song_art_image_url': 'https://assets.genius.com/images/default_cover_image.png?1673384758',\n",
       "     'stats': {'unreviewed_annotations': 0, 'hot': False},\n",
       "     'title': 'No one loves you (Drake Diss)',\n",
       "     'title_with_featured': 'No one loves you (Drake Diss)',\n",
       "     'url': 'https://genius.com/Jeff-the-diss-rapper-no-one-loves-you-drake-diss-lyrics',\n",
       "     'featured_artists': [],\n",
       "     'primary_artist': {'api_path': '/artists/1920300',\n",
       "      'header_image_url': 'https://assets.genius.com/images/default_avatar_300.png?1673384758',\n",
       "      'id': 1920300,\n",
       "      'image_url': 'https://assets.genius.com/images/default_avatar_300.png?1673384758',\n",
       "      'is_meme_verified': False,\n",
       "      'is_verified': False,\n",
       "      'name': 'Jeff the Diss Rapper',\n",
       "      'url': 'https://genius.com/artists/Jeff-the-diss-rapper'}}},\n",
       "   {'highlights': [],\n",
       "    'index': 'song',\n",
       "    'type': 'song',\n",
       "    'result': {'annotation_count': 5,\n",
       "     'api_path': '/songs/2954985',\n",
       "     'artist_names': 'Natalia moreno',\n",
       "     'full_title': 'Top 5 Jams In 2016 by\\xa0Natalia\\xa0moreno',\n",
       "     'header_image_thumbnail_url': 'https://images.rapgenius.com/3b4e501efa5af6642e9f15e1452b8026.300x300x1.jpg',\n",
       "     'header_image_url': 'https://images.rapgenius.com/3b4e501efa5af6642e9f15e1452b8026.600x600x1.jpg',\n",
       "     'id': 2954985,\n",
       "     'language': 'en',\n",
       "     'lyrics_owner_id': 3917514,\n",
       "     'lyrics_state': 'complete',\n",
       "     'path': '/Natalia-moreno-top-5-jams-in-2016-annotated',\n",
       "     'pyongs_count': None,\n",
       "     'relationships_index_url': 'https://genius.com/Natalia-moreno-top-5-jams-in-2016-sample',\n",
       "     'release_date_components': None,\n",
       "     'release_date_for_display': None,\n",
       "     'release_date_with_abbreviated_month_for_display': None,\n",
       "     'song_art_image_thumbnail_url': 'https://images.rapgenius.com/3b4e501efa5af6642e9f15e1452b8026.300x300x1.jpg',\n",
       "     'song_art_image_url': 'https://images.rapgenius.com/3b4e501efa5af6642e9f15e1452b8026.600x600x1.jpg',\n",
       "     'stats': {'unreviewed_annotations': 5, 'hot': False},\n",
       "     'title': 'Top 5 Jams In 2016',\n",
       "     'title_with_featured': 'Top 5 Jams In 2016',\n",
       "     'url': 'https://genius.com/Natalia-moreno-top-5-jams-in-2016-annotated',\n",
       "     'featured_artists': [],\n",
       "     'primary_artist': {'api_path': '/artists/216988',\n",
       "      'header_image_url': 'https://assets.genius.com/images/default_avatar_300.png?1673384758',\n",
       "      'id': 216988,\n",
       "      'image_url': 'https://assets.genius.com/images/default_avatar_300.png?1673384758',\n",
       "      'is_meme_verified': False,\n",
       "      'is_verified': False,\n",
       "      'name': 'Natalia moreno',\n",
       "      'url': 'https://genius.com/artists/Natalia-moreno'}}},\n",
       "   {'highlights': [],\n",
       "    'index': 'song',\n",
       "    'type': 'song',\n",
       "    'result': {'annotation_count': 0,\n",
       "     'api_path': '/songs/3590566',\n",
       "     'artist_names': 'Scuffed Lizard',\n",
       "     'full_title': 'HENTAI by\\xa0Scuffed\\xa0Lizard',\n",
       "     'header_image_thumbnail_url': 'https://assets.genius.com/images/default_cover_image.png?1673384758',\n",
       "     'header_image_url': 'https://assets.genius.com/images/default_cover_image.png?1673384758',\n",
       "     'id': 3590566,\n",
       "     'language': 'en',\n",
       "     'lyrics_owner_id': 5589854,\n",
       "     'lyrics_state': 'complete',\n",
       "     'path': '/Scuffed-lizard-hentai-lyrics',\n",
       "     'pyongs_count': None,\n",
       "     'relationships_index_url': 'https://genius.com/Scuffed-lizard-hentai-sample',\n",
       "     'release_date_components': None,\n",
       "     'release_date_for_display': None,\n",
       "     'release_date_with_abbreviated_month_for_display': None,\n",
       "     'song_art_image_thumbnail_url': 'https://assets.genius.com/images/default_cover_image.png?1673384758',\n",
       "     'song_art_image_url': 'https://assets.genius.com/images/default_cover_image.png?1673384758',\n",
       "     'stats': {'unreviewed_annotations': 0, 'hot': False},\n",
       "     'title': 'HENTAI',\n",
       "     'title_with_featured': 'HENTAI',\n",
       "     'url': 'https://genius.com/Scuffed-lizard-hentai-lyrics',\n",
       "     'featured_artists': [],\n",
       "     'primary_artist': {'api_path': '/artists/1423426',\n",
       "      'header_image_url': 'https://assets.genius.com/images/default_avatar_300.png?1673384758',\n",
       "      'id': 1423426,\n",
       "      'image_url': 'https://assets.genius.com/images/default_avatar_300.png?1673384758',\n",
       "      'is_meme_verified': False,\n",
       "      'is_verified': False,\n",
       "      'name': 'Scuffed Lizard',\n",
       "      'url': 'https://genius.com/artists/Scuffed-lizard'}}},\n",
       "   {'highlights': [],\n",
       "    'index': 'song',\n",
       "    'type': 'song',\n",
       "    'result': {'annotation_count': 12,\n",
       "     'api_path': '/songs/2314278',\n",
       "     'artist_names': 'Genius',\n",
       "     'full_title': 'Most Quotable Lyrics From What A Time To Be Alive by\\xa0Genius',\n",
       "     'header_image_thumbnail_url': 'https://images.rapgenius.com/fa6a57b190e80cbbe6fccf582594be36.300x299x1.png',\n",
       "     'header_image_url': 'https://images.rapgenius.com/fa6a57b190e80cbbe6fccf582594be36.657x655x1.png',\n",
       "     'id': 2314278,\n",
       "     'language': 'en',\n",
       "     'lyrics_owner_id': 127862,\n",
       "     'lyrics_state': 'complete',\n",
       "     'path': '/Genius-most-quotable-lyrics-from-what-a-time-to-be-alive-annotated',\n",
       "     'pyongs_count': 18,\n",
       "     'relationships_index_url': 'https://genius.com/Genius-most-quotable-lyrics-from-what-a-time-to-be-alive-sample',\n",
       "     'release_date_components': {'year': 2015, 'month': 9, 'day': 28},\n",
       "     'release_date_for_display': 'September 28, 2015',\n",
       "     'release_date_with_abbreviated_month_for_display': 'Sep. 28, 2015',\n",
       "     'song_art_image_thumbnail_url': 'https://images.rapgenius.com/fa6a57b190e80cbbe6fccf582594be36.300x299x1.png',\n",
       "     'song_art_image_url': 'https://images.rapgenius.com/fa6a57b190e80cbbe6fccf582594be36.657x655x1.png',\n",
       "     'stats': {'unreviewed_annotations': 0, 'hot': False, 'pageviews': 27990},\n",
       "     'title': 'Most Quotable Lyrics From What A Time To Be Alive',\n",
       "     'title_with_featured': 'Most Quotable Lyrics From What A Time To Be Alive',\n",
       "     'url': 'https://genius.com/Genius-most-quotable-lyrics-from-what-a-time-to-be-alive-annotated',\n",
       "     'featured_artists': [],\n",
       "     'primary_artist': {'api_path': '/artists/204611',\n",
       "      'header_image_url': 'https://images.genius.com/822a5f872a1fcfe377695dc0046c6bc6.900x176x1.jpg',\n",
       "      'id': 204611,\n",
       "      'image_url': 'https://images.genius.com/0ca83e3130e1303a7f78ba351e3091cd.1000x1000x1.png',\n",
       "      'is_meme_verified': True,\n",
       "      'is_verified': True,\n",
       "      'name': 'Genius',\n",
       "      'url': 'https://genius.com/artists/Genius',\n",
       "      'iq': 78043}}}]}}"
      ]
     },
     "execution_count": 45,
     "metadata": {},
     "output_type": "execute_result"
    }
   ],
   "source": [
    "json_data"
   ]
  },
  {
   "attachments": {},
   "cell_type": "markdown",
   "metadata": {},
   "source": [
    "# Export"
   ]
  },
  {
   "cell_type": "code",
   "execution_count": null,
   "metadata": {},
   "outputs": [],
   "source": [
    "with open('../data/pickle/genius_dataset.pickle', 'wb') as data_spotify:\n",
    "    pickle.dump(tracks, data_spotify)"
   ]
  }
 ],
 "metadata": {
  "kernelspec": {
   "display_name": "iron",
   "language": "python",
   "name": "python3"
  },
  "language_info": {
   "codemirror_mode": {
    "name": "ipython",
    "version": 3
   },
   "file_extension": ".py",
   "mimetype": "text/x-python",
   "name": "python",
   "nbconvert_exporter": "python",
   "pygments_lexer": "ipython3",
   "version": "3.9.13"
  },
  "orig_nbformat": 4,
  "vscode": {
   "interpreter": {
    "hash": "e59d0b279e6461be5b4ea7b62838527cd8f41f3cbc9a1147b1a83b32d75ab689"
   }
  }
 },
 "nbformat": 4,
 "nbformat_minor": 2
}
