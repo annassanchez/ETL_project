{
 "cells": [
  {
   "cell_type": "code",
   "execution_count": 1,
   "metadata": {},
   "outputs": [],
   "source": [
    "import pandas as pd\n",
    "import numpy as np\n",
    "import requests\n",
    "import os \n",
    "from dotenv import load_dotenv\n",
    "import requests\n",
    "from collections import Counter\n",
    "from fuzzywuzzy import process, fuzz\n",
    "from tqdm import tqdm\n",
    "import pickle\n",
    "import re\n",
    "import matplotlib.pyplot as plt\n",
    "import seaborn as sns\n",
    "pd.options.display.max_columns = None\n",
    "pd.set_option('display.float_format', lambda x: '%.3f' % x)\n",
    "\n",
    "import warnings\n",
    "warnings.filterwarnings(\"ignore\")\n",
    "\n",
    "import sys\n",
    "sys.path.append(\"../\")\n",
    "\n",
    "import src.biblioteca as bb"
   ]
  },
  {
   "attachments": {},
   "cell_type": "markdown",
   "metadata": {},
   "source": [
    "Note to self:\n",
    "en este archivo van cosas que luego van a ser tres archivos distintos.\n",
    "- Limpieza\n",
    "- EDA\n",
    "- Charts\n",
    "- \n",
    "Recomendable separarlo y trabajarlo de forma independiente"
   ]
  },
  {
   "attachments": {},
   "cell_type": "markdown",
   "metadata": {},
   "source": [
    "# Input files"
   ]
  },
  {
   "attachments": {},
   "cell_type": "markdown",
   "metadata": {},
   "source": [
    "Base data file"
   ]
  },
  {
   "cell_type": "code",
   "execution_count": 2,
   "metadata": {},
   "outputs": [
    {
     "name": "stdout",
     "output_type": "stream",
     "text": [
      "(455057, 9)\n"
     ]
    },
    {
     "data": {
      "text/html": [
       "<div>\n",
       "<style scoped>\n",
       "    .dataframe tbody tr th:only-of-type {\n",
       "        vertical-align: middle;\n",
       "    }\n",
       "\n",
       "    .dataframe tbody tr th {\n",
       "        vertical-align: top;\n",
       "    }\n",
       "\n",
       "    .dataframe thead th {\n",
       "        text-align: right;\n",
       "    }\n",
       "</style>\n",
       "<table border=\"1\" class=\"dataframe\">\n",
       "  <thead>\n",
       "    <tr style=\"text-align: right;\">\n",
       "      <th></th>\n",
       "      <th>title</th>\n",
       "      <th>rank</th>\n",
       "      <th>date</th>\n",
       "      <th>artist</th>\n",
       "      <th>url</th>\n",
       "      <th>region</th>\n",
       "      <th>chart</th>\n",
       "      <th>trend</th>\n",
       "      <th>streams</th>\n",
       "    </tr>\n",
       "  </thead>\n",
       "  <tbody>\n",
       "    <tr>\n",
       "      <th>8246</th>\n",
       "      <td>Bad and Boujee (feat. Lil Uzi Vert)</td>\n",
       "      <td>1</td>\n",
       "      <td>2017-01-01</td>\n",
       "      <td>Migos</td>\n",
       "      <td>https://open.spotify.com/track/4Km5HrUvYTaSUfi...</td>\n",
       "      <td>United States</td>\n",
       "      <td>top200</td>\n",
       "      <td>SAME_POSITION</td>\n",
       "      <td>1371493.000</td>\n",
       "    </tr>\n",
       "  </tbody>\n",
       "</table>\n",
       "</div>"
      ],
      "text/plain": [
       "                                    title  rank        date artist  \\\n",
       "8246  Bad and Boujee (feat. Lil Uzi Vert)     1  2017-01-01  Migos   \n",
       "\n",
       "                                                    url         region  \\\n",
       "8246  https://open.spotify.com/track/4Km5HrUvYTaSUfi...  United States   \n",
       "\n",
       "       chart          trend     streams  \n",
       "8246  top200  SAME_POSITION 1371493.000  "
      ]
     },
     "execution_count": 2,
     "metadata": {},
     "output_type": "execute_result"
    }
   ],
   "source": [
    "with open('../data/pickle/dataset_usa_base.pickle', 'rb') as base_data:\n",
    "    base_data = pickle.load(base_data)\n",
    "print(base_data.shape)\n",
    "base_data.head(1)"
   ]
  },
  {
   "attachments": {},
   "cell_type": "markdown",
   "metadata": {},
   "source": [
    "LastFM extraction"
   ]
  },
  {
   "cell_type": "code",
   "execution_count": 3,
   "metadata": {},
   "outputs": [
    {
     "name": "stdout",
     "output_type": "stream",
     "text": [
      "(14659, 17)\n"
     ]
    },
    {
     "data": {
      "text/html": [
       "<div>\n",
       "<style scoped>\n",
       "    .dataframe tbody tr th:only-of-type {\n",
       "        vertical-align: middle;\n",
       "    }\n",
       "\n",
       "    .dataframe tbody tr th {\n",
       "        vertical-align: top;\n",
       "    }\n",
       "\n",
       "    .dataframe thead th {\n",
       "        text-align: right;\n",
       "    }\n",
       "</style>\n",
       "<table border=\"1\" class=\"dataframe\">\n",
       "  <thead>\n",
       "    <tr style=\"text-align: right;\">\n",
       "      <th></th>\n",
       "      <th>url</th>\n",
       "      <th>artist</th>\n",
       "      <th>track</th>\n",
       "      <th>published_track</th>\n",
       "      <th>published</th>\n",
       "      <th>summary</th>\n",
       "      <th>content</th>\n",
       "      <th>aritist_genre_0</th>\n",
       "      <th>aritist_genre_1</th>\n",
       "      <th>aritist_genre_2</th>\n",
       "      <th>aritist_genre_3</th>\n",
       "      <th>aritist_genre_4</th>\n",
       "      <th>track_genre_0</th>\n",
       "      <th>track_genre_1</th>\n",
       "      <th>track_genre_2</th>\n",
       "      <th>track_genre_3</th>\n",
       "      <th>track_genre_4</th>\n",
       "    </tr>\n",
       "  </thead>\n",
       "  <tbody>\n",
       "    <tr>\n",
       "      <th>8246</th>\n",
       "      <td>https://open.spotify.com/track/4Km5HrUvYTaSUfi...</td>\n",
       "      <td>migos</td>\n",
       "      <td>bad and boujee (feat. lil uzi vert)</td>\n",
       "      <td>30 Jan 2018, 04:41</td>\n",
       "      <td>26 Jun 2013, 14:20</td>\n",
       "      <td>Migos is a rap trio-group from Lawrenceville, ...</td>\n",
       "      <td>Migos is a rap trio-group from Lawrenceville, ...</td>\n",
       "      <td>Hip-Hop</td>\n",
       "      <td>trap</td>\n",
       "      <td>rap</td>\n",
       "      <td>hip hop</td>\n",
       "      <td>atlanta</td>\n",
       "      <td>trap</td>\n",
       "      <td>Hip-Hop</td>\n",
       "      <td>rap</td>\n",
       "      <td>2010s</td>\n",
       "      <td>meme rap</td>\n",
       "    </tr>\n",
       "  </tbody>\n",
       "</table>\n",
       "</div>"
      ],
      "text/plain": [
       "                                                    url artist  \\\n",
       "8246  https://open.spotify.com/track/4Km5HrUvYTaSUfi...  migos   \n",
       "\n",
       "                                    track     published_track  \\\n",
       "8246  bad and boujee (feat. lil uzi vert)  30 Jan 2018, 04:41   \n",
       "\n",
       "               published                                            summary  \\\n",
       "8246  26 Jun 2013, 14:20  Migos is a rap trio-group from Lawrenceville, ...   \n",
       "\n",
       "                                                content aritist_genre_0  \\\n",
       "8246  Migos is a rap trio-group from Lawrenceville, ...         Hip-Hop   \n",
       "\n",
       "     aritist_genre_1 aritist_genre_2 aritist_genre_3 aritist_genre_4  \\\n",
       "8246            trap             rap         hip hop         atlanta   \n",
       "\n",
       "     track_genre_0 track_genre_1 track_genre_2 track_genre_3 track_genre_4  \n",
       "8246          trap       Hip-Hop           rap         2010s      meme rap  "
      ]
     },
     "execution_count": 3,
     "metadata": {},
     "output_type": "execute_result"
    }
   ],
   "source": [
    "with open('../data/pickle/spotify_dataset_lastfm.pickle', 'rb') as data_lastfm:\n",
    "    data_lastfm = pickle.load(data_lastfm)\n",
    "data_lastfm.drop_duplicates(inplace=True)\n",
    "print(data_lastfm.drop_duplicates().shape)\n",
    "data_lastfm.head(1)"
   ]
  },
  {
   "attachments": {},
   "cell_type": "markdown",
   "metadata": {},
   "source": [
    "Spotify extraction"
   ]
  },
  {
   "cell_type": "code",
   "execution_count": 4,
   "metadata": {},
   "outputs": [
    {
     "name": "stdout",
     "output_type": "stream",
     "text": [
      "(13989, 21)\n"
     ]
    },
    {
     "data": {
      "text/html": [
       "<div>\n",
       "<style scoped>\n",
       "    .dataframe tbody tr th:only-of-type {\n",
       "        vertical-align: middle;\n",
       "    }\n",
       "\n",
       "    .dataframe tbody tr th {\n",
       "        vertical-align: top;\n",
       "    }\n",
       "\n",
       "    .dataframe thead th {\n",
       "        text-align: right;\n",
       "    }\n",
       "</style>\n",
       "<table border=\"1\" class=\"dataframe\">\n",
       "  <thead>\n",
       "    <tr style=\"text-align: right;\">\n",
       "      <th></th>\n",
       "      <th>url</th>\n",
       "      <th>artist</th>\n",
       "      <th>track</th>\n",
       "      <th>URI</th>\n",
       "      <th>danceability</th>\n",
       "      <th>energy</th>\n",
       "      <th>key</th>\n",
       "      <th>loudness</th>\n",
       "      <th>mode</th>\n",
       "      <th>speechiness</th>\n",
       "      <th>acousticness</th>\n",
       "      <th>instrumentalness</th>\n",
       "      <th>liveness</th>\n",
       "      <th>valence</th>\n",
       "      <th>tempo</th>\n",
       "      <th>type</th>\n",
       "      <th>id</th>\n",
       "      <th>track_href</th>\n",
       "      <th>analysis_url</th>\n",
       "      <th>duration_ms</th>\n",
       "      <th>time_signature</th>\n",
       "    </tr>\n",
       "  </thead>\n",
       "  <tbody>\n",
       "    <tr>\n",
       "      <th>0</th>\n",
       "      <td>https://open.spotify.com/track/4Km5HrUvYTaSUfi...</td>\n",
       "      <td>migos</td>\n",
       "      <td>bad and boujee (feat. lil uzi vert)</td>\n",
       "      <td>spotify:track:0M9ydKzuF3oZTfYYPfaGX1</td>\n",
       "      <td>0.926</td>\n",
       "      <td>0.666</td>\n",
       "      <td>11.000</td>\n",
       "      <td>-5.314</td>\n",
       "      <td>1.000</td>\n",
       "      <td>0.244</td>\n",
       "      <td>0.061</td>\n",
       "      <td>0.000</td>\n",
       "      <td>0.123</td>\n",
       "      <td>0.168</td>\n",
       "      <td>127.079</td>\n",
       "      <td>audio_features</td>\n",
       "      <td>0M9ydKzuF3oZTfYYPfaGX1</td>\n",
       "      <td>https://api.spotify.com/v1/tracks/0M9ydKzuF3oZ...</td>\n",
       "      <td>https://api.spotify.com/v1/audio-analysis/0M9y...</td>\n",
       "      <td>343150.000</td>\n",
       "      <td>4.000</td>\n",
       "    </tr>\n",
       "  </tbody>\n",
       "</table>\n",
       "</div>"
      ],
      "text/plain": [
       "                                                 url artist  \\\n",
       "0  https://open.spotify.com/track/4Km5HrUvYTaSUfi...  migos   \n",
       "\n",
       "                                 track                                   URI  \\\n",
       "0  bad and boujee (feat. lil uzi vert)  spotify:track:0M9ydKzuF3oZTfYYPfaGX1   \n",
       "\n",
       "   danceability  energy    key  loudness  mode  speechiness  acousticness  \\\n",
       "0         0.926   0.666 11.000    -5.314 1.000        0.244         0.061   \n",
       "\n",
       "   instrumentalness  liveness  valence   tempo            type  \\\n",
       "0             0.000     0.123    0.168 127.079  audio_features   \n",
       "\n",
       "                       id                                         track_href  \\\n",
       "0  0M9ydKzuF3oZTfYYPfaGX1  https://api.spotify.com/v1/tracks/0M9ydKzuF3oZ...   \n",
       "\n",
       "                                        analysis_url  duration_ms  \\\n",
       "0  https://api.spotify.com/v1/audio-analysis/0M9y...   343150.000   \n",
       "\n",
       "   time_signature  \n",
       "0           4.000  "
      ]
     },
     "execution_count": 4,
     "metadata": {},
     "output_type": "execute_result"
    }
   ],
   "source": [
    "with open('../data/pickle/spotify_dataset_audioFeatures.pickle', 'rb') as data_spotify:\n",
    "    data_spotify = pickle.load(data_spotify)\n",
    "data_spotify.drop_duplicates(inplace=True)\n",
    "print(data_spotify.drop_duplicates().shape)\n",
    "data_spotify.head(1)"
   ]
  },
  {
   "attachments": {},
   "cell_type": "markdown",
   "metadata": {},
   "source": [
    "# Merging all data"
   ]
  },
  {
   "cell_type": "code",
   "execution_count": 5,
   "metadata": {},
   "outputs": [
    {
     "data": {
      "text/plain": [
       "_merge\n",
       "both          456306\n",
       "left_only          0\n",
       "right_only         0\n",
       "dtype: int64"
      ]
     },
     "execution_count": 5,
     "metadata": {},
     "output_type": "execute_result"
    }
   ],
   "source": [
    "df = base_data.merge(data_lastfm, on = 'url', indicator = True, how = 'left')\n",
    "df.value_counts('_merge')"
   ]
  },
  {
   "cell_type": "code",
   "execution_count": 6,
   "metadata": {},
   "outputs": [
    {
     "data": {
      "text/plain": [
       "_merge\n",
       "both          442906\n",
       "left_only      13924\n",
       "right_only         0\n",
       "dtype: int64"
      ]
     },
     "execution_count": 6,
     "metadata": {},
     "output_type": "execute_result"
    }
   ],
   "source": [
    "df.drop(['_merge'], axis = 1, inplace = True)\n",
    "df = df.merge(data_spotify, on = 'url', indicator = True, how = 'left')\n",
    "df.value_counts('_merge')"
   ]
  },
  {
   "cell_type": "code",
   "execution_count": 7,
   "metadata": {},
   "outputs": [
    {
     "name": "stdout",
     "output_type": "stream",
     "text": [
      "(456830, 41)\n"
     ]
    },
    {
     "data": {
      "text/html": [
       "<div>\n",
       "<style scoped>\n",
       "    .dataframe tbody tr th:only-of-type {\n",
       "        vertical-align: middle;\n",
       "    }\n",
       "\n",
       "    .dataframe tbody tr th {\n",
       "        vertical-align: top;\n",
       "    }\n",
       "\n",
       "    .dataframe thead th {\n",
       "        text-align: right;\n",
       "    }\n",
       "</style>\n",
       "<table border=\"1\" class=\"dataframe\">\n",
       "  <thead>\n",
       "    <tr style=\"text-align: right;\">\n",
       "      <th></th>\n",
       "      <th>title</th>\n",
       "      <th>rank</th>\n",
       "      <th>date</th>\n",
       "      <th>artist</th>\n",
       "      <th>url</th>\n",
       "      <th>region</th>\n",
       "      <th>chart</th>\n",
       "      <th>trend</th>\n",
       "      <th>streams</th>\n",
       "      <th>published_track</th>\n",
       "      <th>published</th>\n",
       "      <th>summary</th>\n",
       "      <th>content</th>\n",
       "      <th>aritist_genre_0</th>\n",
       "      <th>aritist_genre_1</th>\n",
       "      <th>aritist_genre_2</th>\n",
       "      <th>aritist_genre_3</th>\n",
       "      <th>aritist_genre_4</th>\n",
       "      <th>track_genre_0</th>\n",
       "      <th>track_genre_1</th>\n",
       "      <th>track_genre_2</th>\n",
       "      <th>track_genre_3</th>\n",
       "      <th>track_genre_4</th>\n",
       "      <th>URI</th>\n",
       "      <th>danceability</th>\n",
       "      <th>energy</th>\n",
       "      <th>key</th>\n",
       "      <th>loudness</th>\n",
       "      <th>mode</th>\n",
       "      <th>speechiness</th>\n",
       "      <th>acousticness</th>\n",
       "      <th>instrumentalness</th>\n",
       "      <th>liveness</th>\n",
       "      <th>valence</th>\n",
       "      <th>tempo</th>\n",
       "      <th>type</th>\n",
       "      <th>id</th>\n",
       "      <th>track_href</th>\n",
       "      <th>analysis_url</th>\n",
       "      <th>duration_ms</th>\n",
       "      <th>time_signature</th>\n",
       "    </tr>\n",
       "  </thead>\n",
       "  <tbody>\n",
       "    <tr>\n",
       "      <th>0</th>\n",
       "      <td>Bad and Boujee (feat. Lil Uzi Vert)</td>\n",
       "      <td>1</td>\n",
       "      <td>2017-01-01</td>\n",
       "      <td>Migos</td>\n",
       "      <td>https://open.spotify.com/track/4Km5HrUvYTaSUfi...</td>\n",
       "      <td>United States</td>\n",
       "      <td>top200</td>\n",
       "      <td>SAME_POSITION</td>\n",
       "      <td>1371493.000</td>\n",
       "      <td>30 Jan 2018, 04:41</td>\n",
       "      <td>26 Jun 2013, 14:20</td>\n",
       "      <td>Migos is a rap trio-group from Lawrenceville, ...</td>\n",
       "      <td>Migos is a rap trio-group from Lawrenceville, ...</td>\n",
       "      <td>Hip-Hop</td>\n",
       "      <td>trap</td>\n",
       "      <td>rap</td>\n",
       "      <td>hip hop</td>\n",
       "      <td>atlanta</td>\n",
       "      <td>trap</td>\n",
       "      <td>Hip-Hop</td>\n",
       "      <td>rap</td>\n",
       "      <td>2010s</td>\n",
       "      <td>meme rap</td>\n",
       "      <td>spotify:track:0M9ydKzuF3oZTfYYPfaGX1</td>\n",
       "      <td>0.926</td>\n",
       "      <td>0.666</td>\n",
       "      <td>11.000</td>\n",
       "      <td>-5.314</td>\n",
       "      <td>1.000</td>\n",
       "      <td>0.244</td>\n",
       "      <td>0.061</td>\n",
       "      <td>0.000</td>\n",
       "      <td>0.123</td>\n",
       "      <td>0.168</td>\n",
       "      <td>127.079</td>\n",
       "      <td>audio_features</td>\n",
       "      <td>0M9ydKzuF3oZTfYYPfaGX1</td>\n",
       "      <td>https://api.spotify.com/v1/tracks/0M9ydKzuF3oZ...</td>\n",
       "      <td>https://api.spotify.com/v1/audio-analysis/0M9y...</td>\n",
       "      <td>343150.000</td>\n",
       "      <td>4.000</td>\n",
       "    </tr>\n",
       "  </tbody>\n",
       "</table>\n",
       "</div>"
      ],
      "text/plain": [
       "                                 title  rank        date artist  \\\n",
       "0  Bad and Boujee (feat. Lil Uzi Vert)     1  2017-01-01  Migos   \n",
       "\n",
       "                                                 url         region   chart  \\\n",
       "0  https://open.spotify.com/track/4Km5HrUvYTaSUfi...  United States  top200   \n",
       "\n",
       "           trend     streams     published_track           published  \\\n",
       "0  SAME_POSITION 1371493.000  30 Jan 2018, 04:41  26 Jun 2013, 14:20   \n",
       "\n",
       "                                             summary  \\\n",
       "0  Migos is a rap trio-group from Lawrenceville, ...   \n",
       "\n",
       "                                             content aritist_genre_0  \\\n",
       "0  Migos is a rap trio-group from Lawrenceville, ...         Hip-Hop   \n",
       "\n",
       "  aritist_genre_1 aritist_genre_2 aritist_genre_3 aritist_genre_4  \\\n",
       "0            trap             rap         hip hop         atlanta   \n",
       "\n",
       "  track_genre_0 track_genre_1 track_genre_2 track_genre_3 track_genre_4  \\\n",
       "0          trap       Hip-Hop           rap         2010s      meme rap   \n",
       "\n",
       "                                    URI  danceability  energy    key  \\\n",
       "0  spotify:track:0M9ydKzuF3oZTfYYPfaGX1         0.926   0.666 11.000   \n",
       "\n",
       "   loudness  mode  speechiness  acousticness  instrumentalness  liveness  \\\n",
       "0    -5.314 1.000        0.244         0.061             0.000     0.123   \n",
       "\n",
       "   valence   tempo            type                      id  \\\n",
       "0    0.168 127.079  audio_features  0M9ydKzuF3oZTfYYPfaGX1   \n",
       "\n",
       "                                          track_href  \\\n",
       "0  https://api.spotify.com/v1/tracks/0M9ydKzuF3oZ...   \n",
       "\n",
       "                                        analysis_url  duration_ms  \\\n",
       "0  https://api.spotify.com/v1/audio-analysis/0M9y...   343150.000   \n",
       "\n",
       "   time_signature  \n",
       "0           4.000  "
      ]
     },
     "execution_count": 7,
     "metadata": {},
     "output_type": "execute_result"
    }
   ],
   "source": [
    "df.drop(['artist_y', 'track_x', 'artist', 'track_y', '_merge'], axis = 1, inplace= True)\n",
    "df.rename({'artist_x':'artist'}, inplace=True, axis=1)\n",
    "print(df.shape)\n",
    "df.head(1)"
   ]
  },
  {
   "attachments": {},
   "cell_type": "markdown",
   "metadata": {},
   "source": [
    "# Cleaning data"
   ]
  },
  {
   "cell_type": "code",
   "execution_count": 8,
   "metadata": {},
   "outputs": [
    {
     "data": {
      "text/html": [
       "<div>\n",
       "<style scoped>\n",
       "    .dataframe tbody tr th:only-of-type {\n",
       "        vertical-align: middle;\n",
       "    }\n",
       "\n",
       "    .dataframe tbody tr th {\n",
       "        vertical-align: top;\n",
       "    }\n",
       "\n",
       "    .dataframe thead th {\n",
       "        text-align: right;\n",
       "    }\n",
       "</style>\n",
       "<table border=\"1\" class=\"dataframe\">\n",
       "  <thead>\n",
       "    <tr style=\"text-align: right;\">\n",
       "      <th></th>\n",
       "      <th>title</th>\n",
       "      <th>rank</th>\n",
       "      <th>date</th>\n",
       "      <th>artist</th>\n",
       "      <th>url</th>\n",
       "      <th>region</th>\n",
       "      <th>chart</th>\n",
       "      <th>trend</th>\n",
       "      <th>streams</th>\n",
       "      <th>published_track</th>\n",
       "      <th>published</th>\n",
       "      <th>summary</th>\n",
       "      <th>content</th>\n",
       "      <th>aritist_genre_0</th>\n",
       "      <th>aritist_genre_1</th>\n",
       "      <th>aritist_genre_2</th>\n",
       "      <th>aritist_genre_3</th>\n",
       "      <th>aritist_genre_4</th>\n",
       "      <th>track_genre_0</th>\n",
       "      <th>track_genre_1</th>\n",
       "      <th>track_genre_2</th>\n",
       "      <th>track_genre_3</th>\n",
       "      <th>track_genre_4</th>\n",
       "      <th>URI</th>\n",
       "      <th>danceability</th>\n",
       "      <th>energy</th>\n",
       "      <th>key</th>\n",
       "      <th>loudness</th>\n",
       "      <th>mode</th>\n",
       "      <th>speechiness</th>\n",
       "      <th>acousticness</th>\n",
       "      <th>instrumentalness</th>\n",
       "      <th>liveness</th>\n",
       "      <th>valence</th>\n",
       "      <th>tempo</th>\n",
       "      <th>type</th>\n",
       "      <th>id</th>\n",
       "      <th>track_href</th>\n",
       "      <th>analysis_url</th>\n",
       "      <th>duration_ms</th>\n",
       "      <th>time_signature</th>\n",
       "    </tr>\n",
       "  </thead>\n",
       "  <tbody>\n",
       "    <tr>\n",
       "      <th>0</th>\n",
       "      <td>Bad and Boujee (feat. Lil Uzi Vert)</td>\n",
       "      <td>1</td>\n",
       "      <td>2017-01-01</td>\n",
       "      <td>Migos</td>\n",
       "      <td>https://open.spotify.com/track/4Km5HrUvYTaSUfi...</td>\n",
       "      <td>United States</td>\n",
       "      <td>top200</td>\n",
       "      <td>SAME_POSITION</td>\n",
       "      <td>1371493.000</td>\n",
       "      <td>30 Jan 2018, 04:41</td>\n",
       "      <td>26 Jun 2013, 14:20</td>\n",
       "      <td>Migos is a rap trio-group from Lawrenceville, ...</td>\n",
       "      <td>Migos is a rap trio-group from Lawrenceville, ...</td>\n",
       "      <td>Hip-Hop</td>\n",
       "      <td>trap</td>\n",
       "      <td>rap</td>\n",
       "      <td>hip hop</td>\n",
       "      <td>atlanta</td>\n",
       "      <td>trap</td>\n",
       "      <td>Hip-Hop</td>\n",
       "      <td>rap</td>\n",
       "      <td>2010s</td>\n",
       "      <td>meme rap</td>\n",
       "      <td>spotify:track:0M9ydKzuF3oZTfYYPfaGX1</td>\n",
       "      <td>0.926</td>\n",
       "      <td>0.666</td>\n",
       "      <td>11.000</td>\n",
       "      <td>-5.314</td>\n",
       "      <td>1.000</td>\n",
       "      <td>0.244</td>\n",
       "      <td>0.061</td>\n",
       "      <td>0.000</td>\n",
       "      <td>0.123</td>\n",
       "      <td>0.168</td>\n",
       "      <td>127.079</td>\n",
       "      <td>audio_features</td>\n",
       "      <td>0M9ydKzuF3oZTfYYPfaGX1</td>\n",
       "      <td>https://api.spotify.com/v1/tracks/0M9ydKzuF3oZ...</td>\n",
       "      <td>https://api.spotify.com/v1/audio-analysis/0M9y...</td>\n",
       "      <td>343150.000</td>\n",
       "      <td>4.000</td>\n",
       "    </tr>\n",
       "  </tbody>\n",
       "</table>\n",
       "</div>"
      ],
      "text/plain": [
       "                                 title  rank        date artist  \\\n",
       "0  Bad and Boujee (feat. Lil Uzi Vert)     1  2017-01-01  Migos   \n",
       "\n",
       "                                                 url         region   chart  \\\n",
       "0  https://open.spotify.com/track/4Km5HrUvYTaSUfi...  United States  top200   \n",
       "\n",
       "           trend     streams     published_track           published  \\\n",
       "0  SAME_POSITION 1371493.000  30 Jan 2018, 04:41  26 Jun 2013, 14:20   \n",
       "\n",
       "                                             summary  \\\n",
       "0  Migos is a rap trio-group from Lawrenceville, ...   \n",
       "\n",
       "                                             content aritist_genre_0  \\\n",
       "0  Migos is a rap trio-group from Lawrenceville, ...         Hip-Hop   \n",
       "\n",
       "  aritist_genre_1 aritist_genre_2 aritist_genre_3 aritist_genre_4  \\\n",
       "0            trap             rap         hip hop         atlanta   \n",
       "\n",
       "  track_genre_0 track_genre_1 track_genre_2 track_genre_3 track_genre_4  \\\n",
       "0          trap       Hip-Hop           rap         2010s      meme rap   \n",
       "\n",
       "                                    URI  danceability  energy    key  \\\n",
       "0  spotify:track:0M9ydKzuF3oZTfYYPfaGX1         0.926   0.666 11.000   \n",
       "\n",
       "   loudness  mode  speechiness  acousticness  instrumentalness  liveness  \\\n",
       "0    -5.314 1.000        0.244         0.061             0.000     0.123   \n",
       "\n",
       "   valence   tempo            type                      id  \\\n",
       "0    0.168 127.079  audio_features  0M9ydKzuF3oZTfYYPfaGX1   \n",
       "\n",
       "                                          track_href  \\\n",
       "0  https://api.spotify.com/v1/tracks/0M9ydKzuF3oZ...   \n",
       "\n",
       "                                        analysis_url  duration_ms  \\\n",
       "0  https://api.spotify.com/v1/audio-analysis/0M9y...   343150.000   \n",
       "\n",
       "   time_signature  \n",
       "0           4.000  "
      ]
     },
     "execution_count": 8,
     "metadata": {},
     "output_type": "execute_result"
    }
   ],
   "source": [
    "df.head(1)"
   ]
  },
  {
   "attachments": {},
   "cell_type": "markdown",
   "metadata": {},
   "source": [
    "Highest rank in list + Weeks in charts"
   ]
  },
  {
   "cell_type": "code",
   "execution_count": 9,
   "metadata": {},
   "outputs": [
    {
     "data": {
      "text/plain": [
       "14650"
      ]
     },
     "execution_count": 9,
     "metadata": {},
     "output_type": "execute_result"
    }
   ],
   "source": [
    "lista_url = df['url'].unique().tolist()\n",
    "len(lista_url)"
   ]
  },
  {
   "cell_type": "code",
   "execution_count": 10,
   "metadata": {},
   "outputs": [],
   "source": [
    "ranks = {\n",
    "    'url':[],\n",
    "    'highest_rank':[],\n",
    "    'weeks_in_charts':[]\n",
    "}"
   ]
  },
  {
   "cell_type": "code",
   "execution_count": 11,
   "metadata": {},
   "outputs": [
    {
     "name": "stderr",
     "output_type": "stream",
     "text": [
      "  4%|▍         | 651/14650 [00:40<11:17, 20.66it/s]"
     ]
    }
   ],
   "source": [
    "for url in tqdm(lista_url):\n",
    "    ranks['url'].append(url)\n",
    "    ranks['highest_rank'].append(df[df['url'] == url].sort_values(by = 'rank').iloc[0,1])\n",
    "    ranks['weeks_in_charts'].append(df[df['url'] == url].shape[0])"
   ]
  },
  {
   "cell_type": "code",
   "execution_count": null,
   "metadata": {},
   "outputs": [],
   "source": [
    "print(len(ranks['url']), len(ranks['highest_rank']), len(ranks['weeks_in_charts']))"
   ]
  },
  {
   "cell_type": "code",
   "execution_count": null,
   "metadata": {},
   "outputs": [],
   "source": [
    "df = df.merge(pd.DataFrame(ranks), on = 'url', indicator= True)\n",
    "df.value_counts('_merge')"
   ]
  },
  {
   "cell_type": "code",
   "execution_count": null,
   "metadata": {},
   "outputs": [],
   "source": [
    "df.drop(['_merge'], axis = 1, inplace=True)"
   ]
  },
  {
   "attachments": {},
   "cell_type": "markdown",
   "metadata": {},
   "source": [
    "Main music genre\n",
    "\n",
    "Primo los géneros de las canciones -- si no hubiera datos, cojo los valores del artista"
   ]
  },
  {
   "cell_type": "code",
   "execution_count": null,
   "metadata": {},
   "outputs": [],
   "source": [
    "df.head(1)"
   ]
  },
  {
   "cell_type": "code",
   "execution_count": null,
   "metadata": {},
   "outputs": [],
   "source": [
    "df['music_genre'] = np.where(df['aritist_genre_0'].isnull() == True, df['track_genre_0'].str.lower(), df['aritist_genre_0'].str.lower())\n",
    "df['music_genre'].value_counts()"
   ]
  },
  {
   "cell_type": "code",
   "execution_count": null,
   "metadata": {},
   "outputs": [],
   "source": [
    "cuenta_generos = Counter(genres for genres in df['music_genre'])\n",
    "print(f\"Hay {len(cuenta_generos)} generos diferentes.\")"
   ]
  },
  {
   "cell_type": "code",
   "execution_count": null,
   "metadata": {},
   "outputs": [],
   "source": [
    "dict_genres = dict(cuenta_generos.most_common(24))"
   ]
  },
  {
   "cell_type": "code",
   "execution_count": null,
   "metadata": {},
   "outputs": [],
   "source": [
    "fuzz.ratio('hip-hop', \"hip hop\")"
   ]
  },
  {
   "cell_type": "code",
   "execution_count": null,
   "metadata": {},
   "outputs": [],
   "source": [
    "def music_genres(column, genres):\n",
    "    max = 0\n",
    "    for key in genres.keys():\n",
    "        try:\n",
    "            similar = fuzz.ratio(column, key)\n",
    "            if similar > max:\n",
    "                max = similar\n",
    "                genre = key     \n",
    "        except:\n",
    "            return \"other\"\n",
    "    if max > 60:\n",
    "        return genre\n",
    "    else:\n",
    "        return \"other\""
   ]
  },
  {
   "cell_type": "code",
   "execution_count": null,
   "metadata": {},
   "outputs": [],
   "source": [
    "df[\"clean_music_genre\"] = df.apply(lambda x: music_genres(x[\"music_genre\"], dict_genres), axis = 1)\n",
    "df[\"clean_music_genre\"].value_counts()"
   ]
  },
  {
   "attachments": {},
   "cell_type": "markdown",
   "metadata": {},
   "source": [
    "Gender from artists\n",
    "\n",
    "ojo, hay un poco de error -- volver a pasarlo, pero solo con el nombre de los artistas (que no sean grupos)"
   ]
  },
  {
   "cell_type": "code",
   "execution_count": null,
   "metadata": {},
   "outputs": [],
   "source": [
    "df.sample(5)"
   ]
  },
  {
   "cell_type": "code",
   "execution_count": null,
   "metadata": {},
   "outputs": [],
   "source": [
    "## funciona pero tiene un poco de error\n",
    "def generos(col):\n",
    "    for key, value in bb.dict_gender.items():\n",
    "        for k in key:\n",
    "            for item in value:\n",
    "                try:\n",
    "                    if item in col.lower():\n",
    "                        return key\n",
    "                except:\n",
    "                    return np.nan\n",
    "    return np.nan"
   ]
  },
  {
   "cell_type": "code",
   "execution_count": null,
   "metadata": {},
   "outputs": [],
   "source": [
    "def generos_2(col):\n",
    "    for key, value in bb.dict_gender.items():\n",
    "        try:\n",
    "            if value in col.lower():\n",
    "                return key\n",
    "        except:\n",
    "            return np.nan\n",
    "    return np.nan"
   ]
  },
  {
   "cell_type": "code",
   "execution_count": null,
   "metadata": {},
   "outputs": [],
   "source": [
    "df.head(1)"
   ]
  },
  {
   "cell_type": "code",
   "execution_count": null,
   "metadata": {},
   "outputs": [],
   "source": [
    "#df[\"gender\"] = df.apply(lambda x: generos(x['content'], bb.dict_gender), axis=1)\n",
    "df[\"gender\"] = df['summary'].apply(generos)"
   ]
  },
  {
   "cell_type": "code",
   "execution_count": null,
   "metadata": {},
   "outputs": [],
   "source": [
    "df['gender'].value_counts() / df.shape[0]"
   ]
  },
  {
   "cell_type": "code",
   "execution_count": null,
   "metadata": {},
   "outputs": [],
   "source": [
    "df[df['gender']=='non-binary'].sample(5)"
   ]
  },
  {
   "cell_type": "code",
   "execution_count": null,
   "metadata": {},
   "outputs": [],
   "source": [
    "df[df['artist'] == 'Florida Georgia Line'].to_csv('test.csv', sep = ';')"
   ]
  },
  {
   "attachments": {},
   "cell_type": "markdown",
   "metadata": {},
   "source": [
    "Age from artist\n",
    "\n",
    "-- taking the data from the summary"
   ]
  },
  {
   "cell_type": "code",
   "execution_count": null,
   "metadata": {},
   "outputs": [],
   "source": [
    "df['birthday'] =  df['content'].apply(lambda x: re.findall(r'\\w* \\d{1,2}, \\d{4}',str(x))).str[0]\n",
    "df['birthday'].value_counts()"
   ]
  },
  {
   "cell_type": "code",
   "execution_count": null,
   "metadata": {},
   "outputs": [],
   "source": [
    "df.sample()"
   ]
  },
  {
   "attachments": {},
   "cell_type": "markdown",
   "metadata": {},
   "source": [
    "# EDA"
   ]
  },
  {
   "attachments": {},
   "cell_type": "markdown",
   "metadata": {},
   "source": [
    "# Questions / hypothesis"
   ]
  },
  {
   "attachments": {},
   "cell_type": "markdown",
   "metadata": {},
   "source": [
    "Most streamed artists"
   ]
  },
  {
   "cell_type": "code",
   "execution_count": null,
   "metadata": {},
   "outputs": [],
   "source": [
    "top10 = df.groupby(['artist'])['streams'].sum().reset_index().sort_values(by = 'streams', ascending = False).head(10)\n",
    "top10['ratio'] = top10['streams'] * 100 / (df[~df['streams'].isnull()]['streams'].sum())\n",
    "top10"
   ]
  },
  {
   "attachments": {},
   "cell_type": "markdown",
   "metadata": {},
   "source": [
    "Most streamed music genres"
   ]
  },
  {
   "cell_type": "code",
   "execution_count": null,
   "metadata": {},
   "outputs": [],
   "source": [
    "top10genre = df.groupby(['aritist_genre_0'])['streams'].sum().reset_index().sort_values(by = 'streams', ascending = False).head(10)\n",
    "top10genre['ratio'] = top10genre['streams'] * 100 / (df[~df['streams'].isnull()]['streams'].sum())\n",
    "top10genre[top10genre['ratio'] > 0]"
   ]
  },
  {
   "attachments": {},
   "cell_type": "markdown",
   "metadata": {},
   "source": [
    "Artist evolution"
   ]
  },
  {
   "cell_type": "code",
   "execution_count": null,
   "metadata": {},
   "outputs": [],
   "source": [
    "lista_artistas = list(top10['artist'])\n",
    "df_top10 = df[df['artist'].isin(lista_artistas)]\n",
    "df_top10.head()"
   ]
  },
  {
   "cell_type": "code",
   "execution_count": null,
   "metadata": {},
   "outputs": [],
   "source": [
    "num_rows = 20\n",
    "years = list(range(1990, 1990 + num_rows))\n",
    "data_preproc = pd.DataFrame({\n",
    "    'Year': years, \n",
    "    'A': np.random.randn(num_rows).cumsum(),\n",
    "    'B': np.random.randn(num_rows).cumsum(),\n",
    "    'C': np.random.randn(num_rows).cumsum(),\n",
    "    'D': np.random.randn(num_rows).cumsum()})"
   ]
  },
  {
   "cell_type": "code",
   "execution_count": null,
   "metadata": {},
   "outputs": [],
   "source": [
    "sns.lineplot(x='Year', y='value', hue='variable', \n",
    "             data=pd.melt(data_preproc, ['Year']))"
   ]
  },
  {
   "cell_type": "code",
   "execution_count": null,
   "metadata": {},
   "outputs": [],
   "source": [
    "test = pd.pivot_table(df_top10[df_top10['chart'] == 'top200'][['date', 'artist', 'rank']], index = 'date', values = ['rank'], columns = 'artist').reset_index().droplevel(level=0, axis =1)\n",
    "test.rename({'':'date'}, axis = 1, inplace=True)\n",
    "print(test.shape)\n",
    "test.head()"
   ]
  },
  {
   "cell_type": "code",
   "execution_count": null,
   "metadata": {},
   "outputs": [],
   "source": [
    "sns.lineplot(x='Year', y='value', hue='variable', \n",
    "             data=pd.melt(data_preproc, ['Year']))"
   ]
  },
  {
   "cell_type": "code",
   "execution_count": null,
   "metadata": {},
   "outputs": [],
   "source": [
    "sns.set(rc={'figure.figsize':(50,8.27)})\n",
    "\n",
    "c = sns.lineplot(data = test, x = test['date'].unique().tolist(), y = 'Ariana Grande')\n",
    "c.set_xticklabels(labels = test['date'].unique().tolist(), rotation=90)"
   ]
  },
  {
   "attachments": {},
   "cell_type": "markdown",
   "metadata": {},
   "source": [
    "Music genre evolution"
   ]
  },
  {
   "cell_type": "code",
   "execution_count": null,
   "metadata": {},
   "outputs": [],
   "source": [
    "df"
   ]
  },
  {
   "attachments": {},
   "cell_type": "markdown",
   "metadata": {},
   "source": [
    "Genre distibution"
   ]
  },
  {
   "cell_type": "code",
   "execution_count": null,
   "metadata": {},
   "outputs": [],
   "source": []
  },
  {
   "attachments": {},
   "cell_type": "markdown",
   "metadata": {},
   "source": [
    "How was the music during covid"
   ]
  }
 ],
 "metadata": {
  "kernelspec": {
   "display_name": "iron",
   "language": "python",
   "name": "python3"
  },
  "language_info": {
   "codemirror_mode": {
    "name": "ipython",
    "version": 3
   },
   "file_extension": ".py",
   "mimetype": "text/x-python",
   "name": "python",
   "nbconvert_exporter": "python",
   "pygments_lexer": "ipython3",
   "version": "3.9.13"
  },
  "orig_nbformat": 4,
  "vscode": {
   "interpreter": {
    "hash": "e59d0b279e6461be5b4ea7b62838527cd8f41f3cbc9a1147b1a83b32d75ab689"
   }
  }
 },
 "nbformat": 4,
 "nbformat_minor": 2
}
