{
 "cells": [
  {
   "cell_type": "code",
   "execution_count": 1,
   "metadata": {},
   "outputs": [],
   "source": [
    "import pandas as pd\n",
    "import numpy as np\n",
    "import requests\n",
    "import os \n",
    "from dotenv import load_dotenv\n",
    "import requests\n",
    "from collections import Counter\n",
    "from fuzzywuzzy import process, fuzz\n",
    "from tqdm import tqdm\n",
    "import pickle\n",
    "import re\n",
    "import matplotlib.pyplot as plt\n",
    "import seaborn as sns\n",
    "pd.options.display.max_columns = None\n",
    "pd.set_option('display.float_format', lambda x: '%.3f' % x)\n",
    "\n",
    "import warnings\n",
    "warnings.filterwarnings(\"ignore\")\n",
    "\n",
    "import sys\n",
    "sys.path.append(\"../\")\n",
    "\n",
    "import src.biblioteca as bb"
   ]
  },
  {
   "attachments": {},
   "cell_type": "markdown",
   "metadata": {},
   "source": [
    "Note to self:\n",
    "en este archivo van cosas que luego van a ser tres archivos distintos.\n",
    "- Limpieza\n",
    "- EDA\n",
    "- Charts\n",
    "- \n",
    "Recomendable separarlo y trabajarlo de forma independiente"
   ]
  },
  {
   "attachments": {},
   "cell_type": "markdown",
   "metadata": {},
   "source": [
    "# Input files"
   ]
  },
  {
   "attachments": {},
   "cell_type": "markdown",
   "metadata": {},
   "source": [
    "Base data file"
   ]
  },
  {
   "cell_type": "code",
   "execution_count": 2,
   "metadata": {},
   "outputs": [
    {
     "name": "stdout",
     "output_type": "stream",
     "text": [
      "(455057, 9)\n"
     ]
    },
    {
     "data": {
      "text/html": [
       "<div>\n",
       "<style scoped>\n",
       "    .dataframe tbody tr th:only-of-type {\n",
       "        vertical-align: middle;\n",
       "    }\n",
       "\n",
       "    .dataframe tbody tr th {\n",
       "        vertical-align: top;\n",
       "    }\n",
       "\n",
       "    .dataframe thead th {\n",
       "        text-align: right;\n",
       "    }\n",
       "</style>\n",
       "<table border=\"1\" class=\"dataframe\">\n",
       "  <thead>\n",
       "    <tr style=\"text-align: right;\">\n",
       "      <th></th>\n",
       "      <th>title</th>\n",
       "      <th>rank</th>\n",
       "      <th>date</th>\n",
       "      <th>artist</th>\n",
       "      <th>url</th>\n",
       "      <th>region</th>\n",
       "      <th>chart</th>\n",
       "      <th>trend</th>\n",
       "      <th>streams</th>\n",
       "    </tr>\n",
       "  </thead>\n",
       "  <tbody>\n",
       "    <tr>\n",
       "      <th>8246</th>\n",
       "      <td>Bad and Boujee (feat. Lil Uzi Vert)</td>\n",
       "      <td>1</td>\n",
       "      <td>2017-01-01</td>\n",
       "      <td>Migos</td>\n",
       "      <td>https://open.spotify.com/track/4Km5HrUvYTaSUfi...</td>\n",
       "      <td>United States</td>\n",
       "      <td>top200</td>\n",
       "      <td>SAME_POSITION</td>\n",
       "      <td>1371493.000</td>\n",
       "    </tr>\n",
       "  </tbody>\n",
       "</table>\n",
       "</div>"
      ],
      "text/plain": [
       "                                    title  rank        date artist  \\\n",
       "8246  Bad and Boujee (feat. Lil Uzi Vert)     1  2017-01-01  Migos   \n",
       "\n",
       "                                                    url         region  \\\n",
       "8246  https://open.spotify.com/track/4Km5HrUvYTaSUfi...  United States   \n",
       "\n",
       "       chart          trend     streams  \n",
       "8246  top200  SAME_POSITION 1371493.000  "
      ]
     },
     "execution_count": 2,
     "metadata": {},
     "output_type": "execute_result"
    }
   ],
   "source": [
    "with open('../data/pickle/dataset_usa_base.pickle', 'rb') as base_data:\n",
    "    base_data = pickle.load(base_data)\n",
    "print(base_data.shape)\n",
    "base_data.head(1)"
   ]
  },
  {
   "attachments": {},
   "cell_type": "markdown",
   "metadata": {},
   "source": [
    "LastFM extraction"
   ]
  },
  {
   "cell_type": "code",
   "execution_count": 3,
   "metadata": {},
   "outputs": [
    {
     "name": "stdout",
     "output_type": "stream",
     "text": [
      "(14659, 17)\n"
     ]
    },
    {
     "data": {
      "text/html": [
       "<div>\n",
       "<style scoped>\n",
       "    .dataframe tbody tr th:only-of-type {\n",
       "        vertical-align: middle;\n",
       "    }\n",
       "\n",
       "    .dataframe tbody tr th {\n",
       "        vertical-align: top;\n",
       "    }\n",
       "\n",
       "    .dataframe thead th {\n",
       "        text-align: right;\n",
       "    }\n",
       "</style>\n",
       "<table border=\"1\" class=\"dataframe\">\n",
       "  <thead>\n",
       "    <tr style=\"text-align: right;\">\n",
       "      <th></th>\n",
       "      <th>url</th>\n",
       "      <th>artist</th>\n",
       "      <th>track</th>\n",
       "      <th>published_track</th>\n",
       "      <th>published</th>\n",
       "      <th>summary</th>\n",
       "      <th>content</th>\n",
       "      <th>aritist_genre_0</th>\n",
       "      <th>aritist_genre_1</th>\n",
       "      <th>aritist_genre_2</th>\n",
       "      <th>aritist_genre_3</th>\n",
       "      <th>aritist_genre_4</th>\n",
       "      <th>track_genre_0</th>\n",
       "      <th>track_genre_1</th>\n",
       "      <th>track_genre_2</th>\n",
       "      <th>track_genre_3</th>\n",
       "      <th>track_genre_4</th>\n",
       "    </tr>\n",
       "  </thead>\n",
       "  <tbody>\n",
       "    <tr>\n",
       "      <th>8246</th>\n",
       "      <td>https://open.spotify.com/track/4Km5HrUvYTaSUfi...</td>\n",
       "      <td>migos</td>\n",
       "      <td>bad and boujee (feat. lil uzi vert)</td>\n",
       "      <td>30 Jan 2018, 04:41</td>\n",
       "      <td>26 Jun 2013, 14:20</td>\n",
       "      <td>Migos is a rap trio-group from Lawrenceville, ...</td>\n",
       "      <td>Migos is a rap trio-group from Lawrenceville, ...</td>\n",
       "      <td>Hip-Hop</td>\n",
       "      <td>trap</td>\n",
       "      <td>rap</td>\n",
       "      <td>hip hop</td>\n",
       "      <td>atlanta</td>\n",
       "      <td>trap</td>\n",
       "      <td>Hip-Hop</td>\n",
       "      <td>rap</td>\n",
       "      <td>2010s</td>\n",
       "      <td>meme rap</td>\n",
       "    </tr>\n",
       "  </tbody>\n",
       "</table>\n",
       "</div>"
      ],
      "text/plain": [
       "                                                    url artist  \\\n",
       "8246  https://open.spotify.com/track/4Km5HrUvYTaSUfi...  migos   \n",
       "\n",
       "                                    track     published_track  \\\n",
       "8246  bad and boujee (feat. lil uzi vert)  30 Jan 2018, 04:41   \n",
       "\n",
       "               published                                            summary  \\\n",
       "8246  26 Jun 2013, 14:20  Migos is a rap trio-group from Lawrenceville, ...   \n",
       "\n",
       "                                                content aritist_genre_0  \\\n",
       "8246  Migos is a rap trio-group from Lawrenceville, ...         Hip-Hop   \n",
       "\n",
       "     aritist_genre_1 aritist_genre_2 aritist_genre_3 aritist_genre_4  \\\n",
       "8246            trap             rap         hip hop         atlanta   \n",
       "\n",
       "     track_genre_0 track_genre_1 track_genre_2 track_genre_3 track_genre_4  \n",
       "8246          trap       Hip-Hop           rap         2010s      meme rap  "
      ]
     },
     "execution_count": 3,
     "metadata": {},
     "output_type": "execute_result"
    }
   ],
   "source": [
    "with open('../data/pickle/spotify_dataset_lastfm.pickle', 'rb') as data_lastfm:\n",
    "    data_lastfm = pickle.load(data_lastfm)\n",
    "data_lastfm.drop_duplicates(inplace=True)\n",
    "print(data_lastfm.drop_duplicates().shape)\n",
    "data_lastfm.head(1)"
   ]
  },
  {
   "attachments": {},
   "cell_type": "markdown",
   "metadata": {},
   "source": [
    "Spotify extraction"
   ]
  },
  {
   "cell_type": "code",
   "execution_count": 4,
   "metadata": {},
   "outputs": [
    {
     "name": "stdout",
     "output_type": "stream",
     "text": [
      "(13989, 21)\n"
     ]
    },
    {
     "data": {
      "text/html": [
       "<div>\n",
       "<style scoped>\n",
       "    .dataframe tbody tr th:only-of-type {\n",
       "        vertical-align: middle;\n",
       "    }\n",
       "\n",
       "    .dataframe tbody tr th {\n",
       "        vertical-align: top;\n",
       "    }\n",
       "\n",
       "    .dataframe thead th {\n",
       "        text-align: right;\n",
       "    }\n",
       "</style>\n",
       "<table border=\"1\" class=\"dataframe\">\n",
       "  <thead>\n",
       "    <tr style=\"text-align: right;\">\n",
       "      <th></th>\n",
       "      <th>url</th>\n",
       "      <th>artist</th>\n",
       "      <th>track</th>\n",
       "      <th>URI</th>\n",
       "      <th>danceability</th>\n",
       "      <th>energy</th>\n",
       "      <th>key</th>\n",
       "      <th>loudness</th>\n",
       "      <th>mode</th>\n",
       "      <th>speechiness</th>\n",
       "      <th>acousticness</th>\n",
       "      <th>instrumentalness</th>\n",
       "      <th>liveness</th>\n",
       "      <th>valence</th>\n",
       "      <th>tempo</th>\n",
       "      <th>type</th>\n",
       "      <th>id</th>\n",
       "      <th>track_href</th>\n",
       "      <th>analysis_url</th>\n",
       "      <th>duration_ms</th>\n",
       "      <th>time_signature</th>\n",
       "    </tr>\n",
       "  </thead>\n",
       "  <tbody>\n",
       "    <tr>\n",
       "      <th>0</th>\n",
       "      <td>https://open.spotify.com/track/4Km5HrUvYTaSUfi...</td>\n",
       "      <td>migos</td>\n",
       "      <td>bad and boujee (feat. lil uzi vert)</td>\n",
       "      <td>spotify:track:0M9ydKzuF3oZTfYYPfaGX1</td>\n",
       "      <td>0.926</td>\n",
       "      <td>0.666</td>\n",
       "      <td>11.000</td>\n",
       "      <td>-5.314</td>\n",
       "      <td>1.000</td>\n",
       "      <td>0.244</td>\n",
       "      <td>0.061</td>\n",
       "      <td>0.000</td>\n",
       "      <td>0.123</td>\n",
       "      <td>0.168</td>\n",
       "      <td>127.079</td>\n",
       "      <td>audio_features</td>\n",
       "      <td>0M9ydKzuF3oZTfYYPfaGX1</td>\n",
       "      <td>https://api.spotify.com/v1/tracks/0M9ydKzuF3oZ...</td>\n",
       "      <td>https://api.spotify.com/v1/audio-analysis/0M9y...</td>\n",
       "      <td>343150.000</td>\n",
       "      <td>4.000</td>\n",
       "    </tr>\n",
       "  </tbody>\n",
       "</table>\n",
       "</div>"
      ],
      "text/plain": [
       "                                                 url artist  \\\n",
       "0  https://open.spotify.com/track/4Km5HrUvYTaSUfi...  migos   \n",
       "\n",
       "                                 track                                   URI  \\\n",
       "0  bad and boujee (feat. lil uzi vert)  spotify:track:0M9ydKzuF3oZTfYYPfaGX1   \n",
       "\n",
       "   danceability  energy    key  loudness  mode  speechiness  acousticness  \\\n",
       "0         0.926   0.666 11.000    -5.314 1.000        0.244         0.061   \n",
       "\n",
       "   instrumentalness  liveness  valence   tempo            type  \\\n",
       "0             0.000     0.123    0.168 127.079  audio_features   \n",
       "\n",
       "                       id                                         track_href  \\\n",
       "0  0M9ydKzuF3oZTfYYPfaGX1  https://api.spotify.com/v1/tracks/0M9ydKzuF3oZ...   \n",
       "\n",
       "                                        analysis_url  duration_ms  \\\n",
       "0  https://api.spotify.com/v1/audio-analysis/0M9y...   343150.000   \n",
       "\n",
       "   time_signature  \n",
       "0           4.000  "
      ]
     },
     "execution_count": 4,
     "metadata": {},
     "output_type": "execute_result"
    }
   ],
   "source": [
    "with open('../data/pickle/spotify_dataset_audioFeatures.pickle', 'rb') as data_spotify:\n",
    "    data_spotify = pickle.load(data_spotify)\n",
    "data_spotify.drop_duplicates(inplace=True)\n",
    "print(data_spotify.drop_duplicates().shape)\n",
    "data_spotify.head(1)"
   ]
  },
  {
   "attachments": {},
   "cell_type": "markdown",
   "metadata": {},
   "source": [
    "# Merging all data"
   ]
  },
  {
   "cell_type": "code",
   "execution_count": 5,
   "metadata": {},
   "outputs": [
    {
     "data": {
      "text/plain": [
       "_merge\n",
       "both          456306\n",
       "left_only          0\n",
       "right_only         0\n",
       "dtype: int64"
      ]
     },
     "execution_count": 5,
     "metadata": {},
     "output_type": "execute_result"
    }
   ],
   "source": [
    "df = base_data.merge(data_lastfm, on = 'url', indicator = True, how = 'left')\n",
    "df.value_counts('_merge')"
   ]
  },
  {
   "cell_type": "code",
   "execution_count": 6,
   "metadata": {},
   "outputs": [
    {
     "data": {
      "text/plain": [
       "_merge\n",
       "both          442906\n",
       "left_only      13924\n",
       "right_only         0\n",
       "dtype: int64"
      ]
     },
     "execution_count": 6,
     "metadata": {},
     "output_type": "execute_result"
    }
   ],
   "source": [
    "df.drop(['_merge'], axis = 1, inplace = True)\n",
    "df = df.merge(data_spotify, on = 'url', indicator = True, how = 'left')\n",
    "df.value_counts('_merge')"
   ]
  },
  {
   "cell_type": "code",
   "execution_count": 7,
   "metadata": {},
   "outputs": [
    {
     "name": "stdout",
     "output_type": "stream",
     "text": [
      "(456830, 41)\n"
     ]
    },
    {
     "data": {
      "text/html": [
       "<div>\n",
       "<style scoped>\n",
       "    .dataframe tbody tr th:only-of-type {\n",
       "        vertical-align: middle;\n",
       "    }\n",
       "\n",
       "    .dataframe tbody tr th {\n",
       "        vertical-align: top;\n",
       "    }\n",
       "\n",
       "    .dataframe thead th {\n",
       "        text-align: right;\n",
       "    }\n",
       "</style>\n",
       "<table border=\"1\" class=\"dataframe\">\n",
       "  <thead>\n",
       "    <tr style=\"text-align: right;\">\n",
       "      <th></th>\n",
       "      <th>title</th>\n",
       "      <th>rank</th>\n",
       "      <th>date</th>\n",
       "      <th>artist</th>\n",
       "      <th>url</th>\n",
       "      <th>region</th>\n",
       "      <th>chart</th>\n",
       "      <th>trend</th>\n",
       "      <th>streams</th>\n",
       "      <th>published_track</th>\n",
       "      <th>published</th>\n",
       "      <th>summary</th>\n",
       "      <th>content</th>\n",
       "      <th>aritist_genre_0</th>\n",
       "      <th>aritist_genre_1</th>\n",
       "      <th>aritist_genre_2</th>\n",
       "      <th>aritist_genre_3</th>\n",
       "      <th>aritist_genre_4</th>\n",
       "      <th>track_genre_0</th>\n",
       "      <th>track_genre_1</th>\n",
       "      <th>track_genre_2</th>\n",
       "      <th>track_genre_3</th>\n",
       "      <th>track_genre_4</th>\n",
       "      <th>URI</th>\n",
       "      <th>danceability</th>\n",
       "      <th>energy</th>\n",
       "      <th>key</th>\n",
       "      <th>loudness</th>\n",
       "      <th>mode</th>\n",
       "      <th>speechiness</th>\n",
       "      <th>acousticness</th>\n",
       "      <th>instrumentalness</th>\n",
       "      <th>liveness</th>\n",
       "      <th>valence</th>\n",
       "      <th>tempo</th>\n",
       "      <th>type</th>\n",
       "      <th>id</th>\n",
       "      <th>track_href</th>\n",
       "      <th>analysis_url</th>\n",
       "      <th>duration_ms</th>\n",
       "      <th>time_signature</th>\n",
       "    </tr>\n",
       "  </thead>\n",
       "  <tbody>\n",
       "    <tr>\n",
       "      <th>0</th>\n",
       "      <td>Bad and Boujee (feat. Lil Uzi Vert)</td>\n",
       "      <td>1</td>\n",
       "      <td>2017-01-01</td>\n",
       "      <td>Migos</td>\n",
       "      <td>https://open.spotify.com/track/4Km5HrUvYTaSUfi...</td>\n",
       "      <td>United States</td>\n",
       "      <td>top200</td>\n",
       "      <td>SAME_POSITION</td>\n",
       "      <td>1371493.000</td>\n",
       "      <td>30 Jan 2018, 04:41</td>\n",
       "      <td>26 Jun 2013, 14:20</td>\n",
       "      <td>Migos is a rap trio-group from Lawrenceville, ...</td>\n",
       "      <td>Migos is a rap trio-group from Lawrenceville, ...</td>\n",
       "      <td>Hip-Hop</td>\n",
       "      <td>trap</td>\n",
       "      <td>rap</td>\n",
       "      <td>hip hop</td>\n",
       "      <td>atlanta</td>\n",
       "      <td>trap</td>\n",
       "      <td>Hip-Hop</td>\n",
       "      <td>rap</td>\n",
       "      <td>2010s</td>\n",
       "      <td>meme rap</td>\n",
       "      <td>spotify:track:0M9ydKzuF3oZTfYYPfaGX1</td>\n",
       "      <td>0.926</td>\n",
       "      <td>0.666</td>\n",
       "      <td>11.000</td>\n",
       "      <td>-5.314</td>\n",
       "      <td>1.000</td>\n",
       "      <td>0.244</td>\n",
       "      <td>0.061</td>\n",
       "      <td>0.000</td>\n",
       "      <td>0.123</td>\n",
       "      <td>0.168</td>\n",
       "      <td>127.079</td>\n",
       "      <td>audio_features</td>\n",
       "      <td>0M9ydKzuF3oZTfYYPfaGX1</td>\n",
       "      <td>https://api.spotify.com/v1/tracks/0M9ydKzuF3oZ...</td>\n",
       "      <td>https://api.spotify.com/v1/audio-analysis/0M9y...</td>\n",
       "      <td>343150.000</td>\n",
       "      <td>4.000</td>\n",
       "    </tr>\n",
       "  </tbody>\n",
       "</table>\n",
       "</div>"
      ],
      "text/plain": [
       "                                 title  rank        date artist  \\\n",
       "0  Bad and Boujee (feat. Lil Uzi Vert)     1  2017-01-01  Migos   \n",
       "\n",
       "                                                 url         region   chart  \\\n",
       "0  https://open.spotify.com/track/4Km5HrUvYTaSUfi...  United States  top200   \n",
       "\n",
       "           trend     streams     published_track           published  \\\n",
       "0  SAME_POSITION 1371493.000  30 Jan 2018, 04:41  26 Jun 2013, 14:20   \n",
       "\n",
       "                                             summary  \\\n",
       "0  Migos is a rap trio-group from Lawrenceville, ...   \n",
       "\n",
       "                                             content aritist_genre_0  \\\n",
       "0  Migos is a rap trio-group from Lawrenceville, ...         Hip-Hop   \n",
       "\n",
       "  aritist_genre_1 aritist_genre_2 aritist_genre_3 aritist_genre_4  \\\n",
       "0            trap             rap         hip hop         atlanta   \n",
       "\n",
       "  track_genre_0 track_genre_1 track_genre_2 track_genre_3 track_genre_4  \\\n",
       "0          trap       Hip-Hop           rap         2010s      meme rap   \n",
       "\n",
       "                                    URI  danceability  energy    key  \\\n",
       "0  spotify:track:0M9ydKzuF3oZTfYYPfaGX1         0.926   0.666 11.000   \n",
       "\n",
       "   loudness  mode  speechiness  acousticness  instrumentalness  liveness  \\\n",
       "0    -5.314 1.000        0.244         0.061             0.000     0.123   \n",
       "\n",
       "   valence   tempo            type                      id  \\\n",
       "0    0.168 127.079  audio_features  0M9ydKzuF3oZTfYYPfaGX1   \n",
       "\n",
       "                                          track_href  \\\n",
       "0  https://api.spotify.com/v1/tracks/0M9ydKzuF3oZ...   \n",
       "\n",
       "                                        analysis_url  duration_ms  \\\n",
       "0  https://api.spotify.com/v1/audio-analysis/0M9y...   343150.000   \n",
       "\n",
       "   time_signature  \n",
       "0           4.000  "
      ]
     },
     "execution_count": 7,
     "metadata": {},
     "output_type": "execute_result"
    }
   ],
   "source": [
    "df.drop(['artist_y', 'track_x', 'artist', 'track_y', '_merge'], axis = 1, inplace= True)\n",
    "df.rename({'artist_x':'artist'}, inplace=True, axis=1)\n",
    "print(df.shape)\n",
    "df.head(1)"
   ]
  },
  {
   "attachments": {},
   "cell_type": "markdown",
   "metadata": {},
   "source": [
    "# Cleaning data"
   ]
  },
  {
   "cell_type": "code",
   "execution_count": 8,
   "metadata": {},
   "outputs": [
    {
     "data": {
      "text/html": [
       "<div>\n",
       "<style scoped>\n",
       "    .dataframe tbody tr th:only-of-type {\n",
       "        vertical-align: middle;\n",
       "    }\n",
       "\n",
       "    .dataframe tbody tr th {\n",
       "        vertical-align: top;\n",
       "    }\n",
       "\n",
       "    .dataframe thead th {\n",
       "        text-align: right;\n",
       "    }\n",
       "</style>\n",
       "<table border=\"1\" class=\"dataframe\">\n",
       "  <thead>\n",
       "    <tr style=\"text-align: right;\">\n",
       "      <th></th>\n",
       "      <th>title</th>\n",
       "      <th>rank</th>\n",
       "      <th>date</th>\n",
       "      <th>artist</th>\n",
       "      <th>url</th>\n",
       "      <th>region</th>\n",
       "      <th>chart</th>\n",
       "      <th>trend</th>\n",
       "      <th>streams</th>\n",
       "      <th>published_track</th>\n",
       "      <th>published</th>\n",
       "      <th>summary</th>\n",
       "      <th>content</th>\n",
       "      <th>aritist_genre_0</th>\n",
       "      <th>aritist_genre_1</th>\n",
       "      <th>aritist_genre_2</th>\n",
       "      <th>aritist_genre_3</th>\n",
       "      <th>aritist_genre_4</th>\n",
       "      <th>track_genre_0</th>\n",
       "      <th>track_genre_1</th>\n",
       "      <th>track_genre_2</th>\n",
       "      <th>track_genre_3</th>\n",
       "      <th>track_genre_4</th>\n",
       "      <th>URI</th>\n",
       "      <th>danceability</th>\n",
       "      <th>energy</th>\n",
       "      <th>key</th>\n",
       "      <th>loudness</th>\n",
       "      <th>mode</th>\n",
       "      <th>speechiness</th>\n",
       "      <th>acousticness</th>\n",
       "      <th>instrumentalness</th>\n",
       "      <th>liveness</th>\n",
       "      <th>valence</th>\n",
       "      <th>tempo</th>\n",
       "      <th>type</th>\n",
       "      <th>id</th>\n",
       "      <th>track_href</th>\n",
       "      <th>analysis_url</th>\n",
       "      <th>duration_ms</th>\n",
       "      <th>time_signature</th>\n",
       "    </tr>\n",
       "  </thead>\n",
       "  <tbody>\n",
       "    <tr>\n",
       "      <th>0</th>\n",
       "      <td>Bad and Boujee (feat. Lil Uzi Vert)</td>\n",
       "      <td>1</td>\n",
       "      <td>2017-01-01</td>\n",
       "      <td>Migos</td>\n",
       "      <td>https://open.spotify.com/track/4Km5HrUvYTaSUfi...</td>\n",
       "      <td>United States</td>\n",
       "      <td>top200</td>\n",
       "      <td>SAME_POSITION</td>\n",
       "      <td>1371493.000</td>\n",
       "      <td>30 Jan 2018, 04:41</td>\n",
       "      <td>26 Jun 2013, 14:20</td>\n",
       "      <td>Migos is a rap trio-group from Lawrenceville, ...</td>\n",
       "      <td>Migos is a rap trio-group from Lawrenceville, ...</td>\n",
       "      <td>Hip-Hop</td>\n",
       "      <td>trap</td>\n",
       "      <td>rap</td>\n",
       "      <td>hip hop</td>\n",
       "      <td>atlanta</td>\n",
       "      <td>trap</td>\n",
       "      <td>Hip-Hop</td>\n",
       "      <td>rap</td>\n",
       "      <td>2010s</td>\n",
       "      <td>meme rap</td>\n",
       "      <td>spotify:track:0M9ydKzuF3oZTfYYPfaGX1</td>\n",
       "      <td>0.926</td>\n",
       "      <td>0.666</td>\n",
       "      <td>11.000</td>\n",
       "      <td>-5.314</td>\n",
       "      <td>1.000</td>\n",
       "      <td>0.244</td>\n",
       "      <td>0.061</td>\n",
       "      <td>0.000</td>\n",
       "      <td>0.123</td>\n",
       "      <td>0.168</td>\n",
       "      <td>127.079</td>\n",
       "      <td>audio_features</td>\n",
       "      <td>0M9ydKzuF3oZTfYYPfaGX1</td>\n",
       "      <td>https://api.spotify.com/v1/tracks/0M9ydKzuF3oZ...</td>\n",
       "      <td>https://api.spotify.com/v1/audio-analysis/0M9y...</td>\n",
       "      <td>343150.000</td>\n",
       "      <td>4.000</td>\n",
       "    </tr>\n",
       "  </tbody>\n",
       "</table>\n",
       "</div>"
      ],
      "text/plain": [
       "                                 title  rank        date artist  \\\n",
       "0  Bad and Boujee (feat. Lil Uzi Vert)     1  2017-01-01  Migos   \n",
       "\n",
       "                                                 url         region   chart  \\\n",
       "0  https://open.spotify.com/track/4Km5HrUvYTaSUfi...  United States  top200   \n",
       "\n",
       "           trend     streams     published_track           published  \\\n",
       "0  SAME_POSITION 1371493.000  30 Jan 2018, 04:41  26 Jun 2013, 14:20   \n",
       "\n",
       "                                             summary  \\\n",
       "0  Migos is a rap trio-group from Lawrenceville, ...   \n",
       "\n",
       "                                             content aritist_genre_0  \\\n",
       "0  Migos is a rap trio-group from Lawrenceville, ...         Hip-Hop   \n",
       "\n",
       "  aritist_genre_1 aritist_genre_2 aritist_genre_3 aritist_genre_4  \\\n",
       "0            trap             rap         hip hop         atlanta   \n",
       "\n",
       "  track_genre_0 track_genre_1 track_genre_2 track_genre_3 track_genre_4  \\\n",
       "0          trap       Hip-Hop           rap         2010s      meme rap   \n",
       "\n",
       "                                    URI  danceability  energy    key  \\\n",
       "0  spotify:track:0M9ydKzuF3oZTfYYPfaGX1         0.926   0.666 11.000   \n",
       "\n",
       "   loudness  mode  speechiness  acousticness  instrumentalness  liveness  \\\n",
       "0    -5.314 1.000        0.244         0.061             0.000     0.123   \n",
       "\n",
       "   valence   tempo            type                      id  \\\n",
       "0    0.168 127.079  audio_features  0M9ydKzuF3oZTfYYPfaGX1   \n",
       "\n",
       "                                          track_href  \\\n",
       "0  https://api.spotify.com/v1/tracks/0M9ydKzuF3oZ...   \n",
       "\n",
       "                                        analysis_url  duration_ms  \\\n",
       "0  https://api.spotify.com/v1/audio-analysis/0M9y...   343150.000   \n",
       "\n",
       "   time_signature  \n",
       "0           4.000  "
      ]
     },
     "execution_count": 8,
     "metadata": {},
     "output_type": "execute_result"
    }
   ],
   "source": [
    "df.head(1)"
   ]
  },
  {
   "attachments": {},
   "cell_type": "markdown",
   "metadata": {},
   "source": [
    "Highest rank in list + Weeks in charts"
   ]
  },
  {
   "cell_type": "code",
   "execution_count": 9,
   "metadata": {},
   "outputs": [
    {
     "data": {
      "text/plain": [
       "14650"
      ]
     },
     "execution_count": 9,
     "metadata": {},
     "output_type": "execute_result"
    }
   ],
   "source": [
    "lista_url = df['url'].unique().tolist()\n",
    "len(lista_url)"
   ]
  },
  {
   "cell_type": "code",
   "execution_count": 10,
   "metadata": {},
   "outputs": [],
   "source": [
    "ranks = {\n",
    "    'url':[],\n",
    "    'highest_rank':[],\n",
    "    'weeks_in_charts':[]\n",
    "}"
   ]
  },
  {
   "cell_type": "code",
   "execution_count": 11,
   "metadata": {},
   "outputs": [
    {
     "name": "stderr",
     "output_type": "stream",
     "text": [
      "  5%|▍         | 706/14650 [00:37<12:23, 18.76it/s]\n"
     ]
    },
    {
     "ename": "KeyboardInterrupt",
     "evalue": "",
     "output_type": "error",
     "traceback": [
      "\u001b[1;31m---------------------------------------------------------------------------\u001b[0m",
      "\u001b[1;31mKeyboardInterrupt\u001b[0m                         Traceback (most recent call last)",
      "Cell \u001b[1;32mIn [11], line 4\u001b[0m\n\u001b[0;32m      2\u001b[0m ranks[\u001b[39m'\u001b[39m\u001b[39murl\u001b[39m\u001b[39m'\u001b[39m]\u001b[39m.\u001b[39mappend(url)\n\u001b[0;32m      3\u001b[0m ranks[\u001b[39m'\u001b[39m\u001b[39mhighest_rank\u001b[39m\u001b[39m'\u001b[39m]\u001b[39m.\u001b[39mappend(df[df[\u001b[39m'\u001b[39m\u001b[39murl\u001b[39m\u001b[39m'\u001b[39m] \u001b[39m==\u001b[39m url]\u001b[39m.\u001b[39msort_values(by \u001b[39m=\u001b[39m \u001b[39m'\u001b[39m\u001b[39mrank\u001b[39m\u001b[39m'\u001b[39m)\u001b[39m.\u001b[39miloc[\u001b[39m0\u001b[39m,\u001b[39m1\u001b[39m])\n\u001b[1;32m----> 4\u001b[0m ranks[\u001b[39m'\u001b[39m\u001b[39mweeks_in_charts\u001b[39m\u001b[39m'\u001b[39m]\u001b[39m.\u001b[39mappend(df[df[\u001b[39m'\u001b[39;49m\u001b[39murl\u001b[39;49m\u001b[39m'\u001b[39;49m] \u001b[39m==\u001b[39;49m url]\u001b[39m.\u001b[39mshape[\u001b[39m0\u001b[39m])\n",
      "File \u001b[1;32mc:\\Users\\annas\\anaconda3\\envs\\iron\\lib\\site-packages\\pandas\\core\\ops\\common.py:72\u001b[0m, in \u001b[0;36m_unpack_zerodim_and_defer.<locals>.new_method\u001b[1;34m(self, other)\u001b[0m\n\u001b[0;32m     68\u001b[0m             \u001b[39mreturn\u001b[39;00m \u001b[39mNotImplemented\u001b[39m\n\u001b[0;32m     70\u001b[0m other \u001b[39m=\u001b[39m item_from_zerodim(other)\n\u001b[1;32m---> 72\u001b[0m \u001b[39mreturn\u001b[39;00m method(\u001b[39mself\u001b[39;49m, other)\n",
      "File \u001b[1;32mc:\\Users\\annas\\anaconda3\\envs\\iron\\lib\\site-packages\\pandas\\core\\arraylike.py:42\u001b[0m, in \u001b[0;36mOpsMixin.__eq__\u001b[1;34m(self, other)\u001b[0m\n\u001b[0;32m     40\u001b[0m \u001b[39m@unpack_zerodim_and_defer\u001b[39m(\u001b[39m\"\u001b[39m\u001b[39m__eq__\u001b[39m\u001b[39m\"\u001b[39m)\n\u001b[0;32m     41\u001b[0m \u001b[39mdef\u001b[39;00m \u001b[39m__eq__\u001b[39m(\u001b[39mself\u001b[39m, other):\n\u001b[1;32m---> 42\u001b[0m     \u001b[39mreturn\u001b[39;00m \u001b[39mself\u001b[39;49m\u001b[39m.\u001b[39;49m_cmp_method(other, operator\u001b[39m.\u001b[39;49meq)\n",
      "File \u001b[1;32mc:\\Users\\annas\\anaconda3\\envs\\iron\\lib\\site-packages\\pandas\\core\\series.py:6243\u001b[0m, in \u001b[0;36mSeries._cmp_method\u001b[1;34m(self, other, op)\u001b[0m\n\u001b[0;32m   6240\u001b[0m rvalues \u001b[39m=\u001b[39m extract_array(other, extract_numpy\u001b[39m=\u001b[39m\u001b[39mTrue\u001b[39;00m, extract_range\u001b[39m=\u001b[39m\u001b[39mTrue\u001b[39;00m)\n\u001b[0;32m   6242\u001b[0m \u001b[39mwith\u001b[39;00m np\u001b[39m.\u001b[39merrstate(\u001b[39mall\u001b[39m\u001b[39m=\u001b[39m\u001b[39m\"\u001b[39m\u001b[39mignore\u001b[39m\u001b[39m\"\u001b[39m):\n\u001b[1;32m-> 6243\u001b[0m     res_values \u001b[39m=\u001b[39m ops\u001b[39m.\u001b[39;49mcomparison_op(lvalues, rvalues, op)\n\u001b[0;32m   6245\u001b[0m \u001b[39mreturn\u001b[39;00m \u001b[39mself\u001b[39m\u001b[39m.\u001b[39m_construct_result(res_values, name\u001b[39m=\u001b[39mres_name)\n",
      "File \u001b[1;32mc:\\Users\\annas\\anaconda3\\envs\\iron\\lib\\site-packages\\pandas\\core\\ops\\array_ops.py:287\u001b[0m, in \u001b[0;36mcomparison_op\u001b[1;34m(left, right, op)\u001b[0m\n\u001b[0;32m    284\u001b[0m     \u001b[39mreturn\u001b[39;00m invalid_comparison(lvalues, rvalues, op)\n\u001b[0;32m    286\u001b[0m \u001b[39melif\u001b[39;00m is_object_dtype(lvalues\u001b[39m.\u001b[39mdtype) \u001b[39mor\u001b[39;00m \u001b[39misinstance\u001b[39m(rvalues, \u001b[39mstr\u001b[39m):\n\u001b[1;32m--> 287\u001b[0m     res_values \u001b[39m=\u001b[39m comp_method_OBJECT_ARRAY(op, lvalues, rvalues)\n\u001b[0;32m    289\u001b[0m \u001b[39melse\u001b[39;00m:\n\u001b[0;32m    290\u001b[0m     res_values \u001b[39m=\u001b[39m _na_arithmetic_op(lvalues, rvalues, op, is_cmp\u001b[39m=\u001b[39m\u001b[39mTrue\u001b[39;00m)\n",
      "File \u001b[1;32mc:\\Users\\annas\\anaconda3\\envs\\iron\\lib\\site-packages\\pandas\\core\\ops\\array_ops.py:76\u001b[0m, in \u001b[0;36mcomp_method_OBJECT_ARRAY\u001b[1;34m(op, x, y)\u001b[0m\n\u001b[0;32m     74\u001b[0m \u001b[39melse\u001b[39;00m:\n\u001b[0;32m     75\u001b[0m     result \u001b[39m=\u001b[39m libops\u001b[39m.\u001b[39mscalar_compare(x\u001b[39m.\u001b[39mravel(), y, op)\n\u001b[1;32m---> 76\u001b[0m \u001b[39mreturn\u001b[39;00m result\u001b[39m.\u001b[39;49mreshape(x\u001b[39m.\u001b[39mshape)\n",
      "\u001b[1;31mKeyboardInterrupt\u001b[0m: "
     ]
    }
   ],
   "source": [
    "for url in tqdm(lista_url):\n",
    "    ranks['url'].append(url)\n",
    "    ranks['highest_rank'].append(df[df['url'] == url].sort_values(by = 'rank').iloc[0,1])\n",
    "    ranks['weeks_in_charts'].append(df[df['url'] == url].shape[0])"
   ]
  },
  {
   "cell_type": "code",
   "execution_count": null,
   "metadata": {},
   "outputs": [],
   "source": [
    "print(len(ranks['url']), len(ranks['highest_rank']), len(ranks['weeks_in_charts']))"
   ]
  },
  {
   "cell_type": "code",
   "execution_count": null,
   "metadata": {},
   "outputs": [],
   "source": [
    "df = df.merge(pd.DataFrame(ranks), on = 'url', indicator= True)\n",
    "df.value_counts('_merge')"
   ]
  },
  {
   "cell_type": "code",
   "execution_count": null,
   "metadata": {},
   "outputs": [],
   "source": [
    "df.drop(['_merge'], axis = 1, inplace=True)"
   ]
  },
  {
   "attachments": {},
   "cell_type": "markdown",
   "metadata": {},
   "source": [
    "Main music genre\n",
    "\n",
    "Primo los géneros de las canciones -- si no hubiera datos, cojo los valores del artista"
   ]
  },
  {
   "cell_type": "code",
   "execution_count": null,
   "metadata": {},
   "outputs": [],
   "source": [
    "df.head(1)"
   ]
  },
  {
   "cell_type": "code",
   "execution_count": null,
   "metadata": {},
   "outputs": [],
   "source": [
    "df['music_genre'] = np.where(df['aritist_genre_0'].isnull() == True, df['track_genre_0'].str.lower(), df['aritist_genre_0'].str.lower())\n",
    "df['music_genre'].value_counts()"
   ]
  },
  {
   "cell_type": "code",
   "execution_count": null,
   "metadata": {},
   "outputs": [],
   "source": [
    "cuenta_generos = Counter(genres for genres in df['music_genre'])\n",
    "print(f\"Hay {len(cuenta_generos)} generos diferentes.\")"
   ]
  },
  {
   "cell_type": "code",
   "execution_count": null,
   "metadata": {},
   "outputs": [],
   "source": [
    "dict_genres = dict(cuenta_generos.most_common(24))"
   ]
  },
  {
   "cell_type": "code",
   "execution_count": null,
   "metadata": {},
   "outputs": [],
   "source": [
    "fuzz.ratio('hip-hop', \"hip hop\")"
   ]
  },
  {
   "cell_type": "code",
   "execution_count": null,
   "metadata": {},
   "outputs": [],
   "source": [
    "def music_genres(column, genres):\n",
    "    max = 0\n",
    "    for key in genres.keys():\n",
    "        try:\n",
    "            similar = fuzz.ratio(column, key)\n",
    "            if similar > max:\n",
    "                max = similar\n",
    "                genre = key     \n",
    "        except:\n",
    "            return \"other\"\n",
    "    if max > 60:\n",
    "        return genre\n",
    "    else:\n",
    "        return \"other\""
   ]
  },
  {
   "cell_type": "code",
   "execution_count": null,
   "metadata": {},
   "outputs": [],
   "source": [
    "df[\"clean_music_genre\"] = df.apply(lambda x: music_genres(x[\"music_genre\"], dict_genres), axis = 1)\n",
    "df[\"clean_music_genre\"].value_counts()"
   ]
  },
  {
   "attachments": {},
   "cell_type": "markdown",
   "metadata": {},
   "source": [
    "Gender from artists\n",
    "\n",
    "--from summary"
   ]
  },
  {
   "cell_type": "code",
   "execution_count": 12,
   "metadata": {},
   "outputs": [
    {
     "data": {
      "text/html": [
       "<div>\n",
       "<style scoped>\n",
       "    .dataframe tbody tr th:only-of-type {\n",
       "        vertical-align: middle;\n",
       "    }\n",
       "\n",
       "    .dataframe tbody tr th {\n",
       "        vertical-align: top;\n",
       "    }\n",
       "\n",
       "    .dataframe thead th {\n",
       "        text-align: right;\n",
       "    }\n",
       "</style>\n",
       "<table border=\"1\" class=\"dataframe\">\n",
       "  <thead>\n",
       "    <tr style=\"text-align: right;\">\n",
       "      <th></th>\n",
       "      <th>title</th>\n",
       "      <th>rank</th>\n",
       "      <th>date</th>\n",
       "      <th>artist</th>\n",
       "      <th>url</th>\n",
       "      <th>region</th>\n",
       "      <th>chart</th>\n",
       "      <th>trend</th>\n",
       "      <th>streams</th>\n",
       "      <th>published_track</th>\n",
       "      <th>published</th>\n",
       "      <th>summary</th>\n",
       "      <th>content</th>\n",
       "      <th>aritist_genre_0</th>\n",
       "      <th>aritist_genre_1</th>\n",
       "      <th>aritist_genre_2</th>\n",
       "      <th>aritist_genre_3</th>\n",
       "      <th>aritist_genre_4</th>\n",
       "      <th>track_genre_0</th>\n",
       "      <th>track_genre_1</th>\n",
       "      <th>track_genre_2</th>\n",
       "      <th>track_genre_3</th>\n",
       "      <th>track_genre_4</th>\n",
       "      <th>URI</th>\n",
       "      <th>danceability</th>\n",
       "      <th>energy</th>\n",
       "      <th>key</th>\n",
       "      <th>loudness</th>\n",
       "      <th>mode</th>\n",
       "      <th>speechiness</th>\n",
       "      <th>acousticness</th>\n",
       "      <th>instrumentalness</th>\n",
       "      <th>liveness</th>\n",
       "      <th>valence</th>\n",
       "      <th>tempo</th>\n",
       "      <th>type</th>\n",
       "      <th>id</th>\n",
       "      <th>track_href</th>\n",
       "      <th>analysis_url</th>\n",
       "      <th>duration_ms</th>\n",
       "      <th>time_signature</th>\n",
       "    </tr>\n",
       "  </thead>\n",
       "  <tbody>\n",
       "    <tr>\n",
       "      <th>15699</th>\n",
       "      <td>goosebumps</td>\n",
       "      <td>23</td>\n",
       "      <td>2020-05-06</td>\n",
       "      <td>Travis Scott</td>\n",
       "      <td>https://open.spotify.com/track/6gBFPUFcJLzWGx4...</td>\n",
       "      <td>United States</td>\n",
       "      <td>top200</td>\n",
       "      <td>MOVE_DOWN</td>\n",
       "      <td>557039.000</td>\n",
       "      <td>26 Dec 2021, 05:35</td>\n",
       "      <td>16 Jun 2013, 00:08</td>\n",
       "      <td>Jacques Webster (born April 30, 1992), better ...</td>\n",
       "      <td>Jacques Webster (born April 30, 1992), better ...</td>\n",
       "      <td>Hip-Hop</td>\n",
       "      <td>rap</td>\n",
       "      <td>trap</td>\n",
       "      <td>hip hop</td>\n",
       "      <td>american</td>\n",
       "      <td>trap</td>\n",
       "      <td>alternative rnb</td>\n",
       "      <td>Hip-Hop</td>\n",
       "      <td>rap</td>\n",
       "      <td>psychedelic</td>\n",
       "      <td>spotify:track:6gBFPUFcJLzWGx4lenP6h2</td>\n",
       "      <td>0.841</td>\n",
       "      <td>0.728</td>\n",
       "      <td>7.000</td>\n",
       "      <td>-3.370</td>\n",
       "      <td>1.000</td>\n",
       "      <td>0.048</td>\n",
       "      <td>0.085</td>\n",
       "      <td>0.000</td>\n",
       "      <td>0.149</td>\n",
       "      <td>0.430</td>\n",
       "      <td>130.049</td>\n",
       "      <td>audio_features</td>\n",
       "      <td>6gBFPUFcJLzWGx4lenP6h2</td>\n",
       "      <td>https://api.spotify.com/v1/tracks/6gBFPUFcJLzW...</td>\n",
       "      <td>https://api.spotify.com/v1/audio-analysis/6gBF...</td>\n",
       "      <td>243837.000</td>\n",
       "      <td>4.000</td>\n",
       "    </tr>\n",
       "    <tr>\n",
       "      <th>297618</th>\n",
       "      <td>my ex's best friend (with blackbear)</td>\n",
       "      <td>117</td>\n",
       "      <td>2020-12-13</td>\n",
       "      <td>Machine Gun Kelly</td>\n",
       "      <td>https://open.spotify.com/track/7kDUspsoYfLkWnZ...</td>\n",
       "      <td>United States</td>\n",
       "      <td>top200</td>\n",
       "      <td>MOVE_DOWN</td>\n",
       "      <td>333316.000</td>\n",
       "      <td>06 Feb 2022, 18:02</td>\n",
       "      <td>07 Jan 2011, 05:08</td>\n",
       "      <td>Colson Baker (born April 22, 1990), known prof...</td>\n",
       "      <td>Colson Baker (born April 22, 1990), known prof...</td>\n",
       "      <td>Hip-Hop</td>\n",
       "      <td>rap</td>\n",
       "      <td>pop punk</td>\n",
       "      <td>Cleveland</td>\n",
       "      <td>hip hop</td>\n",
       "      <td>alternative rock</td>\n",
       "      <td>pop</td>\n",
       "      <td>rock</td>\n",
       "      <td>alternative</td>\n",
       "      <td>emo</td>\n",
       "      <td>spotify:track:7kDUspsoYfLkWnZR7qwHZl</td>\n",
       "      <td>0.731</td>\n",
       "      <td>0.675</td>\n",
       "      <td>5.000</td>\n",
       "      <td>-5.134</td>\n",
       "      <td>0.000</td>\n",
       "      <td>0.043</td>\n",
       "      <td>0.005</td>\n",
       "      <td>0.000</td>\n",
       "      <td>0.141</td>\n",
       "      <td>0.298</td>\n",
       "      <td>124.939</td>\n",
       "      <td>audio_features</td>\n",
       "      <td>7kDUspsoYfLkWnZR7qwHZl</td>\n",
       "      <td>https://api.spotify.com/v1/tracks/7kDUspsoYfLk...</td>\n",
       "      <td>https://api.spotify.com/v1/audio-analysis/7kDU...</td>\n",
       "      <td>139461.000</td>\n",
       "      <td>4.000</td>\n",
       "    </tr>\n",
       "    <tr>\n",
       "      <th>119995</th>\n",
       "      <td>10 Freaky Girls (with 21 Savage)</td>\n",
       "      <td>66</td>\n",
       "      <td>2018-12-20</td>\n",
       "      <td>Metro Boomin</td>\n",
       "      <td>https://open.spotify.com/track/0AluA5RNsa4Cx6X...</td>\n",
       "      <td>United States</td>\n",
       "      <td>top200</td>\n",
       "      <td>MOVE_DOWN</td>\n",
       "      <td>448968.000</td>\n",
       "      <td>08 May 2021, 01:43</td>\n",
       "      <td>26 Jul 2015, 20:53</td>\n",
       "      <td>Leland Tyler Wayne, better known by his stage ...</td>\n",
       "      <td>Leland Tyler Wayne, better known by his stage ...</td>\n",
       "      <td>trap</td>\n",
       "      <td>Hip-Hop</td>\n",
       "      <td>rap</td>\n",
       "      <td>hip hop</td>\n",
       "      <td>american</td>\n",
       "      <td>hip hop</td>\n",
       "      <td>rap</td>\n",
       "      <td>trap</td>\n",
       "      <td>21 savage</td>\n",
       "      <td>NaN</td>\n",
       "      <td>spotify:track:0AluA5RNsa4Cx6XRhf2hWZ</td>\n",
       "      <td>0.810</td>\n",
       "      <td>0.353</td>\n",
       "      <td>6.000</td>\n",
       "      <td>-9.931</td>\n",
       "      <td>0.000</td>\n",
       "      <td>0.310</td>\n",
       "      <td>0.588</td>\n",
       "      <td>0.000</td>\n",
       "      <td>0.102</td>\n",
       "      <td>0.073</td>\n",
       "      <td>88.031</td>\n",
       "      <td>audio_features</td>\n",
       "      <td>0AluA5RNsa4Cx6XRhf2hWZ</td>\n",
       "      <td>https://api.spotify.com/v1/tracks/0AluA5RNsa4C...</td>\n",
       "      <td>https://api.spotify.com/v1/audio-analysis/0Alu...</td>\n",
       "      <td>208293.000</td>\n",
       "      <td>4.000</td>\n",
       "    </tr>\n",
       "    <tr>\n",
       "      <th>22706</th>\n",
       "      <td>Weak</td>\n",
       "      <td>41</td>\n",
       "      <td>2017-01-18</td>\n",
       "      <td>AJR</td>\n",
       "      <td>https://open.spotify.com/track/3E2Zh20GDCR9B1E...</td>\n",
       "      <td>United States</td>\n",
       "      <td>top200</td>\n",
       "      <td>SAME_POSITION</td>\n",
       "      <td>406941.000</td>\n",
       "      <td>NaN</td>\n",
       "      <td>20 Sep 2011, 23:03</td>\n",
       "      <td>AJR is a New York City-based indie pop band co...</td>\n",
       "      <td>AJR is a New York City-based indie pop band co...</td>\n",
       "      <td>indie pop</td>\n",
       "      <td>seen live</td>\n",
       "      <td>pop</td>\n",
       "      <td>indie</td>\n",
       "      <td>american</td>\n",
       "      <td>NaN</td>\n",
       "      <td>NaN</td>\n",
       "      <td>NaN</td>\n",
       "      <td>NaN</td>\n",
       "      <td>NaN</td>\n",
       "      <td>spotify:track:5DZwnLxHjWTZaz9jOpRhxb</td>\n",
       "      <td>0.670</td>\n",
       "      <td>0.643</td>\n",
       "      <td>5.000</td>\n",
       "      <td>-4.553</td>\n",
       "      <td>1.000</td>\n",
       "      <td>0.046</td>\n",
       "      <td>0.118</td>\n",
       "      <td>0.000</td>\n",
       "      <td>0.192</td>\n",
       "      <td>0.703</td>\n",
       "      <td>123.979</td>\n",
       "      <td>audio_features</td>\n",
       "      <td>5DZwnLxHjWTZaz9jOpRhxb</td>\n",
       "      <td>https://api.spotify.com/v1/tracks/5DZwnLxHjWTZ...</td>\n",
       "      <td>https://api.spotify.com/v1/audio-analysis/5DZw...</td>\n",
       "      <td>201159.000</td>\n",
       "      <td>4.000</td>\n",
       "    </tr>\n",
       "    <tr>\n",
       "      <th>223353</th>\n",
       "      <td>SUBEME LA RADIO (feat. Descemer Bueno &amp; Zion &amp;...</td>\n",
       "      <td>191</td>\n",
       "      <td>2017-05-24</td>\n",
       "      <td>Enrique Iglesias</td>\n",
       "      <td>https://open.spotify.com/track/7nKBxz47S9SD79N...</td>\n",
       "      <td>United States</td>\n",
       "      <td>top200</td>\n",
       "      <td>MOVE_UP</td>\n",
       "      <td>170430.000</td>\n",
       "      <td>NaN</td>\n",
       "      <td>12 Aug 2006, 21:41</td>\n",
       "      <td>Enrique Iglesias (born Enrique Miguel Iglesias...</td>\n",
       "      <td>Enrique Iglesias (born Enrique Miguel Iglesias...</td>\n",
       "      <td>pop</td>\n",
       "      <td>latin</td>\n",
       "      <td>spanish</td>\n",
       "      <td>dance</td>\n",
       "      <td>latin pop</td>\n",
       "      <td>NaN</td>\n",
       "      <td>NaN</td>\n",
       "      <td>NaN</td>\n",
       "      <td>NaN</td>\n",
       "      <td>NaN</td>\n",
       "      <td>spotify:track:7nKBxz47S9SD79N086fuhn</td>\n",
       "      <td>0.688</td>\n",
       "      <td>0.822</td>\n",
       "      <td>0.000</td>\n",
       "      <td>-3.304</td>\n",
       "      <td>1.000</td>\n",
       "      <td>0.054</td>\n",
       "      <td>0.064</td>\n",
       "      <td>0.000</td>\n",
       "      <td>0.241</td>\n",
       "      <td>0.660</td>\n",
       "      <td>91.011</td>\n",
       "      <td>audio_features</td>\n",
       "      <td>7nKBxz47S9SD79N086fuhn</td>\n",
       "      <td>https://api.spotify.com/v1/tracks/7nKBxz47S9SD...</td>\n",
       "      <td>https://api.spotify.com/v1/audio-analysis/7nKB...</td>\n",
       "      <td>207680.000</td>\n",
       "      <td>4.000</td>\n",
       "    </tr>\n",
       "  </tbody>\n",
       "</table>\n",
       "</div>"
      ],
      "text/plain": [
       "                                                    title  rank        date  \\\n",
       "15699                                          goosebumps    23  2020-05-06   \n",
       "297618               my ex's best friend (with blackbear)   117  2020-12-13   \n",
       "119995                   10 Freaky Girls (with 21 Savage)    66  2018-12-20   \n",
       "22706                                                Weak    41  2017-01-18   \n",
       "223353  SUBEME LA RADIO (feat. Descemer Bueno & Zion &...   191  2017-05-24   \n",
       "\n",
       "                   artist                                                url  \\\n",
       "15699        Travis Scott  https://open.spotify.com/track/6gBFPUFcJLzWGx4...   \n",
       "297618  Machine Gun Kelly  https://open.spotify.com/track/7kDUspsoYfLkWnZ...   \n",
       "119995       Metro Boomin  https://open.spotify.com/track/0AluA5RNsa4Cx6X...   \n",
       "22706                 AJR  https://open.spotify.com/track/3E2Zh20GDCR9B1E...   \n",
       "223353   Enrique Iglesias  https://open.spotify.com/track/7nKBxz47S9SD79N...   \n",
       "\n",
       "               region   chart          trend    streams     published_track  \\\n",
       "15699   United States  top200      MOVE_DOWN 557039.000  26 Dec 2021, 05:35   \n",
       "297618  United States  top200      MOVE_DOWN 333316.000  06 Feb 2022, 18:02   \n",
       "119995  United States  top200      MOVE_DOWN 448968.000  08 May 2021, 01:43   \n",
       "22706   United States  top200  SAME_POSITION 406941.000                 NaN   \n",
       "223353  United States  top200        MOVE_UP 170430.000                 NaN   \n",
       "\n",
       "                 published                                            summary  \\\n",
       "15699   16 Jun 2013, 00:08  Jacques Webster (born April 30, 1992), better ...   \n",
       "297618  07 Jan 2011, 05:08  Colson Baker (born April 22, 1990), known prof...   \n",
       "119995  26 Jul 2015, 20:53  Leland Tyler Wayne, better known by his stage ...   \n",
       "22706   20 Sep 2011, 23:03  AJR is a New York City-based indie pop band co...   \n",
       "223353  12 Aug 2006, 21:41  Enrique Iglesias (born Enrique Miguel Iglesias...   \n",
       "\n",
       "                                                  content aritist_genre_0  \\\n",
       "15699   Jacques Webster (born April 30, 1992), better ...         Hip-Hop   \n",
       "297618  Colson Baker (born April 22, 1990), known prof...         Hip-Hop   \n",
       "119995  Leland Tyler Wayne, better known by his stage ...            trap   \n",
       "22706   AJR is a New York City-based indie pop band co...       indie pop   \n",
       "223353  Enrique Iglesias (born Enrique Miguel Iglesias...             pop   \n",
       "\n",
       "       aritist_genre_1 aritist_genre_2 aritist_genre_3 aritist_genre_4  \\\n",
       "15699              rap            trap         hip hop        american   \n",
       "297618             rap        pop punk       Cleveland         hip hop   \n",
       "119995         Hip-Hop             rap         hip hop        american   \n",
       "22706        seen live             pop           indie        american   \n",
       "223353           latin         spanish           dance       latin pop   \n",
       "\n",
       "           track_genre_0    track_genre_1 track_genre_2 track_genre_3  \\\n",
       "15699               trap  alternative rnb       Hip-Hop           rap   \n",
       "297618  alternative rock              pop          rock   alternative   \n",
       "119995           hip hop              rap          trap     21 savage   \n",
       "22706                NaN              NaN           NaN           NaN   \n",
       "223353               NaN              NaN           NaN           NaN   \n",
       "\n",
       "       track_genre_4                                   URI  danceability  \\\n",
       "15699    psychedelic  spotify:track:6gBFPUFcJLzWGx4lenP6h2         0.841   \n",
       "297618           emo  spotify:track:7kDUspsoYfLkWnZR7qwHZl         0.731   \n",
       "119995           NaN  spotify:track:0AluA5RNsa4Cx6XRhf2hWZ         0.810   \n",
       "22706            NaN  spotify:track:5DZwnLxHjWTZaz9jOpRhxb         0.670   \n",
       "223353           NaN  spotify:track:7nKBxz47S9SD79N086fuhn         0.688   \n",
       "\n",
       "        energy   key  loudness  mode  speechiness  acousticness  \\\n",
       "15699    0.728 7.000    -3.370 1.000        0.048         0.085   \n",
       "297618   0.675 5.000    -5.134 0.000        0.043         0.005   \n",
       "119995   0.353 6.000    -9.931 0.000        0.310         0.588   \n",
       "22706    0.643 5.000    -4.553 1.000        0.046         0.118   \n",
       "223353   0.822 0.000    -3.304 1.000        0.054         0.064   \n",
       "\n",
       "        instrumentalness  liveness  valence   tempo            type  \\\n",
       "15699              0.000     0.149    0.430 130.049  audio_features   \n",
       "297618             0.000     0.141    0.298 124.939  audio_features   \n",
       "119995             0.000     0.102    0.073  88.031  audio_features   \n",
       "22706              0.000     0.192    0.703 123.979  audio_features   \n",
       "223353             0.000     0.241    0.660  91.011  audio_features   \n",
       "\n",
       "                            id  \\\n",
       "15699   6gBFPUFcJLzWGx4lenP6h2   \n",
       "297618  7kDUspsoYfLkWnZR7qwHZl   \n",
       "119995  0AluA5RNsa4Cx6XRhf2hWZ   \n",
       "22706   5DZwnLxHjWTZaz9jOpRhxb   \n",
       "223353  7nKBxz47S9SD79N086fuhn   \n",
       "\n",
       "                                               track_href  \\\n",
       "15699   https://api.spotify.com/v1/tracks/6gBFPUFcJLzW...   \n",
       "297618  https://api.spotify.com/v1/tracks/7kDUspsoYfLk...   \n",
       "119995  https://api.spotify.com/v1/tracks/0AluA5RNsa4C...   \n",
       "22706   https://api.spotify.com/v1/tracks/5DZwnLxHjWTZ...   \n",
       "223353  https://api.spotify.com/v1/tracks/7nKBxz47S9SD...   \n",
       "\n",
       "                                             analysis_url  duration_ms  \\\n",
       "15699   https://api.spotify.com/v1/audio-analysis/6gBF...   243837.000   \n",
       "297618  https://api.spotify.com/v1/audio-analysis/7kDU...   139461.000   \n",
       "119995  https://api.spotify.com/v1/audio-analysis/0Alu...   208293.000   \n",
       "22706   https://api.spotify.com/v1/audio-analysis/5DZw...   201159.000   \n",
       "223353  https://api.spotify.com/v1/audio-analysis/7nKB...   207680.000   \n",
       "\n",
       "        time_signature  \n",
       "15699            4.000  \n",
       "297618           4.000  \n",
       "119995           4.000  \n",
       "22706            4.000  \n",
       "223353           4.000  "
      ]
     },
     "execution_count": 12,
     "metadata": {},
     "output_type": "execute_result"
    }
   ],
   "source": [
    "df.sample(5)"
   ]
  },
  {
   "cell_type": "code",
   "execution_count": 33,
   "metadata": {},
   "outputs": [],
   "source": [
    "def generos(col):\n",
    "    for key, value in bb.dict_gender.items():\n",
    "        try:\n",
    "            if value in col.lower():\n",
    "                return key\n",
    "        except:\n",
    "            return np.nan"
   ]
  },
  {
   "cell_type": "code",
   "execution_count": 34,
   "metadata": {},
   "outputs": [
    {
     "ename": "AttributeError",
     "evalue": "'float' object has no attribute 'lower'",
     "output_type": "error",
     "traceback": [
      "\u001b[1;31m---------------------------------------------------------------------------\u001b[0m",
      "\u001b[1;31mAttributeError\u001b[0m                            Traceback (most recent call last)",
      "Cell \u001b[1;32mIn [34], line 2\u001b[0m\n\u001b[0;32m      1\u001b[0m \u001b[39m#df[\"gender\"] = df.apply(lambda x: generos(x['content'], bb.dict_gender), axis=1)\u001b[39;00m\n\u001b[1;32m----> 2\u001b[0m df[\u001b[39m\"\u001b[39m\u001b[39mgender\u001b[39m\u001b[39m\"\u001b[39m] \u001b[39m=\u001b[39m df[\u001b[39m'\u001b[39;49m\u001b[39mcontent\u001b[39;49m\u001b[39m'\u001b[39;49m]\u001b[39m.\u001b[39;49mapply(generos)\n",
      "File \u001b[1;32mc:\\Users\\annas\\anaconda3\\envs\\iron\\lib\\site-packages\\pandas\\core\\series.py:4771\u001b[0m, in \u001b[0;36mSeries.apply\u001b[1;34m(self, func, convert_dtype, args, **kwargs)\u001b[0m\n\u001b[0;32m   4661\u001b[0m \u001b[39mdef\u001b[39;00m \u001b[39mapply\u001b[39m(\n\u001b[0;32m   4662\u001b[0m     \u001b[39mself\u001b[39m,\n\u001b[0;32m   4663\u001b[0m     func: AggFuncType,\n\u001b[1;32m   (...)\u001b[0m\n\u001b[0;32m   4666\u001b[0m     \u001b[39m*\u001b[39m\u001b[39m*\u001b[39mkwargs,\n\u001b[0;32m   4667\u001b[0m ) \u001b[39m-\u001b[39m\u001b[39m>\u001b[39m DataFrame \u001b[39m|\u001b[39m Series:\n\u001b[0;32m   4668\u001b[0m     \u001b[39m\"\"\"\u001b[39;00m\n\u001b[0;32m   4669\u001b[0m \u001b[39m    Invoke function on values of Series.\u001b[39;00m\n\u001b[0;32m   4670\u001b[0m \n\u001b[1;32m   (...)\u001b[0m\n\u001b[0;32m   4769\u001b[0m \u001b[39m    dtype: float64\u001b[39;00m\n\u001b[0;32m   4770\u001b[0m \u001b[39m    \"\"\"\u001b[39;00m\n\u001b[1;32m-> 4771\u001b[0m     \u001b[39mreturn\u001b[39;00m SeriesApply(\u001b[39mself\u001b[39;49m, func, convert_dtype, args, kwargs)\u001b[39m.\u001b[39;49mapply()\n",
      "File \u001b[1;32mc:\\Users\\annas\\anaconda3\\envs\\iron\\lib\\site-packages\\pandas\\core\\apply.py:1105\u001b[0m, in \u001b[0;36mSeriesApply.apply\u001b[1;34m(self)\u001b[0m\n\u001b[0;32m   1102\u001b[0m     \u001b[39mreturn\u001b[39;00m \u001b[39mself\u001b[39m\u001b[39m.\u001b[39mapply_str()\n\u001b[0;32m   1104\u001b[0m \u001b[39m# self.f is Callable\u001b[39;00m\n\u001b[1;32m-> 1105\u001b[0m \u001b[39mreturn\u001b[39;00m \u001b[39mself\u001b[39;49m\u001b[39m.\u001b[39;49mapply_standard()\n",
      "File \u001b[1;32mc:\\Users\\annas\\anaconda3\\envs\\iron\\lib\\site-packages\\pandas\\core\\apply.py:1156\u001b[0m, in \u001b[0;36mSeriesApply.apply_standard\u001b[1;34m(self)\u001b[0m\n\u001b[0;32m   1154\u001b[0m     \u001b[39melse\u001b[39;00m:\n\u001b[0;32m   1155\u001b[0m         values \u001b[39m=\u001b[39m obj\u001b[39m.\u001b[39mastype(\u001b[39mobject\u001b[39m)\u001b[39m.\u001b[39m_values\n\u001b[1;32m-> 1156\u001b[0m         mapped \u001b[39m=\u001b[39m lib\u001b[39m.\u001b[39;49mmap_infer(\n\u001b[0;32m   1157\u001b[0m             values,\n\u001b[0;32m   1158\u001b[0m             f,\n\u001b[0;32m   1159\u001b[0m             convert\u001b[39m=\u001b[39;49m\u001b[39mself\u001b[39;49m\u001b[39m.\u001b[39;49mconvert_dtype,\n\u001b[0;32m   1160\u001b[0m         )\n\u001b[0;32m   1162\u001b[0m \u001b[39mif\u001b[39;00m \u001b[39mlen\u001b[39m(mapped) \u001b[39mand\u001b[39;00m \u001b[39misinstance\u001b[39m(mapped[\u001b[39m0\u001b[39m], ABCSeries):\n\u001b[0;32m   1163\u001b[0m     \u001b[39m# GH#43986 Need to do list(mapped) in order to get treated as nested\u001b[39;00m\n\u001b[0;32m   1164\u001b[0m     \u001b[39m#  See also GH#25959 regarding EA support\u001b[39;00m\n\u001b[0;32m   1165\u001b[0m     \u001b[39mreturn\u001b[39;00m obj\u001b[39m.\u001b[39m_constructor_expanddim(\u001b[39mlist\u001b[39m(mapped), index\u001b[39m=\u001b[39mobj\u001b[39m.\u001b[39mindex)\n",
      "File \u001b[1;32mc:\\Users\\annas\\anaconda3\\envs\\iron\\lib\\site-packages\\pandas\\_libs\\lib.pyx:2918\u001b[0m, in \u001b[0;36mpandas._libs.lib.map_infer\u001b[1;34m()\u001b[0m\n",
      "Cell \u001b[1;32mIn [33], line 4\u001b[0m, in \u001b[0;36mgeneros\u001b[1;34m(col)\u001b[0m\n\u001b[0;32m      2\u001b[0m \u001b[39mfor\u001b[39;00m key, value \u001b[39min\u001b[39;00m bb\u001b[39m.\u001b[39mdict_gender\u001b[39m.\u001b[39mitems():\n\u001b[0;32m      3\u001b[0m     \u001b[39mfor\u001b[39;00m item \u001b[39min\u001b[39;00m value:\n\u001b[1;32m----> 4\u001b[0m         \u001b[39mif\u001b[39;00m item \u001b[39min\u001b[39;00m col\u001b[39m.\u001b[39;49mlower():\n\u001b[0;32m      5\u001b[0m             \u001b[39mreturn\u001b[39;00m key\n\u001b[0;32m      6\u001b[0m     \u001b[39mreturn\u001b[39;00m np\u001b[39m.\u001b[39mnan\n",
      "\u001b[1;31mAttributeError\u001b[0m: 'float' object has no attribute 'lower'"
     ]
    }
   ],
   "source": [
    "#df[\"gender\"] = df.apply(lambda x: generos(x['content'], bb.dict_gender), axis=1)\n",
    "df[\"gender\"] = df['content'].apply(generos)"
   ]
  },
  {
   "cell_type": "code",
   "execution_count": 32,
   "metadata": {},
   "outputs": [
    {
     "data": {
      "text/plain": [
       "Series([], Name: gender, dtype: int64)"
      ]
     },
     "execution_count": 32,
     "metadata": {},
     "output_type": "execute_result"
    }
   ],
   "source": [
    "df['gender'].value_counts()"
   ]
  },
  {
   "attachments": {},
   "cell_type": "markdown",
   "metadata": {},
   "source": [
    "Age from artist\n",
    "\n",
    "-- taking the data from the summary"
   ]
  },
  {
   "cell_type": "code",
   "execution_count": null,
   "metadata": {},
   "outputs": [],
   "source": []
  },
  {
   "attachments": {},
   "cell_type": "markdown",
   "metadata": {},
   "source": [
    "# EDA"
   ]
  },
  {
   "attachments": {},
   "cell_type": "markdown",
   "metadata": {},
   "source": [
    "# Questions / hypothesis"
   ]
  },
  {
   "attachments": {},
   "cell_type": "markdown",
   "metadata": {},
   "source": [
    "Most streamed artists"
   ]
  },
  {
   "cell_type": "code",
   "execution_count": null,
   "metadata": {},
   "outputs": [],
   "source": [
    "top10 = df.groupby(['artist'])['streams'].sum().reset_index().sort_values(by = 'streams', ascending = False).head(10)\n",
    "top10['ratio'] = top10['streams'] * 100 / (df[~df['streams'].isnull()]['streams'].sum())\n",
    "top10"
   ]
  },
  {
   "attachments": {},
   "cell_type": "markdown",
   "metadata": {},
   "source": [
    "Most streamed music genres"
   ]
  },
  {
   "cell_type": "code",
   "execution_count": null,
   "metadata": {},
   "outputs": [],
   "source": [
    "top10genre = df.groupby(['aritist_genre_0'])['streams'].sum().reset_index().sort_values(by = 'streams', ascending = False).head(10)\n",
    "top10genre['ratio'] = top10genre['streams'] * 100 / (df[~df['streams'].isnull()]['streams'].sum())\n",
    "top10genre[top10genre['ratio'] > 0]"
   ]
  },
  {
   "attachments": {},
   "cell_type": "markdown",
   "metadata": {},
   "source": [
    "Artist evolution"
   ]
  },
  {
   "cell_type": "code",
   "execution_count": null,
   "metadata": {},
   "outputs": [],
   "source": [
    "lista_artistas = list(top10['artist'])\n",
    "df_top10 = df[df['artist'].isin(lista_artistas)]\n",
    "df_top10.head()"
   ]
  },
  {
   "cell_type": "code",
   "execution_count": null,
   "metadata": {},
   "outputs": [],
   "source": [
    "num_rows = 20\n",
    "years = list(range(1990, 1990 + num_rows))\n",
    "data_preproc = pd.DataFrame({\n",
    "    'Year': years, \n",
    "    'A': np.random.randn(num_rows).cumsum(),\n",
    "    'B': np.random.randn(num_rows).cumsum(),\n",
    "    'C': np.random.randn(num_rows).cumsum(),\n",
    "    'D': np.random.randn(num_rows).cumsum()})"
   ]
  },
  {
   "cell_type": "code",
   "execution_count": null,
   "metadata": {},
   "outputs": [],
   "source": [
    "sns.lineplot(x='Year', y='value', hue='variable', \n",
    "             data=pd.melt(data_preproc, ['Year']))"
   ]
  },
  {
   "cell_type": "code",
   "execution_count": null,
   "metadata": {},
   "outputs": [],
   "source": [
    "test = pd.pivot_table(df_top10[df_top10['chart'] == 'top200'][['date', 'artist', 'rank']], index = 'date', values = ['rank'], columns = 'artist').reset_index().droplevel(level=0, axis =1)\n",
    "test.rename({'':'date'}, axis = 1, inplace=True)\n",
    "print(test.shape)\n",
    "test.head()"
   ]
  },
  {
   "cell_type": "code",
   "execution_count": null,
   "metadata": {},
   "outputs": [],
   "source": [
    "sns.lineplot(x='Year', y='value', hue='variable', \n",
    "             data=pd.melt(data_preproc, ['Year']))"
   ]
  },
  {
   "cell_type": "code",
   "execution_count": null,
   "metadata": {},
   "outputs": [],
   "source": [
    "sns.set(rc={'figure.figsize':(50,8.27)})\n",
    "\n",
    "c = sns.lineplot(data = test, x = test['date'].unique().tolist(), y = 'Ariana Grande')\n",
    "c.set_xticklabels(labels = test['date'].unique().tolist(), rotation=90)"
   ]
  },
  {
   "attachments": {},
   "cell_type": "markdown",
   "metadata": {},
   "source": [
    "Music genre evolution"
   ]
  },
  {
   "cell_type": "code",
   "execution_count": null,
   "metadata": {},
   "outputs": [],
   "source": [
    "df"
   ]
  }
 ],
 "metadata": {
  "kernelspec": {
   "display_name": "Python 3",
   "language": "python",
   "name": "python3"
  },
  "language_info": {
   "codemirror_mode": {
    "name": "ipython",
    "version": 3
   },
   "file_extension": ".py",
   "mimetype": "text/x-python",
   "name": "python",
   "nbconvert_exporter": "python",
   "pygments_lexer": "ipython3",
   "version": "3.10.5"
  },
  "orig_nbformat": 4,
  "vscode": {
   "interpreter": {
    "hash": "d3e10ef16274dd72e574b8fa73b58450b957d8421a2901baded3cca26fcf5dda"
   }
  }
 },
 "nbformat": 4,
 "nbformat_minor": 2
}
