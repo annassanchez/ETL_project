{
 "cells": [
  {
   "cell_type": "code",
   "execution_count": null,
   "metadata": {},
   "outputs": [],
   "source": [
    "import pandas as pd\n",
    "import numpy as np\n",
    "import os \n",
    "import pickle\n",
    "from fuzzywuzzy import process, fuzz\n",
    "from rapidfuzz import process, utils\n",
    "from collections import Counter\n",
    "pd.options.display.max_columns = None"
   ]
  },
  {
   "attachments": {},
   "cell_type": "markdown",
   "metadata": {},
   "source": [
    "# checking the dataset's data\n",
    "Checking the data from the [given](https://www.kaggle.com/datasets/andrewmvd/spotify-playlists?select=spotify_dataset.csv) database."
   ]
  },
  {
   "cell_type": "code",
   "execution_count": null,
   "metadata": {},
   "outputs": [],
   "source": [
    "data = pd.read_csv('../data/spotify_dataset.csv', sep = ',', on_bad_lines='skip')\n",
    "print(data.shape)\n",
    "data.head()"
   ]
  },
  {
   "attachments": {},
   "cell_type": "markdown",
   "metadata": {},
   "source": [
    "check if data has duplicated values"
   ]
  },
  {
   "cell_type": "code",
   "execution_count": null,
   "metadata": {},
   "outputs": [],
   "source": [
    "data.columns"
   ]
  },
  {
   "cell_type": "code",
   "execution_count": null,
   "metadata": {},
   "outputs": [],
   "source": [
    "data[['user_id',\t' \"artistname\"',\t' \"trackname\"']].duplicated().sum()"
   ]
  },
  {
   "cell_type": "code",
   "execution_count": null,
   "metadata": {},
   "outputs": [],
   "source": [
    "data = data.drop_duplicates(subset=[' \"artistname\"',\t' \"trackname\"'])\n",
    "print(data.shape)\n",
    "data.head()"
   ]
  },
  {
   "attachments": {},
   "cell_type": "markdown",
   "metadata": {},
   "source": [
    "remove unnecesary columns"
   ]
  },
  {
   "cell_type": "code",
   "execution_count": null,
   "metadata": {},
   "outputs": [],
   "source": [
    "data_new = data.drop(['user_id', ' \"playlistname\"'], axis = 1)\n",
    "print(data_new.shape)\n",
    "data_new.head()"
   ]
  },
  {
   "attachments": {},
   "cell_type": "markdown",
   "metadata": {},
   "source": [
    "# check if the data is clean\n",
    "It is possible that some artist are named similarly and create duplicated values"
   ]
  },
  {
   "cell_type": "code",
   "execution_count": null,
   "metadata": {},
   "outputs": [],
   "source": [
    "data_new.dropna(subset=[' \"artistname\"'], inplace=True)\n",
    "data_new.dropna(subset=[' \"trackname\"'], inplace=True)\n",
    "print(data_new.shape)\n",
    "data_new.head()"
   ]
  },
  {
   "cell_type": "code",
   "execution_count": null,
   "metadata": {},
   "outputs": [],
   "source": [
    "data_new['artist_clean'] = data_new[' \"artistname\"'].str.lower().str.replace('&', 'and').str.replace('  ', ' ')\n",
    "print(len(data_new['artist_clean'].unique().tolist()), len(data_new[' \"artistname\"'].unique().tolist()))"
   ]
  },
  {
   "cell_type": "code",
   "execution_count": null,
   "metadata": {},
   "outputs": [],
   "source": [
    "def sacar_parecido(col, dict_artistas):   \n",
    "    maximo = 0\n",
    "    for key in dict_artistas.keys():\n",
    "    #print(key)\n",
    "        #print(genero)\n",
    "        comparo = fuzz.ratio(key, col)\n",
    "        if comparo > maximo:\n",
    "            maximo = comparo\n",
    "            resultado = key\n",
    "    if maximo > 90:\n",
    "        return resultado\n",
    "    else:\n",
    "        return np.nan"
   ]
  },
  {
   "cell_type": "code",
   "execution_count": null,
   "metadata": {},
   "outputs": [],
   "source": [
    "data_new[data_new['artist_clean'].str.contains('costello') == True]['artist_clean'].unique().tolist()"
   ]
  },
  {
   "cell_type": "code",
   "execution_count": null,
   "metadata": {},
   "outputs": [],
   "source": [
    "cuenta_artistas = Counter(artistas for artistas in data_new['artist_clean'])\n",
    "print(len(cuenta_artistas))\n",
    "cuenta_artistas"
   ]
  },
  {
   "cell_type": "code",
   "execution_count": null,
   "metadata": {},
   "outputs": [],
   "source": [
    "dict_artistas = dict(cuenta_artistas)\n",
    "dict_artistas = {k:v for k,v in dict_artistas.items() if v > 4}\n",
    "print(len(dict_artistas))\n",
    "dict_artistas"
   ]
  },
  {
   "cell_type": "code",
   "execution_count": null,
   "metadata": {},
   "outputs": [],
   "source": [
    "data_new['artist'] = data_new.apply(lambda x: sacar_parecido(x['artist_clean'], dict_artistas), axis=1)\n",
    "data_new['artist'].value_counts()"
   ]
  },
  {
   "cell_type": "code",
   "execution_count": null,
   "metadata": {},
   "outputs": [],
   "source": [
    "data_new[' \"artistname\"'].unique().tolist()"
   ]
  },
  {
   "attachments": {},
   "cell_type": "markdown",
   "metadata": {},
   "source": [
    "# Conversion\n",
    "I will save the input file as .pkl as the original one is too big for github."
   ]
  },
  {
   "cell_type": "code",
   "execution_count": null,
   "metadata": {},
   "outputs": [],
   "source": [
    "with open('../data/spotify_dataset.pickle', 'wb') as data_nowplaying:\n",
    "    pickle.dump(data_new, data_nowplaying)"
   ]
  }
 ],
 "metadata": {
  "kernelspec": {
   "display_name": "iron",
   "language": "python",
   "name": "python3"
  },
  "language_info": {
   "codemirror_mode": {
    "name": "ipython",
    "version": 3
   },
   "file_extension": ".py",
   "mimetype": "text/x-python",
   "name": "python",
   "nbconvert_exporter": "python",
   "pygments_lexer": "ipython3",
   "version": "3.9.13"
  },
  "orig_nbformat": 4,
  "vscode": {
   "interpreter": {
    "hash": "e59d0b279e6461be5b4ea7b62838527cd8f41f3cbc9a1147b1a83b32d75ab689"
   }
  }
 },
 "nbformat": 4,
 "nbformat_minor": 2
}
