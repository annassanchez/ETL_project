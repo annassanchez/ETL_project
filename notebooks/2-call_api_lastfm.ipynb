{
 "cells": [
  {
   "cell_type": "code",
   "execution_count": 2,
   "metadata": {},
   "outputs": [],
   "source": [
    "import pandas as pd\n",
    "import numpy as np\n",
    "import requests\n",
    "import os \n",
    "from dotenv import load_dotenv\n",
    "import requests\n",
    "from tqdm import tqdm\n",
    "import pickle\n",
    "import re\n",
    "pd.options.display.max_columns = None\n",
    "from fuzzywuzzy import process, fuzz\n",
    "from collections import Counter\n",
    "\n",
    "import sys\n",
    "sys.path.append(\"../\")\n",
    "import src.soporteAPIs as sa\n",
    "sys.path.append(\"../\")\n",
    "import src.biblioteca as bb"
   ]
  },
  {
   "attachments": {},
   "cell_type": "markdown",
   "metadata": {},
   "source": [
    "# Importing pickle file"
   ]
  },
  {
   "cell_type": "code",
   "execution_count": 3,
   "metadata": {},
   "outputs": [],
   "source": [
    "with open('../data/pickle/artist.pickle', 'rb') as tracks:\n",
    "    tracks = pickle.load(tracks)"
   ]
  },
  {
   "cell_type": "code",
   "execution_count": 4,
   "metadata": {},
   "outputs": [
    {
     "data": {
      "text/html": [
       "<div>\n",
       "<style scoped>\n",
       "    .dataframe tbody tr th:only-of-type {\n",
       "        vertical-align: middle;\n",
       "    }\n",
       "\n",
       "    .dataframe tbody tr th {\n",
       "        vertical-align: top;\n",
       "    }\n",
       "\n",
       "    .dataframe thead th {\n",
       "        text-align: right;\n",
       "    }\n",
       "</style>\n",
       "<table border=\"1\" class=\"dataframe\">\n",
       "  <thead>\n",
       "    <tr style=\"text-align: right;\">\n",
       "      <th></th>\n",
       "      <th>url</th>\n",
       "      <th>artist_clean</th>\n",
       "      <th>track_clean</th>\n",
       "    </tr>\n",
       "  </thead>\n",
       "  <tbody>\n",
       "    <tr>\n",
       "      <th>0</th>\n",
       "      <td>https://open.spotify.com/track/4Km5HrUvYTaSUfi...</td>\n",
       "      <td>migos</td>\n",
       "      <td>bad and boujee (feat. lil uzi vert)</td>\n",
       "    </tr>\n",
       "    <tr>\n",
       "      <th>1</th>\n",
       "      <td>https://open.spotify.com/track/343YBumqHu19cGo...</td>\n",
       "      <td>drake</td>\n",
       "      <td>fake love</td>\n",
       "    </tr>\n",
       "    <tr>\n",
       "      <th>2</th>\n",
       "      <td>https://open.spotify.com/track/5aAx2yezTd8zXrk...</td>\n",
       "      <td>the weeknd, daft punk</td>\n",
       "      <td>starboy</td>\n",
       "    </tr>\n",
       "    <tr>\n",
       "      <th>3</th>\n",
       "      <td>https://open.spotify.com/track/7BKLCZ1jbUBVqRi...</td>\n",
       "      <td>the chainsmokers, halsey</td>\n",
       "      <td>closer</td>\n",
       "    </tr>\n",
       "    <tr>\n",
       "      <th>4</th>\n",
       "      <td>https://open.spotify.com/track/6fujklziTHa8uoM...</td>\n",
       "      <td>rae sremmurd, gucci mane</td>\n",
       "      <td>black beatles</td>\n",
       "    </tr>\n",
       "  </tbody>\n",
       "</table>\n",
       "</div>"
      ],
      "text/plain": [
       "                                                 url  \\\n",
       "0  https://open.spotify.com/track/4Km5HrUvYTaSUfi...   \n",
       "1  https://open.spotify.com/track/343YBumqHu19cGo...   \n",
       "2  https://open.spotify.com/track/5aAx2yezTd8zXrk...   \n",
       "3  https://open.spotify.com/track/7BKLCZ1jbUBVqRi...   \n",
       "4  https://open.spotify.com/track/6fujklziTHa8uoM...   \n",
       "\n",
       "               artist_clean                          track_clean  \n",
       "0                     migos  bad and boujee (feat. lil uzi vert)  \n",
       "1                     drake                            fake love  \n",
       "2     the weeknd, daft punk                              starboy  \n",
       "3  the chainsmokers, halsey                               closer  \n",
       "4  rae sremmurd, gucci mane                        black beatles  "
      ]
     },
     "execution_count": 4,
     "metadata": {},
     "output_type": "execute_result"
    }
   ],
   "source": [
    "tracks.head()"
   ]
  },
  {
   "cell_type": "code",
   "execution_count": 5,
   "metadata": {},
   "outputs": [
    {
     "data": {
      "text/html": [
       "<div>\n",
       "<style scoped>\n",
       "    .dataframe tbody tr th:only-of-type {\n",
       "        vertical-align: middle;\n",
       "    }\n",
       "\n",
       "    .dataframe tbody tr th {\n",
       "        vertical-align: top;\n",
       "    }\n",
       "\n",
       "    .dataframe thead th {\n",
       "        text-align: right;\n",
       "    }\n",
       "</style>\n",
       "<table border=\"1\" class=\"dataframe\">\n",
       "  <thead>\n",
       "    <tr style=\"text-align: right;\">\n",
       "      <th></th>\n",
       "      <th>url</th>\n",
       "      <th>artist</th>\n",
       "      <th>track</th>\n",
       "    </tr>\n",
       "  </thead>\n",
       "  <tbody>\n",
       "    <tr>\n",
       "      <th>0</th>\n",
       "      <td>https://open.spotify.com/track/4Km5HrUvYTaSUfi...</td>\n",
       "      <td>migos</td>\n",
       "      <td>bad and boujee (feat. lil uzi vert)</td>\n",
       "    </tr>\n",
       "    <tr>\n",
       "      <th>1</th>\n",
       "      <td>https://open.spotify.com/track/343YBumqHu19cGo...</td>\n",
       "      <td>drake</td>\n",
       "      <td>fake love</td>\n",
       "    </tr>\n",
       "    <tr>\n",
       "      <th>2</th>\n",
       "      <td>https://open.spotify.com/track/5aAx2yezTd8zXrk...</td>\n",
       "      <td>the weeknd, daft punk</td>\n",
       "      <td>starboy</td>\n",
       "    </tr>\n",
       "    <tr>\n",
       "      <th>3</th>\n",
       "      <td>https://open.spotify.com/track/7BKLCZ1jbUBVqRi...</td>\n",
       "      <td>the chainsmokers, halsey</td>\n",
       "      <td>closer</td>\n",
       "    </tr>\n",
       "    <tr>\n",
       "      <th>4</th>\n",
       "      <td>https://open.spotify.com/track/6fujklziTHa8uoM...</td>\n",
       "      <td>rae sremmurd, gucci mane</td>\n",
       "      <td>black beatles</td>\n",
       "    </tr>\n",
       "  </tbody>\n",
       "</table>\n",
       "</div>"
      ],
      "text/plain": [
       "                                                 url  \\\n",
       "0  https://open.spotify.com/track/4Km5HrUvYTaSUfi...   \n",
       "1  https://open.spotify.com/track/343YBumqHu19cGo...   \n",
       "2  https://open.spotify.com/track/5aAx2yezTd8zXrk...   \n",
       "3  https://open.spotify.com/track/7BKLCZ1jbUBVqRi...   \n",
       "4  https://open.spotify.com/track/6fujklziTHa8uoM...   \n",
       "\n",
       "                     artist                                track  \n",
       "0                     migos  bad and boujee (feat. lil uzi vert)  \n",
       "1                     drake                            fake love  \n",
       "2     the weeknd, daft punk                              starboy  \n",
       "3  the chainsmokers, halsey                               closer  \n",
       "4  rae sremmurd, gucci mane                        black beatles  "
      ]
     },
     "execution_count": 5,
     "metadata": {},
     "output_type": "execute_result"
    }
   ],
   "source": [
    "tracks.rename(columns={'track_clean':'track','artist_clean':'artist'}, inplace=True)\n",
    "tracks.head()"
   ]
  },
  {
   "attachments": {},
   "cell_type": "markdown",
   "metadata": {},
   "source": [
    "I will split the artist column in order to split between main artist (`artist_0`) and possible featuring artist (`artist_1`, `artist_1`)"
   ]
  },
  {
   "cell_type": "code",
   "execution_count": 6,
   "metadata": {},
   "outputs": [
    {
     "data": {
      "text/html": [
       "<div>\n",
       "<style scoped>\n",
       "    .dataframe tbody tr th:only-of-type {\n",
       "        vertical-align: middle;\n",
       "    }\n",
       "\n",
       "    .dataframe tbody tr th {\n",
       "        vertical-align: top;\n",
       "    }\n",
       "\n",
       "    .dataframe thead th {\n",
       "        text-align: right;\n",
       "    }\n",
       "</style>\n",
       "<table border=\"1\" class=\"dataframe\">\n",
       "  <thead>\n",
       "    <tr style=\"text-align: right;\">\n",
       "      <th></th>\n",
       "      <th>0</th>\n",
       "      <th>1</th>\n",
       "      <th>2</th>\n",
       "    </tr>\n",
       "  </thead>\n",
       "  <tbody>\n",
       "    <tr>\n",
       "      <th>0</th>\n",
       "      <td>migos</td>\n",
       "      <td>None</td>\n",
       "      <td>None</td>\n",
       "    </tr>\n",
       "    <tr>\n",
       "      <th>1</th>\n",
       "      <td>drake</td>\n",
       "      <td>None</td>\n",
       "      <td>None</td>\n",
       "    </tr>\n",
       "    <tr>\n",
       "      <th>2</th>\n",
       "      <td>the weeknd</td>\n",
       "      <td>daft punk</td>\n",
       "      <td>None</td>\n",
       "    </tr>\n",
       "    <tr>\n",
       "      <th>3</th>\n",
       "      <td>the chainsmokers</td>\n",
       "      <td>halsey</td>\n",
       "      <td>None</td>\n",
       "    </tr>\n",
       "    <tr>\n",
       "      <th>4</th>\n",
       "      <td>rae sremmurd</td>\n",
       "      <td>gucci mane</td>\n",
       "      <td>None</td>\n",
       "    </tr>\n",
       "    <tr>\n",
       "      <th>...</th>\n",
       "      <td>...</td>\n",
       "      <td>...</td>\n",
       "      <td>...</td>\n",
       "    </tr>\n",
       "    <tr>\n",
       "      <th>454434</th>\n",
       "      <td>fase yoda</td>\n",
       "      <td>None</td>\n",
       "      <td>None</td>\n",
       "    </tr>\n",
       "    <tr>\n",
       "      <th>454442</th>\n",
       "      <td>max</td>\n",
       "      <td>ali gatie</td>\n",
       "      <td>None</td>\n",
       "    </tr>\n",
       "    <tr>\n",
       "      <th>454443</th>\n",
       "      <td>cooper alan</td>\n",
       "      <td>rvshvd</td>\n",
       "      <td>None</td>\n",
       "    </tr>\n",
       "    <tr>\n",
       "      <th>454451</th>\n",
       "      <td>kali</td>\n",
       "      <td>None</td>\n",
       "      <td>None</td>\n",
       "    </tr>\n",
       "    <tr>\n",
       "      <th>454549</th>\n",
       "      <td>biz markie</td>\n",
       "      <td>None</td>\n",
       "      <td>None</td>\n",
       "    </tr>\n",
       "  </tbody>\n",
       "</table>\n",
       "<p>14659 rows × 3 columns</p>\n",
       "</div>"
      ],
      "text/plain": [
       "                       0            1     2\n",
       "0                  migos         None  None\n",
       "1                  drake         None  None\n",
       "2             the weeknd    daft punk  None\n",
       "3       the chainsmokers       halsey  None\n",
       "4           rae sremmurd   gucci mane  None\n",
       "...                  ...          ...   ...\n",
       "454434         fase yoda         None  None\n",
       "454442               max    ali gatie  None\n",
       "454443       cooper alan       rvshvd  None\n",
       "454451              kali         None  None\n",
       "454549        biz markie         None  None\n",
       "\n",
       "[14659 rows x 3 columns]"
      ]
     },
     "execution_count": 6,
     "metadata": {},
     "output_type": "execute_result"
    }
   ],
   "source": [
    "test = tracks['artist'].str.split(',', n=2, expand = True)\n",
    "test"
   ]
  },
  {
   "cell_type": "code",
   "execution_count": 7,
   "metadata": {},
   "outputs": [
    {
     "data": {
      "text/html": [
       "<div>\n",
       "<style scoped>\n",
       "    .dataframe tbody tr th:only-of-type {\n",
       "        vertical-align: middle;\n",
       "    }\n",
       "\n",
       "    .dataframe tbody tr th {\n",
       "        vertical-align: top;\n",
       "    }\n",
       "\n",
       "    .dataframe thead th {\n",
       "        text-align: right;\n",
       "    }\n",
       "</style>\n",
       "<table border=\"1\" class=\"dataframe\">\n",
       "  <thead>\n",
       "    <tr style=\"text-align: right;\">\n",
       "      <th></th>\n",
       "      <th>url</th>\n",
       "      <th>artist</th>\n",
       "      <th>track</th>\n",
       "      <th>0</th>\n",
       "      <th>1</th>\n",
       "      <th>2</th>\n",
       "    </tr>\n",
       "  </thead>\n",
       "  <tbody>\n",
       "    <tr>\n",
       "      <th>0</th>\n",
       "      <td>https://open.spotify.com/track/4Km5HrUvYTaSUfi...</td>\n",
       "      <td>migos</td>\n",
       "      <td>bad and boujee (feat. lil uzi vert)</td>\n",
       "      <td>migos</td>\n",
       "      <td>None</td>\n",
       "      <td>None</td>\n",
       "    </tr>\n",
       "    <tr>\n",
       "      <th>1</th>\n",
       "      <td>https://open.spotify.com/track/343YBumqHu19cGo...</td>\n",
       "      <td>drake</td>\n",
       "      <td>fake love</td>\n",
       "      <td>drake</td>\n",
       "      <td>None</td>\n",
       "      <td>None</td>\n",
       "    </tr>\n",
       "    <tr>\n",
       "      <th>2</th>\n",
       "      <td>https://open.spotify.com/track/5aAx2yezTd8zXrk...</td>\n",
       "      <td>the weeknd, daft punk</td>\n",
       "      <td>starboy</td>\n",
       "      <td>the weeknd</td>\n",
       "      <td>daft punk</td>\n",
       "      <td>None</td>\n",
       "    </tr>\n",
       "    <tr>\n",
       "      <th>3</th>\n",
       "      <td>https://open.spotify.com/track/7BKLCZ1jbUBVqRi...</td>\n",
       "      <td>the chainsmokers, halsey</td>\n",
       "      <td>closer</td>\n",
       "      <td>the chainsmokers</td>\n",
       "      <td>halsey</td>\n",
       "      <td>None</td>\n",
       "    </tr>\n",
       "    <tr>\n",
       "      <th>4</th>\n",
       "      <td>https://open.spotify.com/track/6fujklziTHa8uoM...</td>\n",
       "      <td>rae sremmurd, gucci mane</td>\n",
       "      <td>black beatles</td>\n",
       "      <td>rae sremmurd</td>\n",
       "      <td>gucci mane</td>\n",
       "      <td>None</td>\n",
       "    </tr>\n",
       "  </tbody>\n",
       "</table>\n",
       "</div>"
      ],
      "text/plain": [
       "                                                 url  \\\n",
       "0  https://open.spotify.com/track/4Km5HrUvYTaSUfi...   \n",
       "1  https://open.spotify.com/track/343YBumqHu19cGo...   \n",
       "2  https://open.spotify.com/track/5aAx2yezTd8zXrk...   \n",
       "3  https://open.spotify.com/track/7BKLCZ1jbUBVqRi...   \n",
       "4  https://open.spotify.com/track/6fujklziTHa8uoM...   \n",
       "\n",
       "                     artist                                track  \\\n",
       "0                     migos  bad and boujee (feat. lil uzi vert)   \n",
       "1                     drake                            fake love   \n",
       "2     the weeknd, daft punk                              starboy   \n",
       "3  the chainsmokers, halsey                               closer   \n",
       "4  rae sremmurd, gucci mane                        black beatles   \n",
       "\n",
       "                  0            1     2  \n",
       "0             migos         None  None  \n",
       "1             drake         None  None  \n",
       "2        the weeknd    daft punk  None  \n",
       "3  the chainsmokers       halsey  None  \n",
       "4      rae sremmurd   gucci mane  None  "
      ]
     },
     "execution_count": 7,
     "metadata": {},
     "output_type": "execute_result"
    }
   ],
   "source": [
    "tracks = pd.concat([tracks, test], axis = 1)\n",
    "tracks.head()"
   ]
  },
  {
   "cell_type": "code",
   "execution_count": 8,
   "metadata": {},
   "outputs": [
    {
     "data": {
      "text/html": [
       "<div>\n",
       "<style scoped>\n",
       "    .dataframe tbody tr th:only-of-type {\n",
       "        vertical-align: middle;\n",
       "    }\n",
       "\n",
       "    .dataframe tbody tr th {\n",
       "        vertical-align: top;\n",
       "    }\n",
       "\n",
       "    .dataframe thead th {\n",
       "        text-align: right;\n",
       "    }\n",
       "</style>\n",
       "<table border=\"1\" class=\"dataframe\">\n",
       "  <thead>\n",
       "    <tr style=\"text-align: right;\">\n",
       "      <th></th>\n",
       "      <th>url</th>\n",
       "      <th>artist</th>\n",
       "      <th>track</th>\n",
       "      <th>artist_0</th>\n",
       "      <th>artist_1</th>\n",
       "      <th>artist_2</th>\n",
       "    </tr>\n",
       "  </thead>\n",
       "  <tbody>\n",
       "    <tr>\n",
       "      <th>0</th>\n",
       "      <td>https://open.spotify.com/track/4Km5HrUvYTaSUfi...</td>\n",
       "      <td>migos</td>\n",
       "      <td>bad and boujee (feat. lil uzi vert)</td>\n",
       "      <td>migos</td>\n",
       "      <td>None</td>\n",
       "      <td>None</td>\n",
       "    </tr>\n",
       "    <tr>\n",
       "      <th>1</th>\n",
       "      <td>https://open.spotify.com/track/343YBumqHu19cGo...</td>\n",
       "      <td>drake</td>\n",
       "      <td>fake love</td>\n",
       "      <td>drake</td>\n",
       "      <td>None</td>\n",
       "      <td>None</td>\n",
       "    </tr>\n",
       "    <tr>\n",
       "      <th>2</th>\n",
       "      <td>https://open.spotify.com/track/5aAx2yezTd8zXrk...</td>\n",
       "      <td>the weeknd, daft punk</td>\n",
       "      <td>starboy</td>\n",
       "      <td>the weeknd</td>\n",
       "      <td>daft punk</td>\n",
       "      <td>None</td>\n",
       "    </tr>\n",
       "    <tr>\n",
       "      <th>3</th>\n",
       "      <td>https://open.spotify.com/track/7BKLCZ1jbUBVqRi...</td>\n",
       "      <td>the chainsmokers, halsey</td>\n",
       "      <td>closer</td>\n",
       "      <td>the chainsmokers</td>\n",
       "      <td>halsey</td>\n",
       "      <td>None</td>\n",
       "    </tr>\n",
       "    <tr>\n",
       "      <th>4</th>\n",
       "      <td>https://open.spotify.com/track/6fujklziTHa8uoM...</td>\n",
       "      <td>rae sremmurd, gucci mane</td>\n",
       "      <td>black beatles</td>\n",
       "      <td>rae sremmurd</td>\n",
       "      <td>gucci mane</td>\n",
       "      <td>None</td>\n",
       "    </tr>\n",
       "  </tbody>\n",
       "</table>\n",
       "</div>"
      ],
      "text/plain": [
       "                                                 url  \\\n",
       "0  https://open.spotify.com/track/4Km5HrUvYTaSUfi...   \n",
       "1  https://open.spotify.com/track/343YBumqHu19cGo...   \n",
       "2  https://open.spotify.com/track/5aAx2yezTd8zXrk...   \n",
       "3  https://open.spotify.com/track/7BKLCZ1jbUBVqRi...   \n",
       "4  https://open.spotify.com/track/6fujklziTHa8uoM...   \n",
       "\n",
       "                     artist                                track  \\\n",
       "0                     migos  bad and boujee (feat. lil uzi vert)   \n",
       "1                     drake                            fake love   \n",
       "2     the weeknd, daft punk                              starboy   \n",
       "3  the chainsmokers, halsey                               closer   \n",
       "4  rae sremmurd, gucci mane                        black beatles   \n",
       "\n",
       "           artist_0     artist_1 artist_2  \n",
       "0             migos         None     None  \n",
       "1             drake         None     None  \n",
       "2        the weeknd    daft punk     None  \n",
       "3  the chainsmokers       halsey     None  \n",
       "4      rae sremmurd   gucci mane     None  "
      ]
     },
     "execution_count": 8,
     "metadata": {},
     "output_type": "execute_result"
    }
   ],
   "source": [
    "tracks.rename(columns={0:'artist_0', 1:'artist_1', 2:'artist_2'}, inplace=True)\n",
    "tracks.head()"
   ]
  },
  {
   "attachments": {},
   "cell_type": "markdown",
   "metadata": {},
   "source": [
    "# lastfm\n",
    "In this part of the process I will extract form the LastFM API all the data related to the tracks and artist genres.\n",
    "\n",
    "First, I need to configure my credentials."
   ]
  },
  {
   "cell_type": "code",
   "execution_count": 9,
   "metadata": {},
   "outputs": [
    {
     "data": {
      "text/plain": [
       "True"
      ]
     },
     "execution_count": 9,
     "metadata": {},
     "output_type": "execute_result"
    }
   ],
   "source": [
    "load_dotenv()"
   ]
  },
  {
   "cell_type": "code",
   "execution_count": 10,
   "metadata": {},
   "outputs": [],
   "source": [
    "api = os.getenv(\"lastfm-id\")\n",
    "username = os.getenv(\"lastfm-user\")"
   ]
  },
  {
   "attachments": {},
   "cell_type": "markdown",
   "metadata": {},
   "source": [
    "Testing to gather the data from the api with a function:"
   ]
  },
  {
   "cell_type": "code",
   "execution_count": 11,
   "metadata": {},
   "outputs": [
    {
     "data": {
      "text/plain": [
       "{'links': {'link': {'#text': '',\n",
       "   'rel': 'original',\n",
       "   'href': 'https://last.fm/music/Harry+Styles/+wiki'}},\n",
       " 'published': '24 Aug 2011, 17:11',\n",
       " 'summary': 'Harry Edward Styles (born 1 February 1994 in Redditch, Worcestershire, England) is a Grammy-winning, British singer, songwriter, and actor. As a member of the British (&Irish) boy band One Direction, singer Harry Styles topped the charts, toured the world, and sold millions of albums before going solo in 2016. Styles was raised in Holmes Chapel, Cheshire, and he made his first foray into music with a high-school band named White Eskimo. In 2010, he left home and joined the seventh season of The X Factor <a href=\"https://www.last.fm/music/Harry+Styles\">Read more on Last.fm</a>',\n",
       " 'content': 'Harry Edward Styles (born 1 February 1994 in Redditch, Worcestershire, England) is a Grammy-winning, British singer, songwriter, and actor. As a member of the British (&Irish) boy band One Direction, singer Harry Styles topped the charts, toured the world, and sold millions of albums before going solo in 2016. Styles was raised in Holmes Chapel, Cheshire, and he made his first foray into music with a high-school band named White Eskimo. In 2010, he left home and joined the seventh season of The X Factor, where fate and (TW) Simon Cowell would eventually lead him toward a life-changing opportunity with four other young men. As One Direction, Styles and his group mates Zayn Malik, Louis Tomlinson, Niall Horan, and Liam Payne would release five albums from 2011 to 2015, hitting number one across the globe and selling millions of records to an adoring and rabid fan base that drew comparisons to the fervor at the height of Beatlemania. In early 2016, after Malik had already parted ways with 1D, the remaining foursome announced their indefinite hiatus. Months later, Styles signed a solo deal with Columbia Records. Reflecting the influence of childhood favorites like Queen, Elton John, Fleetwood Mac, The Rolling Stones, Freddy Mercury, and The Beatles, Styles\\' solo material took a more serious and rock-based approach, while still delivering the pop sound his faithful 1D fans desired. With the help of Grammy-winning producer Jeff Bhasker (who had worked with Kanye West and Bruno Mars), Styles put together a small band and, after rehearsing the songs, headed to Jamaica for two months to record an album. \"Sign of the Times,\" a plaintive ballad, was released as its first single in April of 2017. The self-titled full-length followed in May and debuted at the top of the Billboard 200. After 2 world tours, Harry set to write his sophomore album \"Fine Line\" releasing the hit songs \"Lights Up\",  \"Watermelon Sugar\" and \"Adore You\" as the singles. Fine line was released on 13 December 2019 by Columbia and Erskine Records. On March 14, 2021, Harry received the Grammy Award for Best Pop Solo Performance for \"Watermelon Sugar\" at the 63rd Annual Grammy Awards. He was also nominated for Best Music Video with \"Adore You\" and for Best Pop Vocal Album for his album \"Fine Line\". In May of the same year, Styles also won the Brit Award for British Single for \"Watermelon Sugar\". May 20, 2022, Styles released his 3rd album, titled “Harry’s House”. Single from this, “As It Was” went on to break world records and earn Styles the title (male) for the most streamed track on Spotify in 24 hours. <a href=\"https://www.last.fm/music/Harry+Styles\">Read more on Last.fm</a>. User-contributed text is available under the Creative Commons By-SA License; additional terms may apply.'}"
      ]
     },
     "execution_count": 11,
     "metadata": {},
     "output_type": "execute_result"
    }
   ],
   "source": [
    "res = sa.getLastFMData({\n",
    "    'method': 'artist.getInfo',\n",
    "    'artist':'Harry Styles',\n",
    "})\n",
    "res.json()['artist']['bio']"
   ]
  },
  {
   "attachments": {},
   "cell_type": "markdown",
   "metadata": {},
   "source": [
    "First I try on a slice of my dataframe"
   ]
  },
  {
   "cell_type": "code",
   "execution_count": 12,
   "metadata": {},
   "outputs": [
    {
     "name": "stderr",
     "output_type": "stream",
     "text": [
      "100%|██████████| 100/100 [00:17<00:00,  5.61it/s]\n"
     ]
    }
   ],
   "source": [
    "tqdm.pandas()\n",
    "\n",
    "test = tracks.sample(100)\n",
    "test[['bio', 'artist_tag']] = test.progress_apply(lambda x: sa.getArtistInfo(x.artist_0), axis=1, result_type='expand')"
   ]
  },
  {
   "cell_type": "code",
   "execution_count": 13,
   "metadata": {},
   "outputs": [
    {
     "data": {
      "text/html": [
       "<div>\n",
       "<style scoped>\n",
       "    .dataframe tbody tr th:only-of-type {\n",
       "        vertical-align: middle;\n",
       "    }\n",
       "\n",
       "    .dataframe tbody tr th {\n",
       "        vertical-align: top;\n",
       "    }\n",
       "\n",
       "    .dataframe thead th {\n",
       "        text-align: right;\n",
       "    }\n",
       "</style>\n",
       "<table border=\"1\" class=\"dataframe\">\n",
       "  <thead>\n",
       "    <tr style=\"text-align: right;\">\n",
       "      <th></th>\n",
       "      <th>url</th>\n",
       "      <th>artist</th>\n",
       "      <th>track</th>\n",
       "      <th>artist_0</th>\n",
       "      <th>artist_1</th>\n",
       "      <th>artist_2</th>\n",
       "      <th>bio</th>\n",
       "      <th>artist_tag</th>\n",
       "    </tr>\n",
       "  </thead>\n",
       "  <tbody>\n",
       "    <tr>\n",
       "      <th>437743</th>\n",
       "      <td>https://open.spotify.com/track/3EgYiwkoFHHn1MS...</td>\n",
       "      <td>dreamspook</td>\n",
       "      <td>fear in love</td>\n",
       "      <td>dreamspook</td>\n",
       "      <td>None</td>\n",
       "      <td>None</td>\n",
       "      <td>{'links': {'link': {'#text': '', 'rel': 'origi...</td>\n",
       "      <td>[]</td>\n",
       "    </tr>\n",
       "    <tr>\n",
       "      <th>372667</th>\n",
       "      <td>https://open.spotify.com/track/1MIGkQxcdAt2lDx...</td>\n",
       "      <td>jack harlow, pooh shiesty</td>\n",
       "      <td>suvs (black on black)</td>\n",
       "      <td>jack harlow</td>\n",
       "      <td>pooh shiesty</td>\n",
       "      <td>None</td>\n",
       "      <td>{'links': {'link': {'#text': '', 'rel': 'origi...</td>\n",
       "      <td>[{'name': 'rap', 'url': 'https://www.last.fm/t...</td>\n",
       "    </tr>\n",
       "    <tr>\n",
       "      <th>346660</th>\n",
       "      <td>https://open.spotify.com/track/7kjg2NCn3Zx70m1...</td>\n",
       "      <td>gil scott-heron</td>\n",
       "      <td>the revolution will not be televised</td>\n",
       "      <td>gil scott-heron</td>\n",
       "      <td>None</td>\n",
       "      <td>None</td>\n",
       "      <td>{'links': {'link': {'#text': '', 'rel': 'origi...</td>\n",
       "      <td>[{'name': 'soul', 'url': 'https://www.last.fm/...</td>\n",
       "    </tr>\n",
       "    <tr>\n",
       "      <th>87019</th>\n",
       "      <td>https://open.spotify.com/track/0lnIJmgcUpEpe4A...</td>\n",
       "      <td>beyoncé</td>\n",
       "      <td>sorry</td>\n",
       "      <td>beyoncé</td>\n",
       "      <td>None</td>\n",
       "      <td>None</td>\n",
       "      <td>{'links': {'link': {'#text': '', 'rel': 'origi...</td>\n",
       "      <td>[{'name': 'rnb', 'url': 'https://www.last.fm/t...</td>\n",
       "    </tr>\n",
       "    <tr>\n",
       "      <th>373026</th>\n",
       "      <td>https://open.spotify.com/track/5PLkBydBHc2g4uY...</td>\n",
       "      <td>steven malcolm, andy mineo, hollyn</td>\n",
       "      <td>party in the hills</td>\n",
       "      <td>steven malcolm</td>\n",
       "      <td>andy mineo</td>\n",
       "      <td>hollyn</td>\n",
       "      <td>{'links': {'link': {'#text': '', 'rel': 'origi...</td>\n",
       "      <td>[{'name': 'Hip-Hop', 'url': 'https://www.last....</td>\n",
       "    </tr>\n",
       "  </tbody>\n",
       "</table>\n",
       "</div>"
      ],
      "text/plain": [
       "                                                      url  \\\n",
       "437743  https://open.spotify.com/track/3EgYiwkoFHHn1MS...   \n",
       "372667  https://open.spotify.com/track/1MIGkQxcdAt2lDx...   \n",
       "346660  https://open.spotify.com/track/7kjg2NCn3Zx70m1...   \n",
       "87019   https://open.spotify.com/track/0lnIJmgcUpEpe4A...   \n",
       "373026  https://open.spotify.com/track/5PLkBydBHc2g4uY...   \n",
       "\n",
       "                                    artist  \\\n",
       "437743                          dreamspook   \n",
       "372667           jack harlow, pooh shiesty   \n",
       "346660                     gil scott-heron   \n",
       "87019                              beyoncé   \n",
       "373026  steven malcolm, andy mineo, hollyn   \n",
       "\n",
       "                                       track         artist_0       artist_1  \\\n",
       "437743                          fear in love       dreamspook           None   \n",
       "372667                 suvs (black on black)      jack harlow   pooh shiesty   \n",
       "346660  the revolution will not be televised  gil scott-heron           None   \n",
       "87019                                  sorry          beyoncé           None   \n",
       "373026                    party in the hills   steven malcolm     andy mineo   \n",
       "\n",
       "       artist_2                                                bio  \\\n",
       "437743     None  {'links': {'link': {'#text': '', 'rel': 'origi...   \n",
       "372667     None  {'links': {'link': {'#text': '', 'rel': 'origi...   \n",
       "346660     None  {'links': {'link': {'#text': '', 'rel': 'origi...   \n",
       "87019      None  {'links': {'link': {'#text': '', 'rel': 'origi...   \n",
       "373026   hollyn  {'links': {'link': {'#text': '', 'rel': 'origi...   \n",
       "\n",
       "                                               artist_tag  \n",
       "437743                                                 []  \n",
       "372667  [{'name': 'rap', 'url': 'https://www.last.fm/t...  \n",
       "346660  [{'name': 'soul', 'url': 'https://www.last.fm/...  \n",
       "87019   [{'name': 'rnb', 'url': 'https://www.last.fm/t...  \n",
       "373026  [{'name': 'Hip-Hop', 'url': 'https://www.last....  "
      ]
     },
     "execution_count": 13,
     "metadata": {},
     "output_type": "execute_result"
    }
   ],
   "source": [
    "test.head()"
   ]
  },
  {
   "attachments": {},
   "cell_type": "markdown",
   "metadata": {},
   "source": [
    "This is for the whole dataframe:"
   ]
  },
  {
   "cell_type": "code",
   "execution_count": 14,
   "metadata": {},
   "outputs": [
    {
     "name": "stderr",
     "output_type": "stream",
     "text": [
      "100%|██████████| 14659/14659 [42:15<00:00,  5.78it/s] \n"
     ]
    }
   ],
   "source": [
    "tqdm.pandas()\n",
    "\n",
    "#test = tracks.sample(100)\n",
    "tracks[['bio', 'artist_tag']] = tracks.progress_apply(lambda x: sa.getArtistInfo(x.artist_0), axis=1, result_type='expand')"
   ]
  },
  {
   "cell_type": "code",
   "execution_count": 15,
   "metadata": {},
   "outputs": [
    {
     "data": {
      "text/html": [
       "<div>\n",
       "<style scoped>\n",
       "    .dataframe tbody tr th:only-of-type {\n",
       "        vertical-align: middle;\n",
       "    }\n",
       "\n",
       "    .dataframe tbody tr th {\n",
       "        vertical-align: top;\n",
       "    }\n",
       "\n",
       "    .dataframe thead th {\n",
       "        text-align: right;\n",
       "    }\n",
       "</style>\n",
       "<table border=\"1\" class=\"dataframe\">\n",
       "  <thead>\n",
       "    <tr style=\"text-align: right;\">\n",
       "      <th></th>\n",
       "      <th>url</th>\n",
       "      <th>artist</th>\n",
       "      <th>track</th>\n",
       "      <th>artist_0</th>\n",
       "      <th>artist_1</th>\n",
       "      <th>artist_2</th>\n",
       "      <th>bio</th>\n",
       "      <th>artist_tag</th>\n",
       "    </tr>\n",
       "  </thead>\n",
       "  <tbody>\n",
       "    <tr>\n",
       "      <th>0</th>\n",
       "      <td>https://open.spotify.com/track/4Km5HrUvYTaSUfi...</td>\n",
       "      <td>migos</td>\n",
       "      <td>bad and boujee (feat. lil uzi vert)</td>\n",
       "      <td>migos</td>\n",
       "      <td>None</td>\n",
       "      <td>None</td>\n",
       "      <td>{'links': {'link': {'#text': '', 'rel': 'origi...</td>\n",
       "      <td>[{'name': 'Hip-Hop', 'url': 'https://www.last....</td>\n",
       "    </tr>\n",
       "    <tr>\n",
       "      <th>1</th>\n",
       "      <td>https://open.spotify.com/track/343YBumqHu19cGo...</td>\n",
       "      <td>drake</td>\n",
       "      <td>fake love</td>\n",
       "      <td>drake</td>\n",
       "      <td>None</td>\n",
       "      <td>None</td>\n",
       "      <td>{'links': {'link': {'#text': '', 'rel': 'origi...</td>\n",
       "      <td>[{'name': 'Hip-Hop', 'url': 'https://www.last....</td>\n",
       "    </tr>\n",
       "    <tr>\n",
       "      <th>2</th>\n",
       "      <td>https://open.spotify.com/track/5aAx2yezTd8zXrk...</td>\n",
       "      <td>the weeknd, daft punk</td>\n",
       "      <td>starboy</td>\n",
       "      <td>the weeknd</td>\n",
       "      <td>daft punk</td>\n",
       "      <td>None</td>\n",
       "      <td>{'links': {'link': {'#text': '', 'rel': 'origi...</td>\n",
       "      <td>[{'name': 'rnb', 'url': 'https://www.last.fm/t...</td>\n",
       "    </tr>\n",
       "    <tr>\n",
       "      <th>3</th>\n",
       "      <td>https://open.spotify.com/track/7BKLCZ1jbUBVqRi...</td>\n",
       "      <td>the chainsmokers, halsey</td>\n",
       "      <td>closer</td>\n",
       "      <td>the chainsmokers</td>\n",
       "      <td>halsey</td>\n",
       "      <td>None</td>\n",
       "      <td>{'links': {'link': {'#text': '', 'rel': 'origi...</td>\n",
       "      <td>[{'name': 'electronic', 'url': 'https://www.la...</td>\n",
       "    </tr>\n",
       "    <tr>\n",
       "      <th>4</th>\n",
       "      <td>https://open.spotify.com/track/6fujklziTHa8uoM...</td>\n",
       "      <td>rae sremmurd, gucci mane</td>\n",
       "      <td>black beatles</td>\n",
       "      <td>rae sremmurd</td>\n",
       "      <td>gucci mane</td>\n",
       "      <td>None</td>\n",
       "      <td>{'links': {'link': {'#text': '', 'rel': 'origi...</td>\n",
       "      <td>[{'name': 'Hip-Hop', 'url': 'https://www.last....</td>\n",
       "    </tr>\n",
       "  </tbody>\n",
       "</table>\n",
       "</div>"
      ],
      "text/plain": [
       "                                                 url  \\\n",
       "0  https://open.spotify.com/track/4Km5HrUvYTaSUfi...   \n",
       "1  https://open.spotify.com/track/343YBumqHu19cGo...   \n",
       "2  https://open.spotify.com/track/5aAx2yezTd8zXrk...   \n",
       "3  https://open.spotify.com/track/7BKLCZ1jbUBVqRi...   \n",
       "4  https://open.spotify.com/track/6fujklziTHa8uoM...   \n",
       "\n",
       "                     artist                                track  \\\n",
       "0                     migos  bad and boujee (feat. lil uzi vert)   \n",
       "1                     drake                            fake love   \n",
       "2     the weeknd, daft punk                              starboy   \n",
       "3  the chainsmokers, halsey                               closer   \n",
       "4  rae sremmurd, gucci mane                        black beatles   \n",
       "\n",
       "           artist_0     artist_1 artist_2  \\\n",
       "0             migos         None     None   \n",
       "1             drake         None     None   \n",
       "2        the weeknd    daft punk     None   \n",
       "3  the chainsmokers       halsey     None   \n",
       "4      rae sremmurd   gucci mane     None   \n",
       "\n",
       "                                                 bio  \\\n",
       "0  {'links': {'link': {'#text': '', 'rel': 'origi...   \n",
       "1  {'links': {'link': {'#text': '', 'rel': 'origi...   \n",
       "2  {'links': {'link': {'#text': '', 'rel': 'origi...   \n",
       "3  {'links': {'link': {'#text': '', 'rel': 'origi...   \n",
       "4  {'links': {'link': {'#text': '', 'rel': 'origi...   \n",
       "\n",
       "                                          artist_tag  \n",
       "0  [{'name': 'Hip-Hop', 'url': 'https://www.last....  \n",
       "1  [{'name': 'Hip-Hop', 'url': 'https://www.last....  \n",
       "2  [{'name': 'rnb', 'url': 'https://www.last.fm/t...  \n",
       "3  [{'name': 'electronic', 'url': 'https://www.la...  \n",
       "4  [{'name': 'Hip-Hop', 'url': 'https://www.last....  "
      ]
     },
     "execution_count": 15,
     "metadata": {},
     "output_type": "execute_result"
    }
   ],
   "source": [
    "tracks.head()"
   ]
  },
  {
   "attachments": {},
   "cell_type": "markdown",
   "metadata": {},
   "source": [
    "Now I get the tags for each individual track:"
   ]
  },
  {
   "cell_type": "code",
   "execution_count": 16,
   "metadata": {},
   "outputs": [
    {
     "data": {
      "text/plain": [
       "[{'name': 'pop', 'url': 'https://www.last.fm/tag/pop'},\n",
       " {'name': 'rock', 'url': 'https://www.last.fm/tag/rock'},\n",
       " {'name': 'indie pop', 'url': 'https://www.last.fm/tag/indie+pop'},\n",
       " {'name': 'synthpop', 'url': 'https://www.last.fm/tag/synthpop'},\n",
       " {'name': 'british', 'url': 'https://www.last.fm/tag/british'}]"
      ]
     },
     "execution_count": 16,
     "metadata": {},
     "output_type": "execute_result"
    }
   ],
   "source": [
    "res = sa.getLastFMData({\n",
    "    'method': 'track.getInfo',\n",
    "    'artist':'Harry Styles',\n",
    "    'track':'As It Was'\n",
    "})\n",
    "res.json()['track']['toptags']['tag']#['published']#[0]['name']"
   ]
  },
  {
   "attachments": {},
   "cell_type": "markdown",
   "metadata": {},
   "source": [
    "This is how I will get info for a slice of my dataframe:"
   ]
  },
  {
   "cell_type": "code",
   "execution_count": 17,
   "metadata": {},
   "outputs": [
    {
     "name": "stderr",
     "output_type": "stream",
     "text": [
      "100%|██████████| 100/100 [00:19<00:00,  5.09it/s]\n"
     ]
    }
   ],
   "source": [
    "tqdm.pandas()\n",
    "\n",
    "test = tracks.sample(100)\n",
    "test[['track_tag', 'published_track']] = test.progress_apply(lambda x: sa.getTrackTags(x.artist_0, x.track), axis=1, result_type='expand')"
   ]
  },
  {
   "cell_type": "code",
   "execution_count": 18,
   "metadata": {},
   "outputs": [
    {
     "name": "stdout",
     "output_type": "stream",
     "text": [
      "59\n"
     ]
    },
    {
     "data": {
      "text/html": [
       "<div>\n",
       "<style scoped>\n",
       "    .dataframe tbody tr th:only-of-type {\n",
       "        vertical-align: middle;\n",
       "    }\n",
       "\n",
       "    .dataframe tbody tr th {\n",
       "        vertical-align: top;\n",
       "    }\n",
       "\n",
       "    .dataframe thead th {\n",
       "        text-align: right;\n",
       "    }\n",
       "</style>\n",
       "<table border=\"1\" class=\"dataframe\">\n",
       "  <thead>\n",
       "    <tr style=\"text-align: right;\">\n",
       "      <th></th>\n",
       "      <th>url</th>\n",
       "      <th>artist</th>\n",
       "      <th>track</th>\n",
       "      <th>artist_0</th>\n",
       "      <th>artist_1</th>\n",
       "      <th>artist_2</th>\n",
       "      <th>bio</th>\n",
       "      <th>artist_tag</th>\n",
       "      <th>track_tag</th>\n",
       "      <th>published_track</th>\n",
       "    </tr>\n",
       "  </thead>\n",
       "  <tbody>\n",
       "    <tr>\n",
       "      <th>381027</th>\n",
       "      <td>https://open.spotify.com/track/3jjsRKEsF42ccXf...</td>\n",
       "      <td>mitski</td>\n",
       "      <td>washing machine heart</td>\n",
       "      <td>mitski</td>\n",
       "      <td>None</td>\n",
       "      <td>None</td>\n",
       "      <td>{'links': {'link': {'#text': '', 'rel': 'origi...</td>\n",
       "      <td>[{'name': 'seen live', 'url': 'https://www.las...</td>\n",
       "      <td>[{'name': 'art rock', 'url': 'https://www.last...</td>\n",
       "      <td>14 Jan 2022, 03:05</td>\n",
       "    </tr>\n",
       "    <tr>\n",
       "      <th>323849</th>\n",
       "      <td>https://open.spotify.com/track/5Tutv8aK0ZJFcil...</td>\n",
       "      <td>brockhampton</td>\n",
       "      <td>chain on (feat. jpegmafia)</td>\n",
       "      <td>brockhampton</td>\n",
       "      <td>None</td>\n",
       "      <td>None</td>\n",
       "      <td>{'links': {'link': {'#text': '', 'rel': 'origi...</td>\n",
       "      <td>[{'name': 'Hip-Hop', 'url': 'https://www.last....</td>\n",
       "      <td>[{'name': 'hip hop', 'url': 'https://www.last....</td>\n",
       "      <td>09 Nov 2022, 03:29</td>\n",
       "    </tr>\n",
       "    <tr>\n",
       "      <th>398913</th>\n",
       "      <td>https://open.spotify.com/track/0tBbt8CrmxbjRP0...</td>\n",
       "      <td>selena gomez, marshmello</td>\n",
       "      <td>wolves</td>\n",
       "      <td>selena gomez</td>\n",
       "      <td>marshmello</td>\n",
       "      <td>None</td>\n",
       "      <td>{'links': {'link': {'#text': '', 'rel': 'origi...</td>\n",
       "      <td>[{'name': 'pop', 'url': 'https://www.last.fm/t...</td>\n",
       "      <td>[{'name': 'pop', 'url': 'https://www.last.fm/t...</td>\n",
       "      <td>29 Oct 2017, 02:07</td>\n",
       "    </tr>\n",
       "    <tr>\n",
       "      <th>263287</th>\n",
       "      <td>https://open.spotify.com/track/0Tcw8w9pvPrZoOR...</td>\n",
       "      <td>future, lil uzi vert</td>\n",
       "      <td>over your head</td>\n",
       "      <td>future</td>\n",
       "      <td>lil uzi vert</td>\n",
       "      <td>None</td>\n",
       "      <td>{'links': {'link': {'#text': '', 'rel': 'origi...</td>\n",
       "      <td>[{'name': 'Hip-Hop', 'url': 'https://www.last....</td>\n",
       "      <td>NaN</td>\n",
       "      <td>NaN</td>\n",
       "    </tr>\n",
       "    <tr>\n",
       "      <th>153415</th>\n",
       "      <td>https://open.spotify.com/track/3xB5uHrhe0uaIxN...</td>\n",
       "      <td>g-eazy</td>\n",
       "      <td>i wanna rock (feat. gunna)</td>\n",
       "      <td>g-eazy</td>\n",
       "      <td>None</td>\n",
       "      <td>None</td>\n",
       "      <td>{'links': {'link': {'#text': '', 'rel': 'origi...</td>\n",
       "      <td>[{'name': 'Hip-Hop', 'url': 'https://www.last....</td>\n",
       "      <td>[{'name': 'rap', 'url': 'https://www.last.fm/t...</td>\n",
       "      <td>31 Jan 2022, 18:03</td>\n",
       "    </tr>\n",
       "  </tbody>\n",
       "</table>\n",
       "</div>"
      ],
      "text/plain": [
       "                                                      url  \\\n",
       "381027  https://open.spotify.com/track/3jjsRKEsF42ccXf...   \n",
       "323849  https://open.spotify.com/track/5Tutv8aK0ZJFcil...   \n",
       "398913  https://open.spotify.com/track/0tBbt8CrmxbjRP0...   \n",
       "263287  https://open.spotify.com/track/0Tcw8w9pvPrZoOR...   \n",
       "153415  https://open.spotify.com/track/3xB5uHrhe0uaIxN...   \n",
       "\n",
       "                          artist                       track      artist_0  \\\n",
       "381027                    mitski       washing machine heart        mitski   \n",
       "323849              brockhampton  chain on (feat. jpegmafia)  brockhampton   \n",
       "398913  selena gomez, marshmello                      wolves  selena gomez   \n",
       "263287      future, lil uzi vert              over your head        future   \n",
       "153415                    g-eazy  i wanna rock (feat. gunna)        g-eazy   \n",
       "\n",
       "             artist_1 artist_2  \\\n",
       "381027           None     None   \n",
       "323849           None     None   \n",
       "398913     marshmello     None   \n",
       "263287   lil uzi vert     None   \n",
       "153415           None     None   \n",
       "\n",
       "                                                      bio  \\\n",
       "381027  {'links': {'link': {'#text': '', 'rel': 'origi...   \n",
       "323849  {'links': {'link': {'#text': '', 'rel': 'origi...   \n",
       "398913  {'links': {'link': {'#text': '', 'rel': 'origi...   \n",
       "263287  {'links': {'link': {'#text': '', 'rel': 'origi...   \n",
       "153415  {'links': {'link': {'#text': '', 'rel': 'origi...   \n",
       "\n",
       "                                               artist_tag  \\\n",
       "381027  [{'name': 'seen live', 'url': 'https://www.las...   \n",
       "323849  [{'name': 'Hip-Hop', 'url': 'https://www.last....   \n",
       "398913  [{'name': 'pop', 'url': 'https://www.last.fm/t...   \n",
       "263287  [{'name': 'Hip-Hop', 'url': 'https://www.last....   \n",
       "153415  [{'name': 'Hip-Hop', 'url': 'https://www.last....   \n",
       "\n",
       "                                                track_tag     published_track  \n",
       "381027  [{'name': 'art rock', 'url': 'https://www.last...  14 Jan 2022, 03:05  \n",
       "323849  [{'name': 'hip hop', 'url': 'https://www.last....  09 Nov 2022, 03:29  \n",
       "398913  [{'name': 'pop', 'url': 'https://www.last.fm/t...  29 Oct 2017, 02:07  \n",
       "263287                                                NaN                 NaN  \n",
       "153415  [{'name': 'rap', 'url': 'https://www.last.fm/t...  31 Jan 2022, 18:03  "
      ]
     },
     "execution_count": 18,
     "metadata": {},
     "output_type": "execute_result"
    }
   ],
   "source": [
    "print(test['track_tag'].isnull().sum())\n",
    "test.head()"
   ]
  },
  {
   "cell_type": "code",
   "execution_count": 19,
   "metadata": {},
   "outputs": [
    {
     "data": {
      "text/html": [
       "<div>\n",
       "<style scoped>\n",
       "    .dataframe tbody tr th:only-of-type {\n",
       "        vertical-align: middle;\n",
       "    }\n",
       "\n",
       "    .dataframe tbody tr th {\n",
       "        vertical-align: top;\n",
       "    }\n",
       "\n",
       "    .dataframe thead th {\n",
       "        text-align: right;\n",
       "    }\n",
       "</style>\n",
       "<table border=\"1\" class=\"dataframe\">\n",
       "  <thead>\n",
       "    <tr style=\"text-align: right;\">\n",
       "      <th></th>\n",
       "      <th>url</th>\n",
       "      <th>artist</th>\n",
       "      <th>track</th>\n",
       "      <th>artist_0</th>\n",
       "      <th>artist_1</th>\n",
       "      <th>artist_2</th>\n",
       "      <th>bio</th>\n",
       "      <th>artist_tag</th>\n",
       "      <th>track_tag</th>\n",
       "      <th>published_track</th>\n",
       "    </tr>\n",
       "  </thead>\n",
       "  <tbody>\n",
       "    <tr>\n",
       "      <th>1456</th>\n",
       "      <td>https://open.spotify.com/track/1tyjWMMINb9S0YB...</td>\n",
       "      <td>london on da track</td>\n",
       "      <td>no flag (feat. nicki minaj, 21 savage &amp; offset)</td>\n",
       "      <td>london on da track</td>\n",
       "      <td>None</td>\n",
       "      <td>None</td>\n",
       "      <td>{'links': {'link': {'#text': '', 'rel': 'origi...</td>\n",
       "      <td>[{'name': 'Hip-Hop', 'url': 'https://www.last....</td>\n",
       "      <td>NaN</td>\n",
       "      <td>NaN</td>\n",
       "    </tr>\n",
       "    <tr>\n",
       "      <th>281638</th>\n",
       "      <td>https://open.spotify.com/track/3gwoz4xZuye0agj...</td>\n",
       "      <td>troye sivan</td>\n",
       "      <td>easy</td>\n",
       "      <td>troye sivan</td>\n",
       "      <td>None</td>\n",
       "      <td>None</td>\n",
       "      <td>{'links': {'link': {'#text': '', 'rel': 'origi...</td>\n",
       "      <td>[{'name': 'pop', 'url': 'https://www.last.fm/t...</td>\n",
       "      <td>[{'name': 'synthpop', 'url': 'https://www.last...</td>\n",
       "      <td>24 Jan 2022, 00:22</td>\n",
       "    </tr>\n",
       "    <tr>\n",
       "      <th>424340</th>\n",
       "      <td>https://open.spotify.com/track/1BkSadCalO2qea7...</td>\n",
       "      <td>big boi, gucci mane, pimp c</td>\n",
       "      <td>in the south</td>\n",
       "      <td>big boi</td>\n",
       "      <td>gucci mane</td>\n",
       "      <td>pimp c</td>\n",
       "      <td>{'links': {'link': {'#text': '', 'rel': 'origi...</td>\n",
       "      <td>[{'name': 'Hip-Hop', 'url': 'https://www.last....</td>\n",
       "      <td>NaN</td>\n",
       "      <td>NaN</td>\n",
       "    </tr>\n",
       "    <tr>\n",
       "      <th>240772</th>\n",
       "      <td>https://open.spotify.com/track/7knsEeZDIqMFA3e...</td>\n",
       "      <td>oli fox</td>\n",
       "      <td>cruel</td>\n",
       "      <td>oli fox</td>\n",
       "      <td>None</td>\n",
       "      <td>None</td>\n",
       "      <td>{'links': {'link': {'#text': '', 'rel': 'origi...</td>\n",
       "      <td>[]</td>\n",
       "      <td>NaN</td>\n",
       "      <td>NaN</td>\n",
       "    </tr>\n",
       "    <tr>\n",
       "      <th>349972</th>\n",
       "      <td>https://open.spotify.com/track/2Jy50uaAgvyyrVO...</td>\n",
       "      <td>levi hummon</td>\n",
       "      <td>wedding dress</td>\n",
       "      <td>levi hummon</td>\n",
       "      <td>None</td>\n",
       "      <td>None</td>\n",
       "      <td>{'links': {'link': {'#text': '', 'rel': 'origi...</td>\n",
       "      <td>[{'name': 'country', 'url': 'https://www.last....</td>\n",
       "      <td>NaN</td>\n",
       "      <td>NaN</td>\n",
       "    </tr>\n",
       "  </tbody>\n",
       "</table>\n",
       "</div>"
      ],
      "text/plain": [
       "                                                      url  \\\n",
       "1456    https://open.spotify.com/track/1tyjWMMINb9S0YB...   \n",
       "281638  https://open.spotify.com/track/3gwoz4xZuye0agj...   \n",
       "424340  https://open.spotify.com/track/1BkSadCalO2qea7...   \n",
       "240772  https://open.spotify.com/track/7knsEeZDIqMFA3e...   \n",
       "349972  https://open.spotify.com/track/2Jy50uaAgvyyrVO...   \n",
       "\n",
       "                             artist  \\\n",
       "1456             london on da track   \n",
       "281638                  troye sivan   \n",
       "424340  big boi, gucci mane, pimp c   \n",
       "240772                      oli fox   \n",
       "349972                  levi hummon   \n",
       "\n",
       "                                                  track            artist_0  \\\n",
       "1456    no flag (feat. nicki minaj, 21 savage & offset)  london on da track   \n",
       "281638                                             easy         troye sivan   \n",
       "424340                                     in the south             big boi   \n",
       "240772                                            cruel             oli fox   \n",
       "349972                                    wedding dress         levi hummon   \n",
       "\n",
       "           artist_1 artist_2  \\\n",
       "1456           None     None   \n",
       "281638         None     None   \n",
       "424340   gucci mane   pimp c   \n",
       "240772         None     None   \n",
       "349972         None     None   \n",
       "\n",
       "                                                      bio  \\\n",
       "1456    {'links': {'link': {'#text': '', 'rel': 'origi...   \n",
       "281638  {'links': {'link': {'#text': '', 'rel': 'origi...   \n",
       "424340  {'links': {'link': {'#text': '', 'rel': 'origi...   \n",
       "240772  {'links': {'link': {'#text': '', 'rel': 'origi...   \n",
       "349972  {'links': {'link': {'#text': '', 'rel': 'origi...   \n",
       "\n",
       "                                               artist_tag  \\\n",
       "1456    [{'name': 'Hip-Hop', 'url': 'https://www.last....   \n",
       "281638  [{'name': 'pop', 'url': 'https://www.last.fm/t...   \n",
       "424340  [{'name': 'Hip-Hop', 'url': 'https://www.last....   \n",
       "240772                                                 []   \n",
       "349972  [{'name': 'country', 'url': 'https://www.last....   \n",
       "\n",
       "                                                track_tag     published_track  \n",
       "1456                                                  NaN                 NaN  \n",
       "281638  [{'name': 'synthpop', 'url': 'https://www.last...  24 Jan 2022, 00:22  \n",
       "424340                                                NaN                 NaN  \n",
       "240772                                                NaN                 NaN  \n",
       "349972                                                NaN                 NaN  "
      ]
     },
     "execution_count": 19,
     "metadata": {},
     "output_type": "execute_result"
    }
   ],
   "source": [
    "test.tail()"
   ]
  },
  {
   "attachments": {},
   "cell_type": "markdown",
   "metadata": {},
   "source": [
    "This is for the whole dataset:"
   ]
  },
  {
   "cell_type": "code",
   "execution_count": 25,
   "metadata": {},
   "outputs": [
    {
     "name": "stderr",
     "output_type": "stream",
     "text": [
      " 44%|████▍     | 6453/14659 [20:44<27:30,  4.97it/s]  "
     ]
    }
   ],
   "source": [
    "tqdm.pandas()\n",
    "\n",
    "tracks[['track_tag', 'published_track']] = tracks.progress_apply(lambda x: sa.getTrackTags(x.artist_0, x.track), axis=1, result_type='expand')"
   ]
  },
  {
   "cell_type": "code",
   "execution_count": 22,
   "metadata": {},
   "outputs": [
    {
     "name": "stdout",
     "output_type": "stream",
     "text": [
      "9301 1\n"
     ]
    },
    {
     "data": {
      "text/html": [
       "<div>\n",
       "<style scoped>\n",
       "    .dataframe tbody tr th:only-of-type {\n",
       "        vertical-align: middle;\n",
       "    }\n",
       "\n",
       "    .dataframe tbody tr th {\n",
       "        vertical-align: top;\n",
       "    }\n",
       "\n",
       "    .dataframe thead th {\n",
       "        text-align: right;\n",
       "    }\n",
       "</style>\n",
       "<table border=\"1\" class=\"dataframe\">\n",
       "  <thead>\n",
       "    <tr style=\"text-align: right;\">\n",
       "      <th></th>\n",
       "      <th>url</th>\n",
       "      <th>artist</th>\n",
       "      <th>track</th>\n",
       "      <th>artist_0</th>\n",
       "      <th>artist_1</th>\n",
       "      <th>artist_2</th>\n",
       "      <th>bio</th>\n",
       "      <th>artist_tag</th>\n",
       "      <th>track_tag</th>\n",
       "      <th>published_track</th>\n",
       "    </tr>\n",
       "  </thead>\n",
       "  <tbody>\n",
       "    <tr>\n",
       "      <th>0</th>\n",
       "      <td>https://open.spotify.com/track/4Km5HrUvYTaSUfi...</td>\n",
       "      <td>migos</td>\n",
       "      <td>bad and boujee (feat. lil uzi vert)</td>\n",
       "      <td>migos</td>\n",
       "      <td>None</td>\n",
       "      <td>None</td>\n",
       "      <td>{'links': {'link': {'#text': '', 'rel': 'origi...</td>\n",
       "      <td>[{'name': 'Hip-Hop', 'url': 'https://www.last....</td>\n",
       "      <td>[{'name': 'trap', 'url': 'https://www.last.fm/...</td>\n",
       "      <td>30 Jan 2018, 04:41</td>\n",
       "    </tr>\n",
       "    <tr>\n",
       "      <th>1</th>\n",
       "      <td>https://open.spotify.com/track/343YBumqHu19cGo...</td>\n",
       "      <td>drake</td>\n",
       "      <td>fake love</td>\n",
       "      <td>drake</td>\n",
       "      <td>None</td>\n",
       "      <td>None</td>\n",
       "      <td>{'links': {'link': {'#text': '', 'rel': 'origi...</td>\n",
       "      <td>[{'name': 'Hip-Hop', 'url': 'https://www.last....</td>\n",
       "      <td>[{'name': 'trap', 'url': 'https://www.last.fm/...</td>\n",
       "      <td>27 Oct 2016, 02:34</td>\n",
       "    </tr>\n",
       "    <tr>\n",
       "      <th>2</th>\n",
       "      <td>https://open.spotify.com/track/5aAx2yezTd8zXrk...</td>\n",
       "      <td>the weeknd, daft punk</td>\n",
       "      <td>starboy</td>\n",
       "      <td>the weeknd</td>\n",
       "      <td>daft punk</td>\n",
       "      <td>None</td>\n",
       "      <td>{'links': {'link': {'#text': '', 'rel': 'origi...</td>\n",
       "      <td>[{'name': 'rnb', 'url': 'https://www.last.fm/t...</td>\n",
       "      <td>[{'name': 'rnb', 'url': 'https://www.last.fm/t...</td>\n",
       "      <td>23 Sep 2016, 01:07</td>\n",
       "    </tr>\n",
       "    <tr>\n",
       "      <th>3</th>\n",
       "      <td>https://open.spotify.com/track/7BKLCZ1jbUBVqRi...</td>\n",
       "      <td>the chainsmokers, halsey</td>\n",
       "      <td>closer</td>\n",
       "      <td>the chainsmokers</td>\n",
       "      <td>halsey</td>\n",
       "      <td>None</td>\n",
       "      <td>{'links': {'link': {'#text': '', 'rel': 'origi...</td>\n",
       "      <td>[{'name': 'electronic', 'url': 'https://www.la...</td>\n",
       "      <td>[{'name': '2016', 'url': 'https://www.last.fm/...</td>\n",
       "      <td>31 Jul 2016, 22:59</td>\n",
       "    </tr>\n",
       "    <tr>\n",
       "      <th>4</th>\n",
       "      <td>https://open.spotify.com/track/6fujklziTHa8uoM...</td>\n",
       "      <td>rae sremmurd, gucci mane</td>\n",
       "      <td>black beatles</td>\n",
       "      <td>rae sremmurd</td>\n",
       "      <td>gucci mane</td>\n",
       "      <td>None</td>\n",
       "      <td>{'links': {'link': {'#text': '', 'rel': 'origi...</td>\n",
       "      <td>[{'name': 'Hip-Hop', 'url': 'https://www.last....</td>\n",
       "      <td>[{'name': 'trap', 'url': 'https://www.last.fm/...</td>\n",
       "      <td>27 Oct 2016, 05:23</td>\n",
       "    </tr>\n",
       "  </tbody>\n",
       "</table>\n",
       "</div>"
      ],
      "text/plain": [
       "                                                 url  \\\n",
       "0  https://open.spotify.com/track/4Km5HrUvYTaSUfi...   \n",
       "1  https://open.spotify.com/track/343YBumqHu19cGo...   \n",
       "2  https://open.spotify.com/track/5aAx2yezTd8zXrk...   \n",
       "3  https://open.spotify.com/track/7BKLCZ1jbUBVqRi...   \n",
       "4  https://open.spotify.com/track/6fujklziTHa8uoM...   \n",
       "\n",
       "                     artist                                track  \\\n",
       "0                     migos  bad and boujee (feat. lil uzi vert)   \n",
       "1                     drake                            fake love   \n",
       "2     the weeknd, daft punk                              starboy   \n",
       "3  the chainsmokers, halsey                               closer   \n",
       "4  rae sremmurd, gucci mane                        black beatles   \n",
       "\n",
       "           artist_0     artist_1 artist_2  \\\n",
       "0             migos         None     None   \n",
       "1             drake         None     None   \n",
       "2        the weeknd    daft punk     None   \n",
       "3  the chainsmokers       halsey     None   \n",
       "4      rae sremmurd   gucci mane     None   \n",
       "\n",
       "                                                 bio  \\\n",
       "0  {'links': {'link': {'#text': '', 'rel': 'origi...   \n",
       "1  {'links': {'link': {'#text': '', 'rel': 'origi...   \n",
       "2  {'links': {'link': {'#text': '', 'rel': 'origi...   \n",
       "3  {'links': {'link': {'#text': '', 'rel': 'origi...   \n",
       "4  {'links': {'link': {'#text': '', 'rel': 'origi...   \n",
       "\n",
       "                                          artist_tag  \\\n",
       "0  [{'name': 'Hip-Hop', 'url': 'https://www.last....   \n",
       "1  [{'name': 'Hip-Hop', 'url': 'https://www.last....   \n",
       "2  [{'name': 'rnb', 'url': 'https://www.last.fm/t...   \n",
       "3  [{'name': 'electronic', 'url': 'https://www.la...   \n",
       "4  [{'name': 'Hip-Hop', 'url': 'https://www.last....   \n",
       "\n",
       "                                           track_tag     published_track  \n",
       "0  [{'name': 'trap', 'url': 'https://www.last.fm/...  30 Jan 2018, 04:41  \n",
       "1  [{'name': 'trap', 'url': 'https://www.last.fm/...  27 Oct 2016, 02:34  \n",
       "2  [{'name': 'rnb', 'url': 'https://www.last.fm/t...  23 Sep 2016, 01:07  \n",
       "3  [{'name': '2016', 'url': 'https://www.last.fm/...  31 Jul 2016, 22:59  \n",
       "4  [{'name': 'trap', 'url': 'https://www.last.fm/...  27 Oct 2016, 05:23  "
      ]
     },
     "execution_count": 22,
     "metadata": {},
     "output_type": "execute_result"
    }
   ],
   "source": [
    "print(tracks['track_tag'].isnull().sum(), tracks['artist_tag'].isnull().sum())\n",
    "tracks.head()"
   ]
  },
  {
   "attachments": {},
   "cell_type": "markdown",
   "metadata": {},
   "source": [
    "# Data Cleaning"
   ]
  },
  {
   "attachments": {},
   "cell_type": "markdown",
   "metadata": {},
   "source": [
    "Cleaning the new `bio` data"
   ]
  },
  {
   "cell_type": "code",
   "execution_count": null,
   "metadata": {},
   "outputs": [],
   "source": [
    "bio = tracks['bio'].apply(pd.Series)\n",
    "bio.head()\n",
    "#artist_tag['tag'] = artist_tag['tag'].apply(pd.Series)"
   ]
  },
  {
   "attachments": {},
   "cell_type": "markdown",
   "metadata": {},
   "source": [
    "Cleaning the `artist_tag` column"
   ]
  },
  {
   "cell_type": "code",
   "execution_count": null,
   "metadata": {},
   "outputs": [],
   "source": [
    "artist_tag = tracks['artist_tag'].apply(pd.Series)\n",
    "new_columns = []\n",
    "for item in artist_tag.columns.to_list():\n",
    "    new_columns.append('aritist_genre_'+str(item))\n",
    "artist_tag.columns = new_columns\n",
    "#print(artist_tag.columns.to_list(), new_columns)\n",
    "artist_tag.head()"
   ]
  },
  {
   "cell_type": "code",
   "execution_count": null,
   "metadata": {},
   "outputs": [],
   "source": [
    "# cleaning unnecesary dictionaries\n",
    "for index, row in artist_tag.iterrows():\n",
    "    for column in artist_tag.columns.tolist():\n",
    "        try:\n",
    "            row[column] = list(row[column].values())[0] \n",
    "            #print(row[column])\n",
    "        except:\n",
    "            continue\n",
    "artist_tag.head()"
   ]
  },
  {
   "attachments": {},
   "cell_type": "markdown",
   "metadata": {},
   "source": [
    "Cleaning `track_tag` column:"
   ]
  },
  {
   "cell_type": "code",
   "execution_count": null,
   "metadata": {},
   "outputs": [],
   "source": [
    "track_tag = tracks['track_tag'].apply(pd.Series)\n",
    "new_columns = []\n",
    "for item in track_tag.columns.to_list():\n",
    "    new_columns.append('track_genre_'+str(item))\n",
    "track_tag.columns = new_columns\n",
    "track_tag.head()"
   ]
  },
  {
   "cell_type": "code",
   "execution_count": null,
   "metadata": {},
   "outputs": [],
   "source": [
    "# cleaning unnecesary dictionaries\n",
    "for index, row in track_tag.iterrows():\n",
    "    for column in track_tag.columns.tolist():\n",
    "        try:\n",
    "            row[column] = list(row[column].values())[0] \n",
    "        except:\n",
    "            continue\n",
    "track_tag.head()"
   ]
  },
  {
   "attachments": {},
   "cell_type": "markdown",
   "metadata": {},
   "source": [
    "Merging the clean columns to the original dataframe and removing unnecesary columns:"
   ]
  },
  {
   "cell_type": "code",
   "execution_count": null,
   "metadata": {},
   "outputs": [],
   "source": [
    "tracks_final = pd.concat([tracks, bio, artist_tag, track_tag], axis = 1)\n",
    "tracks_final.head()"
   ]
  },
  {
   "cell_type": "code",
   "execution_count": null,
   "metadata": {},
   "outputs": [],
   "source": [
    "tracks_final.drop(['bio', 'artist_tag', 'track_tag', 'links', 0], axis=1, inplace=True)\n",
    "tracks_final.head()"
   ]
  },
  {
   "attachments": {},
   "cell_type": "markdown",
   "metadata": {},
   "source": [
    "# Adding new columns"
   ]
  },
  {
   "attachments": {},
   "cell_type": "markdown",
   "metadata": {},
   "source": [
    "Generating a new clean genres column based on the extracted ones from de apis."
   ]
  },
  {
   "cell_type": "code",
   "execution_count": null,
   "metadata": {},
   "outputs": [],
   "source": [
    "tracks_final.head(1)"
   ]
  },
  {
   "cell_type": "code",
   "execution_count": null,
   "metadata": {},
   "outputs": [],
   "source": [
    "tracks_final['music_genre'] = np.where(tracks_final['aritist_genre_0'].isnull() == True, tracks_final['track_genre_0'].str.lower(), tracks_final['aritist_genre_0'].str.lower())\n",
    "tracks_final['music_genre'].value_counts()"
   ]
  },
  {
   "cell_type": "code",
   "execution_count": null,
   "metadata": {},
   "outputs": [],
   "source": [
    "cuenta_generos = Counter(genres for genres in tracks_final['music_genre'])\n",
    "print(f\"Hay {len(cuenta_generos)} generos diferentes.\")"
   ]
  },
  {
   "cell_type": "code",
   "execution_count": null,
   "metadata": {},
   "outputs": [],
   "source": [
    "dict_genres = dict(cuenta_generos.most_common(25))"
   ]
  },
  {
   "cell_type": "code",
   "execution_count": null,
   "metadata": {},
   "outputs": [],
   "source": [
    "fuzz.ratio('hip-hop', \"hip hop\")"
   ]
  },
  {
   "cell_type": "code",
   "execution_count": null,
   "metadata": {},
   "outputs": [],
   "source": [
    "tracks_final[\"clean_music_genre\"] = tracks_final.apply(lambda x: sa.music_genres(x[\"music_genre\"], dict_genres), axis = 1)\n",
    "tracks_final[\"clean_music_genre\"].value_counts()"
   ]
  },
  {
   "attachments": {},
   "cell_type": "markdown",
   "metadata": {},
   "source": [
    "Adding gender info column."
   ]
  },
  {
   "cell_type": "code",
   "execution_count": null,
   "metadata": {},
   "outputs": [],
   "source": [
    "tracks_final.sample()"
   ]
  },
  {
   "cell_type": "code",
   "execution_count": null,
   "metadata": {},
   "outputs": [],
   "source": [
    "tracks_final.head(1)"
   ]
  },
  {
   "cell_type": "code",
   "execution_count": null,
   "metadata": {},
   "outputs": [],
   "source": [
    "#df[\"gender\"] = df.apply(lambda x: generos(x['content'], bb.dict_gender), axis=1)\n",
    "tracks_final[\"gender\"] = tracks_final['summary'].apply(sa.generos)"
   ]
  },
  {
   "cell_type": "code",
   "execution_count": null,
   "metadata": {},
   "outputs": [],
   "source": [
    "tracks_final['gender'].value_counts() / tracks_final.shape[0]"
   ]
  },
  {
   "attachments": {},
   "cell_type": "markdown",
   "metadata": {},
   "source": [
    "# EDA"
   ]
  },
  {
   "attachments": {},
   "cell_type": "markdown",
   "metadata": {},
   "source": [
    "Total number of rows and columns of the dataframe"
   ]
  },
  {
   "cell_type": "code",
   "execution_count": null,
   "metadata": {},
   "outputs": [],
   "source": [
    "tracks_final.shape"
   ]
  },
  {
   "attachments": {},
   "cell_type": "markdown",
   "metadata": {},
   "source": [
    "Counting duplicated rows"
   ]
  },
  {
   "cell_type": "code",
   "execution_count": null,
   "metadata": {},
   "outputs": [],
   "source": [
    "tracks_final.duplicated().sum()"
   ]
  },
  {
   "attachments": {},
   "cell_type": "markdown",
   "metadata": {},
   "source": [
    "Counting null values"
   ]
  },
  {
   "cell_type": "code",
   "execution_count": null,
   "metadata": {},
   "outputs": [],
   "source": [
    "tracks_final.isnull().sum() / tracks_final.shape[0]"
   ]
  },
  {
   "cell_type": "code",
   "execution_count": null,
   "metadata": {},
   "outputs": [],
   "source": [
    "tracks_final.info()"
   ]
  },
  {
   "attachments": {},
   "cell_type": "markdown",
   "metadata": {},
   "source": [
    "The only null columns available on the dataset are on the `streams` column. This one I will enrich it with api info.\n",
    "\n",
    "Main statistic values for numeric columns"
   ]
  },
  {
   "cell_type": "code",
   "execution_count": null,
   "metadata": {},
   "outputs": [],
   "source": [
    "tracks_final.describe().T"
   ]
  },
  {
   "attachments": {},
   "cell_type": "markdown",
   "metadata": {},
   "source": [
    "Main statistic values for categorical columns"
   ]
  },
  {
   "cell_type": "code",
   "execution_count": null,
   "metadata": {},
   "outputs": [],
   "source": [
    "tracks_final.describe(include='object').T"
   ]
  },
  {
   "attachments": {},
   "cell_type": "markdown",
   "metadata": {},
   "source": [
    "# Export"
   ]
  },
  {
   "cell_type": "code",
   "execution_count": null,
   "metadata": {},
   "outputs": [],
   "source": [
    "with open('../data/pickle/lastfm.pickle', 'wb') as data_lastfm:\n",
    "    pickle.dump(tracks_final, data_lastfm)"
   ]
  }
 ],
 "metadata": {
  "kernelspec": {
   "display_name": "iron",
   "language": "python",
   "name": "python3"
  },
  "language_info": {
   "codemirror_mode": {
    "name": "ipython",
    "version": 3
   },
   "file_extension": ".py",
   "mimetype": "text/x-python",
   "name": "python",
   "nbconvert_exporter": "python",
   "pygments_lexer": "ipython3",
   "version": "3.9.13"
  },
  "orig_nbformat": 4,
  "vscode": {
   "interpreter": {
    "hash": "e59d0b279e6461be5b4ea7b62838527cd8f41f3cbc9a1147b1a83b32d75ab689"
   }
  }
 },
 "nbformat": 4,
 "nbformat_minor": 2
}
