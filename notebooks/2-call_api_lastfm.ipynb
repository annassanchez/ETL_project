{
 "cells": [
  {
   "cell_type": "code",
   "execution_count": 1,
   "metadata": {},
   "outputs": [],
   "source": [
    "import pandas as pd\n",
    "import numpy as np\n",
    "import requests\n",
    "import os \n",
    "from dotenv import load_dotenv\n",
    "import requests\n",
    "from tqdm import tqdm\n",
    "import pickle\n",
    "import re\n",
    "pd.options.display.max_columns = None"
   ]
  },
  {
   "attachments": {},
   "cell_type": "markdown",
   "metadata": {},
   "source": [
    "# Importing pickle file"
   ]
  },
  {
   "cell_type": "code",
   "execution_count": 2,
   "metadata": {},
   "outputs": [],
   "source": [
    "with open('../data/pickle/dataset_viral150_unique.pickle', 'rb') as tracks:\n",
    "    tracks = pickle.load(tracks)"
   ]
  },
  {
   "cell_type": "code",
   "execution_count": 3,
   "metadata": {},
   "outputs": [
    {
     "data": {
      "text/html": [
       "<div>\n",
       "<style scoped>\n",
       "    .dataframe tbody tr th:only-of-type {\n",
       "        vertical-align: middle;\n",
       "    }\n",
       "\n",
       "    .dataframe tbody tr th {\n",
       "        vertical-align: top;\n",
       "    }\n",
       "\n",
       "    .dataframe thead th {\n",
       "        text-align: right;\n",
       "    }\n",
       "</style>\n",
       "<table border=\"1\" class=\"dataframe\">\n",
       "  <thead>\n",
       "    <tr style=\"text-align: right;\">\n",
       "      <th></th>\n",
       "      <th>url</th>\n",
       "      <th>artist_clean</th>\n",
       "      <th>track_clean</th>\n",
       "    </tr>\n",
       "  </thead>\n",
       "  <tbody>\n",
       "    <tr>\n",
       "      <th>8246</th>\n",
       "      <td>https://open.spotify.com/track/4Km5HrUvYTaSUfi...</td>\n",
       "      <td>migos</td>\n",
       "      <td>bad and boujee (feat. lil uzi vert)</td>\n",
       "    </tr>\n",
       "    <tr>\n",
       "      <th>8247</th>\n",
       "      <td>https://open.spotify.com/track/343YBumqHu19cGo...</td>\n",
       "      <td>drake</td>\n",
       "      <td>fake love</td>\n",
       "    </tr>\n",
       "    <tr>\n",
       "      <th>8248</th>\n",
       "      <td>https://open.spotify.com/track/5aAx2yezTd8zXrk...</td>\n",
       "      <td>the weeknd, daft punk</td>\n",
       "      <td>starboy</td>\n",
       "    </tr>\n",
       "    <tr>\n",
       "      <th>8249</th>\n",
       "      <td>https://open.spotify.com/track/7BKLCZ1jbUBVqRi...</td>\n",
       "      <td>the chainsmokers, halsey</td>\n",
       "      <td>closer</td>\n",
       "    </tr>\n",
       "    <tr>\n",
       "      <th>8250</th>\n",
       "      <td>https://open.spotify.com/track/6fujklziTHa8uoM...</td>\n",
       "      <td>rae sremmurd, gucci mane</td>\n",
       "      <td>black beatles</td>\n",
       "    </tr>\n",
       "  </tbody>\n",
       "</table>\n",
       "</div>"
      ],
      "text/plain": [
       "                                                    url  \\\n",
       "8246  https://open.spotify.com/track/4Km5HrUvYTaSUfi...   \n",
       "8247  https://open.spotify.com/track/343YBumqHu19cGo...   \n",
       "8248  https://open.spotify.com/track/5aAx2yezTd8zXrk...   \n",
       "8249  https://open.spotify.com/track/7BKLCZ1jbUBVqRi...   \n",
       "8250  https://open.spotify.com/track/6fujklziTHa8uoM...   \n",
       "\n",
       "                  artist_clean                          track_clean  \n",
       "8246                     migos  bad and boujee (feat. lil uzi vert)  \n",
       "8247                     drake                            fake love  \n",
       "8248     the weeknd, daft punk                              starboy  \n",
       "8249  the chainsmokers, halsey                               closer  \n",
       "8250  rae sremmurd, gucci mane                        black beatles  "
      ]
     },
     "execution_count": 3,
     "metadata": {},
     "output_type": "execute_result"
    }
   ],
   "source": [
    "tracks.head()"
   ]
  },
  {
   "cell_type": "code",
   "execution_count": 4,
   "metadata": {},
   "outputs": [
    {
     "data": {
      "text/html": [
       "<div>\n",
       "<style scoped>\n",
       "    .dataframe tbody tr th:only-of-type {\n",
       "        vertical-align: middle;\n",
       "    }\n",
       "\n",
       "    .dataframe tbody tr th {\n",
       "        vertical-align: top;\n",
       "    }\n",
       "\n",
       "    .dataframe thead th {\n",
       "        text-align: right;\n",
       "    }\n",
       "</style>\n",
       "<table border=\"1\" class=\"dataframe\">\n",
       "  <thead>\n",
       "    <tr style=\"text-align: right;\">\n",
       "      <th></th>\n",
       "      <th>url</th>\n",
       "      <th>artist</th>\n",
       "      <th>track</th>\n",
       "    </tr>\n",
       "  </thead>\n",
       "  <tbody>\n",
       "    <tr>\n",
       "      <th>8246</th>\n",
       "      <td>https://open.spotify.com/track/4Km5HrUvYTaSUfi...</td>\n",
       "      <td>migos</td>\n",
       "      <td>bad and boujee (feat. lil uzi vert)</td>\n",
       "    </tr>\n",
       "    <tr>\n",
       "      <th>8247</th>\n",
       "      <td>https://open.spotify.com/track/343YBumqHu19cGo...</td>\n",
       "      <td>drake</td>\n",
       "      <td>fake love</td>\n",
       "    </tr>\n",
       "    <tr>\n",
       "      <th>8248</th>\n",
       "      <td>https://open.spotify.com/track/5aAx2yezTd8zXrk...</td>\n",
       "      <td>the weeknd, daft punk</td>\n",
       "      <td>starboy</td>\n",
       "    </tr>\n",
       "    <tr>\n",
       "      <th>8249</th>\n",
       "      <td>https://open.spotify.com/track/7BKLCZ1jbUBVqRi...</td>\n",
       "      <td>the chainsmokers, halsey</td>\n",
       "      <td>closer</td>\n",
       "    </tr>\n",
       "    <tr>\n",
       "      <th>8250</th>\n",
       "      <td>https://open.spotify.com/track/6fujklziTHa8uoM...</td>\n",
       "      <td>rae sremmurd, gucci mane</td>\n",
       "      <td>black beatles</td>\n",
       "    </tr>\n",
       "  </tbody>\n",
       "</table>\n",
       "</div>"
      ],
      "text/plain": [
       "                                                    url  \\\n",
       "8246  https://open.spotify.com/track/4Km5HrUvYTaSUfi...   \n",
       "8247  https://open.spotify.com/track/343YBumqHu19cGo...   \n",
       "8248  https://open.spotify.com/track/5aAx2yezTd8zXrk...   \n",
       "8249  https://open.spotify.com/track/7BKLCZ1jbUBVqRi...   \n",
       "8250  https://open.spotify.com/track/6fujklziTHa8uoM...   \n",
       "\n",
       "                        artist                                track  \n",
       "8246                     migos  bad and boujee (feat. lil uzi vert)  \n",
       "8247                     drake                            fake love  \n",
       "8248     the weeknd, daft punk                              starboy  \n",
       "8249  the chainsmokers, halsey                               closer  \n",
       "8250  rae sremmurd, gucci mane                        black beatles  "
      ]
     },
     "execution_count": 4,
     "metadata": {},
     "output_type": "execute_result"
    }
   ],
   "source": [
    "tracks.rename(columns={'track_clean':'track','artist_clean':'artist'}, inplace=True)\n",
    "tracks.head()"
   ]
  },
  {
   "attachments": {},
   "cell_type": "markdown",
   "metadata": {},
   "source": [
    "# lastfm\n",
    "In this part of the process I will extract form the LastFM API all the data related to the tracks and artist genres.\n",
    "\n",
    "First, I need to configure my credentials."
   ]
  },
  {
   "cell_type": "code",
   "execution_count": 5,
   "metadata": {},
   "outputs": [
    {
     "data": {
      "text/plain": [
       "True"
      ]
     },
     "execution_count": 5,
     "metadata": {},
     "output_type": "execute_result"
    }
   ],
   "source": [
    "load_dotenv()"
   ]
  },
  {
   "cell_type": "code",
   "execution_count": 6,
   "metadata": {},
   "outputs": [],
   "source": [
    "api = os.getenv(\"lastfm-id\")\n",
    "username = os.getenv(\"lastfm-user\")"
   ]
  },
  {
   "cell_type": "code",
   "execution_count": 7,
   "metadata": {},
   "outputs": [],
   "source": [
    "## me voy a hacer una función con los datos de la petición\n",
    "def getLastFMData(params):\n",
    "    headers = {'user-agent': username} ## defino mi usuario\n",
    "    url = 'https://ws.audioscrobbler.com/2.0/' ##url a la que voy a contactar\n",
    "\n",
    "    ## configuro los params para hacer la petición\n",
    "    params['api_key'] = api\n",
    "    params['format'] = 'json'\n",
    "\n",
    "    res = requests.get(url, headers=headers, params=params)\n",
    "    return res"
   ]
  },
  {
   "cell_type": "code",
   "execution_count": 8,
   "metadata": {},
   "outputs": [
    {
     "data": {
      "text/plain": [
       "{'links': {'link': {'#text': '',\n",
       "   'rel': 'original',\n",
       "   'href': 'https://last.fm/music/Harry+Styles/+wiki'}},\n",
       " 'published': '24 Aug 2011, 17:11',\n",
       " 'summary': 'Harry Edward Styles (born 1 February 1994 in Redditch, Worcestershire, England) is a Grammy-winning, British singer, songwriter, and actor. As a member of the British (&Irish) boy band One Direction, singer Harry Styles topped the charts, toured the world, and sold millions of albums before going solo in 2016. Styles was raised in Holmes Chapel, Cheshire, and he made his first foray into music with a high-school band named White Eskimo. In 2010, he left home and joined the seventh season of The X Factor <a href=\"https://www.last.fm/music/Harry+Styles\">Read more on Last.fm</a>',\n",
       " 'content': 'Harry Edward Styles (born 1 February 1994 in Redditch, Worcestershire, England) is a Grammy-winning, British singer, songwriter, and actor. As a member of the British (&Irish) boy band One Direction, singer Harry Styles topped the charts, toured the world, and sold millions of albums before going solo in 2016. Styles was raised in Holmes Chapel, Cheshire, and he made his first foray into music with a high-school band named White Eskimo. In 2010, he left home and joined the seventh season of The X Factor, where fate and (TW) Simon Cowell would eventually lead him toward a life-changing opportunity with four other young men. As One Direction, Styles and his group mates Zayn Malik, Louis Tomlinson, Niall Horan, and Liam Payne would release five albums from 2011 to 2015, hitting number one across the globe and selling millions of records to an adoring and rabid fan base that drew comparisons to the fervor at the height of Beatlemania. In early 2016, after Malik had already parted ways with 1D, the remaining foursome announced their indefinite hiatus. Months later, Styles signed a solo deal with Columbia Records. Reflecting the influence of childhood favorites like Queen, Elton John, Fleetwood Mac, The Rolling Stones, Freddy Mercury, and The Beatles, Styles\\' solo material took a more serious and rock-based approach, while still delivering the pop sound his faithful 1D fans desired. With the help of Grammy-winning producer Jeff Bhasker (who had worked with Kanye West and Bruno Mars), Styles put together a small band and, after rehearsing the songs, headed to Jamaica for two months to record an album. \"Sign of the Times,\" a plaintive ballad, was released as its first single in April of 2017. The self-titled full-length followed in May and debuted at the top of the Billboard 200. After 2 world tours, Harry set to write his sophomore album \"Fine Line\" releasing the hit songs \"Lights Up\",  \"Watermelon Sugar\" and \"Adore You\" as the singles. Fine line was released on 13 December 2019 by Columbia and Erskine Records. On March 14, 2021, Harry received the Grammy Award for Best Pop Solo Performance for \"Watermelon Sugar\" at the 63rd Annual Grammy Awards. He was also nominated for Best Music Video with \"Adore You\" and for Best Pop Vocal Album for his album \"Fine Line\". In May of the same year, Styles also won the Brit Award for British Single for \"Watermelon Sugar\". May 20, 2022, Styles released his 3rd album, titled “Harry’s House”. Single from this, “As It Was” went on to break world records and earn Styles the title (male) for the most streamed track on Spotify in 24 hours. <a href=\"https://www.last.fm/music/Harry+Styles\">Read more on Last.fm</a>. User-contributed text is available under the Creative Commons By-SA License; additional terms may apply.'}"
      ]
     },
     "execution_count": 8,
     "metadata": {},
     "output_type": "execute_result"
    }
   ],
   "source": [
    "res = getLastFMData({\n",
    "    'method': 'artist.getInfo',\n",
    "    'artist':'Harry Styles',\n",
    "})\n",
    "res.json()['artist']['bio']"
   ]
  },
  {
   "cell_type": "code",
   "execution_count": 9,
   "metadata": {},
   "outputs": [],
   "source": [
    "def getArtistInfo(artist):\n",
    "    ## hago la colsulta para obtener los datos de tags por artista\n",
    "    res = getLastFMData({\n",
    "        'method': 'artist.getInfo',\n",
    "        'artist':  artist,\n",
    "    })\n",
    "\n",
    "    # por si me da un timeout\n",
    "    if res.status_code != 200:\n",
    "        return None\n",
    "\n",
    "    # extraigo los top 5 tags de cada artistas\n",
    "    try:\n",
    "        #tags = [tag['name'] for tag in res.json()['toptags']['tag'][:3]]\n",
    "        return res.json()['artist']['bio'], res.json()['artist']['tags']['tag']\n",
    "    except:\n",
    "        return np.nan"
   ]
  },
  {
   "attachments": {},
   "cell_type": "markdown",
   "metadata": {},
   "source": [
    "First I try on a slice of my dataframe"
   ]
  },
  {
   "cell_type": "code",
   "execution_count": 10,
   "metadata": {},
   "outputs": [
    {
     "name": "stderr",
     "output_type": "stream",
     "text": [
      "100%|██████████| 100/100 [00:21<00:00,  4.67it/s]\n"
     ]
    }
   ],
   "source": [
    "tqdm.pandas()\n",
    "\n",
    "test = tracks.sample(100)\n",
    "test[['bio', 'artist_tag']] = test.progress_apply(lambda x: getArtistInfo(x.artist), axis=1, result_type='expand')"
   ]
  },
  {
   "cell_type": "code",
   "execution_count": 11,
   "metadata": {},
   "outputs": [
    {
     "data": {
      "text/html": [
       "<div>\n",
       "<style scoped>\n",
       "    .dataframe tbody tr th:only-of-type {\n",
       "        vertical-align: middle;\n",
       "    }\n",
       "\n",
       "    .dataframe tbody tr th {\n",
       "        vertical-align: top;\n",
       "    }\n",
       "\n",
       "    .dataframe thead th {\n",
       "        text-align: right;\n",
       "    }\n",
       "</style>\n",
       "<table border=\"1\" class=\"dataframe\">\n",
       "  <thead>\n",
       "    <tr style=\"text-align: right;\">\n",
       "      <th></th>\n",
       "      <th>url</th>\n",
       "      <th>artist</th>\n",
       "      <th>track</th>\n",
       "      <th>bio</th>\n",
       "      <th>artist_tag</th>\n",
       "    </tr>\n",
       "  </thead>\n",
       "  <tbody>\n",
       "    <tr>\n",
       "      <th>24676</th>\n",
       "      <td>https://open.spotify.com/track/4cxMGhkinTocPSV...</td>\n",
       "      <td>russ</td>\n",
       "      <td>losin control</td>\n",
       "      <td>{'links': {'link': {'#text': '', 'rel': 'origi...</td>\n",
       "      <td>[{'name': 'Hip-Hop', 'url': 'https://www.last....</td>\n",
       "    </tr>\n",
       "    <tr>\n",
       "      <th>318476</th>\n",
       "      <td>https://open.spotify.com/track/41A89rj3GoMG6kt...</td>\n",
       "      <td>lady gaga</td>\n",
       "      <td>alice</td>\n",
       "      <td>{'links': {'link': {'#text': '', 'rel': 'origi...</td>\n",
       "      <td>[{'name': 'pop', 'url': 'https://www.last.fm/t...</td>\n",
       "    </tr>\n",
       "    <tr>\n",
       "      <th>132642</th>\n",
       "      <td>https://open.spotify.com/track/5f5KGCBUtnR3dTS...</td>\n",
       "      <td>jeremih, chris brown, big sean</td>\n",
       "      <td>i think of you</td>\n",
       "      <td>{'links': {'link': {'#text': '', 'rel': 'origi...</td>\n",
       "      <td>[]</td>\n",
       "    </tr>\n",
       "    <tr>\n",
       "      <th>303376</th>\n",
       "      <td>https://open.spotify.com/track/6gxKUmycQX7uyMw...</td>\n",
       "      <td>lil baby</td>\n",
       "      <td>we paid (feat. 42 dugg)</td>\n",
       "      <td>{'links': {'link': {'#text': '', 'rel': 'origi...</td>\n",
       "      <td>[{'name': 'Hip-Hop', 'url': 'https://www.last....</td>\n",
       "    </tr>\n",
       "    <tr>\n",
       "      <th>7709923</th>\n",
       "      <td>https://open.spotify.com/track/6Rz7TXNHJpsyUs0...</td>\n",
       "      <td>carnage</td>\n",
       "      <td>wait for me (feat. g-eazy, wiz khalifa &amp; prinz...</td>\n",
       "      <td>{'links': {'link': {'#text': '', 'rel': 'origi...</td>\n",
       "      <td>[{'name': 'death metal', 'url': 'https://www.l...</td>\n",
       "    </tr>\n",
       "  </tbody>\n",
       "</table>\n",
       "</div>"
      ],
      "text/plain": [
       "                                                       url  \\\n",
       "24676    https://open.spotify.com/track/4cxMGhkinTocPSV...   \n",
       "318476   https://open.spotify.com/track/41A89rj3GoMG6kt...   \n",
       "132642   https://open.spotify.com/track/5f5KGCBUtnR3dTS...   \n",
       "303376   https://open.spotify.com/track/6gxKUmycQX7uyMw...   \n",
       "7709923  https://open.spotify.com/track/6Rz7TXNHJpsyUs0...   \n",
       "\n",
       "                                 artist  \\\n",
       "24676                              russ   \n",
       "318476                        lady gaga   \n",
       "132642   jeremih, chris brown, big sean   \n",
       "303376                         lil baby   \n",
       "7709923                         carnage   \n",
       "\n",
       "                                                     track  \\\n",
       "24676                                        losin control   \n",
       "318476                                               alice   \n",
       "132642                                      i think of you   \n",
       "303376                             we paid (feat. 42 dugg)   \n",
       "7709923  wait for me (feat. g-eazy, wiz khalifa & prinz...   \n",
       "\n",
       "                                                       bio  \\\n",
       "24676    {'links': {'link': {'#text': '', 'rel': 'origi...   \n",
       "318476   {'links': {'link': {'#text': '', 'rel': 'origi...   \n",
       "132642   {'links': {'link': {'#text': '', 'rel': 'origi...   \n",
       "303376   {'links': {'link': {'#text': '', 'rel': 'origi...   \n",
       "7709923  {'links': {'link': {'#text': '', 'rel': 'origi...   \n",
       "\n",
       "                                                artist_tag  \n",
       "24676    [{'name': 'Hip-Hop', 'url': 'https://www.last....  \n",
       "318476   [{'name': 'pop', 'url': 'https://www.last.fm/t...  \n",
       "132642                                                  []  \n",
       "303376   [{'name': 'Hip-Hop', 'url': 'https://www.last....  \n",
       "7709923  [{'name': 'death metal', 'url': 'https://www.l...  "
      ]
     },
     "execution_count": 11,
     "metadata": {},
     "output_type": "execute_result"
    }
   ],
   "source": [
    "test.head()"
   ]
  },
  {
   "attachments": {},
   "cell_type": "markdown",
   "metadata": {},
   "source": [
    "This is for the whole dataframe:"
   ]
  },
  {
   "cell_type": "code",
   "execution_count": 12,
   "metadata": {},
   "outputs": [
    {
     "name": "stderr",
     "output_type": "stream",
     "text": [
      "100%|██████████| 14659/14659 [41:20<00:00,  5.91it/s] \n"
     ]
    }
   ],
   "source": [
    "tqdm.pandas()\n",
    "\n",
    "#test = tracks.sample(100)\n",
    "tracks[['bio', 'artist_tag']] = tracks.progress_apply(lambda x: getArtistInfo(x.artist), axis=1, result_type='expand')"
   ]
  },
  {
   "cell_type": "code",
   "execution_count": 13,
   "metadata": {},
   "outputs": [
    {
     "data": {
      "text/html": [
       "<div>\n",
       "<style scoped>\n",
       "    .dataframe tbody tr th:only-of-type {\n",
       "        vertical-align: middle;\n",
       "    }\n",
       "\n",
       "    .dataframe tbody tr th {\n",
       "        vertical-align: top;\n",
       "    }\n",
       "\n",
       "    .dataframe thead th {\n",
       "        text-align: right;\n",
       "    }\n",
       "</style>\n",
       "<table border=\"1\" class=\"dataframe\">\n",
       "  <thead>\n",
       "    <tr style=\"text-align: right;\">\n",
       "      <th></th>\n",
       "      <th>url</th>\n",
       "      <th>artist</th>\n",
       "      <th>track</th>\n",
       "      <th>bio</th>\n",
       "      <th>artist_tag</th>\n",
       "    </tr>\n",
       "  </thead>\n",
       "  <tbody>\n",
       "    <tr>\n",
       "      <th>8246</th>\n",
       "      <td>https://open.spotify.com/track/4Km5HrUvYTaSUfi...</td>\n",
       "      <td>migos</td>\n",
       "      <td>bad and boujee (feat. lil uzi vert)</td>\n",
       "      <td>{'links': {'link': {'#text': '', 'rel': 'origi...</td>\n",
       "      <td>[{'name': 'Hip-Hop', 'url': 'https://www.last....</td>\n",
       "    </tr>\n",
       "    <tr>\n",
       "      <th>8247</th>\n",
       "      <td>https://open.spotify.com/track/343YBumqHu19cGo...</td>\n",
       "      <td>drake</td>\n",
       "      <td>fake love</td>\n",
       "      <td>{'links': {'link': {'#text': '', 'rel': 'origi...</td>\n",
       "      <td>[{'name': 'Hip-Hop', 'url': 'https://www.last....</td>\n",
       "    </tr>\n",
       "    <tr>\n",
       "      <th>8248</th>\n",
       "      <td>https://open.spotify.com/track/5aAx2yezTd8zXrk...</td>\n",
       "      <td>the weeknd, daft punk</td>\n",
       "      <td>starboy</td>\n",
       "      <td>{'links': {'link': {'#text': '', 'rel': 'origi...</td>\n",
       "      <td>[{'name': 'mistagged', 'url': 'https://www.las...</td>\n",
       "    </tr>\n",
       "    <tr>\n",
       "      <th>8249</th>\n",
       "      <td>https://open.spotify.com/track/7BKLCZ1jbUBVqRi...</td>\n",
       "      <td>the chainsmokers, halsey</td>\n",
       "      <td>closer</td>\n",
       "      <td>{'links': {'link': {'#text': '', 'rel': 'origi...</td>\n",
       "      <td>[]</td>\n",
       "    </tr>\n",
       "    <tr>\n",
       "      <th>8250</th>\n",
       "      <td>https://open.spotify.com/track/6fujklziTHa8uoM...</td>\n",
       "      <td>rae sremmurd, gucci mane</td>\n",
       "      <td>black beatles</td>\n",
       "      <td>{'links': {'link': {'#text': '', 'rel': 'origi...</td>\n",
       "      <td>[]</td>\n",
       "    </tr>\n",
       "  </tbody>\n",
       "</table>\n",
       "</div>"
      ],
      "text/plain": [
       "                                                    url  \\\n",
       "8246  https://open.spotify.com/track/4Km5HrUvYTaSUfi...   \n",
       "8247  https://open.spotify.com/track/343YBumqHu19cGo...   \n",
       "8248  https://open.spotify.com/track/5aAx2yezTd8zXrk...   \n",
       "8249  https://open.spotify.com/track/7BKLCZ1jbUBVqRi...   \n",
       "8250  https://open.spotify.com/track/6fujklziTHa8uoM...   \n",
       "\n",
       "                        artist                                track  \\\n",
       "8246                     migos  bad and boujee (feat. lil uzi vert)   \n",
       "8247                     drake                            fake love   \n",
       "8248     the weeknd, daft punk                              starboy   \n",
       "8249  the chainsmokers, halsey                               closer   \n",
       "8250  rae sremmurd, gucci mane                        black beatles   \n",
       "\n",
       "                                                    bio  \\\n",
       "8246  {'links': {'link': {'#text': '', 'rel': 'origi...   \n",
       "8247  {'links': {'link': {'#text': '', 'rel': 'origi...   \n",
       "8248  {'links': {'link': {'#text': '', 'rel': 'origi...   \n",
       "8249  {'links': {'link': {'#text': '', 'rel': 'origi...   \n",
       "8250  {'links': {'link': {'#text': '', 'rel': 'origi...   \n",
       "\n",
       "                                             artist_tag  \n",
       "8246  [{'name': 'Hip-Hop', 'url': 'https://www.last....  \n",
       "8247  [{'name': 'Hip-Hop', 'url': 'https://www.last....  \n",
       "8248  [{'name': 'mistagged', 'url': 'https://www.las...  \n",
       "8249                                                 []  \n",
       "8250                                                 []  "
      ]
     },
     "execution_count": 13,
     "metadata": {},
     "output_type": "execute_result"
    }
   ],
   "source": [
    "tracks.head()"
   ]
  },
  {
   "attachments": {},
   "cell_type": "markdown",
   "metadata": {},
   "source": [
    "Now I get the tags for each individual track:"
   ]
  },
  {
   "cell_type": "code",
   "execution_count": 14,
   "metadata": {},
   "outputs": [
    {
     "data": {
      "text/plain": [
       "[{'name': 'pop', 'url': 'https://www.last.fm/tag/pop'},\n",
       " {'name': 'rock', 'url': 'https://www.last.fm/tag/rock'},\n",
       " {'name': 'indie pop', 'url': 'https://www.last.fm/tag/indie+pop'},\n",
       " {'name': 'synthpop', 'url': 'https://www.last.fm/tag/synthpop'},\n",
       " {'name': 'british', 'url': 'https://www.last.fm/tag/british'}]"
      ]
     },
     "execution_count": 14,
     "metadata": {},
     "output_type": "execute_result"
    }
   ],
   "source": [
    "res = getLastFMData({\n",
    "    'method': 'track.getInfo',\n",
    "    'artist':'Harry Styles',\n",
    "    'track':'As It Was'\n",
    "})\n",
    "res.json()['track']['toptags']['tag']#['published']#[0]['name']"
   ]
  },
  {
   "cell_type": "code",
   "execution_count": 15,
   "metadata": {},
   "outputs": [],
   "source": [
    "def getTrackTags(artist, track):\n",
    "    ## hago la colsulta para obtener los datos de tags por artista\n",
    "    res = getLastFMData({\n",
    "        'method': 'track.getInfo',\n",
    "        'artist':  artist,\n",
    "        'track': track,\n",
    "    })\n",
    "\n",
    "    # por si me da un timeout\n",
    "    if res.status_code != 200:\n",
    "        return None\n",
    "\n",
    "    # extraigo los top 5 tags de cada artistas\n",
    "    try:\n",
    "        #tags = [tag['name'] for tag in res.json()['toptags']['tag'][:3]]\n",
    "        return res.json()['track']['toptags']['tag'], res.json()['track']['wiki']['published'] ## no va muy bien esta parte y solo me extrae tres géneros... \n",
    "    except:\n",
    "        return np.nan, np.nan"
   ]
  },
  {
   "attachments": {},
   "cell_type": "markdown",
   "metadata": {},
   "source": [
    "This is how I will get info for a slice of my dataframe:"
   ]
  },
  {
   "cell_type": "code",
   "execution_count": 16,
   "metadata": {},
   "outputs": [
    {
     "name": "stderr",
     "output_type": "stream",
     "text": [
      "100%|██████████| 100/100 [00:18<00:00,  5.51it/s]\n"
     ]
    }
   ],
   "source": [
    "tqdm.pandas()\n",
    "\n",
    "test = tracks.sample(100)\n",
    "test[['track_tag', 'published_track']] = test.progress_apply(lambda x: getTrackTags(x.artist, x.track), axis=1, result_type='expand')"
   ]
  },
  {
   "cell_type": "code",
   "execution_count": 17,
   "metadata": {},
   "outputs": [
    {
     "name": "stdout",
     "output_type": "stream",
     "text": [
      "62\n"
     ]
    },
    {
     "data": {
      "text/html": [
       "<div>\n",
       "<style scoped>\n",
       "    .dataframe tbody tr th:only-of-type {\n",
       "        vertical-align: middle;\n",
       "    }\n",
       "\n",
       "    .dataframe tbody tr th {\n",
       "        vertical-align: top;\n",
       "    }\n",
       "\n",
       "    .dataframe thead th {\n",
       "        text-align: right;\n",
       "    }\n",
       "</style>\n",
       "<table border=\"1\" class=\"dataframe\">\n",
       "  <thead>\n",
       "    <tr style=\"text-align: right;\">\n",
       "      <th></th>\n",
       "      <th>url</th>\n",
       "      <th>artist</th>\n",
       "      <th>track</th>\n",
       "      <th>bio</th>\n",
       "      <th>artist_tag</th>\n",
       "      <th>track_tag</th>\n",
       "      <th>published_track</th>\n",
       "    </tr>\n",
       "  </thead>\n",
       "  <tbody>\n",
       "    <tr>\n",
       "      <th>2802690</th>\n",
       "      <td>https://open.spotify.com/track/3ig3X70suAwUn4o...</td>\n",
       "      <td>nicki minaj</td>\n",
       "      <td>sir (feat. future)</td>\n",
       "      <td>{'links': {'link': {'#text': '', 'rel': 'origi...</td>\n",
       "      <td>[{'name': 'Hip-Hop', 'url': 'https://www.last....</td>\n",
       "      <td>[{'name': 'future', 'url': 'https://www.last.f...</td>\n",
       "      <td>05 Sep 2021, 01:01</td>\n",
       "    </tr>\n",
       "    <tr>\n",
       "      <th>16165095</th>\n",
       "      <td>https://open.spotify.com/track/3MmvQKMKdN3UhVS...</td>\n",
       "      <td>pop smoke</td>\n",
       "      <td>brush em (feat. rah swish)</td>\n",
       "      <td>{'links': {'link': {'#text': '', 'rel': 'origi...</td>\n",
       "      <td>[{'name': 'rap', 'url': 'https://www.last.fm/t...</td>\n",
       "      <td>NaN</td>\n",
       "      <td>NaN</td>\n",
       "    </tr>\n",
       "    <tr>\n",
       "      <th>24949571</th>\n",
       "      <td>https://open.spotify.com/track/0IIZah55ZZY6VEA...</td>\n",
       "      <td>cl4pers, kingmichealbeats</td>\n",
       "      <td>want me (offcial) - 2021 tiktok version</td>\n",
       "      <td>{'links': {'link': {'#text': '', 'rel': 'origi...</td>\n",
       "      <td>[]</td>\n",
       "      <td>NaN</td>\n",
       "      <td>NaN</td>\n",
       "    </tr>\n",
       "    <tr>\n",
       "      <th>18714605</th>\n",
       "      <td>https://open.spotify.com/track/2JLVZYEMmqPWbUo...</td>\n",
       "      <td>jazmine sullivan</td>\n",
       "      <td>pick up your feelings</td>\n",
       "      <td>{'links': {'link': {'#text': '', 'rel': 'origi...</td>\n",
       "      <td>[{'name': 'rnb', 'url': 'https://www.last.fm/t...</td>\n",
       "      <td>NaN</td>\n",
       "      <td>NaN</td>\n",
       "    </tr>\n",
       "    <tr>\n",
       "      <th>284066</th>\n",
       "      <td>https://open.spotify.com/track/2naJy8SKJ27gj6Z...</td>\n",
       "      <td>rvssian, bad bunny, farruko, nicky jam, kosa</td>\n",
       "      <td>si tu lo dejas</td>\n",
       "      <td>{'links': {'link': {'#text': '', 'rel': 'origi...</td>\n",
       "      <td>[]</td>\n",
       "      <td>NaN</td>\n",
       "      <td>NaN</td>\n",
       "    </tr>\n",
       "  </tbody>\n",
       "</table>\n",
       "</div>"
      ],
      "text/plain": [
       "                                                        url  \\\n",
       "2802690   https://open.spotify.com/track/3ig3X70suAwUn4o...   \n",
       "16165095  https://open.spotify.com/track/3MmvQKMKdN3UhVS...   \n",
       "24949571  https://open.spotify.com/track/0IIZah55ZZY6VEA...   \n",
       "18714605  https://open.spotify.com/track/2JLVZYEMmqPWbUo...   \n",
       "284066    https://open.spotify.com/track/2naJy8SKJ27gj6Z...   \n",
       "\n",
       "                                                artist  \\\n",
       "2802690                                    nicki minaj   \n",
       "16165095                                     pop smoke   \n",
       "24949571                     cl4pers, kingmichealbeats   \n",
       "18714605                              jazmine sullivan   \n",
       "284066    rvssian, bad bunny, farruko, nicky jam, kosa   \n",
       "\n",
       "                                            track  \\\n",
       "2802690                        sir (feat. future)   \n",
       "16165095               brush em (feat. rah swish)   \n",
       "24949571  want me (offcial) - 2021 tiktok version   \n",
       "18714605                    pick up your feelings   \n",
       "284066                             si tu lo dejas   \n",
       "\n",
       "                                                        bio  \\\n",
       "2802690   {'links': {'link': {'#text': '', 'rel': 'origi...   \n",
       "16165095  {'links': {'link': {'#text': '', 'rel': 'origi...   \n",
       "24949571  {'links': {'link': {'#text': '', 'rel': 'origi...   \n",
       "18714605  {'links': {'link': {'#text': '', 'rel': 'origi...   \n",
       "284066    {'links': {'link': {'#text': '', 'rel': 'origi...   \n",
       "\n",
       "                                                 artist_tag  \\\n",
       "2802690   [{'name': 'Hip-Hop', 'url': 'https://www.last....   \n",
       "16165095  [{'name': 'rap', 'url': 'https://www.last.fm/t...   \n",
       "24949571                                                 []   \n",
       "18714605  [{'name': 'rnb', 'url': 'https://www.last.fm/t...   \n",
       "284066                                                   []   \n",
       "\n",
       "                                                  track_tag  \\\n",
       "2802690   [{'name': 'future', 'url': 'https://www.last.f...   \n",
       "16165095                                                NaN   \n",
       "24949571                                                NaN   \n",
       "18714605                                                NaN   \n",
       "284066                                                  NaN   \n",
       "\n",
       "             published_track  \n",
       "2802690   05 Sep 2021, 01:01  \n",
       "16165095                 NaN  \n",
       "24949571                 NaN  \n",
       "18714605                 NaN  \n",
       "284066                   NaN  "
      ]
     },
     "execution_count": 17,
     "metadata": {},
     "output_type": "execute_result"
    }
   ],
   "source": [
    "print(test['track_tag'].isnull().sum())\n",
    "test.head()"
   ]
  },
  {
   "cell_type": "code",
   "execution_count": 18,
   "metadata": {},
   "outputs": [
    {
     "data": {
      "text/html": [
       "<div>\n",
       "<style scoped>\n",
       "    .dataframe tbody tr th:only-of-type {\n",
       "        vertical-align: middle;\n",
       "    }\n",
       "\n",
       "    .dataframe tbody tr th {\n",
       "        vertical-align: top;\n",
       "    }\n",
       "\n",
       "    .dataframe thead th {\n",
       "        text-align: right;\n",
       "    }\n",
       "</style>\n",
       "<table border=\"1\" class=\"dataframe\">\n",
       "  <thead>\n",
       "    <tr style=\"text-align: right;\">\n",
       "      <th></th>\n",
       "      <th>url</th>\n",
       "      <th>artist</th>\n",
       "      <th>track</th>\n",
       "      <th>bio</th>\n",
       "      <th>artist_tag</th>\n",
       "      <th>track_tag</th>\n",
       "      <th>published_track</th>\n",
       "    </tr>\n",
       "  </thead>\n",
       "  <tbody>\n",
       "    <tr>\n",
       "      <th>12035173</th>\n",
       "      <td>https://open.spotify.com/track/6dSKDp21S6I5UOh...</td>\n",
       "      <td>imagine dragons</td>\n",
       "      <td>mouth of the river</td>\n",
       "      <td>{'links': {'link': {'#text': '', 'rel': 'origi...</td>\n",
       "      <td>[{'name': 'indie', 'url': 'https://www.last.fm...</td>\n",
       "      <td>[{'name': 'chill', 'url': 'https://www.last.fm...</td>\n",
       "      <td>28 Jan 2020, 18:20</td>\n",
       "    </tr>\n",
       "    <tr>\n",
       "      <th>21309773</th>\n",
       "      <td>https://open.spotify.com/track/2158CKVDPFy5h5O...</td>\n",
       "      <td>run the jewels</td>\n",
       "      <td>stay gold</td>\n",
       "      <td>{'links': {'link': {'#text': '', 'rel': 'origi...</td>\n",
       "      <td>[{'name': 'Hip-Hop', 'url': 'https://www.last....</td>\n",
       "      <td>NaN</td>\n",
       "      <td>NaN</td>\n",
       "    </tr>\n",
       "    <tr>\n",
       "      <th>23384226</th>\n",
       "      <td>https://open.spotify.com/track/0iI87VdRHdzSzX2...</td>\n",
       "      <td>conan gray</td>\n",
       "      <td>idle town</td>\n",
       "      <td>{'links': {'link': {'#text': '', 'rel': 'origi...</td>\n",
       "      <td>[{'name': 'indie', 'url': 'https://www.last.fm...</td>\n",
       "      <td>[{'name': 'indie pop', 'url': 'https://www.las...</td>\n",
       "      <td>08 Apr 2022, 16:18</td>\n",
       "    </tr>\n",
       "    <tr>\n",
       "      <th>23737723</th>\n",
       "      <td>https://open.spotify.com/track/02q0ZnV2L4XByzE...</td>\n",
       "      <td>bts</td>\n",
       "      <td>spring day</td>\n",
       "      <td>{'links': {'link': {'#text': '', 'rel': 'origi...</td>\n",
       "      <td>[{'name': 'k-pop', 'url': 'https://www.last.fm...</td>\n",
       "      <td>[{'name': 'bts', 'url': 'https://www.last.fm/t...</td>\n",
       "      <td>19 Nov 2022, 19:36</td>\n",
       "    </tr>\n",
       "    <tr>\n",
       "      <th>12491355</th>\n",
       "      <td>https://open.spotify.com/track/6Ww0J5EFjiPxkgZ...</td>\n",
       "      <td>eminem</td>\n",
       "      <td>nowhere fast (feat. kehlani)</td>\n",
       "      <td>{'links': {'link': {'#text': '', 'rel': 'origi...</td>\n",
       "      <td>[{'name': 'rap', 'url': 'https://www.last.fm/t...</td>\n",
       "      <td>NaN</td>\n",
       "      <td>NaN</td>\n",
       "    </tr>\n",
       "  </tbody>\n",
       "</table>\n",
       "</div>"
      ],
      "text/plain": [
       "                                                        url           artist  \\\n",
       "12035173  https://open.spotify.com/track/6dSKDp21S6I5UOh...  imagine dragons   \n",
       "21309773  https://open.spotify.com/track/2158CKVDPFy5h5O...   run the jewels   \n",
       "23384226  https://open.spotify.com/track/0iI87VdRHdzSzX2...       conan gray   \n",
       "23737723  https://open.spotify.com/track/02q0ZnV2L4XByzE...              bts   \n",
       "12491355  https://open.spotify.com/track/6Ww0J5EFjiPxkgZ...           eminem   \n",
       "\n",
       "                                 track  \\\n",
       "12035173            mouth of the river   \n",
       "21309773                     stay gold   \n",
       "23384226                     idle town   \n",
       "23737723                    spring day   \n",
       "12491355  nowhere fast (feat. kehlani)   \n",
       "\n",
       "                                                        bio  \\\n",
       "12035173  {'links': {'link': {'#text': '', 'rel': 'origi...   \n",
       "21309773  {'links': {'link': {'#text': '', 'rel': 'origi...   \n",
       "23384226  {'links': {'link': {'#text': '', 'rel': 'origi...   \n",
       "23737723  {'links': {'link': {'#text': '', 'rel': 'origi...   \n",
       "12491355  {'links': {'link': {'#text': '', 'rel': 'origi...   \n",
       "\n",
       "                                                 artist_tag  \\\n",
       "12035173  [{'name': 'indie', 'url': 'https://www.last.fm...   \n",
       "21309773  [{'name': 'Hip-Hop', 'url': 'https://www.last....   \n",
       "23384226  [{'name': 'indie', 'url': 'https://www.last.fm...   \n",
       "23737723  [{'name': 'k-pop', 'url': 'https://www.last.fm...   \n",
       "12491355  [{'name': 'rap', 'url': 'https://www.last.fm/t...   \n",
       "\n",
       "                                                  track_tag  \\\n",
       "12035173  [{'name': 'chill', 'url': 'https://www.last.fm...   \n",
       "21309773                                                NaN   \n",
       "23384226  [{'name': 'indie pop', 'url': 'https://www.las...   \n",
       "23737723  [{'name': 'bts', 'url': 'https://www.last.fm/t...   \n",
       "12491355                                                NaN   \n",
       "\n",
       "             published_track  \n",
       "12035173  28 Jan 2020, 18:20  \n",
       "21309773                 NaN  \n",
       "23384226  08 Apr 2022, 16:18  \n",
       "23737723  19 Nov 2022, 19:36  \n",
       "12491355                 NaN  "
      ]
     },
     "execution_count": 18,
     "metadata": {},
     "output_type": "execute_result"
    }
   ],
   "source": [
    "test.tail()"
   ]
  },
  {
   "attachments": {},
   "cell_type": "markdown",
   "metadata": {},
   "source": [
    "This is for the whole dataset:"
   ]
  },
  {
   "cell_type": "code",
   "execution_count": 19,
   "metadata": {},
   "outputs": [
    {
     "name": "stderr",
     "output_type": "stream",
     "text": [
      " 12%|█▏        | 1735/14659 [05:05<38:02,  5.66it/s]  "
     ]
    }
   ],
   "source": [
    "tqdm.pandas()\n",
    "\n",
    "tracks[['track_tag', 'published_track']] = tracks.progress_apply(lambda x: getTrackTags(x.artist, x.track), axis=1, result_type='expand')"
   ]
  },
  {
   "cell_type": "code",
   "execution_count": null,
   "metadata": {},
   "outputs": [],
   "source": [
    "print(tracks['track_tag'].isnull().sum(), tracks['artist_tag'].isnull().sum())\n",
    "tracks.head()"
   ]
  },
  {
   "attachments": {},
   "cell_type": "markdown",
   "metadata": {},
   "source": [
    "Cleaning the new bio, artists and track tags"
   ]
  },
  {
   "cell_type": "code",
   "execution_count": null,
   "metadata": {},
   "outputs": [],
   "source": [
    "bio = tracks['bio'].apply(pd.Series)\n",
    "bio.head()\n",
    "#artist_tag['tag'] = artist_tag['tag'].apply(pd.Series)"
   ]
  },
  {
   "cell_type": "code",
   "execution_count": null,
   "metadata": {},
   "outputs": [],
   "source": [
    "artist_tag = tracks['artist_tag'].apply(pd.Series)\n",
    "new_columns = []\n",
    "for item in artist_tag.columns.to_list():\n",
    "    new_columns.append('aritist_genre_'+str(item))\n",
    "artist_tag.columns = new_columns\n",
    "#print(artist_tag.columns.to_list(), new_columns)\n",
    "artist_tag.head()"
   ]
  },
  {
   "cell_type": "code",
   "execution_count": null,
   "metadata": {},
   "outputs": [],
   "source": [
    "# cleaning unnecesary dictionaries\n",
    "for index, row in artist_tag.iterrows():\n",
    "    for column in artist_tag.columns.tolist():\n",
    "        try:\n",
    "            row[column] = list(row[column].values())[0] \n",
    "            #print(row[column])\n",
    "        except:\n",
    "            continue\n",
    "artist_tag.head()"
   ]
  },
  {
   "cell_type": "code",
   "execution_count": null,
   "metadata": {},
   "outputs": [],
   "source": [
    "track_tag = tracks['track_tag'].apply(pd.Series)\n",
    "new_columns = []\n",
    "for item in track_tag.columns.to_list():\n",
    "    new_columns.append('track_genre_'+str(item))\n",
    "track_tag.columns = new_columns\n",
    "track_tag.head()"
   ]
  },
  {
   "cell_type": "code",
   "execution_count": null,
   "metadata": {},
   "outputs": [],
   "source": [
    "# cleaning unnecesary dictionaries\n",
    "for index, row in track_tag.iterrows():\n",
    "    for column in track_tag.columns.tolist():\n",
    "        try:\n",
    "            row[column] = list(row[column].values())[0] \n",
    "        except:\n",
    "            continue\n",
    "track_tag.head()"
   ]
  },
  {
   "cell_type": "code",
   "execution_count": null,
   "metadata": {},
   "outputs": [],
   "source": [
    "pd.concat([tracks, bio, artist_tag, track_tag], axis = 1)"
   ]
  },
  {
   "attachments": {},
   "cell_type": "markdown",
   "metadata": {},
   "source": [
    "# Export"
   ]
  },
  {
   "cell_type": "code",
   "execution_count": null,
   "metadata": {},
   "outputs": [],
   "source": [
    "with open('../data/pickle/spotify_dataset_lastfm.pickle', 'wb') as data_lastfm:\n",
    "    pickle.dump(tracks, data_lastfm)"
   ]
  }
 ],
 "metadata": {
  "kernelspec": {
   "display_name": "iron",
   "language": "python",
   "name": "python3"
  },
  "language_info": {
   "codemirror_mode": {
    "name": "ipython",
    "version": 3
   },
   "file_extension": ".py",
   "mimetype": "text/x-python",
   "name": "python",
   "nbconvert_exporter": "python",
   "pygments_lexer": "ipython3",
   "version": "3.9.13"
  },
  "orig_nbformat": 4,
  "vscode": {
   "interpreter": {
    "hash": "e59d0b279e6461be5b4ea7b62838527cd8f41f3cbc9a1147b1a83b32d75ab689"
   }
  }
 },
 "nbformat": 4,
 "nbformat_minor": 2
}
