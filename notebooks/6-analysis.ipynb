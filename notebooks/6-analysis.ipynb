{
 "cells": [
  {
   "cell_type": "code",
   "execution_count": 9,
   "metadata": {},
   "outputs": [],
   "source": [
    "import pandas as pd\n",
    "import numpy as np\n",
    "import requests\n",
    "import os \n",
    "from dotenv import load_dotenv\n",
    "import requests\n",
    "from collections import Counter\n",
    "from fuzzywuzzy import process, fuzz\n",
    "from tqdm import tqdm\n",
    "import pickle\n",
    "import re\n",
    "import matplotlib.pyplot as plt\n",
    "import seaborn as sns\n",
    "pd.options.display.max_columns = None\n",
    "pd.set_option('display.float_format', lambda x: '%.3f' % x)\n",
    "\n",
    "import warnings\n",
    "warnings.filterwarnings(\"ignore\")\n",
    "\n",
    "import sys\n",
    "sys.path.append(\"../\")\n",
    "\n",
    "import src.biblioteca as bb\n",
    "sys.path.append(\"../\")\n",
    "import src.soportecleaning as spcl"
   ]
  },
  {
   "attachments": {},
   "cell_type": "markdown",
   "metadata": {},
   "source": [
    "Note to self:\n",
    "en este archivo van cosas que luego van a ser tres archivos distintos.\n",
    "- Limpieza\n",
    "- EDA\n",
    "- Charts\n",
    "- \n",
    "Recomendable separarlo y trabajarlo de forma independiente"
   ]
  },
  {
   "attachments": {},
   "cell_type": "markdown",
   "metadata": {},
   "source": [
    "# Input files"
   ]
  },
  {
   "attachments": {},
   "cell_type": "markdown",
   "metadata": {},
   "source": [
    "Base data file"
   ]
  },
  {
   "cell_type": "code",
   "execution_count": 10,
   "metadata": {},
   "outputs": [
    {
     "name": "stdout",
     "output_type": "stream",
     "text": [
      "(455057, 11)\n"
     ]
    },
    {
     "data": {
      "text/html": [
       "<div>\n",
       "<style scoped>\n",
       "    .dataframe tbody tr th:only-of-type {\n",
       "        vertical-align: middle;\n",
       "    }\n",
       "\n",
       "    .dataframe tbody tr th {\n",
       "        vertical-align: top;\n",
       "    }\n",
       "\n",
       "    .dataframe thead th {\n",
       "        text-align: right;\n",
       "    }\n",
       "</style>\n",
       "<table border=\"1\" class=\"dataframe\">\n",
       "  <thead>\n",
       "    <tr style=\"text-align: right;\">\n",
       "      <th></th>\n",
       "      <th>title</th>\n",
       "      <th>rank</th>\n",
       "      <th>date</th>\n",
       "      <th>artist</th>\n",
       "      <th>url</th>\n",
       "      <th>region</th>\n",
       "      <th>chart</th>\n",
       "      <th>trend</th>\n",
       "      <th>streams</th>\n",
       "      <th>week_in_charts</th>\n",
       "      <th>times_in_charts</th>\n",
       "    </tr>\n",
       "  </thead>\n",
       "  <tbody>\n",
       "    <tr>\n",
       "      <th>0</th>\n",
       "      <td>Bad and Boujee (feat. Lil Uzi Vert)</td>\n",
       "      <td>1</td>\n",
       "      <td>2017-01-01</td>\n",
       "      <td>Migos</td>\n",
       "      <td>https://open.spotify.com/track/4Km5HrUvYTaSUfi...</td>\n",
       "      <td>United States</td>\n",
       "      <td>top200</td>\n",
       "      <td>SAME_POSITION</td>\n",
       "      <td>1371493.000</td>\n",
       "      <td>429</td>\n",
       "      <td>1</td>\n",
       "    </tr>\n",
       "  </tbody>\n",
       "</table>\n",
       "</div>"
      ],
      "text/plain": [
       "                                 title  rank        date artist  \\\n",
       "0  Bad and Boujee (feat. Lil Uzi Vert)     1  2017-01-01  Migos   \n",
       "\n",
       "                                                 url         region   chart  \\\n",
       "0  https://open.spotify.com/track/4Km5HrUvYTaSUfi...  United States  top200   \n",
       "\n",
       "           trend     streams  week_in_charts  times_in_charts  \n",
       "0  SAME_POSITION 1371493.000             429                1  "
      ]
     },
     "execution_count": 10,
     "metadata": {},
     "output_type": "execute_result"
    }
   ],
   "source": [
    "with open('../data/pickle/playlist.pickle', 'rb') as base_data:\n",
    "    base_data = pickle.load(base_data)\n",
    "print(base_data.shape)\n",
    "base_data.head(1)"
   ]
  },
  {
   "attachments": {},
   "cell_type": "markdown",
   "metadata": {},
   "source": [
    "LastFM extraction"
   ]
  },
  {
   "cell_type": "code",
   "execution_count": 11,
   "metadata": {},
   "outputs": [
    {
     "name": "stdout",
     "output_type": "stream",
     "text": [
      "(14659, 24)\n"
     ]
    },
    {
     "data": {
      "text/html": [
       "<div>\n",
       "<style scoped>\n",
       "    .dataframe tbody tr th:only-of-type {\n",
       "        vertical-align: middle;\n",
       "    }\n",
       "\n",
       "    .dataframe tbody tr th {\n",
       "        vertical-align: top;\n",
       "    }\n",
       "\n",
       "    .dataframe thead th {\n",
       "        text-align: right;\n",
       "    }\n",
       "</style>\n",
       "<table border=\"1\" class=\"dataframe\">\n",
       "  <thead>\n",
       "    <tr style=\"text-align: right;\">\n",
       "      <th></th>\n",
       "      <th>url</th>\n",
       "      <th>artist</th>\n",
       "      <th>track</th>\n",
       "      <th>artist_0</th>\n",
       "      <th>artist_1</th>\n",
       "      <th>artist_2</th>\n",
       "      <th>published_track</th>\n",
       "      <th>published</th>\n",
       "      <th>summary</th>\n",
       "      <th>content</th>\n",
       "      <th>aritist_genre_0</th>\n",
       "      <th>aritist_genre_1</th>\n",
       "      <th>aritist_genre_2</th>\n",
       "      <th>aritist_genre_3</th>\n",
       "      <th>aritist_genre_4</th>\n",
       "      <th>track_genre_0</th>\n",
       "      <th>track_genre_1</th>\n",
       "      <th>track_genre_2</th>\n",
       "      <th>track_genre_3</th>\n",
       "      <th>track_genre_4</th>\n",
       "      <th>music_genre</th>\n",
       "      <th>gender</th>\n",
       "      <th>birthday_date</th>\n",
       "      <th>age</th>\n",
       "    </tr>\n",
       "  </thead>\n",
       "  <tbody>\n",
       "    <tr>\n",
       "      <th>0</th>\n",
       "      <td>https://open.spotify.com/track/4Km5HrUvYTaSUfi...</td>\n",
       "      <td>migos</td>\n",
       "      <td>bad and boujee (feat. lil uzi vert)</td>\n",
       "      <td>migos</td>\n",
       "      <td>None</td>\n",
       "      <td>None</td>\n",
       "      <td>30 Jan 2018, 04:41</td>\n",
       "      <td>26 Jun 2013, 14:20</td>\n",
       "      <td>Migos is a rap trio-group from Lawrenceville, ...</td>\n",
       "      <td>Migos is a rap trio-group from Lawrenceville, ...</td>\n",
       "      <td>Hip-Hop</td>\n",
       "      <td>trap</td>\n",
       "      <td>rap</td>\n",
       "      <td>hip hop</td>\n",
       "      <td>atlanta</td>\n",
       "      <td>trap</td>\n",
       "      <td>Hip-Hop</td>\n",
       "      <td>rap</td>\n",
       "      <td>2010s</td>\n",
       "      <td>meme rap</td>\n",
       "      <td>hip-hop</td>\n",
       "      <td>group</td>\n",
       "      <td>2013-06-15</td>\n",
       "      <td>9.000</td>\n",
       "    </tr>\n",
       "  </tbody>\n",
       "</table>\n",
       "</div>"
      ],
      "text/plain": [
       "                                                 url artist  \\\n",
       "0  https://open.spotify.com/track/4Km5HrUvYTaSUfi...  migos   \n",
       "\n",
       "                                 track artist_0 artist_1 artist_2  \\\n",
       "0  bad and boujee (feat. lil uzi vert)    migos     None     None   \n",
       "\n",
       "      published_track           published  \\\n",
       "0  30 Jan 2018, 04:41  26 Jun 2013, 14:20   \n",
       "\n",
       "                                             summary  \\\n",
       "0  Migos is a rap trio-group from Lawrenceville, ...   \n",
       "\n",
       "                                             content aritist_genre_0  \\\n",
       "0  Migos is a rap trio-group from Lawrenceville, ...         Hip-Hop   \n",
       "\n",
       "  aritist_genre_1 aritist_genre_2 aritist_genre_3 aritist_genre_4  \\\n",
       "0            trap             rap         hip hop         atlanta   \n",
       "\n",
       "  track_genre_0 track_genre_1 track_genre_2 track_genre_3 track_genre_4  \\\n",
       "0          trap       Hip-Hop           rap         2010s      meme rap   \n",
       "\n",
       "  music_genre gender birthday_date   age  \n",
       "0     hip-hop  group    2013-06-15 9.000  "
      ]
     },
     "execution_count": 11,
     "metadata": {},
     "output_type": "execute_result"
    }
   ],
   "source": [
    "with open('../data/pickle/lastfm.pickle', 'rb') as data_lastfm:\n",
    "    data_lastfm = pickle.load(data_lastfm)\n",
    "data_lastfm.drop_duplicates(inplace=True)\n",
    "print(data_lastfm.drop_duplicates().shape)\n",
    "data_lastfm.head(1)"
   ]
  },
  {
   "attachments": {},
   "cell_type": "markdown",
   "metadata": {},
   "source": [
    "Spotify extraction"
   ]
  },
  {
   "cell_type": "code",
   "execution_count": 12,
   "metadata": {},
   "outputs": [
    {
     "name": "stdout",
     "output_type": "stream",
     "text": [
      "(13992, 22)\n"
     ]
    },
    {
     "data": {
      "text/html": [
       "<div>\n",
       "<style scoped>\n",
       "    .dataframe tbody tr th:only-of-type {\n",
       "        vertical-align: middle;\n",
       "    }\n",
       "\n",
       "    .dataframe tbody tr th {\n",
       "        vertical-align: top;\n",
       "    }\n",
       "\n",
       "    .dataframe thead th {\n",
       "        text-align: right;\n",
       "    }\n",
       "</style>\n",
       "<table border=\"1\" class=\"dataframe\">\n",
       "  <thead>\n",
       "    <tr style=\"text-align: right;\">\n",
       "      <th></th>\n",
       "      <th>url</th>\n",
       "      <th>artist</th>\n",
       "      <th>track</th>\n",
       "      <th>popu</th>\n",
       "      <th>date</th>\n",
       "      <th>danceability</th>\n",
       "      <th>energy</th>\n",
       "      <th>key</th>\n",
       "      <th>loudness</th>\n",
       "      <th>mode</th>\n",
       "      <th>speechiness</th>\n",
       "      <th>acousticness</th>\n",
       "      <th>instrumentalness</th>\n",
       "      <th>liveness</th>\n",
       "      <th>valence</th>\n",
       "      <th>tempo</th>\n",
       "      <th>type</th>\n",
       "      <th>id</th>\n",
       "      <th>track_href</th>\n",
       "      <th>analysis_url</th>\n",
       "      <th>duration_ms</th>\n",
       "      <th>time_signature</th>\n",
       "    </tr>\n",
       "  </thead>\n",
       "  <tbody>\n",
       "    <tr>\n",
       "      <th>0</th>\n",
       "      <td>https://open.spotify.com/track/4Km5HrUvYTaSUfi...</td>\n",
       "      <td>migos</td>\n",
       "      <td>bad and boujee (feat. lil uzi vert)</td>\n",
       "      <td>76</td>\n",
       "      <td>2017-01-27</td>\n",
       "      <td>0.926</td>\n",
       "      <td>0.666</td>\n",
       "      <td>11.000</td>\n",
       "      <td>-5.314</td>\n",
       "      <td>1.000</td>\n",
       "      <td>0.244</td>\n",
       "      <td>0.061</td>\n",
       "      <td>0.000</td>\n",
       "      <td>0.123</td>\n",
       "      <td>0.168</td>\n",
       "      <td>127.079</td>\n",
       "      <td>audio_features</td>\n",
       "      <td>0M9ydKzuF3oZTfYYPfaGX1</td>\n",
       "      <td>https://api.spotify.com/v1/tracks/0M9ydKzuF3oZ...</td>\n",
       "      <td>https://api.spotify.com/v1/audio-analysis/0M9y...</td>\n",
       "      <td>343150.000</td>\n",
       "      <td>4.000</td>\n",
       "    </tr>\n",
       "  </tbody>\n",
       "</table>\n",
       "</div>"
      ],
      "text/plain": [
       "                                                 url artist  \\\n",
       "0  https://open.spotify.com/track/4Km5HrUvYTaSUfi...  migos   \n",
       "\n",
       "                                 track popu        date  danceability  energy  \\\n",
       "0  bad and boujee (feat. lil uzi vert)   76  2017-01-27         0.926   0.666   \n",
       "\n",
       "     key  loudness  mode  speechiness  acousticness  instrumentalness  \\\n",
       "0 11.000    -5.314 1.000        0.244         0.061             0.000   \n",
       "\n",
       "   liveness  valence   tempo            type                      id  \\\n",
       "0     0.123    0.168 127.079  audio_features  0M9ydKzuF3oZTfYYPfaGX1   \n",
       "\n",
       "                                          track_href  \\\n",
       "0  https://api.spotify.com/v1/tracks/0M9ydKzuF3oZ...   \n",
       "\n",
       "                                        analysis_url  duration_ms  \\\n",
       "0  https://api.spotify.com/v1/audio-analysis/0M9y...   343150.000   \n",
       "\n",
       "   time_signature  \n",
       "0           4.000  "
      ]
     },
     "execution_count": 12,
     "metadata": {},
     "output_type": "execute_result"
    }
   ],
   "source": [
    "with open('../data/pickle/spotify.pickle', 'rb') as data_spotify:\n",
    "    data_spotify = pickle.load(data_spotify)\n",
    "data_spotify.drop_duplicates(inplace=True)\n",
    "print(data_spotify.drop_duplicates().shape)\n",
    "data_spotify.head(1)"
   ]
  },
  {
   "attachments": {},
   "cell_type": "markdown",
   "metadata": {},
   "source": [
    "# Merging all data"
   ]
  },
  {
   "cell_type": "code",
   "execution_count": 13,
   "metadata": {},
   "outputs": [
    {
     "data": {
      "text/plain": [
       "_merge\n",
       "both          456306\n",
       "left_only          0\n",
       "right_only         0\n",
       "dtype: int64"
      ]
     },
     "execution_count": 13,
     "metadata": {},
     "output_type": "execute_result"
    }
   ],
   "source": [
    "df = base_data.merge(data_lastfm, on = 'url', indicator = True, how = 'left')\n",
    "df.value_counts('_merge')"
   ]
  },
  {
   "cell_type": "code",
   "execution_count": 14,
   "metadata": {},
   "outputs": [
    {
     "data": {
      "text/plain": [
       "_merge\n",
       "both          444929\n",
       "left_only      13875\n",
       "right_only         0\n",
       "dtype: int64"
      ]
     },
     "execution_count": 14,
     "metadata": {},
     "output_type": "execute_result"
    }
   ],
   "source": [
    "df.drop(['_merge'], axis = 1, inplace = True)\n",
    "df = df.merge(data_spotify, on = 'url', indicator = True, how = 'left')\n",
    "df.value_counts('_merge')"
   ]
  },
  {
   "cell_type": "code",
   "execution_count": 15,
   "metadata": {},
   "outputs": [
    {
     "name": "stdout",
     "output_type": "stream",
     "text": [
      "(458804, 51)\n"
     ]
    },
    {
     "data": {
      "text/html": [
       "<div>\n",
       "<style scoped>\n",
       "    .dataframe tbody tr th:only-of-type {\n",
       "        vertical-align: middle;\n",
       "    }\n",
       "\n",
       "    .dataframe tbody tr th {\n",
       "        vertical-align: top;\n",
       "    }\n",
       "\n",
       "    .dataframe thead th {\n",
       "        text-align: right;\n",
       "    }\n",
       "</style>\n",
       "<table border=\"1\" class=\"dataframe\">\n",
       "  <thead>\n",
       "    <tr style=\"text-align: right;\">\n",
       "      <th></th>\n",
       "      <th>title</th>\n",
       "      <th>rank</th>\n",
       "      <th>date_x</th>\n",
       "      <th>artist</th>\n",
       "      <th>url</th>\n",
       "      <th>region</th>\n",
       "      <th>chart</th>\n",
       "      <th>trend</th>\n",
       "      <th>streams</th>\n",
       "      <th>week_in_charts</th>\n",
       "      <th>times_in_charts</th>\n",
       "      <th>artist_0</th>\n",
       "      <th>artist_1</th>\n",
       "      <th>artist_2</th>\n",
       "      <th>published_track</th>\n",
       "      <th>published</th>\n",
       "      <th>summary</th>\n",
       "      <th>content</th>\n",
       "      <th>aritist_genre_0</th>\n",
       "      <th>aritist_genre_1</th>\n",
       "      <th>aritist_genre_2</th>\n",
       "      <th>aritist_genre_3</th>\n",
       "      <th>aritist_genre_4</th>\n",
       "      <th>track_genre_0</th>\n",
       "      <th>track_genre_1</th>\n",
       "      <th>track_genre_2</th>\n",
       "      <th>track_genre_3</th>\n",
       "      <th>track_genre_4</th>\n",
       "      <th>music_genre</th>\n",
       "      <th>gender</th>\n",
       "      <th>birthday_date</th>\n",
       "      <th>age</th>\n",
       "      <th>popu</th>\n",
       "      <th>date_y</th>\n",
       "      <th>danceability</th>\n",
       "      <th>energy</th>\n",
       "      <th>key</th>\n",
       "      <th>loudness</th>\n",
       "      <th>mode</th>\n",
       "      <th>speechiness</th>\n",
       "      <th>acousticness</th>\n",
       "      <th>instrumentalness</th>\n",
       "      <th>liveness</th>\n",
       "      <th>valence</th>\n",
       "      <th>tempo</th>\n",
       "      <th>type</th>\n",
       "      <th>id</th>\n",
       "      <th>track_href</th>\n",
       "      <th>analysis_url</th>\n",
       "      <th>duration_ms</th>\n",
       "      <th>time_signature</th>\n",
       "    </tr>\n",
       "  </thead>\n",
       "  <tbody>\n",
       "    <tr>\n",
       "      <th>0</th>\n",
       "      <td>Bad and Boujee (feat. Lil Uzi Vert)</td>\n",
       "      <td>1</td>\n",
       "      <td>2017-01-01</td>\n",
       "      <td>Migos</td>\n",
       "      <td>https://open.spotify.com/track/4Km5HrUvYTaSUfi...</td>\n",
       "      <td>United States</td>\n",
       "      <td>top200</td>\n",
       "      <td>SAME_POSITION</td>\n",
       "      <td>1371493.000</td>\n",
       "      <td>429</td>\n",
       "      <td>1</td>\n",
       "      <td>migos</td>\n",
       "      <td>None</td>\n",
       "      <td>None</td>\n",
       "      <td>30 Jan 2018, 04:41</td>\n",
       "      <td>26 Jun 2013, 14:20</td>\n",
       "      <td>Migos is a rap trio-group from Lawrenceville, ...</td>\n",
       "      <td>Migos is a rap trio-group from Lawrenceville, ...</td>\n",
       "      <td>Hip-Hop</td>\n",
       "      <td>trap</td>\n",
       "      <td>rap</td>\n",
       "      <td>hip hop</td>\n",
       "      <td>atlanta</td>\n",
       "      <td>trap</td>\n",
       "      <td>Hip-Hop</td>\n",
       "      <td>rap</td>\n",
       "      <td>2010s</td>\n",
       "      <td>meme rap</td>\n",
       "      <td>hip-hop</td>\n",
       "      <td>group</td>\n",
       "      <td>2013-06-15</td>\n",
       "      <td>9.000</td>\n",
       "      <td>76</td>\n",
       "      <td>2017-01-27</td>\n",
       "      <td>0.926</td>\n",
       "      <td>0.666</td>\n",
       "      <td>11.000</td>\n",
       "      <td>-5.314</td>\n",
       "      <td>1.000</td>\n",
       "      <td>0.244</td>\n",
       "      <td>0.061</td>\n",
       "      <td>0.000</td>\n",
       "      <td>0.123</td>\n",
       "      <td>0.168</td>\n",
       "      <td>127.079</td>\n",
       "      <td>audio_features</td>\n",
       "      <td>0M9ydKzuF3oZTfYYPfaGX1</td>\n",
       "      <td>https://api.spotify.com/v1/tracks/0M9ydKzuF3oZ...</td>\n",
       "      <td>https://api.spotify.com/v1/audio-analysis/0M9y...</td>\n",
       "      <td>343150.000</td>\n",
       "      <td>4.000</td>\n",
       "    </tr>\n",
       "  </tbody>\n",
       "</table>\n",
       "</div>"
      ],
      "text/plain": [
       "                                 title  rank      date_x artist  \\\n",
       "0  Bad and Boujee (feat. Lil Uzi Vert)     1  2017-01-01  Migos   \n",
       "\n",
       "                                                 url         region   chart  \\\n",
       "0  https://open.spotify.com/track/4Km5HrUvYTaSUfi...  United States  top200   \n",
       "\n",
       "           trend     streams  week_in_charts  times_in_charts artist_0  \\\n",
       "0  SAME_POSITION 1371493.000             429                1    migos   \n",
       "\n",
       "  artist_1 artist_2     published_track           published  \\\n",
       "0     None     None  30 Jan 2018, 04:41  26 Jun 2013, 14:20   \n",
       "\n",
       "                                             summary  \\\n",
       "0  Migos is a rap trio-group from Lawrenceville, ...   \n",
       "\n",
       "                                             content aritist_genre_0  \\\n",
       "0  Migos is a rap trio-group from Lawrenceville, ...         Hip-Hop   \n",
       "\n",
       "  aritist_genre_1 aritist_genre_2 aritist_genre_3 aritist_genre_4  \\\n",
       "0            trap             rap         hip hop         atlanta   \n",
       "\n",
       "  track_genre_0 track_genre_1 track_genre_2 track_genre_3 track_genre_4  \\\n",
       "0          trap       Hip-Hop           rap         2010s      meme rap   \n",
       "\n",
       "  music_genre gender birthday_date   age popu      date_y  danceability  \\\n",
       "0     hip-hop  group    2013-06-15 9.000   76  2017-01-27         0.926   \n",
       "\n",
       "   energy    key  loudness  mode  speechiness  acousticness  instrumentalness  \\\n",
       "0   0.666 11.000    -5.314 1.000        0.244         0.061             0.000   \n",
       "\n",
       "   liveness  valence   tempo            type                      id  \\\n",
       "0     0.123    0.168 127.079  audio_features  0M9ydKzuF3oZTfYYPfaGX1   \n",
       "\n",
       "                                          track_href  \\\n",
       "0  https://api.spotify.com/v1/tracks/0M9ydKzuF3oZ...   \n",
       "\n",
       "                                        analysis_url  duration_ms  \\\n",
       "0  https://api.spotify.com/v1/audio-analysis/0M9y...   343150.000   \n",
       "\n",
       "   time_signature  \n",
       "0           4.000  "
      ]
     },
     "execution_count": 15,
     "metadata": {},
     "output_type": "execute_result"
    }
   ],
   "source": [
    "df.drop(['artist_y', 'track_x', 'artist', 'track_y', '_merge'], axis = 1, inplace= True)\n",
    "df.rename({'artist_x':'artist'}, inplace=True, axis=1)\n",
    "print(df.shape)\n",
    "df.head(1)"
   ]
  },
  {
   "attachments": {},
   "cell_type": "markdown",
   "metadata": {},
   "source": [
    "# Cleaning data"
   ]
  },
  {
   "cell_type": "code",
   "execution_count": 16,
   "metadata": {},
   "outputs": [
    {
     "data": {
      "text/html": [
       "<div>\n",
       "<style scoped>\n",
       "    .dataframe tbody tr th:only-of-type {\n",
       "        vertical-align: middle;\n",
       "    }\n",
       "\n",
       "    .dataframe tbody tr th {\n",
       "        vertical-align: top;\n",
       "    }\n",
       "\n",
       "    .dataframe thead th {\n",
       "        text-align: right;\n",
       "    }\n",
       "</style>\n",
       "<table border=\"1\" class=\"dataframe\">\n",
       "  <thead>\n",
       "    <tr style=\"text-align: right;\">\n",
       "      <th></th>\n",
       "      <th>title</th>\n",
       "      <th>rank</th>\n",
       "      <th>date_x</th>\n",
       "      <th>artist</th>\n",
       "      <th>url</th>\n",
       "      <th>region</th>\n",
       "      <th>chart</th>\n",
       "      <th>trend</th>\n",
       "      <th>streams</th>\n",
       "      <th>week_in_charts</th>\n",
       "      <th>times_in_charts</th>\n",
       "      <th>artist_0</th>\n",
       "      <th>artist_1</th>\n",
       "      <th>artist_2</th>\n",
       "      <th>published_track</th>\n",
       "      <th>published</th>\n",
       "      <th>summary</th>\n",
       "      <th>content</th>\n",
       "      <th>aritist_genre_0</th>\n",
       "      <th>aritist_genre_1</th>\n",
       "      <th>aritist_genre_2</th>\n",
       "      <th>aritist_genre_3</th>\n",
       "      <th>aritist_genre_4</th>\n",
       "      <th>track_genre_0</th>\n",
       "      <th>track_genre_1</th>\n",
       "      <th>track_genre_2</th>\n",
       "      <th>track_genre_3</th>\n",
       "      <th>track_genre_4</th>\n",
       "      <th>music_genre</th>\n",
       "      <th>gender</th>\n",
       "      <th>birthday_date</th>\n",
       "      <th>age</th>\n",
       "      <th>popu</th>\n",
       "      <th>date_y</th>\n",
       "      <th>danceability</th>\n",
       "      <th>energy</th>\n",
       "      <th>key</th>\n",
       "      <th>loudness</th>\n",
       "      <th>mode</th>\n",
       "      <th>speechiness</th>\n",
       "      <th>acousticness</th>\n",
       "      <th>instrumentalness</th>\n",
       "      <th>liveness</th>\n",
       "      <th>valence</th>\n",
       "      <th>tempo</th>\n",
       "      <th>type</th>\n",
       "      <th>id</th>\n",
       "      <th>track_href</th>\n",
       "      <th>analysis_url</th>\n",
       "      <th>duration_ms</th>\n",
       "      <th>time_signature</th>\n",
       "    </tr>\n",
       "  </thead>\n",
       "  <tbody>\n",
       "    <tr>\n",
       "      <th>0</th>\n",
       "      <td>Bad and Boujee (feat. Lil Uzi Vert)</td>\n",
       "      <td>1</td>\n",
       "      <td>2017-01-01</td>\n",
       "      <td>Migos</td>\n",
       "      <td>https://open.spotify.com/track/4Km5HrUvYTaSUfi...</td>\n",
       "      <td>United States</td>\n",
       "      <td>top200</td>\n",
       "      <td>SAME_POSITION</td>\n",
       "      <td>1371493.000</td>\n",
       "      <td>429</td>\n",
       "      <td>1</td>\n",
       "      <td>migos</td>\n",
       "      <td>None</td>\n",
       "      <td>None</td>\n",
       "      <td>30 Jan 2018, 04:41</td>\n",
       "      <td>26 Jun 2013, 14:20</td>\n",
       "      <td>Migos is a rap trio-group from Lawrenceville, ...</td>\n",
       "      <td>Migos is a rap trio-group from Lawrenceville, ...</td>\n",
       "      <td>Hip-Hop</td>\n",
       "      <td>trap</td>\n",
       "      <td>rap</td>\n",
       "      <td>hip hop</td>\n",
       "      <td>atlanta</td>\n",
       "      <td>trap</td>\n",
       "      <td>Hip-Hop</td>\n",
       "      <td>rap</td>\n",
       "      <td>2010s</td>\n",
       "      <td>meme rap</td>\n",
       "      <td>hip-hop</td>\n",
       "      <td>group</td>\n",
       "      <td>2013-06-15</td>\n",
       "      <td>9.000</td>\n",
       "      <td>76</td>\n",
       "      <td>2017-01-27</td>\n",
       "      <td>0.926</td>\n",
       "      <td>0.666</td>\n",
       "      <td>11.000</td>\n",
       "      <td>-5.314</td>\n",
       "      <td>1.000</td>\n",
       "      <td>0.244</td>\n",
       "      <td>0.061</td>\n",
       "      <td>0.000</td>\n",
       "      <td>0.123</td>\n",
       "      <td>0.168</td>\n",
       "      <td>127.079</td>\n",
       "      <td>audio_features</td>\n",
       "      <td>0M9ydKzuF3oZTfYYPfaGX1</td>\n",
       "      <td>https://api.spotify.com/v1/tracks/0M9ydKzuF3oZ...</td>\n",
       "      <td>https://api.spotify.com/v1/audio-analysis/0M9y...</td>\n",
       "      <td>343150.000</td>\n",
       "      <td>4.000</td>\n",
       "    </tr>\n",
       "  </tbody>\n",
       "</table>\n",
       "</div>"
      ],
      "text/plain": [
       "                                 title  rank      date_x artist  \\\n",
       "0  Bad and Boujee (feat. Lil Uzi Vert)     1  2017-01-01  Migos   \n",
       "\n",
       "                                                 url         region   chart  \\\n",
       "0  https://open.spotify.com/track/4Km5HrUvYTaSUfi...  United States  top200   \n",
       "\n",
       "           trend     streams  week_in_charts  times_in_charts artist_0  \\\n",
       "0  SAME_POSITION 1371493.000             429                1    migos   \n",
       "\n",
       "  artist_1 artist_2     published_track           published  \\\n",
       "0     None     None  30 Jan 2018, 04:41  26 Jun 2013, 14:20   \n",
       "\n",
       "                                             summary  \\\n",
       "0  Migos is a rap trio-group from Lawrenceville, ...   \n",
       "\n",
       "                                             content aritist_genre_0  \\\n",
       "0  Migos is a rap trio-group from Lawrenceville, ...         Hip-Hop   \n",
       "\n",
       "  aritist_genre_1 aritist_genre_2 aritist_genre_3 aritist_genre_4  \\\n",
       "0            trap             rap         hip hop         atlanta   \n",
       "\n",
       "  track_genre_0 track_genre_1 track_genre_2 track_genre_3 track_genre_4  \\\n",
       "0          trap       Hip-Hop           rap         2010s      meme rap   \n",
       "\n",
       "  music_genre gender birthday_date   age popu      date_y  danceability  \\\n",
       "0     hip-hop  group    2013-06-15 9.000   76  2017-01-27         0.926   \n",
       "\n",
       "   energy    key  loudness  mode  speechiness  acousticness  instrumentalness  \\\n",
       "0   0.666 11.000    -5.314 1.000        0.244         0.061             0.000   \n",
       "\n",
       "   liveness  valence   tempo            type                      id  \\\n",
       "0     0.123    0.168 127.079  audio_features  0M9ydKzuF3oZTfYYPfaGX1   \n",
       "\n",
       "                                          track_href  \\\n",
       "0  https://api.spotify.com/v1/tracks/0M9ydKzuF3oZ...   \n",
       "\n",
       "                                        analysis_url  duration_ms  \\\n",
       "0  https://api.spotify.com/v1/audio-analysis/0M9y...   343150.000   \n",
       "\n",
       "   time_signature  \n",
       "0           4.000  "
      ]
     },
     "execution_count": 16,
     "metadata": {},
     "output_type": "execute_result"
    }
   ],
   "source": [
    "df.head(1)"
   ]
  },
  {
   "attachments": {},
   "cell_type": "markdown",
   "metadata": {},
   "source": [
    "Highest rank in list + Weeks in charts"
   ]
  },
  {
   "cell_type": "code",
   "execution_count": 17,
   "metadata": {},
   "outputs": [
    {
     "data": {
      "text/plain": [
       "14650"
      ]
     },
     "execution_count": 17,
     "metadata": {},
     "output_type": "execute_result"
    }
   ],
   "source": [
    "lista_url = df['url'].unique().tolist()\n",
    "len(lista_url)"
   ]
  },
  {
   "cell_type": "code",
   "execution_count": 18,
   "metadata": {},
   "outputs": [],
   "source": [
    "ranks = {\n",
    "    'url':[],\n",
    "    'highest_rank':[],\n",
    "    'weeks_in_charts':[]\n",
    "}"
   ]
  },
  {
   "cell_type": "code",
   "execution_count": 19,
   "metadata": {},
   "outputs": [],
   "source": [
    "def highest_rank (url, row):\n",
    "    return row[row['url'] == url].sort_values(by = 'rank').iloc[0,1]"
   ]
  },
  {
   "cell_type": "code",
   "execution_count": 20,
   "metadata": {},
   "outputs": [],
   "source": [
    "def weeks_in_charts (url, df):\n",
    "    return df[df['url'] == url].shape[0]"
   ]
  },
  {
   "cell_type": "code",
   "execution_count": 21,
   "metadata": {},
   "outputs": [
    {
     "data": {
      "text/plain": [
       "458804"
      ]
     },
     "execution_count": 21,
     "metadata": {},
     "output_type": "execute_result"
    }
   ],
   "source": [
    "weeks_in_charts(df[\"url\"], df)"
   ]
  },
  {
   "cell_type": "code",
   "execution_count": 22,
   "metadata": {},
   "outputs": [
    {
     "data": {
      "text/plain": [
       "url                                                    chart  \n",
       "https://open.spotify.com/track/7sO5G9EABYOXQKNPNiE9NR  top200     3680\n",
       "https://open.spotify.com/track/6gBFPUFcJLzWGx4lenP6h2  top200     1778\n",
       "https://open.spotify.com/track/7m9OqQk4RVRkw9JJdeAw96  top200     1563\n",
       "https://open.spotify.com/track/7GX5flRQZVHRAGd6B4TmDO  top200     1549\n",
       "https://open.spotify.com/track/62vpWI1CHwFy7tMIcSStl8  top200     1474\n",
       "                                                                  ... \n",
       "https://open.spotify.com/track/5Co8mnbtshK44Uh96aHxdu  top200        1\n",
       "https://open.spotify.com/track/0yFWdhx0rDU4zNddqvfu33  top200        1\n",
       "https://open.spotify.com/track/1xjYJJy5TFFVD9tStu2hfw  viral50       1\n",
       "https://open.spotify.com/track/5Cevkgj9FyNRFIwY3xSCn8  top200        1\n",
       "https://open.spotify.com/track/3ksNHUNCTP6Pan8rjFnmtw  top200        1\n",
       "Length: 17277, dtype: int64"
      ]
     },
     "execution_count": 22,
     "metadata": {},
     "output_type": "execute_result"
    }
   ],
   "source": [
    "df[['url', 'chart']].value_counts()"
   ]
  },
  {
   "cell_type": "code",
   "execution_count": 23,
   "metadata": {},
   "outputs": [],
   "source": [
    "def highest_rank(lista_url):\n",
    "    lista_test = []\n",
    "    for url in lista_url:\n",
    "        lista_test.append(df[df['url'] == url].sort_values(by = 'rank').iloc[0,1])\n",
    "    return lista_test"
   ]
  },
  {
   "cell_type": "code",
   "execution_count": 24,
   "metadata": {},
   "outputs": [],
   "source": [
    "def highest_rank(dataframe, col):\n",
    "    return df[df['url'] == link].sort_values(by = 'rank').iloc[0,1]"
   ]
  },
  {
   "cell_type": "code",
   "execution_count": 25,
   "metadata": {},
   "outputs": [
    {
     "data": {
      "text/html": [
       "<div>\n",
       "<style scoped>\n",
       "    .dataframe tbody tr th:only-of-type {\n",
       "        vertical-align: middle;\n",
       "    }\n",
       "\n",
       "    .dataframe tbody tr th {\n",
       "        vertical-align: top;\n",
       "    }\n",
       "\n",
       "    .dataframe thead th {\n",
       "        text-align: right;\n",
       "    }\n",
       "</style>\n",
       "<table border=\"1\" class=\"dataframe\">\n",
       "  <thead>\n",
       "    <tr style=\"text-align: right;\">\n",
       "      <th></th>\n",
       "      <th>url</th>\n",
       "      <th>rank</th>\n",
       "    </tr>\n",
       "  </thead>\n",
       "  <tbody>\n",
       "    <tr>\n",
       "      <th>0</th>\n",
       "      <td>https://open.spotify.com/track/4Km5HrUvYTaSUfi...</td>\n",
       "      <td>1</td>\n",
       "    </tr>\n",
       "    <tr>\n",
       "      <th>356093</th>\n",
       "      <td>https://open.spotify.com/track/62aP9fBQKYKxi7P...</td>\n",
       "      <td>1</td>\n",
       "    </tr>\n",
       "    <tr>\n",
       "      <th>237889</th>\n",
       "      <td>https://open.spotify.com/track/2Yl4OmDby9iitgN...</td>\n",
       "      <td>1</td>\n",
       "    </tr>\n",
       "    <tr>\n",
       "      <th>443370</th>\n",
       "      <td>https://open.spotify.com/track/5elofKuRmgZmCVI...</td>\n",
       "      <td>1</td>\n",
       "    </tr>\n",
       "    <tr>\n",
       "      <th>237839</th>\n",
       "      <td>https://open.spotify.com/track/41cpvQ2GyGb2BRd...</td>\n",
       "      <td>1</td>\n",
       "    </tr>\n",
       "    <tr>\n",
       "      <th>...</th>\n",
       "      <td>...</td>\n",
       "      <td>...</td>\n",
       "    </tr>\n",
       "    <tr>\n",
       "      <th>37531</th>\n",
       "      <td>https://open.spotify.com/track/2dBLyJvf9T29rEi...</td>\n",
       "      <td>200</td>\n",
       "    </tr>\n",
       "    <tr>\n",
       "      <th>149834</th>\n",
       "      <td>https://open.spotify.com/track/5b1uZnebDRcR8Xu...</td>\n",
       "      <td>200</td>\n",
       "    </tr>\n",
       "    <tr>\n",
       "      <th>104198</th>\n",
       "      <td>https://open.spotify.com/track/6zmANU5l4qCHQrI...</td>\n",
       "      <td>200</td>\n",
       "    </tr>\n",
       "    <tr>\n",
       "      <th>406775</th>\n",
       "      <td>https://open.spotify.com/track/6myjRCWhMVgwgJE...</td>\n",
       "      <td>200</td>\n",
       "    </tr>\n",
       "    <tr>\n",
       "      <th>303514</th>\n",
       "      <td>https://open.spotify.com/track/4bMQRUKsiELewtb...</td>\n",
       "      <td>200</td>\n",
       "    </tr>\n",
       "  </tbody>\n",
       "</table>\n",
       "<p>14650 rows × 2 columns</p>\n",
       "</div>"
      ],
      "text/plain": [
       "                                                      url  rank\n",
       "0       https://open.spotify.com/track/4Km5HrUvYTaSUfi...     1\n",
       "356093  https://open.spotify.com/track/62aP9fBQKYKxi7P...     1\n",
       "237889  https://open.spotify.com/track/2Yl4OmDby9iitgN...     1\n",
       "443370  https://open.spotify.com/track/5elofKuRmgZmCVI...     1\n",
       "237839  https://open.spotify.com/track/41cpvQ2GyGb2BRd...     1\n",
       "...                                                   ...   ...\n",
       "37531   https://open.spotify.com/track/2dBLyJvf9T29rEi...   200\n",
       "149834  https://open.spotify.com/track/5b1uZnebDRcR8Xu...   200\n",
       "104198  https://open.spotify.com/track/6zmANU5l4qCHQrI...   200\n",
       "406775  https://open.spotify.com/track/6myjRCWhMVgwgJE...   200\n",
       "303514  https://open.spotify.com/track/4bMQRUKsiELewtb...   200\n",
       "\n",
       "[14650 rows x 2 columns]"
      ]
     },
     "execution_count": 25,
     "metadata": {},
     "output_type": "execute_result"
    }
   ],
   "source": [
    "df.sort_values('rank').drop_duplicates('url')[['url', 'rank']]"
   ]
  },
  {
   "cell_type": "code",
   "execution_count": 26,
   "metadata": {},
   "outputs": [
    {
     "ename": "NameError",
     "evalue": "name 'link' is not defined",
     "output_type": "error",
     "traceback": [
      "\u001b[1;31m---------------------------------------------------------------------------\u001b[0m",
      "\u001b[1;31mNameError\u001b[0m                                 Traceback (most recent call last)",
      "Cell \u001b[1;32mIn [26], line 1\u001b[0m\n\u001b[1;32m----> 1\u001b[0m df\u001b[39m.\u001b[39;49mapply(\u001b[39mlambda\u001b[39;49;00m x: highest_rank(x, x[\u001b[39m'\u001b[39;49m\u001b[39murl\u001b[39;49m\u001b[39m'\u001b[39;49m]), axis \u001b[39m=\u001b[39;49m \u001b[39m1\u001b[39;49m)\n",
      "File \u001b[1;32mc:\\Users\\annas\\anaconda3\\envs\\iron\\lib\\site-packages\\pandas\\core\\frame.py:9555\u001b[0m, in \u001b[0;36mDataFrame.apply\u001b[1;34m(self, func, axis, raw, result_type, args, **kwargs)\u001b[0m\n\u001b[0;32m   9544\u001b[0m \u001b[39mfrom\u001b[39;00m \u001b[39mpandas\u001b[39;00m\u001b[39m.\u001b[39;00m\u001b[39mcore\u001b[39;00m\u001b[39m.\u001b[39;00m\u001b[39mapply\u001b[39;00m \u001b[39mimport\u001b[39;00m frame_apply\n\u001b[0;32m   9546\u001b[0m op \u001b[39m=\u001b[39m frame_apply(\n\u001b[0;32m   9547\u001b[0m     \u001b[39mself\u001b[39m,\n\u001b[0;32m   9548\u001b[0m     func\u001b[39m=\u001b[39mfunc,\n\u001b[1;32m   (...)\u001b[0m\n\u001b[0;32m   9553\u001b[0m     kwargs\u001b[39m=\u001b[39mkwargs,\n\u001b[0;32m   9554\u001b[0m )\n\u001b[1;32m-> 9555\u001b[0m \u001b[39mreturn\u001b[39;00m op\u001b[39m.\u001b[39;49mapply()\u001b[39m.\u001b[39m__finalize__(\u001b[39mself\u001b[39m, method\u001b[39m=\u001b[39m\u001b[39m\"\u001b[39m\u001b[39mapply\u001b[39m\u001b[39m\"\u001b[39m)\n",
      "File \u001b[1;32mc:\\Users\\annas\\anaconda3\\envs\\iron\\lib\\site-packages\\pandas\\core\\apply.py:746\u001b[0m, in \u001b[0;36mFrameApply.apply\u001b[1;34m(self)\u001b[0m\n\u001b[0;32m    743\u001b[0m \u001b[39melif\u001b[39;00m \u001b[39mself\u001b[39m\u001b[39m.\u001b[39mraw:\n\u001b[0;32m    744\u001b[0m     \u001b[39mreturn\u001b[39;00m \u001b[39mself\u001b[39m\u001b[39m.\u001b[39mapply_raw()\n\u001b[1;32m--> 746\u001b[0m \u001b[39mreturn\u001b[39;00m \u001b[39mself\u001b[39;49m\u001b[39m.\u001b[39;49mapply_standard()\n",
      "File \u001b[1;32mc:\\Users\\annas\\anaconda3\\envs\\iron\\lib\\site-packages\\pandas\\core\\apply.py:873\u001b[0m, in \u001b[0;36mFrameApply.apply_standard\u001b[1;34m(self)\u001b[0m\n\u001b[0;32m    872\u001b[0m \u001b[39mdef\u001b[39;00m \u001b[39mapply_standard\u001b[39m(\u001b[39mself\u001b[39m):\n\u001b[1;32m--> 873\u001b[0m     results, res_index \u001b[39m=\u001b[39m \u001b[39mself\u001b[39;49m\u001b[39m.\u001b[39;49mapply_series_generator()\n\u001b[0;32m    875\u001b[0m     \u001b[39m# wrap results\u001b[39;00m\n\u001b[0;32m    876\u001b[0m     \u001b[39mreturn\u001b[39;00m \u001b[39mself\u001b[39m\u001b[39m.\u001b[39mwrap_results(results, res_index)\n",
      "File \u001b[1;32mc:\\Users\\annas\\anaconda3\\envs\\iron\\lib\\site-packages\\pandas\\core\\apply.py:889\u001b[0m, in \u001b[0;36mFrameApply.apply_series_generator\u001b[1;34m(self)\u001b[0m\n\u001b[0;32m    886\u001b[0m \u001b[39mwith\u001b[39;00m option_context(\u001b[39m\"\u001b[39m\u001b[39mmode.chained_assignment\u001b[39m\u001b[39m\"\u001b[39m, \u001b[39mNone\u001b[39;00m):\n\u001b[0;32m    887\u001b[0m     \u001b[39mfor\u001b[39;00m i, v \u001b[39min\u001b[39;00m \u001b[39menumerate\u001b[39m(series_gen):\n\u001b[0;32m    888\u001b[0m         \u001b[39m# ignore SettingWithCopy here in case the user mutates\u001b[39;00m\n\u001b[1;32m--> 889\u001b[0m         results[i] \u001b[39m=\u001b[39m \u001b[39mself\u001b[39;49m\u001b[39m.\u001b[39;49mf(v)\n\u001b[0;32m    890\u001b[0m         \u001b[39mif\u001b[39;00m \u001b[39misinstance\u001b[39m(results[i], ABCSeries):\n\u001b[0;32m    891\u001b[0m             \u001b[39m# If we have a view on v, we need to make a copy because\u001b[39;00m\n\u001b[0;32m    892\u001b[0m             \u001b[39m#  series_generator will swap out the underlying data\u001b[39;00m\n\u001b[0;32m    893\u001b[0m             results[i] \u001b[39m=\u001b[39m results[i]\u001b[39m.\u001b[39mcopy(deep\u001b[39m=\u001b[39m\u001b[39mFalse\u001b[39;00m)\n",
      "Cell \u001b[1;32mIn [26], line 1\u001b[0m, in \u001b[0;36m<lambda>\u001b[1;34m(x)\u001b[0m\n\u001b[1;32m----> 1\u001b[0m df\u001b[39m.\u001b[39mapply(\u001b[39mlambda\u001b[39;00m x: highest_rank(x, x[\u001b[39m'\u001b[39;49m\u001b[39murl\u001b[39;49m\u001b[39m'\u001b[39;49m]), axis \u001b[39m=\u001b[39m \u001b[39m1\u001b[39m)\n",
      "Cell \u001b[1;32mIn [24], line 2\u001b[0m, in \u001b[0;36mhighest_rank\u001b[1;34m(dataframe, col)\u001b[0m\n\u001b[0;32m      1\u001b[0m \u001b[39mdef\u001b[39;00m \u001b[39mhighest_rank\u001b[39m(dataframe, col):\n\u001b[1;32m----> 2\u001b[0m     \u001b[39mreturn\u001b[39;00m df[df[\u001b[39m'\u001b[39m\u001b[39murl\u001b[39m\u001b[39m'\u001b[39m] \u001b[39m==\u001b[39m link]\u001b[39m.\u001b[39msort_values(by \u001b[39m=\u001b[39m \u001b[39m'\u001b[39m\u001b[39mrank\u001b[39m\u001b[39m'\u001b[39m)\u001b[39m.\u001b[39miloc[\u001b[39m0\u001b[39m,\u001b[39m1\u001b[39m]\n",
      "\u001b[1;31mNameError\u001b[0m: name 'link' is not defined"
     ]
    }
   ],
   "source": [
    "df.apply(lambda x: highest_rank(x, x['url']), axis = 1)"
   ]
  },
  {
   "cell_type": "code",
   "execution_count": null,
   "metadata": {},
   "outputs": [
    {
     "data": {
      "text/plain": [
       "1"
      ]
     },
     "execution_count": 56,
     "metadata": {},
     "output_type": "execute_result"
    }
   ],
   "source": [
    "df[df['url'] == lista_url[0]].nsmallest(1, 'rank').iloc[0,1]"
   ]
  },
  {
   "cell_type": "code",
   "execution_count": null,
   "metadata": {},
   "outputs": [
    {
     "name": "stderr",
     "output_type": "stream",
     "text": [
      "  2%|▏         | 240/14650 [00:06<06:26, 37.30it/s]\n"
     ]
    },
    {
     "ename": "KeyboardInterrupt",
     "evalue": "",
     "output_type": "error",
     "traceback": [
      "\u001b[1;31m---------------------------------------------------------------------------\u001b[0m",
      "\u001b[1;31mKeyboardInterrupt\u001b[0m                         Traceback (most recent call last)",
      "Cell \u001b[1;32mIn [58], line 3\u001b[0m\n\u001b[0;32m      1\u001b[0m \u001b[39mfor\u001b[39;00m url \u001b[39min\u001b[39;00m tqdm(lista_url):\n\u001b[0;32m      2\u001b[0m     ranks[\u001b[39m'\u001b[39m\u001b[39murl\u001b[39m\u001b[39m'\u001b[39m]\u001b[39m.\u001b[39mappend(url)\n\u001b[1;32m----> 3\u001b[0m     ranks[\u001b[39m'\u001b[39m\u001b[39mhighest_rank\u001b[39m\u001b[39m'\u001b[39m]\u001b[39m.\u001b[39mappend(df[df[\u001b[39m'\u001b[39;49m\u001b[39murl\u001b[39;49m\u001b[39m'\u001b[39;49m] \u001b[39m==\u001b[39;49m url]\u001b[39m.\u001b[39mnsmallest(\u001b[39m1\u001b[39m, \u001b[39m'\u001b[39m\u001b[39mrank\u001b[39m\u001b[39m'\u001b[39m)\u001b[39m.\u001b[39miloc[\u001b[39m0\u001b[39m,\u001b[39m1\u001b[39m])\n\u001b[0;32m      4\u001b[0m     \u001b[39m#ranks['weeks_in_charts'].append(df[df['url'] == url].shape[0])\u001b[39;00m\n",
      "File \u001b[1;32mc:\\Users\\annas\\anaconda3\\envs\\iron\\lib\\site-packages\\pandas\\core\\ops\\common.py:72\u001b[0m, in \u001b[0;36m_unpack_zerodim_and_defer.<locals>.new_method\u001b[1;34m(self, other)\u001b[0m\n\u001b[0;32m     68\u001b[0m             \u001b[39mreturn\u001b[39;00m \u001b[39mNotImplemented\u001b[39m\n\u001b[0;32m     70\u001b[0m other \u001b[39m=\u001b[39m item_from_zerodim(other)\n\u001b[1;32m---> 72\u001b[0m \u001b[39mreturn\u001b[39;00m method(\u001b[39mself\u001b[39;49m, other)\n",
      "File \u001b[1;32mc:\\Users\\annas\\anaconda3\\envs\\iron\\lib\\site-packages\\pandas\\core\\arraylike.py:42\u001b[0m, in \u001b[0;36mOpsMixin.__eq__\u001b[1;34m(self, other)\u001b[0m\n\u001b[0;32m     40\u001b[0m \u001b[39m@unpack_zerodim_and_defer\u001b[39m(\u001b[39m\"\u001b[39m\u001b[39m__eq__\u001b[39m\u001b[39m\"\u001b[39m)\n\u001b[0;32m     41\u001b[0m \u001b[39mdef\u001b[39;00m \u001b[39m__eq__\u001b[39m(\u001b[39mself\u001b[39m, other):\n\u001b[1;32m---> 42\u001b[0m     \u001b[39mreturn\u001b[39;00m \u001b[39mself\u001b[39;49m\u001b[39m.\u001b[39;49m_cmp_method(other, operator\u001b[39m.\u001b[39;49meq)\n",
      "File \u001b[1;32mc:\\Users\\annas\\anaconda3\\envs\\iron\\lib\\site-packages\\pandas\\core\\series.py:6243\u001b[0m, in \u001b[0;36mSeries._cmp_method\u001b[1;34m(self, other, op)\u001b[0m\n\u001b[0;32m   6240\u001b[0m rvalues \u001b[39m=\u001b[39m extract_array(other, extract_numpy\u001b[39m=\u001b[39m\u001b[39mTrue\u001b[39;00m, extract_range\u001b[39m=\u001b[39m\u001b[39mTrue\u001b[39;00m)\n\u001b[0;32m   6242\u001b[0m \u001b[39mwith\u001b[39;00m np\u001b[39m.\u001b[39merrstate(\u001b[39mall\u001b[39m\u001b[39m=\u001b[39m\u001b[39m\"\u001b[39m\u001b[39mignore\u001b[39m\u001b[39m\"\u001b[39m):\n\u001b[1;32m-> 6243\u001b[0m     res_values \u001b[39m=\u001b[39m ops\u001b[39m.\u001b[39;49mcomparison_op(lvalues, rvalues, op)\n\u001b[0;32m   6245\u001b[0m \u001b[39mreturn\u001b[39;00m \u001b[39mself\u001b[39m\u001b[39m.\u001b[39m_construct_result(res_values, name\u001b[39m=\u001b[39mres_name)\n",
      "File \u001b[1;32mc:\\Users\\annas\\anaconda3\\envs\\iron\\lib\\site-packages\\pandas\\core\\ops\\array_ops.py:287\u001b[0m, in \u001b[0;36mcomparison_op\u001b[1;34m(left, right, op)\u001b[0m\n\u001b[0;32m    284\u001b[0m     \u001b[39mreturn\u001b[39;00m invalid_comparison(lvalues, rvalues, op)\n\u001b[0;32m    286\u001b[0m \u001b[39melif\u001b[39;00m is_object_dtype(lvalues\u001b[39m.\u001b[39mdtype) \u001b[39mor\u001b[39;00m \u001b[39misinstance\u001b[39m(rvalues, \u001b[39mstr\u001b[39m):\n\u001b[1;32m--> 287\u001b[0m     res_values \u001b[39m=\u001b[39m comp_method_OBJECT_ARRAY(op, lvalues, rvalues)\n\u001b[0;32m    289\u001b[0m \u001b[39melse\u001b[39;00m:\n\u001b[0;32m    290\u001b[0m     res_values \u001b[39m=\u001b[39m _na_arithmetic_op(lvalues, rvalues, op, is_cmp\u001b[39m=\u001b[39m\u001b[39mTrue\u001b[39;00m)\n",
      "File \u001b[1;32mc:\\Users\\annas\\anaconda3\\envs\\iron\\lib\\site-packages\\pandas\\core\\ops\\array_ops.py:76\u001b[0m, in \u001b[0;36mcomp_method_OBJECT_ARRAY\u001b[1;34m(op, x, y)\u001b[0m\n\u001b[0;32m     74\u001b[0m \u001b[39melse\u001b[39;00m:\n\u001b[0;32m     75\u001b[0m     result \u001b[39m=\u001b[39m libops\u001b[39m.\u001b[39mscalar_compare(x\u001b[39m.\u001b[39mravel(), y, op)\n\u001b[1;32m---> 76\u001b[0m \u001b[39mreturn\u001b[39;00m result\u001b[39m.\u001b[39;49mreshape(x\u001b[39m.\u001b[39mshape)\n",
      "\u001b[1;31mKeyboardInterrupt\u001b[0m: "
     ]
    }
   ],
   "source": [
    "for url in tqdm(lista_url):\n",
    "    ranks['url'].append(url)\n",
    "    ranks['highest_rank'].append(df[df['url'] == url].nsmallest(1, 'rank').iloc[0,1])\n",
    "    ranks['weeks_in_charts'].append(df[df['url'] == url].shape[0])"
   ]
  },
  {
   "cell_type": "code",
   "execution_count": null,
   "metadata": {},
   "outputs": [],
   "source": [
    "def highest_ranking(url):\n",
    "    return df[df['url'] == url].sort_values(by = 'rank').iloc[0,1]"
   ]
  },
  {
   "cell_type": "code",
   "execution_count": null,
   "metadata": {},
   "outputs": [],
   "source": [
    "print(len(ranks['url']), len(ranks['highest_rank']), len(ranks['weeks_in_charts']))"
   ]
  },
  {
   "cell_type": "code",
   "execution_count": null,
   "metadata": {},
   "outputs": [],
   "source": [
    "df = df.merge(pd.DataFrame(ranks), on = 'url', indicator= True)\n",
    "df.value_counts('_merge')"
   ]
  },
  {
   "cell_type": "code",
   "execution_count": null,
   "metadata": {},
   "outputs": [],
   "source": [
    "df.drop(['_merge'], axis = 1, inplace=True)"
   ]
  },
  {
   "cell_type": "code",
   "execution_count": null,
   "metadata": {},
   "outputs": [],
   "source": [
    "df.head()"
   ]
  },
  {
   "cell_type": "code",
   "execution_count": null,
   "metadata": {},
   "outputs": [],
   "source": [
    "df_export = df[['title', 'rank', 'date', 'artist', 'url', 'region', 'chart', 'trend', 'streams', 'highest_rank', 'weeks_in_charts']]\n",
    "df_export.head()"
   ]
  },
  {
   "cell_type": "code",
   "execution_count": null,
   "metadata": {},
   "outputs": [],
   "source": [
    "df_artist = df_export[['artist', 'title', 'url']].drop_duplicates()\n",
    "print(df_artist.shape)\n",
    "df_artist.head()"
   ]
  },
  {
   "cell_type": "code",
   "execution_count": null,
   "metadata": {},
   "outputs": [],
   "source": [
    "with open('../data/pickle/playlist.pickle', 'wb') as data_spotify:\n",
    "    pickle.dump(df_export, data_spotify)"
   ]
  },
  {
   "cell_type": "code",
   "execution_count": null,
   "metadata": {},
   "outputs": [],
   "source": [
    "with open('../data/pickle/artist.pickle', 'wb') as data_spotify:\n",
    "    pickle.dump(df_artist, data_spotify)"
   ]
  },
  {
   "attachments": {},
   "cell_type": "markdown",
   "metadata": {},
   "source": [
    "Main music genre\n",
    "\n",
    "Primo los géneros de las canciones -- si no hubiera datos, cojo los valores del artista"
   ]
  },
  {
   "cell_type": "code",
   "execution_count": null,
   "metadata": {},
   "outputs": [],
   "source": [
    "df.head(1)"
   ]
  },
  {
   "cell_type": "code",
   "execution_count": null,
   "metadata": {},
   "outputs": [],
   "source": [
    "df['music_genre'] = np.where(df['aritist_genre_0'].isnull() == True, df['track_genre_0'].str.lower(), df['aritist_genre_0'].str.lower())\n",
    "df['music_genre'].value_counts()"
   ]
  },
  {
   "cell_type": "code",
   "execution_count": null,
   "metadata": {},
   "outputs": [],
   "source": [
    "cuenta_generos = Counter(genres for genres in df['music_genre'])\n",
    "print(f\"Hay {len(cuenta_generos)} generos diferentes.\")"
   ]
  },
  {
   "cell_type": "code",
   "execution_count": null,
   "metadata": {},
   "outputs": [],
   "source": [
    "dict_genres = dict(cuenta_generos.most_common(24))"
   ]
  },
  {
   "cell_type": "code",
   "execution_count": null,
   "metadata": {},
   "outputs": [],
   "source": [
    "fuzz.ratio('hip-hop', \"hip hop\")"
   ]
  },
  {
   "cell_type": "code",
   "execution_count": null,
   "metadata": {},
   "outputs": [],
   "source": [
    "def music_genres(column, genres):\n",
    "    max = 0\n",
    "    for key in genres.keys():\n",
    "        try:\n",
    "            similar = fuzz.ratio(column, key)\n",
    "            if similar > max:\n",
    "                max = similar\n",
    "                genre = key     \n",
    "        except:\n",
    "            return \"other\"\n",
    "    if max > 60:\n",
    "        return genre\n",
    "    else:\n",
    "        return \"other\""
   ]
  },
  {
   "cell_type": "code",
   "execution_count": null,
   "metadata": {},
   "outputs": [],
   "source": [
    "df[\"clean_music_genre\"] = df.apply(lambda x: music_genres(x[\"music_genre\"], dict_genres), axis = 1)\n",
    "df[\"clean_music_genre\"].value_counts()"
   ]
  },
  {
   "attachments": {},
   "cell_type": "markdown",
   "metadata": {},
   "source": [
    "Gender from artists\n",
    "\n",
    "ojo, hay un poco de error -- volver a pasarlo, pero solo con el nombre de los artistas (que no sean grupos)"
   ]
  },
  {
   "cell_type": "code",
   "execution_count": null,
   "metadata": {},
   "outputs": [],
   "source": [
    "df.sample(5)"
   ]
  },
  {
   "cell_type": "code",
   "execution_count": null,
   "metadata": {},
   "outputs": [],
   "source": [
    "## funciona pero tiene un poco de error\n",
    "def generos(col):\n",
    "    for key, value in bb.dict_gender.items():\n",
    "        for k in key:\n",
    "            for item in value:\n",
    "                try:\n",
    "                    if item in col.lower():\n",
    "                        return key\n",
    "                except:\n",
    "                    return np.nan\n",
    "    return np.nan"
   ]
  },
  {
   "cell_type": "code",
   "execution_count": null,
   "metadata": {},
   "outputs": [],
   "source": [
    "def generos_2(col):\n",
    "    for key, value in bb.dict_gender.items():\n",
    "        try:\n",
    "            if value in col.lower():\n",
    "                return key\n",
    "        except:\n",
    "            return np.nan\n",
    "    return np.nan"
   ]
  },
  {
   "cell_type": "code",
   "execution_count": null,
   "metadata": {},
   "outputs": [],
   "source": [
    "df.head(1)"
   ]
  },
  {
   "cell_type": "code",
   "execution_count": null,
   "metadata": {},
   "outputs": [],
   "source": [
    "#df[\"gender\"] = df.apply(lambda x: generos(x['content'], bb.dict_gender), axis=1)\n",
    "df[\"gender\"] = df['summary'].apply(generos)"
   ]
  },
  {
   "cell_type": "code",
   "execution_count": null,
   "metadata": {},
   "outputs": [],
   "source": [
    "df['gender'].value_counts() / df.shape[0]"
   ]
  },
  {
   "attachments": {},
   "cell_type": "markdown",
   "metadata": {},
   "source": [
    "Age from artist\n",
    "\n",
    "-- taking the data from the summary"
   ]
  },
  {
   "cell_type": "code",
   "execution_count": null,
   "metadata": {},
   "outputs": [],
   "source": [
    "df['birthday'] =  df['content'].apply(lambda x: re.findall(r'\\w{1,15} \\d{1,2}, \\d{4}',str(x))).str[0]\n",
    "df['birthday'].value_counts()"
   ]
  },
  {
   "cell_type": "code",
   "execution_count": null,
   "metadata": {},
   "outputs": [],
   "source": [
    "df.sample()"
   ]
  },
  {
   "attachments": {},
   "cell_type": "markdown",
   "metadata": {},
   "source": [
    "df.dtypes"
   ]
  },
  {
   "cell_type": "code",
   "execution_count": null,
   "metadata": {},
   "outputs": [],
   "source": [
    "df.dtypes"
   ]
  },
  {
   "cell_type": "code",
   "execution_count": null,
   "metadata": {},
   "outputs": [],
   "source": [
    "df['playlist_date'] = pd.to_datetime(df['date'])\n",
    "df['birthday_date'] = pd.to_datetime(df['birthday'])"
   ]
  },
  {
   "cell_type": "code",
   "execution_count": null,
   "metadata": {},
   "outputs": [],
   "source": [
    "df['birthday_date'].value_counts()"
   ]
  },
  {
   "cell_type": "code",
   "execution_count": null,
   "metadata": {},
   "outputs": [],
   "source": [
    "from datetime import date\n",
    "\n",
    "def calculate_age(birthday):\n",
    "    today = date.today()\n",
    "    return today.year - birthday.year - ((today.month, today.day) < (birthday.month, birthday.day))"
   ]
  },
  {
   "cell_type": "code",
   "execution_count": null,
   "metadata": {},
   "outputs": [],
   "source": [
    "df['age'] = df['birthday_date'].apply(calculate_age)\n",
    "df['age'].value_counts()"
   ]
  },
  {
   "cell_type": "code",
   "execution_count": null,
   "metadata": {},
   "outputs": [],
   "source": [
    "df['year'] = df['playlist_date'].dt.year\n",
    "df['month'] = df['playlist_date'].dt.month"
   ]
  },
  {
   "attachments": {},
   "cell_type": "markdown",
   "metadata": {},
   "source": [
    "key and scale type mapping"
   ]
  },
  {
   "cell_type": "code",
   "execution_count": null,
   "metadata": {},
   "outputs": [],
   "source": [
    "df['key_mapped'] = df['key'].replace(bb.dict_keys)\n",
    "df['mode_mapped'] = df['mode'].replace(bb.dict_scale)"
   ]
  },
  {
   "cell_type": "code",
   "execution_count": null,
   "metadata": {},
   "outputs": [],
   "source": [
    "df['key_mapped'].value_counts()"
   ]
  },
  {
   "cell_type": "code",
   "execution_count": null,
   "metadata": {},
   "outputs": [],
   "source": [
    "df['mode_mapped'].value_counts()"
   ]
  },
  {
   "attachments": {},
   "cell_type": "markdown",
   "metadata": {},
   "source": [
    "# EDA"
   ]
  },
  {
   "attachments": {},
   "cell_type": "markdown",
   "metadata": {},
   "source": [
    "Total number of rows and columns of the dataframe"
   ]
  },
  {
   "cell_type": "code",
   "execution_count": null,
   "metadata": {},
   "outputs": [],
   "source": [
    "df.shape"
   ]
  },
  {
   "attachments": {},
   "cell_type": "markdown",
   "metadata": {},
   "source": [
    "Counting duplicated rows"
   ]
  },
  {
   "cell_type": "code",
   "execution_count": null,
   "metadata": {},
   "outputs": [],
   "source": [
    "df.duplicated().sum()"
   ]
  },
  {
   "attachments": {},
   "cell_type": "markdown",
   "metadata": {},
   "source": [
    "Counting null values"
   ]
  },
  {
   "cell_type": "code",
   "execution_count": null,
   "metadata": {},
   "outputs": [],
   "source": [
    "df.isnull().sum() / df.shape[0]"
   ]
  },
  {
   "cell_type": "code",
   "execution_count": null,
   "metadata": {},
   "outputs": [],
   "source": [
    "df.info()"
   ]
  },
  {
   "attachments": {},
   "cell_type": "markdown",
   "metadata": {},
   "source": [
    "Main statistic values for numeric columns"
   ]
  },
  {
   "cell_type": "code",
   "execution_count": null,
   "metadata": {},
   "outputs": [],
   "source": [
    "df.describe().T"
   ]
  },
  {
   "attachments": {},
   "cell_type": "markdown",
   "metadata": {},
   "source": [
    "Main statistic values for categorical columns"
   ]
  },
  {
   "cell_type": "code",
   "execution_count": null,
   "metadata": {},
   "outputs": [],
   "source": [
    "df.describe(include='object').T"
   ]
  },
  {
   "attachments": {},
   "cell_type": "markdown",
   "metadata": {},
   "source": [
    "# Questions / hypothesis"
   ]
  },
  {
   "attachments": {},
   "cell_type": "markdown",
   "metadata": {},
   "source": [
    "Firstly, both of the playlist will be splitted in different dataframes."
   ]
  },
  {
   "cell_type": "code",
   "execution_count": null,
   "metadata": {},
   "outputs": [],
   "source": [
    "top200 = df[df['chart'] == 'top200']\n",
    "viral50 = df[df['chart'] == 'viral50']"
   ]
  },
  {
   "attachments": {},
   "cell_type": "markdown",
   "metadata": {},
   "source": [
    "## Most streamed artists"
   ]
  },
  {
   "attachments": {},
   "cell_type": "markdown",
   "metadata": {},
   "source": [
    "I will look up both of the list and see if top artist are the same in both of the lists. As the `streams` column is not available in the `viral50`, so we will use the `weeks_in_charts` column, that counts the number of occurences on the lists."
   ]
  },
  {
   "cell_type": "code",
   "execution_count": null,
   "metadata": {},
   "outputs": [],
   "source": [
    "top10 = df.groupby(['artist'])['streams'].sum().reset_index().sort_values(by = 'streams', ascending = False).head(10)\n",
    "top10['ratio'] = top10['streams'] * 100 / (df[~df['streams'].isnull()]['streams'].sum())\n",
    "top10"
   ]
  },
  {
   "cell_type": "code",
   "execution_count": null,
   "metadata": {},
   "outputs": [],
   "source": [
    "top10_top200 = top200.groupby(['artist'])['weeks_in_charts'].sum().reset_index().sort_values(by = 'weeks_in_charts', ascending = False).head(5)\n",
    "top10_top200"
   ]
  },
  {
   "cell_type": "code",
   "execution_count": null,
   "metadata": {},
   "outputs": [],
   "source": [
    "top10_viral50 =viral50.groupby(['artist'])['weeks_in_charts'].sum().reset_index().sort_values(by = 'weeks_in_charts', ascending = False).head(5)\n",
    "top10_viral50"
   ]
  },
  {
   "attachments": {},
   "cell_type": "markdown",
   "metadata": {},
   "source": [
    "As we see, both of them are different. We will see h the top artist evolve on the list on the given period. "
   ]
  },
  {
   "cell_type": "code",
   "execution_count": null,
   "metadata": {},
   "outputs": [],
   "source": [
    "artist_top200 = df[df['artist'].isin(top10_top200['artist'].tolist())].groupby(['artist', 'year', 'month'])['weeks_in_charts'].sum().reset_index().sort_values(by=['year', 'month'], ascending = True)\n",
    "artist_top200['date'] = artist_top200['year'].astype(str) + '/' + artist_top200['month'].astype(str)\n",
    "artist_top200.head()"
   ]
  },
  {
   "cell_type": "code",
   "execution_count": null,
   "metadata": {},
   "outputs": [],
   "source": [
    "artist_viral50 = df[df['artist'].isin(top10_viral50['artist'].tolist())].groupby(['artist', 'year', 'month'])['weeks_in_charts'].sum().reset_index().sort_values(by=['year', 'month'], ascending = True)\n",
    "artist_viral50['date'] = artist_viral50['year'].astype(str) + '/' + artist_viral50['month'].astype(str)\n",
    "artist_viral50.head()"
   ]
  },
  {
   "cell_type": "code",
   "execution_count": null,
   "metadata": {},
   "outputs": [],
   "source": [
    "#sns.set_theme(style=\"darkgrid\")\n",
    "#sns.set(rc={\"figure.figsize\":(25,10)})\n",
    "fig, axs = plt.subplots(ncols=1, nrows = 2, figsize = (20, 10), sharex = True)\n",
    "g1 = sns.lineplot(x=\"date\", y=\"weeks_in_charts\", hue=\"artist\",  data=artist_top200, ax=axs[0])\n",
    "g2 = sns.lineplot(x=\"date\", y=\"weeks_in_charts\", hue=\"artist\",  data=artist_viral50 , ax=axs[1])\n",
    "axs[0].set_title('top200')\n",
    "axs[1].set_title('viral50')\n",
    "plt.xticks(rotation = 90);"
   ]
  },
  {
   "attachments": {},
   "cell_type": "markdown",
   "metadata": {},
   "source": [
    "## Most streamed music genres"
   ]
  },
  {
   "cell_type": "code",
   "execution_count": null,
   "metadata": {},
   "outputs": [],
   "source": [
    "df.head(1)"
   ]
  },
  {
   "cell_type": "code",
   "execution_count": null,
   "metadata": {},
   "outputs": [],
   "source": [
    "top10_genre_top200 = top200.groupby(['clean_music_genre'])['weeks_in_charts'].sum().reset_index().sort_values(by = 'weeks_in_charts', ascending = False).head(11)\n",
    "top10_genre_top200"
   ]
  },
  {
   "cell_type": "code",
   "execution_count": null,
   "metadata": {},
   "outputs": [],
   "source": [
    "top10_genre_viral50 =viral50.groupby(['clean_music_genre'])['weeks_in_charts'].sum().reset_index().sort_values(by = 'weeks_in_charts', ascending = False).head(11)\n",
    "top10_genre_viral50"
   ]
  },
  {
   "attachments": {},
   "cell_type": "markdown",
   "metadata": {},
   "source": [
    "Let's see the music genre distribution."
   ]
  },
  {
   "cell_type": "code",
   "execution_count": null,
   "metadata": {},
   "outputs": [],
   "source": [
    "fig, axs = plt.subplots(ncols=2, nrows = 1, figsize = (10, 20), sharex = True)\n",
    "axs0 = axs[0].pie(top10_genre_top200['weeks_in_charts'].tolist(), labels = top10_genre_top200['clean_music_genre'].tolist(), colors = sns.color_palette('muted'), autopct='%.0f%%')\n",
    "axs1 = axs[1].pie(top10_genre_viral50['weeks_in_charts'].tolist(), labels = top10_genre_viral50['clean_music_genre'].tolist(), colors = sns.color_palette('muted'), autopct='%.0f%%')\n",
    "plt.show()"
   ]
  },
  {
   "cell_type": "code",
   "execution_count": null,
   "metadata": {},
   "outputs": [],
   "source": [
    "genre_top200 = df.groupby(['clean_music_genre', 'year', 'month'])['weeks_in_charts'].sum().reset_index().sort_values(by=['year', 'month'], ascending = True)\n",
    "genre_top200['date'] = genre_top200['year'].astype(str) + '/' + genre_top200['month'].astype(str)\n",
    "genre_top200.head()"
   ]
  },
  {
   "cell_type": "code",
   "execution_count": null,
   "metadata": {},
   "outputs": [],
   "source": [
    "artist_viral50 = df[df['artist'].isin(top10_viral50['artist'].tolist())].groupby(['artist', 'year', 'month'])['weeks_in_charts'].sum().reset_index().sort_values(by=['year', 'month'], ascending = True)\n",
    "artist_viral50['date'] = artist_viral50['year'].astype(str) + '/' + artist_viral50['month'].astype(str)\n",
    "artist_viral50.head()"
   ]
  },
  {
   "attachments": {},
   "cell_type": "markdown",
   "metadata": {},
   "source": [
    "## Gender distibution"
   ]
  },
  {
   "attachments": {},
   "cell_type": "markdown",
   "metadata": {},
   "source": [
    "Let's see how genders  are distributed in both of the playlist."
   ]
  },
  {
   "cell_type": "code",
   "execution_count": null,
   "metadata": {},
   "outputs": [],
   "source": [
    "top200.groupby(['gender'])['weeks_in_charts'].count().reset_index()"
   ]
  },
  {
   "cell_type": "code",
   "execution_count": null,
   "metadata": {},
   "outputs": [],
   "source": [
    "fig, axs = plt.subplots(ncols=2, nrows = 1, figsize = (10, 20), sharex = True)\n",
    "axs0 = axs[0].pie(top200.groupby(['gender'])['weeks_in_charts'].count().reset_index()['weeks_in_charts'].tolist(), \n",
    "    labels = top200.groupby(['gender'])['weeks_in_charts'].count().reset_index()['gender'].tolist(), colors = sns.color_palette('muted'), autopct='%.0f%%')\n",
    "axs1 = axs[1].pie(viral50.groupby(['gender'])['weeks_in_charts'].count().reset_index()['weeks_in_charts'].tolist(), \n",
    "    labels = viral50.groupby(['gender'])['weeks_in_charts'].count().reset_index()['gender'].tolist(), colors = sns.color_palette('muted'), autopct='%.0f%%')\n",
    "plt.show()"
   ]
  },
  {
   "attachments": {},
   "cell_type": "markdown",
   "metadata": {},
   "source": [
    "Let's see the distribution of gender during the years."
   ]
  },
  {
   "cell_type": "code",
   "execution_count": null,
   "metadata": {},
   "outputs": [],
   "source": [
    "gender_top200 = top200.groupby(['gender', 'year', 'month'])['weeks_in_charts'].sum().reset_index().sort_values(by=['year', 'month'], ascending = True)\n",
    "gender_top200['date'] = gender_top200['year'].astype(str) + '/' + gender_top200['month'].astype(str)\n",
    "gender_top200.head()"
   ]
  },
  {
   "cell_type": "code",
   "execution_count": null,
   "metadata": {},
   "outputs": [],
   "source": [
    "gender_viral50 = viral50.groupby(['gender', 'year', 'month'])['weeks_in_charts'].sum().reset_index().sort_values(by=['year', 'month'], ascending = True)\n",
    "gender_viral50['date'] = gender_viral50['year'].astype(str) + '/' + gender_viral50['month'].astype(str)\n",
    "gender_viral50.head()"
   ]
  },
  {
   "cell_type": "code",
   "execution_count": null,
   "metadata": {},
   "outputs": [],
   "source": [
    "#sns.set_theme(style=\"darkgrid\")\n",
    "#sns.set(rc={\"figure.figsize\":(25,10)})\n",
    "fig, axs = plt.subplots(ncols=1, nrows = 2, figsize = (20, 10), sharex = True)\n",
    "g1 = sns.lineplot(x=\"date\", y=\"weeks_in_charts\", hue=\"gender\",  data=gender_top200, ax=axs[0])\n",
    "g2 = sns.lineplot(x=\"date\", y=\"weeks_in_charts\", hue=\"gender\",  data=gender_viral50 , ax=axs[1])\n",
    "axs[0].set_title('top200')\n",
    "axs[1].set_title('viral50')\n",
    "axs[0].axvline('2020/1', 0, max(gender_viral50['weeks_in_charts']), linestyle='dashed')\n",
    "axs[1].axvline('2020/1', 0, max(gender_viral50['weeks_in_charts']), linestyle='dashed')\n",
    "plt.xticks(rotation = 90);"
   ]
  },
  {
   "attachments": {},
   "cell_type": "markdown",
   "metadata": {},
   "source": [
    "In the `top200` there seems to be no advanced. The music displayed by this playlist is mostly male dominated. However, in the `viral50` playlist there seems to be hope for females. "
   ]
  },
  {
   "attachments": {},
   "cell_type": "markdown",
   "metadata": {},
   "source": [
    "## Genres and genders"
   ]
  },
  {
   "attachments": {},
   "cell_type": "markdown",
   "metadata": {},
   "source": [
    "Let's see if there is a relation between the genres and the genders of the artist."
   ]
  },
  {
   "attachments": {},
   "cell_type": "markdown",
   "metadata": {},
   "source": [
    "## How was the music during covid"
   ]
  },
  {
   "attachments": {},
   "cell_type": "markdown",
   "metadata": {},
   "source": [
    "So my hypothesis is that during covid, there was a change of tendencia in how people listened to music. Maybe there was an uplifting mood that they look up for or sinking in in sandness -- lets see the tendencies."
   ]
  },
  {
   "attachments": {},
   "cell_type": "markdown",
   "metadata": {},
   "source": [
    "## AKK"
   ]
  },
  {
   "cell_type": "code",
   "execution_count": null,
   "metadata": {},
   "outputs": [],
   "source": [
    "lista_artistas = list(top10['artist'])\n",
    "df_top10 = df[df['artist'].isin(lista_artistas)]\n",
    "df_top10.head()"
   ]
  },
  {
   "cell_type": "code",
   "execution_count": null,
   "metadata": {},
   "outputs": [],
   "source": [
    "num_rows = 20\n",
    "years = list(range(1990, 1990 + num_rows))\n",
    "data_preproc = pd.DataFrame({\n",
    "    'Year': years, \n",
    "    'A': np.random.randn(num_rows).cumsum(),\n",
    "    'B': np.random.randn(num_rows).cumsum(),\n",
    "    'C': np.random.randn(num_rows).cumsum(),\n",
    "    'D': np.random.randn(num_rows).cumsum()})"
   ]
  },
  {
   "cell_type": "code",
   "execution_count": null,
   "metadata": {},
   "outputs": [],
   "source": [
    "sns.lineplot(x='Year', y='value', hue='variable', \n",
    "             data=pd.melt(data_preproc, ['Year']))"
   ]
  },
  {
   "cell_type": "code",
   "execution_count": null,
   "metadata": {},
   "outputs": [],
   "source": [
    "test = pd.pivot_table(df_top10[df_top10['chart'] == 'top200'][['date', 'artist', 'rank']], index = 'date', values = ['rank'], columns = 'artist').reset_index().droplevel(level=0, axis =1)\n",
    "test.rename({'':'date'}, axis = 1, inplace=True)\n",
    "print(test.shape)\n",
    "test.head()"
   ]
  },
  {
   "cell_type": "code",
   "execution_count": null,
   "metadata": {},
   "outputs": [],
   "source": [
    "sns.lineplot(x='Year', y='value', hue='variable', \n",
    "             data=pd.melt(data_preproc, ['Year']))"
   ]
  },
  {
   "cell_type": "code",
   "execution_count": null,
   "metadata": {},
   "outputs": [],
   "source": [
    "sns.set(rc={'figure.figsize':(50,8.27)})\n",
    "\n",
    "c = sns.lineplot(data = test, x = test['date'].unique().tolist(), y = 'Ariana Grande')\n",
    "c.set_xticklabels(labels = test['date'].unique().tolist(), rotation=90)"
   ]
  }
 ],
 "metadata": {
  "kernelspec": {
   "display_name": "iron",
   "language": "python",
   "name": "python3"
  },
  "language_info": {
   "codemirror_mode": {
    "name": "ipython",
    "version": 3
   },
   "file_extension": ".py",
   "mimetype": "text/x-python",
   "name": "python",
   "nbconvert_exporter": "python",
   "pygments_lexer": "ipython3",
   "version": "3.9.13 (main, Oct 13 2022, 21:23:06) [MSC v.1916 64 bit (AMD64)]"
  },
  "orig_nbformat": 4,
  "vscode": {
   "interpreter": {
    "hash": "e59d0b279e6461be5b4ea7b62838527cd8f41f3cbc9a1147b1a83b32d75ab689"
   }
  }
 },
 "nbformat": 4,
 "nbformat_minor": 2
}
