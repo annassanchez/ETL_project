{
 "cells": [
  {
   "cell_type": "code",
   "execution_count": 1,
   "metadata": {},
   "outputs": [],
   "source": [
    "import pandas as pd\n",
    "import numpy as np\n",
    "import requests\n",
    "import os \n",
    "from dotenv import load_dotenv\n",
    "import requests\n",
    "from tqdm import tqdm\n",
    "pd.options.display.max_columns = None"
   ]
  },
  {
   "cell_type": "code",
   "execution_count": 2,
   "metadata": {},
   "outputs": [],
   "source": [
    "import spotipy \n",
    "from spotipy.oauth2 import SpotifyClientCredentials ## para poner mis credenciales"
   ]
  },
  {
   "attachments": {},
   "cell_type": "markdown",
   "metadata": {},
   "source": [
    "# spotify\n",
    "Aquí está la docu: https://spotipy.readthedocs.io/en/2.22.0/#\n",
    "\n",
    "Configuro el cliente y le metó las keys para acceder a la API de Spotify y poder sacar datos de las canciones que tengo"
   ]
  },
  {
   "cell_type": "code",
   "execution_count": 35,
   "metadata": {},
   "outputs": [],
   "source": [
    "id=os.getenv(\"id\")\n",
    "secret=os.getenv(\"secret\")\n",
    "\n",
    "client_credentials_manager = SpotifyClientCredentials(client_id=id,\n",
    "                                                      client_secret=secret)\n",
    "sp = spotipy.Spotify(client_credentials_manager=client_credentials_manager)"
   ]
  },
  {
   "attachments": {},
   "cell_type": "markdown",
   "metadata": {},
   "source": [
    "Primero voy a sacar el URI de mis canciones. Para ello uso el método de spotipy.search, que permite buscar con una query el nombre del artista y la canción."
   ]
  },
  {
   "cell_type": "code",
   "execution_count": 36,
   "metadata": {},
   "outputs": [
    {
     "name": "stdout",
     "output_type": "stream",
     "text": [
      "spotify:track:3mbmmddF7fxUNFkXV91ecm\n"
     ]
    }
   ],
   "source": [
    "## esto es para obtener una uri --> me voy a sacar los uris para mi data frame\n",
    "artist = 'los del rio'\n",
    "track = 'la macarena'\n",
    "q = 'artist:{} track: {}'.format(artist, track)\n",
    "results = sp.search(q=q, limit=1, type='track')\n",
    "print(results['tracks']['items'][0]['uri'])"
   ]
  },
  {
   "cell_type": "code",
   "execution_count": 37,
   "metadata": {},
   "outputs": [
    {
     "name": "stdout",
     "output_type": "stream",
     "text": [
      "SZA --- Kill Bill\n"
     ]
    }
   ],
   "source": [
    "for index, row in tracks.iterrows():\n",
    "    print(row['artist'],'---', row['name'])\n",
    "    break"
   ]
  },
  {
   "cell_type": "code",
   "execution_count": 38,
   "metadata": {},
   "outputs": [],
   "source": [
    "uris = []\n",
    "for index, row in tracks.iterrows():\n",
    "    q = 'artist:{} track: {}'.format(row['artist'], row['name'])\n",
    "    res = sp.search(q=q, limit=1, type='track')\n",
    "    try:\n",
    "        uri = res['tracks']['items'][0]['uri']\n",
    "        #print(res['tracks']['items'][0]['uri'])\n",
    "        uris.append(uri)\n",
    "    except:\n",
    "        uris.append('')\n",
    "    #break"
   ]
  },
  {
   "attachments": {},
   "cell_type": "markdown",
   "metadata": {},
   "source": [
    "Voy a comprobar que la lista donde me he appendeado todo tiene la misma longitud que mi dataframe, para poder añadir los URIs como una columna"
   ]
  },
  {
   "cell_type": "code",
   "execution_count": 39,
   "metadata": {},
   "outputs": [
    {
     "data": {
      "text/plain": [
       "['spotify:track:3OHfY25tqY28d16oZczHc8',\n",
       " 'spotify:track:0V3wPSX9ygBnCm8psDIegu',\n",
       " 'spotify:track:5xMw6qCcpd2gBXPGTegC4W']"
      ]
     },
     "execution_count": 39,
     "metadata": {},
     "output_type": "execute_result"
    }
   ],
   "source": [
    "uris[:3]"
   ]
  },
  {
   "cell_type": "code",
   "execution_count": 40,
   "metadata": {},
   "outputs": [
    {
     "name": "stdout",
     "output_type": "stream",
     "text": [
      "450 (450, 9)\n"
     ]
    }
   ],
   "source": [
    "print(len(uris), tracks.shape)"
   ]
  },
  {
   "cell_type": "code",
   "execution_count": 41,
   "metadata": {},
   "outputs": [
    {
     "data": {
      "text/html": [
       "<div>\n",
       "<style scoped>\n",
       "    .dataframe tbody tr th:only-of-type {\n",
       "        vertical-align: middle;\n",
       "    }\n",
       "\n",
       "    .dataframe tbody tr th {\n",
       "        vertical-align: top;\n",
       "    }\n",
       "\n",
       "    .dataframe thead th {\n",
       "        text-align: right;\n",
       "    }\n",
       "</style>\n",
       "<table border=\"1\" class=\"dataframe\">\n",
       "  <thead>\n",
       "    <tr style=\"text-align: right;\">\n",
       "      <th></th>\n",
       "      <th>name</th>\n",
       "      <th>duration</th>\n",
       "      <th>playcount</th>\n",
       "      <th>listeners</th>\n",
       "      <th>url</th>\n",
       "      <th>artist</th>\n",
       "      <th>MBID</th>\n",
       "      <th>Streamable</th>\n",
       "      <th>tags</th>\n",
       "      <th>URI</th>\n",
       "    </tr>\n",
       "  </thead>\n",
       "  <tbody>\n",
       "    <tr>\n",
       "      <th>0</th>\n",
       "      <td>Kill Bill</td>\n",
       "      <td>0</td>\n",
       "      <td>2946397</td>\n",
       "      <td>371889</td>\n",
       "      <td>https://www.last.fm/music/SZA/_/Kill+Bill</td>\n",
       "      <td>SZA</td>\n",
       "      <td>272989c8-5535-492d-a25c-9f58803e027f</td>\n",
       "      <td>0</td>\n",
       "      <td>NaN</td>\n",
       "      <td>spotify:track:3OHfY25tqY28d16oZczHc8</td>\n",
       "    </tr>\n",
       "    <tr>\n",
       "      <th>1</th>\n",
       "      <td>Anti-Hero</td>\n",
       "      <td>0</td>\n",
       "      <td>10077122</td>\n",
       "      <td>560069</td>\n",
       "      <td>https://www.last.fm/music/Taylor+Swift/_/Anti-...</td>\n",
       "      <td>Taylor Swift</td>\n",
       "      <td>20244d07-534f-4eff-b4d4-930878889970</td>\n",
       "      <td>0</td>\n",
       "      <td>NaN</td>\n",
       "      <td>spotify:track:0V3wPSX9ygBnCm8psDIegu</td>\n",
       "    </tr>\n",
       "    <tr>\n",
       "      <th>2</th>\n",
       "      <td>SOS</td>\n",
       "      <td>0</td>\n",
       "      <td>995490</td>\n",
       "      <td>307189</td>\n",
       "      <td>https://www.last.fm/music/SZA/_/SOS</td>\n",
       "      <td>SZA</td>\n",
       "      <td>272989c8-5535-492d-a25c-9f58803e027f</td>\n",
       "      <td>0</td>\n",
       "      <td>NaN</td>\n",
       "      <td>spotify:track:5xMw6qCcpd2gBXPGTegC4W</td>\n",
       "    </tr>\n",
       "    <tr>\n",
       "      <th>3</th>\n",
       "      <td>As It Was</td>\n",
       "      <td>0</td>\n",
       "      <td>20588530</td>\n",
       "      <td>909911</td>\n",
       "      <td>https://www.last.fm/music/Harry+Styles/_/As+It...</td>\n",
       "      <td>Harry Styles</td>\n",
       "      <td></td>\n",
       "      <td>0</td>\n",
       "      <td>NaN</td>\n",
       "      <td>spotify:track:4LRPiXqCikLlN15c3yImP7</td>\n",
       "    </tr>\n",
       "    <tr>\n",
       "      <th>4</th>\n",
       "      <td>Shirt</td>\n",
       "      <td>0</td>\n",
       "      <td>3121081</td>\n",
       "      <td>359910</td>\n",
       "      <td>https://www.last.fm/music/SZA/_/Shirt</td>\n",
       "      <td>SZA</td>\n",
       "      <td>272989c8-5535-492d-a25c-9f58803e027f</td>\n",
       "      <td>0</td>\n",
       "      <td>NaN</td>\n",
       "      <td>spotify:track:34ZAzO78a5DAVNrYIGWcPm</td>\n",
       "    </tr>\n",
       "  </tbody>\n",
       "</table>\n",
       "</div>"
      ],
      "text/plain": [
       "        name duration playcount listeners  \\\n",
       "0  Kill Bill        0   2946397    371889   \n",
       "1  Anti-Hero        0  10077122    560069   \n",
       "2        SOS        0    995490    307189   \n",
       "3  As It Was        0  20588530    909911   \n",
       "4      Shirt        0   3121081    359910   \n",
       "\n",
       "                                                 url        artist  \\\n",
       "0          https://www.last.fm/music/SZA/_/Kill+Bill           SZA   \n",
       "1  https://www.last.fm/music/Taylor+Swift/_/Anti-...  Taylor Swift   \n",
       "2                https://www.last.fm/music/SZA/_/SOS           SZA   \n",
       "3  https://www.last.fm/music/Harry+Styles/_/As+It...  Harry Styles   \n",
       "4              https://www.last.fm/music/SZA/_/Shirt           SZA   \n",
       "\n",
       "                                   MBID Streamable tags  \\\n",
       "0  272989c8-5535-492d-a25c-9f58803e027f          0  NaN   \n",
       "1  20244d07-534f-4eff-b4d4-930878889970          0  NaN   \n",
       "2  272989c8-5535-492d-a25c-9f58803e027f          0  NaN   \n",
       "3                                                0  NaN   \n",
       "4  272989c8-5535-492d-a25c-9f58803e027f          0  NaN   \n",
       "\n",
       "                                    URI  \n",
       "0  spotify:track:3OHfY25tqY28d16oZczHc8  \n",
       "1  spotify:track:0V3wPSX9ygBnCm8psDIegu  \n",
       "2  spotify:track:5xMw6qCcpd2gBXPGTegC4W  \n",
       "3  spotify:track:4LRPiXqCikLlN15c3yImP7  \n",
       "4  spotify:track:34ZAzO78a5DAVNrYIGWcPm  "
      ]
     },
     "execution_count": 41,
     "metadata": {},
     "output_type": "execute_result"
    }
   ],
   "source": [
    "tracks['URI'] = uris\n",
    "tracks.head()"
   ]
  },
  {
   "attachments": {},
   "cell_type": "markdown",
   "metadata": {},
   "source": [
    "Ahora con el método `'audio_features'` de spotipy quiero sacar las propiedades que tienen las canciones. Para ello, tengo que aportar:\n",
    "- `URI`\n",
    "\n",
    "Y el resultado de cada una de mis consultas, lo almacenaré en una lista de listas que luego appendearé a mi dataframe."
   ]
  },
  {
   "cell_type": "code",
   "execution_count": 42,
   "metadata": {},
   "outputs": [
    {
     "data": {
      "text/plain": [
       "[{'danceability': 0.644,\n",
       "  'energy': 0.728,\n",
       "  'key': 8,\n",
       "  'loudness': -5.75,\n",
       "  'mode': 1,\n",
       "  'speechiness': 0.0351,\n",
       "  'acousticness': 0.0543,\n",
       "  'instrumentalness': 0.169,\n",
       "  'liveness': 0.161,\n",
       "  'valence': 0.43,\n",
       "  'tempo': 88.993,\n",
       "  'type': 'audio_features',\n",
       "  'id': '3OHfY25tqY28d16oZczHc8',\n",
       "  'uri': 'spotify:track:3OHfY25tqY28d16oZczHc8',\n",
       "  'track_href': 'https://api.spotify.com/v1/tracks/3OHfY25tqY28d16oZczHc8',\n",
       "  'analysis_url': 'https://api.spotify.com/v1/audio-analysis/3OHfY25tqY28d16oZczHc8',\n",
       "  'duration_ms': 153947,\n",
       "  'time_signature': 4}]"
      ]
     },
     "execution_count": 42,
     "metadata": {},
     "output_type": "execute_result"
    }
   ],
   "source": [
    "sp.audio_features('spotify:track:3OHfY25tqY28d16oZczHc8')"
   ]
  },
  {
   "cell_type": "code",
   "execution_count": 43,
   "metadata": {},
   "outputs": [
    {
     "data": {
      "text/plain": [
       "list"
      ]
     },
     "execution_count": 43,
     "metadata": {},
     "output_type": "execute_result"
    }
   ],
   "source": [
    "type(sp.audio_features('spotify:track:3OHfY25tqY28d16oZczHc8'))"
   ]
  },
  {
   "cell_type": "code",
   "execution_count": 44,
   "metadata": {},
   "outputs": [],
   "source": [
    "datos_uris = []\n",
    "for index, row in tracks.iterrows():\n",
    "    uri = sp.audio_features(row['URI'])\n",
    "    datos_uris.append(uri)"
   ]
  },
  {
   "attachments": {},
   "cell_type": "markdown",
   "metadata": {},
   "source": [
    "Y tengo mis datos sobre las canciones, pero tengo que limpiar un poco para poder hacer el append."
   ]
  },
  {
   "cell_type": "code",
   "execution_count": 51,
   "metadata": {},
   "outputs": [
    {
     "data": {
      "text/plain": [
       "dict"
      ]
     },
     "execution_count": 51,
     "metadata": {},
     "output_type": "execute_result"
    }
   ],
   "source": [
    "type(pd.DataFrame(datos_uris).iloc[0,0]) ## puedo sacar las claves para nombrar a mis columnas"
   ]
  },
  {
   "cell_type": "code",
   "execution_count": 53,
   "metadata": {},
   "outputs": [
    {
     "data": {
      "text/plain": [
       "['danceability', 'energy', 'key', 'loudness', 'mode']"
      ]
     },
     "execution_count": 53,
     "metadata": {},
     "output_type": "execute_result"
    }
   ],
   "source": [
    "columnas = list(pd.DataFrame(datos_uris).iloc[0,0].keys())\n",
    "columnas[:5]"
   ]
  },
  {
   "cell_type": "code",
   "execution_count": 56,
   "metadata": {},
   "outputs": [
    {
     "name": "stderr",
     "output_type": "stream",
     "text": [
      "C:\\Users\\annas\\AppData\\Local\\Temp\\ipykernel_14644\\1750135214.py:2: FutureWarning: The default dtype for empty Series will be 'object' instead of 'float64' in a future version. Specify a dtype explicitly to silence this warning.\n",
      "  df_uris[columnas] = df_uris[0].apply(pd.Series)\n",
      "C:\\Users\\annas\\AppData\\Local\\Temp\\ipykernel_14644\\1750135214.py:2: FutureWarning: The default dtype for empty Series will be 'object' instead of 'float64' in a future version. Specify a dtype explicitly to silence this warning.\n",
      "  df_uris[columnas] = df_uris[0].apply(pd.Series)\n",
      "C:\\Users\\annas\\AppData\\Local\\Temp\\ipykernel_14644\\1750135214.py:2: FutureWarning: The default dtype for empty Series will be 'object' instead of 'float64' in a future version. Specify a dtype explicitly to silence this warning.\n",
      "  df_uris[columnas] = df_uris[0].apply(pd.Series)\n",
      "C:\\Users\\annas\\AppData\\Local\\Temp\\ipykernel_14644\\1750135214.py:2: FutureWarning: The default dtype for empty Series will be 'object' instead of 'float64' in a future version. Specify a dtype explicitly to silence this warning.\n",
      "  df_uris[columnas] = df_uris[0].apply(pd.Series)\n",
      "C:\\Users\\annas\\AppData\\Local\\Temp\\ipykernel_14644\\1750135214.py:2: FutureWarning: The default dtype for empty Series will be 'object' instead of 'float64' in a future version. Specify a dtype explicitly to silence this warning.\n",
      "  df_uris[columnas] = df_uris[0].apply(pd.Series)\n"
     ]
    },
    {
     "data": {
      "text/html": [
       "<div>\n",
       "<style scoped>\n",
       "    .dataframe tbody tr th:only-of-type {\n",
       "        vertical-align: middle;\n",
       "    }\n",
       "\n",
       "    .dataframe tbody tr th {\n",
       "        vertical-align: top;\n",
       "    }\n",
       "\n",
       "    .dataframe thead th {\n",
       "        text-align: right;\n",
       "    }\n",
       "</style>\n",
       "<table border=\"1\" class=\"dataframe\">\n",
       "  <thead>\n",
       "    <tr style=\"text-align: right;\">\n",
       "      <th></th>\n",
       "      <th>0</th>\n",
       "      <th>danceability</th>\n",
       "      <th>energy</th>\n",
       "      <th>key</th>\n",
       "      <th>loudness</th>\n",
       "      <th>mode</th>\n",
       "      <th>speechiness</th>\n",
       "      <th>acousticness</th>\n",
       "      <th>instrumentalness</th>\n",
       "      <th>liveness</th>\n",
       "      <th>valence</th>\n",
       "      <th>tempo</th>\n",
       "      <th>type</th>\n",
       "      <th>id</th>\n",
       "      <th>uri</th>\n",
       "      <th>track_href</th>\n",
       "      <th>analysis_url</th>\n",
       "      <th>duration_ms</th>\n",
       "      <th>time_signature</th>\n",
       "    </tr>\n",
       "  </thead>\n",
       "  <tbody>\n",
       "    <tr>\n",
       "      <th>0</th>\n",
       "      <td>{'danceability': 0.644, 'energy': 0.728, 'key'...</td>\n",
       "      <td>0.644</td>\n",
       "      <td>0.728</td>\n",
       "      <td>8.0</td>\n",
       "      <td>-5.750</td>\n",
       "      <td>1.0</td>\n",
       "      <td>0.0351</td>\n",
       "      <td>0.0543</td>\n",
       "      <td>0.169000</td>\n",
       "      <td>0.1610</td>\n",
       "      <td>0.430</td>\n",
       "      <td>88.993</td>\n",
       "      <td>audio_features</td>\n",
       "      <td>3OHfY25tqY28d16oZczHc8</td>\n",
       "      <td>spotify:track:3OHfY25tqY28d16oZczHc8</td>\n",
       "      <td>https://api.spotify.com/v1/tracks/3OHfY25tqY28...</td>\n",
       "      <td>https://api.spotify.com/v1/audio-analysis/3OHf...</td>\n",
       "      <td>153947.0</td>\n",
       "      <td>4.0</td>\n",
       "    </tr>\n",
       "    <tr>\n",
       "      <th>1</th>\n",
       "      <td>{'danceability': 0.637, 'energy': 0.643, 'key'...</td>\n",
       "      <td>0.637</td>\n",
       "      <td>0.643</td>\n",
       "      <td>4.0</td>\n",
       "      <td>-6.571</td>\n",
       "      <td>1.0</td>\n",
       "      <td>0.0519</td>\n",
       "      <td>0.1300</td>\n",
       "      <td>0.000002</td>\n",
       "      <td>0.1420</td>\n",
       "      <td>0.533</td>\n",
       "      <td>97.008</td>\n",
       "      <td>audio_features</td>\n",
       "      <td>0V3wPSX9ygBnCm8psDIegu</td>\n",
       "      <td>spotify:track:0V3wPSX9ygBnCm8psDIegu</td>\n",
       "      <td>https://api.spotify.com/v1/tracks/0V3wPSX9ygBn...</td>\n",
       "      <td>https://api.spotify.com/v1/audio-analysis/0V3w...</td>\n",
       "      <td>200690.0</td>\n",
       "      <td>4.0</td>\n",
       "    </tr>\n",
       "    <tr>\n",
       "      <th>2</th>\n",
       "      <td>{'danceability': 0.507, 'energy': 0.657, 'key'...</td>\n",
       "      <td>0.507</td>\n",
       "      <td>0.657</td>\n",
       "      <td>7.0</td>\n",
       "      <td>-7.356</td>\n",
       "      <td>0.0</td>\n",
       "      <td>0.2330</td>\n",
       "      <td>0.6690</td>\n",
       "      <td>0.000007</td>\n",
       "      <td>0.0947</td>\n",
       "      <td>0.506</td>\n",
       "      <td>119.159</td>\n",
       "      <td>audio_features</td>\n",
       "      <td>5xMw6qCcpd2gBXPGTegC4W</td>\n",
       "      <td>spotify:track:5xMw6qCcpd2gBXPGTegC4W</td>\n",
       "      <td>https://api.spotify.com/v1/tracks/5xMw6qCcpd2g...</td>\n",
       "      <td>https://api.spotify.com/v1/audio-analysis/5xMw...</td>\n",
       "      <td>117773.0</td>\n",
       "      <td>1.0</td>\n",
       "    </tr>\n",
       "    <tr>\n",
       "      <th>3</th>\n",
       "      <td>{'danceability': 0.52, 'energy': 0.731, 'key':...</td>\n",
       "      <td>0.520</td>\n",
       "      <td>0.731</td>\n",
       "      <td>6.0</td>\n",
       "      <td>-5.338</td>\n",
       "      <td>0.0</td>\n",
       "      <td>0.0557</td>\n",
       "      <td>0.3420</td>\n",
       "      <td>0.001010</td>\n",
       "      <td>0.3110</td>\n",
       "      <td>0.662</td>\n",
       "      <td>173.930</td>\n",
       "      <td>audio_features</td>\n",
       "      <td>4LRPiXqCikLlN15c3yImP7</td>\n",
       "      <td>spotify:track:4LRPiXqCikLlN15c3yImP7</td>\n",
       "      <td>https://api.spotify.com/v1/tracks/4LRPiXqCikLl...</td>\n",
       "      <td>https://api.spotify.com/v1/audio-analysis/4LRP...</td>\n",
       "      <td>167303.0</td>\n",
       "      <td>4.0</td>\n",
       "    </tr>\n",
       "    <tr>\n",
       "      <th>4</th>\n",
       "      <td>{'danceability': 0.824, 'energy': 0.453, 'key'...</td>\n",
       "      <td>0.824</td>\n",
       "      <td>0.453</td>\n",
       "      <td>3.0</td>\n",
       "      <td>-9.604</td>\n",
       "      <td>0.0</td>\n",
       "      <td>0.0968</td>\n",
       "      <td>0.1460</td>\n",
       "      <td>0.027300</td>\n",
       "      <td>0.0896</td>\n",
       "      <td>0.552</td>\n",
       "      <td>119.959</td>\n",
       "      <td>audio_features</td>\n",
       "      <td>34ZAzO78a5DAVNrYIGWcPm</td>\n",
       "      <td>spotify:track:34ZAzO78a5DAVNrYIGWcPm</td>\n",
       "      <td>https://api.spotify.com/v1/tracks/34ZAzO78a5DA...</td>\n",
       "      <td>https://api.spotify.com/v1/audio-analysis/34ZA...</td>\n",
       "      <td>181831.0</td>\n",
       "      <td>4.0</td>\n",
       "    </tr>\n",
       "  </tbody>\n",
       "</table>\n",
       "</div>"
      ],
      "text/plain": [
       "                                                   0  danceability  energy  \\\n",
       "0  {'danceability': 0.644, 'energy': 0.728, 'key'...         0.644   0.728   \n",
       "1  {'danceability': 0.637, 'energy': 0.643, 'key'...         0.637   0.643   \n",
       "2  {'danceability': 0.507, 'energy': 0.657, 'key'...         0.507   0.657   \n",
       "3  {'danceability': 0.52, 'energy': 0.731, 'key':...         0.520   0.731   \n",
       "4  {'danceability': 0.824, 'energy': 0.453, 'key'...         0.824   0.453   \n",
       "\n",
       "   key  loudness  mode  speechiness  acousticness  instrumentalness  liveness  \\\n",
       "0  8.0    -5.750   1.0       0.0351        0.0543          0.169000    0.1610   \n",
       "1  4.0    -6.571   1.0       0.0519        0.1300          0.000002    0.1420   \n",
       "2  7.0    -7.356   0.0       0.2330        0.6690          0.000007    0.0947   \n",
       "3  6.0    -5.338   0.0       0.0557        0.3420          0.001010    0.3110   \n",
       "4  3.0    -9.604   0.0       0.0968        0.1460          0.027300    0.0896   \n",
       "\n",
       "   valence    tempo            type                      id  \\\n",
       "0    0.430   88.993  audio_features  3OHfY25tqY28d16oZczHc8   \n",
       "1    0.533   97.008  audio_features  0V3wPSX9ygBnCm8psDIegu   \n",
       "2    0.506  119.159  audio_features  5xMw6qCcpd2gBXPGTegC4W   \n",
       "3    0.662  173.930  audio_features  4LRPiXqCikLlN15c3yImP7   \n",
       "4    0.552  119.959  audio_features  34ZAzO78a5DAVNrYIGWcPm   \n",
       "\n",
       "                                    uri  \\\n",
       "0  spotify:track:3OHfY25tqY28d16oZczHc8   \n",
       "1  spotify:track:0V3wPSX9ygBnCm8psDIegu   \n",
       "2  spotify:track:5xMw6qCcpd2gBXPGTegC4W   \n",
       "3  spotify:track:4LRPiXqCikLlN15c3yImP7   \n",
       "4  spotify:track:34ZAzO78a5DAVNrYIGWcPm   \n",
       "\n",
       "                                          track_href  \\\n",
       "0  https://api.spotify.com/v1/tracks/3OHfY25tqY28...   \n",
       "1  https://api.spotify.com/v1/tracks/0V3wPSX9ygBn...   \n",
       "2  https://api.spotify.com/v1/tracks/5xMw6qCcpd2g...   \n",
       "3  https://api.spotify.com/v1/tracks/4LRPiXqCikLl...   \n",
       "4  https://api.spotify.com/v1/tracks/34ZAzO78a5DA...   \n",
       "\n",
       "                                        analysis_url  duration_ms  \\\n",
       "0  https://api.spotify.com/v1/audio-analysis/3OHf...     153947.0   \n",
       "1  https://api.spotify.com/v1/audio-analysis/0V3w...     200690.0   \n",
       "2  https://api.spotify.com/v1/audio-analysis/5xMw...     117773.0   \n",
       "3  https://api.spotify.com/v1/audio-analysis/4LRP...     167303.0   \n",
       "4  https://api.spotify.com/v1/audio-analysis/34ZA...     181831.0   \n",
       "\n",
       "   time_signature  \n",
       "0             4.0  \n",
       "1             4.0  \n",
       "2             1.0  \n",
       "3             4.0  \n",
       "4             4.0  "
      ]
     },
     "execution_count": 56,
     "metadata": {},
     "output_type": "execute_result"
    }
   ],
   "source": [
    "df_uris = pd.DataFrame(datos_uris)\n",
    "df_uris[columnas] = df_uris[0].apply(pd.Series)\n",
    "df_uris.head()"
   ]
  },
  {
   "attachments": {},
   "cell_type": "markdown",
   "metadata": {},
   "source": [
    "Lo junto ahora con mi dataframe inicial y limpio las columnas que no necesite."
   ]
  },
  {
   "cell_type": "code",
   "execution_count": 58,
   "metadata": {},
   "outputs": [
    {
     "data": {
      "text/plain": [
       "both          447\n",
       "left_only       0\n",
       "right_only      0\n",
       "Name: _merge, dtype: int64"
      ]
     },
     "execution_count": 58,
     "metadata": {},
     "output_type": "execute_result"
    }
   ],
   "source": [
    "tracks = tracks.merge(df_uris, left_on = 'URI', right_on='uri', indicator=True)\n",
    "tracks['_merge'].value_counts() ## compruebo que el cruce se haga con éxito"
   ]
  },
  {
   "cell_type": "code",
   "execution_count": 62,
   "metadata": {},
   "outputs": [
    {
     "data": {
      "text/html": [
       "<div>\n",
       "<style scoped>\n",
       "    .dataframe tbody tr th:only-of-type {\n",
       "        vertical-align: middle;\n",
       "    }\n",
       "\n",
       "    .dataframe tbody tr th {\n",
       "        vertical-align: top;\n",
       "    }\n",
       "\n",
       "    .dataframe thead th {\n",
       "        text-align: right;\n",
       "    }\n",
       "</style>\n",
       "<table border=\"1\" class=\"dataframe\">\n",
       "  <thead>\n",
       "    <tr style=\"text-align: right;\">\n",
       "      <th></th>\n",
       "      <th>name</th>\n",
       "      <th>duration</th>\n",
       "      <th>playcount</th>\n",
       "      <th>listeners</th>\n",
       "      <th>url</th>\n",
       "      <th>artist</th>\n",
       "      <th>MBID</th>\n",
       "      <th>Streamable</th>\n",
       "      <th>tags</th>\n",
       "      <th>URI</th>\n",
       "      <th>danceability</th>\n",
       "      <th>energy</th>\n",
       "      <th>key</th>\n",
       "      <th>loudness</th>\n",
       "      <th>mode</th>\n",
       "      <th>speechiness</th>\n",
       "      <th>acousticness</th>\n",
       "      <th>instrumentalness</th>\n",
       "      <th>liveness</th>\n",
       "      <th>valence</th>\n",
       "      <th>tempo</th>\n",
       "      <th>type</th>\n",
       "      <th>id</th>\n",
       "      <th>track_href</th>\n",
       "      <th>analysis_url</th>\n",
       "      <th>duration_ms</th>\n",
       "      <th>time_signature</th>\n",
       "    </tr>\n",
       "  </thead>\n",
       "  <tbody>\n",
       "    <tr>\n",
       "      <th>0</th>\n",
       "      <td>Kill Bill</td>\n",
       "      <td>0</td>\n",
       "      <td>2946397</td>\n",
       "      <td>371889</td>\n",
       "      <td>https://www.last.fm/music/SZA/_/Kill+Bill</td>\n",
       "      <td>SZA</td>\n",
       "      <td>272989c8-5535-492d-a25c-9f58803e027f</td>\n",
       "      <td>0</td>\n",
       "      <td>NaN</td>\n",
       "      <td>spotify:track:3OHfY25tqY28d16oZczHc8</td>\n",
       "      <td>0.644</td>\n",
       "      <td>0.728</td>\n",
       "      <td>8.0</td>\n",
       "      <td>-5.750</td>\n",
       "      <td>1.0</td>\n",
       "      <td>0.0351</td>\n",
       "      <td>0.0543</td>\n",
       "      <td>0.169000</td>\n",
       "      <td>0.1610</td>\n",
       "      <td>0.430</td>\n",
       "      <td>88.993</td>\n",
       "      <td>audio_features</td>\n",
       "      <td>3OHfY25tqY28d16oZczHc8</td>\n",
       "      <td>https://api.spotify.com/v1/tracks/3OHfY25tqY28...</td>\n",
       "      <td>https://api.spotify.com/v1/audio-analysis/3OHf...</td>\n",
       "      <td>153947.0</td>\n",
       "      <td>4.0</td>\n",
       "    </tr>\n",
       "    <tr>\n",
       "      <th>1</th>\n",
       "      <td>Anti-Hero</td>\n",
       "      <td>0</td>\n",
       "      <td>10077122</td>\n",
       "      <td>560069</td>\n",
       "      <td>https://www.last.fm/music/Taylor+Swift/_/Anti-...</td>\n",
       "      <td>Taylor Swift</td>\n",
       "      <td>20244d07-534f-4eff-b4d4-930878889970</td>\n",
       "      <td>0</td>\n",
       "      <td>NaN</td>\n",
       "      <td>spotify:track:0V3wPSX9ygBnCm8psDIegu</td>\n",
       "      <td>0.637</td>\n",
       "      <td>0.643</td>\n",
       "      <td>4.0</td>\n",
       "      <td>-6.571</td>\n",
       "      <td>1.0</td>\n",
       "      <td>0.0519</td>\n",
       "      <td>0.1300</td>\n",
       "      <td>0.000002</td>\n",
       "      <td>0.1420</td>\n",
       "      <td>0.533</td>\n",
       "      <td>97.008</td>\n",
       "      <td>audio_features</td>\n",
       "      <td>0V3wPSX9ygBnCm8psDIegu</td>\n",
       "      <td>https://api.spotify.com/v1/tracks/0V3wPSX9ygBn...</td>\n",
       "      <td>https://api.spotify.com/v1/audio-analysis/0V3w...</td>\n",
       "      <td>200690.0</td>\n",
       "      <td>4.0</td>\n",
       "    </tr>\n",
       "    <tr>\n",
       "      <th>2</th>\n",
       "      <td>SOS</td>\n",
       "      <td>0</td>\n",
       "      <td>995490</td>\n",
       "      <td>307189</td>\n",
       "      <td>https://www.last.fm/music/SZA/_/SOS</td>\n",
       "      <td>SZA</td>\n",
       "      <td>272989c8-5535-492d-a25c-9f58803e027f</td>\n",
       "      <td>0</td>\n",
       "      <td>NaN</td>\n",
       "      <td>spotify:track:5xMw6qCcpd2gBXPGTegC4W</td>\n",
       "      <td>0.507</td>\n",
       "      <td>0.657</td>\n",
       "      <td>7.0</td>\n",
       "      <td>-7.356</td>\n",
       "      <td>0.0</td>\n",
       "      <td>0.2330</td>\n",
       "      <td>0.6690</td>\n",
       "      <td>0.000007</td>\n",
       "      <td>0.0947</td>\n",
       "      <td>0.506</td>\n",
       "      <td>119.159</td>\n",
       "      <td>audio_features</td>\n",
       "      <td>5xMw6qCcpd2gBXPGTegC4W</td>\n",
       "      <td>https://api.spotify.com/v1/tracks/5xMw6qCcpd2g...</td>\n",
       "      <td>https://api.spotify.com/v1/audio-analysis/5xMw...</td>\n",
       "      <td>117773.0</td>\n",
       "      <td>1.0</td>\n",
       "    </tr>\n",
       "    <tr>\n",
       "      <th>3</th>\n",
       "      <td>As It Was</td>\n",
       "      <td>0</td>\n",
       "      <td>20588530</td>\n",
       "      <td>909911</td>\n",
       "      <td>https://www.last.fm/music/Harry+Styles/_/As+It...</td>\n",
       "      <td>Harry Styles</td>\n",
       "      <td></td>\n",
       "      <td>0</td>\n",
       "      <td>NaN</td>\n",
       "      <td>spotify:track:4LRPiXqCikLlN15c3yImP7</td>\n",
       "      <td>0.520</td>\n",
       "      <td>0.731</td>\n",
       "      <td>6.0</td>\n",
       "      <td>-5.338</td>\n",
       "      <td>0.0</td>\n",
       "      <td>0.0557</td>\n",
       "      <td>0.3420</td>\n",
       "      <td>0.001010</td>\n",
       "      <td>0.3110</td>\n",
       "      <td>0.662</td>\n",
       "      <td>173.930</td>\n",
       "      <td>audio_features</td>\n",
       "      <td>4LRPiXqCikLlN15c3yImP7</td>\n",
       "      <td>https://api.spotify.com/v1/tracks/4LRPiXqCikLl...</td>\n",
       "      <td>https://api.spotify.com/v1/audio-analysis/4LRP...</td>\n",
       "      <td>167303.0</td>\n",
       "      <td>4.0</td>\n",
       "    </tr>\n",
       "    <tr>\n",
       "      <th>4</th>\n",
       "      <td>Shirt</td>\n",
       "      <td>0</td>\n",
       "      <td>3121081</td>\n",
       "      <td>359910</td>\n",
       "      <td>https://www.last.fm/music/SZA/_/Shirt</td>\n",
       "      <td>SZA</td>\n",
       "      <td>272989c8-5535-492d-a25c-9f58803e027f</td>\n",
       "      <td>0</td>\n",
       "      <td>NaN</td>\n",
       "      <td>spotify:track:34ZAzO78a5DAVNrYIGWcPm</td>\n",
       "      <td>0.824</td>\n",
       "      <td>0.453</td>\n",
       "      <td>3.0</td>\n",
       "      <td>-9.604</td>\n",
       "      <td>0.0</td>\n",
       "      <td>0.0968</td>\n",
       "      <td>0.1460</td>\n",
       "      <td>0.027300</td>\n",
       "      <td>0.0896</td>\n",
       "      <td>0.552</td>\n",
       "      <td>119.959</td>\n",
       "      <td>audio_features</td>\n",
       "      <td>34ZAzO78a5DAVNrYIGWcPm</td>\n",
       "      <td>https://api.spotify.com/v1/tracks/34ZAzO78a5DA...</td>\n",
       "      <td>https://api.spotify.com/v1/audio-analysis/34ZA...</td>\n",
       "      <td>181831.0</td>\n",
       "      <td>4.0</td>\n",
       "    </tr>\n",
       "  </tbody>\n",
       "</table>\n",
       "</div>"
      ],
      "text/plain": [
       "        name duration playcount listeners  \\\n",
       "0  Kill Bill        0   2946397    371889   \n",
       "1  Anti-Hero        0  10077122    560069   \n",
       "2        SOS        0    995490    307189   \n",
       "3  As It Was        0  20588530    909911   \n",
       "4      Shirt        0   3121081    359910   \n",
       "\n",
       "                                                 url        artist  \\\n",
       "0          https://www.last.fm/music/SZA/_/Kill+Bill           SZA   \n",
       "1  https://www.last.fm/music/Taylor+Swift/_/Anti-...  Taylor Swift   \n",
       "2                https://www.last.fm/music/SZA/_/SOS           SZA   \n",
       "3  https://www.last.fm/music/Harry+Styles/_/As+It...  Harry Styles   \n",
       "4              https://www.last.fm/music/SZA/_/Shirt           SZA   \n",
       "\n",
       "                                   MBID Streamable tags  \\\n",
       "0  272989c8-5535-492d-a25c-9f58803e027f          0  NaN   \n",
       "1  20244d07-534f-4eff-b4d4-930878889970          0  NaN   \n",
       "2  272989c8-5535-492d-a25c-9f58803e027f          0  NaN   \n",
       "3                                                0  NaN   \n",
       "4  272989c8-5535-492d-a25c-9f58803e027f          0  NaN   \n",
       "\n",
       "                                    URI  danceability  energy  key  loudness  \\\n",
       "0  spotify:track:3OHfY25tqY28d16oZczHc8         0.644   0.728  8.0    -5.750   \n",
       "1  spotify:track:0V3wPSX9ygBnCm8psDIegu         0.637   0.643  4.0    -6.571   \n",
       "2  spotify:track:5xMw6qCcpd2gBXPGTegC4W         0.507   0.657  7.0    -7.356   \n",
       "3  spotify:track:4LRPiXqCikLlN15c3yImP7         0.520   0.731  6.0    -5.338   \n",
       "4  spotify:track:34ZAzO78a5DAVNrYIGWcPm         0.824   0.453  3.0    -9.604   \n",
       "\n",
       "   mode  speechiness  acousticness  instrumentalness  liveness  valence  \\\n",
       "0   1.0       0.0351        0.0543          0.169000    0.1610    0.430   \n",
       "1   1.0       0.0519        0.1300          0.000002    0.1420    0.533   \n",
       "2   0.0       0.2330        0.6690          0.000007    0.0947    0.506   \n",
       "3   0.0       0.0557        0.3420          0.001010    0.3110    0.662   \n",
       "4   0.0       0.0968        0.1460          0.027300    0.0896    0.552   \n",
       "\n",
       "     tempo            type                      id  \\\n",
       "0   88.993  audio_features  3OHfY25tqY28d16oZczHc8   \n",
       "1   97.008  audio_features  0V3wPSX9ygBnCm8psDIegu   \n",
       "2  119.159  audio_features  5xMw6qCcpd2gBXPGTegC4W   \n",
       "3  173.930  audio_features  4LRPiXqCikLlN15c3yImP7   \n",
       "4  119.959  audio_features  34ZAzO78a5DAVNrYIGWcPm   \n",
       "\n",
       "                                          track_href  \\\n",
       "0  https://api.spotify.com/v1/tracks/3OHfY25tqY28...   \n",
       "1  https://api.spotify.com/v1/tracks/0V3wPSX9ygBn...   \n",
       "2  https://api.spotify.com/v1/tracks/5xMw6qCcpd2g...   \n",
       "3  https://api.spotify.com/v1/tracks/4LRPiXqCikLl...   \n",
       "4  https://api.spotify.com/v1/tracks/34ZAzO78a5DA...   \n",
       "\n",
       "                                        analysis_url  duration_ms  \\\n",
       "0  https://api.spotify.com/v1/audio-analysis/3OHf...     153947.0   \n",
       "1  https://api.spotify.com/v1/audio-analysis/0V3w...     200690.0   \n",
       "2  https://api.spotify.com/v1/audio-analysis/5xMw...     117773.0   \n",
       "3  https://api.spotify.com/v1/audio-analysis/4LRP...     167303.0   \n",
       "4  https://api.spotify.com/v1/audio-analysis/34ZA...     181831.0   \n",
       "\n",
       "   time_signature  \n",
       "0             4.0  \n",
       "1             4.0  \n",
       "2             1.0  \n",
       "3             4.0  \n",
       "4             4.0  "
      ]
     },
     "execution_count": 62,
     "metadata": {},
     "output_type": "execute_result"
    }
   ],
   "source": [
    "tracks.drop([0, 'uri', '_merge'], axis = 1, inplace=True)\n",
    "tracks.head()"
   ]
  }
 ],
 "metadata": {
  "kernelspec": {
   "display_name": "iron",
   "language": "python",
   "name": "python3"
  },
  "language_info": {
   "codemirror_mode": {
    "name": "ipython",
    "version": 3
   },
   "file_extension": ".py",
   "mimetype": "text/x-python",
   "name": "python",
   "nbconvert_exporter": "python",
   "pygments_lexer": "ipython3",
   "version": "3.9.13 (main, Oct 13 2022, 21:23:06) [MSC v.1916 64 bit (AMD64)]"
  },
  "orig_nbformat": 4,
  "vscode": {
   "interpreter": {
    "hash": "e59d0b279e6461be5b4ea7b62838527cd8f41f3cbc9a1147b1a83b32d75ab689"
   }
  }
 },
 "nbformat": 4,
 "nbformat_minor": 2
}
