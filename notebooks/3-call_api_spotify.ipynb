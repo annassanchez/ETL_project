{
 "cells": [
  {
   "cell_type": "code",
   "execution_count": 2,
   "metadata": {},
   "outputs": [],
   "source": [
    "import pandas as pd\n",
    "import numpy as np\n",
    "import requests\n",
    "import os \n",
    "from dotenv import load_dotenv\n",
    "import requests\n",
    "from tqdm import tqdm\n",
    "import pickle\n",
    "import json\n",
    "pd.options.display.max_columns = None"
   ]
  },
  {
   "cell_type": "code",
   "execution_count": 3,
   "metadata": {},
   "outputs": [],
   "source": [
    "import spotipy \n",
    "from spotipy.oauth2 import SpotifyClientCredentials ## para poner mis credenciales"
   ]
  },
  {
   "attachments": {},
   "cell_type": "markdown",
   "metadata": {},
   "source": [
    "# Importing pickle file"
   ]
  },
  {
   "cell_type": "code",
   "execution_count": 4,
   "metadata": {},
   "outputs": [],
   "source": [
    "with open('../data/pickle/artist.pickle', 'rb') as tracks:\n",
    "    tracks = pickle.load(tracks)"
   ]
  },
  {
   "cell_type": "code",
   "execution_count": 5,
   "metadata": {},
   "outputs": [
    {
     "data": {
      "text/html": [
       "<div>\n",
       "<style scoped>\n",
       "    .dataframe tbody tr th:only-of-type {\n",
       "        vertical-align: middle;\n",
       "    }\n",
       "\n",
       "    .dataframe tbody tr th {\n",
       "        vertical-align: top;\n",
       "    }\n",
       "\n",
       "    .dataframe thead th {\n",
       "        text-align: right;\n",
       "    }\n",
       "</style>\n",
       "<table border=\"1\" class=\"dataframe\">\n",
       "  <thead>\n",
       "    <tr style=\"text-align: right;\">\n",
       "      <th></th>\n",
       "      <th>url</th>\n",
       "      <th>artist_clean</th>\n",
       "      <th>track_clean</th>\n",
       "    </tr>\n",
       "  </thead>\n",
       "  <tbody>\n",
       "    <tr>\n",
       "      <th>0</th>\n",
       "      <td>https://open.spotify.com/track/4Km5HrUvYTaSUfi...</td>\n",
       "      <td>migos</td>\n",
       "      <td>bad and boujee (feat. lil uzi vert)</td>\n",
       "    </tr>\n",
       "    <tr>\n",
       "      <th>1</th>\n",
       "      <td>https://open.spotify.com/track/343YBumqHu19cGo...</td>\n",
       "      <td>drake</td>\n",
       "      <td>fake love</td>\n",
       "    </tr>\n",
       "    <tr>\n",
       "      <th>2</th>\n",
       "      <td>https://open.spotify.com/track/5aAx2yezTd8zXrk...</td>\n",
       "      <td>the weeknd, daft punk</td>\n",
       "      <td>starboy</td>\n",
       "    </tr>\n",
       "    <tr>\n",
       "      <th>3</th>\n",
       "      <td>https://open.spotify.com/track/7BKLCZ1jbUBVqRi...</td>\n",
       "      <td>the chainsmokers, halsey</td>\n",
       "      <td>closer</td>\n",
       "    </tr>\n",
       "    <tr>\n",
       "      <th>4</th>\n",
       "      <td>https://open.spotify.com/track/6fujklziTHa8uoM...</td>\n",
       "      <td>rae sremmurd, gucci mane</td>\n",
       "      <td>black beatles</td>\n",
       "    </tr>\n",
       "  </tbody>\n",
       "</table>\n",
       "</div>"
      ],
      "text/plain": [
       "                                                 url  \\\n",
       "0  https://open.spotify.com/track/4Km5HrUvYTaSUfi...   \n",
       "1  https://open.spotify.com/track/343YBumqHu19cGo...   \n",
       "2  https://open.spotify.com/track/5aAx2yezTd8zXrk...   \n",
       "3  https://open.spotify.com/track/7BKLCZ1jbUBVqRi...   \n",
       "4  https://open.spotify.com/track/6fujklziTHa8uoM...   \n",
       "\n",
       "               artist_clean                          track_clean  \n",
       "0                     migos  bad and boujee (feat. lil uzi vert)  \n",
       "1                     drake                            fake love  \n",
       "2     the weeknd, daft punk                              starboy  \n",
       "3  the chainsmokers, halsey                               closer  \n",
       "4  rae sremmurd, gucci mane                        black beatles  "
      ]
     },
     "execution_count": 5,
     "metadata": {},
     "output_type": "execute_result"
    }
   ],
   "source": [
    "tracks.head()"
   ]
  },
  {
   "cell_type": "code",
   "execution_count": 6,
   "metadata": {},
   "outputs": [
    {
     "data": {
      "text/html": [
       "<div>\n",
       "<style scoped>\n",
       "    .dataframe tbody tr th:only-of-type {\n",
       "        vertical-align: middle;\n",
       "    }\n",
       "\n",
       "    .dataframe tbody tr th {\n",
       "        vertical-align: top;\n",
       "    }\n",
       "\n",
       "    .dataframe thead th {\n",
       "        text-align: right;\n",
       "    }\n",
       "</style>\n",
       "<table border=\"1\" class=\"dataframe\">\n",
       "  <thead>\n",
       "    <tr style=\"text-align: right;\">\n",
       "      <th></th>\n",
       "      <th>url</th>\n",
       "      <th>artist</th>\n",
       "      <th>track</th>\n",
       "    </tr>\n",
       "  </thead>\n",
       "  <tbody>\n",
       "    <tr>\n",
       "      <th>0</th>\n",
       "      <td>https://open.spotify.com/track/4Km5HrUvYTaSUfi...</td>\n",
       "      <td>migos</td>\n",
       "      <td>bad and boujee (feat. lil uzi vert)</td>\n",
       "    </tr>\n",
       "    <tr>\n",
       "      <th>1</th>\n",
       "      <td>https://open.spotify.com/track/343YBumqHu19cGo...</td>\n",
       "      <td>drake</td>\n",
       "      <td>fake love</td>\n",
       "    </tr>\n",
       "    <tr>\n",
       "      <th>2</th>\n",
       "      <td>https://open.spotify.com/track/5aAx2yezTd8zXrk...</td>\n",
       "      <td>the weeknd, daft punk</td>\n",
       "      <td>starboy</td>\n",
       "    </tr>\n",
       "    <tr>\n",
       "      <th>3</th>\n",
       "      <td>https://open.spotify.com/track/7BKLCZ1jbUBVqRi...</td>\n",
       "      <td>the chainsmokers, halsey</td>\n",
       "      <td>closer</td>\n",
       "    </tr>\n",
       "    <tr>\n",
       "      <th>4</th>\n",
       "      <td>https://open.spotify.com/track/6fujklziTHa8uoM...</td>\n",
       "      <td>rae sremmurd, gucci mane</td>\n",
       "      <td>black beatles</td>\n",
       "    </tr>\n",
       "  </tbody>\n",
       "</table>\n",
       "</div>"
      ],
      "text/plain": [
       "                                                 url  \\\n",
       "0  https://open.spotify.com/track/4Km5HrUvYTaSUfi...   \n",
       "1  https://open.spotify.com/track/343YBumqHu19cGo...   \n",
       "2  https://open.spotify.com/track/5aAx2yezTd8zXrk...   \n",
       "3  https://open.spotify.com/track/7BKLCZ1jbUBVqRi...   \n",
       "4  https://open.spotify.com/track/6fujklziTHa8uoM...   \n",
       "\n",
       "                     artist                                track  \n",
       "0                     migos  bad and boujee (feat. lil uzi vert)  \n",
       "1                     drake                            fake love  \n",
       "2     the weeknd, daft punk                              starboy  \n",
       "3  the chainsmokers, halsey                               closer  \n",
       "4  rae sremmurd, gucci mane                        black beatles  "
      ]
     },
     "execution_count": 6,
     "metadata": {},
     "output_type": "execute_result"
    }
   ],
   "source": [
    "tracks.rename(columns={'track_clean':'track','artist_clean':'artist'}, inplace=True)\n",
    "tracks.head()"
   ]
  },
  {
   "attachments": {},
   "cell_type": "markdown",
   "metadata": {},
   "source": [
    "# spotify\n",
    "Aquí está la docu: https://spotipy.readthedocs.io/en/2.22.0/#\n",
    "\n",
    "Configuro el cliente y le metó las keys para acceder a la API de Spotify y poder sacar datos de las canciones que tengo"
   ]
  },
  {
   "cell_type": "code",
   "execution_count": 7,
   "metadata": {},
   "outputs": [
    {
     "data": {
      "text/plain": [
       "True"
      ]
     },
     "execution_count": 7,
     "metadata": {},
     "output_type": "execute_result"
    }
   ],
   "source": [
    "load_dotenv()"
   ]
  },
  {
   "cell_type": "code",
   "execution_count": 8,
   "metadata": {},
   "outputs": [],
   "source": [
    "id = os.getenv(\"id\")\n",
    "secret = os.getenv(\"secret\")\n",
    "\n",
    "client_credentials_manager = SpotifyClientCredentials(client_id=id, client_secret=secret)\n",
    "sp = spotipy.Spotify(client_credentials_manager=client_credentials_manager, requests_timeout=10, retries=10)"
   ]
  },
  {
   "attachments": {},
   "cell_type": "markdown",
   "metadata": {},
   "source": [
    "See if Spotify is available"
   ]
  },
  {
   "cell_type": "code",
   "execution_count": 10,
   "metadata": {},
   "outputs": [
    {
     "ename": "TooManyRequests",
     "evalue": "Error in https://api.spotify.com/v1/albums/3RBULTZJ97bvVzZLpxcB0j:\n429: \n",
     "output_type": "error",
     "traceback": [
      "\u001b[1;31m---------------------------------------------------------------------------\u001b[0m",
      "\u001b[1;31mTooManyRequests\u001b[0m                           Traceback (most recent call last)",
      "Cell \u001b[1;32mIn [10], line 6\u001b[0m\n\u001b[0;32m      3\u001b[0m app_token \u001b[39m=\u001b[39m tk\u001b[39m.\u001b[39mrequest_client_token(\u001b[39mid\u001b[39m, secret)\n\u001b[0;32m      4\u001b[0m spotify \u001b[39m=\u001b[39m tk\u001b[39m.\u001b[39mSpotify(app_token)\n\u001b[1;32m----> 6\u001b[0m album \u001b[39m=\u001b[39m spotify\u001b[39m.\u001b[39;49malbum(\u001b[39m'\u001b[39;49m\u001b[39m3RBULTZJ97bvVzZLpxcB0j\u001b[39;49m\u001b[39m'\u001b[39;49m)\n",
      "File \u001b[1;32mc:\\Users\\annas\\anaconda3\\envs\\iron\\lib\\site-packages\\tekore\\_sender\\client.py:89\u001b[0m, in \u001b[0;36msend_and_process.<locals>.decorator.<locals>.wrapper\u001b[1;34m(self, *args, **kwargs)\u001b[0m\n\u001b[0;32m     86\u001b[0m     \u001b[39mreturn\u001b[39;00m async_send(\u001b[39mself\u001b[39m, request, params)\n\u001b[0;32m     88\u001b[0m response \u001b[39m=\u001b[39m \u001b[39mself\u001b[39m\u001b[39m.\u001b[39msend(request)\n\u001b[1;32m---> 89\u001b[0m \u001b[39mreturn\u001b[39;00m try_post_func(request, response, \u001b[39m*\u001b[39;49mparams)\n",
      "File \u001b[1;32mc:\\Users\\annas\\anaconda3\\envs\\iron\\lib\\site-packages\\tekore\\_sender\\client.py:70\u001b[0m, in \u001b[0;36msend_and_process.<locals>.decorator.<locals>.try_post_func\u001b[1;34m(*args, **kwargs)\u001b[0m\n\u001b[0;32m     68\u001b[0m \u001b[39mdef\u001b[39;00m \u001b[39mtry_post_func\u001b[39m(\u001b[39m*\u001b[39margs, \u001b[39m*\u001b[39m\u001b[39m*\u001b[39mkwargs):\n\u001b[0;32m     69\u001b[0m     \u001b[39mtry\u001b[39;00m:\n\u001b[1;32m---> 70\u001b[0m         \u001b[39mreturn\u001b[39;00m post_func(\u001b[39m*\u001b[39margs, \u001b[39m*\u001b[39m\u001b[39m*\u001b[39mkwargs)\n\u001b[0;32m     71\u001b[0m     \u001b[39mexcept\u001b[39;00m Unauthorised \u001b[39mas\u001b[39;00m e:\n\u001b[0;32m     72\u001b[0m         e\u001b[39m.\u001b[39mscope \u001b[39m=\u001b[39m wrapper\u001b[39m.\u001b[39mscope\n",
      "File \u001b[1;32mc:\\Users\\annas\\anaconda3\\envs\\iron\\lib\\site-packages\\tekore\\_client\\decor\\__init__.py:19\u001b[0m, in \u001b[0;36msend_and_process.<locals>.parse_response\u001b[1;34m(request, response)\u001b[0m\n\u001b[0;32m     18\u001b[0m \u001b[39mdef\u001b[39;00m \u001b[39mparse_response\u001b[39m(request, response):\n\u001b[1;32m---> 19\u001b[0m     handle_errors(request, response)\n\u001b[0;32m     20\u001b[0m     \u001b[39mreturn\u001b[39;00m post_func(response\u001b[39m.\u001b[39mcontent)\n",
      "File \u001b[1;32mc:\\Users\\annas\\anaconda3\\envs\\iron\\lib\\site-packages\\tekore\\_client\\decor\\handle.py:33\u001b[0m, in \u001b[0;36mhandle_errors\u001b[1;34m(request, response)\u001b[0m\n\u001b[0;32m     27\u001b[0m error_str \u001b[39m=\u001b[39m error_format\u001b[39m.\u001b[39mformat(\n\u001b[0;32m     28\u001b[0m     url\u001b[39m=\u001b[39mresponse\u001b[39m.\u001b[39murl,\n\u001b[0;32m     29\u001b[0m     code\u001b[39m=\u001b[39mresponse\u001b[39m.\u001b[39mstatus_code,\n\u001b[0;32m     30\u001b[0m     msg\u001b[39m=\u001b[39mparse_error_reason(response)\n\u001b[0;32m     31\u001b[0m )\n\u001b[0;32m     32\u001b[0m error_cls \u001b[39m=\u001b[39m get_error(response\u001b[39m.\u001b[39mstatus_code)\n\u001b[1;32m---> 33\u001b[0m \u001b[39mraise\u001b[39;00m error_cls(error_str, request\u001b[39m=\u001b[39mrequest, response\u001b[39m=\u001b[39mresponse)\n",
      "\u001b[1;31mTooManyRequests\u001b[0m: Error in https://api.spotify.com/v1/albums/3RBULTZJ97bvVzZLpxcB0j:\n429: \n"
     ]
    }
   ],
   "source": [
    "import tekore as tk\n",
    "\n",
    "app_token = tk.request_client_token(id, secret)\n",
    "spotify = tk.Spotify(app_token)\n",
    "\n",
    "album = spotify.album('3RBULTZJ97bvVzZLpxcB0j')"
   ]
  },
  {
   "attachments": {},
   "cell_type": "markdown",
   "metadata": {},
   "source": [
    "# API calls"
   ]
  },
  {
   "attachments": {},
   "cell_type": "markdown",
   "metadata": {},
   "source": [
    "Primero voy a sacar el URI de mis canciones. Para ello uso el método de spotipy.search, que permite buscar con una query el nombre del artista y la canción."
   ]
  },
  {
   "cell_type": "code",
   "execution_count": 10,
   "metadata": {},
   "outputs": [],
   "source": [
    "## esto es para obtener una uri --> me voy a sacar los uris para mi data frame\n",
    "artist = 'alan walker'\n",
    "track = 'alone'\n",
    "q = 'artist:{} track: {}'.format(artist, track)\n",
    "results = sp.search(q=q, limit=1, type='track')\n",
    "print(results['tracks']['items'][0]['uri'])"
   ]
  },
  {
   "cell_type": "code",
   "execution_count": null,
   "metadata": {},
   "outputs": [],
   "source": [
    "results['tracks']['items'][0]['popularity']"
   ]
  },
  {
   "cell_type": "code",
   "execution_count": null,
   "metadata": {},
   "outputs": [],
   "source": [
    "results['tracks']['items'][0]['album']['release_date']"
   ]
  },
  {
   "cell_type": "code",
   "execution_count": null,
   "metadata": {},
   "outputs": [],
   "source": [
    "for index, row in tracks.iterrows():\n",
    "    print(row['artist'],'---', row['track'])\n",
    "    break"
   ]
  },
  {
   "cell_type": "code",
   "execution_count": null,
   "metadata": {},
   "outputs": [],
   "source": [
    "tqdm.pandas()\n",
    "\n",
    "uris = []\n",
    "for index, row in tqdm(tracks.iterrows(), total = tracks.shape[0]):\n",
    "    q = 'artist:{} track: {}'.format(row['artist'].split(',')[0], row['track'])\n",
    "    res = sp.search(q=q, limit=1, type='track')\n",
    "    try:\n",
    "        uri = res['tracks']['items'][0]['uri']\n",
    "        #print(res['tracks']['items'][0]['uri'])\n",
    "        uris.append(uri)\n",
    "    except:\n",
    "        uris.append('')\n",
    "    #break"
   ]
  },
  {
   "attachments": {},
   "cell_type": "markdown",
   "metadata": {},
   "source": [
    "Getting URIs + popularity + release_date"
   ]
  },
  {
   "cell_type": "code",
   "execution_count": null,
   "metadata": {},
   "outputs": [],
   "source": [
    "dict_popu_search = {\n",
    "    'url':[],\n",
    "    'uri':[],\n",
    "    'popu':[],\n",
    "    'date':[]\n",
    "}"
   ]
  },
  {
   "cell_type": "code",
   "execution_count": null,
   "metadata": {},
   "outputs": [],
   "source": [
    "tqdm.pandas()\n",
    "\n",
    "#uris = []\n",
    "for index, row in tqdm(tracks.iterrows(), total = tracks.shape[0]):\n",
    "    q = 'artist:{} track: {}'.format(row['artist'].split(',')[0], row['track'])\n",
    "    res = sp.search(q=q, limit=1, type='track')\n",
    "    dict_popu_search['url'].append(row['url'])\n",
    "    try:\n",
    "        dict_popu_search['uri'].append(res['tracks']['items'][0]['uri'])\n",
    "        dict_popu_search['popu'].append(res['tracks']['items'][0]['popularity'])\n",
    "        dict_popu_search['date'].append(res['tracks']['items'][0]['album']['release_date'])\n",
    "    except:\n",
    "        dict_popu_search['uri'].append('')\n",
    "        dict_popu_search['popu'].append('')\n",
    "        dict_popu_search['date'].append('')\n",
    "    #break"
   ]
  },
  {
   "cell_type": "code",
   "execution_count": null,
   "metadata": {},
   "outputs": [],
   "source": [
    "pd.DataFrame(dict_popu_search)"
   ]
  },
  {
   "cell_type": "code",
   "execution_count": null,
   "metadata": {},
   "outputs": [],
   "source": [
    "df_datos = pd.DataFrame(dict_popu_search)\n",
    "df_uris[columnas] = df_uris[0].apply(pd.Series)\n",
    "df_uris.head()"
   ]
  },
  {
   "attachments": {},
   "cell_type": "markdown",
   "metadata": {},
   "source": [
    "Voy a comprobar que la lista donde me he appendeado todo tiene la misma longitud que mi dataframe, para poder añadir los URIs como una columna"
   ]
  },
  {
   "cell_type": "code",
   "execution_count": null,
   "metadata": {},
   "outputs": [],
   "source": [
    "uris[:3]"
   ]
  },
  {
   "cell_type": "code",
   "execution_count": null,
   "metadata": {},
   "outputs": [],
   "source": [
    "print(len(uris), tracks.shape)"
   ]
  },
  {
   "cell_type": "code",
   "execution_count": null,
   "metadata": {},
   "outputs": [],
   "source": [
    "tracks['URI'] = uris\n",
    "tracks.head()"
   ]
  },
  {
   "attachments": {},
   "cell_type": "markdown",
   "metadata": {},
   "source": [
    "Ahora con el método `'audio_features'` de spotipy quiero sacar las propiedades que tienen las canciones. Para ello, tengo que aportar:\n",
    "- `URI`\n",
    "\n",
    "Y el resultado de cada una de mis consultas, lo almacenaré en una lista de listas que luego appendearé a mi dataframe."
   ]
  },
  {
   "cell_type": "code",
   "execution_count": null,
   "metadata": {},
   "outputs": [],
   "source": [
    "sp.audio_features('spotify:track:3OHfY25tqY28d16oZczHc8')"
   ]
  },
  {
   "cell_type": "code",
   "execution_count": null,
   "metadata": {},
   "outputs": [],
   "source": [
    "type(sp.audio_features('spotify:track:3OHfY25tqY28d16oZczHc8'))"
   ]
  },
  {
   "cell_type": "code",
   "execution_count": null,
   "metadata": {},
   "outputs": [],
   "source": [
    "datos_uris = []\n",
    "for index, row in tqdm(tracks.iterrows(), total = tracks.shape[0]):\n",
    "    uri = sp.audio_features(row['URI'])\n",
    "    datos_uris.append(uri)"
   ]
  },
  {
   "attachments": {},
   "cell_type": "markdown",
   "metadata": {},
   "source": [
    "Y tengo mis datos sobre las canciones, pero tengo que limpiar un poco para poder hacer el append."
   ]
  },
  {
   "cell_type": "code",
   "execution_count": null,
   "metadata": {},
   "outputs": [],
   "source": [
    "type(pd.DataFrame(datos_uris).iloc[0,0]) ## puedo sacar las claves para nombrar a mis columnas"
   ]
  },
  {
   "cell_type": "code",
   "execution_count": null,
   "metadata": {},
   "outputs": [],
   "source": [
    "columnas = list(pd.DataFrame(datos_uris).iloc[0,0].keys())\n",
    "columnas[:5]"
   ]
  },
  {
   "cell_type": "code",
   "execution_count": null,
   "metadata": {},
   "outputs": [],
   "source": [
    "df_uris = pd.DataFrame(datos_uris)\n",
    "df_uris[columnas] = df_uris[0].apply(pd.Series)\n",
    "df_uris.head()"
   ]
  },
  {
   "attachments": {},
   "cell_type": "markdown",
   "metadata": {},
   "source": [
    "Lo junto ahora con mi dataframe inicial y limpio las columnas que no necesite."
   ]
  },
  {
   "cell_type": "code",
   "execution_count": null,
   "metadata": {},
   "outputs": [],
   "source": [
    "tracks = tracks.merge(df_uris, left_on = 'URI', right_on='uri', indicator=True)\n",
    "tracks['_merge'].value_counts() ## compruebo que el cruce se haga con éxito"
   ]
  },
  {
   "cell_type": "code",
   "execution_count": null,
   "metadata": {},
   "outputs": [],
   "source": [
    "tracks.drop([0, 'uri', '_merge'], axis = 1, inplace=True)\n",
    "tracks.head()"
   ]
  },
  {
   "attachments": {},
   "cell_type": "markdown",
   "metadata": {},
   "source": [
    "llamando a la api"
   ]
  },
  {
   "cell_type": "code",
   "execution_count": null,
   "metadata": {},
   "outputs": [],
   "source": [
    "SEARCH_PLAYLIST_ENDPOINT ='https://api.spotify.com/v1/search?type=playlist'\n",
    "AUDIO_FEATURES_ENDPOINT = 'https://api.spotify.com/v1/audio-features/{id}'\n",
    "TRACKS_ENDPOINT = 'https://api.spotify.com/v1/tracks/id'"
   ]
  },
  {
   "cell_type": "code",
   "execution_count": null,
   "metadata": {},
   "outputs": [],
   "source": [
    "def search_playlist(name):\n",
    "    path = 'token.json'\n",
    "    with open(path) as t:\n",
    "        token = json.load(t)\n",
    "    myparams = {'type': 'playlilst'}\n",
    "    myparams['q'] = name\n",
    "    resp = requests.get(SEARCH_PLAYLIST_ENDPOINT, params=myparams, headers={\"Authorization\": \"Bearer {}\".format(token)})\n",
    "    return resp.json()\n",
    "\n"
   ]
  },
  {
   "cell_type": "code",
   "execution_count": null,
   "metadata": {},
   "outputs": [],
   "source": [
    "def get_audio_features(track_id):\n",
    "    path = 'token.json'\n",
    "    with open(path) as t:\n",
    "        token = json.load(t)\n",
    "    url = AUDIO_FEATURES_ENDPOINT.format(id=track_id)\n",
    "    resp = requests.get(url, headers={\"Authorization\": \"Bearer {}\".format(secret)})\n",
    "    return resp.json()\n"
   ]
  },
  {
   "cell_type": "code",
   "execution_count": null,
   "metadata": {},
   "outputs": [],
   "source": [
    "get_audio_features(uris[0])"
   ]
  },
  {
   "attachments": {},
   "cell_type": "markdown",
   "metadata": {},
   "source": [
    "# Export"
   ]
  },
  {
   "cell_type": "code",
   "execution_count": null,
   "metadata": {},
   "outputs": [],
   "source": [
    "with open('../data/pickle/spotify.pickle', 'wb') as data_spotify:\n",
    "    pickle.dump(tracks, data_spotify)"
   ]
  }
 ],
 "metadata": {
  "kernelspec": {
   "display_name": "iron",
   "language": "python",
   "name": "python3"
  },
  "language_info": {
   "codemirror_mode": {
    "name": "ipython",
    "version": 3
   },
   "file_extension": ".py",
   "mimetype": "text/x-python",
   "name": "python",
   "nbconvert_exporter": "python",
   "pygments_lexer": "ipython3",
   "version": "3.9.13 (main, Oct 13 2022, 21:23:06) [MSC v.1916 64 bit (AMD64)]"
  },
  "orig_nbformat": 4,
  "vscode": {
   "interpreter": {
    "hash": "e59d0b279e6461be5b4ea7b62838527cd8f41f3cbc9a1147b1a83b32d75ab689"
   }
  }
 },
 "nbformat": 4,
 "nbformat_minor": 2
}
