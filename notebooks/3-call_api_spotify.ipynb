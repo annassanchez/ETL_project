{
 "cells": [
  {
   "cell_type": "code",
   "execution_count": null,
   "metadata": {},
   "outputs": [],
   "source": [
    "import pandas as pd\n",
    "import numpy as np\n",
    "import requests\n",
    "import os \n",
    "from dotenv import load_dotenv\n",
    "import requests\n",
    "from tqdm import tqdm\n",
    "import pickle\n",
    "import json\n",
    "pd.options.display.max_columns = None"
   ]
  },
  {
   "cell_type": "code",
   "execution_count": null,
   "metadata": {},
   "outputs": [],
   "source": [
    "import spotipy \n",
    "from spotipy.oauth2 import SpotifyClientCredentials ## para poner mis credenciales"
   ]
  },
  {
   "attachments": {},
   "cell_type": "markdown",
   "metadata": {},
   "source": [
    "# Importing pickle file"
   ]
  },
  {
   "cell_type": "code",
   "execution_count": null,
   "metadata": {},
   "outputs": [],
   "source": [
    "with open('../data/pickle/artist.pickle', 'rb') as tracks:\n",
    "    tracks = pickle.load(tracks)"
   ]
  },
  {
   "cell_type": "code",
   "execution_count": null,
   "metadata": {},
   "outputs": [],
   "source": [
    "tracks.head()"
   ]
  },
  {
   "cell_type": "code",
   "execution_count": null,
   "metadata": {},
   "outputs": [],
   "source": [
    "tracks.rename(columns={'track_clean':'track','artist_clean':'artist'}, inplace=True)\n",
    "tracks.head()"
   ]
  },
  {
   "attachments": {},
   "cell_type": "markdown",
   "metadata": {},
   "source": [
    "# spotify\n",
    "Aquí está la docu: https://spotipy.readthedocs.io/en/2.22.0/#\n",
    "\n",
    "Configuro el cliente y le metó las keys para acceder a la API de Spotify y poder sacar datos de las canciones que tengo"
   ]
  },
  {
   "cell_type": "code",
   "execution_count": null,
   "metadata": {},
   "outputs": [],
   "source": [
    "load_dotenv()"
   ]
  },
  {
   "cell_type": "code",
   "execution_count": null,
   "metadata": {},
   "outputs": [],
   "source": [
    "id = os.getenv(\"id\")\n",
    "secret = os.getenv(\"secret\")\n",
    "\n",
    "client_credentials_manager = SpotifyClientCredentials(client_id=id, client_secret=secret)\n",
    "sp = spotipy.Spotify(client_credentials_manager=client_credentials_manager, requests_timeout=10, retries=10)"
   ]
  },
  {
   "attachments": {},
   "cell_type": "markdown",
   "metadata": {},
   "source": [
    "# API calls"
   ]
  },
  {
   "attachments": {},
   "cell_type": "markdown",
   "metadata": {},
   "source": [
    "Primero voy a sacar el URI de mis canciones. Para ello uso el método de spotipy.search, que permite buscar con una query el nombre del artista y la canción."
   ]
  },
  {
   "cell_type": "code",
   "execution_count": null,
   "metadata": {},
   "outputs": [],
   "source": [
    "## esto es para obtener una uri --> me voy a sacar los uris para mi data frame\n",
    "artist = 'alan walker'\n",
    "track = 'alone'\n",
    "q = 'artist:{} track: {}'.format(artist, track)\n",
    "results = sp.search(q=q, limit=1, type='track')\n",
    "print(results['tracks']['items'][0]['uri'])"
   ]
  },
  {
   "cell_type": "code",
   "execution_count": null,
   "metadata": {},
   "outputs": [],
   "source": [
    "results['tracks']['items'][0]['popularity']"
   ]
  },
  {
   "cell_type": "code",
   "execution_count": null,
   "metadata": {},
   "outputs": [],
   "source": [
    "results['tracks']['items'][0]['album']['release_date']"
   ]
  },
  {
   "cell_type": "code",
   "execution_count": null,
   "metadata": {},
   "outputs": [],
   "source": [
    "for index, row in tracks.iterrows():\n",
    "    print(row['artist'],'---', row['track'])\n",
    "    break"
   ]
  },
  {
   "cell_type": "code",
   "execution_count": null,
   "metadata": {},
   "outputs": [],
   "source": [
    "tqdm.pandas()\n",
    "\n",
    "uris = []\n",
    "for index, row in tqdm(tracks.iterrows(), total = tracks.shape[0]):\n",
    "    q = 'artist:{} track: {}'.format(row['artist'].split(',')[0], row['track'])\n",
    "    res = sp.search(q=q, limit=1, type='track')\n",
    "    try:\n",
    "        uri = res['tracks']['items'][0]['uri']\n",
    "        #print(res['tracks']['items'][0]['uri'])\n",
    "        uris.append(uri)\n",
    "    except:\n",
    "        uris.append('')\n",
    "    #break"
   ]
  },
  {
   "attachments": {},
   "cell_type": "markdown",
   "metadata": {},
   "source": [
    "Getting URIs + popularity + release_date"
   ]
  },
  {
   "cell_type": "code",
   "execution_count": null,
   "metadata": {},
   "outputs": [],
   "source": [
    "dict_popu_search = {\n",
    "    'url':[],\n",
    "    'uri':[],\n",
    "    'popu':[],\n",
    "    'date':[]\n",
    "}"
   ]
  },
  {
   "cell_type": "code",
   "execution_count": null,
   "metadata": {},
   "outputs": [],
   "source": [
    "tqdm.pandas()\n",
    "\n",
    "#uris = []\n",
    "for index, row in tqdm(tracks.iterrows(), total = tracks.shape[0]):\n",
    "    q = 'artist:{} track: {}'.format(row['artist'].split(',')[0], row['track'])\n",
    "    res = sp.search(q=q, limit=1, type='track')\n",
    "    dict_popu_search['url'].append(row['url'])\n",
    "    try:\n",
    "        dict_popu_search['uri'].append(res['tracks']['items'][0]['uri'])\n",
    "        dict_popu_search['popu'].append(res['tracks']['items'][0]['popularity'])\n",
    "        dict_popu_search['date'].append(res['tracks']['items'][0]['album']['release_date'])\n",
    "    except:\n",
    "        dict_popu_search['uri'].append('')\n",
    "        dict_popu_search['popu'].append('')\n",
    "        dict_popu_search['date'].append('')\n",
    "    #break"
   ]
  },
  {
   "cell_type": "code",
   "execution_count": null,
   "metadata": {},
   "outputs": [],
   "source": [
    "pd.DataFrame(dict_popu_search)"
   ]
  },
  {
   "cell_type": "code",
   "execution_count": null,
   "metadata": {},
   "outputs": [],
   "source": [
    "df_datos = pd.DataFrame(dict_popu_search)\n",
    "df_uris[columnas] = df_uris[0].apply(pd.Series)\n",
    "df_uris.head()"
   ]
  },
  {
   "attachments": {},
   "cell_type": "markdown",
   "metadata": {},
   "source": [
    "Voy a comprobar que la lista donde me he appendeado todo tiene la misma longitud que mi dataframe, para poder añadir los URIs como una columna"
   ]
  },
  {
   "cell_type": "code",
   "execution_count": null,
   "metadata": {},
   "outputs": [],
   "source": [
    "uris[:3]"
   ]
  },
  {
   "cell_type": "code",
   "execution_count": null,
   "metadata": {},
   "outputs": [],
   "source": [
    "print(len(uris), tracks.shape)"
   ]
  },
  {
   "cell_type": "code",
   "execution_count": null,
   "metadata": {},
   "outputs": [],
   "source": [
    "tracks['URI'] = uris\n",
    "tracks.head()"
   ]
  },
  {
   "attachments": {},
   "cell_type": "markdown",
   "metadata": {},
   "source": [
    "Ahora con el método `'audio_features'` de spotipy quiero sacar las propiedades que tienen las canciones. Para ello, tengo que aportar:\n",
    "- `URI`\n",
    "\n",
    "Y el resultado de cada una de mis consultas, lo almacenaré en una lista de listas que luego appendearé a mi dataframe."
   ]
  },
  {
   "cell_type": "code",
   "execution_count": null,
   "metadata": {},
   "outputs": [],
   "source": [
    "sp.audio_features('spotify:track:3OHfY25tqY28d16oZczHc8')"
   ]
  },
  {
   "cell_type": "code",
   "execution_count": null,
   "metadata": {},
   "outputs": [],
   "source": [
    "type(sp.audio_features('spotify:track:3OHfY25tqY28d16oZczHc8'))"
   ]
  },
  {
   "cell_type": "code",
   "execution_count": null,
   "metadata": {},
   "outputs": [],
   "source": [
    "datos_uris = []\n",
    "for index, row in tqdm(tracks.iterrows(), total = tracks.shape[0]):\n",
    "    uri = sp.audio_features(row['URI'])\n",
    "    datos_uris.append(uri)"
   ]
  },
  {
   "attachments": {},
   "cell_type": "markdown",
   "metadata": {},
   "source": [
    "Y tengo mis datos sobre las canciones, pero tengo que limpiar un poco para poder hacer el append."
   ]
  },
  {
   "cell_type": "code",
   "execution_count": null,
   "metadata": {},
   "outputs": [],
   "source": [
    "type(pd.DataFrame(datos_uris).iloc[0,0]) ## puedo sacar las claves para nombrar a mis columnas"
   ]
  },
  {
   "cell_type": "code",
   "execution_count": null,
   "metadata": {},
   "outputs": [],
   "source": [
    "columnas = list(pd.DataFrame(datos_uris).iloc[0,0].keys())\n",
    "columnas[:5]"
   ]
  },
  {
   "cell_type": "code",
   "execution_count": null,
   "metadata": {},
   "outputs": [],
   "source": [
    "df_uris = pd.DataFrame(datos_uris)\n",
    "df_uris[columnas] = df_uris[0].apply(pd.Series)\n",
    "df_uris.head()"
   ]
  },
  {
   "attachments": {},
   "cell_type": "markdown",
   "metadata": {},
   "source": [
    "Lo junto ahora con mi dataframe inicial y limpio las columnas que no necesite."
   ]
  },
  {
   "cell_type": "code",
   "execution_count": null,
   "metadata": {},
   "outputs": [],
   "source": [
    "tracks = tracks.merge(df_uris, left_on = 'URI', right_on='uri', indicator=True)\n",
    "tracks['_merge'].value_counts() ## compruebo que el cruce se haga con éxito"
   ]
  },
  {
   "cell_type": "code",
   "execution_count": null,
   "metadata": {},
   "outputs": [],
   "source": [
    "tracks.drop([0, 'uri', '_merge'], axis = 1, inplace=True)\n",
    "tracks.head()"
   ]
  },
  {
   "attachments": {},
   "cell_type": "markdown",
   "metadata": {},
   "source": [
    "llamando a la api"
   ]
  },
  {
   "cell_type": "code",
   "execution_count": null,
   "metadata": {},
   "outputs": [],
   "source": [
    "SEARCH_PLAYLIST_ENDPOINT ='https://api.spotify.com/v1/search?type=playlist'\n",
    "AUDIO_FEATURES_ENDPOINT = 'https://api.spotify.com/v1/audio-features/{id}'\n",
    "TRACKS_ENDPOINT = 'https://api.spotify.com/v1/tracks/id'"
   ]
  },
  {
   "cell_type": "code",
   "execution_count": null,
   "metadata": {},
   "outputs": [],
   "source": [
    "def search_playlist(name):\n",
    "    path = 'token.json'\n",
    "    with open(path) as t:\n",
    "        token = json.load(t)\n",
    "    myparams = {'type': 'playlilst'}\n",
    "    myparams['q'] = name\n",
    "    resp = requests.get(SEARCH_PLAYLIST_ENDPOINT, params=myparams, headers={\"Authorization\": \"Bearer {}\".format(token)})\n",
    "    return resp.json()\n",
    "\n"
   ]
  },
  {
   "cell_type": "code",
   "execution_count": null,
   "metadata": {},
   "outputs": [],
   "source": [
    "def get_audio_features(track_id):\n",
    "    path = 'token.json'\n",
    "    with open(path) as t:\n",
    "        token = json.load(t)\n",
    "    url = AUDIO_FEATURES_ENDPOINT.format(id=track_id)\n",
    "    resp = requests.get(url, headers={\"Authorization\": \"Bearer {}\".format(secret)})\n",
    "    return resp.json()\n"
   ]
  },
  {
   "cell_type": "code",
   "execution_count": null,
   "metadata": {},
   "outputs": [],
   "source": [
    "get_audio_features(uris[0])"
   ]
  },
  {
   "attachments": {},
   "cell_type": "markdown",
   "metadata": {},
   "source": [
    "# Export"
   ]
  },
  {
   "cell_type": "code",
   "execution_count": null,
   "metadata": {},
   "outputs": [],
   "source": [
    "with open('../data/pickle/spotify.pickle', 'wb') as data_spotify:\n",
    "    pickle.dump(tracks, data_spotify)"
   ]
  }
 ],
 "metadata": {
  "kernelspec": {
   "display_name": "iron",
   "language": "python",
   "name": "python3"
  },
  "language_info": {
   "codemirror_mode": {
    "name": "ipython",
    "version": 3
   },
   "file_extension": ".py",
   "mimetype": "text/x-python",
   "name": "python",
   "nbconvert_exporter": "python",
   "pygments_lexer": "ipython3",
   "version": "3.9.13 (main, Oct 13 2022, 21:23:06) [MSC v.1916 64 bit (AMD64)]"
  },
  "orig_nbformat": 4,
  "vscode": {
   "interpreter": {
    "hash": "e59d0b279e6461be5b4ea7b62838527cd8f41f3cbc9a1147b1a83b32d75ab689"
   }
  }
 },
 "nbformat": 4,
 "nbformat_minor": 2
}
