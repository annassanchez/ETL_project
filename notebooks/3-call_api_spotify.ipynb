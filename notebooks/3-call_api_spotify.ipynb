{
 "cells": [
  {
   "cell_type": "code",
   "execution_count": 2,
   "metadata": {},
   "outputs": [],
   "source": [
    "import pandas as pd\n",
    "import numpy as np\n",
    "import requests\n",
    "import os \n",
    "from dotenv import load_dotenv\n",
    "import requests\n",
    "from tqdm import tqdm\n",
    "import pickle\n",
    "import json\n",
    "pd.options.display.max_columns = None"
   ]
  },
  {
   "cell_type": "code",
   "execution_count": 3,
   "metadata": {},
   "outputs": [],
   "source": [
    "import spotipy \n",
    "from spotipy.oauth2 import SpotifyClientCredentials ## para poner mis credenciales"
   ]
  },
  {
   "attachments": {},
   "cell_type": "markdown",
   "metadata": {},
   "source": [
    "# Importing pickle file"
   ]
  },
  {
   "cell_type": "code",
   "execution_count": 4,
   "metadata": {},
   "outputs": [],
   "source": [
    "with open('../data/pickle/spotify_dataset.pickle', 'rb') as tracks:\n",
    "    tracks = pickle.load(tracks)"
   ]
  },
  {
   "cell_type": "code",
   "execution_count": 5,
   "metadata": {},
   "outputs": [
    {
     "data": {
      "text/html": [
       "<div>\n",
       "<style scoped>\n",
       "    .dataframe tbody tr th:only-of-type {\n",
       "        vertical-align: middle;\n",
       "    }\n",
       "\n",
       "    .dataframe tbody tr th {\n",
       "        vertical-align: top;\n",
       "    }\n",
       "\n",
       "    .dataframe thead th {\n",
       "        text-align: right;\n",
       "    }\n",
       "</style>\n",
       "<table border=\"1\" class=\"dataframe\">\n",
       "  <thead>\n",
       "    <tr style=\"text-align: right;\">\n",
       "      <th></th>\n",
       "      <th>artist_clean</th>\n",
       "      <th>track_clean</th>\n",
       "    </tr>\n",
       "  </thead>\n",
       "  <tbody>\n",
       "    <tr>\n",
       "      <th>0</th>\n",
       "      <td>elvis costello</td>\n",
       "      <td>(the angels wanna wear my) red shoes</td>\n",
       "    </tr>\n",
       "    <tr>\n",
       "      <th>1</th>\n",
       "      <td>elvis costello and the attractions</td>\n",
       "      <td>(what's so funny 'bout) peace, love and unders...</td>\n",
       "    </tr>\n",
       "    <tr>\n",
       "      <th>2</th>\n",
       "      <td>tiffany page</td>\n",
       "      <td>7 years too late</td>\n",
       "    </tr>\n",
       "    <tr>\n",
       "      <th>3</th>\n",
       "      <td>elvis costello and the attractions</td>\n",
       "      <td>accidents will happen</td>\n",
       "    </tr>\n",
       "    <tr>\n",
       "      <th>4</th>\n",
       "      <td>elvis costello</td>\n",
       "      <td>alison</td>\n",
       "    </tr>\n",
       "  </tbody>\n",
       "</table>\n",
       "</div>"
      ],
      "text/plain": [
       "                         artist_clean  \\\n",
       "0                      elvis costello   \n",
       "1  elvis costello and the attractions   \n",
       "2                        tiffany page   \n",
       "3  elvis costello and the attractions   \n",
       "4                      elvis costello   \n",
       "\n",
       "                                         track_clean  \n",
       "0               (the angels wanna wear my) red shoes  \n",
       "1  (what's so funny 'bout) peace, love and unders...  \n",
       "2                                   7 years too late  \n",
       "3                              accidents will happen  \n",
       "4                                             alison  "
      ]
     },
     "execution_count": 5,
     "metadata": {},
     "output_type": "execute_result"
    }
   ],
   "source": [
    "tracks.head()"
   ]
  },
  {
   "attachments": {},
   "cell_type": "markdown",
   "metadata": {},
   "source": [
    "# spotify\n",
    "Aquí está la docu: https://spotipy.readthedocs.io/en/2.22.0/#\n",
    "\n",
    "Configuro el cliente y le metó las keys para acceder a la API de Spotify y poder sacar datos de las canciones que tengo"
   ]
  },
  {
   "cell_type": "code",
   "execution_count": 6,
   "metadata": {},
   "outputs": [
    {
     "data": {
      "text/plain": [
       "True"
      ]
     },
     "execution_count": 6,
     "metadata": {},
     "output_type": "execute_result"
    }
   ],
   "source": [
    "load_dotenv()"
   ]
  },
  {
   "cell_type": "code",
   "execution_count": 7,
   "metadata": {},
   "outputs": [],
   "source": [
    "id = os.getenv(\"id\")\n",
    "secret = os.getenv(\"secret\")\n",
    "\n",
    "client_credentials_manager = SpotifyClientCredentials(client_id=id, client_secret=secret)\n",
    "sp = spotipy.Spotify(client_credentials_manager=client_credentials_manager, requests_timeout=10, retries=10)"
   ]
  },
  {
   "attachments": {},
   "cell_type": "markdown",
   "metadata": {},
   "source": [
    "Primero voy a sacar el URI de mis canciones. Para ello uso el método de spotipy.search, que permite buscar con una query el nombre del artista y la canción."
   ]
  },
  {
   "cell_type": "code",
   "execution_count": 8,
   "metadata": {},
   "outputs": [],
   "source": [
    "## esto es para obtener una uri --> me voy a sacar los uris para mi data frame\n",
    "artist = 'los del rio'\n",
    "track = 'la macarena'\n",
    "q = 'artist:{} track: {}'.format(artist, track)\n",
    "results = sp.search(q=q, limit=1, type='track')\n",
    "print(results['tracks']['items'][0]['uri'])"
   ]
  },
  {
   "cell_type": "code",
   "execution_count": 10,
   "metadata": {},
   "outputs": [
    {
     "name": "stdout",
     "output_type": "stream",
     "text": [
      "elvis costello --- (the angels wanna wear my) red shoes\n"
     ]
    }
   ],
   "source": [
    "for index, row in tracks.iterrows():\n",
    "    print(row['artist_clean'],'---', row['track_clean'])\n",
    "    break"
   ]
  },
  {
   "cell_type": "code",
   "execution_count": 11,
   "metadata": {},
   "outputs": [
    {
     "name": "stderr",
     "output_type": "stream",
     "text": [
      "  0%|          | 0/2691039 [00:00<?, ?it/s]"
     ]
    }
   ],
   "source": [
    "tqdm.pandas()\n",
    "\n",
    "uris = []\n",
    "for index, row in tqdm(tracks.iterrows(), total = tracks.shape[0]):\n",
    "    q = 'artist:{} track: {}'.format(row['artist_clean'], row['track_clean'])\n",
    "    res = sp.search(q=q, limit=1, type='track')\n",
    "    try:\n",
    "        uri = res['tracks']['items'][0]['uri']\n",
    "        #print(res['tracks']['items'][0]['uri'])\n",
    "        uris.append(uri)\n",
    "    except:\n",
    "        uris.append('')\n",
    "    #break"
   ]
  },
  {
   "attachments": {},
   "cell_type": "markdown",
   "metadata": {},
   "source": [
    "Voy a comprobar que la lista donde me he appendeado todo tiene la misma longitud que mi dataframe, para poder añadir los URIs como una columna"
   ]
  },
  {
   "cell_type": "code",
   "execution_count": null,
   "metadata": {},
   "outputs": [],
   "source": [
    "uris[:3]"
   ]
  },
  {
   "cell_type": "code",
   "execution_count": null,
   "metadata": {},
   "outputs": [],
   "source": [
    "print(len(uris), tracks.shape)"
   ]
  },
  {
   "cell_type": "code",
   "execution_count": null,
   "metadata": {},
   "outputs": [],
   "source": [
    "tracks['URI'] = uris\n",
    "tracks.head()"
   ]
  },
  {
   "attachments": {},
   "cell_type": "markdown",
   "metadata": {},
   "source": [
    "Ahora con el método `'audio_features'` de spotipy quiero sacar las propiedades que tienen las canciones. Para ello, tengo que aportar:\n",
    "- `URI`\n",
    "\n",
    "Y el resultado de cada una de mis consultas, lo almacenaré en una lista de listas que luego appendearé a mi dataframe."
   ]
  },
  {
   "cell_type": "code",
   "execution_count": null,
   "metadata": {},
   "outputs": [],
   "source": [
    "sp.audio_features('spotify:track:3OHfY25tqY28d16oZczHc8')"
   ]
  },
  {
   "cell_type": "code",
   "execution_count": null,
   "metadata": {},
   "outputs": [],
   "source": [
    "type(sp.audio_features('spotify:track:3OHfY25tqY28d16oZczHc8'))"
   ]
  },
  {
   "cell_type": "code",
   "execution_count": null,
   "metadata": {},
   "outputs": [],
   "source": [
    "datos_uris = []\n",
    "for index, row in tracks.iterrows():\n",
    "    uri = sp.audio_features(row['URI'])\n",
    "    datos_uris.append(uri)"
   ]
  },
  {
   "attachments": {},
   "cell_type": "markdown",
   "metadata": {},
   "source": [
    "Y tengo mis datos sobre las canciones, pero tengo que limpiar un poco para poder hacer el append."
   ]
  },
  {
   "cell_type": "code",
   "execution_count": null,
   "metadata": {},
   "outputs": [],
   "source": [
    "type(pd.DataFrame(datos_uris).iloc[0,0]) ## puedo sacar las claves para nombrar a mis columnas"
   ]
  },
  {
   "cell_type": "code",
   "execution_count": null,
   "metadata": {},
   "outputs": [],
   "source": [
    "columnas = list(pd.DataFrame(datos_uris).iloc[0,0].keys())\n",
    "columnas[:5]"
   ]
  },
  {
   "cell_type": "code",
   "execution_count": null,
   "metadata": {},
   "outputs": [],
   "source": [
    "df_uris = pd.DataFrame(datos_uris)\n",
    "df_uris[columnas] = df_uris[0].apply(pd.Series)\n",
    "df_uris.head()"
   ]
  },
  {
   "attachments": {},
   "cell_type": "markdown",
   "metadata": {},
   "source": [
    "Lo junto ahora con mi dataframe inicial y limpio las columnas que no necesite."
   ]
  },
  {
   "cell_type": "code",
   "execution_count": null,
   "metadata": {},
   "outputs": [],
   "source": [
    "tracks = tracks.merge(df_uris, left_on = 'URI', right_on='uri', indicator=True)\n",
    "tracks['_merge'].value_counts() ## compruebo que el cruce se haga con éxito"
   ]
  },
  {
   "cell_type": "code",
   "execution_count": null,
   "metadata": {},
   "outputs": [],
   "source": [
    "tracks.drop([0, 'uri', '_merge'], axis = 1, inplace=True)\n",
    "tracks.head()"
   ]
  },
  {
   "attachments": {},
   "cell_type": "markdown",
   "metadata": {},
   "source": [
    "# Export"
   ]
  },
  {
   "cell_type": "code",
   "execution_count": null,
   "metadata": {},
   "outputs": [],
   "source": [
    "with open('../data/spotify_dataset_spotify.pickle', 'wb') as data_spotify:\n",
    "    pickle.dump(tracks, data_spotify)"
   ]
  }
 ],
 "metadata": {
  "kernelspec": {
   "display_name": "iron",
   "language": "python",
   "name": "python3"
  },
  "language_info": {
   "codemirror_mode": {
    "name": "ipython",
    "version": 3
   },
   "file_extension": ".py",
   "mimetype": "text/x-python",
   "name": "python",
   "nbconvert_exporter": "python",
   "pygments_lexer": "ipython3",
   "version": "3.9.13"
  },
  "orig_nbformat": 4,
  "vscode": {
   "interpreter": {
    "hash": "e59d0b279e6461be5b4ea7b62838527cd8f41f3cbc9a1147b1a83b32d75ab689"
   }
  }
 },
 "nbformat": 4,
 "nbformat_minor": 2
}
